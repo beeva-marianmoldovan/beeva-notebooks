{
 "metadata": {
  "name": ""
 },
 "nbformat": 3,
 "nbformat_minor": 0,
 "worksheets": [
  {
   "cells": [
    {
     "cell_type": "code",
     "collapsed": false,
     "input": [
      "import haul"
     ],
     "language": "python",
     "metadata": {},
     "outputs": [],
     "prompt_number": 1
    },
    {
     "cell_type": "code",
     "collapsed": false,
     "input": [
      "base = haul.find_images('http://9gag.com', extend=True)"
     ],
     "language": "python",
     "metadata": {},
     "outputs": [],
     "prompt_number": 4
    },
    {
     "cell_type": "code",
     "collapsed": false,
     "input": [
      "base.image_urls"
     ],
     "language": "python",
     "metadata": {},
     "outputs": [
      {
       "metadata": {},
       "output_type": "pyout",
       "prompt_number": 5,
       "text": [
        "[u'http://img-9gag-ftw.9cache.com/photo/aB39Zqz_460s.jpg',\n",
        " u'http://img-9gag-ftw.9cache.com/photo/azEgroN_460s.jpg',\n",
        " u'http://img-9gag-ftw.9cache.com/photo/agvrepn_460s.jpg',\n",
        " u'http://img-9gag-ftw.9cache.com/photo/aby3QY8_460s_v1.jpg',\n",
        " u'http://img-9gag-ftw.9cache.com/photo/am0qWD4_460s.jpg',\n",
        " u'http://img-9gag-ftw.9cache.com/photo/aj0Qvd0_460s.jpg',\n",
        " u'http://img-9gag-ftw.9cache.com/photo/axZEeX2_460s.jpg',\n",
        " u'http://img-9gag-ftw.9cache.com/photo/ar41GeX_460s.jpg',\n",
        " u'http://miscmedia-9gag-lol.9gaging.com/images/long-post-cover/15068155_1422597735.8502_hERyja_460c.jpg',\n",
        " u'http://img-9gag-ftw.9cache.com/photo/am0q1N9_460s_v1.jpg',\n",
        " u'//t.9gag.com/b.gif?_v=q1YqyExRslJKL8ovLdDNySwuAWElHaXi1OJkJavo2FoA&pid=group-listlist&ts=1422616952&pf=d&u=http%3A%2F%2F9gag.com%2F&bid=00000']"
       ]
      }
     ],
     "prompt_number": 5
    },
    {
     "cell_type": "code",
     "collapsed": false,
     "input": [],
     "language": "python",
     "metadata": {},
     "outputs": []
    }
   ],
   "metadata": {}
  }
 ]
}