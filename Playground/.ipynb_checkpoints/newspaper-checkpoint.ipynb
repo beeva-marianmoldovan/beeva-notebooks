{
 "metadata": {
  "name": ""
 },
 "nbformat": 3,
 "nbformat_minor": 0,
 "worksheets": [
  {
   "cells": [
    {
     "cell_type": "code",
     "collapsed": false,
     "input": [
      "import newspaper"
     ],
     "language": "python",
     "metadata": {},
     "outputs": [],
     "prompt_number": 21
    },
    {
     "cell_type": "code",
     "collapsed": false,
     "input": [
      "newspaper.languages()"
     ],
     "language": "python",
     "metadata": {},
     "outputs": [
      {
       "output_type": "stream",
       "stream": "stdout",
       "text": [
        "\n",
        "Your available languages are:\n",
        "\n",
        "input code\t\tfull name\n",
        "  ar\t\t\t  Arabic\n",
        "  es\t\t\t  Spanish\n",
        "  en\t\t\t  English\n",
        "  vi\t\t\t  Vietnamese\n",
        "  sv\t\t\t  Swedish\n",
        "  hu\t\t\t  Hungarian\n",
        "  id\t\t\t  Indonesian\n",
        "  it\t\t\t  Italian\n",
        "  no\t\t\t  Norwegian\n",
        "  fi\t\t\t  Finnish\n",
        "  zh\t\t\t  Chinese\n",
        "  nl\t\t\t  Dutch\n",
        "  pt\t\t\t  Portuguese\n",
        "  fr\t\t\t  French\n",
        "  da\t\t\t  Danish\n",
        "  ru\t\t\t  Russian\n",
        "  ko\t\t\t  Korean\n",
        "  nb\t\t\t  Norwegian (Bokm\u00e5l)\n",
        "  de\t\t\t  German\n",
        "\n"
       ]
      }
     ],
     "prompt_number": 22
    },
    {
     "cell_type": "code",
     "collapsed": false,
     "input": [
      "diario = newspaper.build('http://eldiario.es')"
     ],
     "language": "python",
     "metadata": {},
     "outputs": [],
     "prompt_number": 25
    },
    {
     "cell_type": "code",
     "collapsed": false,
     "input": [
      "for article in diario.articles:\n",
      "    print article.url"
     ],
     "language": "python",
     "metadata": {},
     "outputs": [
      {
       "output_type": "stream",
       "stream": "stdout",
       "text": [
        "http://www.guerraeterna.com/michelle-obama-cool-pero-no-heroina/\n",
        "http://eldiario.es/hojaderouter/tecnologia/sindrome_del_cautiverio-la_escafandra_y_la_mariposa-bci_0_335966571.html\n",
        "http://eldiario.es/hojaderouter/emprendedores/stanford-negocios-emprendimiento-reto_de_los_cinco_euros_0_275772621.html\n",
        "http://da.feedsportal.com/r/218611205201/u/0/f/657627/c/35120/s/42d3ee97/sc/36/rc/1/rc.htm\n",
        "https://www.reddit.com/r/IAmA/comments/138yi5/i_am_al_gore_founder_and_chairman_of_the_climate\n",
        "http://da.feedsportal.com/r/218611205201/u/0/f/657627/c/35120/s/42d3ee97/sc/36/rc/2/rc.htm\n",
        "http://eldiario.es/zonacritica/Podemos_bajo_la_lupa_6_351074920.html\n",
        "http://www.diariodesevilla.es/article/andalucia/1859932/diaz/avala/pacto/con/iu/pero/aviva/nuevo/la/opci\n",
        "http://eldiario.es/hojaderouter/tecnologia/copyright-nanoarte-derechos_de_autor-propiedad_intelectual_0_338066199.html\n",
        "http://www.losproductosnaturales.com/2012/07/el-cachondisimo-destino-de-la-estevia.html\n",
        "http://eldiario.es/hojaderouter/tecnologia/tecnologia-desigualdad-londres-tech_city_0_292220823.html\n",
        "http://eldiario.es/hojaderouter/internet/poker-online-impuestos-legislacion-espana-londres_0_325818474.html\n",
        "http://hemerotek.com/2015/01/22/entusiasmo-inversor-con-viuing/\n",
        "http://eldiario.es/sociedad/mujeres-victimas-violencia-genero-anos_0_204030440.html\n",
        "http://www.diariodesevilla.es/article/andalucia/1566903/susana/diaz/no/descarta/adelantar/las/elecciones\n",
        "http://da.feedsportal.com/r/218611199610/u/0/f/657626/c/35120/s/42d81440/sc/42/rc/1/rc.htm\n",
        "http://www.losproductosnaturales.com/2013/08/un-pseudomedico-llamado-josep-pamies.html\n",
        "http://www.eldiario.es/temas/india-_la_cuna_de_la_pobreza/\n",
        "http://elasombrario.com/juan-cantavella-la-corrupcion-valenciana-como-inspiracion/\n",
        "http://eldiario.es/hojaderouter/ciencia/desaparicion-lenguaje_de_signos-implantes_cocleares-extincion_0_275772516.html\n",
        "http://eldiario.es/canariasahora/tribunales/Justicia-razon-Gobierno-Canarias-litigio-director-CajaCanarias-Arvelo_0_351015603.html\n",
        "http://www.eldiario.es/economia/Audiencia-recolocaciones-afectados-ERE-Coca-Cola_0_349965286.html\n",
        "http://eldiario.es/desalambre/implicados/Presupuestos-cooperacion-puede-hacer_0_313219209.html\n",
        "http://www.guerraeterna.com/la-culpa-es-de-los-ninos-no-del-que-dispara/\n",
        "http://eldiario.es/agendapublica/nueva-politica/alternativa-progresista_0_220478560.html\n",
        "http://eldiario.es/agendapublica/blog/Entrevista-Angel-Pascual-Ramsay-actuamos-evitarlo_6_69703032.html\n",
        "http://eldiario.es/savethechildren/ebola-Sierra_Leona-Save_the_Children_6_348275186.html\n",
        "http://da.feedsportal.com/r/218611199609/u/0/f/657626/c/35120/s/42d81444/sc/42/rc/3/rc.htm\n",
        "http://www.eldiario.es/economia/consejeros-Caja-Madrid-tarjetas-limites_0_206830123.html\n",
        "http://elasombrario.com/las-cajitas-de-victoria-iglesias-con-esencia-de-famosos/\n",
        "http://www.losproductosnaturales.com/2013/05/especial-en-nature-sobre-cultivos.html\n",
        "http://eldiario.es/hojaderouter/internet/W3C-historia-funcionamiento-internet-web-Tim_Berners-Lee_0_345765500.html\n",
        "http://eldiario.es/hojaderouter/internet/internet-email-spam-correo_electronico-fraude_0_320918231.html\n",
        "http://eldiario.es/ http://www.jotdown.es/2015/01/paninaro-una-revolucion-consumista/\n",
        "http://eldiario.es/redaccion/eldiarioes-colaborador-herramienta-filtraciones-Filtrala_6_252034807.html#comments\n",
        "http://www.eldiario.es/internacional/palestinos-eliminados-bombardeo-guerra-israeli_0_282072553.html\n",
        "http://eldiario.es/agendapublica/nueva-politica/Tripartidismo-nuevo-escenario-ingobernabilidad_0_320218267.html\n",
        "https://ksj.mit.edu/tracker/2014/05/confrontaci%C3%B3n-buylla-mulet-sobre-transg%C3%A9\n",
        "http://carnecruda.es/2014/11/06/hoja-de-router-06-11-14/\n",
        "http://www.eldiario.es/politica/Tomas-Gomez-libertad-PSM-division_0_271923586.html\n",
        "http://www.eldiario.es/defensor/palabras-prohibidas_6_221937806.html\n",
        "http://eldiario.es/hojaderouter/tecnologia/hardware/circuitos_impresos-mascara_de_soldadura-PCB-verde_0_275772820.html\n",
        "http://elasombrario.com/lo-mejor-de-madrid-del-29-de-enero-al-4-de-febrero/\n",
        "http://eldiario.es/hojaderouter/tecnologia/hackaton-hackatones-proyectos_absurdos-NYU-Tinder_para_bebes_0_329317273.html\n",
        "https://www.reddit.com/r/IAmA/comments/t1ygb/iama_nobel_prizewinning_economist_and_new_york\n",
        "http://eldiario.es/hojaderouter/tecnologia/moviles/tecnologia-moviles-politonos-melodias-Nokia-MIDI_0_307969373.html\n",
        "http://da.feedsportal.com/r/218611199609/u/0/f/657626/c/35120/s/42d81444/sc/42/rc/2/rc.htm\n",
        "http://www.eldiario.es/contrapoder/Contrapoder_6_197090315.html\n",
        "http://da.feedsportal.com/r/218611205201/u/0/f/657627/c/35120/s/42d3ee97/sc/36/a2.htm\n",
        "http://eldiario.es/desalambre/futbol-negocio-consumo-infancia_0_209979268.html\n",
        "http://eldiario.es/campobase/noticias/Cerro_Torre-Travesia_Oso_Buda-Colin_Haley-Marc-Andre_Leclerc_0_351015042.html\n",
        "http://da.feedsportal.com/r/218611205200/u/0/f/657627/c/35120/s/42d3ee9d/sc/42/rc/1/rc.htm\n",
        "http://da.feedsportal.com/r/218611199609/u/0/f/657626/c/35120/s/42d81444/sc/42/rc/1/rc.htm\n",
        "http://eldiario.es/desalambre/locura-guerra_12_311938805.html\n",
        "http://eldiario.es/hojaderouter/internet/Trafico_de_especies-CITES-venta_ilegal_de_animales-SEPRONA_0_338766334.html\n",
        "http://www.thetoc.gr/eng/politics/article/who-is-panos-kammenos\n",
        "http://www.losproductosnaturales.com/2011/03/el-glifosato-no-produce-malformaciones.html\n",
        "http://www.eldiario.es/economia/aviacion-comercial-paraisos_fiscales-sindicato_de_pilotos-Ryanair-Norwegian_Air_0_335967327.html\n",
        "http://eldiario.es/cv/corrupcion/Anticorrupcion-traduccion-Ecclestone-F-1-Camps_0_351015552.html\n",
        "http://da.feedsportal.com/r/218611205200/u/0/f/657627/c/35120/s/42d3ee9d/sc/42/rc/3/rc.htm\n",
        "http://eldiario.es/economia/Enresa-enriquecimiento-presidente-cargados-tarjeta_0_319518563.html\n",
        "http://www.foxnews.com/politics/2015/01/02/exclusive-us-vet-says-fighting-in-syria-was-as-easy-as-buying-airplane-ticket/\n",
        "http://eldiario.es/economia/Indra-Abril-Martorell-sustitucion-Javier-Monzon_0_351015012.html\n",
        "http://jubileedebt.org.uk/reports-briefings/briefing/six-key-points-greek-debt-weeks-election\n",
        "http://noticias.lainformacion.com/espana/susana-diaz-podria-haber-convocado-elecciones-anticipadas-por-e\n",
        "http://lacienciaysusdemonios.com/2013/07/23/el-suplemento-mineral-milagroso-mms-2-0/#more-32749\n",
        "http://eldiario.es/hojaderouter/ciencia/test_de_turing-alternativas-inteligencia_artificial-robots_0_345415680.html\n",
        "https://www.meneame.net/m/Preg%C3%BAntame/hola-soy-tania-sanchez-candidata-iu-comunidad-madrid-preguntame\n",
        "http://www.jotdown.es/2015/01/por-amor-y-por-deber-el-milagro-del-cordero-mistico/\n",
        "http://eldiario.es/hojaderouter/tecnologia/acelerometro-funciones-giroscopio-GPS-interior-magnetometro-sensor-sensor_de_humedad-sensor_de_temperatura-telefono_movil_0_275772515.html\n",
        "http://eldiario.es/contrapoder/Charlie_Hebdo-libertad_de_expresion-fundamentalismo_6_348275192.html\n",
        "http://eldiario.es/agendapublica/impacto_social/Critica-falacias-economicas-imperantes_0_198430263.html\n",
        "http://da.feedsportal.com/r/218611199610/u/0/f/657626/c/35120/s/42d81440/sc/42/a2.htm\n",
        "http://eldiario.es/hojaderouter/internet/economia-internet-plataformas_P2P-prestamos_P2P_0_341916037.html\n",
        "http://eldiario.es/desde-todas-partes/Indignacion-exiliados-griegos-negado-derecho-voto-Marea_Granate-Grecia_6_350724943.html\n",
        "http://eldiario.es/hojaderouter/nexo/Xavi_Verdaguer-entrevista-Nexo-Carlos_E-_Gomez-emprendimiento-Espana-Silicon_Valley_6_347925210.html\n",
        "https://www.reddit.com/r/IAmA/comments/22sber/i_am_peter_dinklage_you_probably_know_me_as\n",
        "http://da.feedsportal.com/r/218611205200/u/0/f/657627/c/35120/s/42d3ee9d/sc/42/a2.htm\n",
        "http://da.feedsportal.com/r/218611205200/u/0/f/657627/c/35120/s/42d3ee9d/sc/42/rc/2/rc.htm\n",
        "http://eldiario.es/hojaderouter/internet/Anonymous-ciberactivismo-hacker-hacketivismo-internet-twitter-Ucrania-Venezuela_0_276122423.html\n",
        "http://eldiario.es/hojaderouter/tecnologia/sheri-s_ranch-prostibulo-burdel-las_vegas-consumer_electronics_show-CES_0_342615780.html\n",
        "http://cultura.elpais.com/cultura/2014/11/13/babelia/1415884397_365889.html\n",
        "http://eldiario.es/hojaderouter/tecnologia/pirateria-cine-pornografia_infantil-Estados_Unidos-perros-policia-olfato_0_343316574.html\n",
        "http://www.eldiario.es/defensor/arte-titular_6_194640561.html\n",
        "http://eldiario.es/cienciacritica/Fuga_de_cerebros-CSIC-Lora-Tamayo-I-D-gasto-capital_humano_6_351074890.html\n",
        "http://wiki.answers.com/Q/What_is_the_difference_between_murder_and_manslaughter\n",
        "http://da.feedsportal.com/r/218611205201/u/0/f/657627/c/35120/s/42d3ee97/sc/36/rc/3/rc.htm\n",
        "http://eldiario.es/hojaderouter/tecnologia/Wasselni-Uber-Gaza-compartir-viajes-taxi_0_337717151.html\n",
        "http://eldiario.es/hojaderouter/emprendedores/comercio_exterior-exportaciones-aceite_de_oliva-vino-embutido-citricos_0_344715682.html\n",
        "http://carnecruda.es/2015/01/22/autismo-tecnologia/\n",
        "http://vozpopuli.com/economia-y-finanzas/56204-el-informe-de-los-peritos-ya-condena-a-bankia-un-juez-acepta-la-tesis-de-las-cuentas-falsas\n",
        "http://www.eldiario.es/politica/Pedro_del_Cura-Ayuntamiento_de_Rivas-crisis_IU-Podemos-elecciones_europeas_0_277872521.html\n",
        "http://economia.elpais.com/economia/2013/04/22/actualidad/1366624118_942365.html\n",
        "http://eldiario.es/sociedad/Monica-Oriol-construye-mansion-nacional_0_320568732.html\n",
        "http://eldiario.es/agendapublica/nueva-politica/informado-conectado-votante-Podemos_0_296420682.html\n",
        "http://eldiario.es/contrapoder/razon_de_los_impuestos_6_350724940.html\n",
        "http://eldiario.es/hojaderouter/internet/Whatsapp-relaciones-problemas_de_pareja-detectives-abogados-consejeros_matrimoniales_0_348915726.html\n",
        "http://eldiario.es/cultura/libros/Maquiavelo-El_principe-aniversario-biografia_0_191431465.html\n",
        "http://eldiario.es/hojaderouter/tecnologia/arte-privacidad-borrar_disco_duro-datos_personales_0_336316368.html\n",
        "http://www.guerraeterna.com/archives/2009/05/la_posicion_poc.html\n",
        "http://eldiario.es/hojaderouter/internet/internet_de_las_cosas-M2M-operadoras_0_331766937.html\n",
        "http://www.europapress.es/andalucia/sevilla-00357/noticia-susana-diaz-quiero-gobernar-solitario-20140907100831.html\n",
        "http://da.feedsportal.com/r/218611199610/u/0/f/657626/c/35120/s/42d81440/sc/42/rc/3/rc.htm\n",
        "http://eldiario.es/sociedad/Aznar-Oriol-particular-corazon-parque-regional_0_323368362.html\n",
        "http://eldiario.es/hojaderouter/tecnologia/metodos-anticonceptivos-aplicaciones-dispositivos-moviles-daysy_0_340166104.html\n",
        "http://eldiario.es/el-holocausto-espa\u00f1ol/gusen-mauthausen-nazi-deportado-franco-suner-himmler-hitler_6_349325071.html\n",
        "http://www.elconfidencial.com/economia/2012/05/25/bankia-reconoce-que-no-gano-309-millones-en-2011-perdio-mas-de-3000-98749\n",
        "http://eldiario.es/hojaderouter/internet/paginas-ana-mia-anorexia-bulimia-leyes-espana_0_298170489.html\n",
        "http://eldiario.es/desalambre/Marruecos_0_293620856.html\n",
        "http://da.feedsportal.com/r/218611199610/u/0/f/657626/c/35120/s/42d81440/sc/42/rc/2/rc.htm\n",
        "http://eldiario.es/hojaderouter/tecnologia/hardware/disco_duro-almacenamiento-duracion-tecnologia-ordenadores-materiales-big_data_0_348565393.html\n",
        "http://da.feedsportal.com/r/218611199609/u/0/f/657626/c/35120/s/42d81444/sc/42/a2.htm\n",
        "http://www.guerraeterna.com/parecia-que-los-proyectiles-les-estaban-persiguiendo/\n",
        "http://eldiario.es/redaccion/Debate-Libertad_de_Expresion-Charlie_Hebdo_6_344075611.html\n",
        "http://www.reasonwhy.es/actualidad/digital/una-explicacion-visual-del-proceso-de-la-publicidad-programatica\n",
        "http://www.eldiario.es/economia/Enresa-enriquecimiento-presidente-cargados-tarjeta_0_319518563.html\n",
        "http://www.eldiario.es/contrapoder/Javier_Cercas-memoria_historica-memoria_democratica_6_325527455.html\n"
       ]
      }
     ],
     "prompt_number": 26
    },
    {
     "cell_type": "code",
     "collapsed": false,
     "input": [
      "for category in diario.category_urls():\n",
      "    print category"
     ],
     "language": "python",
     "metadata": {},
     "outputs": [
      {
       "output_type": "stream",
       "stream": "stdout",
       "text": [
        "http://eldiario.es\n",
        "http://eldiario.es/licencia\n",
        "http://www.eldiario.es\n",
        "http://eldiario.es/redaccion\n",
        "http://images.eldiario.es\n",
        "http://eldiario.es/agendapublica\n",
        "http://eldiario.es/sociedad\n",
        "http://eldiario.es/politica\n",
        "http://eldiario.es/desalambre\n",
        "http://eldiario.es/defensor\n",
        "https://seguro.eldiario.es\n",
        "http://eldiario.es/contrapoder\n",
        "http://eldiario.es/que_es\n",
        "http://eldiario.es/hojaderouter\n",
        "http://eldiario.es/internacional\n",
        "http://eldiario.es/economia\n",
        "http://eldiario.es/el_equipo\n",
        "http://eldiario.es/logout.json\n"
       ]
      }
     ],
     "prompt_number": 27
    },
    {
     "cell_type": "code",
     "collapsed": false,
     "input": [
      "categories = diario.category_urls()"
     ],
     "language": "python",
     "metadata": {},
     "outputs": [],
     "prompt_number": 35
    },
    {
     "cell_type": "code",
     "collapsed": false,
     "input": [
      "for index, value in enumerate(categories):\n",
      "    print index, value"
     ],
     "language": "python",
     "metadata": {},
     "outputs": [
      {
       "output_type": "stream",
       "stream": "stdout",
       "text": [
        "0 http://eldiario.es\n",
        "1 http://eldiario.es/licencia\n",
        "2 http://www.eldiario.es\n",
        "3 http://eldiario.es/redaccion\n",
        "4 http://images.eldiario.es\n",
        "5 http://eldiario.es/agendapublica\n",
        "6 http://eldiario.es/sociedad\n",
        "7 http://eldiario.es/politica\n",
        "8 http://eldiario.es/desalambre\n",
        "9 http://eldiario.es/defensor\n",
        "10 https://seguro.eldiario.es\n",
        "11 http://eldiario.es/contrapoder\n",
        "12 http://eldiario.es/que_es\n",
        "13 http://eldiario.es/hojaderouter\n",
        "14 http://eldiario.es/internacional\n",
        "15 http://eldiario.es/economia\n",
        "16 http://eldiario.es/el_equipo\n",
        "17 http://eldiario.es/logout.json\n"
       ]
      }
     ],
     "prompt_number": 49
    },
    {
     "cell_type": "code",
     "collapsed": false,
     "input": [
      "cover = diario.articles[1]"
     ],
     "language": "python",
     "metadata": {},
     "outputs": [],
     "prompt_number": 95
    },
    {
     "cell_type": "code",
     "collapsed": false,
     "input": [
      "cover.download()\n",
      "cover.parse()"
     ],
     "language": "python",
     "metadata": {},
     "outputs": [],
     "prompt_number": 96
    },
    {
     "cell_type": "code",
     "collapsed": false,
     "input": [
      "print cover.url\n",
      "print cover.authors\n",
      "print cover.title\n",
      "print cover.text\n",
      "print cover.top_image\n",
      "print cover.imgs\n",
      "print cover.movies"
     ],
     "language": "python",
     "metadata": {},
     "outputs": [
      {
       "output_type": "stream",
       "stream": "stdout",
       "text": [
        "http://eldiario.es/hojaderouter/tecnologia/sindrome_del_cautiverio-la_escafandra_y_la_mariposa-bci_0_335966571.html\n",
        "[]\n",
        "cuando el enfermo escribe con su mente en un ordenador\n",
        "Imagina como ser\u00eda ver el mundo a trav\u00e9s de una escafandra, sin poder moverte ni comunicarte pero siendo consciente de todo lo que ocurre a tu alrededor. Esa es la dura situaci\u00f3n de aquellos que sufren el s\u00edndrome de enclaustramiento o s\u00edndrome del cautiverio, un trastorno fruto de alg\u00fan tipo de accidente cerebrovascular que da\u00f1a el tronco cerebral y dificulta, por tanto, la conexi\u00f3n entre el \u00f3rgano y el resto del cuerpo.\n",
        "\n",
        "Esta dura enfermedad se hizo famosa gracias a la descripci\u00f3n que hizo de ella Jean-Dominique Bauby en sus memorias, tituladas ' La escafandra y la mariposa', que dict\u00f3 mediante el parpadeo de su ojo.\n",
        "\n",
        "\u201cMi vida dio un vuelco el viernes 8 de diciembre del pasado a\u00f1o. Hasta entonces jam\u00e1s hab\u00eda o\u00eddo hablar del tronco cerebral. Aquel d\u00eda descubr\u00ed de golpe y porrazo esa pieza maestra de nuestro ordenador de a bordo, cuando un accidente cerebrovascular puso dicho tronco fuera de circulaci\u00f3n. Sobrevives, pero inmerso en lo que la medicina anglosajona ha bautizado con toda justicia como 'locked-in syndrom': paralizado de los pies a la cabeza, el paciente permanece encerrado en el interior de s\u00ed mismo, con la mente intacta y el parpadeo del ojo izquierdo como \u00fanico medio de comunicaci\u00f3n\u201d, escrib\u00eda Bauby.\n",
        "\n",
        "Una experiencia similar se vio obligado a atravesar Barry Beck, un conocido ge\u00f3logo y autor de varios libros, que en 2009 sufri\u00f3 una serie de golpes que le dejaron cautivo de s\u00ed mismo, construyendo una barrera infranqueable entre \u00e9l y el mundo. \"La primera vez que lo vi pod\u00eda mover levemente el p\u00e1rpado, era la \u00fanica manera que ten\u00eda de comunicarse\u201d, aseguraba Eric Sellers, director del laboratorio de interfaz cerebro-ordenador en la Universidad Estatal del Este de Tennessee, a la emisora de radio NPR.\n",
        "\n",
        "El investigador, conocido por sus estudios sobre la actividad cerebral y c\u00f3mo puede ser medida y usada para controlar ordenadores, y ayudar as\u00ed a comunicarse a las personas con discapacidad motora severa, reconoc\u00eda que el s\u00edndrome de Beck era uno de los m\u00e1s acentuados que hab\u00eda visto a lo largo de su carrera.\n",
        "\n",
        "Sin embargo, todav\u00eda hab\u00eda un atisbo de esperanza. Pod\u00edan tratar de abrir alguna grieta en aquella barrera que aislaba a Beck del mundo. La responsable de conseguirlo fue su esposa, que se enter\u00f3 de las investigaciones que Sellers estaba llevando a cabo y contact\u00f3 con \u00e9l. Diez meses despu\u00e9s del accidente cerebrobascular del ge\u00f3logo, Seller y su equipo comenzaron a trabajar con el paciente con una interfaz cerebro\u2013ordenador (BCI por sus siglas en ingl\u00e9s).\n",
        "\n",
        "Sellers describe la tecnolog\u00eda como un \u201cteclado virtual\u201d. \"En lugar de usar sus manos para presionar las teclas, utiliza ondas cerebrales para hacerlo\", afirma el investigador en un art\u00edculo publicado el pasado octubre en la revista Science Translational Medicine.\n",
        "\n",
        "Colocan al paciente una serie de electrodos no invasivos en la cabeza y lo sientan frente a un monitor que tiene la imagen de un teclado. Grupos de letras van parpadeando al azar. \"Si quieres elegir la A, el cerebro presta atenci\u00f3n a esa letra\u201d, explica Sellers, que se\u00f1ala que a este tipo de respuesta se la denomina P300. \u201cEste P300 es como un 'aj\u00e1', por lo que su cerebro piensa algo as\u00ed como 'aj\u00e1, esa es la letra que quiero seleccionar'\".\n",
        "\n",
        "Esta tecnolog\u00eda se ha utilizado para ayudar a personas con esclerosis lateral amiotr\u00f3fica a redactar mensajes o a controlar sillas de ruedas y pr\u00f3tesis con el pensamiento. Sin embargo, la novedad est\u00e1 en que Beck ha sido uno de los primeros pacientes con una lesi\u00f3n del tronco cerebral severa en emplear esta t\u00e9cnica con \u00e9xito.\n",
        "\n",
        "Los principios b\u00e1sicos de las BCI, interfaces cerebro-ordenador\n",
        "\n",
        "\u201c Gracias por tu duro trabajo\u201d\n",
        "\n",
        "Antes de enfrentar a Beck al abecedario completo, Sellers y su equipo comenzaron s\u00f3lo con cuatro letras: \u201cY\u201d para s\u00ed, \u201cN\u201d para no, \u201cP\u201d de paso y \u201cE\u201d para finalizar. Una vez que el equipo comprob\u00f3 que Beck era capaz de usar este sistema, fueron realizando ajustes para poder presentarle todo el alfabeto, y que pudiera as\u00ed deletrear palabras. \u201cUno de los primeros mensajes que deletre\u00f3 fue dirigido a su mujer. Dec\u00eda: 'Gracias por tu duro trabajo'. Me pidi\u00f3 tambi\u00e9n que el sistema fuera m\u00e1s r\u00e1pido y yo le respond\u00ed que estaba esforz\u00e1ndome al m\u00e1ximo\u201d.\n",
        "\n",
        "El laboratorio experiment\u00f3 incluso con programas de ortograf\u00eda predictivos, como los que emplean los 'smartphones' para anticiparse al mensaje que los usuarios est\u00e1n tratando de escribir. El esfuerzo y la paciencia que demostr\u00f3 Beck a la hora de enfrentarse al teclado dio sus frutos: \u201cAdem\u00e1s de ayudarle a comunicarse, fue tambi\u00e9n algo muy satisfactorio para su mujer, que pudo saber que su marido todav\u00eda estaba ah\u00ed, con la mayor\u00eda de su cerebro cognitivamente intacto. Sus hijos tambi\u00e9n pudieron visitarle mientras utilizaba el BCI, por lo que los efectos se notaron tambi\u00e9n en la familia\u201d.\n",
        "\n",
        "Sellers y su equipo trabajaron con Beck durante 13 meses, realizando terapias en el hogar de ancianos en que viv\u00eda, hasta que muri\u00f3 en noviembre de 2011 a los 67 a\u00f1os. Durante todo el tiempo que particip\u00f3 en el proyecto, Beck ayud\u00f3 a que la tecnolog\u00eda se hiciese m\u00e1s accesible para los pacientes con s\u00edndrome de cautiverio. \"Los que participan en nuestro programa se dan cuenta de que ellos, posiblemente, nunca lleguer\u00e1n a disfrutar esta tecnolog\u00eda, pero son conscientes de lo importante que puede ser para personas que est\u00e1n en situaciones similares\", afirma Sellers.\n",
        "\n",
        "De hecho, el sue\u00f1o del cient\u00edfico es un futuro en el que la t\u00e9cnica BCI est\u00e9 disponible en los hospitales. \"Si alguien tuviera alg\u00fan tipo de lesi\u00f3n, un accidente automovil\u00edstico o algo as\u00ed, y tiene que ser intubado y conectado a un respirador, me es f\u00e1cil imaginar esas salas de emergencia con esta tecnolog\u00eda\u201d.\n",
        "\n",
        "-----------------\n",
        "\n",
        "Las im\u00e1genes de este reportaje son propiedad, por orden de aparici\u00f3n, de Pixabay y la Universidad Estatal del Este de Tennessee\n",
        "http://images.eldiario.es/hojaderouter/escafandrajpg_EDIIMA20141217_0239_3.jpg\n",
        "[u'http://static1.eldiario.es/static/EDIDiarioRD/images/btn_haztesocio_contrib.png?hash=dd86e0c420e451b8bb4b2f72b78d0bb0', u'http://images.eldiario.es/hojaderouter/pacientes-anorexia-Foto-Luaxan-deviantartcom_EDIIMA20140831_0314_22.jpg', u'http://static2.eldiario.es/static/EDIDiario/images/bg_mem_transp.png?hash=9bb564e29edf072b501d45371a67a896', u'http://images.eldiario.es/hojaderouter/escafandrajpg_EDIIMA20141217_0239_13.jpg', u'http://eldiario.es/static/EDIDiario/images/facebook-default-photo.jpg', u'http://images.eldiario.es/hojaderouter/Vint-Cerf-ICANN-Foto-Flickr_EDIIMA20140812_0159_17.jpg', u'http://images.eldiario.es/hojaderouter/bcijpg_EDIIMA20141217_0238_13.jpg', u'http://static1.eldiario.es/static/EDIDiarioRD/images/ico_comments-up.png?hash=bbff8d0b9a45c3e45786eeac63c56a15', u'http://googleads.g.doubleclick.net/pagead/viewthroughconversion/990082100/?value=0&guid=ON&script=0', u'http://static1.eldiario.es/bbtfile/3021_20140429o2sN4q.jpg', u'http://eldiario.es/bbtstats/pixel.gif?category=30&entityId=11922&rand=498148736', u'http://images.eldiario.es/hojaderouter/Cfakepath368042987398263ef9zjpg_EDIIMA20150126_0013_14.jpg', u'http://images.eldiario.es/hojaderouter/miembro-Anonymous-Foto-gaelx-Flickr_EDIIMA20140629_0150_18.jpg', u'http://images.eldiario.es/hojaderouter/Cfakepath11945696993fea315fc1bo_EDIIMA20141119_0005_21.jpg', u'http://www.eldiario.es/hojaderouter/social_EDIFIL20140706_0001.png', u'http://images.eldiario.es/hojaderouter/distinguir-circuito-Foto-gpmacklin-Flickr_EDIIMA20140628_0708_17.jpg', u'https://www.facebook.com/tr?id=848494001839293&ev=PixelInitialized', u'http://static1.eldiario.es/static/BBTCore/images/pixel.gif?hash=df3e567d6f16d040326c7a0ea29a4f41', u'http://images.eldiario.es/hojaderouter/escafandrajpg_EDIIMA20141217_0239_3.jpg', u'http://eldiario.es/bbtstats/pixel.gif?category=1&entityId=EDINWS20141217_0171&rand=2138468842', u'http://static2.eldiario.es/static/EDIDiarioRD/images/logo-contrib-footer.png?hash=09db7761644540803d86ab54684772df', u'http://static1.eldiario.es/static/EDIDiarioRD/images/logo3.png?hash=6509d2c4071d30e52950870a31c4645e', u'http://b.scorecardresearch.com/p?c1=2&c2=14906276&cv=2.0&cj=1', u'http://images.eldiario.es/hojaderouter/Nina-abecedario-Foto-SaraSmo-Flickr_EDIIMA20140628_0136_18.jpg', u'http://static2.eldiario.es/static/EDIDiario/images/btn_menealo.png?hash=6c4cad78d2f385ce8b9447d8bfaadffe', u'http://images.eldiario.es/hojaderouter/Clase-Stanford-Simon-Foto-Instagram_EDIIMA20140628_0286_16.jpg', u'http://static1.eldiario.es/static/EDIDiarioRD/images/ico_comments-down.png?hash=a765e44d701446414c7018e76a8f0ef7']\n",
        "[]\n"
       ]
      }
     ],
     "prompt_number": 105
    },
    {
     "cell_type": "code",
     "collapsed": false,
     "input": [
      "cover.nlp()"
     ],
     "language": "python",
     "metadata": {},
     "outputs": [],
     "prompt_number": 99
    },
    {
     "cell_type": "code",
     "collapsed": false,
     "input": [
      "print cover.keywords\n",
      "print cover.summary"
     ],
     "language": "python",
     "metadata": {},
     "outputs": [
      {
       "output_type": "stream",
       "stream": "stdout",
       "text": [
        "[u'el', u'en', u'mente', u'para', u'la', u'ordenador', u'cuando', u'su', u'escribe', u'beck', u'enfermo', u'del', u'y', u'que', u'los']\n",
        "De hecho, el sue\u00f1o del cient\u00edfico es un futuro en el que la t\u00e9cnica BCI est\u00e9 disponible en los hospitales.\n",
        "Sellers y su equipo trabajaron con Beck durante 13 meses, realizando terapias en el hogar de ancianos en que viv\u00eda, hasta que muri\u00f3 en noviembre de 2011 a los 67 a\u00f1os.\n",
        "\"En lugar de usar sus manos para presionar las teclas, utiliza ondas cerebrales para hacerlo\", afirma el investigador en un art\u00edculo publicado el pasado octubre en la revista Science Translational Medicine.\n",
        "Durante todo el tiempo que particip\u00f3 en el proyecto, Beck ayud\u00f3 a que la tecnolog\u00eda se hiciese m\u00e1s accesible para los pacientes con s\u00edndrome de cautiverio.\n",
        "Sus hijos tambi\u00e9n pudieron visitarle mientras utilizaba el BCI, por lo que los efectos se notaron tambi\u00e9n en la familia\u201d.\n"
       ]
      }
     ],
     "prompt_number": 100
    },
    {
     "cell_type": "code",
     "collapsed": false,
     "input": [
      "vice = newspaper.build('http://www.vice.com/en_uk')"
     ],
     "language": "python",
     "metadata": {},
     "outputs": [],
     "prompt_number": 101
    },
    {
     "cell_type": "code",
     "collapsed": false,
     "input": [
      "a = vice.articles[0]\n",
      "a.download()\n",
      "a.parse()"
     ],
     "language": "python",
     "metadata": {},
     "outputs": [],
     "prompt_number": 104
    },
    {
     "cell_type": "code",
     "collapsed": false,
     "input": [
      "print a.title\n",
      "print a.url\n",
      "print a.authors\n",
      "print a.text\n",
      "print a.top_image\n",
      "print a.movies"
     ],
     "language": "python",
     "metadata": {},
     "outputs": [
      {
       "output_type": "stream",
       "stream": "stdout",
       "text": [
        "THIS GUY TURNED A PHOTO OF BIRDS PERCHED ON A WIRE INTO SHEET MUSIC\n",
        "http://www.vice.com/en_uk/read/this-guy-turned-a-photo-of-birds-perched-on-a-wire-into-sheet-music\n",
        "[u'Dan Wilkinson']\n",
        "A eureka moment can come at any time, whether it's Paul McCartney waking up with \"Yesterday\" in his head or the bit when Ace Ventura figures out Einhorn is a man.\n",
        "\n",
        "For some, it can be even stranger. Birds sitting on a telephone wire became the unwitting inspiration for Brazilian multimedia artist Jarbas Agnelli, who felt their positioning resembled some sort of sheet music structure when he saw a picture in a newspaper. Intrigued by the idea that the locations of the birds may have naturally formed a memorable tune, he started to plot the photograph as if it were an actual musical score. Luckily for Jarbas, it wasn\u2019t a discordant out-of-time racket, and he arranged the composition for oboe, xylophone, clarinet and bassoon.\n",
        "\n",
        "Jarbas, the kindhearted abstract thinker he is, gives most of the credit to the birds themselves for the arrangement, which he acknowledged with the project's title Bird on a Wire. I caught up with him to chat about how the birds inspired him, and how ants and cars are his next planned featurettes.\n",
        "\n",
        "Noisey: Jarbas, you genius. What was the Bird on a Wire project originally?\n",
        "\n",
        "Jarbas: It was created by pure chance, out of curiosity really. I was eating breakfast one morning and saw a photo in the newspaper of birds perched on a telephone wire. I then cut the photo and went to my piano to see if I could play the birds, since the picture resembled a musical score. There was in fact, an interesting little song in there. So I arranged it for an orchestra, and did a short video (above) to demonstrate my idea.\n",
        "\n",
        "And how was it received?\n",
        "\n",
        "Pretty well. The video was a huge success, and several amazing things happened because of it. I did some TEDtalks about it and I won the Guggenheim Youtube Play festival with the video. it\u2019s a mind blowing trajectory for a one minute piece of music, that cost no money, and was completely unpretentious.\n",
        "\n",
        "What do you think made it such a hit with people?\n",
        "\n",
        "The initiative, more than anything else. Of course the music is nice, the arrangement is emotive, and the video is simple and effective. But without the naive initiative of going to my piano with the paper on my hands, to try that childish idea of playing birds on wires as notes, nothing would have happened.\n",
        "\n",
        "Didn\u2019t you expand upon the idea?\n",
        "\n",
        "Well, shortly after that, my father called me and said I should try it with different patterns. But I had no idea what to do next. I was receiving several birds on the wires photos a day from all over the world. I was even invited by a publishing company to do a book about birds on wires around Brazil, and to create music for each shot. But the project didn't go through. One of the reasons is that it is not common to find five wires, for the musical score, on poles. I did create music for some of the photos I received, but it seemed I was repeating myself. It was not challenging enough. I was not motivated to record and post videos for them, although there was 3 or 4 good songs in there.\n",
        "\n",
        "How did you pull yourself out of the creative slump?\n",
        "\n",
        "Well, I created a method for using moving images of different random patterns of nature or mankind, for the creation of music. I wrote a project containing initially twelve patterns, that I will capture, edit, curate, produce musical arrangements and make the videos. All this will become an exhibition, and the process will become a documentary as well. I first did a test with cars on lanes of a New York street, it worked nicely.\n",
        "\n",
        "Cars? Does it need to stop there?\n",
        "\n",
        "Nope! Ants, cars, stars, water drops, people, fish - I will capture everything and a camera will capture me capturing the scenes. So on the documentary, it will be absolutely clear of how the process worked, and also that there are no tricks involved.\n",
        "\n",
        "Wait, did you say you\u2019re gonna make music from ants?\n",
        "\n",
        "I am already working with ants. I captured ants marching on the ground and on trees. I expect to have the project ready for the public around July. I\u2019m still looking for sponsors as well.\n",
        "\n",
        "World, send this man some money!\n",
        "http://assets.noisey.com/content-images/article/yntht-this-brazilian-artist-turns-pictures-of-birds-on-a-wire-into-sheet-music/Birds_vice_970x435.jpg\n",
        "['//www.youtube.com/embed/LoM4ZZJ2UrM?rel=0&controls=0&showinfo=0', '//www.youtube.com/embed/7VxZZzxEzXA?rel=0&controls=0&showinfo=0', '//player.vimeo.com/video/117975775']\n"
       ]
      }
     ],
     "prompt_number": 106
    },
    {
     "cell_type": "code",
     "collapsed": false,
     "input": [
      "a.nlp()\n",
      "print a.keywords\n",
      "print a.summary"
     ],
     "language": "python",
     "metadata": {},
     "outputs": [
      {
       "output_type": "stream",
       "stream": "stdout",
       "text": [
        "[u'wire', u'sheet', u'score', u'turned', u'ants', u'musical', u'project', u'patterns', u'wires', u'music', u'perched', u'video', u'guy', u'birds']\n",
        "What was the Bird on a Wire project originally?\n",
        "I was eating breakfast one morning and saw a photo in the newspaper of birds perched on a telephone wire.\n",
        "One of the reasons is that it is not common to find five wires, for the musical score, on poles.\n",
        "I then cut the photo and went to my piano to see if I could play the birds, since the picture resembled a musical score.\n",
        "I was even invited by a publishing company to do a book about birds on wires around Brazil, and to create music for each shot.\n"
       ]
      }
     ],
     "prompt_number": 107
    },
    {
     "cell_type": "code",
     "collapsed": false,
     "input": [
      "  "
     ],
     "language": "python",
     "metadata": {},
     "outputs": []
    }
   ],
   "metadata": {}
  }
 ]
}