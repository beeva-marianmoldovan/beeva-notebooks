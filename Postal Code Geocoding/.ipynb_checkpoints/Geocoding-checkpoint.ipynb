{
 "metadata": {
  "name": "",
  "signature": "sha256:20b554a4c2d675dacc8e0b9cd0e1c971414adfa91865201ab6717f937f3ecb3c"
 },
 "nbformat": 3,
 "nbformat_minor": 0,
 "worksheets": [
  {
   "cells": [
    {
     "cell_type": "code",
     "collapsed": false,
     "input": [
      "import json\n",
      "with open('raw.json') as data_file:    \n",
      "    data = json.load(data_file)"
     ],
     "language": "python",
     "metadata": {},
     "outputs": [],
     "prompt_number": 1
    },
    {
     "cell_type": "code",
     "collapsed": false,
     "input": [
      "data[0]"
     ],
     "language": "python",
     "metadata": {},
     "outputs": [
      {
       "metadata": {},
       "output_type": "pyout",
       "prompt_number": 3,
       "text": [
        "{u'_id': 28019,\n",
        " u'categories': [{u'name': u'Deportes y juguetes',\n",
        "   u'sum_incomes': 32435.73,\n",
        "   u'sum_num_cards': 418,\n",
        "   u'sum_num_payments': 459},\n",
        "  {u'name': u'Otros servicios',\n",
        "   u'sum_incomes': 135234.75,\n",
        "   u'sum_num_cards': 2255,\n",
        "   u'sum_num_payments': 3218},\n",
        "  {u'name': u'Hipermercados',\n",
        "   u'sum_incomes': 180597.3899999999,\n",
        "   u'sum_num_cards': 3669,\n",
        "   u'sum_num_payments': 6314},\n",
        "  {u'name': u'Hogar',\n",
        "   u'sum_incomes': 141236.89999999997,\n",
        "   u'sum_num_cards': 1178,\n",
        "   u'sum_num_payments': 1330},\n",
        "  {u'name': u'Salud',\n",
        "   u'sum_incomes': 218056.38000000006,\n",
        "   u'sum_num_cards': 3641,\n",
        "   u'sum_num_payments': 4498},\n",
        "  {u'name': u'Moda',\n",
        "   u'sum_incomes': 716306.9999999998,\n",
        "   u'sum_num_cards': 11138,\n",
        "   u'sum_num_payments': 23676},\n",
        "  {u'name': u'Comida',\n",
        "   u'sum_incomes': 716306.9999999998,\n",
        "   u'sum_num_cards': 11138,\n",
        "   u'sum_num_payments': 23676},\n",
        "  {u'name': u'Salud y belleza',\n",
        "   u'sum_incomes': 121580.99000000003,\n",
        "   u'sum_num_cards': 2500,\n",
        "   u'sum_num_payments': 3075},\n",
        "  {u'name': u'Contenidos',\n",
        "   u'sum_incomes': 4999.819999999999,\n",
        "   u'sum_num_cards': 195,\n",
        "   u'sum_num_payments': 206},\n",
        "  {u'name': u'Bares y restaurantes',\n",
        "   u'sum_incomes': 161058.85999999996,\n",
        "   u'sum_num_cards': 2703,\n",
        "   u'sum_num_payments': 4300},\n",
        "  {u'name': u'Ocio',\n",
        "   u'sum_incomes': 8762.1,\n",
        "   u'sum_num_cards': 38,\n",
        "   u'sum_num_payments': 62},\n",
        "  {u'name': u'Veh\\xedculos',\n",
        "   u'sum_incomes': 210749.66,\n",
        "   u'sum_num_cards': 1054,\n",
        "   u'sum_num_payments': 1135},\n",
        "  {u'name': u'Tecnolog\\xeda',\n",
        "   u'sum_incomes': 118921.27999999996,\n",
        "   u'sum_num_cards': 1036,\n",
        "   u'sum_num_payments': 1145},\n",
        "  {u'name': u'Transporte',\n",
        "   u'sum_incomes': 336932.85000000003,\n",
        "   u'sum_num_cards': 7712,\n",
        "   u'sum_num_payments': 10107},\n",
        "  {u'name': u'Viajes',\n",
        "   u'sum_incomes': 624.57,\n",
        "   u'sum_num_cards': 3,\n",
        "   u'sum_num_payments': 3}]}"
       ]
      }
     ],
     "prompt_number": 3
    },
    {
     "cell_type": "code",
     "collapsed": false,
     "input": [
      "cps = [item['_id'] for item in data]"
     ],
     "language": "python",
     "metadata": {},
     "outputs": [],
     "prompt_number": 6
    },
    {
     "cell_type": "code",
     "collapsed": false,
     "input": [
      "import requests"
     ],
     "language": "python",
     "metadata": {},
     "outputs": [],
     "prompt_number": 8
    },
    {
     "cell_type": "code",
     "collapsed": false,
     "input": [
      "def nominatim(cps):\n",
      "    districts = {}\n",
      "    for cp in cps:\n",
      "        try:\n",
      "            r = requests.get('http://open.mapquestapi.com/nominatim/v1/search.php?format=json&postalcode=' + str(cp) + '&limit=1&country=spain')\n",
      "            district = r.json()[0]['display_name'].split(',')[0]\n",
      "            districts[cp] = district\n",
      "        except:\n",
      "            r = requests.get('http://open.mapquestapi.com/nominatim/v1/search.php?format=json&q=' + str(cp) + ' madrid&limit=1')\n",
      "            district = r.json()[0]['display_name'].split(',')[0]\n",
      "            districts[cp] = district\n",
      "    return districts\n",
      "        "
     ],
     "language": "python",
     "metadata": {},
     "outputs": [],
     "prompt_number": 106
    },
    {
     "cell_type": "code",
     "collapsed": false,
     "input": [
      "def google(cps):\n",
      "    districts = {}\n",
      "    for cp in cps:\n",
      "        try:\n",
      "            r = requests.get('http://maps.googleapis.com/maps/api/geocode/json?address=' + str(cp) + ' spain&sensor=true')\n",
      "            for items in r.json()['results']:\n",
      "                for subitem in items['address_components']:\n",
      "                    for types in subitem['types']:\n",
      "                        if(types == 'sublocality_level_1'):\n",
      "                            districts[cp] = subitem['short_name']\n",
      "        except:\n",
      "            pass\n",
      "    return districts"
     ],
     "language": "python",
     "metadata": {},
     "outputs": [],
     "prompt_number": 107
    },
    {
     "cell_type": "code",
     "collapsed": false,
     "input": [
      "dnominatim = nominatim(cps)"
     ],
     "language": "python",
     "metadata": {},
     "outputs": [],
     "prompt_number": 108
    },
    {
     "cell_type": "code",
     "collapsed": false,
     "input": [
      "dgoogle = google(cps)"
     ],
     "language": "python",
     "metadata": {},
     "outputs": [],
     "prompt_number": 105
    },
    {
     "cell_type": "code",
     "collapsed": false,
     "input": [
      "import io\n",
      "with io.open('data.json', 'w', encoding='utf-8') as f:\n",
      "  f.write(unicode(json.dumps(dnominatim, ensure_ascii=False)))"
     ],
     "language": "python",
     "metadata": {},
     "outputs": [],
     "prompt_number": 101
    },
    {
     "cell_type": "code",
     "collapsed": false,
     "input": [],
     "language": "python",
     "metadata": {},
     "outputs": []
    }
   ],
   "metadata": {}
  }
 ]
}