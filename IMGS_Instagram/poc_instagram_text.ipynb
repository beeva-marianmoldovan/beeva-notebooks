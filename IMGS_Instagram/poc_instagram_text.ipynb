{
 "metadata": {
  "name": "",
  "signature": "sha256:4fc283b91c90801998fad3e4cabb4c4b76580ebea8e17af363b6f2fe10924ed2"
 },
 "nbformat": 3,
 "nbformat_minor": 0,
 "worksheets": [
  {
   "cells": [
    {
     "cell_type": "markdown",
     "metadata": {},
     "source": [
      "# SocialProfiler\n",
      "\n",
      "*Analyzing user interests based on Instagram texts*"
     ]
    },
    {
     "cell_type": "markdown",
     "metadata": {},
     "source": [
      "## Web scraping"
     ]
    },
    {
     "cell_type": "code",
     "collapsed": true,
     "input": [
      "from BeautifulSoup import BeautifulSoup\n",
      "from time import sleep\n",
      "\n",
      "def get_urlpics(driver):\n",
      "    soup = BeautifulSoup(driver.page_source)\n",
      "    urlpics = map(lambda x: x['src'], soup.findAll('div', {'class':'pgmiThumb tThumbImage Image'}))\n",
      "    return urlpics\n",
      "\n",
      "def get_texts(url,driver, processedurls):\n",
      "    texts = []\n",
      "    soup = BeautifulSoup(driver.page_source)\n",
      "    links = map(lambda x: x['href'], soup.findAll('a', {'class':'pgmiImageLink'}))\n",
      "    newlinks = [link for link in links if link not in processedurls]\n",
      "    processedurls.extend(newlinks)\n",
      "    \n",
      "    texts = [get_text_from_url(driver,url+link) for link in newlinks]\n",
      "    return (texts, processedurls)\n",
      "\n",
      "def get_text_from_url(driver, link):\n",
      "    driver.get(link)\n",
      "    sleep(1)\n",
      "    try:\n",
      "        text = driver.find_element_by_css_selector('div.Info').text\n",
      "    except:\n",
      "        text = \"\"\n",
      "    return text"
     ],
     "language": "python",
     "metadata": {},
     "outputs": [],
     "prompt_number": 1
    },
    {
     "cell_type": "code",
     "collapsed": true,
     "input": [
      "import selenium.webdriver as webdriver\n",
      "\n",
      "def browser_user_instagram(user):\n",
      "    url = 'http://instagram.com/'+user+'/'\n",
      "    driver = webdriver.Firefox()\n",
      "    driver.get(url)\n",
      "    driver.find_element_by_css_selector('.pgmiThumb')\n",
      "    not_all_images_loaded = True\n",
      "    \n",
      "    processedurls = []\n",
      "    \n",
      "    while not_all_images_loaded:\n",
      "        driver.find_element_by_class_name('PhotoGridMoreButton').click()\n",
      "        sleep(1)\n",
      "        webElement = driver.find_element_by_css_selector('.PhotoGridMoreButton').text\n",
      "        (texts, processedurls) = get_texts(url,driver, processedurls)\n",
      "        #driver.find_element_by_css_selector('.igDialogClose').click()\n",
      "        if (webElement == \"All items loaded\") or (webElement == \"Se han subido todos los elementos\") or (len(texts) >= LIMIT):\n",
      "            not_all_images_loaded = False\n",
      "            print webElement\n",
      "    driver.quit()\n",
      "    return texts"
     ],
     "language": "python",
     "metadata": {},
     "outputs": [],
     "prompt_number": 2
    },
    {
     "cell_type": "code",
     "collapsed": false,
     "input": [
      "LIMIT = 40\n",
      "user = 'giseleofficial'\n",
      "texts = browser_user_instagram(user)\n",
      "print \"%i texts processed\" %len(texts)"
     ],
     "language": "python",
     "metadata": {},
     "outputs": [
      {
       "output_type": "stream",
       "stream": "stdout",
       "text": [
        "Load more\u2026\n",
        "40 texts processed"
       ]
      },
      {
       "output_type": "stream",
       "stream": "stdout",
       "text": [
        "\n"
       ]
      }
     ],
     "prompt_number": 3
    },
    {
     "cell_type": "code",
     "collapsed": false,
     "input": [
      "texts[0].split()[0:10]"
     ],
     "language": "python",
     "metadata": {},
     "outputs": [
      {
       "metadata": {},
       "output_type": "pyout",
       "prompt_number": 4,
       "text": [
        "[u'giseleofficial',\n",
        " u'19',\n",
        " u'hours',\n",
        " u'ago',\n",
        " u'Our',\n",
        " u'newest',\n",
        " u'family',\n",
        " u'member',\n",
        " u'Scooby',\n",
        " u'\\U0001f436\\u2764\\ufe0f\\U0001f43e']"
       ]
      }
     ],
     "prompt_number": 4
    },
    {
     "cell_type": "code",
     "collapsed": false,
     "input": [],
     "language": "python",
     "metadata": {},
     "outputs": []
    }
   ],
   "metadata": {}
  }
 ]
}