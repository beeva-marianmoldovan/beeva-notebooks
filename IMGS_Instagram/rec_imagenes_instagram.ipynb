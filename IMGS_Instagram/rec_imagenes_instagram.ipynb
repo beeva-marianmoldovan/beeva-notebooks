{
 "metadata": {
  "name": "",
  "signature": "sha256:51d94e4e2e1b967e87213290b583b60a9146cb807ea2b16aad8217e6941e15eb"
 },
 "nbformat": 3,
 "nbformat_minor": 0,
 "worksheets": [
  {
   "cells": [
    {
     "cell_type": "code",
     "collapsed": false,
     "input": [
      "import graphlab as gl\n",
      "import ast\n",
      "import time"
     ],
     "language": "python",
     "metadata": {},
     "outputs": [
      {
       "output_type": "stream",
       "stream": "stderr",
       "text": [
        "A newer version of GraphLab Create (v1.2.1) is available! Your current version is v1.1.\n",
        "You can use pip to upgrade the graphlab-create package. For more information see http://graphlab.com/products/create/upgrade."
       ]
      }
     ],
     "prompt_number": 1
    },
    {
     "cell_type": "markdown",
     "metadata": {},
     "source": [
      "# Etiquetas IMAGENET"
     ]
    },
    {
     "cell_type": "code",
     "collapsed": false,
     "input": [
      "infile = open('etiquetas_imagenet.txt', 'r')"
     ],
     "language": "python",
     "metadata": {},
     "outputs": [],
     "prompt_number": 2
    },
    {
     "cell_type": "code",
     "collapsed": false,
     "input": [
      "label_to_text = ast.literal_eval(infile.read())"
     ],
     "language": "python",
     "metadata": {},
     "outputs": [],
     "prompt_number": 3
    },
    {
     "cell_type": "markdown",
     "metadata": {},
     "source": [
      "# Carga del modelo y m\u00e9todo predictor"
     ]
    },
    {
     "cell_type": "code",
     "collapsed": false,
     "input": [
      "def predict_image_url(url):\n",
      "    \n",
      "    pretrained_model = gl.load_model('http://s3.amazonaws.com/GraphLab-Datasets/deeplearning/imagenet_model_iter45')\n",
      "    # Ya tenemos el modelo entrenado con el dataset de imagenet almacenado en local\n",
      "    \n",
      "    #model = gl.load_model('pretrained_model')\n",
      "    image_sf = gl.SFrame({'image': [gl.Image(url)]})\n",
      "    image_sf['image'] = gl.image_analysis.resize(image_sf['image'], 256, 256, 3)\n",
      "    top_labels = model.predict_topk(image_sf, k=5)\n",
      "    top_labels['class_text'] = top_labels['class'].apply(lambda x: label_to_text[x])\n",
      "    return top_labels"
     ],
     "language": "python",
     "metadata": {},
     "outputs": [],
     "prompt_number": 4
    },
    {
     "cell_type": "code",
     "collapsed": false,
     "input": [
      "#prueba_url = 'http://hadrovsky.sweb.cz/images/rn14.jpg'\n",
      "#res = predict_image_url(prueba_url)\n",
      "#res"
     ],
     "language": "python",
     "metadata": {},
     "outputs": [],
     "prompt_number": 5
    },
    {
     "cell_type": "markdown",
     "metadata": {},
     "source": [
      "# Scraping de im\u00e1genes de Instagram"
     ]
    },
    {
     "cell_type": "code",
     "collapsed": false,
     "input": [
      "from BeautifulSoup import BeautifulSoup\n",
      "import selenium.webdriver as webdriver"
     ],
     "language": "python",
     "metadata": {},
     "outputs": [],
     "prompt_number": 6
    },
    {
     "cell_type": "markdown",
     "metadata": {},
     "source": [
      "## ENTRADA: identificador de usuario"
     ]
    },
    {
     "cell_type": "code",
     "collapsed": false,
     "input": [
      "# Ususarios analizados: mirandakerr || cristiano || barackobama || kingjames || brunomars || jessicaalba\n",
      "user = 'jessicaalba'"
     ],
     "language": "python",
     "metadata": {},
     "outputs": [],
     "prompt_number": 7
    },
    {
     "cell_type": "code",
     "collapsed": false,
     "input": [
      "url = 'http://instagram.com/'+user+'/'\n",
      "driver = webdriver.Firefox()\n",
      "driver.get(url)"
     ],
     "language": "python",
     "metadata": {},
     "outputs": [],
     "prompt_number": 8
    },
    {
     "cell_type": "code",
     "collapsed": false,
     "input": [
      "driver.find_element_by_css_selector('.pgmiThumb')\n",
      "not_all_images_loaded = True"
     ],
     "language": "python",
     "metadata": {},
     "outputs": [],
     "prompt_number": 9
    },
    {
     "cell_type": "markdown",
     "metadata": {},
     "source": [
      "# Carga de todas las im\u00e1genes del usuario (paginaci\u00f3n)"
     ]
    },
    {
     "cell_type": "code",
     "collapsed": false,
     "input": [
      "while not_all_images_loaded:\n",
      "\n",
      "    driver.find_element_by_class_name('PhotoGridMoreButton').click()\n",
      "    time.sleep(3)\n",
      "    webElement = driver.find_element_by_css_selector('.PhotoGridMoreButton').text\n",
      "    \n",
      "    if (webElement == \"All items loaded\") or (webElement == \"Se han subido todos los elementos\"):\n",
      "        not_all_images_loaded = False\n",
      "        print webElement"
     ],
     "language": "python",
     "metadata": {},
     "outputs": [
      {
       "output_type": "stream",
       "stream": "stdout",
       "text": [
        "Se han subido todos los elementos\n"
       ]
      }
     ],
     "prompt_number": 10
    },
    {
     "cell_type": "code",
     "collapsed": false,
     "input": [
      "soup = BeautifulSoup(driver.page_source)"
     ],
     "language": "python",
     "metadata": {},
     "outputs": [],
     "prompt_number": 11
    },
    {
     "cell_type": "code",
     "collapsed": false,
     "input": [
      "urls = []\n",
      "for x in soup.findAll('div', {'class':'pgmiThumb tThumbImage Image'}):\n",
      "    urls.append(x['src'])"
     ],
     "language": "python",
     "metadata": {},
     "outputs": [],
     "prompt_number": 12
    },
    {
     "cell_type": "code",
     "collapsed": false,
     "input": [
      "driver.quit()"
     ],
     "language": "python",
     "metadata": {},
     "outputs": [],
     "prompt_number": 13
    },
    {
     "cell_type": "code",
     "collapsed": false,
     "input": [
      "len(urls)"
     ],
     "language": "python",
     "metadata": {},
     "outputs": [
      {
       "metadata": {},
       "output_type": "pyout",
       "prompt_number": 14,
       "text": [
        "1979"
       ]
      }
     ],
     "prompt_number": 14
    },
    {
     "cell_type": "markdown",
     "metadata": {},
     "source": [
      "# An\u00e1lisis de las im\u00e1genes scrapeadas"
     ]
    },
    {
     "cell_type": "code",
     "collapsed": false,
     "input": [
      "def analizar_imagenes():\n",
      "    clases = {\"url\":[], \"tags\":[], \"score\":[]}\n",
      "    for item in xrange(len(urls)):\n",
      "        res = predict_image_url(urls[item])\n",
      "        score = res[0]['score']\n",
      "        if score >= 0.5:\n",
      "            clases['url'].append(urls[item])\n",
      "            clases['tags'].append(res[0]['class_text'])\n",
      "            clases['score'].append(res[0]['score'])\n",
      "    return clases"
     ],
     "language": "python",
     "metadata": {},
     "outputs": [],
     "prompt_number": 15
    },
    {
     "cell_type": "code",
     "collapsed": false,
     "input": [
      "clases = analizar_imagenes()"
     ],
     "language": "python",
     "metadata": {},
     "outputs": [
      {
       "ename": "RuntimeError",
       "evalue": "Runtime Exception. Unable to evaluate lambdas. lambda workers did not start",
       "output_type": "pyerr",
       "traceback": [
        "\u001b[1;31m---------------------------------------------------------------------------\u001b[0m\n\u001b[1;31mRuntimeError\u001b[0m                              Traceback (most recent call last)",
        "\u001b[1;32m<ipython-input-17-5235beca8758>\u001b[0m in \u001b[0;36m<module>\u001b[1;34m()\u001b[0m\n\u001b[1;32m----> 1\u001b[1;33m \u001b[0mclases\u001b[0m \u001b[1;33m=\u001b[0m \u001b[0manalizar_imagenes\u001b[0m\u001b[1;33m(\u001b[0m\u001b[1;33m)\u001b[0m\u001b[1;33m\u001b[0m\u001b[0m\n\u001b[0m",
        "\u001b[1;32m<ipython-input-15-8e1d54f6bcc3>\u001b[0m in \u001b[0;36manalizar_imagenes\u001b[1;34m()\u001b[0m\n\u001b[0;32m      3\u001b[0m     \u001b[1;32mfor\u001b[0m \u001b[0mitem\u001b[0m \u001b[1;32min\u001b[0m \u001b[0mxrange\u001b[0m\u001b[1;33m(\u001b[0m\u001b[0mlen\u001b[0m\u001b[1;33m(\u001b[0m\u001b[0murls\u001b[0m\u001b[1;33m)\u001b[0m\u001b[1;33m)\u001b[0m\u001b[1;33m:\u001b[0m\u001b[1;33m\u001b[0m\u001b[0m\n\u001b[0;32m      4\u001b[0m         \u001b[0mres\u001b[0m \u001b[1;33m=\u001b[0m \u001b[0mpredict_image_url\u001b[0m\u001b[1;33m(\u001b[0m\u001b[0murls\u001b[0m\u001b[1;33m[\u001b[0m\u001b[0mitem\u001b[0m\u001b[1;33m]\u001b[0m\u001b[1;33m)\u001b[0m\u001b[1;33m\u001b[0m\u001b[0m\n\u001b[1;32m----> 5\u001b[1;33m         \u001b[0mscore\u001b[0m \u001b[1;33m=\u001b[0m \u001b[0mres\u001b[0m\u001b[1;33m[\u001b[0m\u001b[1;36m0\u001b[0m\u001b[1;33m]\u001b[0m\u001b[1;33m[\u001b[0m\u001b[1;34m'score'\u001b[0m\u001b[1;33m]\u001b[0m\u001b[1;33m\u001b[0m\u001b[0m\n\u001b[0m\u001b[0;32m      6\u001b[0m         \u001b[1;32mif\u001b[0m \u001b[0mscore\u001b[0m \u001b[1;33m>=\u001b[0m \u001b[1;36m0.5\u001b[0m\u001b[1;33m:\u001b[0m\u001b[1;33m\u001b[0m\u001b[0m\n\u001b[0;32m      7\u001b[0m             \u001b[0mclases\u001b[0m\u001b[1;33m[\u001b[0m\u001b[1;34m'url'\u001b[0m\u001b[1;33m]\u001b[0m\u001b[1;33m.\u001b[0m\u001b[0mappend\u001b[0m\u001b[1;33m(\u001b[0m\u001b[0murls\u001b[0m\u001b[1;33m[\u001b[0m\u001b[0mitem\u001b[0m\u001b[1;33m]\u001b[0m\u001b[1;33m)\u001b[0m\u001b[1;33m\u001b[0m\u001b[0m\n",
        "\u001b[1;32m/home/paulacordero/anaconda/lib/python2.7/site-packages/graphlab/data_structures/sframe.pyc\u001b[0m in \u001b[0;36m__getitem__\u001b[1;34m(self, key)\u001b[0m\n\u001b[0;32m   2578\u001b[0m             \u001b[1;32mif\u001b[0m \u001b[0mkey\u001b[0m \u001b[1;33m>=\u001b[0m \u001b[0mlen\u001b[0m\u001b[1;33m(\u001b[0m\u001b[0mself\u001b[0m\u001b[1;33m)\u001b[0m\u001b[1;33m:\u001b[0m\u001b[1;33m\u001b[0m\u001b[0m\n\u001b[0;32m   2579\u001b[0m                 \u001b[1;32mraise\u001b[0m \u001b[0mIndexError\u001b[0m\u001b[1;33m(\u001b[0m\u001b[1;34m\"SFrame index out of range\"\u001b[0m\u001b[1;33m)\u001b[0m\u001b[1;33m\u001b[0m\u001b[0m\n\u001b[1;32m-> 2580\u001b[1;33m             \u001b[1;32mreturn\u001b[0m \u001b[0mlist\u001b[0m\u001b[1;33m(\u001b[0m\u001b[0mSFrame\u001b[0m\u001b[1;33m(\u001b[0m\u001b[0m_proxy\u001b[0m \u001b[1;33m=\u001b[0m \u001b[0mself\u001b[0m\u001b[1;33m.\u001b[0m\u001b[0m__proxy__\u001b[0m\u001b[1;33m.\u001b[0m\u001b[0mcopy_range\u001b[0m\u001b[1;33m(\u001b[0m\u001b[0mkey\u001b[0m\u001b[1;33m,\u001b[0m \u001b[1;36m1\u001b[0m\u001b[1;33m,\u001b[0m \u001b[0mkey\u001b[0m\u001b[1;33m+\u001b[0m\u001b[1;36m1\u001b[0m\u001b[1;33m)\u001b[0m\u001b[1;33m)\u001b[0m\u001b[1;33m)\u001b[0m\u001b[1;33m[\u001b[0m\u001b[1;36m0\u001b[0m\u001b[1;33m]\u001b[0m\u001b[1;33m\u001b[0m\u001b[0m\n\u001b[0m\u001b[0;32m   2581\u001b[0m         \u001b[1;32melif\u001b[0m \u001b[0mtype\u001b[0m\u001b[1;33m(\u001b[0m\u001b[0mkey\u001b[0m\u001b[1;33m)\u001b[0m \u001b[1;32mis\u001b[0m \u001b[0mslice\u001b[0m\u001b[1;33m:\u001b[0m\u001b[1;33m\u001b[0m\u001b[0m\n\u001b[0;32m   2582\u001b[0m             \u001b[0mstart\u001b[0m \u001b[1;33m=\u001b[0m \u001b[0mkey\u001b[0m\u001b[1;33m.\u001b[0m\u001b[0mstart\u001b[0m\u001b[1;33m\u001b[0m\u001b[0m\n",
        "\u001b[1;32m/home/paulacordero/anaconda/lib/python2.7/site-packages/graphlab/cython/cy_sframe.so\u001b[0m in \u001b[0;36mgraphlab.cython.cy_sframe.UnitySFrameProxy.copy_range\u001b[1;34m()\u001b[0m\n",
        "\u001b[1;32m/home/paulacordero/anaconda/lib/python2.7/site-packages/graphlab/cython/cy_sframe.so\u001b[0m in \u001b[0;36mgraphlab.cython.cy_sframe.UnitySFrameProxy.copy_range\u001b[1;34m()\u001b[0m\n",
        "\u001b[1;31mRuntimeError\u001b[0m: Runtime Exception. Unable to evaluate lambdas. lambda workers did not start"
       ]
      }
     ],
     "prompt_number": 17
    },
    {
     "cell_type": "code",
     "collapsed": false,
     "input": [
      "etiquetas = gl.SFrame(clases)"
     ],
     "language": "python",
     "metadata": {},
     "outputs": [],
     "prompt_number": 21
    },
    {
     "cell_type": "code",
     "collapsed": false,
     "input": [
      "etiquetas"
     ],
     "language": "python",
     "metadata": {},
     "outputs": [
      {
       "html": [
        "<div style=\"max-height:1000px;max-width:1500px;overflow:auto;\"><table frame=\"box\" rules=\"cols\">\n",
        "    <tr>\n",
        "        <th style=\"padding-left: 1em; padding-right: 1em; text-align: center\">score</th>\n",
        "        <th style=\"padding-left: 1em; padding-right: 1em; text-align: center\">tags</th>\n",
        "        <th style=\"padding-left: 1em; padding-right: 1em; text-align: center\">url</th>\n",
        "    </tr>\n",
        "    <tr>\n",
        "        <td style=\"padding-left: 1em; padding-right: 1em; text-align: center; vertical-align: top\">0.549892246723</td>\n",
        "        <td style=\"padding-left: 1em; padding-right: 1em; text-align: center; vertical-align: top\">French loaf</td>\n",
        "        <td style=\"padding-left: 1em; padding-right: 1em; text-align: center; vertical-align: top\">http://scontent-a.cdninst<br>agram.com/hphotos-xaf ...</td>\n",
        "    </tr>\n",
        "    <tr>\n",
        "        <td style=\"padding-left: 1em; padding-right: 1em; text-align: center; vertical-align: top\">0.551449418068</td>\n",
        "        <td style=\"padding-left: 1em; padding-right: 1em; text-align: center; vertical-align: top\">Doberman, Doberman<br>pinscher</td>\n",
        "        <td style=\"padding-left: 1em; padding-right: 1em; text-align: center; vertical-align: top\">http://scontent-a.cdninst<br>agram.com/hphotos-xaf ...</td>\n",
        "    </tr>\n",
        "    <tr>\n",
        "        <td style=\"padding-left: 1em; padding-right: 1em; text-align: center; vertical-align: top\">0.796123981476</td>\n",
        "        <td style=\"padding-left: 1em; padding-right: 1em; text-align: center; vertical-align: top\">comic book</td>\n",
        "        <td style=\"padding-left: 1em; padding-right: 1em; text-align: center; vertical-align: top\">http://scontent-a.cdninst<br>agram.com/hphotos-xfa ...</td>\n",
        "    </tr>\n",
        "    <tr>\n",
        "        <td style=\"padding-left: 1em; padding-right: 1em; text-align: center; vertical-align: top\">0.702857732773</td>\n",
        "        <td style=\"padding-left: 1em; padding-right: 1em; text-align: center; vertical-align: top\">book jacket, dust cover,<br>dust jacket, dust wra ...</td>\n",
        "        <td style=\"padding-left: 1em; padding-right: 1em; text-align: center; vertical-align: top\">http://scontent-a.cdninst<br>agram.com/hphotos-xaf ...</td>\n",
        "    </tr>\n",
        "    <tr>\n",
        "        <td style=\"padding-left: 1em; padding-right: 1em; text-align: center; vertical-align: top\">0.749677658081</td>\n",
        "        <td style=\"padding-left: 1em; padding-right: 1em; text-align: center; vertical-align: top\">Band Aid</td>\n",
        "        <td style=\"padding-left: 1em; padding-right: 1em; text-align: center; vertical-align: top\">http://scontent-a.cdninst<br>agram.com/hphotos-xfa ...</td>\n",
        "    </tr>\n",
        "    <tr>\n",
        "        <td style=\"padding-left: 1em; padding-right: 1em; text-align: center; vertical-align: top\">0.608224987984</td>\n",
        "        <td style=\"padding-left: 1em; padding-right: 1em; text-align: center; vertical-align: top\">envelope</td>\n",
        "        <td style=\"padding-left: 1em; padding-right: 1em; text-align: center; vertical-align: top\">http://scontent-a.cdninst<br>agram.com/hphotos-xaf ...</td>\n",
        "    </tr>\n",
        "    <tr>\n",
        "        <td style=\"padding-left: 1em; padding-right: 1em; text-align: center; vertical-align: top\">0.69820022583</td>\n",
        "        <td style=\"padding-left: 1em; padding-right: 1em; text-align: center; vertical-align: top\">sombrero</td>\n",
        "        <td style=\"padding-left: 1em; padding-right: 1em; text-align: center; vertical-align: top\">http://scontent-a.cdninst<br>agram.com/hphotos-xaf ...</td>\n",
        "    </tr>\n",
        "    <tr>\n",
        "        <td style=\"padding-left: 1em; padding-right: 1em; text-align: center; vertical-align: top\">0.717392086983</td>\n",
        "        <td style=\"padding-left: 1em; padding-right: 1em; text-align: center; vertical-align: top\">seashore, coast,<br>seacoast, sea-coast</td>\n",
        "        <td style=\"padding-left: 1em; padding-right: 1em; text-align: center; vertical-align: top\">http://scontent-a.cdninst<br>agram.com/hphotos-xpa ...</td>\n",
        "    </tr>\n",
        "    <tr>\n",
        "        <td style=\"padding-left: 1em; padding-right: 1em; text-align: center; vertical-align: top\">0.51837772131</td>\n",
        "        <td style=\"padding-left: 1em; padding-right: 1em; text-align: center; vertical-align: top\">stretcher</td>\n",
        "        <td style=\"padding-left: 1em; padding-right: 1em; text-align: center; vertical-align: top\">http://scontent-a.cdninst<br>agram.com/hphotos-xfp ...</td>\n",
        "    </tr>\n",
        "    <tr>\n",
        "        <td style=\"padding-left: 1em; padding-right: 1em; text-align: center; vertical-align: top\">0.523460745811</td>\n",
        "        <td style=\"padding-left: 1em; padding-right: 1em; text-align: center; vertical-align: top\">measuring cup</td>\n",
        "        <td style=\"padding-left: 1em; padding-right: 1em; text-align: center; vertical-align: top\">http://scontent-b.cdninst<br>agram.com/hphotos-xap ...</td>\n",
        "    </tr>\n",
        "    <tr>\n",
        "        <td style=\"padding-left: 1em; padding-right: 1em; text-align: center; vertical-align: top\">...</td>\n",
        "        <td style=\"padding-left: 1em; padding-right: 1em; text-align: center; vertical-align: top\">...</td>\n",
        "        <td style=\"padding-left: 1em; padding-right: 1em; text-align: center; vertical-align: top\">...</td>\n",
        "    </tr>\n",
        "</table>\n",
        "[16 rows x 3 columns]<br/>Note: Only the head of the SFrame is printed.<br/>You can use print_rows(num_rows=m, num_columns=n) to print more rows and columns.\n",
        "</div>"
       ],
       "metadata": {},
       "output_type": "pyout",
       "prompt_number": 22,
       "text": [
        "Columns:\n",
        "\tscore\tfloat\n",
        "\ttags\tstr\n",
        "\turl\tstr\n",
        "\n",
        "Rows: 16\n",
        "\n",
        "Data:\n",
        "+----------------+--------------------------------+\n",
        "|     score      |              tags              |\n",
        "+----------------+--------------------------------+\n",
        "| 0.549892246723 |          French loaf           |\n",
        "| 0.551449418068 |  Doberman, Doberman pinscher   |\n",
        "| 0.796123981476 |           comic book           |\n",
        "| 0.702857732773 | book jacket, dust cover, d ... |\n",
        "| 0.749677658081 |            Band Aid            |\n",
        "| 0.608224987984 |            envelope            |\n",
        "| 0.69820022583  |            sombrero            |\n",
        "| 0.717392086983 | seashore, coast, seacoast, ... |\n",
        "| 0.51837772131  |           stretcher            |\n",
        "| 0.523460745811 |         measuring cup          |\n",
        "+----------------+--------------------------------+\n",
        "+--------------------------------+\n",
        "|              url               |\n",
        "+--------------------------------+\n",
        "| http://scontent-a.cdninsta ... |\n",
        "| http://scontent-a.cdninsta ... |\n",
        "| http://scontent-a.cdninsta ... |\n",
        "| http://scontent-a.cdninsta ... |\n",
        "| http://scontent-a.cdninsta ... |\n",
        "| http://scontent-a.cdninsta ... |\n",
        "| http://scontent-a.cdninsta ... |\n",
        "| http://scontent-a.cdninsta ... |\n",
        "| http://scontent-a.cdninsta ... |\n",
        "| http://scontent-b.cdninsta ... |\n",
        "|              ...               |\n",
        "+--------------------------------+\n",
        "[16 rows x 3 columns]\n",
        "Note: Only the head of the SFrame is printed.\n",
        "You can use print_rows(num_rows=m, num_columns=n) to print more rows and columns."
       ]
      }
     ],
     "prompt_number": 22
    },
    {
     "cell_type": "markdown",
     "metadata": {},
     "source": [
      "# Clasificaci\u00f3n de las etiquetas en categor\u00edas"
     ]
    },
    {
     "cell_type": "markdown",
     "metadata": {},
     "source": [
      "## Carga del dataset de entrenamiento"
     ]
    },
    {
     "cell_type": "code",
     "collapsed": false,
     "input": [
      "sf = gl.SFrame.read_csv('Datos_Instagram.csv')"
     ],
     "language": "python",
     "metadata": {},
     "outputs": [
      {
       "html": [
        "<pre>PROGRESS: Finished parsing file /home/paulacordero/Repositorios/beeva-notebooks/Instagram/Datos_Instagram.csv</pre>"
       ],
       "metadata": {},
       "output_type": "display_data",
       "text": [
        "PROGRESS: Finished parsing file /home/paulacordero/Repositorios/beeva-notebooks/Instagram/Datos_Instagram.csv"
       ]
      },
      {
       "html": [
        "<pre>PROGRESS: Parsing completed. Parsed 100 lines in 0.02 secs.</pre>"
       ],
       "metadata": {},
       "output_type": "display_data",
       "text": [
        "PROGRESS: Parsing completed. Parsed 100 lines in 0.02 secs."
       ]
      },
      {
       "html": [
        "<pre>PROGRESS: Finished parsing file /home/paulacordero/Repositorios/beeva-notebooks/Instagram/Datos_Instagram.csv</pre>"
       ],
       "metadata": {},
       "output_type": "display_data",
       "text": [
        "PROGRESS: Finished parsing file /home/paulacordero/Repositorios/beeva-notebooks/Instagram/Datos_Instagram.csv"
       ]
      },
      {
       "html": [
        "<pre>PROGRESS: Parsing completed. Parsed 339 lines in 0.01 secs.</pre>"
       ],
       "metadata": {},
       "output_type": "display_data",
       "text": [
        "PROGRESS: Parsing completed. Parsed 339 lines in 0.01 secs."
       ]
      },
      {
       "output_type": "stream",
       "stream": "stdout",
       "text": [
        "------------------------------------------------------\n",
        "Inferred types from first line of file as \n",
        "column_type_hints=[str,str,str,str]\n",
        "If parsing fails due to incorrect types, you can correct\n",
        "the inferred type list above and pass it to read_csv in\n",
        "the column_type_hints argument\n",
        "------------------------------------------------------\n"
       ]
      }
     ],
     "prompt_number": 137
    },
    {
     "cell_type": "markdown",
     "metadata": {},
     "source": [
      "## Caracterizaci\u00f3n de las etiquetas por palabras clave"
     ]
    },
    {
     "cell_type": "code",
     "collapsed": false,
     "input": [
      "bow = gl.text_analytics.count_words(sf['tags'])\n",
      "stopwords = gl.text_analytics.stopwords()\n",
      "sf['bow'] = bow.dict_trim_by_keys(stopwords, exclude=True)"
     ],
     "language": "python",
     "metadata": {},
     "outputs": [],
     "prompt_number": 138
    },
    {
     "cell_type": "code",
     "collapsed": false,
     "input": [
      "#training, test = sf.random_split(0.8)\n",
      "training = sf"
     ],
     "language": "python",
     "metadata": {},
     "outputs": [],
     "prompt_number": 139
    },
    {
     "cell_type": "markdown",
     "metadata": {},
     "source": [
      "## Entrenamiento del modelo Boosted Trees"
     ]
    },
    {
     "cell_type": "code",
     "collapsed": false,
     "input": [
      "btree = gl.boosted_trees_classifier.create(training, target='class', features=['bow'], max_iterations=100)"
     ],
     "language": "python",
     "metadata": {},
     "outputs": [
      {
       "html": [
        "<pre>PROGRESS: Boosted trees classifier:\n",
        "--------------------------------------------------------\n",
        "Number of examples          : 339\n",
        "Number of feature columns   : 1\n",
        "Number of unpacked features : 299</pre>"
       ],
       "metadata": {},
       "output_type": "display_data",
       "text": [
        "PROGRESS: Boosted trees classifier:\n",
        "--------------------------------------------------------\n",
        "Number of examples          : 339\n",
        "Number of feature columns   : 1\n",
        "Number of unpacked features : 299"
       ]
      },
      {
       "html": [
        "<pre>PROGRESS: Starting Boosted Trees</pre>"
       ],
       "metadata": {},
       "output_type": "display_data",
       "text": [
        "PROGRESS: Starting Boosted Trees"
       ]
      },
      {
       "html": [
        "<pre>PROGRESS: --------------------------------------------------------</pre>"
       ],
       "metadata": {},
       "output_type": "display_data",
       "text": [
        "PROGRESS: --------------------------------------------------------"
       ]
      },
      {
       "html": [
        "<pre>PROGRESS:   Iter    Accuracy Elapsed time</pre>"
       ],
       "metadata": {},
       "output_type": "display_data",
       "text": [
        "PROGRESS:   Iter    Accuracy Elapsed time"
       ]
      },
      {
       "html": [
        "<pre>PROGRESS:      0   1.000e+00        0.01s</pre>"
       ],
       "metadata": {},
       "output_type": "display_data",
       "text": [
        "PROGRESS:      0   1.000e+00        0.01s"
       ]
      },
      {
       "html": [
        "<pre>PROGRESS:      1   1.000e+00        0.02s</pre>"
       ],
       "metadata": {},
       "output_type": "display_data",
       "text": [
        "PROGRESS:      1   1.000e+00        0.02s"
       ]
      },
      {
       "html": [
        "<pre>PROGRESS:      2   1.000e+00        0.11s</pre>"
       ],
       "metadata": {},
       "output_type": "display_data",
       "text": [
        "PROGRESS:      2   1.000e+00        0.11s"
       ]
      },
      {
       "html": [
        "<pre>PROGRESS:      3   1.000e+00        0.14s</pre>"
       ],
       "metadata": {},
       "output_type": "display_data",
       "text": [
        "PROGRESS:      3   1.000e+00        0.14s"
       ]
      },
      {
       "html": [
        "<pre>PROGRESS:      4   1.000e+00        0.17s</pre>"
       ],
       "metadata": {},
       "output_type": "display_data",
       "text": [
        "PROGRESS:      4   1.000e+00        0.17s"
       ]
      },
      {
       "html": [
        "<pre>PROGRESS:      5   1.000e+00        0.22s</pre>"
       ],
       "metadata": {},
       "output_type": "display_data",
       "text": [
        "PROGRESS:      5   1.000e+00        0.22s"
       ]
      },
      {
       "html": [
        "<pre>PROGRESS:      6   1.000e+00        0.25s</pre>"
       ],
       "metadata": {},
       "output_type": "display_data",
       "text": [
        "PROGRESS:      6   1.000e+00        0.25s"
       ]
      },
      {
       "html": [
        "<pre>PROGRESS:      7   1.000e+00        0.28s</pre>"
       ],
       "metadata": {},
       "output_type": "display_data",
       "text": [
        "PROGRESS:      7   1.000e+00        0.28s"
       ]
      },
      {
       "html": [
        "<pre>PROGRESS:      8   1.000e+00        0.32s</pre>"
       ],
       "metadata": {},
       "output_type": "display_data",
       "text": [
        "PROGRESS:      8   1.000e+00        0.32s"
       ]
      },
      {
       "html": [
        "<pre>PROGRESS:      9   1.000e+00        0.35s</pre>"
       ],
       "metadata": {},
       "output_type": "display_data",
       "text": [
        "PROGRESS:      9   1.000e+00        0.35s"
       ]
      },
      {
       "html": [
        "<pre>PROGRESS:     10   1.000e+00        0.41s</pre>"
       ],
       "metadata": {},
       "output_type": "display_data",
       "text": [
        "PROGRESS:     10   1.000e+00        0.41s"
       ]
      },
      {
       "html": [
        "<pre>PROGRESS:     11   1.000e+00        0.43s</pre>"
       ],
       "metadata": {},
       "output_type": "display_data",
       "text": [
        "PROGRESS:     11   1.000e+00        0.43s"
       ]
      },
      {
       "html": [
        "<pre>PROGRESS:     12   1.000e+00        0.43s</pre>"
       ],
       "metadata": {},
       "output_type": "display_data",
       "text": [
        "PROGRESS:     12   1.000e+00        0.43s"
       ]
      },
      {
       "html": [
        "<pre>PROGRESS:     13   1.000e+00        0.44s</pre>"
       ],
       "metadata": {},
       "output_type": "display_data",
       "text": [
        "PROGRESS:     13   1.000e+00        0.44s"
       ]
      },
      {
       "html": [
        "<pre>PROGRESS:     14   1.000e+00        0.44s</pre>"
       ],
       "metadata": {},
       "output_type": "display_data",
       "text": [
        "PROGRESS:     14   1.000e+00        0.44s"
       ]
      },
      {
       "html": [
        "<pre>PROGRESS:     15   1.000e+00        0.45s</pre>"
       ],
       "metadata": {},
       "output_type": "display_data",
       "text": [
        "PROGRESS:     15   1.000e+00        0.45s"
       ]
      },
      {
       "html": [
        "<pre>PROGRESS:     16   1.000e+00        0.56s</pre>"
       ],
       "metadata": {},
       "output_type": "display_data",
       "text": [
        "PROGRESS:     16   1.000e+00        0.56s"
       ]
      },
      {
       "html": [
        "<pre>PROGRESS:     17   1.000e+00        0.60s</pre>"
       ],
       "metadata": {},
       "output_type": "display_data",
       "text": [
        "PROGRESS:     17   1.000e+00        0.60s"
       ]
      },
      {
       "html": [
        "<pre>PROGRESS:     18   1.000e+00        0.63s</pre>"
       ],
       "metadata": {},
       "output_type": "display_data",
       "text": [
        "PROGRESS:     18   1.000e+00        0.63s"
       ]
      },
      {
       "html": [
        "<pre>PROGRESS:     19   1.000e+00        0.63s</pre>"
       ],
       "metadata": {},
       "output_type": "display_data",
       "text": [
        "PROGRESS:     19   1.000e+00        0.63s"
       ]
      },
      {
       "html": [
        "<pre>PROGRESS:     20   1.000e+00        0.68s</pre>"
       ],
       "metadata": {},
       "output_type": "display_data",
       "text": [
        "PROGRESS:     20   1.000e+00        0.68s"
       ]
      },
      {
       "html": [
        "<pre>PROGRESS:     21   1.000e+00        0.70s</pre>"
       ],
       "metadata": {},
       "output_type": "display_data",
       "text": [
        "PROGRESS:     21   1.000e+00        0.70s"
       ]
      },
      {
       "html": [
        "<pre>PROGRESS:     22   1.000e+00        0.76s</pre>"
       ],
       "metadata": {},
       "output_type": "display_data",
       "text": [
        "PROGRESS:     22   1.000e+00        0.76s"
       ]
      },
      {
       "html": [
        "<pre>PROGRESS:     23   1.000e+00        0.78s</pre>"
       ],
       "metadata": {},
       "output_type": "display_data",
       "text": [
        "PROGRESS:     23   1.000e+00        0.78s"
       ]
      },
      {
       "html": [
        "<pre>PROGRESS:     24   1.000e+00        0.79s</pre>"
       ],
       "metadata": {},
       "output_type": "display_data",
       "text": [
        "PROGRESS:     24   1.000e+00        0.79s"
       ]
      },
      {
       "html": [
        "<pre>PROGRESS:     25   1.000e+00        0.91s</pre>"
       ],
       "metadata": {},
       "output_type": "display_data",
       "text": [
        "PROGRESS:     25   1.000e+00        0.91s"
       ]
      },
      {
       "html": [
        "<pre>PROGRESS:     26   1.000e+00        0.96s</pre>"
       ],
       "metadata": {},
       "output_type": "display_data",
       "text": [
        "PROGRESS:     26   1.000e+00        0.96s"
       ]
      },
      {
       "html": [
        "<pre>PROGRESS:     27   1.000e+00        0.99s</pre>"
       ],
       "metadata": {},
       "output_type": "display_data",
       "text": [
        "PROGRESS:     27   1.000e+00        0.99s"
       ]
      },
      {
       "html": [
        "<pre>PROGRESS:     28   1.000e+00        0.99s</pre>"
       ],
       "metadata": {},
       "output_type": "display_data",
       "text": [
        "PROGRESS:     28   1.000e+00        0.99s"
       ]
      },
      {
       "html": [
        "<pre>PROGRESS:     29   1.000e+00        1.00s</pre>"
       ],
       "metadata": {},
       "output_type": "display_data",
       "text": [
        "PROGRESS:     29   1.000e+00        1.00s"
       ]
      },
      {
       "html": [
        "<pre>PROGRESS:     30   1.000e+00        1.04s</pre>"
       ],
       "metadata": {},
       "output_type": "display_data",
       "text": [
        "PROGRESS:     30   1.000e+00        1.04s"
       ]
      },
      {
       "html": [
        "<pre>PROGRESS:     31   1.000e+00        1.09s</pre>"
       ],
       "metadata": {},
       "output_type": "display_data",
       "text": [
        "PROGRESS:     31   1.000e+00        1.09s"
       ]
      },
      {
       "html": [
        "<pre>PROGRESS:     32   1.000e+00        1.25s</pre>"
       ],
       "metadata": {},
       "output_type": "display_data",
       "text": [
        "PROGRESS:     32   1.000e+00        1.25s"
       ]
      },
      {
       "html": [
        "<pre>PROGRESS:     33   1.000e+00        1.29s</pre>"
       ],
       "metadata": {},
       "output_type": "display_data",
       "text": [
        "PROGRESS:     33   1.000e+00        1.29s"
       ]
      },
      {
       "html": [
        "<pre>PROGRESS:     34   1.000e+00        1.29s</pre>"
       ],
       "metadata": {},
       "output_type": "display_data",
       "text": [
        "PROGRESS:     34   1.000e+00        1.29s"
       ]
      },
      {
       "html": [
        "<pre>PROGRESS:     35   1.000e+00        1.34s</pre>"
       ],
       "metadata": {},
       "output_type": "display_data",
       "text": [
        "PROGRESS:     35   1.000e+00        1.34s"
       ]
      },
      {
       "html": [
        "<pre>PROGRESS:     36   1.000e+00        1.36s</pre>"
       ],
       "metadata": {},
       "output_type": "display_data",
       "text": [
        "PROGRESS:     36   1.000e+00        1.36s"
       ]
      },
      {
       "html": [
        "<pre>PROGRESS:     37   1.000e+00        1.40s</pre>"
       ],
       "metadata": {},
       "output_type": "display_data",
       "text": [
        "PROGRESS:     37   1.000e+00        1.40s"
       ]
      },
      {
       "html": [
        "<pre>PROGRESS:     38   1.000e+00        1.42s</pre>"
       ],
       "metadata": {},
       "output_type": "display_data",
       "text": [
        "PROGRESS:     38   1.000e+00        1.42s"
       ]
      },
      {
       "html": [
        "<pre>PROGRESS:     39   1.000e+00        1.42s</pre>"
       ],
       "metadata": {},
       "output_type": "display_data",
       "text": [
        "PROGRESS:     39   1.000e+00        1.42s"
       ]
      },
      {
       "html": [
        "<pre>PROGRESS:     40   1.000e+00        1.42s</pre>"
       ],
       "metadata": {},
       "output_type": "display_data",
       "text": [
        "PROGRESS:     40   1.000e+00        1.42s"
       ]
      },
      {
       "html": [
        "<pre>PROGRESS:     41   1.000e+00        1.43s</pre>"
       ],
       "metadata": {},
       "output_type": "display_data",
       "text": [
        "PROGRESS:     41   1.000e+00        1.43s"
       ]
      },
      {
       "html": [
        "<pre>PROGRESS:     42   1.000e+00        1.43s</pre>"
       ],
       "metadata": {},
       "output_type": "display_data",
       "text": [
        "PROGRESS:     42   1.000e+00        1.43s"
       ]
      },
      {
       "html": [
        "<pre>PROGRESS:     43   1.000e+00        1.43s</pre>"
       ],
       "metadata": {},
       "output_type": "display_data",
       "text": [
        "PROGRESS:     43   1.000e+00        1.43s"
       ]
      },
      {
       "html": [
        "<pre>PROGRESS:     44   1.000e+00        1.44s</pre>"
       ],
       "metadata": {},
       "output_type": "display_data",
       "text": [
        "PROGRESS:     44   1.000e+00        1.44s"
       ]
      },
      {
       "html": [
        "<pre>PROGRESS:     45   1.000e+00        1.52s</pre>"
       ],
       "metadata": {},
       "output_type": "display_data",
       "text": [
        "PROGRESS:     45   1.000e+00        1.52s"
       ]
      },
      {
       "html": [
        "<pre>PROGRESS:     46   1.000e+00        1.54s</pre>"
       ],
       "metadata": {},
       "output_type": "display_data",
       "text": [
        "PROGRESS:     46   1.000e+00        1.54s"
       ]
      },
      {
       "html": [
        "<pre>PROGRESS:     47   1.000e+00        1.55s</pre>"
       ],
       "metadata": {},
       "output_type": "display_data",
       "text": [
        "PROGRESS:     47   1.000e+00        1.55s"
       ]
      },
      {
       "html": [
        "<pre>PROGRESS:     48   1.000e+00        1.58s</pre>"
       ],
       "metadata": {},
       "output_type": "display_data",
       "text": [
        "PROGRESS:     48   1.000e+00        1.58s"
       ]
      },
      {
       "html": [
        "<pre>PROGRESS:     49   1.000e+00        1.60s</pre>"
       ],
       "metadata": {},
       "output_type": "display_data",
       "text": [
        "PROGRESS:     49   1.000e+00        1.60s"
       ]
      },
      {
       "html": [
        "<pre>PROGRESS:     50   1.000e+00        1.60s</pre>"
       ],
       "metadata": {},
       "output_type": "display_data",
       "text": [
        "PROGRESS:     50   1.000e+00        1.60s"
       ]
      },
      {
       "html": [
        "<pre>PROGRESS:     51   1.000e+00        1.61s</pre>"
       ],
       "metadata": {},
       "output_type": "display_data",
       "text": [
        "PROGRESS:     51   1.000e+00        1.61s"
       ]
      },
      {
       "html": [
        "<pre>PROGRESS:     52   1.000e+00        1.61s</pre>"
       ],
       "metadata": {},
       "output_type": "display_data",
       "text": [
        "PROGRESS:     52   1.000e+00        1.61s"
       ]
      },
      {
       "html": [
        "<pre>PROGRESS:     53   1.000e+00        1.61s</pre>"
       ],
       "metadata": {},
       "output_type": "display_data",
       "text": [
        "PROGRESS:     53   1.000e+00        1.61s"
       ]
      },
      {
       "html": [
        "<pre>PROGRESS:     54   1.000e+00        1.61s</pre>"
       ],
       "metadata": {},
       "output_type": "display_data",
       "text": [
        "PROGRESS:     54   1.000e+00        1.61s"
       ]
      },
      {
       "html": [
        "<pre>PROGRESS:     55   1.000e+00        1.62s</pre>"
       ],
       "metadata": {},
       "output_type": "display_data",
       "text": [
        "PROGRESS:     55   1.000e+00        1.62s"
       ]
      },
      {
       "html": [
        "<pre>PROGRESS:     56   1.000e+00        1.63s</pre>"
       ],
       "metadata": {},
       "output_type": "display_data",
       "text": [
        "PROGRESS:     56   1.000e+00        1.63s"
       ]
      },
      {
       "html": [
        "<pre>PROGRESS:     57   1.000e+00        1.83s</pre>"
       ],
       "metadata": {},
       "output_type": "display_data",
       "text": [
        "PROGRESS:     57   1.000e+00        1.83s"
       ]
      },
      {
       "html": [
        "<pre>PROGRESS:     58   1.000e+00        1.87s</pre>"
       ],
       "metadata": {},
       "output_type": "display_data",
       "text": [
        "PROGRESS:     58   1.000e+00        1.87s"
       ]
      },
      {
       "html": [
        "<pre>PROGRESS:     59   1.000e+00        1.91s</pre>"
       ],
       "metadata": {},
       "output_type": "display_data",
       "text": [
        "PROGRESS:     59   1.000e+00        1.91s"
       ]
      },
      {
       "html": [
        "<pre>PROGRESS:     60   1.000e+00        1.91s</pre>"
       ],
       "metadata": {},
       "output_type": "display_data",
       "text": [
        "PROGRESS:     60   1.000e+00        1.91s"
       ]
      },
      {
       "html": [
        "<pre>PROGRESS:     61   1.000e+00        1.91s</pre>"
       ],
       "metadata": {},
       "output_type": "display_data",
       "text": [
        "PROGRESS:     61   1.000e+00        1.91s"
       ]
      },
      {
       "html": [
        "<pre>PROGRESS:     62   1.000e+00        1.91s</pre>"
       ],
       "metadata": {},
       "output_type": "display_data",
       "text": [
        "PROGRESS:     62   1.000e+00        1.91s"
       ]
      },
      {
       "html": [
        "<pre>PROGRESS:     63   1.000e+00        1.96s</pre>"
       ],
       "metadata": {},
       "output_type": "display_data",
       "text": [
        "PROGRESS:     63   1.000e+00        1.96s"
       ]
      },
      {
       "html": [
        "<pre>PROGRESS:     64   1.000e+00        2.00s</pre>"
       ],
       "metadata": {},
       "output_type": "display_data",
       "text": [
        "PROGRESS:     64   1.000e+00        2.00s"
       ]
      },
      {
       "html": [
        "<pre>PROGRESS:     65   1.000e+00        2.04s</pre>"
       ],
       "metadata": {},
       "output_type": "display_data",
       "text": [
        "PROGRESS:     65   1.000e+00        2.04s"
       ]
      },
      {
       "html": [
        "<pre>PROGRESS:     66   1.000e+00        2.08s</pre>"
       ],
       "metadata": {},
       "output_type": "display_data",
       "text": [
        "PROGRESS:     66   1.000e+00        2.08s"
       ]
      },
      {
       "html": [
        "<pre>PROGRESS:     67   1.000e+00        2.09s</pre>"
       ],
       "metadata": {},
       "output_type": "display_data",
       "text": [
        "PROGRESS:     67   1.000e+00        2.09s"
       ]
      },
      {
       "html": [
        "<pre>PROGRESS:     68   1.000e+00        2.11s</pre>"
       ],
       "metadata": {},
       "output_type": "display_data",
       "text": [
        "PROGRESS:     68   1.000e+00        2.11s"
       ]
      },
      {
       "html": [
        "<pre>PROGRESS:     69   1.000e+00        2.11s</pre>"
       ],
       "metadata": {},
       "output_type": "display_data",
       "text": [
        "PROGRESS:     69   1.000e+00        2.11s"
       ]
      },
      {
       "html": [
        "<pre>PROGRESS:     70   1.000e+00        2.11s</pre>"
       ],
       "metadata": {},
       "output_type": "display_data",
       "text": [
        "PROGRESS:     70   1.000e+00        2.11s"
       ]
      },
      {
       "html": [
        "<pre>PROGRESS:     71   1.000e+00        2.11s</pre>"
       ],
       "metadata": {},
       "output_type": "display_data",
       "text": [
        "PROGRESS:     71   1.000e+00        2.11s"
       ]
      },
      {
       "html": [
        "<pre>PROGRESS:     72   1.000e+00        2.12s</pre>"
       ],
       "metadata": {},
       "output_type": "display_data",
       "text": [
        "PROGRESS:     72   1.000e+00        2.12s"
       ]
      },
      {
       "html": [
        "<pre>PROGRESS:     73   1.000e+00        2.12s</pre>"
       ],
       "metadata": {},
       "output_type": "display_data",
       "text": [
        "PROGRESS:     73   1.000e+00        2.12s"
       ]
      },
      {
       "html": [
        "<pre>PROGRESS:     74   1.000e+00        2.13s</pre>"
       ],
       "metadata": {},
       "output_type": "display_data",
       "text": [
        "PROGRESS:     74   1.000e+00        2.13s"
       ]
      },
      {
       "html": [
        "<pre>PROGRESS:     75   1.000e+00        2.27s</pre>"
       ],
       "metadata": {},
       "output_type": "display_data",
       "text": [
        "PROGRESS:     75   1.000e+00        2.27s"
       ]
      },
      {
       "html": [
        "<pre>PROGRESS:     76   1.000e+00        2.29s</pre>"
       ],
       "metadata": {},
       "output_type": "display_data",
       "text": [
        "PROGRESS:     76   1.000e+00        2.29s"
       ]
      },
      {
       "html": [
        "<pre>PROGRESS:     77   1.000e+00        2.32s</pre>"
       ],
       "metadata": {},
       "output_type": "display_data",
       "text": [
        "PROGRESS:     77   1.000e+00        2.32s"
       ]
      },
      {
       "html": [
        "<pre>PROGRESS:     78   1.000e+00        2.32s</pre>"
       ],
       "metadata": {},
       "output_type": "display_data",
       "text": [
        "PROGRESS:     78   1.000e+00        2.32s"
       ]
      },
      {
       "html": [
        "<pre>PROGRESS:     79   1.000e+00        2.33s</pre>"
       ],
       "metadata": {},
       "output_type": "display_data",
       "text": [
        "PROGRESS:     79   1.000e+00        2.33s"
       ]
      },
      {
       "html": [
        "<pre>PROGRESS:     80   1.000e+00        2.33s</pre>"
       ],
       "metadata": {},
       "output_type": "display_data",
       "text": [
        "PROGRESS:     80   1.000e+00        2.33s"
       ]
      },
      {
       "html": [
        "<pre>PROGRESS:     81   1.000e+00        2.39s</pre>"
       ],
       "metadata": {},
       "output_type": "display_data",
       "text": [
        "PROGRESS:     81   1.000e+00        2.39s"
       ]
      },
      {
       "html": [
        "<pre>PROGRESS:     82   1.000e+00        2.43s</pre>"
       ],
       "metadata": {},
       "output_type": "display_data",
       "text": [
        "PROGRESS:     82   1.000e+00        2.43s"
       ]
      },
      {
       "html": [
        "<pre>PROGRESS:     83   1.000e+00        2.46s</pre>"
       ],
       "metadata": {},
       "output_type": "display_data",
       "text": [
        "PROGRESS:     83   1.000e+00        2.46s"
       ]
      },
      {
       "html": [
        "<pre>PROGRESS:     84   1.000e+00        2.47s</pre>"
       ],
       "metadata": {},
       "output_type": "display_data",
       "text": [
        "PROGRESS:     84   1.000e+00        2.47s"
       ]
      },
      {
       "html": [
        "<pre>PROGRESS:     85   1.000e+00        2.52s</pre>"
       ],
       "metadata": {},
       "output_type": "display_data",
       "text": [
        "PROGRESS:     85   1.000e+00        2.52s"
       ]
      },
      {
       "html": [
        "<pre>PROGRESS:     86   1.000e+00        2.59s</pre>"
       ],
       "metadata": {},
       "output_type": "display_data",
       "text": [
        "PROGRESS:     86   1.000e+00        2.59s"
       ]
      },
      {
       "html": [
        "<pre>PROGRESS:     87   1.000e+00        2.62s</pre>"
       ],
       "metadata": {},
       "output_type": "display_data",
       "text": [
        "PROGRESS:     87   1.000e+00        2.62s"
       ]
      },
      {
       "html": [
        "<pre>PROGRESS:     88   1.000e+00        2.62s</pre>"
       ],
       "metadata": {},
       "output_type": "display_data",
       "text": [
        "PROGRESS:     88   1.000e+00        2.62s"
       ]
      },
      {
       "html": [
        "<pre>PROGRESS:     89   1.000e+00        2.62s</pre>"
       ],
       "metadata": {},
       "output_type": "display_data",
       "text": [
        "PROGRESS:     89   1.000e+00        2.62s"
       ]
      },
      {
       "html": [
        "<pre>PROGRESS:     90   1.000e+00        2.67s</pre>"
       ],
       "metadata": {},
       "output_type": "display_data",
       "text": [
        "PROGRESS:     90   1.000e+00        2.67s"
       ]
      },
      {
       "html": [
        "<pre>PROGRESS:     91   1.000e+00        2.69s</pre>"
       ],
       "metadata": {},
       "output_type": "display_data",
       "text": [
        "PROGRESS:     91   1.000e+00        2.69s"
       ]
      },
      {
       "html": [
        "<pre>PROGRESS:     92   1.000e+00        2.75s</pre>"
       ],
       "metadata": {},
       "output_type": "display_data",
       "text": [
        "PROGRESS:     92   1.000e+00        2.75s"
       ]
      },
      {
       "html": [
        "<pre>PROGRESS:     93   1.000e+00        2.78s</pre>"
       ],
       "metadata": {},
       "output_type": "display_data",
       "text": [
        "PROGRESS:     93   1.000e+00        2.78s"
       ]
      },
      {
       "html": [
        "<pre>PROGRESS:     94   1.000e+00        2.78s</pre>"
       ],
       "metadata": {},
       "output_type": "display_data",
       "text": [
        "PROGRESS:     94   1.000e+00        2.78s"
       ]
      },
      {
       "html": [
        "<pre>PROGRESS:     95   1.000e+00        2.78s</pre>"
       ],
       "metadata": {},
       "output_type": "display_data",
       "text": [
        "PROGRESS:     95   1.000e+00        2.78s"
       ]
      },
      {
       "html": [
        "<pre>PROGRESS:     96   1.000e+00        2.79s</pre>"
       ],
       "metadata": {},
       "output_type": "display_data",
       "text": [
        "PROGRESS:     96   1.000e+00        2.79s"
       ]
      },
      {
       "html": [
        "<pre>PROGRESS:     97   1.000e+00        2.85s</pre>"
       ],
       "metadata": {},
       "output_type": "display_data",
       "text": [
        "PROGRESS:     97   1.000e+00        2.85s"
       ]
      },
      {
       "html": [
        "<pre>PROGRESS:     98   1.000e+00        2.87s</pre>"
       ],
       "metadata": {},
       "output_type": "display_data",
       "text": [
        "PROGRESS:     98   1.000e+00        2.87s"
       ]
      },
      {
       "html": [
        "<pre>PROGRESS:     99   1.000e+00        2.88s</pre>"
       ],
       "metadata": {},
       "output_type": "display_data",
       "text": [
        "PROGRESS:     99   1.000e+00        2.88s"
       ]
      }
     ],
     "prompt_number": 140
    },
    {
     "cell_type": "markdown",
     "metadata": {},
     "source": [
      "## Clasificaci\u00f3n de las etiquetas"
     ]
    },
    {
     "cell_type": "code",
     "collapsed": false,
     "input": [
      "bowt = gl.text_analytics.count_words(etiquetas['tags'])\n",
      "stopwordst = gl.text_analytics.stopwords()\n",
      "etiquetas['bow'] = bowt.dict_trim_by_keys(stopwords, exclude=True)"
     ],
     "language": "python",
     "metadata": {},
     "outputs": [],
     "prompt_number": 141
    },
    {
     "cell_type": "code",
     "collapsed": false,
     "input": [
      "pred = btree.predict(etiquetas)"
     ],
     "language": "python",
     "metadata": {},
     "outputs": [],
     "prompt_number": 142
    },
    {
     "cell_type": "code",
     "collapsed": false,
     "input": [
      "pred"
     ],
     "language": "python",
     "metadata": {},
     "outputs": [
      {
       "metadata": {},
       "output_type": "pyout",
       "prompt_number": 143,
       "text": [
        "dtype: str\n",
        "Rows: 16\n",
        "['MODA', 'ANIMALES', 'ARTE/LITERATURA', 'ARTE/LITERATURA', 'MODA', 'ARTE/LITERATURA', 'MODA', 'NATURALEZA', 'ESPECTACULOS/EVENTOS', 'COMIDA/RESTAURACION', 'ARTE/LITERATURA', 'ARTE/LITERATURA', 'COMIDA/RESTAURACION', 'ARTE/LITERATURA', 'DEPORTE', 'AUTOMOVIL/MOTOR']"
       ]
      }
     ],
     "prompt_number": 143
    },
    {
     "cell_type": "code",
     "collapsed": false,
     "input": [
      "etiquetas.add_column(pred, name='class')"
     ],
     "language": "python",
     "metadata": {},
     "outputs": [
      {
       "html": [
        "<div style=\"max-height:1000px;max-width:1500px;overflow:auto;\"><table frame=\"box\" rules=\"cols\">\n",
        "    <tr>\n",
        "        <th style=\"padding-left: 1em; padding-right: 1em; text-align: center\">score</th>\n",
        "        <th style=\"padding-left: 1em; padding-right: 1em; text-align: center\">tags</th>\n",
        "        <th style=\"padding-left: 1em; padding-right: 1em; text-align: center\">url</th>\n",
        "        <th style=\"padding-left: 1em; padding-right: 1em; text-align: center\">bow</th>\n",
        "    </tr>\n",
        "    <tr>\n",
        "        <td style=\"padding-left: 1em; padding-right: 1em; text-align: center; vertical-align: top\">0.549892246723</td>\n",
        "        <td style=\"padding-left: 1em; padding-right: 1em; text-align: center; vertical-align: top\">French loaf</td>\n",
        "        <td style=\"padding-left: 1em; padding-right: 1em; text-align: center; vertical-align: top\">http://scontent-a.cdninst<br>agram.com/hphotos-xaf ...</td>\n",
        "        <td style=\"padding-left: 1em; padding-right: 1em; text-align: center; vertical-align: top\">{'loaf': 1, 'french': 1}</td>\n",
        "    </tr>\n",
        "    <tr>\n",
        "        <td style=\"padding-left: 1em; padding-right: 1em; text-align: center; vertical-align: top\">0.551449418068</td>\n",
        "        <td style=\"padding-left: 1em; padding-right: 1em; text-align: center; vertical-align: top\">Doberman, Doberman<br>pinscher</td>\n",
        "        <td style=\"padding-left: 1em; padding-right: 1em; text-align: center; vertical-align: top\">http://scontent-a.cdninst<br>agram.com/hphotos-xaf ...</td>\n",
        "        <td style=\"padding-left: 1em; padding-right: 1em; text-align: center; vertical-align: top\">{'doberman': 2,<br>'pinscher': 1}</td>\n",
        "    </tr>\n",
        "    <tr>\n",
        "        <td style=\"padding-left: 1em; padding-right: 1em; text-align: center; vertical-align: top\">0.796123981476</td>\n",
        "        <td style=\"padding-left: 1em; padding-right: 1em; text-align: center; vertical-align: top\">comic book</td>\n",
        "        <td style=\"padding-left: 1em; padding-right: 1em; text-align: center; vertical-align: top\">http://scontent-a.cdninst<br>agram.com/hphotos-xfa ...</td>\n",
        "        <td style=\"padding-left: 1em; padding-right: 1em; text-align: center; vertical-align: top\">{'comic': 1, 'book': 1}</td>\n",
        "    </tr>\n",
        "    <tr>\n",
        "        <td style=\"padding-left: 1em; padding-right: 1em; text-align: center; vertical-align: top\">0.702857732773</td>\n",
        "        <td style=\"padding-left: 1em; padding-right: 1em; text-align: center; vertical-align: top\">book jacket, dust cover,<br>dust jacket, dust wra ...</td>\n",
        "        <td style=\"padding-left: 1em; padding-right: 1em; text-align: center; vertical-align: top\">http://scontent-a.cdninst<br>agram.com/hphotos-xaf ...</td>\n",
        "        <td style=\"padding-left: 1em; padding-right: 1em; text-align: center; vertical-align: top\">{'dust': 3, 'jacket': 2,<br>'book': 1, 'cover': 1 ...</td>\n",
        "    </tr>\n",
        "    <tr>\n",
        "        <td style=\"padding-left: 1em; padding-right: 1em; text-align: center; vertical-align: top\">0.749677658081</td>\n",
        "        <td style=\"padding-left: 1em; padding-right: 1em; text-align: center; vertical-align: top\">Band Aid</td>\n",
        "        <td style=\"padding-left: 1em; padding-right: 1em; text-align: center; vertical-align: top\">http://scontent-a.cdninst<br>agram.com/hphotos-xfa ...</td>\n",
        "        <td style=\"padding-left: 1em; padding-right: 1em; text-align: center; vertical-align: top\">{'aid': 1, 'band': 1}</td>\n",
        "    </tr>\n",
        "    <tr>\n",
        "        <td style=\"padding-left: 1em; padding-right: 1em; text-align: center; vertical-align: top\">0.608224987984</td>\n",
        "        <td style=\"padding-left: 1em; padding-right: 1em; text-align: center; vertical-align: top\">envelope</td>\n",
        "        <td style=\"padding-left: 1em; padding-right: 1em; text-align: center; vertical-align: top\">http://scontent-a.cdninst<br>agram.com/hphotos-xaf ...</td>\n",
        "        <td style=\"padding-left: 1em; padding-right: 1em; text-align: center; vertical-align: top\">{'envelope': 1}</td>\n",
        "    </tr>\n",
        "    <tr>\n",
        "        <td style=\"padding-left: 1em; padding-right: 1em; text-align: center; vertical-align: top\">0.69820022583</td>\n",
        "        <td style=\"padding-left: 1em; padding-right: 1em; text-align: center; vertical-align: top\">sombrero</td>\n",
        "        <td style=\"padding-left: 1em; padding-right: 1em; text-align: center; vertical-align: top\">http://scontent-a.cdninst<br>agram.com/hphotos-xaf ...</td>\n",
        "        <td style=\"padding-left: 1em; padding-right: 1em; text-align: center; vertical-align: top\">{'sombrero': 1}</td>\n",
        "    </tr>\n",
        "    <tr>\n",
        "        <td style=\"padding-left: 1em; padding-right: 1em; text-align: center; vertical-align: top\">0.717392086983</td>\n",
        "        <td style=\"padding-left: 1em; padding-right: 1em; text-align: center; vertical-align: top\">seashore, coast,<br>seacoast, sea-coast</td>\n",
        "        <td style=\"padding-left: 1em; padding-right: 1em; text-align: center; vertical-align: top\">http://scontent-a.cdninst<br>agram.com/hphotos-xpa ...</td>\n",
        "        <td style=\"padding-left: 1em; padding-right: 1em; text-align: center; vertical-align: top\">{'seashore': 1,<br>'seacoast': 1, 'sea': ...</td>\n",
        "    </tr>\n",
        "    <tr>\n",
        "        <td style=\"padding-left: 1em; padding-right: 1em; text-align: center; vertical-align: top\">0.51837772131</td>\n",
        "        <td style=\"padding-left: 1em; padding-right: 1em; text-align: center; vertical-align: top\">stretcher</td>\n",
        "        <td style=\"padding-left: 1em; padding-right: 1em; text-align: center; vertical-align: top\">http://scontent-a.cdninst<br>agram.com/hphotos-xfp ...</td>\n",
        "        <td style=\"padding-left: 1em; padding-right: 1em; text-align: center; vertical-align: top\">{'stretcher': 1}</td>\n",
        "    </tr>\n",
        "    <tr>\n",
        "        <td style=\"padding-left: 1em; padding-right: 1em; text-align: center; vertical-align: top\">0.523460745811</td>\n",
        "        <td style=\"padding-left: 1em; padding-right: 1em; text-align: center; vertical-align: top\">measuring cup</td>\n",
        "        <td style=\"padding-left: 1em; padding-right: 1em; text-align: center; vertical-align: top\">http://scontent-b.cdninst<br>agram.com/hphotos-xap ...</td>\n",
        "        <td style=\"padding-left: 1em; padding-right: 1em; text-align: center; vertical-align: top\">{'measuring': 1, 'cup':<br>1}</td>\n",
        "    </tr>\n",
        "</table>\n",
        "<table frame=\"box\" rules=\"cols\">\n",
        "    <tr>\n",
        "        <th style=\"padding-left: 1em; padding-right: 1em; text-align: center\">class</th>\n",
        "    </tr>\n",
        "    <tr>\n",
        "        <td style=\"padding-left: 1em; padding-right: 1em; text-align: center; vertical-align: top\">MODA</td>\n",
        "    </tr>\n",
        "    <tr>\n",
        "        <td style=\"padding-left: 1em; padding-right: 1em; text-align: center; vertical-align: top\">ANIMALES</td>\n",
        "    </tr>\n",
        "    <tr>\n",
        "        <td style=\"padding-left: 1em; padding-right: 1em; text-align: center; vertical-align: top\">ARTE/LITERATURA</td>\n",
        "    </tr>\n",
        "    <tr>\n",
        "        <td style=\"padding-left: 1em; padding-right: 1em; text-align: center; vertical-align: top\">ARTE/LITERATURA</td>\n",
        "    </tr>\n",
        "    <tr>\n",
        "        <td style=\"padding-left: 1em; padding-right: 1em; text-align: center; vertical-align: top\">MODA</td>\n",
        "    </tr>\n",
        "    <tr>\n",
        "        <td style=\"padding-left: 1em; padding-right: 1em; text-align: center; vertical-align: top\">ARTE/LITERATURA</td>\n",
        "    </tr>\n",
        "    <tr>\n",
        "        <td style=\"padding-left: 1em; padding-right: 1em; text-align: center; vertical-align: top\">MODA</td>\n",
        "    </tr>\n",
        "    <tr>\n",
        "        <td style=\"padding-left: 1em; padding-right: 1em; text-align: center; vertical-align: top\">NATURALEZA</td>\n",
        "    </tr>\n",
        "    <tr>\n",
        "        <td style=\"padding-left: 1em; padding-right: 1em; text-align: center; vertical-align: top\">ESPECTACULOS/EVENTOS</td>\n",
        "    </tr>\n",
        "    <tr>\n",
        "        <td style=\"padding-left: 1em; padding-right: 1em; text-align: center; vertical-align: top\">COMIDA/RESTAURACION</td>\n",
        "    </tr>\n",
        "    <tr>\n",
        "        <td style=\"padding-left: 1em; padding-right: 1em; text-align: center; vertical-align: top\">...</td>\n",
        "    </tr>\n",
        "</table>\n",
        "[16 rows x 5 columns]<br/>Note: Only the head of the SFrame is printed.<br/>You can use print_rows(num_rows=m, num_columns=n) to print more rows and columns.\n",
        "</div>"
       ],
       "metadata": {},
       "output_type": "pyout",
       "prompt_number": 144,
       "text": [
        "Columns:\n",
        "\tscore\tfloat\n",
        "\ttags\tstr\n",
        "\turl\tstr\n",
        "\tbow\tdict\n",
        "\tclass\tstr\n",
        "\n",
        "Rows: 16\n",
        "\n",
        "Data:\n",
        "+----------------+--------------------------------+\n",
        "|     score      |              tags              |\n",
        "+----------------+--------------------------------+\n",
        "| 0.549892246723 |          French loaf           |\n",
        "| 0.551449418068 |  Doberman, Doberman pinscher   |\n",
        "| 0.796123981476 |           comic book           |\n",
        "| 0.702857732773 | book jacket, dust cover, d ... |\n",
        "| 0.749677658081 |            Band Aid            |\n",
        "| 0.608224987984 |            envelope            |\n",
        "| 0.69820022583  |            sombrero            |\n",
        "| 0.717392086983 | seashore, coast, seacoast, ... |\n",
        "| 0.51837772131  |           stretcher            |\n",
        "| 0.523460745811 |         measuring cup          |\n",
        "+----------------+--------------------------------+\n",
        "+--------------------------------+--------------------------------+\n",
        "|              url               |              bow               |\n",
        "+--------------------------------+--------------------------------+\n",
        "| http://scontent-a.cdninsta ... |    {'loaf': 1, 'french': 1}    |\n",
        "| http://scontent-a.cdninsta ... | {'doberman': 2, 'pinscher': 1} |\n",
        "| http://scontent-a.cdninsta ... |    {'comic': 1, 'book': 1}     |\n",
        "| http://scontent-a.cdninsta ... | {'dust': 3, 'jacket': 2, ' ... |\n",
        "| http://scontent-a.cdninsta ... |     {'aid': 1, 'band': 1}      |\n",
        "| http://scontent-a.cdninsta ... |        {'envelope': 1}         |\n",
        "| http://scontent-a.cdninsta ... |        {'sombrero': 1}         |\n",
        "| http://scontent-a.cdninsta ... | {'seashore': 1, 'seacoast' ... |\n",
        "| http://scontent-a.cdninsta ... |        {'stretcher': 1}        |\n",
        "| http://scontent-b.cdninsta ... |   {'measuring': 1, 'cup': 1}   |\n",
        "+--------------------------------+--------------------------------+\n",
        "+----------------------+\n",
        "|        class         |\n",
        "+----------------------+\n",
        "|         MODA         |\n",
        "|       ANIMALES       |\n",
        "|   ARTE/LITERATURA    |\n",
        "|   ARTE/LITERATURA    |\n",
        "|         MODA         |\n",
        "|   ARTE/LITERATURA    |\n",
        "|         MODA         |\n",
        "|      NATURALEZA      |\n",
        "| ESPECTACULOS/EVENTOS |\n",
        "| COMIDA/RESTAURACION  |\n",
        "|         ...          |\n",
        "+----------------------+\n",
        "[16 rows x 5 columns]\n",
        "Note: Only the head of the SFrame is printed.\n",
        "You can use print_rows(num_rows=m, num_columns=n) to print more rows and columns."
       ]
      }
     ],
     "prompt_number": 144
    },
    {
     "cell_type": "code",
     "collapsed": false,
     "input": [
      "resultados = etiquetas.groupby(\"class\", {'count':gl.aggregate.COUNT()})\n",
      "resultados"
     ],
     "language": "python",
     "metadata": {},
     "outputs": [
      {
       "html": [
        "<div style=\"max-height:1000px;max-width:1500px;overflow:auto;\"><table frame=\"box\" rules=\"cols\">\n",
        "    <tr>\n",
        "        <th style=\"padding-left: 1em; padding-right: 1em; text-align: center\">class</th>\n",
        "        <th style=\"padding-left: 1em; padding-right: 1em; text-align: center\">count</th>\n",
        "    </tr>\n",
        "    <tr>\n",
        "        <td style=\"padding-left: 1em; padding-right: 1em; text-align: center; vertical-align: top\">NATURALEZA</td>\n",
        "        <td style=\"padding-left: 1em; padding-right: 1em; text-align: center; vertical-align: top\">1</td>\n",
        "    </tr>\n",
        "    <tr>\n",
        "        <td style=\"padding-left: 1em; padding-right: 1em; text-align: center; vertical-align: top\">DEPORTE</td>\n",
        "        <td style=\"padding-left: 1em; padding-right: 1em; text-align: center; vertical-align: top\">1</td>\n",
        "    </tr>\n",
        "    <tr>\n",
        "        <td style=\"padding-left: 1em; padding-right: 1em; text-align: center; vertical-align: top\">COMIDA/RESTAURACION</td>\n",
        "        <td style=\"padding-left: 1em; padding-right: 1em; text-align: center; vertical-align: top\">2</td>\n",
        "    </tr>\n",
        "    <tr>\n",
        "        <td style=\"padding-left: 1em; padding-right: 1em; text-align: center; vertical-align: top\">MODA</td>\n",
        "        <td style=\"padding-left: 1em; padding-right: 1em; text-align: center; vertical-align: top\">3</td>\n",
        "    </tr>\n",
        "    <tr>\n",
        "        <td style=\"padding-left: 1em; padding-right: 1em; text-align: center; vertical-align: top\">AUTOMOVIL/MOTOR</td>\n",
        "        <td style=\"padding-left: 1em; padding-right: 1em; text-align: center; vertical-align: top\">1</td>\n",
        "    </tr>\n",
        "    <tr>\n",
        "        <td style=\"padding-left: 1em; padding-right: 1em; text-align: center; vertical-align: top\">ESPECTACULOS/EVENTOS</td>\n",
        "        <td style=\"padding-left: 1em; padding-right: 1em; text-align: center; vertical-align: top\">1</td>\n",
        "    </tr>\n",
        "    <tr>\n",
        "        <td style=\"padding-left: 1em; padding-right: 1em; text-align: center; vertical-align: top\">ARTE/LITERATURA</td>\n",
        "        <td style=\"padding-left: 1em; padding-right: 1em; text-align: center; vertical-align: top\">6</td>\n",
        "    </tr>\n",
        "    <tr>\n",
        "        <td style=\"padding-left: 1em; padding-right: 1em; text-align: center; vertical-align: top\">ANIMALES</td>\n",
        "        <td style=\"padding-left: 1em; padding-right: 1em; text-align: center; vertical-align: top\">1</td>\n",
        "    </tr>\n",
        "</table>\n",
        "[8 rows x 2 columns]<br/>\n",
        "</div>"
       ],
       "metadata": {},
       "output_type": "pyout",
       "prompt_number": 148,
       "text": [
        "Columns:\n",
        "\tclass\tstr\n",
        "\tcount\tint\n",
        "\n",
        "Rows: 8\n",
        "\n",
        "Data:\n",
        "+----------------------+-------+\n",
        "|        class         | count |\n",
        "+----------------------+-------+\n",
        "|      NATURALEZA      |   1   |\n",
        "|       DEPORTE        |   1   |\n",
        "| COMIDA/RESTAURACION  |   2   |\n",
        "|         MODA         |   3   |\n",
        "|   AUTOMOVIL/MOTOR    |   1   |\n",
        "| ESPECTACULOS/EVENTOS |   1   |\n",
        "|   ARTE/LITERATURA    |   6   |\n",
        "|       ANIMALES       |   1   |\n",
        "+----------------------+-------+\n",
        "[8 rows x 2 columns]"
       ]
      }
     ],
     "prompt_number": 148
    },
    {
     "cell_type": "code",
     "collapsed": false,
     "input": [
      "resultados.show()"
     ],
     "language": "python",
     "metadata": {},
     "outputs": [],
     "prompt_number": 149
    },
    {
     "cell_type": "code",
     "collapsed": false,
     "input": [
      "#etiquetas.save('data_csv/Instagram_Res/'+user+'.csv', format='csv')"
     ],
     "language": "python",
     "metadata": {},
     "outputs": [],
     "prompt_number": 104
    }
   ],
   "metadata": {}
  }
 ]
}