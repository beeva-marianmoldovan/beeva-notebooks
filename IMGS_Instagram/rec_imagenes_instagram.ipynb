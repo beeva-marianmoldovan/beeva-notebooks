{
 "metadata": {
  "name": "",
  "signature": "sha256:4fc283b91c90801998fad3e4cabb4c4b76580ebea8e17af363b6f2fe10924ed2"
 },
 "nbformat": 3,
 "nbformat_minor": 0,
 "worksheets": [
  {
   "cells": [
    {
     "cell_type": "code",
     "collapsed": true,
     "input": [
      "import graphlab as gl\n",
      "import ast\n",
      "import time"
     ],
     "language": "python",
     "metadata": {},
     "outputs": [
      {
       "output_type": "stream",
       "stream": "stderr",
       "text": [
        "A newer version of GraphLab Create (v1.3) is available! Your current version is v1.1.\n",
        "You can use pip to upgrade the graphlab-create package. For more information see http://graphlab.com/products/create/upgrade."
       ]
      }
     ],
     "prompt_number": 1
    },
    {
     "cell_type": "markdown",
     "metadata": {},
     "source": [
      "# Etiquetas IMAGENET"
     ]
    },
    {
     "cell_type": "code",
     "collapsed": true,
     "input": [
      "infile = open('etiquetas_imagenet.txt', 'r')"
     ],
     "language": "python",
     "metadata": {},
     "outputs": [],
     "prompt_number": 2
    },
    {
     "cell_type": "code",
     "collapsed": true,
     "input": [
      "label_to_text = ast.literal_eval(infile.read())"
     ],
     "language": "python",
     "metadata": {},
     "outputs": [],
     "prompt_number": 3
    },
    {
     "cell_type": "markdown",
     "metadata": {},
     "source": [
      "# Carga del modelo y m\u00e9todo predictor"
     ]
    },
    {
     "cell_type": "code",
     "collapsed": true,
     "input": [
      "def predict_image_url(url):\n",
      "    #pretrained_model = gl.load_model('~/Desktop');\n",
      "    #pretrained_model = gl.load_model('http://s3.amazonaws.com/GraphLab-Datasets/deeplearning/imagenet_model_iter45')\n",
      "    \n",
      "    # Si ya tenemos el modelo entrenado con el dataset de imagenet almacenado en local\n",
      "    pretrained_model = gl.load_model('pretrained_model')\n",
      "    \n",
      "    image_sf = gl.SFrame({'image': [gl.Image(url)]})\n",
      "    image_sf['image'] = gl.image_analysis.resize(image_sf['image'], 256, 256, 3)\n",
      "    top_labels = pretrained_model.predict_topk(image_sf, k=5)\n",
      "    top_labels['class_text'] = top_labels['class'].apply(lambda x: label_to_text[x])\n",
      "    return top_labels"
     ],
     "language": "python",
     "metadata": {},
     "outputs": [],
     "prompt_number": 4
    },
    {
     "cell_type": "code",
     "collapsed": false,
     "input": [
      "#prueba_url = 'http://hadrovsky.sweb.cz/images/rn14.jpg'\n",
      "prueba_url = 'https://scontent.cdninstagram.com/hphotos-xaf1/t51.2885-15/e15/11033005_1423896337905427_1857738879_n.jpg'\n",
      "res = predict_image_url(prueba_url)\n",
      "res"
     ],
     "language": "python",
     "metadata": {},
     "outputs": [
      {
       "output_type": "stream",
       "stream": "stderr",
       "text": [
        "[INFO] Start server at: ipc:///tmp/graphlab_server-5778 - Server binary: /home/paulacordero/anaconda/lib/python2.7/site-packages/graphlab/unity_server - Server log: /tmp/graphlab_server_1430230897.log\n"
       ]
      },
      {
       "output_type": "stream",
       "stream": "stderr",
       "text": [
        "[INFO] GraphLab Server Version: 1.1\n"
       ]
      },
      {
       "html": [
        "<div style=\"max-height:1000px;max-width:1500px;overflow:auto;\"><table frame=\"box\" rules=\"cols\">\n",
        "    <tr>\n",
        "        <th style=\"padding-left: 1em; padding-right: 1em; text-align: center\">row_id</th>\n",
        "        <th style=\"padding-left: 1em; padding-right: 1em; text-align: center\">class</th>\n",
        "        <th style=\"padding-left: 1em; padding-right: 1em; text-align: center\">score</th>\n",
        "        <th style=\"padding-left: 1em; padding-right: 1em; text-align: center\">class_text</th>\n",
        "    </tr>\n",
        "    <tr>\n",
        "        <td style=\"padding-left: 1em; padding-right: 1em; text-align: center; vertical-align: top\">0</td>\n",
        "        <td style=\"padding-left: 1em; padding-right: 1em; text-align: center; vertical-align: top\">643</td>\n",
        "        <td style=\"padding-left: 1em; padding-right: 1em; text-align: center; vertical-align: top\">0.063282802701</td>\n",
        "        <td style=\"padding-left: 1em; padding-right: 1em; text-align: center; vertical-align: top\">mask</td>\n",
        "    </tr>\n",
        "    <tr>\n",
        "        <td style=\"padding-left: 1em; padding-right: 1em; text-align: center; vertical-align: top\">0</td>\n",
        "        <td style=\"padding-left: 1em; padding-right: 1em; text-align: center; vertical-align: top\">968</td>\n",
        "        <td style=\"padding-left: 1em; padding-right: 1em; text-align: center; vertical-align: top\">0.0477949306369</td>\n",
        "        <td style=\"padding-left: 1em; padding-right: 1em; text-align: center; vertical-align: top\">cup</td>\n",
        "    </tr>\n",
        "    <tr>\n",
        "        <td style=\"padding-left: 1em; padding-right: 1em; text-align: center; vertical-align: top\">0</td>\n",
        "        <td style=\"padding-left: 1em; padding-right: 1em; text-align: center; vertical-align: top\">837</td>\n",
        "        <td style=\"padding-left: 1em; padding-right: 1em; text-align: center; vertical-align: top\">0.0416986718774</td>\n",
        "        <td style=\"padding-left: 1em; padding-right: 1em; text-align: center; vertical-align: top\">sunglasses, dark glasses,<br>shades</td>\n",
        "    </tr>\n",
        "    <tr>\n",
        "        <td style=\"padding-left: 1em; padding-right: 1em; text-align: center; vertical-align: top\">0</td>\n",
        "        <td style=\"padding-left: 1em; padding-right: 1em; text-align: center; vertical-align: top\">971</td>\n",
        "        <td style=\"padding-left: 1em; padding-right: 1em; text-align: center; vertical-align: top\">0.0283454563469</td>\n",
        "        <td style=\"padding-left: 1em; padding-right: 1em; text-align: center; vertical-align: top\">bubble</td>\n",
        "    </tr>\n",
        "    <tr>\n",
        "        <td style=\"padding-left: 1em; padding-right: 1em; text-align: center; vertical-align: top\">0</td>\n",
        "        <td style=\"padding-left: 1em; padding-right: 1em; text-align: center; vertical-align: top\">652</td>\n",
        "        <td style=\"padding-left: 1em; padding-right: 1em; text-align: center; vertical-align: top\">0.0259063728154</td>\n",
        "        <td style=\"padding-left: 1em; padding-right: 1em; text-align: center; vertical-align: top\">military uniform</td>\n",
        "    </tr>\n",
        "</table>\n",
        "[5 rows x 4 columns]<br/>\n",
        "</div>"
       ],
       "metadata": {},
       "output_type": "pyout",
       "prompt_number": 5,
       "text": [
        "Columns:\n",
        "\trow_id\tint\n",
        "\tclass\tint\n",
        "\tscore\tfloat\n",
        "\tclass_text\tstr\n",
        "\n",
        "Rows: 5\n",
        "\n",
        "Data:\n",
        "+--------+-------+-----------------+--------------------------------+\n",
        "| row_id | class |      score      |           class_text           |\n",
        "+--------+-------+-----------------+--------------------------------+\n",
        "|   0    |  643  |  0.063282802701 |              mask              |\n",
        "|   0    |  968  | 0.0477949306369 |              cup               |\n",
        "|   0    |  837  | 0.0416986718774 | sunglasses, dark glasses,  ... |\n",
        "|   0    |  971  | 0.0283454563469 |             bubble             |\n",
        "|   0    |  652  | 0.0259063728154 |        military uniform        |\n",
        "+--------+-------+-----------------+--------------------------------+\n",
        "[5 rows x 4 columns]"
       ]
      }
     ],
     "prompt_number": 5
    },
    {
     "cell_type": "markdown",
     "metadata": {},
     "source": [
      "# Scraping de im\u00e1genes de Instagram"
     ]
    },
    {
     "cell_type": "code",
     "collapsed": true,
     "input": [
      "from BeautifulSoup import BeautifulSoup\n",
      "import selenium.webdriver as webdriver"
     ],
     "language": "python",
     "metadata": {},
     "outputs": [],
     "prompt_number": 6
    },
    {
     "cell_type": "markdown",
     "metadata": {},
     "source": [
      "## ENTRADA: identificador de usuario"
     ]
    },
    {
     "cell_type": "code",
     "collapsed": false,
     "input": [
      "# Ususarios analizados: mirandakerr || muse || cristiano || barackobama || || marcmarquez93 || kingjames || brunomars || jessicaalba \n",
      "user = 'barackobama'"
     ],
     "language": "python",
     "metadata": {},
     "outputs": [],
     "prompt_number": 7
    },
    {
     "cell_type": "code",
     "collapsed": true,
     "input": [
      "url = 'http://instagram.com/'+user+'/'\n",
      "driver = webdriver.Firefox()\n",
      "driver.get(url)"
     ],
     "language": "python",
     "metadata": {},
     "outputs": [],
     "prompt_number": 8
    },
    {
     "cell_type": "code",
     "collapsed": true,
     "input": [
      "driver.find_element_by_css_selector('.pgmiThumb')\n",
      "not_all_images_loaded = True"
     ],
     "language": "python",
     "metadata": {},
     "outputs": [],
     "prompt_number": 9
    },
    {
     "cell_type": "markdown",
     "metadata": {},
     "source": [
      "# Carga de todas las im\u00e1genes del usuario (paginaci\u00f3n)"
     ]
    },
    {
     "cell_type": "code",
     "collapsed": true,
     "input": [
      "while not_all_images_loaded:\n",
      "\n",
      "    driver.find_element_by_class_name('PhotoGridMoreButton').click()\n",
      "    time.sleep(3)\n",
      "    webElement = driver.find_element_by_css_selector('.PhotoGridMoreButton').text\n",
      "    \n",
      "    if (webElement == \"All items loaded\") or (webElement == \"Se han subido todos los elementos\"):\n",
      "        not_all_images_loaded = False\n",
      "        print webElement"
     ],
     "language": "python",
     "metadata": {},
     "outputs": [
      {
       "output_type": "stream",
       "stream": "stdout",
       "text": [
        "Se han subido todos los elementos\n"
       ]
      }
     ],
     "prompt_number": 10
    },
    {
     "cell_type": "code",
     "collapsed": true,
     "input": [
      "soup = BeautifulSoup(driver.page_source)"
     ],
     "language": "python",
     "metadata": {},
     "outputs": [],
     "prompt_number": 11
    },
    {
     "cell_type": "code",
     "collapsed": false,
     "input": [
      "urls = []\n",
      "\n",
      "def find_urls(x):\n",
      "    urls.append(x['src'])\n",
      "\n",
      "l = soup.findAll('div', {'class':'pgmiThumb tThumbImage Image'})\n",
      "l2 = map(find_urls, l)"
     ],
     "language": "python",
     "metadata": {},
     "outputs": [],
     "prompt_number": 12
    },
    {
     "cell_type": "code",
     "collapsed": true,
     "input": [
      "driver.quit()"
     ],
     "language": "python",
     "metadata": {},
     "outputs": [],
     "prompt_number": 13
    },
    {
     "cell_type": "code",
     "collapsed": true,
     "input": [
      "len(urls)"
     ],
     "language": "python",
     "metadata": {},
     "outputs": [
      {
       "metadata": {},
       "output_type": "pyout",
       "prompt_number": 14,
       "text": [
        "183"
       ]
      }
     ],
     "prompt_number": 14
    },
    {
     "cell_type": "markdown",
     "metadata": {},
     "source": [
      "# An\u00e1lisis de las im\u00e1genes scrapeadas"
     ]
    },
    {
     "cell_type": "code",
     "collapsed": false,
     "input": [
      "clases = {\"url\":[], \"tags\":[], \"score\":[]}\n",
      "def analizar_imagenes(item):\n",
      "    try:\n",
      "        res = predict_image_url(item)\n",
      "        score = res[0]['score']\n",
      "        \n",
      "        if score >= 0.1:\n",
      "            clases['url'].append(item)\n",
      "            clases['tags'].append(res[0]['class_text'])\n",
      "            clases['score'].append(res[0]['score'])\n",
      "    except:\n",
      "        pass\n",
      "\n",
      "map(analizar_imagenes, urls)"
     ],
     "language": "python",
     "metadata": {},
     "outputs": [
      {
       "metadata": {},
       "output_type": "pyout",
       "prompt_number": 15,
       "text": [
        "[None,\n",
        " None,\n",
        " None,\n",
        " None,\n",
        " None,\n",
        " None,\n",
        " None,\n",
        " None,\n",
        " None,\n",
        " None,\n",
        " None,\n",
        " None,\n",
        " None,\n",
        " None,\n",
        " None,\n",
        " None,\n",
        " None,\n",
        " None,\n",
        " None,\n",
        " None,\n",
        " None,\n",
        " None,\n",
        " None,\n",
        " None,\n",
        " None,\n",
        " None,\n",
        " None,\n",
        " None,\n",
        " None,\n",
        " None,\n",
        " None,\n",
        " None,\n",
        " None,\n",
        " None,\n",
        " None,\n",
        " None,\n",
        " None,\n",
        " None,\n",
        " None,\n",
        " None,\n",
        " None,\n",
        " None,\n",
        " None,\n",
        " None,\n",
        " None,\n",
        " None,\n",
        " None,\n",
        " None,\n",
        " None,\n",
        " None,\n",
        " None,\n",
        " None,\n",
        " None,\n",
        " None,\n",
        " None,\n",
        " None,\n",
        " None,\n",
        " None,\n",
        " None,\n",
        " None,\n",
        " None,\n",
        " None,\n",
        " None,\n",
        " None,\n",
        " None,\n",
        " None,\n",
        " None,\n",
        " None,\n",
        " None,\n",
        " None,\n",
        " None,\n",
        " None,\n",
        " None,\n",
        " None,\n",
        " None,\n",
        " None,\n",
        " None,\n",
        " None,\n",
        " None,\n",
        " None,\n",
        " None,\n",
        " None,\n",
        " None,\n",
        " None,\n",
        " None,\n",
        " None,\n",
        " None,\n",
        " None,\n",
        " None,\n",
        " None,\n",
        " None,\n",
        " None,\n",
        " None,\n",
        " None,\n",
        " None,\n",
        " None,\n",
        " None,\n",
        " None,\n",
        " None,\n",
        " None,\n",
        " None,\n",
        " None,\n",
        " None,\n",
        " None,\n",
        " None,\n",
        " None,\n",
        " None,\n",
        " None,\n",
        " None,\n",
        " None,\n",
        " None,\n",
        " None,\n",
        " None,\n",
        " None,\n",
        " None,\n",
        " None,\n",
        " None,\n",
        " None,\n",
        " None,\n",
        " None,\n",
        " None,\n",
        " None,\n",
        " None,\n",
        " None,\n",
        " None,\n",
        " None,\n",
        " None,\n",
        " None,\n",
        " None,\n",
        " None,\n",
        " None,\n",
        " None,\n",
        " None,\n",
        " None,\n",
        " None,\n",
        " None,\n",
        " None,\n",
        " None,\n",
        " None,\n",
        " None,\n",
        " None,\n",
        " None,\n",
        " None,\n",
        " None,\n",
        " None,\n",
        " None,\n",
        " None,\n",
        " None,\n",
        " None,\n",
        " None,\n",
        " None,\n",
        " None,\n",
        " None,\n",
        " None,\n",
        " None,\n",
        " None,\n",
        " None,\n",
        " None,\n",
        " None,\n",
        " None,\n",
        " None,\n",
        " None,\n",
        " None,\n",
        " None,\n",
        " None,\n",
        " None,\n",
        " None,\n",
        " None,\n",
        " None,\n",
        " None,\n",
        " None,\n",
        " None,\n",
        " None,\n",
        " None,\n",
        " None,\n",
        " None,\n",
        " None,\n",
        " None,\n",
        " None,\n",
        " None,\n",
        " None,\n",
        " None,\n",
        " None]"
       ]
      }
     ],
     "prompt_number": 15
    },
    {
     "cell_type": "code",
     "collapsed": false,
     "input": [
      "#clases"
     ],
     "language": "python",
     "metadata": {},
     "outputs": [],
     "prompt_number": 16
    },
    {
     "cell_type": "code",
     "collapsed": true,
     "input": [
      "etiquetas = gl.SFrame(clases)"
     ],
     "language": "python",
     "metadata": {},
     "outputs": [],
     "prompt_number": 18
    },
    {
     "cell_type": "markdown",
     "metadata": {},
     "source": [
      "# Clasificaci\u00f3n de las etiquetas en categor\u00edas"
     ]
    },
    {
     "cell_type": "markdown",
     "metadata": {},
     "source": [
      "## Carga del dataset de entrenamiento"
     ]
    },
    {
     "cell_type": "code",
     "collapsed": false,
     "input": [
      "sf = gl.SFrame.read_csv('categorias_instagram.csv')"
     ],
     "language": "python",
     "metadata": {},
     "outputs": [
      {
       "html": [
        "<pre>PROGRESS: Finished parsing file /home/paulacordero/Repositorios/beeva-notebooks/IMGS_Instagram/categorias_instagram.csv</pre>"
       ],
       "metadata": {},
       "output_type": "display_data",
       "text": [
        "PROGRESS: Finished parsing file /home/paulacordero/Repositorios/beeva-notebooks/IMGS_Instagram/categorias_instagram.csv"
       ]
      },
      {
       "html": [
        "<pre>PROGRESS: Parsing completed. Parsed 100 lines in 0.008006 secs.</pre>"
       ],
       "metadata": {},
       "output_type": "display_data",
       "text": [
        "PROGRESS: Parsing completed. Parsed 100 lines in 0.008006 secs."
       ]
      },
      {
       "html": [
        "<pre>PROGRESS: Unable to parse line \"ANIMALES,Boston bull, Boston terrier\"</pre>"
       ],
       "metadata": {},
       "output_type": "display_data",
       "text": [
        "PROGRESS: Unable to parse line \"ANIMALES,Boston bull, Boston terrier\""
       ]
      },
      {
       "html": [
        "<pre>PROGRESS: Unable to parse line \"ANIMALES,lion, king of beasts, Panthera leo\"</pre>"
       ],
       "metadata": {},
       "output_type": "display_data",
       "text": [
        "PROGRESS: Unable to parse line \"ANIMALES,lion, king of beasts, Panthera leo\""
       ]
      },
      {
       "html": [
        "<pre>PROGRESS: Unable to parse line \"ANIMALES,great white shark, white shark, man-eater, man-eating shark, Carcharodon carcharias\"</pre>"
       ],
       "metadata": {},
       "output_type": "display_data",
       "text": [
        "PROGRESS: Unable to parse line \"ANIMALES,great white shark, white shark, man-eater, man-eating shark, Carcharodon carcharias\""
       ]
      },
      {
       "html": [
        "<pre>PROGRESS: Unable to parse line \"ANIMALES,tiger shark, Galeocerdo cuvieri\"</pre>"
       ],
       "metadata": {},
       "output_type": "display_data",
       "text": [
        "PROGRESS: Unable to parse line \"ANIMALES,tiger shark, Galeocerdo cuvieri\""
       ]
      },
      {
       "html": [
        "<pre>PROGRESS: Unable to parse line \"ANIMALES,electric ray, crampfish, numbfish, torpedo\"</pre>"
       ],
       "metadata": {},
       "output_type": "display_data",
       "text": [
        "PROGRESS: Unable to parse line \"ANIMALES,electric ray, crampfish, numbfish, torpedo\""
       ]
      },
      {
       "html": [
        "<pre>PROGRESS: Unable to parse line \"ANIMALES,hammerhead, hammerhead shark\"</pre>"
       ],
       "metadata": {},
       "output_type": "display_data",
       "text": [
        "PROGRESS: Unable to parse line \"ANIMALES,hammerhead, hammerhead shark\""
       ]
      },
      {
       "html": [
        "<pre>PROGRESS: Unable to parse line \"ANIMALES,ostrich, Struthio camelus\"</pre>"
       ],
       "metadata": {},
       "output_type": "display_data",
       "text": [
        "PROGRESS: Unable to parse line \"ANIMALES,ostrich, Struthio camelus\""
       ]
      },
      {
       "html": [
        "<pre>PROGRESS: Unable to parse line \"ANIMALES,goldfish, Carassius auratus\"</pre>"
       ],
       "metadata": {},
       "output_type": "display_data",
       "text": [
        "PROGRESS: Unable to parse line \"ANIMALES,goldfish, Carassius auratus\""
       ]
      },
      {
       "html": [
        "<pre>PROGRESS: Unable to parse line \"BELLEZA/COSMETICA,loudspeaker, speaker, speaker unit, loudspeaker system, speaker system\"</pre>"
       ],
       "metadata": {},
       "output_type": "display_data",
       "text": [
        "PROGRESS: Unable to parse line \"BELLEZA/COSMETICA,loudspeaker, speaker, speaker unit, loudspeaker system, speaker system\""
       ]
      },
      {
       "html": [
        "<pre>PROGRESS: Unable to parse line \"BELLEZA/COSMETICA,sunscreen, sunblock, sun blocker\"</pre>"
       ],
       "metadata": {},
       "output_type": "display_data",
       "text": [
        "PROGRESS: Unable to parse line \"BELLEZA/COSMETICA,sunscreen, sunblock, sun blocker\""
       ]
      },
      {
       "html": [
        "<pre>PROGRESS: Read 196 lines. Lines per second: 20775.9</pre>"
       ],
       "metadata": {},
       "output_type": "display_data",
       "text": [
        "PROGRESS: Read 196 lines. Lines per second: 20775.9"
       ]
      },
      {
       "output_type": "stream",
       "stream": "stdout",
       "text": [
        "Unable to infer column types. Defaulting to str\n",
        "Could not detect types. Using str for each column.\n"
       ]
      },
      {
       "html": [
        "<pre>PROGRESS: 174 lines failed to parse correctly</pre>"
       ],
       "metadata": {},
       "output_type": "display_data",
       "text": [
        "PROGRESS: 174 lines failed to parse correctly"
       ]
      },
      {
       "html": [
        "<pre>PROGRESS: Parsing completed. Parsed 196 lines in 0.009616 secs.</pre>"
       ],
       "metadata": {},
       "output_type": "display_data",
       "text": [
        "PROGRESS: Parsing completed. Parsed 196 lines in 0.009616 secs."
       ]
      }
     ],
     "prompt_number": 19
    },
    {
     "cell_type": "code",
     "collapsed": false,
     "input": [
      "sf"
     ],
     "language": "python",
     "metadata": {},
     "outputs": [
      {
       "html": [
        "<div style=\"max-height:1000px;max-width:1500px;overflow:auto;\"><table frame=\"box\" rules=\"cols\">\n",
        "    <tr>\n",
        "        <th style=\"padding-left: 1em; padding-right: 1em; text-align: center\">class</th>\n",
        "        <th style=\"padding-left: 1em; padding-right: 1em; text-align: center\">tags</th>\n",
        "    </tr>\n",
        "    <tr>\n",
        "        <td style=\"padding-left: 1em; padding-right: 1em; text-align: center; vertical-align: top\">ANIMALES</td>\n",
        "        <td style=\"padding-left: 1em; padding-right: 1em; text-align: center; vertical-align: top\">tusker</td>\n",
        "    </tr>\n",
        "    <tr>\n",
        "        <td style=\"padding-left: 1em; padding-right: 1em; text-align: center; vertical-align: top\">ANIMALES</td>\n",
        "        <td style=\"padding-left: 1em; padding-right: 1em; text-align: center; vertical-align: top\">Yorkshire terrier</td>\n",
        "    </tr>\n",
        "    <tr>\n",
        "        <td style=\"padding-left: 1em; padding-right: 1em; text-align: center; vertical-align: top\">ANIMALES</td>\n",
        "        <td style=\"padding-left: 1em; padding-right: 1em; text-align: center; vertical-align: top\">vulture</td>\n",
        "    </tr>\n",
        "    <tr>\n",
        "        <td style=\"padding-left: 1em; padding-right: 1em; text-align: center; vertical-align: top\">ANIMALES</td>\n",
        "        <td style=\"padding-left: 1em; padding-right: 1em; text-align: center; vertical-align: top\">stingray</td>\n",
        "    </tr>\n",
        "    <tr>\n",
        "        <td style=\"padding-left: 1em; padding-right: 1em; text-align: center; vertical-align: top\">ANIMALES</td>\n",
        "        <td style=\"padding-left: 1em; padding-right: 1em; text-align: center; vertical-align: top\">cock</td>\n",
        "    </tr>\n",
        "    <tr>\n",
        "        <td style=\"padding-left: 1em; padding-right: 1em; text-align: center; vertical-align: top\">ANIMALES</td>\n",
        "        <td style=\"padding-left: 1em; padding-right: 1em; text-align: center; vertical-align: top\">Weimaraner</td>\n",
        "    </tr>\n",
        "    <tr>\n",
        "        <td style=\"padding-left: 1em; padding-right: 1em; text-align: center; vertical-align: top\">ANIMALES</td>\n",
        "        <td style=\"padding-left: 1em; padding-right: 1em; text-align: center; vertical-align: top\">hen</td>\n",
        "    </tr>\n",
        "    <tr>\n",
        "        <td style=\"padding-left: 1em; padding-right: 1em; text-align: center; vertical-align: top\">ANIMALES</td>\n",
        "        <td style=\"padding-left: 1em; padding-right: 1em; text-align: center; vertical-align: top\">Irish wolfhound</td>\n",
        "    </tr>\n",
        "    <tr>\n",
        "        <td style=\"padding-left: 1em; padding-right: 1em; text-align: center; vertical-align: top\">ANIMALES</td>\n",
        "        <td style=\"padding-left: 1em; padding-right: 1em; text-align: center; vertical-align: top\">Italian greyhound</td>\n",
        "    </tr>\n",
        "    <tr>\n",
        "        <td style=\"padding-left: 1em; padding-right: 1em; text-align: center; vertical-align: top\">ANIMALES</td>\n",
        "        <td style=\"padding-left: 1em; padding-right: 1em; text-align: center; vertical-align: top\">miniature pinscher</td>\n",
        "    </tr>\n",
        "    <tr>\n",
        "        <td style=\"padding-left: 1em; padding-right: 1em; text-align: center; vertical-align: top\">...</td>\n",
        "        <td style=\"padding-left: 1em; padding-right: 1em; text-align: center; vertical-align: top\">...</td>\n",
        "    </tr>\n",
        "</table>\n",
        "[196 rows x 2 columns]<br/>Note: Only the head of the SFrame is printed.<br/>You can use print_rows(num_rows=m, num_columns=n) to print more rows and columns.\n",
        "</div>"
       ],
       "metadata": {},
       "output_type": "pyout",
       "prompt_number": 20,
       "text": [
        "Columns:\n",
        "\tclass\tstr\n",
        "\ttags\tstr\n",
        "\n",
        "Rows: 196\n",
        "\n",
        "Data:\n",
        "+----------+--------------------+\n",
        "|  class   |        tags        |\n",
        "+----------+--------------------+\n",
        "| ANIMALES |       tusker       |\n",
        "| ANIMALES | Yorkshire terrier  |\n",
        "| ANIMALES |      vulture       |\n",
        "| ANIMALES |      stingray      |\n",
        "| ANIMALES |        cock        |\n",
        "| ANIMALES |     Weimaraner     |\n",
        "| ANIMALES |        hen         |\n",
        "| ANIMALES |  Irish wolfhound   |\n",
        "| ANIMALES | Italian greyhound  |\n",
        "| ANIMALES | miniature pinscher |\n",
        "|   ...    |        ...         |\n",
        "+----------+--------------------+\n",
        "[196 rows x 2 columns]\n",
        "Note: Only the head of the SFrame is printed.\n",
        "You can use print_rows(num_rows=m, num_columns=n) to print more rows and columns."
       ]
      }
     ],
     "prompt_number": 20
    },
    {
     "cell_type": "markdown",
     "metadata": {},
     "source": [
      "## Caracterizaci\u00f3n de las etiquetas por palabras clave"
     ]
    },
    {
     "cell_type": "code",
     "collapsed": true,
     "input": [
      "bow = gl.text_analytics.count_words(sf['tags'])\n",
      "stopwords = gl.text_analytics.stopwords()\n",
      "sf['bow'] = bow.dict_trim_by_keys(stopwords, exclude=True)"
     ],
     "language": "python",
     "metadata": {},
     "outputs": [],
     "prompt_number": 21
    },
    {
     "cell_type": "code",
     "collapsed": true,
     "input": [
      "#training, test = sf.random_split(0.8)\n",
      "training = sf"
     ],
     "language": "python",
     "metadata": {},
     "outputs": [],
     "prompt_number": 22
    },
    {
     "cell_type": "markdown",
     "metadata": {},
     "source": [
      "## Entrenamiento del modelo Boosted Trees"
     ]
    },
    {
     "cell_type": "code",
     "collapsed": true,
     "input": [
      "btree = gl.boosted_trees_classifier.create(training, target='class', features=['bow'], max_iterations=100)"
     ],
     "language": "python",
     "metadata": {},
     "outputs": [
      {
       "html": [
        "<pre>PROGRESS: Boosted trees classifier:\n",
        "--------------------------------------------------------\n",
        "Number of examples          : 196\n",
        "Number of feature columns   : 1\n",
        "Number of unpacked features : 250</pre>"
       ],
       "metadata": {},
       "output_type": "display_data",
       "text": [
        "PROGRESS: Boosted trees classifier:\n",
        "--------------------------------------------------------\n",
        "Number of examples          : 196\n",
        "Number of feature columns   : 1\n",
        "Number of unpacked features : 250"
       ]
      },
      {
       "html": [
        "<pre>PROGRESS: Starting Boosted Trees</pre>"
       ],
       "metadata": {},
       "output_type": "display_data",
       "text": [
        "PROGRESS: Starting Boosted Trees"
       ]
      },
      {
       "html": [
        "<pre>PROGRESS: --------------------------------------------------------</pre>"
       ],
       "metadata": {},
       "output_type": "display_data",
       "text": [
        "PROGRESS: --------------------------------------------------------"
       ]
      },
      {
       "html": [
        "<pre>PROGRESS:   Iter    Accuracy Elapsed time</pre>"
       ],
       "metadata": {},
       "output_type": "display_data",
       "text": [
        "PROGRESS:   Iter    Accuracy Elapsed time"
       ]
      },
      {
       "html": [
        "<pre>PROGRESS:      0   5.510e-01        0.06s</pre>"
       ],
       "metadata": {},
       "output_type": "display_data",
       "text": [
        "PROGRESS:      0   5.510e-01        0.06s"
       ]
      },
      {
       "html": [
        "<pre>PROGRESS:      1   4.592e-01        0.10s</pre>"
       ],
       "metadata": {},
       "output_type": "display_data",
       "text": [
        "PROGRESS:      1   4.592e-01        0.10s"
       ]
      },
      {
       "html": [
        "<pre>PROGRESS:      2   5.510e-01        0.10s</pre>"
       ],
       "metadata": {},
       "output_type": "display_data",
       "text": [
        "PROGRESS:      2   5.510e-01        0.10s"
       ]
      },
      {
       "html": [
        "<pre>PROGRESS:      3   6.071e-01        0.12s</pre>"
       ],
       "metadata": {},
       "output_type": "display_data",
       "text": [
        "PROGRESS:      3   6.071e-01        0.12s"
       ]
      },
      {
       "html": [
        "<pre>PROGRESS:      4   7.704e-01        0.15s</pre>"
       ],
       "metadata": {},
       "output_type": "display_data",
       "text": [
        "PROGRESS:      4   7.704e-01        0.15s"
       ]
      },
      {
       "html": [
        "<pre>PROGRESS:      5   8.265e-01        0.16s</pre>"
       ],
       "metadata": {},
       "output_type": "display_data",
       "text": [
        "PROGRESS:      5   8.265e-01        0.16s"
       ]
      },
      {
       "html": [
        "<pre>PROGRESS:      6   8.673e-01        0.17s</pre>"
       ],
       "metadata": {},
       "output_type": "display_data",
       "text": [
        "PROGRESS:      6   8.673e-01        0.17s"
       ]
      },
      {
       "html": [
        "<pre>PROGRESS:      7   9.541e-01        0.18s</pre>"
       ],
       "metadata": {},
       "output_type": "display_data",
       "text": [
        "PROGRESS:      7   9.541e-01        0.18s"
       ]
      },
      {
       "html": [
        "<pre>PROGRESS:      8   9.796e-01        0.19s</pre>"
       ],
       "metadata": {},
       "output_type": "display_data",
       "text": [
        "PROGRESS:      8   9.796e-01        0.19s"
       ]
      },
      {
       "html": [
        "<pre>PROGRESS:      9   1.000e+00        0.20s</pre>"
       ],
       "metadata": {},
       "output_type": "display_data",
       "text": [
        "PROGRESS:      9   1.000e+00        0.20s"
       ]
      },
      {
       "html": [
        "<pre>PROGRESS:     10   1.000e+00        0.22s</pre>"
       ],
       "metadata": {},
       "output_type": "display_data",
       "text": [
        "PROGRESS:     10   1.000e+00        0.22s"
       ]
      },
      {
       "html": [
        "<pre>PROGRESS:     11   1.000e+00        0.25s</pre>"
       ],
       "metadata": {},
       "output_type": "display_data",
       "text": [
        "PROGRESS:     11   1.000e+00        0.25s"
       ]
      },
      {
       "html": [
        "<pre>PROGRESS:     12   1.000e+00        0.26s</pre>"
       ],
       "metadata": {},
       "output_type": "display_data",
       "text": [
        "PROGRESS:     12   1.000e+00        0.26s"
       ]
      },
      {
       "html": [
        "<pre>PROGRESS:     13   1.000e+00        0.27s</pre>"
       ],
       "metadata": {},
       "output_type": "display_data",
       "text": [
        "PROGRESS:     13   1.000e+00        0.27s"
       ]
      },
      {
       "html": [
        "<pre>PROGRESS:     14   1.000e+00        0.29s</pre>"
       ],
       "metadata": {},
       "output_type": "display_data",
       "text": [
        "PROGRESS:     14   1.000e+00        0.29s"
       ]
      },
      {
       "html": [
        "<pre>PROGRESS:     15   1.000e+00        0.29s</pre>"
       ],
       "metadata": {},
       "output_type": "display_data",
       "text": [
        "PROGRESS:     15   1.000e+00        0.29s"
       ]
      },
      {
       "html": [
        "<pre>PROGRESS:     16   1.000e+00        0.29s</pre>"
       ],
       "metadata": {},
       "output_type": "display_data",
       "text": [
        "PROGRESS:     16   1.000e+00        0.29s"
       ]
      },
      {
       "html": [
        "<pre>PROGRESS:     17   1.000e+00        0.30s</pre>"
       ],
       "metadata": {},
       "output_type": "display_data",
       "text": [
        "PROGRESS:     17   1.000e+00        0.30s"
       ]
      },
      {
       "html": [
        "<pre>PROGRESS:     18   1.000e+00        0.32s</pre>"
       ],
       "metadata": {},
       "output_type": "display_data",
       "text": [
        "PROGRESS:     18   1.000e+00        0.32s"
       ]
      },
      {
       "html": [
        "<pre>PROGRESS:     19   1.000e+00        0.32s</pre>"
       ],
       "metadata": {},
       "output_type": "display_data",
       "text": [
        "PROGRESS:     19   1.000e+00        0.32s"
       ]
      },
      {
       "html": [
        "<pre>PROGRESS:     20   1.000e+00        0.34s</pre>"
       ],
       "metadata": {},
       "output_type": "display_data",
       "text": [
        "PROGRESS:     20   1.000e+00        0.34s"
       ]
      },
      {
       "html": [
        "<pre>PROGRESS:     21   1.000e+00        0.34s</pre>"
       ],
       "metadata": {},
       "output_type": "display_data",
       "text": [
        "PROGRESS:     21   1.000e+00        0.34s"
       ]
      },
      {
       "html": [
        "<pre>PROGRESS:     22   1.000e+00        0.37s</pre>"
       ],
       "metadata": {},
       "output_type": "display_data",
       "text": [
        "PROGRESS:     22   1.000e+00        0.37s"
       ]
      },
      {
       "html": [
        "<pre>PROGRESS:     23   1.000e+00        0.38s</pre>"
       ],
       "metadata": {},
       "output_type": "display_data",
       "text": [
        "PROGRESS:     23   1.000e+00        0.38s"
       ]
      },
      {
       "html": [
        "<pre>PROGRESS:     24   1.000e+00        0.39s</pre>"
       ],
       "metadata": {},
       "output_type": "display_data",
       "text": [
        "PROGRESS:     24   1.000e+00        0.39s"
       ]
      },
      {
       "html": [
        "<pre>PROGRESS:     25   1.000e+00        0.41s</pre>"
       ],
       "metadata": {},
       "output_type": "display_data",
       "text": [
        "PROGRESS:     25   1.000e+00        0.41s"
       ]
      },
      {
       "html": [
        "<pre>PROGRESS:     26   1.000e+00        0.42s</pre>"
       ],
       "metadata": {},
       "output_type": "display_data",
       "text": [
        "PROGRESS:     26   1.000e+00        0.42s"
       ]
      },
      {
       "html": [
        "<pre>PROGRESS:     27   1.000e+00        0.43s</pre>"
       ],
       "metadata": {},
       "output_type": "display_data",
       "text": [
        "PROGRESS:     27   1.000e+00        0.43s"
       ]
      },
      {
       "html": [
        "<pre>PROGRESS:     28   1.000e+00        0.44s</pre>"
       ],
       "metadata": {},
       "output_type": "display_data",
       "text": [
        "PROGRESS:     28   1.000e+00        0.44s"
       ]
      },
      {
       "html": [
        "<pre>PROGRESS:     29   1.000e+00        0.44s</pre>"
       ],
       "metadata": {},
       "output_type": "display_data",
       "text": [
        "PROGRESS:     29   1.000e+00        0.44s"
       ]
      },
      {
       "html": [
        "<pre>PROGRESS:     30   1.000e+00        0.45s</pre>"
       ],
       "metadata": {},
       "output_type": "display_data",
       "text": [
        "PROGRESS:     30   1.000e+00        0.45s"
       ]
      },
      {
       "html": [
        "<pre>PROGRESS:     31   1.000e+00        0.45s</pre>"
       ],
       "metadata": {},
       "output_type": "display_data",
       "text": [
        "PROGRESS:     31   1.000e+00        0.45s"
       ]
      },
      {
       "html": [
        "<pre>PROGRESS:     32   1.000e+00        0.45s</pre>"
       ],
       "metadata": {},
       "output_type": "display_data",
       "text": [
        "PROGRESS:     32   1.000e+00        0.45s"
       ]
      },
      {
       "html": [
        "<pre>PROGRESS:     33   1.000e+00        0.47s</pre>"
       ],
       "metadata": {},
       "output_type": "display_data",
       "text": [
        "PROGRESS:     33   1.000e+00        0.47s"
       ]
      },
      {
       "html": [
        "<pre>PROGRESS:     34   1.000e+00        0.49s</pre>"
       ],
       "metadata": {},
       "output_type": "display_data",
       "text": [
        "PROGRESS:     34   1.000e+00        0.49s"
       ]
      },
      {
       "html": [
        "<pre>PROGRESS:     35   1.000e+00        0.49s</pre>"
       ],
       "metadata": {},
       "output_type": "display_data",
       "text": [
        "PROGRESS:     35   1.000e+00        0.49s"
       ]
      },
      {
       "html": [
        "<pre>PROGRESS:     36   1.000e+00        0.50s</pre>"
       ],
       "metadata": {},
       "output_type": "display_data",
       "text": [
        "PROGRESS:     36   1.000e+00        0.50s"
       ]
      },
      {
       "html": [
        "<pre>PROGRESS:     37   1.000e+00        0.50s</pre>"
       ],
       "metadata": {},
       "output_type": "display_data",
       "text": [
        "PROGRESS:     37   1.000e+00        0.50s"
       ]
      },
      {
       "html": [
        "<pre>PROGRESS:     38   1.000e+00        0.52s</pre>"
       ],
       "metadata": {},
       "output_type": "display_data",
       "text": [
        "PROGRESS:     38   1.000e+00        0.52s"
       ]
      },
      {
       "html": [
        "<pre>PROGRESS:     39   1.000e+00        0.53s</pre>"
       ],
       "metadata": {},
       "output_type": "display_data",
       "text": [
        "PROGRESS:     39   1.000e+00        0.53s"
       ]
      },
      {
       "html": [
        "<pre>PROGRESS:     40   1.000e+00        0.53s</pre>"
       ],
       "metadata": {},
       "output_type": "display_data",
       "text": [
        "PROGRESS:     40   1.000e+00        0.53s"
       ]
      },
      {
       "html": [
        "<pre>PROGRESS:     41   1.000e+00        0.54s</pre>"
       ],
       "metadata": {},
       "output_type": "display_data",
       "text": [
        "PROGRESS:     41   1.000e+00        0.54s"
       ]
      },
      {
       "html": [
        "<pre>PROGRESS:     42   1.000e+00        0.58s</pre>"
       ],
       "metadata": {},
       "output_type": "display_data",
       "text": [
        "PROGRESS:     42   1.000e+00        0.58s"
       ]
      },
      {
       "html": [
        "<pre>PROGRESS:     43   1.000e+00        0.59s</pre>"
       ],
       "metadata": {},
       "output_type": "display_data",
       "text": [
        "PROGRESS:     43   1.000e+00        0.59s"
       ]
      },
      {
       "html": [
        "<pre>PROGRESS:     44   1.000e+00        0.59s</pre>"
       ],
       "metadata": {},
       "output_type": "display_data",
       "text": [
        "PROGRESS:     44   1.000e+00        0.59s"
       ]
      },
      {
       "html": [
        "<pre>PROGRESS:     45   1.000e+00        0.60s</pre>"
       ],
       "metadata": {},
       "output_type": "display_data",
       "text": [
        "PROGRESS:     45   1.000e+00        0.60s"
       ]
      },
      {
       "html": [
        "<pre>PROGRESS:     46   1.000e+00        0.60s</pre>"
       ],
       "metadata": {},
       "output_type": "display_data",
       "text": [
        "PROGRESS:     46   1.000e+00        0.60s"
       ]
      },
      {
       "html": [
        "<pre>PROGRESS:     47   1.000e+00        0.61s</pre>"
       ],
       "metadata": {},
       "output_type": "display_data",
       "text": [
        "PROGRESS:     47   1.000e+00        0.61s"
       ]
      },
      {
       "html": [
        "<pre>PROGRESS:     48   1.000e+00        0.62s</pre>"
       ],
       "metadata": {},
       "output_type": "display_data",
       "text": [
        "PROGRESS:     48   1.000e+00        0.62s"
       ]
      },
      {
       "html": [
        "<pre>PROGRESS:     49   1.000e+00        0.63s</pre>"
       ],
       "metadata": {},
       "output_type": "display_data",
       "text": [
        "PROGRESS:     49   1.000e+00        0.63s"
       ]
      },
      {
       "html": [
        "<pre>PROGRESS:     50   1.000e+00        0.63s</pre>"
       ],
       "metadata": {},
       "output_type": "display_data",
       "text": [
        "PROGRESS:     50   1.000e+00        0.63s"
       ]
      },
      {
       "html": [
        "<pre>PROGRESS:     51   1.000e+00        0.63s</pre>"
       ],
       "metadata": {},
       "output_type": "display_data",
       "text": [
        "PROGRESS:     51   1.000e+00        0.63s"
       ]
      },
      {
       "html": [
        "<pre>PROGRESS:     52   1.000e+00        0.63s</pre>"
       ],
       "metadata": {},
       "output_type": "display_data",
       "text": [
        "PROGRESS:     52   1.000e+00        0.63s"
       ]
      },
      {
       "html": [
        "<pre>PROGRESS:     53   1.000e+00        0.64s</pre>"
       ],
       "metadata": {},
       "output_type": "display_data",
       "text": [
        "PROGRESS:     53   1.000e+00        0.64s"
       ]
      },
      {
       "html": [
        "<pre>PROGRESS:     54   1.000e+00        0.64s</pre>"
       ],
       "metadata": {},
       "output_type": "display_data",
       "text": [
        "PROGRESS:     54   1.000e+00        0.64s"
       ]
      },
      {
       "html": [
        "<pre>PROGRESS:     55   1.000e+00        0.66s</pre>"
       ],
       "metadata": {},
       "output_type": "display_data",
       "text": [
        "PROGRESS:     55   1.000e+00        0.66s"
       ]
      },
      {
       "html": [
        "<pre>PROGRESS:     56   1.000e+00        0.78s</pre>"
       ],
       "metadata": {},
       "output_type": "display_data",
       "text": [
        "PROGRESS:     56   1.000e+00        0.78s"
       ]
      },
      {
       "html": [
        "<pre>PROGRESS:     57   1.000e+00        0.80s</pre>"
       ],
       "metadata": {},
       "output_type": "display_data",
       "text": [
        "PROGRESS:     57   1.000e+00        0.80s"
       ]
      },
      {
       "html": [
        "<pre>PROGRESS:     58   1.000e+00        0.80s</pre>"
       ],
       "metadata": {},
       "output_type": "display_data",
       "text": [
        "PROGRESS:     58   1.000e+00        0.80s"
       ]
      },
      {
       "html": [
        "<pre>PROGRESS:     59   1.000e+00        0.80s</pre>"
       ],
       "metadata": {},
       "output_type": "display_data",
       "text": [
        "PROGRESS:     59   1.000e+00        0.80s"
       ]
      },
      {
       "html": [
        "<pre>PROGRESS:     60   1.000e+00        0.80s</pre>"
       ],
       "metadata": {},
       "output_type": "display_data",
       "text": [
        "PROGRESS:     60   1.000e+00        0.80s"
       ]
      },
      {
       "html": [
        "<pre>PROGRESS:     61   1.000e+00        0.81s</pre>"
       ],
       "metadata": {},
       "output_type": "display_data",
       "text": [
        "PROGRESS:     61   1.000e+00        0.81s"
       ]
      },
      {
       "html": [
        "<pre>PROGRESS:     62   1.000e+00        0.81s</pre>"
       ],
       "metadata": {},
       "output_type": "display_data",
       "text": [
        "PROGRESS:     62   1.000e+00        0.81s"
       ]
      },
      {
       "html": [
        "<pre>PROGRESS:     63   1.000e+00        0.81s</pre>"
       ],
       "metadata": {},
       "output_type": "display_data",
       "text": [
        "PROGRESS:     63   1.000e+00        0.81s"
       ]
      },
      {
       "html": [
        "<pre>PROGRESS:     64   1.000e+00        0.82s</pre>"
       ],
       "metadata": {},
       "output_type": "display_data",
       "text": [
        "PROGRESS:     64   1.000e+00        0.82s"
       ]
      },
      {
       "html": [
        "<pre>PROGRESS:     65   1.000e+00        0.82s</pre>"
       ],
       "metadata": {},
       "output_type": "display_data",
       "text": [
        "PROGRESS:     65   1.000e+00        0.82s"
       ]
      },
      {
       "html": [
        "<pre>PROGRESS:     66   1.000e+00        0.85s</pre>"
       ],
       "metadata": {},
       "output_type": "display_data",
       "text": [
        "PROGRESS:     66   1.000e+00        0.85s"
       ]
      },
      {
       "html": [
        "<pre>PROGRESS:     67   1.000e+00        0.85s</pre>"
       ],
       "metadata": {},
       "output_type": "display_data",
       "text": [
        "PROGRESS:     67   1.000e+00        0.85s"
       ]
      },
      {
       "html": [
        "<pre>PROGRESS:     68   1.000e+00        0.85s</pre>"
       ],
       "metadata": {},
       "output_type": "display_data",
       "text": [
        "PROGRESS:     68   1.000e+00        0.85s"
       ]
      },
      {
       "html": [
        "<pre>PROGRESS:     69   1.000e+00        0.86s</pre>"
       ],
       "metadata": {},
       "output_type": "display_data",
       "text": [
        "PROGRESS:     69   1.000e+00        0.86s"
       ]
      },
      {
       "html": [
        "<pre>PROGRESS:     70   1.000e+00        0.86s</pre>"
       ],
       "metadata": {},
       "output_type": "display_data",
       "text": [
        "PROGRESS:     70   1.000e+00        0.86s"
       ]
      },
      {
       "html": [
        "<pre>PROGRESS:     71   1.000e+00        0.89s</pre>"
       ],
       "metadata": {},
       "output_type": "display_data",
       "text": [
        "PROGRESS:     71   1.000e+00        0.89s"
       ]
      },
      {
       "html": [
        "<pre>PROGRESS:     72   1.000e+00        0.91s</pre>"
       ],
       "metadata": {},
       "output_type": "display_data",
       "text": [
        "PROGRESS:     72   1.000e+00        0.91s"
       ]
      },
      {
       "html": [
        "<pre>PROGRESS:     73   1.000e+00        0.92s</pre>"
       ],
       "metadata": {},
       "output_type": "display_data",
       "text": [
        "PROGRESS:     73   1.000e+00        0.92s"
       ]
      },
      {
       "html": [
        "<pre>PROGRESS:     74   1.000e+00        1.07s</pre>"
       ],
       "metadata": {},
       "output_type": "display_data",
       "text": [
        "PROGRESS:     74   1.000e+00        1.07s"
       ]
      },
      {
       "html": [
        "<pre>PROGRESS:     75   1.000e+00        1.19s</pre>"
       ],
       "metadata": {},
       "output_type": "display_data",
       "text": [
        "PROGRESS:     75   1.000e+00        1.19s"
       ]
      },
      {
       "html": [
        "<pre>PROGRESS:     76   1.000e+00        1.23s</pre>"
       ],
       "metadata": {},
       "output_type": "display_data",
       "text": [
        "PROGRESS:     76   1.000e+00        1.23s"
       ]
      },
      {
       "html": [
        "<pre>PROGRESS:     77   1.000e+00        1.31s</pre>"
       ],
       "metadata": {},
       "output_type": "display_data",
       "text": [
        "PROGRESS:     77   1.000e+00        1.31s"
       ]
      },
      {
       "html": [
        "<pre>PROGRESS:     78   1.000e+00        1.31s</pre>"
       ],
       "metadata": {},
       "output_type": "display_data",
       "text": [
        "PROGRESS:     78   1.000e+00        1.31s"
       ]
      },
      {
       "html": [
        "<pre>PROGRESS:     79   1.000e+00        1.45s</pre>"
       ],
       "metadata": {},
       "output_type": "display_data",
       "text": [
        "PROGRESS:     79   1.000e+00        1.45s"
       ]
      },
      {
       "html": [
        "<pre>PROGRESS:     80   1.000e+00        1.50s</pre>"
       ],
       "metadata": {},
       "output_type": "display_data",
       "text": [
        "PROGRESS:     80   1.000e+00        1.50s"
       ]
      },
      {
       "html": [
        "<pre>PROGRESS:     81   1.000e+00        1.54s</pre>"
       ],
       "metadata": {},
       "output_type": "display_data",
       "text": [
        "PROGRESS:     81   1.000e+00        1.54s"
       ]
      },
      {
       "html": [
        "<pre>PROGRESS:     82   1.000e+00        1.58s</pre>"
       ],
       "metadata": {},
       "output_type": "display_data",
       "text": [
        "PROGRESS:     82   1.000e+00        1.58s"
       ]
      },
      {
       "html": [
        "<pre>PROGRESS:     83   1.000e+00        1.58s</pre>"
       ],
       "metadata": {},
       "output_type": "display_data",
       "text": [
        "PROGRESS:     83   1.000e+00        1.58s"
       ]
      },
      {
       "html": [
        "<pre>PROGRESS:     84   1.000e+00        1.67s</pre>"
       ],
       "metadata": {},
       "output_type": "display_data",
       "text": [
        "PROGRESS:     84   1.000e+00        1.67s"
       ]
      },
      {
       "html": [
        "<pre>PROGRESS:     85   1.000e+00        1.71s</pre>"
       ],
       "metadata": {},
       "output_type": "display_data",
       "text": [
        "PROGRESS:     85   1.000e+00        1.71s"
       ]
      },
      {
       "html": [
        "<pre>PROGRESS:     86   1.000e+00        1.72s</pre>"
       ],
       "metadata": {},
       "output_type": "display_data",
       "text": [
        "PROGRESS:     86   1.000e+00        1.72s"
       ]
      },
      {
       "html": [
        "<pre>PROGRESS:     87   1.000e+00        1.80s</pre>"
       ],
       "metadata": {},
       "output_type": "display_data",
       "text": [
        "PROGRESS:     87   1.000e+00        1.80s"
       ]
      },
      {
       "html": [
        "<pre>PROGRESS:     88   1.000e+00        1.84s</pre>"
       ],
       "metadata": {},
       "output_type": "display_data",
       "text": [
        "PROGRESS:     88   1.000e+00        1.84s"
       ]
      },
      {
       "html": [
        "<pre>PROGRESS:     89   1.000e+00        1.88s</pre>"
       ],
       "metadata": {},
       "output_type": "display_data",
       "text": [
        "PROGRESS:     89   1.000e+00        1.88s"
       ]
      },
      {
       "html": [
        "<pre>PROGRESS:     90   1.000e+00        1.92s</pre>"
       ],
       "metadata": {},
       "output_type": "display_data",
       "text": [
        "PROGRESS:     90   1.000e+00        1.92s"
       ]
      },
      {
       "html": [
        "<pre>PROGRESS:     91   1.000e+00        1.97s</pre>"
       ],
       "metadata": {},
       "output_type": "display_data",
       "text": [
        "PROGRESS:     91   1.000e+00        1.97s"
       ]
      },
      {
       "html": [
        "<pre>PROGRESS:     92   1.000e+00        1.98s</pre>"
       ],
       "metadata": {},
       "output_type": "display_data",
       "text": [
        "PROGRESS:     92   1.000e+00        1.98s"
       ]
      },
      {
       "html": [
        "<pre>PROGRESS:     93   1.000e+00        1.99s</pre>"
       ],
       "metadata": {},
       "output_type": "display_data",
       "text": [
        "PROGRESS:     93   1.000e+00        1.99s"
       ]
      },
      {
       "html": [
        "<pre>PROGRESS:     94   1.000e+00        2.02s</pre>"
       ],
       "metadata": {},
       "output_type": "display_data",
       "text": [
        "PROGRESS:     94   1.000e+00        2.02s"
       ]
      },
      {
       "html": [
        "<pre>PROGRESS:     95   1.000e+00        2.02s</pre>"
       ],
       "metadata": {},
       "output_type": "display_data",
       "text": [
        "PROGRESS:     95   1.000e+00        2.02s"
       ]
      },
      {
       "html": [
        "<pre>PROGRESS:     96   1.000e+00        2.11s</pre>"
       ],
       "metadata": {},
       "output_type": "display_data",
       "text": [
        "PROGRESS:     96   1.000e+00        2.11s"
       ]
      },
      {
       "html": [
        "<pre>PROGRESS:     97   1.000e+00        2.17s</pre>"
       ],
       "metadata": {},
       "output_type": "display_data",
       "text": [
        "PROGRESS:     97   1.000e+00        2.17s"
       ]
      },
      {
       "html": [
        "<pre>PROGRESS:     98   1.000e+00        2.21s</pre>"
       ],
       "metadata": {},
       "output_type": "display_data",
       "text": [
        "PROGRESS:     98   1.000e+00        2.21s"
       ]
      },
      {
       "html": [
        "<pre>PROGRESS:     99   1.000e+00        2.26s</pre>"
       ],
       "metadata": {},
       "output_type": "display_data",
       "text": [
        "PROGRESS:     99   1.000e+00        2.26s"
       ]
      }
     ],
     "prompt_number": 23
    },
    {
     "cell_type": "markdown",
     "metadata": {},
     "source": [
      "## Clasificaci\u00f3n de las etiquetas"
     ]
    },
    {
     "cell_type": "code",
     "collapsed": true,
     "input": [
      "bowt = gl.text_analytics.count_words(etiquetas['tags'])\n",
      "stopwordst = gl.text_analytics.stopwords()\n",
      "etiquetas['bow'] = bowt.dict_trim_by_keys(stopwords, exclude=True)"
     ],
     "language": "python",
     "metadata": {},
     "outputs": [],
     "prompt_number": 24
    },
    {
     "cell_type": "code",
     "collapsed": true,
     "input": [
      "pred = btree.predict(etiquetas)"
     ],
     "language": "python",
     "metadata": {},
     "outputs": [],
     "prompt_number": 25
    },
    {
     "cell_type": "code",
     "collapsed": false,
     "input": [
      "etiquetas.add_column(pred, name='class')"
     ],
     "language": "python",
     "metadata": {},
     "outputs": [
      {
       "html": [
        "<div style=\"max-height:1000px;max-width:1500px;overflow:auto;\"><table frame=\"box\" rules=\"cols\">\n",
        "    <tr>\n",
        "        <th style=\"padding-left: 1em; padding-right: 1em; text-align: center\">score</th>\n",
        "        <th style=\"padding-left: 1em; padding-right: 1em; text-align: center\">tags</th>\n",
        "        <th style=\"padding-left: 1em; padding-right: 1em; text-align: center\">url</th>\n",
        "        <th style=\"padding-left: 1em; padding-right: 1em; text-align: center\">bow</th>\n",
        "    </tr>\n",
        "    <tr>\n",
        "        <td style=\"padding-left: 1em; padding-right: 1em; text-align: center; vertical-align: top\">0.162987679243</td>\n",
        "        <td style=\"padding-left: 1em; padding-right: 1em; text-align: center; vertical-align: top\">desktop computer</td>\n",
        "        <td style=\"padding-left: 1em; padding-right: 1em; text-align: center; vertical-align: top\">https://scontent.cdninsta<br>gram.com/hphotos-xaf1 ...</td>\n",
        "        <td style=\"padding-left: 1em; padding-right: 1em; text-align: center; vertical-align: top\">{'computer': 1,<br>'desktop': 1}</td>\n",
        "    </tr>\n",
        "    <tr>\n",
        "        <td style=\"padding-left: 1em; padding-right: 1em; text-align: center; vertical-align: top\">0.254519730806</td>\n",
        "        <td style=\"padding-left: 1em; padding-right: 1em; text-align: center; vertical-align: top\">suit, suit of clothes</td>\n",
        "        <td style=\"padding-left: 1em; padding-right: 1em; text-align: center; vertical-align: top\">https://scontent.cdninsta<br>gram.com/hphotos-xfa1 ...</td>\n",
        "        <td style=\"padding-left: 1em; padding-right: 1em; text-align: center; vertical-align: top\">{'suit': 2, 'clothes': 1}</td>\n",
        "    </tr>\n",
        "    <tr>\n",
        "        <td style=\"padding-left: 1em; padding-right: 1em; text-align: center; vertical-align: top\">0.115768961608</td>\n",
        "        <td style=\"padding-left: 1em; padding-right: 1em; text-align: center; vertical-align: top\">stethoscope</td>\n",
        "        <td style=\"padding-left: 1em; padding-right: 1em; text-align: center; vertical-align: top\">https://scontent.cdninsta<br>gram.com/hphotos-xaf1 ...</td>\n",
        "        <td style=\"padding-left: 1em; padding-right: 1em; text-align: center; vertical-align: top\">{'stethoscope': 1}</td>\n",
        "    </tr>\n",
        "    <tr>\n",
        "        <td style=\"padding-left: 1em; padding-right: 1em; text-align: center; vertical-align: top\">0.149569019675</td>\n",
        "        <td style=\"padding-left: 1em; padding-right: 1em; text-align: center; vertical-align: top\">window screen</td>\n",
        "        <td style=\"padding-left: 1em; padding-right: 1em; text-align: center; vertical-align: top\">https://scontent.cdninsta<br>gram.com/hphotos-xap1 ...</td>\n",
        "        <td style=\"padding-left: 1em; padding-right: 1em; text-align: center; vertical-align: top\">{'screen': 1, 'window':<br>1}</td>\n",
        "    </tr>\n",
        "    <tr>\n",
        "        <td style=\"padding-left: 1em; padding-right: 1em; text-align: center; vertical-align: top\">0.686077356339</td>\n",
        "        <td style=\"padding-left: 1em; padding-right: 1em; text-align: center; vertical-align: top\">lab coat, laboratory coat</td>\n",
        "        <td style=\"padding-left: 1em; padding-right: 1em; text-align: center; vertical-align: top\">https://scontent.cdninsta<br>gram.com/hphotos-xpa1 ...</td>\n",
        "        <td style=\"padding-left: 1em; padding-right: 1em; text-align: center; vertical-align: top\">{'laboratory': 1, 'lab':<br>1, 'coat': 2}</td>\n",
        "    </tr>\n",
        "    <tr>\n",
        "        <td style=\"padding-left: 1em; padding-right: 1em; text-align: center; vertical-align: top\">0.108690448105</td>\n",
        "        <td style=\"padding-left: 1em; padding-right: 1em; text-align: center; vertical-align: top\">basketball</td>\n",
        "        <td style=\"padding-left: 1em; padding-right: 1em; text-align: center; vertical-align: top\">https://scontent.cdninsta<br>gram.com/hphotos-xfp1 ...</td>\n",
        "        <td style=\"padding-left: 1em; padding-right: 1em; text-align: center; vertical-align: top\">{'basketball': 1}</td>\n",
        "    </tr>\n",
        "    <tr>\n",
        "        <td style=\"padding-left: 1em; padding-right: 1em; text-align: center; vertical-align: top\">0.427066534758</td>\n",
        "        <td style=\"padding-left: 1em; padding-right: 1em; text-align: center; vertical-align: top\">Windsor tie</td>\n",
        "        <td style=\"padding-left: 1em; padding-right: 1em; text-align: center; vertical-align: top\">https://scontent.cdninsta<br>gram.com/hphotos-xpf1 ...</td>\n",
        "        <td style=\"padding-left: 1em; padding-right: 1em; text-align: center; vertical-align: top\">{'tie': 1, 'windsor': 1}</td>\n",
        "    </tr>\n",
        "    <tr>\n",
        "        <td style=\"padding-left: 1em; padding-right: 1em; text-align: center; vertical-align: top\">0.485020339489</td>\n",
        "        <td style=\"padding-left: 1em; padding-right: 1em; text-align: center; vertical-align: top\">mortarboard</td>\n",
        "        <td style=\"padding-left: 1em; padding-right: 1em; text-align: center; vertical-align: top\">https://scontent.cdninsta<br>gram.com/hphotos-xaf1 ...</td>\n",
        "        <td style=\"padding-left: 1em; padding-right: 1em; text-align: center; vertical-align: top\">{'mortarboard': 1}</td>\n",
        "    </tr>\n",
        "    <tr>\n",
        "        <td style=\"padding-left: 1em; padding-right: 1em; text-align: center; vertical-align: top\">0.450668811798</td>\n",
        "        <td style=\"padding-left: 1em; padding-right: 1em; text-align: center; vertical-align: top\">stage</td>\n",
        "        <td style=\"padding-left: 1em; padding-right: 1em; text-align: center; vertical-align: top\">https://scontent.cdninsta<br>gram.com/hphotos-xfp1 ...</td>\n",
        "        <td style=\"padding-left: 1em; padding-right: 1em; text-align: center; vertical-align: top\">{'stage': 1}</td>\n",
        "    </tr>\n",
        "    <tr>\n",
        "        <td style=\"padding-left: 1em; padding-right: 1em; text-align: center; vertical-align: top\">0.218172982335</td>\n",
        "        <td style=\"padding-left: 1em; padding-right: 1em; text-align: center; vertical-align: top\">comic book</td>\n",
        "        <td style=\"padding-left: 1em; padding-right: 1em; text-align: center; vertical-align: top\">https://scontent.cdninsta<br>gram.com/hphotos-xpa1 ...</td>\n",
        "        <td style=\"padding-left: 1em; padding-right: 1em; text-align: center; vertical-align: top\">{'comic': 1, 'book': 1}</td>\n",
        "    </tr>\n",
        "</table>\n",
        "<table frame=\"box\" rules=\"cols\">\n",
        "    <tr>\n",
        "        <th style=\"padding-left: 1em; padding-right: 1em; text-align: center\">class</th>\n",
        "    </tr>\n",
        "    <tr>\n",
        "        <td style=\"padding-left: 1em; padding-right: 1em; text-align: center; vertical-align: top\">TECNOLOGIA/INFORMACION</td>\n",
        "    </tr>\n",
        "    <tr>\n",
        "        <td style=\"padding-left: 1em; padding-right: 1em; text-align: center; vertical-align: top\">ANIMALES</td>\n",
        "    </tr>\n",
        "    <tr>\n",
        "        <td style=\"padding-left: 1em; padding-right: 1em; text-align: center; vertical-align: top\">OTROS</td>\n",
        "    </tr>\n",
        "    <tr>\n",
        "        <td style=\"padding-left: 1em; padding-right: 1em; text-align: center; vertical-align: top\">OTROS</td>\n",
        "    </tr>\n",
        "    <tr>\n",
        "        <td style=\"padding-left: 1em; padding-right: 1em; text-align: center; vertical-align: top\">ANIMALES</td>\n",
        "    </tr>\n",
        "    <tr>\n",
        "        <td style=\"padding-left: 1em; padding-right: 1em; text-align: center; vertical-align: top\">DEPORTE</td>\n",
        "    </tr>\n",
        "    <tr>\n",
        "        <td style=\"padding-left: 1em; padding-right: 1em; text-align: center; vertical-align: top\">ESPECTACULOS/EVENTOS</td>\n",
        "    </tr>\n",
        "    <tr>\n",
        "        <td style=\"padding-left: 1em; padding-right: 1em; text-align: center; vertical-align: top\">ESPECTACULOS/EVENTOS</td>\n",
        "    </tr>\n",
        "    <tr>\n",
        "        <td style=\"padding-left: 1em; padding-right: 1em; text-align: center; vertical-align: top\">ESPECTACULOS/EVENTOS</td>\n",
        "    </tr>\n",
        "    <tr>\n",
        "        <td style=\"padding-left: 1em; padding-right: 1em; text-align: center; vertical-align: top\">ENTRETENIMIENTO/JUEGOS</td>\n",
        "    </tr>\n",
        "    <tr>\n",
        "        <td style=\"padding-left: 1em; padding-right: 1em; text-align: center; vertical-align: top\">...</td>\n",
        "    </tr>\n",
        "</table>\n",
        "[152 rows x 5 columns]<br/>Note: Only the head of the SFrame is printed.<br/>You can use print_rows(num_rows=m, num_columns=n) to print more rows and columns.\n",
        "</div>"
       ],
       "metadata": {},
       "output_type": "pyout",
       "prompt_number": 26,
       "text": [
        "Columns:\n",
        "\tscore\tfloat\n",
        "\ttags\tstr\n",
        "\turl\tstr\n",
        "\tbow\tdict\n",
        "\tclass\tstr\n",
        "\n",
        "Rows: 152\n",
        "\n",
        "Data:\n",
        "+----------------+---------------------------+--------------------------------+\n",
        "|     score      |            tags           |              url               |\n",
        "+----------------+---------------------------+--------------------------------+\n",
        "| 0.162987679243 |      desktop computer     | https://scontent.cdninstag ... |\n",
        "| 0.254519730806 |   suit, suit of clothes   | https://scontent.cdninstag ... |\n",
        "| 0.115768961608 |        stethoscope        | https://scontent.cdninstag ... |\n",
        "| 0.149569019675 |       window screen       | https://scontent.cdninstag ... |\n",
        "| 0.686077356339 | lab coat, laboratory coat | https://scontent.cdninstag ... |\n",
        "| 0.108690448105 |         basketball        | https://scontent.cdninstag ... |\n",
        "| 0.427066534758 |        Windsor tie        | https://scontent.cdninstag ... |\n",
        "| 0.485020339489 |        mortarboard        | https://scontent.cdninstag ... |\n",
        "| 0.450668811798 |           stage           | https://scontent.cdninstag ... |\n",
        "| 0.218172982335 |         comic book        | https://scontent.cdninstag ... |\n",
        "+----------------+---------------------------+--------------------------------+\n",
        "+--------------------------------+------------------------+\n",
        "|              bow               |         class          |\n",
        "+--------------------------------+------------------------+\n",
        "| {'computer': 1, 'desktop': 1}  | TECNOLOGIA/INFORMACION |\n",
        "|   {'suit': 2, 'clothes': 1}    |        ANIMALES        |\n",
        "|       {'stethoscope': 1}       |         OTROS          |\n",
        "|   {'screen': 1, 'window': 1}   |         OTROS          |\n",
        "| {'laboratory': 1, 'lab': 1 ... |        ANIMALES        |\n",
        "|       {'basketball': 1}        |        DEPORTE         |\n",
        "|    {'tie': 1, 'windsor': 1}    |  ESPECTACULOS/EVENTOS  |\n",
        "|       {'mortarboard': 1}       |  ESPECTACULOS/EVENTOS  |\n",
        "|          {'stage': 1}          |  ESPECTACULOS/EVENTOS  |\n",
        "|    {'comic': 1, 'book': 1}     | ENTRETENIMIENTO/JUEGOS |\n",
        "|              ...               |          ...           |\n",
        "+--------------------------------+------------------------+\n",
        "[152 rows x 5 columns]\n",
        "Note: Only the head of the SFrame is printed.\n",
        "You can use print_rows(num_rows=m, num_columns=n) to print more rows and columns."
       ]
      }
     ],
     "prompt_number": 26
    },
    {
     "cell_type": "code",
     "collapsed": true,
     "input": [
      "resultados = etiquetas.groupby(\"class\", {'count':gl.aggregate.COUNT()})\n",
      "resultados"
     ],
     "language": "python",
     "metadata": {},
     "outputs": [
      {
       "html": [
        "<div style=\"max-height:1000px;max-width:1500px;overflow:auto;\"><table frame=\"box\" rules=\"cols\">\n",
        "    <tr>\n",
        "        <th style=\"padding-left: 1em; padding-right: 1em; text-align: center\">class</th>\n",
        "        <th style=\"padding-left: 1em; padding-right: 1em; text-align: center\">count</th>\n",
        "    </tr>\n",
        "    <tr>\n",
        "        <td style=\"padding-left: 1em; padding-right: 1em; text-align: center; vertical-align: top\">BELLEZA/COSMETICA</td>\n",
        "        <td style=\"padding-left: 1em; padding-right: 1em; text-align: center; vertical-align: top\">4</td>\n",
        "    </tr>\n",
        "    <tr>\n",
        "        <td style=\"padding-left: 1em; padding-right: 1em; text-align: center; vertical-align: top\">TECNOLOGIA/INFORMACION</td>\n",
        "        <td style=\"padding-left: 1em; padding-right: 1em; text-align: center; vertical-align: top\">3</td>\n",
        "    </tr>\n",
        "    <tr>\n",
        "        <td style=\"padding-left: 1em; padding-right: 1em; text-align: center; vertical-align: top\">NATURALEZA</td>\n",
        "        <td style=\"padding-left: 1em; padding-right: 1em; text-align: center; vertical-align: top\">3</td>\n",
        "    </tr>\n",
        "    <tr>\n",
        "        <td style=\"padding-left: 1em; padding-right: 1em; text-align: center; vertical-align: top\">DEPORTE</td>\n",
        "        <td style=\"padding-left: 1em; padding-right: 1em; text-align: center; vertical-align: top\">12</td>\n",
        "    </tr>\n",
        "    <tr>\n",
        "        <td style=\"padding-left: 1em; padding-right: 1em; text-align: center; vertical-align: top\">OTROS</td>\n",
        "        <td style=\"padding-left: 1em; padding-right: 1em; text-align: center; vertical-align: top\">18</td>\n",
        "    </tr>\n",
        "    <tr>\n",
        "        <td style=\"padding-left: 1em; padding-right: 1em; text-align: center; vertical-align: top\">MUSICA</td>\n",
        "        <td style=\"padding-left: 1em; padding-right: 1em; text-align: center; vertical-align: top\">3</td>\n",
        "    </tr>\n",
        "    <tr>\n",
        "        <td style=\"padding-left: 1em; padding-right: 1em; text-align: center; vertical-align: top\">ESPECTACULOS/EVENTOS</td>\n",
        "        <td style=\"padding-left: 1em; padding-right: 1em; text-align: center; vertical-align: top\">16</td>\n",
        "    </tr>\n",
        "    <tr>\n",
        "        <td style=\"padding-left: 1em; padding-right: 1em; text-align: center; vertical-align: top\">ARTE/LITERATURA</td>\n",
        "        <td style=\"padding-left: 1em; padding-right: 1em; text-align: center; vertical-align: top\">7</td>\n",
        "    </tr>\n",
        "    <tr>\n",
        "        <td style=\"padding-left: 1em; padding-right: 1em; text-align: center; vertical-align: top\">TURISMO</td>\n",
        "        <td style=\"padding-left: 1em; padding-right: 1em; text-align: center; vertical-align: top\">3</td>\n",
        "    </tr>\n",
        "    <tr>\n",
        "        <td style=\"padding-left: 1em; padding-right: 1em; text-align: center; vertical-align: top\">COMIDA/RESTAURACI\\xc3\\x93<br>N</td>\n",
        "        <td style=\"padding-left: 1em; padding-right: 1em; text-align: center; vertical-align: top\">5</td>\n",
        "    </tr>\n",
        "    <tr>\n",
        "        <td style=\"padding-left: 1em; padding-right: 1em; text-align: center; vertical-align: top\">...</td>\n",
        "        <td style=\"padding-left: 1em; padding-right: 1em; text-align: center; vertical-align: top\">...</td>\n",
        "    </tr>\n",
        "</table>\n",
        "[12 rows x 2 columns]<br/>Note: Only the head of the SFrame is printed.<br/>You can use print_rows(num_rows=m, num_columns=n) to print more rows and columns.\n",
        "</div>"
       ],
       "metadata": {},
       "output_type": "pyout",
       "prompt_number": 27,
       "text": [
        "Columns:\n",
        "\tclass\tstr\n",
        "\tcount\tint\n",
        "\n",
        "Rows: 12\n",
        "\n",
        "Data:\n",
        "+----------------------------+-------+\n",
        "|           class            | count |\n",
        "+----------------------------+-------+\n",
        "|     BELLEZA/COSMETICA      |   4   |\n",
        "|   TECNOLOGIA/INFORMACION   |   3   |\n",
        "|         NATURALEZA         |   3   |\n",
        "|          DEPORTE           |   12  |\n",
        "|           OTROS            |   18  |\n",
        "|           MUSICA           |   3   |\n",
        "|    ESPECTACULOS/EVENTOS    |   16  |\n",
        "|      ARTE/LITERATURA       |   7   |\n",
        "|          TURISMO           |   3   |\n",
        "| COMIDA/RESTAURACI\\xc3\\x93N |   5   |\n",
        "|            ...             |  ...  |\n",
        "+----------------------------+-------+\n",
        "[12 rows x 2 columns]\n",
        "Note: Only the head of the SFrame is printed.\n",
        "You can use print_rows(num_rows=m, num_columns=n) to print more rows and columns."
       ]
      }
     ],
     "prompt_number": 27
    },
    {
     "cell_type": "code",
     "collapsed": true,
     "input": [
      "etiquetas.save(user+\"_tot\",format = 'csv');\n",
      "resultados.save(user+\"_cat\",format = 'csv');"
     ],
     "language": "python",
     "metadata": {},
     "outputs": [],
     "prompt_number": 28
    },
    {
     "cell_type": "code",
     "collapsed": false,
     "input": [],
     "language": "python",
     "metadata": {},
     "outputs": []
    }
   ],
   "metadata": {}
  }
 ]
}