{
 "metadata": {
  "name": "",
  "signature": "sha256:260fac9379ead8f05fdfed641a7d694df987fbbed18c087fa284e5b9708beada"
 },
 "nbformat": 3,
 "nbformat_minor": 0,
 "worksheets": [
  {
   "cells": [
    {
     "cell_type": "code",
     "collapsed": false,
     "input": [
      "import graphlab as gl\n",
      "import ast\n",
      "import time"
     ],
     "language": "python",
     "metadata": {},
     "outputs": [],
     "prompt_number": 6
    },
    {
     "cell_type": "markdown",
     "metadata": {},
     "source": [
      "# Etiquetas IMAGENET"
     ]
    },
    {
     "cell_type": "code",
     "collapsed": false,
     "input": [
      "infile = open('etiquetas_imagenet.txt', 'r')"
     ],
     "language": "python",
     "metadata": {},
     "outputs": [],
     "prompt_number": 7
    },
    {
     "cell_type": "code",
     "collapsed": false,
     "input": [
      "label_to_text = ast.literal_eval(infile.read())"
     ],
     "language": "python",
     "metadata": {},
     "outputs": [],
     "prompt_number": 8
    },
    {
     "cell_type": "markdown",
     "metadata": {},
     "source": [
      "# Carga del modelo y m\u00e9todo predictor"
     ]
    },
    {
     "cell_type": "code",
     "collapsed": false,
     "input": [
      "def predict_image_url(url):\n",
      "    pretrained_model = gl.load_model('~/Desktop');\n",
      "    #pretrained_model = gl.load_model('http://s3.amazonaws.com/GraphLab-Datasets/deeplearning/imagenet_model_iter45')\n",
      "    \n",
      "    # Si ya tenemos el modelo entrenado con el dataset de imagenet almacenado en local\n",
      "    #model = gl.load_model('pretrained_model')\n",
      "    \n",
      "    image_sf = gl.SFrame({'image': [gl.Image(url)]})\n",
      "    image_sf['image'] = gl.image_analysis.resize(image_sf['image'], 256, 256, 3)\n",
      "    top_labels = pretrained_model.predict_topk(image_sf, k=5)\n",
      "    top_labels['class_text'] = top_labels['class'].apply(lambda x: label_to_text[x])\n",
      "    return top_labels"
     ],
     "language": "python",
     "metadata": {},
     "outputs": [],
     "prompt_number": 46
    },
    {
     "cell_type": "code",
     "collapsed": false,
     "input": [
      "#prueba_url = 'http://hadrovsky.sweb.cz/images/rn14.jpg'\n",
      "prueba_url = 'http://scontent-a-mad.cdninstagram.com/hphotos-xfa1/t51.2885-15/s306x306/e15/10865165_689917854462761_65417628_n.jpg'\n",
      "res = predict_image_url(prueba_url)\n",
      "res"
     ],
     "language": "python",
     "metadata": {},
     "outputs": [
      {
       "html": [
        "<div style=\"max-height:1000px;max-width:1500px;overflow:auto;\"><table frame=\"box\" rules=\"cols\">\n",
        "    <tr>\n",
        "        <th style=\"padding-left: 1em; padding-right: 1em; text-align: center\">row_id</th>\n",
        "        <th style=\"padding-left: 1em; padding-right: 1em; text-align: center\">class</th>\n",
        "        <th style=\"padding-left: 1em; padding-right: 1em; text-align: center\">score</th>\n",
        "        <th style=\"padding-left: 1em; padding-right: 1em; text-align: center\">class_text</th>\n",
        "    </tr>\n",
        "    <tr>\n",
        "        <td style=\"padding-left: 1em; padding-right: 1em; text-align: center; vertical-align: top\">0</td>\n",
        "        <td style=\"padding-left: 1em; padding-right: 1em; text-align: center; vertical-align: top\">464</td>\n",
        "        <td style=\"padding-left: 1em; padding-right: 1em; text-align: center; vertical-align: top\">0.333146721125</td>\n",
        "        <td style=\"padding-left: 1em; padding-right: 1em; text-align: center; vertical-align: top\">buckle</td>\n",
        "    </tr>\n",
        "    <tr>\n",
        "        <td style=\"padding-left: 1em; padding-right: 1em; text-align: center; vertical-align: top\">0</td>\n",
        "        <td style=\"padding-left: 1em; padding-right: 1em; text-align: center; vertical-align: top\">828</td>\n",
        "        <td style=\"padding-left: 1em; padding-right: 1em; text-align: center; vertical-align: top\">0.093060746789</td>\n",
        "        <td style=\"padding-left: 1em; padding-right: 1em; text-align: center; vertical-align: top\">strainer</td>\n",
        "    </tr>\n",
        "    <tr>\n",
        "        <td style=\"padding-left: 1em; padding-right: 1em; text-align: center; vertical-align: top\">0</td>\n",
        "        <td style=\"padding-left: 1em; padding-right: 1em; text-align: center; vertical-align: top\">809</td>\n",
        "        <td style=\"padding-left: 1em; padding-right: 1em; text-align: center; vertical-align: top\">0.0742398649454</td>\n",
        "        <td style=\"padding-left: 1em; padding-right: 1em; text-align: center; vertical-align: top\">soup bowl</td>\n",
        "    </tr>\n",
        "    <tr>\n",
        "        <td style=\"padding-left: 1em; padding-right: 1em; text-align: center; vertical-align: top\">0</td>\n",
        "        <td style=\"padding-left: 1em; padding-right: 1em; text-align: center; vertical-align: top\">868</td>\n",
        "        <td style=\"padding-left: 1em; padding-right: 1em; text-align: center; vertical-align: top\">0.0533036775887</td>\n",
        "        <td style=\"padding-left: 1em; padding-right: 1em; text-align: center; vertical-align: top\">tray</td>\n",
        "    </tr>\n",
        "    <tr>\n",
        "        <td style=\"padding-left: 1em; padding-right: 1em; text-align: center; vertical-align: top\">0</td>\n",
        "        <td style=\"padding-left: 1em; padding-right: 1em; text-align: center; vertical-align: top\">712</td>\n",
        "        <td style=\"padding-left: 1em; padding-right: 1em; text-align: center; vertical-align: top\">0.0372758992016</td>\n",
        "        <td style=\"padding-left: 1em; padding-right: 1em; text-align: center; vertical-align: top\">Petri dish</td>\n",
        "    </tr>\n",
        "</table>\n",
        "[5 rows x 4 columns]<br/>\n",
        "</div>"
       ],
       "metadata": {},
       "output_type": "pyout",
       "prompt_number": 48,
       "text": [
        "Columns:\n",
        "\trow_id\tint\n",
        "\tclass\tint\n",
        "\tscore\tfloat\n",
        "\tclass_text\tstr\n",
        "\n",
        "Rows: 5\n",
        "\n",
        "Data:\n",
        "+--------+-------+-----------------+------------+\n",
        "| row_id | class |      score      | class_text |\n",
        "+--------+-------+-----------------+------------+\n",
        "|   0    |  464  |  0.333146721125 |   buckle   |\n",
        "|   0    |  828  |  0.093060746789 |  strainer  |\n",
        "|   0    |  809  | 0.0742398649454 | soup bowl  |\n",
        "|   0    |  868  | 0.0533036775887 |    tray    |\n",
        "|   0    |  712  | 0.0372758992016 | Petri dish |\n",
        "+--------+-------+-----------------+------------+\n",
        "[5 rows x 4 columns]"
       ]
      }
     ],
     "prompt_number": 48
    },
    {
     "cell_type": "markdown",
     "metadata": {},
     "source": [
      "# Scraping de im\u00e1genes de Instagram"
     ]
    },
    {
     "cell_type": "code",
     "collapsed": false,
     "input": [
      "from BeautifulSoup import BeautifulSoup\n",
      "import selenium.webdriver as webdriver"
     ],
     "language": "python",
     "metadata": {},
     "outputs": [],
     "prompt_number": 11
    },
    {
     "cell_type": "markdown",
     "metadata": {},
     "source": [
      "## ENTRADA: identificador de usuario"
     ]
    },
    {
     "cell_type": "code",
     "collapsed": false,
     "input": [
      "# Ususarios analizados: mirandakerr || cristiano || barackobama || kingjames || brunomars || jessicaalba\n",
      "user = 'ali.mese'"
     ],
     "language": "python",
     "metadata": {},
     "outputs": [],
     "prompt_number": 12
    },
    {
     "cell_type": "code",
     "collapsed": false,
     "input": [
      "url = 'http://instagram.com/'+user+'/'\n",
      "driver = webdriver.Firefox()\n",
      "driver.get(url)"
     ],
     "language": "python",
     "metadata": {},
     "outputs": [],
     "prompt_number": 13
    },
    {
     "cell_type": "code",
     "collapsed": false,
     "input": [
      "driver.find_element_by_css_selector('.pgmiThumb')\n",
      "not_all_images_loaded = True"
     ],
     "language": "python",
     "metadata": {},
     "outputs": [],
     "prompt_number": 14
    },
    {
     "cell_type": "markdown",
     "metadata": {},
     "source": [
      "# Carga de todas las im\u00e1genes del usuario (paginaci\u00f3n)"
     ]
    },
    {
     "cell_type": "code",
     "collapsed": false,
     "input": [
      "while not_all_images_loaded:\n",
      "\n",
      "    driver.find_element_by_class_name('PhotoGridMoreButton').click()\n",
      "    time.sleep(3)\n",
      "    webElement = driver.find_element_by_css_selector('.PhotoGridMoreButton').text\n",
      "    \n",
      "    if (webElement == \"All items loaded\") or (webElement == \"Se han subido todos los elementos\"):\n",
      "        not_all_images_loaded = False\n",
      "        print webElement"
     ],
     "language": "python",
     "metadata": {},
     "outputs": [
      {
       "output_type": "stream",
       "stream": "stdout",
       "text": [
        "Se han subido todos los elementos\n"
       ]
      }
     ],
     "prompt_number": 15
    },
    {
     "cell_type": "code",
     "collapsed": false,
     "input": [
      "soup = BeautifulSoup(driver.page_source)"
     ],
     "language": "python",
     "metadata": {},
     "outputs": [],
     "prompt_number": 16
    },
    {
     "cell_type": "code",
     "collapsed": false,
     "input": [
      "urls = []\n",
      "for x in soup.findAll('div', {'class':'pgmiThumb tThumbImage Image'}):\n",
      "    urls.append(x['src'])"
     ],
     "language": "python",
     "metadata": {},
     "outputs": [],
     "prompt_number": 17
    },
    {
     "cell_type": "code",
     "collapsed": false,
     "input": [
      "driver.quit()"
     ],
     "language": "python",
     "metadata": {},
     "outputs": [],
     "prompt_number": 18
    },
    {
     "cell_type": "code",
     "collapsed": false,
     "input": [
      "len(urls)"
     ],
     "language": "python",
     "metadata": {},
     "outputs": [
      {
       "metadata": {},
       "output_type": "pyout",
       "prompt_number": 22,
       "text": [
        "139"
       ]
      }
     ],
     "prompt_number": 22
    },
    {
     "cell_type": "markdown",
     "metadata": {},
     "source": [
      "# An\u00e1lisis de las im\u00e1genes scrapeadas"
     ]
    },
    {
     "cell_type": "code",
     "collapsed": false,
     "input": [
      "def analizar_imagenes():\n",
      "    clases = {\"url\":[], \"tags\":[], \"score\":[]}\n",
      "    for item in xrange(len(urls)):\n",
      "        res = predict_image_url(urls[item])\n",
      "        score = res[0]['score']\n",
      "        if score >= 0.5:\n",
      "            clases['url'].append(urls[item])\n",
      "            clases['tags'].append(res[0]['class_text'])\n",
      "            clases['score'].append(res[0]['score'])\n",
      "    return clases"
     ],
     "language": "python",
     "metadata": {},
     "outputs": [],
     "prompt_number": 23
    },
    {
     "cell_type": "code",
     "collapsed": false,
     "input": [
      "clases = analizar_imagenes()"
     ],
     "language": "python",
     "metadata": {},
     "outputs": [],
     "prompt_number": 49
    },
    {
     "cell_type": "code",
     "collapsed": false,
     "input": [
      "etiquetas = gl.SFrame(clases)\n",
      "etiquetas.save(\"clases\",format = 'csv');\n"
     ],
     "language": "python",
     "metadata": {},
     "outputs": [],
     "prompt_number": 56
    },
    {
     "cell_type": "markdown",
     "metadata": {},
     "source": [
      "# Clasificaci\u00f3n de las etiquetas en categor\u00edas"
     ]
    },
    {
     "cell_type": "markdown",
     "metadata": {},
     "source": [
      "## Carga del dataset de entrenamiento"
     ]
    },
    {
     "cell_type": "code",
     "collapsed": false,
     "input": [
      "sf = gl.SFrame.read_csv('Datos_Instagram.csv')"
     ],
     "language": "python",
     "metadata": {},
     "outputs": [
      {
       "html": [
        "<pre>PROGRESS: Finished parsing file /Users/carlosmunoz/htdocs/beeva-notebooks/IMGS_Instagram/Datos_Instagram.csv</pre>"
       ],
       "metadata": {},
       "output_type": "display_data",
       "text": [
        "PROGRESS: Finished parsing file /Users/carlosmunoz/htdocs/beeva-notebooks/IMGS_Instagram/Datos_Instagram.csv"
       ]
      },
      {
       "html": [
        "<pre>PROGRESS: Parsing completed. Parsed 100 lines in 0.04 secs.</pre>"
       ],
       "metadata": {},
       "output_type": "display_data",
       "text": [
        "PROGRESS: Parsing completed. Parsed 100 lines in 0.04 secs."
       ]
      },
      {
       "html": [
        "<pre>PROGRESS: Finished parsing file /Users/carlosmunoz/htdocs/beeva-notebooks/IMGS_Instagram/Datos_Instagram.csv</pre>"
       ],
       "metadata": {},
       "output_type": "display_data",
       "text": [
        "PROGRESS: Finished parsing file /Users/carlosmunoz/htdocs/beeva-notebooks/IMGS_Instagram/Datos_Instagram.csv"
       ]
      },
      {
       "html": [
        "<pre>PROGRESS: Parsing completed. Parsed 339 lines in 0.01 secs.</pre>"
       ],
       "metadata": {},
       "output_type": "display_data",
       "text": [
        "PROGRESS: Parsing completed. Parsed 339 lines in 0.01 secs."
       ]
      },
      {
       "output_type": "stream",
       "stream": "stdout",
       "text": [
        "------------------------------------------------------\n",
        "Inferred types from first line of file as \n",
        "column_type_hints=[str,str,str,str]\n",
        "If parsing fails due to incorrect types, you can correct\n",
        "the inferred type list above and pass it to read_csv in\n",
        "the column_type_hints argument\n",
        "------------------------------------------------------\n"
       ]
      }
     ],
     "prompt_number": 51
    },
    {
     "cell_type": "markdown",
     "metadata": {},
     "source": [
      "## Caracterizaci\u00f3n de las etiquetas por palabras clave"
     ]
    },
    {
     "cell_type": "code",
     "collapsed": false,
     "input": [
      "bow = gl.text_analytics.count_words(sf['tags'])\n",
      "stopwords = gl.text_analytics.stopwords()\n",
      "sf['bow'] = bow.dict_trim_by_keys(stopwords, exclude=True)"
     ],
     "language": "python",
     "metadata": {},
     "outputs": [],
     "prompt_number": 52
    },
    {
     "cell_type": "code",
     "collapsed": false,
     "input": [
      "#training, test = sf.random_split(0.8)\n",
      "training = sf"
     ],
     "language": "python",
     "metadata": {},
     "outputs": [],
     "prompt_number": 53
    },
    {
     "cell_type": "markdown",
     "metadata": {},
     "source": [
      "## Entrenamiento del modelo Boosted Trees"
     ]
    },
    {
     "cell_type": "code",
     "collapsed": false,
     "input": [
      "btree = gl.boosted_trees_classifier.create(training, target='class', features=['bow'], max_iterations=100)"
     ],
     "language": "python",
     "metadata": {},
     "outputs": [
      {
       "html": [
        "<pre>PROGRESS: Boosted trees classifier:</pre>"
       ],
       "metadata": {},
       "output_type": "display_data",
       "text": [
        "PROGRESS: Boosted trees classifier:"
       ]
      },
      {
       "html": [
        "<pre>PROGRESS: --------------------------------------------------------</pre>"
       ],
       "metadata": {},
       "output_type": "display_data",
       "text": [
        "PROGRESS: --------------------------------------------------------"
       ]
      },
      {
       "html": [
        "<pre>PROGRESS: Number of examples          : 339</pre>"
       ],
       "metadata": {},
       "output_type": "display_data",
       "text": [
        "PROGRESS: Number of examples          : 339"
       ]
      },
      {
       "html": [
        "<pre>PROGRESS: Number of classes           : 13</pre>"
       ],
       "metadata": {},
       "output_type": "display_data",
       "text": [
        "PROGRESS: Number of classes           : 13"
       ]
      },
      {
       "html": [
        "<pre>PROGRESS: Number of feature columns   : 1</pre>"
       ],
       "metadata": {},
       "output_type": "display_data",
       "text": [
        "PROGRESS: Number of feature columns   : 1"
       ]
      },
      {
       "html": [
        "<pre>PROGRESS: Number of unpacked features : 299</pre>"
       ],
       "metadata": {},
       "output_type": "display_data",
       "text": [
        "PROGRESS: Number of unpacked features : 299"
       ]
      },
      {
       "html": [
        "<pre>PROGRESS: Starting Boosted Trees</pre>"
       ],
       "metadata": {},
       "output_type": "display_data",
       "text": [
        "PROGRESS: Starting Boosted Trees"
       ]
      },
      {
       "html": [
        "<pre>PROGRESS: --------------------------------------------------------</pre>"
       ],
       "metadata": {},
       "output_type": "display_data",
       "text": [
        "PROGRESS: --------------------------------------------------------"
       ]
      },
      {
       "html": [
        "<pre>PROGRESS:   Iter    Accuracy Elapsed time</pre>"
       ],
       "metadata": {},
       "output_type": "display_data",
       "text": [
        "PROGRESS:   Iter    Accuracy Elapsed time"
       ]
      },
      {
       "html": [
        "<pre>PROGRESS:      0   7.729e-01        0.02s</pre>"
       ],
       "metadata": {},
       "output_type": "display_data",
       "text": [
        "PROGRESS:      0   7.729e-01        0.02s"
       ]
      },
      {
       "html": [
        "<pre>PROGRESS:      1   8.024e-01        0.02s</pre>"
       ],
       "metadata": {},
       "output_type": "display_data",
       "text": [
        "PROGRESS:      1   8.024e-01        0.02s"
       ]
      },
      {
       "html": [
        "<pre>PROGRESS:      2   7.994e-01        0.03s</pre>"
       ],
       "metadata": {},
       "output_type": "display_data",
       "text": [
        "PROGRESS:      2   7.994e-01        0.03s"
       ]
      },
      {
       "html": [
        "<pre>PROGRESS:      3   8.289e-01        0.03s</pre>"
       ],
       "metadata": {},
       "output_type": "display_data",
       "text": [
        "PROGRESS:      3   8.289e-01        0.03s"
       ]
      },
      {
       "html": [
        "<pre>PROGRESS:      4   8.289e-01        0.04s</pre>"
       ],
       "metadata": {},
       "output_type": "display_data",
       "text": [
        "PROGRESS:      4   8.289e-01        0.04s"
       ]
      },
      {
       "html": [
        "<pre>PROGRESS:      5   8.348e-01        0.04s</pre>"
       ],
       "metadata": {},
       "output_type": "display_data",
       "text": [
        "PROGRESS:      5   8.348e-01        0.04s"
       ]
      },
      {
       "html": [
        "<pre>PROGRESS:      6   8.378e-01        0.05s</pre>"
       ],
       "metadata": {},
       "output_type": "display_data",
       "text": [
        "PROGRESS:      6   8.378e-01        0.05s"
       ]
      },
      {
       "html": [
        "<pre>PROGRESS:      7   8.348e-01        0.05s</pre>"
       ],
       "metadata": {},
       "output_type": "display_data",
       "text": [
        "PROGRESS:      7   8.348e-01        0.05s"
       ]
      },
      {
       "html": [
        "<pre>PROGRESS:      8   8.348e-01        0.06s</pre>"
       ],
       "metadata": {},
       "output_type": "display_data",
       "text": [
        "PROGRESS:      8   8.348e-01        0.06s"
       ]
      },
      {
       "html": [
        "<pre>PROGRESS:      9   8.643e-01        0.06s</pre>"
       ],
       "metadata": {},
       "output_type": "display_data",
       "text": [
        "PROGRESS:      9   8.643e-01        0.06s"
       ]
      },
      {
       "html": [
        "<pre>PROGRESS:     10   8.820e-01        0.07s</pre>"
       ],
       "metadata": {},
       "output_type": "display_data",
       "text": [
        "PROGRESS:     10   8.820e-01        0.07s"
       ]
      },
      {
       "html": [
        "<pre>PROGRESS:     11   8.820e-01        0.07s</pre>"
       ],
       "metadata": {},
       "output_type": "display_data",
       "text": [
        "PROGRESS:     11   8.820e-01        0.07s"
       ]
      },
      {
       "html": [
        "<pre>PROGRESS:     12   8.820e-01        0.08s</pre>"
       ],
       "metadata": {},
       "output_type": "display_data",
       "text": [
        "PROGRESS:     12   8.820e-01        0.08s"
       ]
      },
      {
       "html": [
        "<pre>PROGRESS:     13   8.997e-01        0.08s</pre>"
       ],
       "metadata": {},
       "output_type": "display_data",
       "text": [
        "PROGRESS:     13   8.997e-01        0.08s"
       ]
      },
      {
       "html": [
        "<pre>PROGRESS:     14   9.233e-01        0.09s</pre>"
       ],
       "metadata": {},
       "output_type": "display_data",
       "text": [
        "PROGRESS:     14   9.233e-01        0.09s"
       ]
      },
      {
       "html": [
        "<pre>PROGRESS:     15   9.499e-01        0.09s</pre>"
       ],
       "metadata": {},
       "output_type": "display_data",
       "text": [
        "PROGRESS:     15   9.499e-01        0.09s"
       ]
      },
      {
       "html": [
        "<pre>PROGRESS:     16   9.558e-01        0.09s</pre>"
       ],
       "metadata": {},
       "output_type": "display_data",
       "text": [
        "PROGRESS:     16   9.558e-01        0.09s"
       ]
      },
      {
       "html": [
        "<pre>PROGRESS:     17   9.587e-01        0.10s</pre>"
       ],
       "metadata": {},
       "output_type": "display_data",
       "text": [
        "PROGRESS:     17   9.587e-01        0.10s"
       ]
      },
      {
       "html": [
        "<pre>PROGRESS:     18   9.587e-01        0.10s</pre>"
       ],
       "metadata": {},
       "output_type": "display_data",
       "text": [
        "PROGRESS:     18   9.587e-01        0.10s"
       ]
      },
      {
       "html": [
        "<pre>PROGRESS:     19   9.587e-01        0.11s</pre>"
       ],
       "metadata": {},
       "output_type": "display_data",
       "text": [
        "PROGRESS:     19   9.587e-01        0.11s"
       ]
      },
      {
       "html": [
        "<pre>PROGRESS:     20   9.587e-01        0.12s</pre>"
       ],
       "metadata": {},
       "output_type": "display_data",
       "text": [
        "PROGRESS:     20   9.587e-01        0.12s"
       ]
      },
      {
       "html": [
        "<pre>PROGRESS:     21   9.587e-01        0.12s</pre>"
       ],
       "metadata": {},
       "output_type": "display_data",
       "text": [
        "PROGRESS:     21   9.587e-01        0.12s"
       ]
      },
      {
       "html": [
        "<pre>PROGRESS:     22   9.587e-01        0.13s</pre>"
       ],
       "metadata": {},
       "output_type": "display_data",
       "text": [
        "PROGRESS:     22   9.587e-01        0.13s"
       ]
      },
      {
       "html": [
        "<pre>PROGRESS:     23   9.587e-01        0.13s</pre>"
       ],
       "metadata": {},
       "output_type": "display_data",
       "text": [
        "PROGRESS:     23   9.587e-01        0.13s"
       ]
      },
      {
       "html": [
        "<pre>PROGRESS:     24   9.587e-01        0.14s</pre>"
       ],
       "metadata": {},
       "output_type": "display_data",
       "text": [
        "PROGRESS:     24   9.587e-01        0.14s"
       ]
      },
      {
       "html": [
        "<pre>PROGRESS:     25   9.587e-01        0.14s</pre>"
       ],
       "metadata": {},
       "output_type": "display_data",
       "text": [
        "PROGRESS:     25   9.587e-01        0.14s"
       ]
      },
      {
       "html": [
        "<pre>PROGRESS:     26   9.587e-01        0.14s</pre>"
       ],
       "metadata": {},
       "output_type": "display_data",
       "text": [
        "PROGRESS:     26   9.587e-01        0.14s"
       ]
      },
      {
       "html": [
        "<pre>PROGRESS:     27   9.587e-01        0.15s</pre>"
       ],
       "metadata": {},
       "output_type": "display_data",
       "text": [
        "PROGRESS:     27   9.587e-01        0.15s"
       ]
      },
      {
       "html": [
        "<pre>PROGRESS:     28   9.587e-01        0.16s</pre>"
       ],
       "metadata": {},
       "output_type": "display_data",
       "text": [
        "PROGRESS:     28   9.587e-01        0.16s"
       ]
      },
      {
       "html": [
        "<pre>PROGRESS:     29   9.587e-01        0.17s</pre>"
       ],
       "metadata": {},
       "output_type": "display_data",
       "text": [
        "PROGRESS:     29   9.587e-01        0.17s"
       ]
      },
      {
       "html": [
        "<pre>PROGRESS:     30   9.587e-01        0.17s</pre>"
       ],
       "metadata": {},
       "output_type": "display_data",
       "text": [
        "PROGRESS:     30   9.587e-01        0.17s"
       ]
      },
      {
       "html": [
        "<pre>PROGRESS:     31   9.587e-01        0.18s</pre>"
       ],
       "metadata": {},
       "output_type": "display_data",
       "text": [
        "PROGRESS:     31   9.587e-01        0.18s"
       ]
      },
      {
       "html": [
        "<pre>PROGRESS:     32   9.587e-01        0.18s</pre>"
       ],
       "metadata": {},
       "output_type": "display_data",
       "text": [
        "PROGRESS:     32   9.587e-01        0.18s"
       ]
      },
      {
       "html": [
        "<pre>PROGRESS:     33   9.587e-01        0.18s</pre>"
       ],
       "metadata": {},
       "output_type": "display_data",
       "text": [
        "PROGRESS:     33   9.587e-01        0.18s"
       ]
      },
      {
       "html": [
        "<pre>PROGRESS:     34   9.617e-01        0.19s</pre>"
       ],
       "metadata": {},
       "output_type": "display_data",
       "text": [
        "PROGRESS:     34   9.617e-01        0.19s"
       ]
      },
      {
       "html": [
        "<pre>PROGRESS:     35   9.587e-01        0.19s</pre>"
       ],
       "metadata": {},
       "output_type": "display_data",
       "text": [
        "PROGRESS:     35   9.587e-01        0.19s"
       ]
      },
      {
       "html": [
        "<pre>PROGRESS:     36   9.617e-01        0.20s</pre>"
       ],
       "metadata": {},
       "output_type": "display_data",
       "text": [
        "PROGRESS:     36   9.617e-01        0.20s"
       ]
      },
      {
       "html": [
        "<pre>PROGRESS:     37   9.617e-01        0.20s</pre>"
       ],
       "metadata": {},
       "output_type": "display_data",
       "text": [
        "PROGRESS:     37   9.617e-01        0.20s"
       ]
      },
      {
       "html": [
        "<pre>PROGRESS:     38   9.617e-01        0.21s</pre>"
       ],
       "metadata": {},
       "output_type": "display_data",
       "text": [
        "PROGRESS:     38   9.617e-01        0.21s"
       ]
      },
      {
       "html": [
        "<pre>PROGRESS:     39   9.617e-01        0.21s</pre>"
       ],
       "metadata": {},
       "output_type": "display_data",
       "text": [
        "PROGRESS:     39   9.617e-01        0.21s"
       ]
      },
      {
       "html": [
        "<pre>PROGRESS:     40   9.617e-01        0.22s</pre>"
       ],
       "metadata": {},
       "output_type": "display_data",
       "text": [
        "PROGRESS:     40   9.617e-01        0.22s"
       ]
      },
      {
       "html": [
        "<pre>PROGRESS:     41   9.617e-01        0.22s</pre>"
       ],
       "metadata": {},
       "output_type": "display_data",
       "text": [
        "PROGRESS:     41   9.617e-01        0.22s"
       ]
      },
      {
       "html": [
        "<pre>PROGRESS:     42   9.617e-01        0.22s</pre>"
       ],
       "metadata": {},
       "output_type": "display_data",
       "text": [
        "PROGRESS:     42   9.617e-01        0.22s"
       ]
      },
      {
       "html": [
        "<pre>PROGRESS:     43   9.617e-01        0.23s</pre>"
       ],
       "metadata": {},
       "output_type": "display_data",
       "text": [
        "PROGRESS:     43   9.617e-01        0.23s"
       ]
      },
      {
       "html": [
        "<pre>PROGRESS:     44   9.617e-01        0.23s</pre>"
       ],
       "metadata": {},
       "output_type": "display_data",
       "text": [
        "PROGRESS:     44   9.617e-01        0.23s"
       ]
      },
      {
       "html": [
        "<pre>PROGRESS:     45   9.617e-01        0.24s</pre>"
       ],
       "metadata": {},
       "output_type": "display_data",
       "text": [
        "PROGRESS:     45   9.617e-01        0.24s"
       ]
      },
      {
       "html": [
        "<pre>PROGRESS:     46   9.617e-01        0.24s</pre>"
       ],
       "metadata": {},
       "output_type": "display_data",
       "text": [
        "PROGRESS:     46   9.617e-01        0.24s"
       ]
      },
      {
       "html": [
        "<pre>PROGRESS:     47   9.617e-01        0.24s</pre>"
       ],
       "metadata": {},
       "output_type": "display_data",
       "text": [
        "PROGRESS:     47   9.617e-01        0.24s"
       ]
      },
      {
       "html": [
        "<pre>PROGRESS:     48   9.617e-01        0.25s</pre>"
       ],
       "metadata": {},
       "output_type": "display_data",
       "text": [
        "PROGRESS:     48   9.617e-01        0.25s"
       ]
      },
      {
       "html": [
        "<pre>PROGRESS:     49   9.617e-01        0.25s</pre>"
       ],
       "metadata": {},
       "output_type": "display_data",
       "text": [
        "PROGRESS:     49   9.617e-01        0.25s"
       ]
      },
      {
       "html": [
        "<pre>PROGRESS:     50   9.617e-01        0.25s</pre>"
       ],
       "metadata": {},
       "output_type": "display_data",
       "text": [
        "PROGRESS:     50   9.617e-01        0.25s"
       ]
      },
      {
       "html": [
        "<pre>PROGRESS:     51   9.617e-01        0.26s</pre>"
       ],
       "metadata": {},
       "output_type": "display_data",
       "text": [
        "PROGRESS:     51   9.617e-01        0.26s"
       ]
      },
      {
       "html": [
        "<pre>PROGRESS:     52   9.617e-01        0.26s</pre>"
       ],
       "metadata": {},
       "output_type": "display_data",
       "text": [
        "PROGRESS:     52   9.617e-01        0.26s"
       ]
      },
      {
       "html": [
        "<pre>PROGRESS:     53   9.617e-01        0.26s</pre>"
       ],
       "metadata": {},
       "output_type": "display_data",
       "text": [
        "PROGRESS:     53   9.617e-01        0.26s"
       ]
      },
      {
       "html": [
        "<pre>PROGRESS:     54   9.617e-01        0.27s</pre>"
       ],
       "metadata": {},
       "output_type": "display_data",
       "text": [
        "PROGRESS:     54   9.617e-01        0.27s"
       ]
      },
      {
       "html": [
        "<pre>PROGRESS:     55   9.617e-01        0.27s</pre>"
       ],
       "metadata": {},
       "output_type": "display_data",
       "text": [
        "PROGRESS:     55   9.617e-01        0.27s"
       ]
      },
      {
       "html": [
        "<pre>PROGRESS:     56   9.617e-01        0.27s</pre>"
       ],
       "metadata": {},
       "output_type": "display_data",
       "text": [
        "PROGRESS:     56   9.617e-01        0.27s"
       ]
      },
      {
       "html": [
        "<pre>PROGRESS:     57   9.617e-01        0.28s</pre>"
       ],
       "metadata": {},
       "output_type": "display_data",
       "text": [
        "PROGRESS:     57   9.617e-01        0.28s"
       ]
      },
      {
       "html": [
        "<pre>PROGRESS:     58   9.617e-01        0.28s</pre>"
       ],
       "metadata": {},
       "output_type": "display_data",
       "text": [
        "PROGRESS:     58   9.617e-01        0.28s"
       ]
      },
      {
       "html": [
        "<pre>PROGRESS:     59   9.617e-01        0.28s</pre>"
       ],
       "metadata": {},
       "output_type": "display_data",
       "text": [
        "PROGRESS:     59   9.617e-01        0.28s"
       ]
      },
      {
       "html": [
        "<pre>PROGRESS:     60   9.617e-01        0.29s</pre>"
       ],
       "metadata": {},
       "output_type": "display_data",
       "text": [
        "PROGRESS:     60   9.617e-01        0.29s"
       ]
      },
      {
       "html": [
        "<pre>PROGRESS:     61   9.617e-01        0.29s</pre>"
       ],
       "metadata": {},
       "output_type": "display_data",
       "text": [
        "PROGRESS:     61   9.617e-01        0.29s"
       ]
      },
      {
       "html": [
        "<pre>PROGRESS:     62   9.617e-01        0.29s</pre>"
       ],
       "metadata": {},
       "output_type": "display_data",
       "text": [
        "PROGRESS:     62   9.617e-01        0.29s"
       ]
      },
      {
       "html": [
        "<pre>PROGRESS:     63   9.617e-01        0.30s</pre>"
       ],
       "metadata": {},
       "output_type": "display_data",
       "text": [
        "PROGRESS:     63   9.617e-01        0.30s"
       ]
      },
      {
       "html": [
        "<pre>PROGRESS:     64   9.617e-01        0.30s</pre>"
       ],
       "metadata": {},
       "output_type": "display_data",
       "text": [
        "PROGRESS:     64   9.617e-01        0.30s"
       ]
      },
      {
       "html": [
        "<pre>PROGRESS:     65   9.617e-01        0.31s</pre>"
       ],
       "metadata": {},
       "output_type": "display_data",
       "text": [
        "PROGRESS:     65   9.617e-01        0.31s"
       ]
      },
      {
       "html": [
        "<pre>PROGRESS:     66   9.617e-01        0.31s</pre>"
       ],
       "metadata": {},
       "output_type": "display_data",
       "text": [
        "PROGRESS:     66   9.617e-01        0.31s"
       ]
      },
      {
       "html": [
        "<pre>PROGRESS:     67   9.617e-01        0.31s</pre>"
       ],
       "metadata": {},
       "output_type": "display_data",
       "text": [
        "PROGRESS:     67   9.617e-01        0.31s"
       ]
      },
      {
       "html": [
        "<pre>PROGRESS:     68   9.617e-01        0.32s</pre>"
       ],
       "metadata": {},
       "output_type": "display_data",
       "text": [
        "PROGRESS:     68   9.617e-01        0.32s"
       ]
      },
      {
       "html": [
        "<pre>PROGRESS:     69   9.617e-01        0.32s</pre>"
       ],
       "metadata": {},
       "output_type": "display_data",
       "text": [
        "PROGRESS:     69   9.617e-01        0.32s"
       ]
      },
      {
       "html": [
        "<pre>PROGRESS:     70   9.617e-01        0.32s</pre>"
       ],
       "metadata": {},
       "output_type": "display_data",
       "text": [
        "PROGRESS:     70   9.617e-01        0.32s"
       ]
      },
      {
       "html": [
        "<pre>PROGRESS:     71   9.617e-01        0.33s</pre>"
       ],
       "metadata": {},
       "output_type": "display_data",
       "text": [
        "PROGRESS:     71   9.617e-01        0.33s"
       ]
      },
      {
       "html": [
        "<pre>PROGRESS:     72   9.617e-01        0.33s</pre>"
       ],
       "metadata": {},
       "output_type": "display_data",
       "text": [
        "PROGRESS:     72   9.617e-01        0.33s"
       ]
      },
      {
       "html": [
        "<pre>PROGRESS:     73   9.617e-01        0.33s</pre>"
       ],
       "metadata": {},
       "output_type": "display_data",
       "text": [
        "PROGRESS:     73   9.617e-01        0.33s"
       ]
      },
      {
       "html": [
        "<pre>PROGRESS:     74   9.617e-01        0.33s</pre>"
       ],
       "metadata": {},
       "output_type": "display_data",
       "text": [
        "PROGRESS:     74   9.617e-01        0.33s"
       ]
      },
      {
       "html": [
        "<pre>PROGRESS:     75   9.617e-01        0.34s</pre>"
       ],
       "metadata": {},
       "output_type": "display_data",
       "text": [
        "PROGRESS:     75   9.617e-01        0.34s"
       ]
      },
      {
       "html": [
        "<pre>PROGRESS:     76   9.617e-01        0.34s</pre>"
       ],
       "metadata": {},
       "output_type": "display_data",
       "text": [
        "PROGRESS:     76   9.617e-01        0.34s"
       ]
      },
      {
       "html": [
        "<pre>PROGRESS:     77   9.617e-01        0.34s</pre>"
       ],
       "metadata": {},
       "output_type": "display_data",
       "text": [
        "PROGRESS:     77   9.617e-01        0.34s"
       ]
      },
      {
       "html": [
        "<pre>PROGRESS:     78   9.617e-01        0.35s</pre>"
       ],
       "metadata": {},
       "output_type": "display_data",
       "text": [
        "PROGRESS:     78   9.617e-01        0.35s"
       ]
      },
      {
       "html": [
        "<pre>PROGRESS:     79   9.617e-01        0.35s</pre>"
       ],
       "metadata": {},
       "output_type": "display_data",
       "text": [
        "PROGRESS:     79   9.617e-01        0.35s"
       ]
      },
      {
       "html": [
        "<pre>PROGRESS:     80   9.617e-01        0.35s</pre>"
       ],
       "metadata": {},
       "output_type": "display_data",
       "text": [
        "PROGRESS:     80   9.617e-01        0.35s"
       ]
      },
      {
       "html": [
        "<pre>PROGRESS:     81   9.617e-01        0.36s</pre>"
       ],
       "metadata": {},
       "output_type": "display_data",
       "text": [
        "PROGRESS:     81   9.617e-01        0.36s"
       ]
      },
      {
       "html": [
        "<pre>PROGRESS:     82   9.617e-01        0.36s</pre>"
       ],
       "metadata": {},
       "output_type": "display_data",
       "text": [
        "PROGRESS:     82   9.617e-01        0.36s"
       ]
      },
      {
       "html": [
        "<pre>PROGRESS:     83   9.617e-01        0.36s</pre>"
       ],
       "metadata": {},
       "output_type": "display_data",
       "text": [
        "PROGRESS:     83   9.617e-01        0.36s"
       ]
      },
      {
       "html": [
        "<pre>PROGRESS:     84   9.617e-01        0.36s</pre>"
       ],
       "metadata": {},
       "output_type": "display_data",
       "text": [
        "PROGRESS:     84   9.617e-01        0.36s"
       ]
      },
      {
       "html": [
        "<pre>PROGRESS:     85   9.617e-01        0.37s</pre>"
       ],
       "metadata": {},
       "output_type": "display_data",
       "text": [
        "PROGRESS:     85   9.617e-01        0.37s"
       ]
      },
      {
       "html": [
        "<pre>PROGRESS:     86   9.617e-01        0.37s</pre>"
       ],
       "metadata": {},
       "output_type": "display_data",
       "text": [
        "PROGRESS:     86   9.617e-01        0.37s"
       ]
      },
      {
       "html": [
        "<pre>PROGRESS:     87   9.617e-01        0.37s</pre>"
       ],
       "metadata": {},
       "output_type": "display_data",
       "text": [
        "PROGRESS:     87   9.617e-01        0.37s"
       ]
      },
      {
       "html": [
        "<pre>PROGRESS:     88   9.617e-01        0.38s</pre>"
       ],
       "metadata": {},
       "output_type": "display_data",
       "text": [
        "PROGRESS:     88   9.617e-01        0.38s"
       ]
      },
      {
       "html": [
        "<pre>PROGRESS:     89   9.617e-01        0.38s</pre>"
       ],
       "metadata": {},
       "output_type": "display_data",
       "text": [
        "PROGRESS:     89   9.617e-01        0.38s"
       ]
      },
      {
       "html": [
        "<pre>PROGRESS:     90   9.617e-01        0.38s</pre>"
       ],
       "metadata": {},
       "output_type": "display_data",
       "text": [
        "PROGRESS:     90   9.617e-01        0.38s"
       ]
      },
      {
       "html": [
        "<pre>PROGRESS:     91   9.617e-01        0.39s</pre>"
       ],
       "metadata": {},
       "output_type": "display_data",
       "text": [
        "PROGRESS:     91   9.617e-01        0.39s"
       ]
      },
      {
       "html": [
        "<pre>PROGRESS:     92   9.617e-01        0.39s</pre>"
       ],
       "metadata": {},
       "output_type": "display_data",
       "text": [
        "PROGRESS:     92   9.617e-01        0.39s"
       ]
      },
      {
       "html": [
        "<pre>PROGRESS:     93   9.617e-01        0.39s</pre>"
       ],
       "metadata": {},
       "output_type": "display_data",
       "text": [
        "PROGRESS:     93   9.617e-01        0.39s"
       ]
      },
      {
       "html": [
        "<pre>PROGRESS:     94   9.617e-01        0.40s</pre>"
       ],
       "metadata": {},
       "output_type": "display_data",
       "text": [
        "PROGRESS:     94   9.617e-01        0.40s"
       ]
      },
      {
       "html": [
        "<pre>PROGRESS:     95   9.617e-01        0.40s</pre>"
       ],
       "metadata": {},
       "output_type": "display_data",
       "text": [
        "PROGRESS:     95   9.617e-01        0.40s"
       ]
      },
      {
       "html": [
        "<pre>PROGRESS:     96   9.617e-01        0.40s</pre>"
       ],
       "metadata": {},
       "output_type": "display_data",
       "text": [
        "PROGRESS:     96   9.617e-01        0.40s"
       ]
      },
      {
       "html": [
        "<pre>PROGRESS:     97   9.617e-01        0.41s</pre>"
       ],
       "metadata": {},
       "output_type": "display_data",
       "text": [
        "PROGRESS:     97   9.617e-01        0.41s"
       ]
      },
      {
       "html": [
        "<pre>PROGRESS:     98   9.617e-01        0.41s</pre>"
       ],
       "metadata": {},
       "output_type": "display_data",
       "text": [
        "PROGRESS:     98   9.617e-01        0.41s"
       ]
      },
      {
       "html": [
        "<pre>PROGRESS:     99   9.617e-01        0.41s</pre>"
       ],
       "metadata": {},
       "output_type": "display_data",
       "text": [
        "PROGRESS:     99   9.617e-01        0.41s"
       ]
      }
     ],
     "prompt_number": 35
    },
    {
     "cell_type": "markdown",
     "metadata": {},
     "source": [
      "## Clasificaci\u00f3n de las etiquetas"
     ]
    },
    {
     "cell_type": "code",
     "collapsed": false,
     "input": [
      "bowt = gl.text_analytics.count_words(etiquetas['tags'])\n",
      "stopwordst = gl.text_analytics.stopwords()\n",
      "etiquetas['bow'] = bowt.dict_trim_by_keys(stopwords, exclude=True)"
     ],
     "language": "python",
     "metadata": {},
     "outputs": [],
     "prompt_number": 36
    },
    {
     "cell_type": "code",
     "collapsed": false,
     "input": [
      "pred = btree.predict(etiquetas)"
     ],
     "language": "python",
     "metadata": {},
     "outputs": [],
     "prompt_number": 37
    },
    {
     "cell_type": "code",
     "collapsed": false,
     "input": [
      "pred"
     ],
     "language": "python",
     "metadata": {},
     "outputs": [
      {
       "metadata": {},
       "output_type": "pyout",
       "prompt_number": 38,
       "text": [
        "dtype: str\n",
        "Rows: 27\n",
        "['NATURALEZA', 'MODA', 'NATURALEZA', 'NATURALEZA', 'DECORACION/MOBILIARIO', 'NATURALEZA', 'NATURALEZA', 'MODA', 'MODA', 'TURISMO', 'NATURALEZA', 'MODA', 'NATURALEZA', 'NATURALEZA', 'ESPECTACULOS/EVENTOS', 'NATURALEZA', 'MODA', 'NATURALEZA', 'NATURALEZA', 'NATURALEZA', 'NATURALEZA', 'MODA', 'MODA', 'MODA', 'MODA', 'MODA', 'MODA']"
       ]
      }
     ],
     "prompt_number": 38
    },
    {
     "cell_type": "code",
     "collapsed": false,
     "input": [
      "etiquetas.add_column(pred, name='class')"
     ],
     "language": "python",
     "metadata": {},
     "outputs": [
      {
       "html": [
        "<div style=\"max-height:1000px;max-width:1500px;overflow:auto;\"><table frame=\"box\" rules=\"cols\">\n",
        "    <tr>\n",
        "        <th style=\"padding-left: 1em; padding-right: 1em; text-align: center\">score</th>\n",
        "        <th style=\"padding-left: 1em; padding-right: 1em; text-align: center\">tags</th>\n",
        "        <th style=\"padding-left: 1em; padding-right: 1em; text-align: center\">url</th>\n",
        "        <th style=\"padding-left: 1em; padding-right: 1em; text-align: center\">bow</th>\n",
        "    </tr>\n",
        "    <tr>\n",
        "        <td style=\"padding-left: 1em; padding-right: 1em; text-align: center; vertical-align: top\">0.745209395885</td>\n",
        "        <td style=\"padding-left: 1em; padding-right: 1em; text-align: center; vertical-align: top\">sandbar, sand bar</td>\n",
        "        <td style=\"padding-left: 1em; padding-right: 1em; text-align: center; vertical-align: top\">http://scontent-b-mad.cdn<br>instagram.com/hphotos ...</td>\n",
        "        <td style=\"padding-left: 1em; padding-right: 1em; text-align: center; vertical-align: top\">{'sand': 1, 'bar': 1,<br>'sandbar': 1}</td>\n",
        "    </tr>\n",
        "    <tr>\n",
        "        <td style=\"padding-left: 1em; padding-right: 1em; text-align: center; vertical-align: top\">0.730957567692</td>\n",
        "        <td style=\"padding-left: 1em; padding-right: 1em; text-align: center; vertical-align: top\">academic gown, academic<br>robe, judge's robe</td>\n",
        "        <td style=\"padding-left: 1em; padding-right: 1em; text-align: center; vertical-align: top\">http://scontent-b-mad.cdn<br>instagram.com/hphotos ...</td>\n",
        "        <td style=\"padding-left: 1em; padding-right: 1em; text-align: center; vertical-align: top\">{'judge': 1, 'gown': 1,<br>'robe': 2, 'academic' ...</td>\n",
        "    </tr>\n",
        "    <tr>\n",
        "        <td style=\"padding-left: 1em; padding-right: 1em; text-align: center; vertical-align: top\">0.50857681036</td>\n",
        "        <td style=\"padding-left: 1em; padding-right: 1em; text-align: center; vertical-align: top\">seashore, coast,<br>seacoast, sea-coast</td>\n",
        "        <td style=\"padding-left: 1em; padding-right: 1em; text-align: center; vertical-align: top\">http://scontent-a-mad.cdn<br>instagram.com/hphotos ...</td>\n",
        "        <td style=\"padding-left: 1em; padding-right: 1em; text-align: center; vertical-align: top\">{'seashore': 1,<br>'seacoast': 1, 'sea': ...</td>\n",
        "    </tr>\n",
        "    <tr>\n",
        "        <td style=\"padding-left: 1em; padding-right: 1em; text-align: center; vertical-align: top\">0.727730751038</td>\n",
        "        <td style=\"padding-left: 1em; padding-right: 1em; text-align: center; vertical-align: top\">sandbar, sand bar</td>\n",
        "        <td style=\"padding-left: 1em; padding-right: 1em; text-align: center; vertical-align: top\">http://scontent-b-mad.cdn<br>instagram.com/hphotos ...</td>\n",
        "        <td style=\"padding-left: 1em; padding-right: 1em; text-align: center; vertical-align: top\">{'sand': 1, 'bar': 1,<br>'sandbar': 1}</td>\n",
        "    </tr>\n",
        "    <tr>\n",
        "        <td style=\"padding-left: 1em; padding-right: 1em; text-align: center; vertical-align: top\">0.778630852699</td>\n",
        "        <td style=\"padding-left: 1em; padding-right: 1em; text-align: center; vertical-align: top\">plane, carpenter's plane,<br>woodworking plane</td>\n",
        "        <td style=\"padding-left: 1em; padding-right: 1em; text-align: center; vertical-align: top\">http://scontent-b-mad.cdn<br>instagram.com/hphotos ...</td>\n",
        "        <td style=\"padding-left: 1em; padding-right: 1em; text-align: center; vertical-align: top\">{'woodworking': 1,<br>'carpenter': 1, 'plan ...</td>\n",
        "    </tr>\n",
        "    <tr>\n",
        "        <td style=\"padding-left: 1em; padding-right: 1em; text-align: center; vertical-align: top\">0.573997914791</td>\n",
        "        <td style=\"padding-left: 1em; padding-right: 1em; text-align: center; vertical-align: top\">seashore, coast,<br>seacoast, sea-coast</td>\n",
        "        <td style=\"padding-left: 1em; padding-right: 1em; text-align: center; vertical-align: top\">http://scontent-a-mad.cdn<br>instagram.com/hphotos ...</td>\n",
        "        <td style=\"padding-left: 1em; padding-right: 1em; text-align: center; vertical-align: top\">{'seashore': 1,<br>'seacoast': 1, 'sea': ...</td>\n",
        "    </tr>\n",
        "    <tr>\n",
        "        <td style=\"padding-left: 1em; padding-right: 1em; text-align: center; vertical-align: top\">0.650481820107</td>\n",
        "        <td style=\"padding-left: 1em; padding-right: 1em; text-align: center; vertical-align: top\">seashore, coast,<br>seacoast, sea-coast</td>\n",
        "        <td style=\"padding-left: 1em; padding-right: 1em; text-align: center; vertical-align: top\">http://scontent-a-mad.cdn<br>instagram.com/hphotos ...</td>\n",
        "        <td style=\"padding-left: 1em; padding-right: 1em; text-align: center; vertical-align: top\">{'seashore': 1,<br>'seacoast': 1, 'sea': ...</td>\n",
        "    </tr>\n",
        "    <tr>\n",
        "        <td style=\"padding-left: 1em; padding-right: 1em; text-align: center; vertical-align: top\">0.744187653065</td>\n",
        "        <td style=\"padding-left: 1em; padding-right: 1em; text-align: center; vertical-align: top\">grey whale, gray whale,<br>devilfish, Eschrichti ...</td>\n",
        "        <td style=\"padding-left: 1em; padding-right: 1em; text-align: center; vertical-align: top\">http://scontent-b-mad.cdn<br>instagram.com/hphotos ...</td>\n",
        "        <td style=\"padding-left: 1em; padding-right: 1em; text-align: center; vertical-align: top\">{'gray': 1, 'robustus':<br>1, 'devilfish': 1, ...</td>\n",
        "    </tr>\n",
        "    <tr>\n",
        "        <td style=\"padding-left: 1em; padding-right: 1em; text-align: center; vertical-align: top\">0.649295032024</td>\n",
        "        <td style=\"padding-left: 1em; padding-right: 1em; text-align: center; vertical-align: top\">boathouse</td>\n",
        "        <td style=\"padding-left: 1em; padding-right: 1em; text-align: center; vertical-align: top\">http://scontent-a-mad.cdn<br>instagram.com/hphotos ...</td>\n",
        "        <td style=\"padding-left: 1em; padding-right: 1em; text-align: center; vertical-align: top\">{'boathouse': 1}</td>\n",
        "    </tr>\n",
        "    <tr>\n",
        "        <td style=\"padding-left: 1em; padding-right: 1em; text-align: center; vertical-align: top\">0.961999297142</td>\n",
        "        <td style=\"padding-left: 1em; padding-right: 1em; text-align: center; vertical-align: top\">steel arch bridge</td>\n",
        "        <td style=\"padding-left: 1em; padding-right: 1em; text-align: center; vertical-align: top\">http://scontent-a-mad.cdn<br>instagram.com/hphotos ...</td>\n",
        "        <td style=\"padding-left: 1em; padding-right: 1em; text-align: center; vertical-align: top\">{'steel': 1, 'bridge': 1,<br>'arch': 1}</td>\n",
        "    </tr>\n",
        "</table>\n",
        "<table frame=\"box\" rules=\"cols\">\n",
        "    <tr>\n",
        "        <th style=\"padding-left: 1em; padding-right: 1em; text-align: center\">class</th>\n",
        "    </tr>\n",
        "    <tr>\n",
        "        <td style=\"padding-left: 1em; padding-right: 1em; text-align: center; vertical-align: top\">NATURALEZA</td>\n",
        "    </tr>\n",
        "    <tr>\n",
        "        <td style=\"padding-left: 1em; padding-right: 1em; text-align: center; vertical-align: top\">MODA</td>\n",
        "    </tr>\n",
        "    <tr>\n",
        "        <td style=\"padding-left: 1em; padding-right: 1em; text-align: center; vertical-align: top\">NATURALEZA</td>\n",
        "    </tr>\n",
        "    <tr>\n",
        "        <td style=\"padding-left: 1em; padding-right: 1em; text-align: center; vertical-align: top\">NATURALEZA</td>\n",
        "    </tr>\n",
        "    <tr>\n",
        "        <td style=\"padding-left: 1em; padding-right: 1em; text-align: center; vertical-align: top\">DECORACION/MOBILIARIO</td>\n",
        "    </tr>\n",
        "    <tr>\n",
        "        <td style=\"padding-left: 1em; padding-right: 1em; text-align: center; vertical-align: top\">NATURALEZA</td>\n",
        "    </tr>\n",
        "    <tr>\n",
        "        <td style=\"padding-left: 1em; padding-right: 1em; text-align: center; vertical-align: top\">NATURALEZA</td>\n",
        "    </tr>\n",
        "    <tr>\n",
        "        <td style=\"padding-left: 1em; padding-right: 1em; text-align: center; vertical-align: top\">MODA</td>\n",
        "    </tr>\n",
        "    <tr>\n",
        "        <td style=\"padding-left: 1em; padding-right: 1em; text-align: center; vertical-align: top\">MODA</td>\n",
        "    </tr>\n",
        "    <tr>\n",
        "        <td style=\"padding-left: 1em; padding-right: 1em; text-align: center; vertical-align: top\">TURISMO</td>\n",
        "    </tr>\n",
        "    <tr>\n",
        "        <td style=\"padding-left: 1em; padding-right: 1em; text-align: center; vertical-align: top\">...</td>\n",
        "    </tr>\n",
        "</table>\n",
        "[27 rows x 5 columns]<br/>Note: Only the head of the SFrame is printed.<br/>You can use print_rows(num_rows=m, num_columns=n) to print more rows and columns.\n",
        "</div>"
       ],
       "metadata": {},
       "output_type": "pyout",
       "prompt_number": 39,
       "text": [
        "Columns:\n",
        "\tscore\tfloat\n",
        "\ttags\tstr\n",
        "\turl\tstr\n",
        "\tbow\tdict\n",
        "\tclass\tstr\n",
        "\n",
        "Rows: 27\n",
        "\n",
        "Data:\n",
        "+----------------+--------------------------------+\n",
        "|     score      |              tags              |\n",
        "+----------------+--------------------------------+\n",
        "| 0.745209395885 |       sandbar, sand bar        |\n",
        "| 0.730957567692 | academic gown, academic ro ... |\n",
        "| 0.50857681036  | seashore, coast, seacoast, ... |\n",
        "| 0.727730751038 |       sandbar, sand bar        |\n",
        "| 0.778630852699 | plane, carpenter's plane,  ... |\n",
        "| 0.573997914791 | seashore, coast, seacoast, ... |\n",
        "| 0.650481820107 | seashore, coast, seacoast, ... |\n",
        "| 0.744187653065 | grey whale, gray whale, de ... |\n",
        "| 0.649295032024 |           boathouse            |\n",
        "| 0.961999297142 |       steel arch bridge        |\n",
        "+----------------+--------------------------------+\n",
        "+--------------------------------+--------------------------------+\n",
        "|              url               |              bow               |\n",
        "+--------------------------------+--------------------------------+\n",
        "| http://scontent-b-mad.cdni ... | {'sand': 1, 'bar': 1, 'san ... |\n",
        "| http://scontent-b-mad.cdni ... | {'judge': 1, 'gown': 1, 'r ... |\n",
        "| http://scontent-a-mad.cdni ... | {'seashore': 1, 'seacoast' ... |\n",
        "| http://scontent-b-mad.cdni ... | {'sand': 1, 'bar': 1, 'san ... |\n",
        "| http://scontent-b-mad.cdni ... | {'woodworking': 1, 'carpen ... |\n",
        "| http://scontent-a-mad.cdni ... | {'seashore': 1, 'seacoast' ... |\n",
        "| http://scontent-a-mad.cdni ... | {'seashore': 1, 'seacoast' ... |\n",
        "| http://scontent-b-mad.cdni ... | {'gray': 1, 'robustus': 1, ... |\n",
        "| http://scontent-a-mad.cdni ... |        {'boathouse': 1}        |\n",
        "| http://scontent-a-mad.cdni ... | {'steel': 1, 'bridge': 1,  ... |\n",
        "+--------------------------------+--------------------------------+\n",
        "+-----------------------+\n",
        "|         class         |\n",
        "+-----------------------+\n",
        "|       NATURALEZA      |\n",
        "|          MODA         |\n",
        "|       NATURALEZA      |\n",
        "|       NATURALEZA      |\n",
        "| DECORACION/MOBILIARIO |\n",
        "|       NATURALEZA      |\n",
        "|       NATURALEZA      |\n",
        "|          MODA         |\n",
        "|          MODA         |\n",
        "|        TURISMO        |\n",
        "|          ...          |\n",
        "+-----------------------+\n",
        "[27 rows x 5 columns]\n",
        "Note: Only the head of the SFrame is printed.\n",
        "You can use print_rows(num_rows=m, num_columns=n) to print more rows and columns."
       ]
      }
     ],
     "prompt_number": 39
    },
    {
     "cell_type": "code",
     "collapsed": false,
     "input": [
      "resultados = etiquetas.groupby(\"class\", {'count':gl.aggregate.COUNT()})\n",
      "resultados"
     ],
     "language": "python",
     "metadata": {},
     "outputs": [
      {
       "html": [
        "<div style=\"max-height:1000px;max-width:1500px;overflow:auto;\"><table frame=\"box\" rules=\"cols\">\n",
        "    <tr>\n",
        "        <th style=\"padding-left: 1em; padding-right: 1em; text-align: center\">class</th>\n",
        "        <th style=\"padding-left: 1em; padding-right: 1em; text-align: center\">count</th>\n",
        "    </tr>\n",
        "    <tr>\n",
        "        <td style=\"padding-left: 1em; padding-right: 1em; text-align: center; vertical-align: top\">NATURALEZA</td>\n",
        "        <td style=\"padding-left: 1em; padding-right: 1em; text-align: center; vertical-align: top\">13</td>\n",
        "    </tr>\n",
        "    <tr>\n",
        "        <td style=\"padding-left: 1em; padding-right: 1em; text-align: center; vertical-align: top\">DECORACION/MOBILIARIO</td>\n",
        "        <td style=\"padding-left: 1em; padding-right: 1em; text-align: center; vertical-align: top\">1</td>\n",
        "    </tr>\n",
        "    <tr>\n",
        "        <td style=\"padding-left: 1em; padding-right: 1em; text-align: center; vertical-align: top\">MODA</td>\n",
        "        <td style=\"padding-left: 1em; padding-right: 1em; text-align: center; vertical-align: top\">11</td>\n",
        "    </tr>\n",
        "    <tr>\n",
        "        <td style=\"padding-left: 1em; padding-right: 1em; text-align: center; vertical-align: top\">ESPECTACULOS/EVENTOS</td>\n",
        "        <td style=\"padding-left: 1em; padding-right: 1em; text-align: center; vertical-align: top\">1</td>\n",
        "    </tr>\n",
        "    <tr>\n",
        "        <td style=\"padding-left: 1em; padding-right: 1em; text-align: center; vertical-align: top\">TURISMO</td>\n",
        "        <td style=\"padding-left: 1em; padding-right: 1em; text-align: center; vertical-align: top\">1</td>\n",
        "    </tr>\n",
        "</table>\n",
        "[5 rows x 2 columns]<br/>\n",
        "</div>"
       ],
       "metadata": {},
       "output_type": "pyout",
       "prompt_number": 40,
       "text": [
        "Columns:\n",
        "\tclass\tstr\n",
        "\tcount\tint\n",
        "\n",
        "Rows: 5\n",
        "\n",
        "Data:\n",
        "+-----------------------+-------+\n",
        "|         class         | count |\n",
        "+-----------------------+-------+\n",
        "|       NATURALEZA      |   13  |\n",
        "| DECORACION/MOBILIARIO |   1   |\n",
        "|          MODA         |   11  |\n",
        "|  ESPECTACULOS/EVENTOS |   1   |\n",
        "|        TURISMO        |   1   |\n",
        "+-----------------------+-------+\n",
        "[5 rows x 2 columns]"
       ]
      }
     ],
     "prompt_number": 40
    },
    {
     "cell_type": "code",
     "collapsed": false,
     "input": [
      "resultados.show()"
     ],
     "language": "python",
     "metadata": {},
     "outputs": [
      {
       "output_type": "stream",
       "stream": "stderr",
       "text": [
        "[WARNING] 403 POST /metrics (::1): XSRF cookie does not match POST argument\n"
       ]
      },
      {
       "output_type": "stream",
       "stream": "stderr",
       "text": [
        "[WARNING] 403 POST /metrics (::1): XSRF cookie does not match POST argument\n"
       ]
      },
      {
       "output_type": "stream",
       "stream": "stderr",
       "text": [
        "[WARNING] 403 POST /metrics (::1): XSRF cookie does not match POST argument\n"
       ]
      },
      {
       "output_type": "stream",
       "stream": "stderr",
       "text": [
        "[WARNING] 403 POST /metrics (::1): XSRF cookie does not match POST argument\n"
       ]
      },
      {
       "output_type": "stream",
       "stream": "stderr",
       "text": [
        "[WARNING] 403 POST /plot_params (::1): XSRF cookie does not match POST argument\n"
       ]
      },
      {
       "output_type": "stream",
       "stream": "stderr",
       "text": [
        "[WARNING] 403 POST /plot_params (::1): XSRF cookie does not match POST argument\n"
       ]
      },
      {
       "output_type": "stream",
       "stream": "stderr",
       "text": [
        "[WARNING] 403 POST /plot_params (::1): XSRF cookie does not match POST argument\n"
       ]
      },
      {
       "output_type": "stream",
       "stream": "stderr",
       "text": [
        "[WARNING] 403 POST /plot_params (::1): XSRF cookie does not match POST argument\n"
       ]
      },
      {
       "output_type": "stream",
       "stream": "stderr",
       "text": [
        "[WARNING] 403 POST /plot_params (::1): XSRF cookie does not match POST argument\n"
       ]
      },
      {
       "output_type": "stream",
       "stream": "stderr",
       "text": [
        "[WARNING] 403 POST /plot_params (::1): XSRF cookie does not match POST argument\n"
       ]
      },
      {
       "output_type": "stream",
       "stream": "stderr",
       "text": [
        "[WARNING] 403 POST /plot_params (::1): XSRF cookie does not match POST argument\n"
       ]
      },
      {
       "output_type": "stream",
       "stream": "stderr",
       "text": [
        "[WARNING] 403 POST /plot_params (::1): XSRF cookie does not match POST argument\n"
       ]
      },
      {
       "output_type": "stream",
       "stream": "stderr",
       "text": [
        "[WARNING] 403 POST /columns (::1): XSRF cookie does not match POST argument\n"
       ]
      },
      {
       "output_type": "stream",
       "stream": "stderr",
       "text": [
        "[WARNING] 403 POST /plot_params (::1): XSRF cookie does not match POST argument\n"
       ]
      },
      {
       "output_type": "stream",
       "stream": "stderr",
       "text": [
        "[WARNING] 403 POST /vars (::1): XSRF cookie does not match POST argument\n"
       ]
      },
      {
       "output_type": "stream",
       "stream": "stderr",
       "text": [
        "[WARNING] 403 POST /vars (::1): XSRF cookie does not match POST argument\n"
       ]
      },
      {
       "output_type": "stream",
       "stream": "stderr",
       "text": [
        "[WARNING] 403 POST /vars (::1): XSRF cookie does not match POST argument\n"
       ]
      },
      {
       "output_type": "stream",
       "stream": "stderr",
       "text": [
        "[WARNING] 403 POST /plot_params (::1): XSRF cookie does not match POST argument\n"
       ]
      },
      {
       "output_type": "stream",
       "stream": "stderr",
       "text": [
        "[WARNING] 403 POST /metrics (::1): XSRF cookie does not match POST argument\n"
       ]
      },
      {
       "output_type": "stream",
       "stream": "stderr",
       "text": [
        "[WARNING] 403 POST /metrics (::1): XSRF cookie does not match POST argument\n"
       ]
      },
      {
       "output_type": "stream",
       "stream": "stderr",
       "text": [
        "[WARNING] 403 POST /metrics (::1): XSRF cookie does not match POST argument\n"
       ]
      },
      {
       "output_type": "stream",
       "stream": "stderr",
       "text": [
        "[WARNING] 403 POST /metrics (::1): XSRF cookie does not match POST argument\n"
       ]
      },
      {
       "output_type": "stream",
       "stream": "stderr",
       "text": [
        "[WARNING] 403 POST /vars (::1): XSRF cookie does not match POST argument\n"
       ]
      }
     ],
     "prompt_number": 41
    },
    {
     "cell_type": "code",
     "collapsed": false,
     "input": [
      "#etiquetas.save('data_csv/Instagram_Res/'+user+'.csv', format='csv')"
     ],
     "language": "python",
     "metadata": {},
     "outputs": []
    },
    {
     "cell_type": "code",
     "collapsed": false,
     "input": [
      "clases"
     ],
     "language": "python",
     "metadata": {},
     "outputs": []
    },
    {
     "cell_type": "code",
     "collapsed": false,
     "input": [],
     "language": "python",
     "metadata": {},
     "outputs": []
    }
   ],
   "metadata": {}
  }
 ]
}