{
 "metadata": {
  "name": "",
  "signature": "sha256:f98a3a54dee109e0d4e2d580f42a06eb4cbbefd67c7dd60d30520387e642f8dd"
 },
 "nbformat": 3,
 "nbformat_minor": 0,
 "worksheets": [
  {
   "cells": [
    {
     "cell_type": "code",
     "collapsed": false,
     "input": [
      "import graphlab as gl\n",
      "import ast\n",
      "import time"
     ],
     "language": "python",
     "metadata": {},
     "outputs": [],
     "prompt_number": 6
    },
    {
     "cell_type": "markdown",
     "metadata": {},
     "source": [
      "# Etiquetas IMAGENET"
     ]
    },
    {
     "cell_type": "code",
     "collapsed": false,
     "input": [
      "infile = open('etiquetas_imagenet.txt', 'r')"
     ],
     "language": "python",
     "metadata": {},
     "outputs": [],
     "prompt_number": 7
    },
    {
     "cell_type": "code",
     "collapsed": false,
     "input": [
      "label_to_text = ast.literal_eval(infile.read())"
     ],
     "language": "python",
     "metadata": {},
     "outputs": [],
     "prompt_number": 8
    },
    {
     "cell_type": "markdown",
     "metadata": {},
     "source": [
      "# Carga del modelo y m\u00e9todo predictor"
     ]
    },
    {
     "cell_type": "code",
     "collapsed": false,
     "input": [
      "def predict_image_url(url):\n",
      "    pretrained_model = gl.load_model('~/Desktop');\n",
      "    #pretrained_model = gl.load_model('http://s3.amazonaws.com/GraphLab-Datasets/deeplearning/imagenet_model_iter45')\n",
      "    \n",
      "    # Si ya tenemos el modelo entrenado con el dataset de imagenet almacenado en local\n",
      "    #model = gl.load_model('pretrained_model')\n",
      "    \n",
      "    image_sf = gl.SFrame({'image': [gl.Image(url)]})\n",
      "    image_sf['image'] = gl.image_analysis.resize(image_sf['image'], 256, 256, 3)\n",
      "    top_labels = pretrained_model.predict_topk(image_sf, k=5)\n",
      "    top_labels['class_text'] = top_labels['class'].apply(lambda x: label_to_text[x])\n",
      "    return top_labels"
     ],
     "language": "python",
     "metadata": {},
     "outputs": [],
     "prompt_number": 44
    },
    {
     "cell_type": "code",
     "collapsed": false,
     "input": [
      "#prueba_url = 'http://hadrovsky.sweb.cz/images/rn14.jpg'\n",
      "prueba_url = 'http://scontent-a-mad.cdninstagram.com/hphotos-xfa1/t51.2885-15/s306x306/e15/10865165_689917854462761_65417628_n.jpg'\n",
      "res = predict_image_url(prueba_url)\n",
      "res"
     ],
     "language": "python",
     "metadata": {},
     "outputs": [
      {
       "ename": "IOError",
       "evalue": "Unable to load model from /Users/carlosmunoz/Desktop: Cannot open /Users/carlosmunoz/Desktop/objects.bin",
       "output_type": "pyerr",
       "traceback": [
        "\u001b[0;31m---------------------------------------------------------------------------\u001b[0m\n\u001b[0;31mIOError\u001b[0m                                   Traceback (most recent call last)",
        "\u001b[0;32m<ipython-input-45-14e3e544ad43>\u001b[0m in \u001b[0;36m<module>\u001b[0;34m()\u001b[0m\n\u001b[1;32m      1\u001b[0m \u001b[0;31m#prueba_url = 'http://hadrovsky.sweb.cz/images/rn14.jpg'\u001b[0m\u001b[0;34m\u001b[0m\u001b[0;34m\u001b[0m\u001b[0m\n\u001b[1;32m      2\u001b[0m \u001b[0mprueba_url\u001b[0m \u001b[0;34m=\u001b[0m \u001b[0;34m'http://scontent-a-mad.cdninstagram.com/hphotos-xfa1/t51.2885-15/s306x306/e15/10865165_689917854462761_65417628_n.jpg'\u001b[0m\u001b[0;34m\u001b[0m\u001b[0m\n\u001b[0;32m----> 3\u001b[0;31m \u001b[0mres\u001b[0m \u001b[0;34m=\u001b[0m \u001b[0mpredict_image_url\u001b[0m\u001b[0;34m(\u001b[0m\u001b[0mprueba_url\u001b[0m\u001b[0;34m)\u001b[0m\u001b[0;34m\u001b[0m\u001b[0m\n\u001b[0m\u001b[1;32m      4\u001b[0m \u001b[0mres\u001b[0m\u001b[0;34m\u001b[0m\u001b[0m\n",
        "\u001b[0;32m<ipython-input-44-bc58670baefc>\u001b[0m in \u001b[0;36mpredict_image_url\u001b[0;34m(url)\u001b[0m\n\u001b[1;32m      1\u001b[0m \u001b[0;32mdef\u001b[0m \u001b[0mpredict_image_url\u001b[0m\u001b[0;34m(\u001b[0m\u001b[0murl\u001b[0m\u001b[0;34m)\u001b[0m\u001b[0;34m:\u001b[0m\u001b[0;34m\u001b[0m\u001b[0m\n\u001b[0;32m----> 2\u001b[0;31m     \u001b[0mpretrained_model\u001b[0m \u001b[0;34m=\u001b[0m \u001b[0mgl\u001b[0m\u001b[0;34m.\u001b[0m\u001b[0mload_model\u001b[0m\u001b[0;34m(\u001b[0m\u001b[0;34m'~/Desktop/'\u001b[0m\u001b[0;34m)\u001b[0m\u001b[0;34m;\u001b[0m\u001b[0;34m\u001b[0m\u001b[0m\n\u001b[0m\u001b[1;32m      3\u001b[0m     \u001b[0;31m#pretrained_model = gl.load_model('http://s3.amazonaws.com/GraphLab-Datasets/deeplearning/imagenet_model_iter45')\u001b[0m\u001b[0;34m\u001b[0m\u001b[0;34m\u001b[0m\u001b[0m\n\u001b[1;32m      4\u001b[0m \u001b[0;34m\u001b[0m\u001b[0m\n\u001b[1;32m      5\u001b[0m     \u001b[0;31m# Si ya tenemos el modelo entrenado con el dataset de imagenet almacenado en local\u001b[0m\u001b[0;34m\u001b[0m\u001b[0;34m\u001b[0m\u001b[0m\n",
        "\u001b[0;32m/Library/Python/2.7/site-packages/graphlab/toolkits/_model.pyc\u001b[0m in \u001b[0;36mload_model\u001b[0;34m(location)\u001b[0m\n\u001b[1;32m     32\u001b[0m     \u001b[0m_mt\u001b[0m\u001b[0;34m.\u001b[0m\u001b[0m_get_metric_tracker\u001b[0m\u001b[0;34m(\u001b[0m\u001b[0;34m)\u001b[0m\u001b[0;34m.\u001b[0m\u001b[0mtrack\u001b[0m\u001b[0;34m(\u001b[0m\u001b[0;34m'toolkit.model.load_model'\u001b[0m\u001b[0;34m)\u001b[0m\u001b[0;34m\u001b[0m\u001b[0m\n\u001b[1;32m     33\u001b[0m \u001b[0;34m\u001b[0m\u001b[0m\n\u001b[0;32m---> 34\u001b[0;31m     \u001b[0;32mreturn\u001b[0m \u001b[0mglconnect\u001b[0m\u001b[0;34m.\u001b[0m\u001b[0mget_unity\u001b[0m\u001b[0;34m(\u001b[0m\u001b[0;34m)\u001b[0m\u001b[0;34m.\u001b[0m\u001b[0mload_model\u001b[0m\u001b[0;34m(\u001b[0m\u001b[0mmake_internal_url\u001b[0m\u001b[0;34m(\u001b[0m\u001b[0mlocation\u001b[0m\u001b[0;34m)\u001b[0m\u001b[0;34m)\u001b[0m\u001b[0;34m\u001b[0m\u001b[0m\n\u001b[0m\u001b[1;32m     35\u001b[0m \u001b[0;34m\u001b[0m\u001b[0m\n\u001b[1;32m     36\u001b[0m def _get_default_options_wrapper(unity_server_model_name,\n",
        "\u001b[0;32m/Library/Python/2.7/site-packages/graphlab/cython/cy_unity.so\u001b[0m in \u001b[0;36mgraphlab.cython.cy_unity.UnityGlobalProxy.load_model\u001b[0;34m()\u001b[0m\n",
        "\u001b[0;32m/Library/Python/2.7/site-packages/graphlab/cython/cy_unity.so\u001b[0m in \u001b[0;36mgraphlab.cython.cy_unity.UnityGlobalProxy.load_model\u001b[0;34m()\u001b[0m\n",
        "\u001b[0;31mIOError\u001b[0m: Unable to load model from /Users/carlosmunoz/Desktop: Cannot open /Users/carlosmunoz/Desktop/objects.bin"
       ]
      }
     ],
     "prompt_number": 45
    },
    {
     "cell_type": "markdown",
     "metadata": {},
     "source": [
      "# Scraping de im\u00e1genes de Instagram"
     ]
    },
    {
     "cell_type": "code",
     "collapsed": false,
     "input": [
      "from BeautifulSoup import BeautifulSoup\n",
      "import selenium.webdriver as webdriver"
     ],
     "language": "python",
     "metadata": {},
     "outputs": [],
     "prompt_number": 11
    },
    {
     "cell_type": "markdown",
     "metadata": {},
     "source": [
      "## ENTRADA: identificador de usuario"
     ]
    },
    {
     "cell_type": "code",
     "collapsed": false,
     "input": [
      "# Ususarios analizados: mirandakerr || cristiano || barackobama || kingjames || brunomars || jessicaalba\n",
      "user = 'ali.mese'"
     ],
     "language": "python",
     "metadata": {},
     "outputs": [],
     "prompt_number": 12
    },
    {
     "cell_type": "code",
     "collapsed": false,
     "input": [
      "url = 'http://instagram.com/'+user+'/'\n",
      "driver = webdriver.Firefox()\n",
      "driver.get(url)"
     ],
     "language": "python",
     "metadata": {},
     "outputs": [],
     "prompt_number": 13
    },
    {
     "cell_type": "code",
     "collapsed": false,
     "input": [
      "driver.find_element_by_css_selector('.pgmiThumb')\n",
      "not_all_images_loaded = True"
     ],
     "language": "python",
     "metadata": {},
     "outputs": [],
     "prompt_number": 14
    },
    {
     "cell_type": "markdown",
     "metadata": {},
     "source": [
      "# Carga de todas las im\u00e1genes del usuario (paginaci\u00f3n)"
     ]
    },
    {
     "cell_type": "code",
     "collapsed": false,
     "input": [
      "while not_all_images_loaded:\n",
      "\n",
      "    driver.find_element_by_class_name('PhotoGridMoreButton').click()\n",
      "    time.sleep(3)\n",
      "    webElement = driver.find_element_by_css_selector('.PhotoGridMoreButton').text\n",
      "    \n",
      "    if (webElement == \"All items loaded\") or (webElement == \"Se han subido todos los elementos\"):\n",
      "        not_all_images_loaded = False\n",
      "        print webElement"
     ],
     "language": "python",
     "metadata": {},
     "outputs": [
      {
       "output_type": "stream",
       "stream": "stdout",
       "text": [
        "Se han subido todos los elementos\n"
       ]
      }
     ],
     "prompt_number": 15
    },
    {
     "cell_type": "code",
     "collapsed": false,
     "input": [
      "soup = BeautifulSoup(driver.page_source)"
     ],
     "language": "python",
     "metadata": {},
     "outputs": [],
     "prompt_number": 16
    },
    {
     "cell_type": "code",
     "collapsed": false,
     "input": [
      "urls = []\n",
      "for x in soup.findAll('div', {'class':'pgmiThumb tThumbImage Image'}):\n",
      "    urls.append(x['src'])"
     ],
     "language": "python",
     "metadata": {},
     "outputs": [],
     "prompt_number": 17
    },
    {
     "cell_type": "code",
     "collapsed": false,
     "input": [
      "driver.quit()"
     ],
     "language": "python",
     "metadata": {},
     "outputs": [],
     "prompt_number": 18
    },
    {
     "cell_type": "code",
     "collapsed": false,
     "input": [
      "len(urls)"
     ],
     "language": "python",
     "metadata": {},
     "outputs": [
      {
       "metadata": {},
       "output_type": "pyout",
       "prompt_number": 22,
       "text": [
        "139"
       ]
      }
     ],
     "prompt_number": 22
    },
    {
     "cell_type": "markdown",
     "metadata": {},
     "source": [
      "# An\u00e1lisis de las im\u00e1genes scrapeadas"
     ]
    },
    {
     "cell_type": "code",
     "collapsed": false,
     "input": [
      "def analizar_imagenes():\n",
      "    clases = {\"url\":[], \"tags\":[], \"score\":[]}\n",
      "    for item in xrange(len(urls)):\n",
      "        res = predict_image_url(urls[item])\n",
      "        score = res[0]['score']\n",
      "        if score >= 0.5:\n",
      "            clases['url'].append(urls[item])\n",
      "            clases['tags'].append(res[0]['class_text'])\n",
      "            clases['score'].append(res[0]['score'])\n",
      "    return clases"
     ],
     "language": "python",
     "metadata": {},
     "outputs": [],
     "prompt_number": 23
    },
    {
     "cell_type": "code",
     "collapsed": false,
     "input": [
      "clases = analizar_imagenes()"
     ],
     "language": "python",
     "metadata": {},
     "outputs": [
      {
       "html": [
        "<pre>PROGRESS: Downloading http://s3.amazonaws.com/GraphLab-Datasets/deeplearning/imagenet_model_iter45/objects.bin to /var/tmp/graphlab-carlosmunoz/11731/000003.bin</pre>"
       ],
       "metadata": {},
       "output_type": "display_data",
       "text": [
        "PROGRESS: Downloading http://s3.amazonaws.com/GraphLab-Datasets/deeplearning/imagenet_model_iter45/objects.bin to /var/tmp/graphlab-carlosmunoz/11731/000003.bin"
       ]
      },
      {
       "html": [
        "<pre>PROGRESS: Downloading http://scontent-a-mad.cdninstagram.com/hphotos-xaf1/t51.2885-15/s306x306/e15/10953514_838145626242094_1467091040_n.jpg to /var/tmp/graphlab-carlosmunoz/11731/000004.jpg</pre>"
       ],
       "metadata": {},
       "output_type": "display_data",
       "text": [
        "PROGRESS: Downloading http://scontent-a-mad.cdninstagram.com/hphotos-xaf1/t51.2885-15/s306x306/e15/10953514_838145626242094_1467091040_n.jpg to /var/tmp/graphlab-carlosmunoz/11731/000004.jpg"
       ]
      },
      {
       "html": [
        "<pre>PROGRESS: Downloading http://scontent-b-mad.cdninstagram.com/hphotos-xfa1/t51.2885-15/s306x306/e15/10958279_1078684255490642_1485640051_n.jpg to /var/tmp/graphlab-carlosmunoz/11731/000009.jpg</pre>"
       ],
       "metadata": {},
       "output_type": "display_data",
       "text": [
        "PROGRESS: Downloading http://scontent-b-mad.cdninstagram.com/hphotos-xfa1/t51.2885-15/s306x306/e15/10958279_1078684255490642_1485640051_n.jpg to /var/tmp/graphlab-carlosmunoz/11731/000009.jpg"
       ]
      },
      {
       "html": [
        "<pre>PROGRESS: Downloading http://scontent-a-mad.cdninstagram.com/hphotos-xaf1/t51.2885-15/s306x306/e15/10949002_1586788264891849_1271569061_n.jpg to /var/tmp/graphlab-carlosmunoz/11731/000010.jpg</pre>"
       ],
       "metadata": {},
       "output_type": "display_data",
       "text": [
        "PROGRESS: Downloading http://scontent-a-mad.cdninstagram.com/hphotos-xaf1/t51.2885-15/s306x306/e15/10949002_1586788264891849_1271569061_n.jpg to /var/tmp/graphlab-carlosmunoz/11731/000010.jpg"
       ]
      },
      {
       "html": [
        "<pre>PROGRESS: Downloading http://scontent-b-mad.cdninstagram.com/hphotos-xaf1/t51.2885-15/s306x306/e15/10919266_1533713723559255_895447701_n.jpg to /var/tmp/graphlab-carlosmunoz/11731/000011.jpg</pre>"
       ],
       "metadata": {},
       "output_type": "display_data",
       "text": [
        "PROGRESS: Downloading http://scontent-b-mad.cdninstagram.com/hphotos-xaf1/t51.2885-15/s306x306/e15/10919266_1533713723559255_895447701_n.jpg to /var/tmp/graphlab-carlosmunoz/11731/000011.jpg"
       ]
      },
      {
       "html": [
        "<pre>PROGRESS: Downloading http://scontent-a-mad.cdninstagram.com/hphotos-xfa1/t51.2885-15/s306x306/e15/10838336_1554933268114695_697048978_n.jpg to /var/tmp/graphlab-carlosmunoz/11731/000012.jpg</pre>"
       ],
       "metadata": {},
       "output_type": "display_data",
       "text": [
        "PROGRESS: Downloading http://scontent-a-mad.cdninstagram.com/hphotos-xfa1/t51.2885-15/s306x306/e15/10838336_1554933268114695_697048978_n.jpg to /var/tmp/graphlab-carlosmunoz/11731/000012.jpg"
       ]
      },
      {
       "html": [
        "<pre>PROGRESS: Downloading http://scontent-a-mad.cdninstagram.com/hphotos-xaf1/t51.2885-15/s306x306/e15/10946625_1539020996361335_838435693_n.jpg to /var/tmp/graphlab-carlosmunoz/11731/000013.jpg</pre>"
       ],
       "metadata": {},
       "output_type": "display_data",
       "text": [
        "PROGRESS: Downloading http://scontent-a-mad.cdninstagram.com/hphotos-xaf1/t51.2885-15/s306x306/e15/10946625_1539020996361335_838435693_n.jpg to /var/tmp/graphlab-carlosmunoz/11731/000013.jpg"
       ]
      },
      {
       "html": [
        "<pre>PROGRESS: Downloading http://scontent-b-mad.cdninstagram.com/hphotos-xaf1/t51.2885-15/s306x306/e15/10895454_766914540058695_667839024_n.jpg to /var/tmp/graphlab-carlosmunoz/11731/000014.jpg</pre>"
       ],
       "metadata": {},
       "output_type": "display_data",
       "text": [
        "PROGRESS: Downloading http://scontent-b-mad.cdninstagram.com/hphotos-xaf1/t51.2885-15/s306x306/e15/10895454_766914540058695_667839024_n.jpg to /var/tmp/graphlab-carlosmunoz/11731/000014.jpg"
       ]
      },
      {
       "html": [
        "<pre>PROGRESS: Downloading http://scontent-a-mad.cdninstagram.com/hphotos-xaf1/t51.2885-15/s306x306/e15/10957245_334512236741274_247043595_n.jpg to /var/tmp/graphlab-carlosmunoz/11731/000015.jpg</pre>"
       ],
       "metadata": {},
       "output_type": "display_data",
       "text": [
        "PROGRESS: Downloading http://scontent-a-mad.cdninstagram.com/hphotos-xaf1/t51.2885-15/s306x306/e15/10957245_334512236741274_247043595_n.jpg to /var/tmp/graphlab-carlosmunoz/11731/000015.jpg"
       ]
      },
      {
       "html": [
        "<pre>PROGRESS: Downloading http://scontent-a-mad.cdninstagram.com/hphotos-xfa1/t51.2885-15/s306x306/e15/10865165_689917854462761_65417628_n.jpg to /var/tmp/graphlab-carlosmunoz/11731/000016.jpg</pre>"
       ],
       "metadata": {},
       "output_type": "display_data",
       "text": [
        "PROGRESS: Downloading http://scontent-a-mad.cdninstagram.com/hphotos-xfa1/t51.2885-15/s306x306/e15/10865165_689917854462761_65417628_n.jpg to /var/tmp/graphlab-carlosmunoz/11731/000016.jpg"
       ]
      },
      {
       "html": [
        "<pre>PROGRESS: Downloading http://scontent-b-mad.cdninstagram.com/hphotos-xaf1/t51.2885-15/s306x306/e15/10946505_1524024554553745_1386833382_n.jpg to /var/tmp/graphlab-carlosmunoz/11731/000017.jpg</pre>"
       ],
       "metadata": {},
       "output_type": "display_data",
       "text": [
        "PROGRESS: Downloading http://scontent-b-mad.cdninstagram.com/hphotos-xaf1/t51.2885-15/s306x306/e15/10946505_1524024554553745_1386833382_n.jpg to /var/tmp/graphlab-carlosmunoz/11731/000017.jpg"
       ]
      },
      {
       "html": [
        "<pre>PROGRESS: Downloading http://scontent-b-mad.cdninstagram.com/hphotos-xaf1/t51.2885-15/s306x306/e15/10919673_1537345336538512_138470346_n.jpg to /var/tmp/graphlab-carlosmunoz/11731/000018.jpg</pre>"
       ],
       "metadata": {},
       "output_type": "display_data",
       "text": [
        "PROGRESS: Downloading http://scontent-b-mad.cdninstagram.com/hphotos-xaf1/t51.2885-15/s306x306/e15/10919673_1537345336538512_138470346_n.jpg to /var/tmp/graphlab-carlosmunoz/11731/000018.jpg"
       ]
      },
      {
       "html": [
        "<pre>PROGRESS: Downloading http://scontent-a-mad.cdninstagram.com/hphotos-xaf1/t51.2885-15/s306x306/e15/10899547_1553800641533637_1740326844_n.jpg to /var/tmp/graphlab-carlosmunoz/11731/000019.jpg</pre>"
       ],
       "metadata": {},
       "output_type": "display_data",
       "text": [
        "PROGRESS: Downloading http://scontent-a-mad.cdninstagram.com/hphotos-xaf1/t51.2885-15/s306x306/e15/10899547_1553800641533637_1740326844_n.jpg to /var/tmp/graphlab-carlosmunoz/11731/000019.jpg"
       ]
      },
      {
       "html": [
        "<pre>PROGRESS: Downloading http://scontent-b-mad.cdninstagram.com/hphotos-xfa1/t51.2885-15/s306x306/e15/10919069_755409621216879_1001055598_n.jpg to /var/tmp/graphlab-carlosmunoz/11731/000020.jpg</pre>"
       ],
       "metadata": {},
       "output_type": "display_data",
       "text": [
        "PROGRESS: Downloading http://scontent-b-mad.cdninstagram.com/hphotos-xfa1/t51.2885-15/s306x306/e15/10919069_755409621216879_1001055598_n.jpg to /var/tmp/graphlab-carlosmunoz/11731/000020.jpg"
       ]
      },
      {
       "html": [
        "<pre>PROGRESS: Downloading http://scontent-a-mad.cdninstagram.com/hphotos-xfa1/t51.2885-15/s306x306/e15/10914692_1031408386938844_1249666270_n.jpg to /var/tmp/graphlab-carlosmunoz/11731/000021.jpg</pre>"
       ],
       "metadata": {},
       "output_type": "display_data",
       "text": [
        "PROGRESS: Downloading http://scontent-a-mad.cdninstagram.com/hphotos-xfa1/t51.2885-15/s306x306/e15/10914692_1031408386938844_1249666270_n.jpg to /var/tmp/graphlab-carlosmunoz/11731/000021.jpg"
       ]
      },
      {
       "html": [
        "<pre>PROGRESS: Downloading http://scontent-a-mad.cdninstagram.com/hphotos-xaf1/t51.2885-15/s306x306/e15/10899568_1523687304577847_1835997350_n.jpg to /var/tmp/graphlab-carlosmunoz/11731/000022.jpg</pre>"
       ],
       "metadata": {},
       "output_type": "display_data",
       "text": [
        "PROGRESS: Downloading http://scontent-a-mad.cdninstagram.com/hphotos-xaf1/t51.2885-15/s306x306/e15/10899568_1523687304577847_1835997350_n.jpg to /var/tmp/graphlab-carlosmunoz/11731/000022.jpg"
       ]
      },
      {
       "html": [
        "<pre>PROGRESS: Downloading http://scontent-b-mad.cdninstagram.com/hphotos-xaf1/t51.2885-15/s306x306/e15/10903306_938263299518591_931374929_n.jpg to /var/tmp/graphlab-carlosmunoz/11731/000023.jpg</pre>"
       ],
       "metadata": {},
       "output_type": "display_data",
       "text": [
        "PROGRESS: Downloading http://scontent-b-mad.cdninstagram.com/hphotos-xaf1/t51.2885-15/s306x306/e15/10903306_938263299518591_931374929_n.jpg to /var/tmp/graphlab-carlosmunoz/11731/000023.jpg"
       ]
      },
      {
       "html": [
        "<pre>PROGRESS: Downloading http://scontent-b-mad.cdninstagram.com/hphotos-xaf1/t51.2885-15/s306x306/e15/10894999_331112430415683_1334124433_n.jpg to /var/tmp/graphlab-carlosmunoz/11731/000024.jpg</pre>"
       ],
       "metadata": {},
       "output_type": "display_data",
       "text": [
        "PROGRESS: Downloading http://scontent-b-mad.cdninstagram.com/hphotos-xaf1/t51.2885-15/s306x306/e15/10894999_331112430415683_1334124433_n.jpg to /var/tmp/graphlab-carlosmunoz/11731/000024.jpg"
       ]
      },
      {
       "html": [
        "<pre>PROGRESS: Downloading http://scontent-a-mad.cdninstagram.com/hphotos-xaf1/t51.2885-15/s306x306/e15/10903632_736450086461841_331064445_n.jpg to /var/tmp/graphlab-carlosmunoz/11731/000025.jpg</pre>"
       ],
       "metadata": {},
       "output_type": "display_data",
       "text": [
        "PROGRESS: Downloading http://scontent-a-mad.cdninstagram.com/hphotos-xaf1/t51.2885-15/s306x306/e15/10903632_736450086461841_331064445_n.jpg to /var/tmp/graphlab-carlosmunoz/11731/000025.jpg"
       ]
      },
      {
       "html": [
        "<pre>PROGRESS: Downloading http://scontent-b-mad.cdninstagram.com/hphotos-xfa1/t51.2885-15/s306x306/e15/10932413_434098660076874_774714551_n.jpg to /var/tmp/graphlab-carlosmunoz/11731/000026.jpg</pre>"
       ],
       "metadata": {},
       "output_type": "display_data",
       "text": [
        "PROGRESS: Downloading http://scontent-b-mad.cdninstagram.com/hphotos-xfa1/t51.2885-15/s306x306/e15/10932413_434098660076874_774714551_n.jpg to /var/tmp/graphlab-carlosmunoz/11731/000026.jpg"
       ]
      },
      {
       "html": [
        "<pre>PROGRESS: Downloading http://scontent-b-mad.cdninstagram.com/hphotos-xaf1/t51.2885-15/s306x306/e15/10903741_995771177117385_231152314_n.jpg to /var/tmp/graphlab-carlosmunoz/11731/000027.jpg</pre>"
       ],
       "metadata": {},
       "output_type": "display_data",
       "text": [
        "PROGRESS: Downloading http://scontent-b-mad.cdninstagram.com/hphotos-xaf1/t51.2885-15/s306x306/e15/10903741_995771177117385_231152314_n.jpg to /var/tmp/graphlab-carlosmunoz/11731/000027.jpg"
       ]
      },
      {
       "html": [
        "<pre>PROGRESS: Downloading http://scontent-a-mad.cdninstagram.com/hphotos-xaf1/t51.2885-15/s306x306/e15/10919475_905995836099114_2113563937_n.jpg to /var/tmp/graphlab-carlosmunoz/11731/000028.jpg</pre>"
       ],
       "metadata": {},
       "output_type": "display_data",
       "text": [
        "PROGRESS: Downloading http://scontent-a-mad.cdninstagram.com/hphotos-xaf1/t51.2885-15/s306x306/e15/10919475_905995836099114_2113563937_n.jpg to /var/tmp/graphlab-carlosmunoz/11731/000028.jpg"
       ]
      },
      {
       "html": [
        "<pre>PROGRESS: Downloading http://scontent-b-mad.cdninstagram.com/hphotos-xfa1/t51.2885-15/s306x306/e15/10899122_341604052693257_579690230_n.jpg to /var/tmp/graphlab-carlosmunoz/11731/000029.jpg</pre>"
       ],
       "metadata": {},
       "output_type": "display_data",
       "text": [
        "PROGRESS: Downloading http://scontent-b-mad.cdninstagram.com/hphotos-xfa1/t51.2885-15/s306x306/e15/10899122_341604052693257_579690230_n.jpg to /var/tmp/graphlab-carlosmunoz/11731/000029.jpg"
       ]
      },
      {
       "html": [
        "<pre>PROGRESS: Downloading http://scontent-a-mad.cdninstagram.com/hphotos-xfa1/t51.2885-15/s306x306/e15/10914119_1699644023595286_215710113_n.jpg to /var/tmp/graphlab-carlosmunoz/11731/000030.jpg</pre>"
       ],
       "metadata": {},
       "output_type": "display_data",
       "text": [
        "PROGRESS: Downloading http://scontent-a-mad.cdninstagram.com/hphotos-xfa1/t51.2885-15/s306x306/e15/10914119_1699644023595286_215710113_n.jpg to /var/tmp/graphlab-carlosmunoz/11731/000030.jpg"
       ]
      },
      {
       "html": [
        "<pre>PROGRESS: Downloading http://scontent-b-mad.cdninstagram.com/hphotos-xaf1/t51.2885-15/s306x306/e15/10899210_407767389390043_2021343264_n.jpg to /var/tmp/graphlab-carlosmunoz/11731/000031.jpg</pre>"
       ],
       "metadata": {},
       "output_type": "display_data",
       "text": [
        "PROGRESS: Downloading http://scontent-b-mad.cdninstagram.com/hphotos-xaf1/t51.2885-15/s306x306/e15/10899210_407767389390043_2021343264_n.jpg to /var/tmp/graphlab-carlosmunoz/11731/000031.jpg"
       ]
      },
      {
       "html": [
        "<pre>PROGRESS: Downloading http://scontent-a-mad.cdninstagram.com/hphotos-xaf1/t51.2885-15/s306x306/e15/10890886_868585553172049_101445903_n.jpg to /var/tmp/graphlab-carlosmunoz/11731/000032.jpg</pre>"
       ],
       "metadata": {},
       "output_type": "display_data",
       "text": [
        "PROGRESS: Downloading http://scontent-a-mad.cdninstagram.com/hphotos-xaf1/t51.2885-15/s306x306/e15/10890886_868585553172049_101445903_n.jpg to /var/tmp/graphlab-carlosmunoz/11731/000032.jpg"
       ]
      },
      {
       "html": [
        "<pre>PROGRESS: Downloading http://scontent-b-mad.cdninstagram.com/hphotos-xaf1/t51.2885-15/s306x306/e15/10852639_1516042231990596_1870426537_n.jpg to /var/tmp/graphlab-carlosmunoz/11731/000033.jpg</pre>"
       ],
       "metadata": {},
       "output_type": "display_data",
       "text": [
        "PROGRESS: Downloading http://scontent-b-mad.cdninstagram.com/hphotos-xaf1/t51.2885-15/s306x306/e15/10852639_1516042231990596_1870426537_n.jpg to /var/tmp/graphlab-carlosmunoz/11731/000033.jpg"
       ]
      },
      {
       "html": [
        "<pre>PROGRESS: Downloading http://scontent-b-mad.cdninstagram.com/hphotos-xaf1/t51.2885-15/s306x306/e15/10903680_412893005534561_196223016_n.jpg to /var/tmp/graphlab-carlosmunoz/11731/000034.jpg</pre>"
       ],
       "metadata": {},
       "output_type": "display_data",
       "text": [
        "PROGRESS: Downloading http://scontent-b-mad.cdninstagram.com/hphotos-xaf1/t51.2885-15/s306x306/e15/10903680_412893005534561_196223016_n.jpg to /var/tmp/graphlab-carlosmunoz/11731/000034.jpg"
       ]
      },
      {
       "html": [
        "<pre>PROGRESS: Downloading http://scontent-b-mad.cdninstagram.com/hphotos-xaf1/t51.2885-15/s306x306/e15/10903384_767594433315065_73215881_n.jpg to /var/tmp/graphlab-carlosmunoz/11731/000035.jpg</pre>"
       ],
       "metadata": {},
       "output_type": "display_data",
       "text": [
        "PROGRESS: Downloading http://scontent-b-mad.cdninstagram.com/hphotos-xaf1/t51.2885-15/s306x306/e15/10903384_767594433315065_73215881_n.jpg to /var/tmp/graphlab-carlosmunoz/11731/000035.jpg"
       ]
      },
      {
       "html": [
        "<pre>PROGRESS: Downloading http://scontent-a-mad.cdninstagram.com/hphotos-xfa1/t51.2885-15/s306x306/e15/10903493_1589255427960312_1399536728_n.jpg to /var/tmp/graphlab-carlosmunoz/11731/000036.jpg</pre>"
       ],
       "metadata": {},
       "output_type": "display_data",
       "text": [
        "PROGRESS: Downloading http://scontent-a-mad.cdninstagram.com/hphotos-xfa1/t51.2885-15/s306x306/e15/10903493_1589255427960312_1399536728_n.jpg to /var/tmp/graphlab-carlosmunoz/11731/000036.jpg"
       ]
      },
      {
       "html": [
        "<pre>PROGRESS: Downloading http://scontent-b-mad.cdninstagram.com/hphotos-xaf1/t51.2885-15/s306x306/e15/10895226_322942284567503_1278754013_n.jpg to /var/tmp/graphlab-carlosmunoz/11731/000037.jpg</pre>"
       ],
       "metadata": {},
       "output_type": "display_data",
       "text": [
        "PROGRESS: Downloading http://scontent-b-mad.cdninstagram.com/hphotos-xaf1/t51.2885-15/s306x306/e15/10895226_322942284567503_1278754013_n.jpg to /var/tmp/graphlab-carlosmunoz/11731/000037.jpg"
       ]
      },
      {
       "html": [
        "<pre>PROGRESS: Downloading http://scontent-b-mad.cdninstagram.com/hphotos-xfa1/t51.2885-15/s306x306/e15/10848287_1583223068575736_1870219711_n.jpg to /var/tmp/graphlab-carlosmunoz/11731/000038.jpg</pre>"
       ],
       "metadata": {},
       "output_type": "display_data",
       "text": [
        "PROGRESS: Downloading http://scontent-b-mad.cdninstagram.com/hphotos-xfa1/t51.2885-15/s306x306/e15/10848287_1583223068575736_1870219711_n.jpg to /var/tmp/graphlab-carlosmunoz/11731/000038.jpg"
       ]
      },
      {
       "html": [
        "<pre>PROGRESS: Downloading http://scontent-b-mad.cdninstagram.com/hphotos-xaf1/t51.2885-15/s306x306/e15/10853080_309830649228286_1805097312_n.jpg to /var/tmp/graphlab-carlosmunoz/11731/000039.jpg</pre>"
       ],
       "metadata": {},
       "output_type": "display_data",
       "text": [
        "PROGRESS: Downloading http://scontent-b-mad.cdninstagram.com/hphotos-xaf1/t51.2885-15/s306x306/e15/10853080_309830649228286_1805097312_n.jpg to /var/tmp/graphlab-carlosmunoz/11731/000039.jpg"
       ]
      },
      {
       "html": [
        "<pre>PROGRESS: Downloading http://scontent-b-mad.cdninstagram.com/hphotos-xaf1/t51.2885-15/s306x306/e15/10852663_408446189313891_415432934_n.jpg to /var/tmp/graphlab-carlosmunoz/11731/000040.jpg</pre>"
       ],
       "metadata": {},
       "output_type": "display_data",
       "text": [
        "PROGRESS: Downloading http://scontent-b-mad.cdninstagram.com/hphotos-xaf1/t51.2885-15/s306x306/e15/10852663_408446189313891_415432934_n.jpg to /var/tmp/graphlab-carlosmunoz/11731/000040.jpg"
       ]
      },
      {
       "html": [
        "<pre>PROGRESS: Downloading http://scontent-a-mad.cdninstagram.com/hphotos-xaf1/t51.2885-15/s306x306/e15/10890894_775238719217579_1750195954_n.jpg to /var/tmp/graphlab-carlosmunoz/11731/000041.jpg</pre>"
       ],
       "metadata": {},
       "output_type": "display_data",
       "text": [
        "PROGRESS: Downloading http://scontent-a-mad.cdninstagram.com/hphotos-xaf1/t51.2885-15/s306x306/e15/10890894_775238719217579_1750195954_n.jpg to /var/tmp/graphlab-carlosmunoz/11731/000041.jpg"
       ]
      },
      {
       "html": [
        "<pre>PROGRESS: Downloading http://scontent-a-mad.cdninstagram.com/hphotos-xaf1/t51.2885-15/s306x306/e15/10838635_573462449455798_588738391_n.jpg to /var/tmp/graphlab-carlosmunoz/11731/000042.jpg</pre>"
       ],
       "metadata": {},
       "output_type": "display_data",
       "text": [
        "PROGRESS: Downloading http://scontent-a-mad.cdninstagram.com/hphotos-xaf1/t51.2885-15/s306x306/e15/10838635_573462449455798_588738391_n.jpg to /var/tmp/graphlab-carlosmunoz/11731/000042.jpg"
       ]
      },
      {
       "html": [
        "<pre>PROGRESS: Downloading http://scontent-b-mad.cdninstagram.com/hphotos-xaf1/t51.2885-15/s306x306/e15/10838353_1391968184431731_1651583832_n.jpg to /var/tmp/graphlab-carlosmunoz/11731/000043.jpg</pre>"
       ],
       "metadata": {},
       "output_type": "display_data",
       "text": [
        "PROGRESS: Downloading http://scontent-b-mad.cdninstagram.com/hphotos-xaf1/t51.2885-15/s306x306/e15/10838353_1391968184431731_1651583832_n.jpg to /var/tmp/graphlab-carlosmunoz/11731/000043.jpg"
       ]
      },
      {
       "html": [
        "<pre>PROGRESS: Downloading http://scontent-a-mad.cdninstagram.com/hphotos-xaf1/t51.2885-15/s306x306/e15/10838725_347917722074922_710873129_n.jpg to /var/tmp/graphlab-carlosmunoz/11731/000044.jpg</pre>"
       ],
       "metadata": {},
       "output_type": "display_data",
       "text": [
        "PROGRESS: Downloading http://scontent-a-mad.cdninstagram.com/hphotos-xaf1/t51.2885-15/s306x306/e15/10838725_347917722074922_710873129_n.jpg to /var/tmp/graphlab-carlosmunoz/11731/000044.jpg"
       ]
      },
      {
       "html": [
        "<pre>PROGRESS: Downloading http://scontent-b-mad.cdninstagram.com/hphotos-xaf1/t51.2885-15/s306x306/e15/10844104_802696479798312_2141125722_n.jpg to /var/tmp/graphlab-carlosmunoz/11731/000045.jpg</pre>"
       ],
       "metadata": {},
       "output_type": "display_data",
       "text": [
        "PROGRESS: Downloading http://scontent-b-mad.cdninstagram.com/hphotos-xaf1/t51.2885-15/s306x306/e15/10844104_802696479798312_2141125722_n.jpg to /var/tmp/graphlab-carlosmunoz/11731/000045.jpg"
       ]
      },
      {
       "html": [
        "<pre>PROGRESS: Downloading http://scontent-b-mad.cdninstagram.com/hphotos-xaf1/t51.2885-15/s306x306/e15/10838835_835984173111551_10854444_n.jpg to /var/tmp/graphlab-carlosmunoz/11731/000046.jpg</pre>"
       ],
       "metadata": {},
       "output_type": "display_data",
       "text": [
        "PROGRESS: Downloading http://scontent-b-mad.cdninstagram.com/hphotos-xaf1/t51.2885-15/s306x306/e15/10838835_835984173111551_10854444_n.jpg to /var/tmp/graphlab-carlosmunoz/11731/000046.jpg"
       ]
      },
      {
       "html": [
        "<pre>PROGRESS: Downloading http://scontent-a-mad.cdninstagram.com/hphotos-xaf1/t51.2885-15/s306x306/e15/10859970_1549269592004419_1206010921_n.jpg to /var/tmp/graphlab-carlosmunoz/11731/000047.jpg</pre>"
       ],
       "metadata": {},
       "output_type": "display_data",
       "text": [
        "PROGRESS: Downloading http://scontent-a-mad.cdninstagram.com/hphotos-xaf1/t51.2885-15/s306x306/e15/10859970_1549269592004419_1206010921_n.jpg to /var/tmp/graphlab-carlosmunoz/11731/000047.jpg"
       ]
      },
      {
       "html": [
        "<pre>PROGRESS: Downloading http://scontent-a-mad.cdninstagram.com/hphotos-xaf1/t51.2885-15/s306x306/e15/10865122_353259291522774_2090571589_n.jpg to /var/tmp/graphlab-carlosmunoz/11731/000048.jpg</pre>"
       ],
       "metadata": {},
       "output_type": "display_data",
       "text": [
        "PROGRESS: Downloading http://scontent-a-mad.cdninstagram.com/hphotos-xaf1/t51.2885-15/s306x306/e15/10865122_353259291522774_2090571589_n.jpg to /var/tmp/graphlab-carlosmunoz/11731/000048.jpg"
       ]
      },
      {
       "html": [
        "<pre>PROGRESS: Downloading http://scontent-b-mad.cdninstagram.com/hphotos-xaf1/t51.2885-15/s306x306/e15/10838887_774989782574974_63320502_n.jpg to /var/tmp/graphlab-carlosmunoz/11731/000049.jpg</pre>"
       ],
       "metadata": {},
       "output_type": "display_data",
       "text": [
        "PROGRESS: Downloading http://scontent-b-mad.cdninstagram.com/hphotos-xaf1/t51.2885-15/s306x306/e15/10838887_774989782574974_63320502_n.jpg to /var/tmp/graphlab-carlosmunoz/11731/000049.jpg"
       ]
      },
      {
       "html": [
        "<pre>PROGRESS: Downloading http://scontent-a-mad.cdninstagram.com/hphotos-xaf1/t51.2885-15/s306x306/e15/10865142_735619166530403_1021022438_n.jpg to /var/tmp/graphlab-carlosmunoz/11731/000050.jpg</pre>"
       ],
       "metadata": {},
       "output_type": "display_data",
       "text": [
        "PROGRESS: Downloading http://scontent-a-mad.cdninstagram.com/hphotos-xaf1/t51.2885-15/s306x306/e15/10865142_735619166530403_1021022438_n.jpg to /var/tmp/graphlab-carlosmunoz/11731/000050.jpg"
       ]
      },
      {
       "html": [
        "<pre>PROGRESS: Downloading http://scontent-a-mad.cdninstagram.com/hphotos-xap1/t51.2885-15/s306x306/e15/10724895_393969274089464_2111142501_n.jpg to /var/tmp/graphlab-carlosmunoz/11731/000051.jpg</pre>"
       ],
       "metadata": {},
       "output_type": "display_data",
       "text": [
        "PROGRESS: Downloading http://scontent-a-mad.cdninstagram.com/hphotos-xap1/t51.2885-15/s306x306/e15/10724895_393969274089464_2111142501_n.jpg to /var/tmp/graphlab-carlosmunoz/11731/000051.jpg"
       ]
      },
      {
       "html": [
        "<pre>PROGRESS: Downloading http://scontent-a-mad.cdninstagram.com/hphotos-xaf1/t51.2885-15/s306x306/e15/10852842_361860520655500_15417153_n.jpg to /var/tmp/graphlab-carlosmunoz/11731/000052.jpg</pre>"
       ],
       "metadata": {},
       "output_type": "display_data",
       "text": [
        "PROGRESS: Downloading http://scontent-a-mad.cdninstagram.com/hphotos-xaf1/t51.2885-15/s306x306/e15/10852842_361860520655500_15417153_n.jpg to /var/tmp/graphlab-carlosmunoz/11731/000052.jpg"
       ]
      },
      {
       "html": [
        "<pre>PROGRESS: Downloading http://scontent-b-mad.cdninstagram.com/hphotos-xaf1/t51.2885-15/s306x306/e15/10844104_1517824785133550_1053668182_n.jpg to /var/tmp/graphlab-carlosmunoz/11731/000053.jpg</pre>"
       ],
       "metadata": {},
       "output_type": "display_data",
       "text": [
        "PROGRESS: Downloading http://scontent-b-mad.cdninstagram.com/hphotos-xaf1/t51.2885-15/s306x306/e15/10844104_1517824785133550_1053668182_n.jpg to /var/tmp/graphlab-carlosmunoz/11731/000053.jpg"
       ]
      },
      {
       "html": [
        "<pre>PROGRESS: Downloading http://scontent-a-mad.cdninstagram.com/hphotos-xfa1/t51.2885-15/s306x306/e15/10831883_569403829826664_182342694_n.jpg to /var/tmp/graphlab-carlosmunoz/11731/000054.jpg</pre>"
       ],
       "metadata": {},
       "output_type": "display_data",
       "text": [
        "PROGRESS: Downloading http://scontent-a-mad.cdninstagram.com/hphotos-xfa1/t51.2885-15/s306x306/e15/10831883_569403829826664_182342694_n.jpg to /var/tmp/graphlab-carlosmunoz/11731/000054.jpg"
       ]
      },
      {
       "html": [
        "<pre>PROGRESS: Downloading http://scontent-b-mad.cdninstagram.com/hphotos-xaf1/t51.2885-15/s306x306/e15/10853116_787722681275644_1570972097_n.jpg to /var/tmp/graphlab-carlosmunoz/11731/000055.jpg</pre>"
       ],
       "metadata": {},
       "output_type": "display_data",
       "text": [
        "PROGRESS: Downloading http://scontent-b-mad.cdninstagram.com/hphotos-xaf1/t51.2885-15/s306x306/e15/10853116_787722681275644_1570972097_n.jpg to /var/tmp/graphlab-carlosmunoz/11731/000055.jpg"
       ]
      },
      {
       "html": [
        "<pre>PROGRESS: Downloading http://scontent-a-mad.cdninstagram.com/hphotos-xaf1/t51.2885-15/s306x306/e15/10848192_351324078374495_1091423719_n.jpg to /var/tmp/graphlab-carlosmunoz/11731/000056.jpg</pre>"
       ],
       "metadata": {},
       "output_type": "display_data",
       "text": [
        "PROGRESS: Downloading http://scontent-a-mad.cdninstagram.com/hphotos-xaf1/t51.2885-15/s306x306/e15/10848192_351324078374495_1091423719_n.jpg to /var/tmp/graphlab-carlosmunoz/11731/000056.jpg"
       ]
      },
      {
       "html": [
        "<pre>PROGRESS: Downloading http://scontent-a-mad.cdninstagram.com/hphotos-xap1/t51.2885-15/s306x306/e15/10808937_796657493738868_1975263026_n.jpg to /var/tmp/graphlab-carlosmunoz/11731/000057.jpg</pre>"
       ],
       "metadata": {},
       "output_type": "display_data",
       "text": [
        "PROGRESS: Downloading http://scontent-a-mad.cdninstagram.com/hphotos-xap1/t51.2885-15/s306x306/e15/10808937_796657493738868_1975263026_n.jpg to /var/tmp/graphlab-carlosmunoz/11731/000057.jpg"
       ]
      },
      {
       "html": [
        "<pre>PROGRESS: Downloading http://scontent-a-mad.cdninstagram.com/hphotos-xpa1/t51.2885-15/s306x306/e15/10554246_380633058777621_1101723872_n.jpg to /var/tmp/graphlab-carlosmunoz/11731/000058.jpg</pre>"
       ],
       "metadata": {},
       "output_type": "display_data",
       "text": [
        "PROGRESS: Downloading http://scontent-a-mad.cdninstagram.com/hphotos-xpa1/t51.2885-15/s306x306/e15/10554246_380633058777621_1101723872_n.jpg to /var/tmp/graphlab-carlosmunoz/11731/000058.jpg"
       ]
      },
      {
       "html": [
        "<pre>PROGRESS: Downloading http://scontent-b-mad.cdninstagram.com/hphotos-xfa1/t51.2885-15/s306x306/e15/10802788_333006483568781_411220735_n.jpg to /var/tmp/graphlab-carlosmunoz/11731/000059.jpg</pre>"
       ],
       "metadata": {},
       "output_type": "display_data",
       "text": [
        "PROGRESS: Downloading http://scontent-b-mad.cdninstagram.com/hphotos-xfa1/t51.2885-15/s306x306/e15/10802788_333006483568781_411220735_n.jpg to /var/tmp/graphlab-carlosmunoz/11731/000059.jpg"
       ]
      },
      {
       "html": [
        "<pre>PROGRESS: Downloading http://scontent-b-mad.cdninstagram.com/hphotos-xfp1/t51.2885-15/s306x306/e15/10544203_804867809571750_1686942690_n.jpg to /var/tmp/graphlab-carlosmunoz/11731/000060.jpg</pre>"
       ],
       "metadata": {},
       "output_type": "display_data",
       "text": [
        "PROGRESS: Downloading http://scontent-b-mad.cdninstagram.com/hphotos-xfp1/t51.2885-15/s306x306/e15/10544203_804867809571750_1686942690_n.jpg to /var/tmp/graphlab-carlosmunoz/11731/000060.jpg"
       ]
      },
      {
       "html": [
        "<pre>PROGRESS: Downloading http://scontent-b-mad.cdninstagram.com/hphotos-xap1/t51.2885-15/s306x306/e15/10755993_1486985328251406_450226735_n.jpg to /var/tmp/graphlab-carlosmunoz/11731/000061.jpg</pre>"
       ],
       "metadata": {},
       "output_type": "display_data",
       "text": [
        "PROGRESS: Downloading http://scontent-b-mad.cdninstagram.com/hphotos-xap1/t51.2885-15/s306x306/e15/10755993_1486985328251406_450226735_n.jpg to /var/tmp/graphlab-carlosmunoz/11731/000061.jpg"
       ]
      },
      {
       "html": [
        "<pre>PROGRESS: Downloading http://scontent-b-mad.cdninstagram.com/hphotos-xpa1/t51.2885-15/s306x306/e15/10809692_1488216641443724_407621830_n.jpg to /var/tmp/graphlab-carlosmunoz/11731/000062.jpg</pre>"
       ],
       "metadata": {},
       "output_type": "display_data",
       "text": [
        "PROGRESS: Downloading http://scontent-b-mad.cdninstagram.com/hphotos-xpa1/t51.2885-15/s306x306/e15/10809692_1488216641443724_407621830_n.jpg to /var/tmp/graphlab-carlosmunoz/11731/000062.jpg"
       ]
      },
      {
       "html": [
        "<pre>PROGRESS: Downloading http://scontent-a-mad.cdninstagram.com/hphotos-xaf1/t51.2885-15/s306x306/e15/10748310_1391979717759895_160034755_n.jpg to /var/tmp/graphlab-carlosmunoz/11731/000063.jpg</pre>"
       ],
       "metadata": {},
       "output_type": "display_data",
       "text": [
        "PROGRESS: Downloading http://scontent-a-mad.cdninstagram.com/hphotos-xaf1/t51.2885-15/s306x306/e15/10748310_1391979717759895_160034755_n.jpg to /var/tmp/graphlab-carlosmunoz/11731/000063.jpg"
       ]
      },
      {
       "html": [
        "<pre>PROGRESS: Downloading http://scontent-a-mad.cdninstagram.com/hphotos-xap1/t51.2885-15/s306x306/e15/10747839_1592172311005839_1264187360_n.jpg to /var/tmp/graphlab-carlosmunoz/11731/000064.jpg</pre>"
       ],
       "metadata": {},
       "output_type": "display_data",
       "text": [
        "PROGRESS: Downloading http://scontent-a-mad.cdninstagram.com/hphotos-xap1/t51.2885-15/s306x306/e15/10747839_1592172311005839_1264187360_n.jpg to /var/tmp/graphlab-carlosmunoz/11731/000064.jpg"
       ]
      },
      {
       "html": [
        "<pre>PROGRESS: Downloading http://scontent-a-mad.cdninstagram.com/hphotos-xfp1/t51.2885-15/s306x306/e15/10755835_700362836726310_1092209093_n.jpg to /var/tmp/graphlab-carlosmunoz/11731/000065.jpg</pre>"
       ],
       "metadata": {},
       "output_type": "display_data",
       "text": [
        "PROGRESS: Downloading http://scontent-a-mad.cdninstagram.com/hphotos-xfp1/t51.2885-15/s306x306/e15/10755835_700362836726310_1092209093_n.jpg to /var/tmp/graphlab-carlosmunoz/11731/000065.jpg"
       ]
      },
      {
       "html": [
        "<pre>PROGRESS: Downloading http://scontent-b-mad.cdninstagram.com/hphotos-xpa1/t51.2885-15/s306x306/e15/10731493_519135278189211_1805504750_n.jpg to /var/tmp/graphlab-carlosmunoz/11731/000066.jpg</pre>"
       ],
       "metadata": {},
       "output_type": "display_data",
       "text": [
        "PROGRESS: Downloading http://scontent-b-mad.cdninstagram.com/hphotos-xpa1/t51.2885-15/s306x306/e15/10731493_519135278189211_1805504750_n.jpg to /var/tmp/graphlab-carlosmunoz/11731/000066.jpg"
       ]
      },
      {
       "html": [
        "<pre>PROGRESS: Downloading http://scontent-a-mad.cdninstagram.com/hphotos-xap1/t51.2885-15/s306x306/e15/10727710_752529998164902_144599442_n.jpg to /var/tmp/graphlab-carlosmunoz/11731/000067.jpg</pre>"
       ],
       "metadata": {},
       "output_type": "display_data",
       "text": [
        "PROGRESS: Downloading http://scontent-a-mad.cdninstagram.com/hphotos-xap1/t51.2885-15/s306x306/e15/10727710_752529998164902_144599442_n.jpg to /var/tmp/graphlab-carlosmunoz/11731/000067.jpg"
       ]
      },
      {
       "html": [
        "<pre>PROGRESS: Downloading http://scontent-a-mad.cdninstagram.com/hphotos-xpa1/l/t51.2885-15/s306x306/e15/10731665_306235219581619_1761476665_n.jpg to /var/tmp/graphlab-carlosmunoz/11731/000068.jpg</pre>"
       ],
       "metadata": {},
       "output_type": "display_data",
       "text": [
        "PROGRESS: Downloading http://scontent-a-mad.cdninstagram.com/hphotos-xpa1/l/t51.2885-15/s306x306/e15/10731665_306235219581619_1761476665_n.jpg to /var/tmp/graphlab-carlosmunoz/11731/000068.jpg"
       ]
      },
      {
       "html": [
        "<pre>PROGRESS: Downloading http://scontent-a-mad.cdninstagram.com/hphotos-xfa1/t51.2885-15/s306x306/e15/10724648_803110076415391_1929278404_n.jpg to /var/tmp/graphlab-carlosmunoz/11731/000069.jpg</pre>"
       ],
       "metadata": {},
       "output_type": "display_data",
       "text": [
        "PROGRESS: Downloading http://scontent-a-mad.cdninstagram.com/hphotos-xfa1/t51.2885-15/s306x306/e15/10724648_803110076415391_1929278404_n.jpg to /var/tmp/graphlab-carlosmunoz/11731/000069.jpg"
       ]
      },
      {
       "html": [
        "<pre>PROGRESS: Downloading http://scontent-a-mad.cdninstagram.com/hphotos-xpa1/t51.2885-15/s306x306/e15/925321_778532708859562_125808015_n.jpg to /var/tmp/graphlab-carlosmunoz/11731/000070.jpg</pre>"
       ],
       "metadata": {},
       "output_type": "display_data",
       "text": [
        "PROGRESS: Downloading http://scontent-a-mad.cdninstagram.com/hphotos-xpa1/t51.2885-15/s306x306/e15/925321_778532708859562_125808015_n.jpg to /var/tmp/graphlab-carlosmunoz/11731/000070.jpg"
       ]
      },
      {
       "html": [
        "<pre>PROGRESS: Downloading http://scontent-a-mad.cdninstagram.com/hphotos-xpf1/t51.2885-15/s306x306/e15/10691687_371670122987983_1882733742_n.jpg to /var/tmp/graphlab-carlosmunoz/11731/000071.jpg</pre>"
       ],
       "metadata": {},
       "output_type": "display_data",
       "text": [
        "PROGRESS: Downloading http://scontent-a-mad.cdninstagram.com/hphotos-xpf1/t51.2885-15/s306x306/e15/10691687_371670122987983_1882733742_n.jpg to /var/tmp/graphlab-carlosmunoz/11731/000071.jpg"
       ]
      },
      {
       "html": [
        "<pre>PROGRESS: Downloading http://scontent-b-mad.cdninstagram.com/hphotos-xap1/t51.2885-15/s306x306/e15/10598583_386500331499618_1585774187_n.jpg to /var/tmp/graphlab-carlosmunoz/11731/000072.jpg</pre>"
       ],
       "metadata": {},
       "output_type": "display_data",
       "text": [
        "PROGRESS: Downloading http://scontent-b-mad.cdninstagram.com/hphotos-xap1/t51.2885-15/s306x306/e15/10598583_386500331499618_1585774187_n.jpg to /var/tmp/graphlab-carlosmunoz/11731/000072.jpg"
       ]
      },
      {
       "html": [
        "<pre>PROGRESS: Downloading http://scontent-a-mad.cdninstagram.com/hphotos-xfp1/t51.2885-15/s306x306/e15/10661081_460792407391943_1919477745_n.jpg to /var/tmp/graphlab-carlosmunoz/11731/000073.jpg</pre>"
       ],
       "metadata": {},
       "output_type": "display_data",
       "text": [
        "PROGRESS: Downloading http://scontent-a-mad.cdninstagram.com/hphotos-xfp1/t51.2885-15/s306x306/e15/10661081_460792407391943_1919477745_n.jpg to /var/tmp/graphlab-carlosmunoz/11731/000073.jpg"
       ]
      },
      {
       "html": [
        "<pre>PROGRESS: Downloading http://scontent-b-mad.cdninstagram.com/hphotos-xfp1/t51.2885-15/s306x306/e15/10576158_569421199831002_797269759_n.jpg to /var/tmp/graphlab-carlosmunoz/11731/000074.jpg</pre>"
       ],
       "metadata": {},
       "output_type": "display_data",
       "text": [
        "PROGRESS: Downloading http://scontent-b-mad.cdninstagram.com/hphotos-xfp1/t51.2885-15/s306x306/e15/10576158_569421199831002_797269759_n.jpg to /var/tmp/graphlab-carlosmunoz/11731/000074.jpg"
       ]
      },
      {
       "html": [
        "<pre>PROGRESS: Downloading http://scontent-b-mad.cdninstagram.com/hphotos-xpa1/t51.2885-15/s306x306/e15/10683890_785915411476327_1116614391_n.jpg to /var/tmp/graphlab-carlosmunoz/11731/000075.jpg</pre>"
       ],
       "metadata": {},
       "output_type": "display_data",
       "text": [
        "PROGRESS: Downloading http://scontent-b-mad.cdninstagram.com/hphotos-xpa1/t51.2885-15/s306x306/e15/10683890_785915411476327_1116614391_n.jpg to /var/tmp/graphlab-carlosmunoz/11731/000075.jpg"
       ]
      },
      {
       "html": [
        "<pre>PROGRESS: Downloading http://scontent-b-mad.cdninstagram.com/hphotos-xpf1/t51.2885-15/s306x306/e15/10467982_937037136321963_1383825076_n.jpg to /var/tmp/graphlab-carlosmunoz/11731/000076.jpg</pre>"
       ],
       "metadata": {},
       "output_type": "display_data",
       "text": [
        "PROGRESS: Downloading http://scontent-b-mad.cdninstagram.com/hphotos-xpf1/t51.2885-15/s306x306/e15/10467982_937037136321963_1383825076_n.jpg to /var/tmp/graphlab-carlosmunoz/11731/000076.jpg"
       ]
      },
      {
       "html": [
        "<pre>PROGRESS: Downloading http://scontent-a-mad.cdninstagram.com/hphotos-xfa1/t51.2885-15/s306x306/e15/10624450_453370301458550_77870265_n.jpg to /var/tmp/graphlab-carlosmunoz/11731/000077.jpg</pre>"
       ],
       "metadata": {},
       "output_type": "display_data",
       "text": [
        "PROGRESS: Downloading http://scontent-a-mad.cdninstagram.com/hphotos-xfa1/t51.2885-15/s306x306/e15/10624450_453370301458550_77870265_n.jpg to /var/tmp/graphlab-carlosmunoz/11731/000077.jpg"
       ]
      },
      {
       "html": [
        "<pre>PROGRESS: Downloading http://scontent-b-mad.cdninstagram.com/hphotos-xap1/t51.2885-15/s306x306/e15/10683976_770763149647065_352424730_n.jpg to /var/tmp/graphlab-carlosmunoz/11731/000078.jpg</pre>"
       ],
       "metadata": {},
       "output_type": "display_data",
       "text": [
        "PROGRESS: Downloading http://scontent-b-mad.cdninstagram.com/hphotos-xap1/t51.2885-15/s306x306/e15/10683976_770763149647065_352424730_n.jpg to /var/tmp/graphlab-carlosmunoz/11731/000078.jpg"
       ]
      },
      {
       "html": [
        "<pre>PROGRESS: Downloading http://scontent-b-mad.cdninstagram.com/hphotos-xfa1/t51.2885-15/s306x306/e15/10684168_1473417719597145_1162302890_n.jpg to /var/tmp/graphlab-carlosmunoz/11731/000079.jpg</pre>"
       ],
       "metadata": {},
       "output_type": "display_data",
       "text": [
        "PROGRESS: Downloading http://scontent-b-mad.cdninstagram.com/hphotos-xfa1/t51.2885-15/s306x306/e15/10684168_1473417719597145_1162302890_n.jpg to /var/tmp/graphlab-carlosmunoz/11731/000079.jpg"
       ]
      },
      {
       "html": [
        "<pre>PROGRESS: Downloading http://scontent-b-mad.cdninstagram.com/hphotos-xfp1/t51.2885-15/s306x306/e15/10601725_1529954723887548_571654705_n.jpg to /var/tmp/graphlab-carlosmunoz/11731/000080.jpg</pre>"
       ],
       "metadata": {},
       "output_type": "display_data",
       "text": [
        "PROGRESS: Downloading http://scontent-b-mad.cdninstagram.com/hphotos-xfp1/t51.2885-15/s306x306/e15/10601725_1529954723887548_571654705_n.jpg to /var/tmp/graphlab-carlosmunoz/11731/000080.jpg"
       ]
      },
      {
       "html": [
        "<pre>PROGRESS: Downloading http://scontent-a-mad.cdninstagram.com/hphotos-xaf1/t51.2885-15/s306x306/e15/10644025_1522308124670765_648724005_n.jpg to /var/tmp/graphlab-carlosmunoz/11731/000081.jpg</pre>"
       ],
       "metadata": {},
       "output_type": "display_data",
       "text": [
        "PROGRESS: Downloading http://scontent-a-mad.cdninstagram.com/hphotos-xaf1/t51.2885-15/s306x306/e15/10644025_1522308124670765_648724005_n.jpg to /var/tmp/graphlab-carlosmunoz/11731/000081.jpg"
       ]
      },
      {
       "html": [
        "<pre>PROGRESS: Downloading http://scontent-a-mad.cdninstagram.com/hphotos-xap1/t51.2885-15/s306x306/e15/10661304_1476623315928327_787791932_n.jpg to /var/tmp/graphlab-carlosmunoz/11731/000082.jpg</pre>"
       ],
       "metadata": {},
       "output_type": "display_data",
       "text": [
        "PROGRESS: Downloading http://scontent-a-mad.cdninstagram.com/hphotos-xap1/t51.2885-15/s306x306/e15/10661304_1476623315928327_787791932_n.jpg to /var/tmp/graphlab-carlosmunoz/11731/000082.jpg"
       ]
      },
      {
       "html": [
        "<pre>PROGRESS: Downloading http://scontent-b-mad.cdninstagram.com/hphotos-xaf1/t51.2885-15/s306x306/e15/10617162_700399250015596_797728468_n.jpg to /var/tmp/graphlab-carlosmunoz/11731/000083.jpg</pre>"
       ],
       "metadata": {},
       "output_type": "display_data",
       "text": [
        "PROGRESS: Downloading http://scontent-b-mad.cdninstagram.com/hphotos-xaf1/t51.2885-15/s306x306/e15/10617162_700399250015596_797728468_n.jpg to /var/tmp/graphlab-carlosmunoz/11731/000083.jpg"
       ]
      },
      {
       "html": [
        "<pre>PROGRESS: Downloading http://scontent-a-mad.cdninstagram.com/hphotos-xap1/t51.2885-15/s306x306/e15/10632289_1530196650550873_1886562625_n.jpg to /var/tmp/graphlab-carlosmunoz/11731/000084.jpg</pre>"
       ],
       "metadata": {},
       "output_type": "display_data",
       "text": [
        "PROGRESS: Downloading http://scontent-a-mad.cdninstagram.com/hphotos-xap1/t51.2885-15/s306x306/e15/10632289_1530196650550873_1886562625_n.jpg to /var/tmp/graphlab-carlosmunoz/11731/000084.jpg"
       ]
      },
      {
       "html": [
        "<pre>PROGRESS: Downloading http://scontent-a-mad.cdninstagram.com/hphotos-xfp1/t51.2885-15/s306x306/e15/10598503_753963688045633_536323024_n.jpg to /var/tmp/graphlab-carlosmunoz/11731/000085.jpg</pre>"
       ],
       "metadata": {},
       "output_type": "display_data",
       "text": [
        "PROGRESS: Downloading http://scontent-a-mad.cdninstagram.com/hphotos-xfp1/t51.2885-15/s306x306/e15/10598503_753963688045633_536323024_n.jpg to /var/tmp/graphlab-carlosmunoz/11731/000085.jpg"
       ]
      },
      {
       "html": [
        "<pre>PROGRESS: Downloading http://scontent-a-mad.cdninstagram.com/hphotos-xpf1/t51.2885-15/s306x306/e15/10616789_563288437130820_939639822_n.jpg to /var/tmp/graphlab-carlosmunoz/11731/000086.jpg</pre>"
       ],
       "metadata": {},
       "output_type": "display_data",
       "text": [
        "PROGRESS: Downloading http://scontent-a-mad.cdninstagram.com/hphotos-xpf1/t51.2885-15/s306x306/e15/10616789_563288437130820_939639822_n.jpg to /var/tmp/graphlab-carlosmunoz/11731/000086.jpg"
       ]
      },
      {
       "html": [
        "<pre>PROGRESS: Downloading http://scontent-b-mad.cdninstagram.com/hphotos-xpa1/t51.2885-15/s306x306/e15/10632061_331877643654567_1459578612_n.jpg to /var/tmp/graphlab-carlosmunoz/11731/000087.jpg</pre>"
       ],
       "metadata": {},
       "output_type": "display_data",
       "text": [
        "PROGRESS: Downloading http://scontent-b-mad.cdninstagram.com/hphotos-xpa1/t51.2885-15/s306x306/e15/10632061_331877643654567_1459578612_n.jpg to /var/tmp/graphlab-carlosmunoz/11731/000087.jpg"
       ]
      },
      {
       "html": [
        "<pre>PROGRESS: Downloading http://scontent-b-mad.cdninstagram.com/hphotos-xpa1/t51.2885-15/s306x306/e15/10632223_669903579768332_1379330905_n.jpg to /var/tmp/graphlab-carlosmunoz/11731/000088.jpg</pre>"
       ],
       "metadata": {},
       "output_type": "display_data",
       "text": [
        "PROGRESS: Downloading http://scontent-b-mad.cdninstagram.com/hphotos-xpa1/t51.2885-15/s306x306/e15/10632223_669903579768332_1379330905_n.jpg to /var/tmp/graphlab-carlosmunoz/11731/000088.jpg"
       ]
      },
      {
       "html": [
        "<pre>PROGRESS: Downloading http://scontent-b-mad.cdninstagram.com/hphotos-xfa1/t51.2885-15/s306x306/e15/10598218_359334624222983_1149843086_n.jpg to /var/tmp/graphlab-carlosmunoz/11731/000089.jpg</pre>"
       ],
       "metadata": {},
       "output_type": "display_data",
       "text": [
        "PROGRESS: Downloading http://scontent-b-mad.cdninstagram.com/hphotos-xfa1/t51.2885-15/s306x306/e15/10598218_359334624222983_1149843086_n.jpg to /var/tmp/graphlab-carlosmunoz/11731/000089.jpg"
       ]
      },
      {
       "html": [
        "<pre>PROGRESS: Downloading http://scontent-b-mad.cdninstagram.com/hphotos-xpa1/t51.2885-15/s306x306/e15/10607990_1464678937141428_1362421453_n.jpg to /var/tmp/graphlab-carlosmunoz/11731/000090.jpg</pre>"
       ],
       "metadata": {},
       "output_type": "display_data",
       "text": [
        "PROGRESS: Downloading http://scontent-b-mad.cdninstagram.com/hphotos-xpa1/t51.2885-15/s306x306/e15/10607990_1464678937141428_1362421453_n.jpg to /var/tmp/graphlab-carlosmunoz/11731/000090.jpg"
       ]
      },
      {
       "html": [
        "<pre>PROGRESS: Downloading http://scontent-b-mad.cdninstagram.com/hphotos-xpf1/t51.2885-15/s306x306/e15/10598465_917369561623046_854518932_n.jpg to /var/tmp/graphlab-carlosmunoz/11731/000091.jpg</pre>"
       ],
       "metadata": {},
       "output_type": "display_data",
       "text": [
        "PROGRESS: Downloading http://scontent-b-mad.cdninstagram.com/hphotos-xpf1/t51.2885-15/s306x306/e15/10598465_917369561623046_854518932_n.jpg to /var/tmp/graphlab-carlosmunoz/11731/000091.jpg"
       ]
      },
      {
       "html": [
        "<pre>PROGRESS: Downloading http://scontent-a-mad.cdninstagram.com/hphotos-xap1/t51.2885-15/s306x306/e15/10632520_1458676364406337_173245961_n.jpg to /var/tmp/graphlab-carlosmunoz/11731/000092.jpg</pre>"
       ],
       "metadata": {},
       "output_type": "display_data",
       "text": [
        "PROGRESS: Downloading http://scontent-a-mad.cdninstagram.com/hphotos-xap1/t51.2885-15/s306x306/e15/10632520_1458676364406337_173245961_n.jpg to /var/tmp/graphlab-carlosmunoz/11731/000092.jpg"
       ]
      },
      {
       "html": [
        "<pre>PROGRESS: Downloading http://scontent-b-mad.cdninstagram.com/hphotos-xpf1/t51.2885-15/s306x306/e15/10598627_288655314659650_247157634_n.jpg to /var/tmp/graphlab-carlosmunoz/11731/000093.jpg</pre>"
       ],
       "metadata": {},
       "output_type": "display_data",
       "text": [
        "PROGRESS: Downloading http://scontent-b-mad.cdninstagram.com/hphotos-xpf1/t51.2885-15/s306x306/e15/10598627_288655314659650_247157634_n.jpg to /var/tmp/graphlab-carlosmunoz/11731/000093.jpg"
       ]
      },
      {
       "html": [
        "<pre>PROGRESS: Downloading http://scontent-a-mad.cdninstagram.com/hphotos-xfp1/t51.2885-15/s306x306/e15/10570201_310612749120739_596001309_n.jpg to /var/tmp/graphlab-carlosmunoz/11731/000094.jpg</pre>"
       ],
       "metadata": {},
       "output_type": "display_data",
       "text": [
        "PROGRESS: Downloading http://scontent-a-mad.cdninstagram.com/hphotos-xfp1/t51.2885-15/s306x306/e15/10570201_310612749120739_596001309_n.jpg to /var/tmp/graphlab-carlosmunoz/11731/000094.jpg"
       ]
      },
      {
       "html": [
        "<pre>PROGRESS: Downloading http://scontent-a-mad.cdninstagram.com/hphotos-xpf1/t51.2885-15/s306x306/e15/10608071_1451397821792091_1870233440_n.jpg to /var/tmp/graphlab-carlosmunoz/11731/000095.jpg</pre>"
       ],
       "metadata": {},
       "output_type": "display_data",
       "text": [
        "PROGRESS: Downloading http://scontent-a-mad.cdninstagram.com/hphotos-xpf1/t51.2885-15/s306x306/e15/10608071_1451397821792091_1870233440_n.jpg to /var/tmp/graphlab-carlosmunoz/11731/000095.jpg"
       ]
      },
      {
       "html": [
        "<pre>PROGRESS: Downloading http://scontent-a-mad.cdninstagram.com/hphotos-xaf1/t51.2885-15/s306x306/e15/10611007_704785676258325_603910121_n.jpg to /var/tmp/graphlab-carlosmunoz/11731/000096.jpg</pre>"
       ],
       "metadata": {},
       "output_type": "display_data",
       "text": [
        "PROGRESS: Downloading http://scontent-a-mad.cdninstagram.com/hphotos-xaf1/t51.2885-15/s306x306/e15/10611007_704785676258325_603910121_n.jpg to /var/tmp/graphlab-carlosmunoz/11731/000096.jpg"
       ]
      },
      {
       "html": [
        "<pre>PROGRESS: Downloading http://scontent-a-mad.cdninstagram.com/hphotos-xap1/t51.2885-15/s306x306/e15/925050_646794725427459_1349364505_n.jpg to /var/tmp/graphlab-carlosmunoz/11731/000097.jpg</pre>"
       ],
       "metadata": {},
       "output_type": "display_data",
       "text": [
        "PROGRESS: Downloading http://scontent-a-mad.cdninstagram.com/hphotos-xap1/t51.2885-15/s306x306/e15/925050_646794725427459_1349364505_n.jpg to /var/tmp/graphlab-carlosmunoz/11731/000097.jpg"
       ]
      },
      {
       "html": [
        "<pre>PROGRESS: Downloading http://scontent-b-mad.cdninstagram.com/hphotos-xfp1/t51.2885-15/s306x306/e15/10483494_799365683447571_1591102263_n.jpg to /var/tmp/graphlab-carlosmunoz/11731/000098.jpg</pre>"
       ],
       "metadata": {},
       "output_type": "display_data",
       "text": [
        "PROGRESS: Downloading http://scontent-b-mad.cdninstagram.com/hphotos-xfp1/t51.2885-15/s306x306/e15/10483494_799365683447571_1591102263_n.jpg to /var/tmp/graphlab-carlosmunoz/11731/000098.jpg"
       ]
      },
      {
       "html": [
        "<pre>PROGRESS: Downloading http://scontent-b-mad.cdninstagram.com/hphotos-xpa1/t51.2885-15/s306x306/e15/927392_758433580864812_1822819955_n.jpg to /var/tmp/graphlab-carlosmunoz/11731/000099.jpg</pre>"
       ],
       "metadata": {},
       "output_type": "display_data",
       "text": [
        "PROGRESS: Downloading http://scontent-b-mad.cdninstagram.com/hphotos-xpa1/t51.2885-15/s306x306/e15/927392_758433580864812_1822819955_n.jpg to /var/tmp/graphlab-carlosmunoz/11731/000099.jpg"
       ]
      },
      {
       "html": [
        "<pre>PROGRESS: Downloading http://scontent-a-mad.cdninstagram.com/hphotos-xfp1/t51.2885-15/s306x306/e15/891451_274165819440878_1223905209_n.jpg to /var/tmp/graphlab-carlosmunoz/11731/000100.jpg</pre>"
       ],
       "metadata": {},
       "output_type": "display_data",
       "text": [
        "PROGRESS: Downloading http://scontent-a-mad.cdninstagram.com/hphotos-xfp1/t51.2885-15/s306x306/e15/891451_274165819440878_1223905209_n.jpg to /var/tmp/graphlab-carlosmunoz/11731/000100.jpg"
       ]
      },
      {
       "html": [
        "<pre>PROGRESS: Downloading http://scontent-a-mad.cdninstagram.com/hphotos-xap1/t51.2885-15/s306x306/e15/10608159_745216998871820_847988809_n.jpg to /var/tmp/graphlab-carlosmunoz/11731/000101.jpg</pre>"
       ],
       "metadata": {},
       "output_type": "display_data",
       "text": [
        "PROGRESS: Downloading http://scontent-a-mad.cdninstagram.com/hphotos-xap1/t51.2885-15/s306x306/e15/10608159_745216998871820_847988809_n.jpg to /var/tmp/graphlab-carlosmunoz/11731/000101.jpg"
       ]
      },
      {
       "html": [
        "<pre>PROGRESS: Downloading http://scontent-b-mad.cdninstagram.com/hphotos-xap1/t51.2885-15/s306x306/e15/10608084_677539822330205_1732380519_n.jpg to /var/tmp/graphlab-carlosmunoz/11731/000102.jpg</pre>"
       ],
       "metadata": {},
       "output_type": "display_data",
       "text": [
        "PROGRESS: Downloading http://scontent-b-mad.cdninstagram.com/hphotos-xap1/t51.2885-15/s306x306/e15/10608084_677539822330205_1732380519_n.jpg to /var/tmp/graphlab-carlosmunoz/11731/000102.jpg"
       ]
      },
      {
       "html": [
        "<pre>PROGRESS: Downloading http://scontent-b-mad.cdninstagram.com/hphotos-xfa1/t51.2885-15/s306x306/e15/10593259_567491860040553_1059085407_n.jpg to /var/tmp/graphlab-carlosmunoz/11731/000103.jpg</pre>"
       ],
       "metadata": {},
       "output_type": "display_data",
       "text": [
        "PROGRESS: Downloading http://scontent-b-mad.cdninstagram.com/hphotos-xfa1/t51.2885-15/s306x306/e15/10593259_567491860040553_1059085407_n.jpg to /var/tmp/graphlab-carlosmunoz/11731/000103.jpg"
       ]
      },
      {
       "html": [
        "<pre>PROGRESS: Downloading http://scontent-a-mad.cdninstagram.com/hphotos-xfp1/t51.2885-15/s306x306/e15/10598521_603786929740605_243474286_n.jpg to /var/tmp/graphlab-carlosmunoz/11731/000104.jpg</pre>"
       ],
       "metadata": {},
       "output_type": "display_data",
       "text": [
        "PROGRESS: Downloading http://scontent-a-mad.cdninstagram.com/hphotos-xfp1/t51.2885-15/s306x306/e15/10598521_603786929740605_243474286_n.jpg to /var/tmp/graphlab-carlosmunoz/11731/000104.jpg"
       ]
      },
      {
       "html": [
        "<pre>PROGRESS: Downloading http://scontent-b-mad.cdninstagram.com/hphotos-xfp1/t51.2885-15/s306x306/e15/10597469_685566718193596_2055848130_n.jpg to /var/tmp/graphlab-carlosmunoz/11731/000105.jpg</pre>"
       ],
       "metadata": {},
       "output_type": "display_data",
       "text": [
        "PROGRESS: Downloading http://scontent-b-mad.cdninstagram.com/hphotos-xfp1/t51.2885-15/s306x306/e15/10597469_685566718193596_2055848130_n.jpg to /var/tmp/graphlab-carlosmunoz/11731/000105.jpg"
       ]
      },
      {
       "html": [
        "<pre>PROGRESS: Downloading http://scontent-b-mad.cdninstagram.com/hphotos-xpa1/t51.2885-15/s306x306/e15/10598222_297757743728972_383031718_n.jpg to /var/tmp/graphlab-carlosmunoz/11731/000106.jpg</pre>"
       ],
       "metadata": {},
       "output_type": "display_data",
       "text": [
        "PROGRESS: Downloading http://scontent-b-mad.cdninstagram.com/hphotos-xpa1/t51.2885-15/s306x306/e15/10598222_297757743728972_383031718_n.jpg to /var/tmp/graphlab-carlosmunoz/11731/000106.jpg"
       ]
      },
      {
       "html": [
        "<pre>PROGRESS: Downloading http://scontent-b-mad.cdninstagram.com/hphotos-xpf1/t51.2885-15/s306x306/e15/10560935_328884223936713_1318560621_n.jpg to /var/tmp/graphlab-carlosmunoz/11731/000107.jpg</pre>"
       ],
       "metadata": {},
       "output_type": "display_data",
       "text": [
        "PROGRESS: Downloading http://scontent-b-mad.cdninstagram.com/hphotos-xpf1/t51.2885-15/s306x306/e15/10560935_328884223936713_1318560621_n.jpg to /var/tmp/graphlab-carlosmunoz/11731/000107.jpg"
       ]
      },
      {
       "html": [
        "<pre>PROGRESS: Downloading http://scontent-b-mad.cdninstagram.com/hphotos-xfa1/t51.2885-15/s306x306/e15/914773_304283746411507_1278138461_n.jpg to /var/tmp/graphlab-carlosmunoz/11731/000108.jpg</pre>"
       ],
       "metadata": {},
       "output_type": "display_data",
       "text": [
        "PROGRESS: Downloading http://scontent-b-mad.cdninstagram.com/hphotos-xfa1/t51.2885-15/s306x306/e15/914773_304283746411507_1278138461_n.jpg to /var/tmp/graphlab-carlosmunoz/11731/000108.jpg"
       ]
      },
      {
       "html": [
        "<pre>PROGRESS: Downloading http://scontent-a-mad.cdninstagram.com/hphotos-xpa1/t51.2885-15/s306x306/e15/927379_241143409429997_713718934_n.jpg to /var/tmp/graphlab-carlosmunoz/11731/000109.jpg</pre>"
       ],
       "metadata": {},
       "output_type": "display_data",
       "text": [
        "PROGRESS: Downloading http://scontent-a-mad.cdninstagram.com/hphotos-xpa1/t51.2885-15/s306x306/e15/927379_241143409429997_713718934_n.jpg to /var/tmp/graphlab-carlosmunoz/11731/000109.jpg"
       ]
      },
      {
       "html": [
        "<pre>PROGRESS: Downloading http://scontent-b-mad.cdninstagram.com/hphotos-xpa1/t51.2885-15/s306x306/e15/10549694_1535583386669765_849743685_n.jpg to /var/tmp/graphlab-carlosmunoz/11731/000110.jpg</pre>"
       ],
       "metadata": {},
       "output_type": "display_data",
       "text": [
        "PROGRESS: Downloading http://scontent-b-mad.cdninstagram.com/hphotos-xpa1/t51.2885-15/s306x306/e15/10549694_1535583386669765_849743685_n.jpg to /var/tmp/graphlab-carlosmunoz/11731/000110.jpg"
       ]
      },
      {
       "html": [
        "<pre>PROGRESS: Downloading http://scontent-a-mad.cdninstagram.com/hphotos-xpf1/t51.2885-15/s306x306/e15/10570079_507912502688490_1241220958_n.jpg to /var/tmp/graphlab-carlosmunoz/11731/000111.jpg</pre>"
       ],
       "metadata": {},
       "output_type": "display_data",
       "text": [
        "PROGRESS: Downloading http://scontent-a-mad.cdninstagram.com/hphotos-xpf1/t51.2885-15/s306x306/e15/10570079_507912502688490_1241220958_n.jpg to /var/tmp/graphlab-carlosmunoz/11731/000111.jpg"
       ]
      },
      {
       "html": [
        "<pre>PROGRESS: Downloading http://scontent-a-mad.cdninstagram.com/hphotos-xpa1/t51.2885-15/s306x306/e15/10520159_257136857820349_2006038726_n.jpg to /var/tmp/graphlab-carlosmunoz/11731/000112.jpg</pre>"
       ],
       "metadata": {},
       "output_type": "display_data",
       "text": [
        "PROGRESS: Downloading http://scontent-a-mad.cdninstagram.com/hphotos-xpa1/t51.2885-15/s306x306/e15/10520159_257136857820349_2006038726_n.jpg to /var/tmp/graphlab-carlosmunoz/11731/000112.jpg"
       ]
      },
      {
       "html": [
        "<pre>PROGRESS: Downloading http://scontent-a-mad.cdninstagram.com/hphotos-xfp1/t51.2885-15/s306x306/e15/10549845_675250165891645_1764321507_n.jpg to /var/tmp/graphlab-carlosmunoz/11731/000113.jpg</pre>"
       ],
       "metadata": {},
       "output_type": "display_data",
       "text": [
        "PROGRESS: Downloading http://scontent-a-mad.cdninstagram.com/hphotos-xfp1/t51.2885-15/s306x306/e15/10549845_675250165891645_1764321507_n.jpg to /var/tmp/graphlab-carlosmunoz/11731/000113.jpg"
       ]
      },
      {
       "html": [
        "<pre>PROGRESS: Downloading http://scontent-b-mad.cdninstagram.com/hphotos-xpf1/t51.2885-15/s306x306/e15/10522301_310125029154611_2018517349_n.jpg to /var/tmp/graphlab-carlosmunoz/11731/000114.jpg</pre>"
       ],
       "metadata": {},
       "output_type": "display_data",
       "text": [
        "PROGRESS: Downloading http://scontent-b-mad.cdninstagram.com/hphotos-xpf1/t51.2885-15/s306x306/e15/10522301_310125029154611_2018517349_n.jpg to /var/tmp/graphlab-carlosmunoz/11731/000114.jpg"
       ]
      },
      {
       "html": [
        "<pre>PROGRESS: Downloading http://scontent-a-mad.cdninstagram.com/hphotos-xpa1/t51.2885-15/s306x306/e15/10518285_584633988320356_161283622_n.jpg to /var/tmp/graphlab-carlosmunoz/11731/000115.jpg</pre>"
       ],
       "metadata": {},
       "output_type": "display_data",
       "text": [
        "PROGRESS: Downloading http://scontent-a-mad.cdninstagram.com/hphotos-xpa1/t51.2885-15/s306x306/e15/10518285_584633988320356_161283622_n.jpg to /var/tmp/graphlab-carlosmunoz/11731/000115.jpg"
       ]
      },
      {
       "html": [
        "<pre>PROGRESS: Downloading http://scontent-b-mad.cdninstagram.com/hphotos-xap1/t51.2885-15/s306x306/e15/10513965_1459267034322172_1232048074_n.jpg to /var/tmp/graphlab-carlosmunoz/11731/000116.jpg</pre>"
       ],
       "metadata": {},
       "output_type": "display_data",
       "text": [
        "PROGRESS: Downloading http://scontent-b-mad.cdninstagram.com/hphotos-xap1/t51.2885-15/s306x306/e15/10513965_1459267034322172_1232048074_n.jpg to /var/tmp/graphlab-carlosmunoz/11731/000116.jpg"
       ]
      },
      {
       "html": [
        "<pre>PROGRESS: Downloading http://scontent-a-mad.cdninstagram.com/hphotos-xpa1/t51.2885-15/s306x306/e15/10431905_790033451029232_466435342_n.jpg to /var/tmp/graphlab-carlosmunoz/11731/000117.jpg</pre>"
       ],
       "metadata": {},
       "output_type": "display_data",
       "text": [
        "PROGRESS: Downloading http://scontent-a-mad.cdninstagram.com/hphotos-xpa1/t51.2885-15/s306x306/e15/10431905_790033451029232_466435342_n.jpg to /var/tmp/graphlab-carlosmunoz/11731/000117.jpg"
       ]
      },
      {
       "html": [
        "<pre>PROGRESS: Downloading http://scontent-a-mad.cdninstagram.com/hphotos-xap1/t51.2885-15/s306x306/e15/10499157_650688378353695_1937041972_n.jpg to /var/tmp/graphlab-carlosmunoz/11731/000118.jpg</pre>"
       ],
       "metadata": {},
       "output_type": "display_data",
       "text": [
        "PROGRESS: Downloading http://scontent-a-mad.cdninstagram.com/hphotos-xap1/t51.2885-15/s306x306/e15/10499157_650688378353695_1937041972_n.jpg to /var/tmp/graphlab-carlosmunoz/11731/000118.jpg"
       ]
      },
      {
       "html": [
        "<pre>PROGRESS: Downloading http://scontent-b-mad.cdninstagram.com/hphotos-xaf1/t51.2885-15/s306x306/e15/10413258_307710112727838_1388609643_n.jpg to /var/tmp/graphlab-carlosmunoz/11731/000119.jpg</pre>"
       ],
       "metadata": {},
       "output_type": "display_data",
       "text": [
        "PROGRESS: Downloading http://scontent-b-mad.cdninstagram.com/hphotos-xaf1/t51.2885-15/s306x306/e15/10413258_307710112727838_1388609643_n.jpg to /var/tmp/graphlab-carlosmunoz/11731/000119.jpg"
       ]
      },
      {
       "html": [
        "<pre>PROGRESS: Downloading http://scontent-a-mad.cdninstagram.com/hphotos-xpf1/t51.2885-15/s306x306/e15/10471856_887449894602607_106124457_n.jpg to /var/tmp/graphlab-carlosmunoz/11731/000120.jpg</pre>"
       ],
       "metadata": {},
       "output_type": "display_data",
       "text": [
        "PROGRESS: Downloading http://scontent-a-mad.cdninstagram.com/hphotos-xpf1/t51.2885-15/s306x306/e15/10471856_887449894602607_106124457_n.jpg to /var/tmp/graphlab-carlosmunoz/11731/000120.jpg"
       ]
      },
      {
       "html": [
        "<pre>PROGRESS: Downloading http://scontent-b-mad.cdninstagram.com/hphotos-xpf1/t51.2885-15/s306x306/e15/10453973_1441817042743581_841407362_n.jpg to /var/tmp/graphlab-carlosmunoz/11731/000121.jpg</pre>"
       ],
       "metadata": {},
       "output_type": "display_data",
       "text": [
        "PROGRESS: Downloading http://scontent-b-mad.cdninstagram.com/hphotos-xpf1/t51.2885-15/s306x306/e15/10453973_1441817042743581_841407362_n.jpg to /var/tmp/graphlab-carlosmunoz/11731/000121.jpg"
       ]
      },
      {
       "html": [
        "<pre>PROGRESS: Downloading http://scontent-a-mad.cdninstagram.com/hphotos-xfp1/t51.2885-15/s306x306/e15/10401776_1521698231391848_1207308833_n.jpg to /var/tmp/graphlab-carlosmunoz/11731/000122.jpg</pre>"
       ],
       "metadata": {},
       "output_type": "display_data",
       "text": [
        "PROGRESS: Downloading http://scontent-a-mad.cdninstagram.com/hphotos-xfp1/t51.2885-15/s306x306/e15/10401776_1521698231391848_1207308833_n.jpg to /var/tmp/graphlab-carlosmunoz/11731/000122.jpg"
       ]
      },
      {
       "html": [
        "<pre>PROGRESS: Downloading http://scontent-a-mad.cdninstagram.com/hphotos-xpa1/t51.2885-15/s306x306/e15/927973_1501151363449994_1604755762_n.jpg to /var/tmp/graphlab-carlosmunoz/11731/000123.jpg</pre>"
       ],
       "metadata": {},
       "output_type": "display_data",
       "text": [
        "PROGRESS: Downloading http://scontent-a-mad.cdninstagram.com/hphotos-xpa1/t51.2885-15/s306x306/e15/927973_1501151363449994_1604755762_n.jpg to /var/tmp/graphlab-carlosmunoz/11731/000123.jpg"
       ]
      },
      {
       "html": [
        "<pre>PROGRESS: Downloading http://scontent-a-mad.cdninstagram.com/hphotos-xpa1/t51.2885-15/s306x306/e15/10467768_329093870571441_491707687_n.jpg to /var/tmp/graphlab-carlosmunoz/11731/000124.jpg</pre>"
       ],
       "metadata": {},
       "output_type": "display_data",
       "text": [
        "PROGRESS: Downloading http://scontent-a-mad.cdninstagram.com/hphotos-xpa1/t51.2885-15/s306x306/e15/10467768_329093870571441_491707687_n.jpg to /var/tmp/graphlab-carlosmunoz/11731/000124.jpg"
       ]
      },
      {
       "html": [
        "<pre>PROGRESS: Downloading http://scontent-a-mad.cdninstagram.com/hphotos-xap1/t51.2885-15/s306x306/e15/10449133_479403655523944_527526981_n.jpg to /var/tmp/graphlab-carlosmunoz/11731/000125.jpg</pre>"
       ],
       "metadata": {},
       "output_type": "display_data",
       "text": [
        "PROGRESS: Downloading http://scontent-a-mad.cdninstagram.com/hphotos-xap1/t51.2885-15/s306x306/e15/10449133_479403655523944_527526981_n.jpg to /var/tmp/graphlab-carlosmunoz/11731/000125.jpg"
       ]
      },
      {
       "html": [
        "<pre>PROGRESS: Downloading http://scontent-b-mad.cdninstagram.com/hphotos-xpa1/t51.2885-15/s306x306/e15/923998_649310478489077_242808769_n.jpg to /var/tmp/graphlab-carlosmunoz/11731/000126.jpg</pre>"
       ],
       "metadata": {},
       "output_type": "display_data",
       "text": [
        "PROGRESS: Downloading http://scontent-b-mad.cdninstagram.com/hphotos-xpa1/t51.2885-15/s306x306/e15/923998_649310478489077_242808769_n.jpg to /var/tmp/graphlab-carlosmunoz/11731/000126.jpg"
       ]
      },
      {
       "html": [
        "<pre>PROGRESS: Downloading http://scontent-a-mad.cdninstagram.com/hphotos-xap1/t51.2885-15/s306x306/e15/10387767_1514749608745849_1389381087_n.jpg to /var/tmp/graphlab-carlosmunoz/11731/000127.jpg</pre>"
       ],
       "metadata": {},
       "output_type": "display_data",
       "text": [
        "PROGRESS: Downloading http://scontent-a-mad.cdninstagram.com/hphotos-xap1/t51.2885-15/s306x306/e15/10387767_1514749608745849_1389381087_n.jpg to /var/tmp/graphlab-carlosmunoz/11731/000127.jpg"
       ]
      },
      {
       "html": [
        "<pre>PROGRESS: Downloading http://scontent-b-mad.cdninstagram.com/hphotos-xfp1/t51.2885-15/s306x306/e15/10413848_710180062361114_628225218_n.jpg to /var/tmp/graphlab-carlosmunoz/11731/000128.jpg</pre>"
       ],
       "metadata": {},
       "output_type": "display_data",
       "text": [
        "PROGRESS: Downloading http://scontent-b-mad.cdninstagram.com/hphotos-xfp1/t51.2885-15/s306x306/e15/10413848_710180062361114_628225218_n.jpg to /var/tmp/graphlab-carlosmunoz/11731/000128.jpg"
       ]
      },
      {
       "html": [
        "<pre>PROGRESS: Downloading http://scontent-b-mad.cdninstagram.com/hphotos-xfa1/t51.2885-15/s306x306/e15/10387798_750802988303976_839921624_n.jpg to /var/tmp/graphlab-carlosmunoz/11731/000129.jpg</pre>"
       ],
       "metadata": {},
       "output_type": "display_data",
       "text": [
        "PROGRESS: Downloading http://scontent-b-mad.cdninstagram.com/hphotos-xfa1/t51.2885-15/s306x306/e15/10387798_750802988303976_839921624_n.jpg to /var/tmp/graphlab-carlosmunoz/11731/000129.jpg"
       ]
      },
      {
       "html": [
        "<pre>PROGRESS: Downloading http://scontent-b-mad.cdninstagram.com/hphotos-xaf1/t51.2885-15/s306x306/e15/10431996_330020647152084_1364775252_n.jpg to /var/tmp/graphlab-carlosmunoz/11731/000130.jpg</pre>"
       ],
       "metadata": {},
       "output_type": "display_data",
       "text": [
        "PROGRESS: Downloading http://scontent-b-mad.cdninstagram.com/hphotos-xaf1/t51.2885-15/s306x306/e15/10431996_330020647152084_1364775252_n.jpg to /var/tmp/graphlab-carlosmunoz/11731/000130.jpg"
       ]
      },
      {
       "html": [
        "<pre>PROGRESS: Downloading http://scontent-a-mad.cdninstagram.com/hphotos-xap1/t51.2885-15/s306x306/e15/10424465_1451131878462825_969468561_n.jpg to /var/tmp/graphlab-carlosmunoz/11731/000131.jpg</pre>"
       ],
       "metadata": {},
       "output_type": "display_data",
       "text": [
        "PROGRESS: Downloading http://scontent-a-mad.cdninstagram.com/hphotos-xap1/t51.2885-15/s306x306/e15/10424465_1451131878462825_969468561_n.jpg to /var/tmp/graphlab-carlosmunoz/11731/000131.jpg"
       ]
      },
      {
       "html": [
        "<pre>PROGRESS: Downloading http://scontent-a-mad.cdninstagram.com/hphotos-xap1/t51.2885-15/s306x306/e15/10311222_1612660575625067_723806261_n.jpg to /var/tmp/graphlab-carlosmunoz/11731/000132.jpg</pre>"
       ],
       "metadata": {},
       "output_type": "display_data",
       "text": [
        "PROGRESS: Downloading http://scontent-a-mad.cdninstagram.com/hphotos-xap1/t51.2885-15/s306x306/e15/10311222_1612660575625067_723806261_n.jpg to /var/tmp/graphlab-carlosmunoz/11731/000132.jpg"
       ]
      },
      {
       "html": [
        "<pre>PROGRESS: Downloading http://scontent-a-mad.cdninstagram.com/hphotos-xaf1/t51.2885-15/s306x306/e15/10413132_224883607722119_2016640702_n.jpg to /var/tmp/graphlab-carlosmunoz/11731/000133.jpg</pre>"
       ],
       "metadata": {},
       "output_type": "display_data",
       "text": [
        "PROGRESS: Downloading http://scontent-a-mad.cdninstagram.com/hphotos-xaf1/t51.2885-15/s306x306/e15/10413132_224883607722119_2016640702_n.jpg to /var/tmp/graphlab-carlosmunoz/11731/000133.jpg"
       ]
      },
      {
       "html": [
        "<pre>PROGRESS: Downloading http://scontent-b-mad.cdninstagram.com/hphotos-xap1/t51.2885-15/s306x306/e15/10358212_1502671283282718_125433107_n.jpg to /var/tmp/graphlab-carlosmunoz/11731/000134.jpg</pre>"
       ],
       "metadata": {},
       "output_type": "display_data",
       "text": [
        "PROGRESS: Downloading http://scontent-b-mad.cdninstagram.com/hphotos-xap1/t51.2885-15/s306x306/e15/10358212_1502671283282718_125433107_n.jpg to /var/tmp/graphlab-carlosmunoz/11731/000134.jpg"
       ]
      },
      {
       "html": [
        "<pre>PROGRESS: Downloading http://scontent-a-mad.cdninstagram.com/hphotos-xpa1/t51.2885-15/s306x306/e15/10299793_631505566931125_1035263469_n.jpg to /var/tmp/graphlab-carlosmunoz/11731/000135.jpg</pre>"
       ],
       "metadata": {},
       "output_type": "display_data",
       "text": [
        "PROGRESS: Downloading http://scontent-a-mad.cdninstagram.com/hphotos-xpa1/t51.2885-15/s306x306/e15/10299793_631505566931125_1035263469_n.jpg to /var/tmp/graphlab-carlosmunoz/11731/000135.jpg"
       ]
      },
      {
       "html": [
        "<pre>PROGRESS: Downloading http://scontent-b-mad.cdninstagram.com/hphotos-xpa1/t51.2885-15/s306x306/e15/10261103_1415651685371774_783780193_n.jpg to /var/tmp/graphlab-carlosmunoz/11731/000136.jpg</pre>"
       ],
       "metadata": {},
       "output_type": "display_data",
       "text": [
        "PROGRESS: Downloading http://scontent-b-mad.cdninstagram.com/hphotos-xpa1/t51.2885-15/s306x306/e15/10261103_1415651685371774_783780193_n.jpg to /var/tmp/graphlab-carlosmunoz/11731/000136.jpg"
       ]
      },
      {
       "html": [
        "<pre>PROGRESS: Downloading http://scontent-b-mad.cdninstagram.com/hphotos-xpf1/t51.2885-15/s306x306/e15/10254281_620830651340061_162592863_n.jpg to /var/tmp/graphlab-carlosmunoz/11731/000137.jpg</pre>"
       ],
       "metadata": {},
       "output_type": "display_data",
       "text": [
        "PROGRESS: Downloading http://scontent-b-mad.cdninstagram.com/hphotos-xpf1/t51.2885-15/s306x306/e15/10254281_620830651340061_162592863_n.jpg to /var/tmp/graphlab-carlosmunoz/11731/000137.jpg"
       ]
      },
      {
       "html": [
        "<pre>PROGRESS: Downloading http://scontent-a-mad.cdninstagram.com/hphotos-xpa1/t51.2885-15/s306x306/e15/928504_1378598695757670_41125032_n.jpg to /var/tmp/graphlab-carlosmunoz/11731/000138.jpg</pre>"
       ],
       "metadata": {},
       "output_type": "display_data",
       "text": [
        "PROGRESS: Downloading http://scontent-a-mad.cdninstagram.com/hphotos-xpa1/t51.2885-15/s306x306/e15/928504_1378598695757670_41125032_n.jpg to /var/tmp/graphlab-carlosmunoz/11731/000138.jpg"
       ]
      },
      {
       "html": [
        "<pre>PROGRESS: Downloading http://scontent-b-mad.cdninstagram.com/hphotos-xpa1/t51.2885-15/s306x306/e15/10004126_370250529779795_564517689_n.jpg to /var/tmp/graphlab-carlosmunoz/11731/000139.jpg</pre>"
       ],
       "metadata": {},
       "output_type": "display_data",
       "text": [
        "PROGRESS: Downloading http://scontent-b-mad.cdninstagram.com/hphotos-xpa1/t51.2885-15/s306x306/e15/10004126_370250529779795_564517689_n.jpg to /var/tmp/graphlab-carlosmunoz/11731/000139.jpg"
       ]
      },
      {
       "html": [
        "<pre>PROGRESS: Downloading http://scontent-a-mad.cdninstagram.com/hphotos-xaf1/outbound-distilleryimage0/t0.0-17/OBPTH/23ca3b50b14a11e395531298994147dc_6.jpg to /var/tmp/graphlab-carlosmunoz/11731/000140.jpg</pre>"
       ],
       "metadata": {},
       "output_type": "display_data",
       "text": [
        "PROGRESS: Downloading http://scontent-a-mad.cdninstagram.com/hphotos-xaf1/outbound-distilleryimage0/t0.0-17/OBPTH/23ca3b50b14a11e395531298994147dc_6.jpg to /var/tmp/graphlab-carlosmunoz/11731/000140.jpg"
       ]
      },
      {
       "html": [
        "<pre>PROGRESS: Downloading http://scontent-a-mad.cdninstagram.com/hphotos-xfa1/outbound-distilleryimage5/t0.0-17/OBPTH/6d4f8a6aac6211e382cb0e0076d434a9_6.jpg to /var/tmp/graphlab-carlosmunoz/11731/000141.jpg</pre>"
       ],
       "metadata": {},
       "output_type": "display_data",
       "text": [
        "PROGRESS: Downloading http://scontent-a-mad.cdninstagram.com/hphotos-xfa1/outbound-distilleryimage5/t0.0-17/OBPTH/6d4f8a6aac6211e382cb0e0076d434a9_6.jpg to /var/tmp/graphlab-carlosmunoz/11731/000141.jpg"
       ]
      },
      {
       "html": [
        "<pre>PROGRESS: Downloading http://scontent-a-mad.cdninstagram.com/hphotos-xpa1/outbound-distilleryimage10/t0.0-17/OBPTH/a4e89966ab9611e39c9b0e29b2d17a82_6.jpg to /var/tmp/graphlab-carlosmunoz/11731/000142.jpg</pre>"
       ],
       "metadata": {},
       "output_type": "display_data",
       "text": [
        "PROGRESS: Downloading http://scontent-a-mad.cdninstagram.com/hphotos-xpa1/outbound-distilleryimage10/t0.0-17/OBPTH/a4e89966ab9611e39c9b0e29b2d17a82_6.jpg to /var/tmp/graphlab-carlosmunoz/11731/000142.jpg"
       ]
      },
      {
       "html": [
        "<pre>PROGRESS: Downloading http://scontent-b-mad.cdninstagram.com/hphotos-xpf1/outbound-distilleryimage3/t0.0-17/OBPTH/c6072c36a84711e384e51217c67f63a7_6.jpg to /var/tmp/graphlab-carlosmunoz/11731/000143.jpg</pre>"
       ],
       "metadata": {},
       "output_type": "display_data",
       "text": [
        "PROGRESS: Downloading http://scontent-b-mad.cdninstagram.com/hphotos-xpf1/outbound-distilleryimage3/t0.0-17/OBPTH/c6072c36a84711e384e51217c67f63a7_6.jpg to /var/tmp/graphlab-carlosmunoz/11731/000143.jpg"
       ]
      },
      {
       "html": [
        "<pre>PROGRESS: Downloading http://scontent-a-mad.cdninstagram.com/hphotos-xaf1/outbound-distilleryimage6/t0.0-17/OBPTH/6680bd6ca6c711e3b9d412c82c76b2ea_6.jpg to /var/tmp/graphlab-carlosmunoz/11731/000144.jpg</pre>"
       ],
       "metadata": {},
       "output_type": "display_data",
       "text": [
        "PROGRESS: Downloading http://scontent-a-mad.cdninstagram.com/hphotos-xaf1/outbound-distilleryimage6/t0.0-17/OBPTH/6680bd6ca6c711e3b9d412c82c76b2ea_6.jpg to /var/tmp/graphlab-carlosmunoz/11731/000144.jpg"
       ]
      },
      {
       "html": [
        "<pre>PROGRESS: Downloading http://scontent-a-mad.cdninstagram.com/hphotos-xpa1/outbound-distilleryimage5/t0.0-17/OBPTH/a0bd807494bb11e2af7e22000a1f8ae5_6.jpg to /var/tmp/graphlab-carlosmunoz/11731/000145.jpg</pre>"
       ],
       "metadata": {},
       "output_type": "display_data",
       "text": [
        "PROGRESS: Downloading http://scontent-a-mad.cdninstagram.com/hphotos-xpa1/outbound-distilleryimage5/t0.0-17/OBPTH/a0bd807494bb11e2af7e22000a1f8ae5_6.jpg to /var/tmp/graphlab-carlosmunoz/11731/000145.jpg"
       ]
      },
      {
       "html": [
        "<pre>PROGRESS: Downloading http://scontent-b-mad.cdninstagram.com/hphotos-xfp1/outbound-distilleryimage11/t0.0-17/OBPTH/fb5bc1a4aa2d11e1989612313815112c_6.jpg to /var/tmp/graphlab-carlosmunoz/11731/000146.jpg</pre>"
       ],
       "metadata": {},
       "output_type": "display_data",
       "text": [
        "PROGRESS: Downloading http://scontent-b-mad.cdninstagram.com/hphotos-xfp1/outbound-distilleryimage11/t0.0-17/OBPTH/fb5bc1a4aa2d11e1989612313815112c_6.jpg to /var/tmp/graphlab-carlosmunoz/11731/000146.jpg"
       ]
      }
     ],
     "prompt_number": 25
    },
    {
     "cell_type": "markdown",
     "metadata": {},
     "source": [
      "etiquetas = gl.SFrame(clases)"
     ]
    },
    {
     "cell_type": "code",
     "collapsed": false,
     "input": [
      "etiquetas = gl.SFrame(clases)\n",
      "etiquetas\n",
      "clases"
     ],
     "language": "python",
     "metadata": {},
     "outputs": [
      {
       "metadata": {},
       "output_type": "pyout",
       "prompt_number": 28,
       "text": [
        "{'score': [0.7452093958854675,\n",
        "  0.730957567691803,\n",
        "  0.5085768103599548,\n",
        "  0.7277307510375977,\n",
        "  0.7786308526992798,\n",
        "  0.5739979147911072,\n",
        "  0.6504818201065063,\n",
        "  0.7441876530647278,\n",
        "  0.6492950320243835,\n",
        "  0.9619992971420288,\n",
        "  0.6576408743858337,\n",
        "  0.5055290460586548,\n",
        "  0.5302559733390808,\n",
        "  0.6808369755744934,\n",
        "  0.5169122219085693,\n",
        "  0.7636203765869141,\n",
        "  0.7780939936637878,\n",
        "  0.9649345278739929,\n",
        "  0.6417886018753052,\n",
        "  0.6867955923080444,\n",
        "  0.614941418170929,\n",
        "  0.5185749530792236,\n",
        "  0.6610493063926697,\n",
        "  0.8896269202232361,\n",
        "  0.5293636918067932,\n",
        "  0.540550172328949,\n",
        "  0.8050782680511475],\n",
        " 'tags': ['sandbar, sand bar',\n",
        "  \"academic gown, academic robe, judge's robe\",\n",
        "  'seashore, coast, seacoast, sea-coast',\n",
        "  'sandbar, sand bar',\n",
        "  \"plane, carpenter's plane, woodworking plane\",\n",
        "  'seashore, coast, seacoast, sea-coast',\n",
        "  'seashore, coast, seacoast, sea-coast',\n",
        "  'grey whale, gray whale, devilfish, Eschrichtius gibbosus, Eschrichtius robustus',\n",
        "  'boathouse',\n",
        "  'steel arch bridge',\n",
        "  'snorkel',\n",
        "  'bathing cap, swimming cap',\n",
        "  'killer whale, killer, orca, grampus, sea wolf, Orcinus orca',\n",
        "  'snorkel',\n",
        "  'theater curtain, theatre curtain',\n",
        "  'seashore, coast, seacoast, sea-coast',\n",
        "  'bathing cap, swimming cap',\n",
        "  'wing',\n",
        "  'sandbar, sand bar',\n",
        "  'velvet',\n",
        "  'sandbar, sand bar',\n",
        "  \"loupe, jeweler's loupe\",\n",
        "  'bathing cap, swimming cap',\n",
        "  'consomme',\n",
        "  'lumbermill, sawmill',\n",
        "  'sunglass',\n",
        "  'school bus'],\n",
        " 'url': [u'http://scontent-b-mad.cdninstagram.com/hphotos-xfa1/t51.2885-15/s306x306/e15/10958279_1078684255490642_1485640051_n.jpg',\n",
        "  u'http://scontent-b-mad.cdninstagram.com/hphotos-xaf1/t51.2885-15/s306x306/e15/10919266_1533713723559255_895447701_n.jpg',\n",
        "  u'http://scontent-a-mad.cdninstagram.com/hphotos-xaf1/t51.2885-15/s306x306/e15/10946625_1539020996361335_838435693_n.jpg',\n",
        "  u'http://scontent-b-mad.cdninstagram.com/hphotos-xaf1/t51.2885-15/s306x306/e15/10894999_331112430415683_1334124433_n.jpg',\n",
        "  u'http://scontent-b-mad.cdninstagram.com/hphotos-xfa1/t51.2885-15/s306x306/e15/10932413_434098660076874_774714551_n.jpg',\n",
        "  u'http://scontent-a-mad.cdninstagram.com/hphotos-xaf1/t51.2885-15/s306x306/e15/10919475_905995836099114_2113563937_n.jpg',\n",
        "  u'http://scontent-a-mad.cdninstagram.com/hphotos-xaf1/t51.2885-15/s306x306/e15/10890886_868585553172049_101445903_n.jpg',\n",
        "  u'http://scontent-b-mad.cdninstagram.com/hphotos-xfa1/t51.2885-15/s306x306/e15/10848287_1583223068575736_1870219711_n.jpg',\n",
        "  u'http://scontent-a-mad.cdninstagram.com/hphotos-xaf1/t51.2885-15/s306x306/e15/10838635_573462449455798_588738391_n.jpg',\n",
        "  u'http://scontent-a-mad.cdninstagram.com/hphotos-xaf1/t51.2885-15/s306x306/e15/10838725_347917722074922_710873129_n.jpg',\n",
        "  u'http://scontent-b-mad.cdninstagram.com/hphotos-xaf1/t51.2885-15/s306x306/e15/10853116_787722681275644_1570972097_n.jpg',\n",
        "  u'http://scontent-a-mad.cdninstagram.com/hphotos-xaf1/t51.2885-15/s306x306/e15/10748310_1391979717759895_160034755_n.jpg',\n",
        "  u'http://scontent-a-mad.cdninstagram.com/hphotos-xpa1/t51.2885-15/s306x306/e15/925321_778532708859562_125808015_n.jpg',\n",
        "  u'http://scontent-a-mad.cdninstagram.com/hphotos-xfp1/t51.2885-15/s306x306/e15/10661081_460792407391943_1919477745_n.jpg',\n",
        "  u'http://scontent-a-mad.cdninstagram.com/hphotos-xap1/t51.2885-15/s306x306/e15/10632289_1530196650550873_1886562625_n.jpg',\n",
        "  u'http://scontent-a-mad.cdninstagram.com/hphotos-xfp1/t51.2885-15/s306x306/e15/10570201_310612749120739_596001309_n.jpg',\n",
        "  u'http://scontent-b-mad.cdninstagram.com/hphotos-xfp1/t51.2885-15/s306x306/e15/10483494_799365683447571_1591102263_n.jpg',\n",
        "  u'http://scontent-b-mad.cdninstagram.com/hphotos-xap1/t51.2885-15/s306x306/e15/10608084_677539822330205_1732380519_n.jpg',\n",
        "  u'http://scontent-a-mad.cdninstagram.com/hphotos-xfp1/t51.2885-15/s306x306/e15/10598521_603786929740605_243474286_n.jpg',\n",
        "  u'http://scontent-b-mad.cdninstagram.com/hphotos-xfa1/t51.2885-15/s306x306/e15/914773_304283746411507_1278138461_n.jpg',\n",
        "  u'http://scontent-a-mad.cdninstagram.com/hphotos-xpf1/t51.2885-15/s306x306/e15/10570079_507912502688490_1241220958_n.jpg',\n",
        "  u'http://scontent-a-mad.cdninstagram.com/hphotos-xap1/t51.2885-15/s306x306/e15/10499157_650688378353695_1937041972_n.jpg',\n",
        "  u'http://scontent-b-mad.cdninstagram.com/hphotos-xpf1/t51.2885-15/s306x306/e15/10453973_1441817042743581_841407362_n.jpg',\n",
        "  u'http://scontent-a-mad.cdninstagram.com/hphotos-xpa1/t51.2885-15/s306x306/e15/10467768_329093870571441_491707687_n.jpg',\n",
        "  u'http://scontent-a-mad.cdninstagram.com/hphotos-xaf1/t51.2885-15/s306x306/e15/10413132_224883607722119_2016640702_n.jpg',\n",
        "  u'http://scontent-a-mad.cdninstagram.com/hphotos-xpa1/t51.2885-15/s306x306/e15/928504_1378598695757670_41125032_n.jpg',\n",
        "  u'http://scontent-a-mad.cdninstagram.com/hphotos-xpa1/outbound-distilleryimage5/t0.0-17/OBPTH/a0bd807494bb11e2af7e22000a1f8ae5_6.jpg']}"
       ]
      }
     ],
     "prompt_number": 28
    },
    {
     "cell_type": "markdown",
     "metadata": {},
     "source": [
      "# Clasificaci\u00f3n de las etiquetas en categor\u00edas"
     ]
    },
    {
     "cell_type": "markdown",
     "metadata": {},
     "source": [
      "## Carga del dataset de entrenamiento"
     ]
    },
    {
     "cell_type": "code",
     "collapsed": false,
     "input": [
      "sf = gl.SFrame.read_csv('Datos_Instagram.csv')"
     ],
     "language": "python",
     "metadata": {},
     "outputs": [
      {
       "html": [
        "<pre>PROGRESS: Finished parsing file /Users/carlosmunoz/htdocs/beeva-notebooks/IMGS_Instagram/Datos_Instagram.csv</pre>"
       ],
       "metadata": {},
       "output_type": "display_data",
       "text": [
        "PROGRESS: Finished parsing file /Users/carlosmunoz/htdocs/beeva-notebooks/IMGS_Instagram/Datos_Instagram.csv"
       ]
      },
      {
       "html": [
        "<pre>PROGRESS: Parsing completed. Parsed 100 lines in 0.037149 secs.</pre>"
       ],
       "metadata": {},
       "output_type": "display_data",
       "text": [
        "PROGRESS: Parsing completed. Parsed 100 lines in 0.037149 secs."
       ]
      },
      {
       "html": [
        "<pre>PROGRESS: Finished parsing file /Users/carlosmunoz/htdocs/beeva-notebooks/IMGS_Instagram/Datos_Instagram.csv</pre>"
       ],
       "metadata": {},
       "output_type": "display_data",
       "text": [
        "PROGRESS: Finished parsing file /Users/carlosmunoz/htdocs/beeva-notebooks/IMGS_Instagram/Datos_Instagram.csv"
       ]
      },
      {
       "html": [
        "<pre>PROGRESS: Parsing completed. Parsed 339 lines in 0.011278 secs.</pre>"
       ],
       "metadata": {},
       "output_type": "display_data",
       "text": [
        "PROGRESS: Parsing completed. Parsed 339 lines in 0.011278 secs."
       ]
      },
      {
       "output_type": "stream",
       "stream": "stdout",
       "text": [
        "------------------------------------------------------\n",
        "Inferred types from first line of file as \n",
        "column_type_hints=[str,str,str,str]\n",
        "If parsing fails due to incorrect types, you can correct\n",
        "the inferred type list above and pass it to read_csv in\n",
        "the column_type_hints argument\n",
        "------------------------------------------------------\n"
       ]
      }
     ],
     "prompt_number": 32
    },
    {
     "cell_type": "markdown",
     "metadata": {},
     "source": [
      "## Caracterizaci\u00f3n de las etiquetas por palabras clave"
     ]
    },
    {
     "cell_type": "code",
     "collapsed": false,
     "input": [
      "bow = gl.text_analytics.count_words(sf['tags'])\n",
      "stopwords = gl.text_analytics.stopwords()\n",
      "sf['bow'] = bow.dict_trim_by_keys(stopwords, exclude=True)"
     ],
     "language": "python",
     "metadata": {},
     "outputs": [],
     "prompt_number": 33
    },
    {
     "cell_type": "code",
     "collapsed": false,
     "input": [
      "#training, test = sf.random_split(0.8)\n",
      "training = sf"
     ],
     "language": "python",
     "metadata": {},
     "outputs": [],
     "prompt_number": 34
    },
    {
     "cell_type": "markdown",
     "metadata": {},
     "source": [
      "## Entrenamiento del modelo Boosted Trees"
     ]
    },
    {
     "cell_type": "code",
     "collapsed": false,
     "input": [
      "btree = gl.boosted_trees_classifier.create(training, target='class', features=['bow'], max_iterations=100)"
     ],
     "language": "python",
     "metadata": {},
     "outputs": [
      {
       "html": [
        "<pre>PROGRESS: Boosted trees classifier:</pre>"
       ],
       "metadata": {},
       "output_type": "display_data",
       "text": [
        "PROGRESS: Boosted trees classifier:"
       ]
      },
      {
       "html": [
        "<pre>PROGRESS: --------------------------------------------------------</pre>"
       ],
       "metadata": {},
       "output_type": "display_data",
       "text": [
        "PROGRESS: --------------------------------------------------------"
       ]
      },
      {
       "html": [
        "<pre>PROGRESS: Number of examples          : 339</pre>"
       ],
       "metadata": {},
       "output_type": "display_data",
       "text": [
        "PROGRESS: Number of examples          : 339"
       ]
      },
      {
       "html": [
        "<pre>PROGRESS: Number of classes           : 13</pre>"
       ],
       "metadata": {},
       "output_type": "display_data",
       "text": [
        "PROGRESS: Number of classes           : 13"
       ]
      },
      {
       "html": [
        "<pre>PROGRESS: Number of feature columns   : 1</pre>"
       ],
       "metadata": {},
       "output_type": "display_data",
       "text": [
        "PROGRESS: Number of feature columns   : 1"
       ]
      },
      {
       "html": [
        "<pre>PROGRESS: Number of unpacked features : 299</pre>"
       ],
       "metadata": {},
       "output_type": "display_data",
       "text": [
        "PROGRESS: Number of unpacked features : 299"
       ]
      },
      {
       "html": [
        "<pre>PROGRESS: Starting Boosted Trees</pre>"
       ],
       "metadata": {},
       "output_type": "display_data",
       "text": [
        "PROGRESS: Starting Boosted Trees"
       ]
      },
      {
       "html": [
        "<pre>PROGRESS: --------------------------------------------------------</pre>"
       ],
       "metadata": {},
       "output_type": "display_data",
       "text": [
        "PROGRESS: --------------------------------------------------------"
       ]
      },
      {
       "html": [
        "<pre>PROGRESS:   Iter    Accuracy Elapsed time</pre>"
       ],
       "metadata": {},
       "output_type": "display_data",
       "text": [
        "PROGRESS:   Iter    Accuracy Elapsed time"
       ]
      },
      {
       "html": [
        "<pre>PROGRESS:      0   7.729e-01        0.02s</pre>"
       ],
       "metadata": {},
       "output_type": "display_data",
       "text": [
        "PROGRESS:      0   7.729e-01        0.02s"
       ]
      },
      {
       "html": [
        "<pre>PROGRESS:      1   8.024e-01        0.02s</pre>"
       ],
       "metadata": {},
       "output_type": "display_data",
       "text": [
        "PROGRESS:      1   8.024e-01        0.02s"
       ]
      },
      {
       "html": [
        "<pre>PROGRESS:      2   7.994e-01        0.03s</pre>"
       ],
       "metadata": {},
       "output_type": "display_data",
       "text": [
        "PROGRESS:      2   7.994e-01        0.03s"
       ]
      },
      {
       "html": [
        "<pre>PROGRESS:      3   8.289e-01        0.03s</pre>"
       ],
       "metadata": {},
       "output_type": "display_data",
       "text": [
        "PROGRESS:      3   8.289e-01        0.03s"
       ]
      },
      {
       "html": [
        "<pre>PROGRESS:      4   8.289e-01        0.04s</pre>"
       ],
       "metadata": {},
       "output_type": "display_data",
       "text": [
        "PROGRESS:      4   8.289e-01        0.04s"
       ]
      },
      {
       "html": [
        "<pre>PROGRESS:      5   8.348e-01        0.04s</pre>"
       ],
       "metadata": {},
       "output_type": "display_data",
       "text": [
        "PROGRESS:      5   8.348e-01        0.04s"
       ]
      },
      {
       "html": [
        "<pre>PROGRESS:      6   8.378e-01        0.05s</pre>"
       ],
       "metadata": {},
       "output_type": "display_data",
       "text": [
        "PROGRESS:      6   8.378e-01        0.05s"
       ]
      },
      {
       "html": [
        "<pre>PROGRESS:      7   8.348e-01        0.05s</pre>"
       ],
       "metadata": {},
       "output_type": "display_data",
       "text": [
        "PROGRESS:      7   8.348e-01        0.05s"
       ]
      },
      {
       "html": [
        "<pre>PROGRESS:      8   8.348e-01        0.06s</pre>"
       ],
       "metadata": {},
       "output_type": "display_data",
       "text": [
        "PROGRESS:      8   8.348e-01        0.06s"
       ]
      },
      {
       "html": [
        "<pre>PROGRESS:      9   8.643e-01        0.06s</pre>"
       ],
       "metadata": {},
       "output_type": "display_data",
       "text": [
        "PROGRESS:      9   8.643e-01        0.06s"
       ]
      },
      {
       "html": [
        "<pre>PROGRESS:     10   8.820e-01        0.07s</pre>"
       ],
       "metadata": {},
       "output_type": "display_data",
       "text": [
        "PROGRESS:     10   8.820e-01        0.07s"
       ]
      },
      {
       "html": [
        "<pre>PROGRESS:     11   8.820e-01        0.07s</pre>"
       ],
       "metadata": {},
       "output_type": "display_data",
       "text": [
        "PROGRESS:     11   8.820e-01        0.07s"
       ]
      },
      {
       "html": [
        "<pre>PROGRESS:     12   8.820e-01        0.08s</pre>"
       ],
       "metadata": {},
       "output_type": "display_data",
       "text": [
        "PROGRESS:     12   8.820e-01        0.08s"
       ]
      },
      {
       "html": [
        "<pre>PROGRESS:     13   8.997e-01        0.08s</pre>"
       ],
       "metadata": {},
       "output_type": "display_data",
       "text": [
        "PROGRESS:     13   8.997e-01        0.08s"
       ]
      },
      {
       "html": [
        "<pre>PROGRESS:     14   9.233e-01        0.09s</pre>"
       ],
       "metadata": {},
       "output_type": "display_data",
       "text": [
        "PROGRESS:     14   9.233e-01        0.09s"
       ]
      },
      {
       "html": [
        "<pre>PROGRESS:     15   9.499e-01        0.09s</pre>"
       ],
       "metadata": {},
       "output_type": "display_data",
       "text": [
        "PROGRESS:     15   9.499e-01        0.09s"
       ]
      },
      {
       "html": [
        "<pre>PROGRESS:     16   9.558e-01        0.09s</pre>"
       ],
       "metadata": {},
       "output_type": "display_data",
       "text": [
        "PROGRESS:     16   9.558e-01        0.09s"
       ]
      },
      {
       "html": [
        "<pre>PROGRESS:     17   9.587e-01        0.10s</pre>"
       ],
       "metadata": {},
       "output_type": "display_data",
       "text": [
        "PROGRESS:     17   9.587e-01        0.10s"
       ]
      },
      {
       "html": [
        "<pre>PROGRESS:     18   9.587e-01        0.10s</pre>"
       ],
       "metadata": {},
       "output_type": "display_data",
       "text": [
        "PROGRESS:     18   9.587e-01        0.10s"
       ]
      },
      {
       "html": [
        "<pre>PROGRESS:     19   9.587e-01        0.11s</pre>"
       ],
       "metadata": {},
       "output_type": "display_data",
       "text": [
        "PROGRESS:     19   9.587e-01        0.11s"
       ]
      },
      {
       "html": [
        "<pre>PROGRESS:     20   9.587e-01        0.12s</pre>"
       ],
       "metadata": {},
       "output_type": "display_data",
       "text": [
        "PROGRESS:     20   9.587e-01        0.12s"
       ]
      },
      {
       "html": [
        "<pre>PROGRESS:     21   9.587e-01        0.12s</pre>"
       ],
       "metadata": {},
       "output_type": "display_data",
       "text": [
        "PROGRESS:     21   9.587e-01        0.12s"
       ]
      },
      {
       "html": [
        "<pre>PROGRESS:     22   9.587e-01        0.13s</pre>"
       ],
       "metadata": {},
       "output_type": "display_data",
       "text": [
        "PROGRESS:     22   9.587e-01        0.13s"
       ]
      },
      {
       "html": [
        "<pre>PROGRESS:     23   9.587e-01        0.13s</pre>"
       ],
       "metadata": {},
       "output_type": "display_data",
       "text": [
        "PROGRESS:     23   9.587e-01        0.13s"
       ]
      },
      {
       "html": [
        "<pre>PROGRESS:     24   9.587e-01        0.14s</pre>"
       ],
       "metadata": {},
       "output_type": "display_data",
       "text": [
        "PROGRESS:     24   9.587e-01        0.14s"
       ]
      },
      {
       "html": [
        "<pre>PROGRESS:     25   9.587e-01        0.14s</pre>"
       ],
       "metadata": {},
       "output_type": "display_data",
       "text": [
        "PROGRESS:     25   9.587e-01        0.14s"
       ]
      },
      {
       "html": [
        "<pre>PROGRESS:     26   9.587e-01        0.14s</pre>"
       ],
       "metadata": {},
       "output_type": "display_data",
       "text": [
        "PROGRESS:     26   9.587e-01        0.14s"
       ]
      },
      {
       "html": [
        "<pre>PROGRESS:     27   9.587e-01        0.15s</pre>"
       ],
       "metadata": {},
       "output_type": "display_data",
       "text": [
        "PROGRESS:     27   9.587e-01        0.15s"
       ]
      },
      {
       "html": [
        "<pre>PROGRESS:     28   9.587e-01        0.16s</pre>"
       ],
       "metadata": {},
       "output_type": "display_data",
       "text": [
        "PROGRESS:     28   9.587e-01        0.16s"
       ]
      },
      {
       "html": [
        "<pre>PROGRESS:     29   9.587e-01        0.17s</pre>"
       ],
       "metadata": {},
       "output_type": "display_data",
       "text": [
        "PROGRESS:     29   9.587e-01        0.17s"
       ]
      },
      {
       "html": [
        "<pre>PROGRESS:     30   9.587e-01        0.17s</pre>"
       ],
       "metadata": {},
       "output_type": "display_data",
       "text": [
        "PROGRESS:     30   9.587e-01        0.17s"
       ]
      },
      {
       "html": [
        "<pre>PROGRESS:     31   9.587e-01        0.18s</pre>"
       ],
       "metadata": {},
       "output_type": "display_data",
       "text": [
        "PROGRESS:     31   9.587e-01        0.18s"
       ]
      },
      {
       "html": [
        "<pre>PROGRESS:     32   9.587e-01        0.18s</pre>"
       ],
       "metadata": {},
       "output_type": "display_data",
       "text": [
        "PROGRESS:     32   9.587e-01        0.18s"
       ]
      },
      {
       "html": [
        "<pre>PROGRESS:     33   9.587e-01        0.18s</pre>"
       ],
       "metadata": {},
       "output_type": "display_data",
       "text": [
        "PROGRESS:     33   9.587e-01        0.18s"
       ]
      },
      {
       "html": [
        "<pre>PROGRESS:     34   9.617e-01        0.19s</pre>"
       ],
       "metadata": {},
       "output_type": "display_data",
       "text": [
        "PROGRESS:     34   9.617e-01        0.19s"
       ]
      },
      {
       "html": [
        "<pre>PROGRESS:     35   9.587e-01        0.19s</pre>"
       ],
       "metadata": {},
       "output_type": "display_data",
       "text": [
        "PROGRESS:     35   9.587e-01        0.19s"
       ]
      },
      {
       "html": [
        "<pre>PROGRESS:     36   9.617e-01        0.20s</pre>"
       ],
       "metadata": {},
       "output_type": "display_data",
       "text": [
        "PROGRESS:     36   9.617e-01        0.20s"
       ]
      },
      {
       "html": [
        "<pre>PROGRESS:     37   9.617e-01        0.20s</pre>"
       ],
       "metadata": {},
       "output_type": "display_data",
       "text": [
        "PROGRESS:     37   9.617e-01        0.20s"
       ]
      },
      {
       "html": [
        "<pre>PROGRESS:     38   9.617e-01        0.21s</pre>"
       ],
       "metadata": {},
       "output_type": "display_data",
       "text": [
        "PROGRESS:     38   9.617e-01        0.21s"
       ]
      },
      {
       "html": [
        "<pre>PROGRESS:     39   9.617e-01        0.21s</pre>"
       ],
       "metadata": {},
       "output_type": "display_data",
       "text": [
        "PROGRESS:     39   9.617e-01        0.21s"
       ]
      },
      {
       "html": [
        "<pre>PROGRESS:     40   9.617e-01        0.22s</pre>"
       ],
       "metadata": {},
       "output_type": "display_data",
       "text": [
        "PROGRESS:     40   9.617e-01        0.22s"
       ]
      },
      {
       "html": [
        "<pre>PROGRESS:     41   9.617e-01        0.22s</pre>"
       ],
       "metadata": {},
       "output_type": "display_data",
       "text": [
        "PROGRESS:     41   9.617e-01        0.22s"
       ]
      },
      {
       "html": [
        "<pre>PROGRESS:     42   9.617e-01        0.22s</pre>"
       ],
       "metadata": {},
       "output_type": "display_data",
       "text": [
        "PROGRESS:     42   9.617e-01        0.22s"
       ]
      },
      {
       "html": [
        "<pre>PROGRESS:     43   9.617e-01        0.23s</pre>"
       ],
       "metadata": {},
       "output_type": "display_data",
       "text": [
        "PROGRESS:     43   9.617e-01        0.23s"
       ]
      },
      {
       "html": [
        "<pre>PROGRESS:     44   9.617e-01        0.23s</pre>"
       ],
       "metadata": {},
       "output_type": "display_data",
       "text": [
        "PROGRESS:     44   9.617e-01        0.23s"
       ]
      },
      {
       "html": [
        "<pre>PROGRESS:     45   9.617e-01        0.24s</pre>"
       ],
       "metadata": {},
       "output_type": "display_data",
       "text": [
        "PROGRESS:     45   9.617e-01        0.24s"
       ]
      },
      {
       "html": [
        "<pre>PROGRESS:     46   9.617e-01        0.24s</pre>"
       ],
       "metadata": {},
       "output_type": "display_data",
       "text": [
        "PROGRESS:     46   9.617e-01        0.24s"
       ]
      },
      {
       "html": [
        "<pre>PROGRESS:     47   9.617e-01        0.24s</pre>"
       ],
       "metadata": {},
       "output_type": "display_data",
       "text": [
        "PROGRESS:     47   9.617e-01        0.24s"
       ]
      },
      {
       "html": [
        "<pre>PROGRESS:     48   9.617e-01        0.25s</pre>"
       ],
       "metadata": {},
       "output_type": "display_data",
       "text": [
        "PROGRESS:     48   9.617e-01        0.25s"
       ]
      },
      {
       "html": [
        "<pre>PROGRESS:     49   9.617e-01        0.25s</pre>"
       ],
       "metadata": {},
       "output_type": "display_data",
       "text": [
        "PROGRESS:     49   9.617e-01        0.25s"
       ]
      },
      {
       "html": [
        "<pre>PROGRESS:     50   9.617e-01        0.25s</pre>"
       ],
       "metadata": {},
       "output_type": "display_data",
       "text": [
        "PROGRESS:     50   9.617e-01        0.25s"
       ]
      },
      {
       "html": [
        "<pre>PROGRESS:     51   9.617e-01        0.26s</pre>"
       ],
       "metadata": {},
       "output_type": "display_data",
       "text": [
        "PROGRESS:     51   9.617e-01        0.26s"
       ]
      },
      {
       "html": [
        "<pre>PROGRESS:     52   9.617e-01        0.26s</pre>"
       ],
       "metadata": {},
       "output_type": "display_data",
       "text": [
        "PROGRESS:     52   9.617e-01        0.26s"
       ]
      },
      {
       "html": [
        "<pre>PROGRESS:     53   9.617e-01        0.26s</pre>"
       ],
       "metadata": {},
       "output_type": "display_data",
       "text": [
        "PROGRESS:     53   9.617e-01        0.26s"
       ]
      },
      {
       "html": [
        "<pre>PROGRESS:     54   9.617e-01        0.27s</pre>"
       ],
       "metadata": {},
       "output_type": "display_data",
       "text": [
        "PROGRESS:     54   9.617e-01        0.27s"
       ]
      },
      {
       "html": [
        "<pre>PROGRESS:     55   9.617e-01        0.27s</pre>"
       ],
       "metadata": {},
       "output_type": "display_data",
       "text": [
        "PROGRESS:     55   9.617e-01        0.27s"
       ]
      },
      {
       "html": [
        "<pre>PROGRESS:     56   9.617e-01        0.27s</pre>"
       ],
       "metadata": {},
       "output_type": "display_data",
       "text": [
        "PROGRESS:     56   9.617e-01        0.27s"
       ]
      },
      {
       "html": [
        "<pre>PROGRESS:     57   9.617e-01        0.28s</pre>"
       ],
       "metadata": {},
       "output_type": "display_data",
       "text": [
        "PROGRESS:     57   9.617e-01        0.28s"
       ]
      },
      {
       "html": [
        "<pre>PROGRESS:     58   9.617e-01        0.28s</pre>"
       ],
       "metadata": {},
       "output_type": "display_data",
       "text": [
        "PROGRESS:     58   9.617e-01        0.28s"
       ]
      },
      {
       "html": [
        "<pre>PROGRESS:     59   9.617e-01        0.28s</pre>"
       ],
       "metadata": {},
       "output_type": "display_data",
       "text": [
        "PROGRESS:     59   9.617e-01        0.28s"
       ]
      },
      {
       "html": [
        "<pre>PROGRESS:     60   9.617e-01        0.29s</pre>"
       ],
       "metadata": {},
       "output_type": "display_data",
       "text": [
        "PROGRESS:     60   9.617e-01        0.29s"
       ]
      },
      {
       "html": [
        "<pre>PROGRESS:     61   9.617e-01        0.29s</pre>"
       ],
       "metadata": {},
       "output_type": "display_data",
       "text": [
        "PROGRESS:     61   9.617e-01        0.29s"
       ]
      },
      {
       "html": [
        "<pre>PROGRESS:     62   9.617e-01        0.29s</pre>"
       ],
       "metadata": {},
       "output_type": "display_data",
       "text": [
        "PROGRESS:     62   9.617e-01        0.29s"
       ]
      },
      {
       "html": [
        "<pre>PROGRESS:     63   9.617e-01        0.30s</pre>"
       ],
       "metadata": {},
       "output_type": "display_data",
       "text": [
        "PROGRESS:     63   9.617e-01        0.30s"
       ]
      },
      {
       "html": [
        "<pre>PROGRESS:     64   9.617e-01        0.30s</pre>"
       ],
       "metadata": {},
       "output_type": "display_data",
       "text": [
        "PROGRESS:     64   9.617e-01        0.30s"
       ]
      },
      {
       "html": [
        "<pre>PROGRESS:     65   9.617e-01        0.31s</pre>"
       ],
       "metadata": {},
       "output_type": "display_data",
       "text": [
        "PROGRESS:     65   9.617e-01        0.31s"
       ]
      },
      {
       "html": [
        "<pre>PROGRESS:     66   9.617e-01        0.31s</pre>"
       ],
       "metadata": {},
       "output_type": "display_data",
       "text": [
        "PROGRESS:     66   9.617e-01        0.31s"
       ]
      },
      {
       "html": [
        "<pre>PROGRESS:     67   9.617e-01        0.31s</pre>"
       ],
       "metadata": {},
       "output_type": "display_data",
       "text": [
        "PROGRESS:     67   9.617e-01        0.31s"
       ]
      },
      {
       "html": [
        "<pre>PROGRESS:     68   9.617e-01        0.32s</pre>"
       ],
       "metadata": {},
       "output_type": "display_data",
       "text": [
        "PROGRESS:     68   9.617e-01        0.32s"
       ]
      },
      {
       "html": [
        "<pre>PROGRESS:     69   9.617e-01        0.32s</pre>"
       ],
       "metadata": {},
       "output_type": "display_data",
       "text": [
        "PROGRESS:     69   9.617e-01        0.32s"
       ]
      },
      {
       "html": [
        "<pre>PROGRESS:     70   9.617e-01        0.32s</pre>"
       ],
       "metadata": {},
       "output_type": "display_data",
       "text": [
        "PROGRESS:     70   9.617e-01        0.32s"
       ]
      },
      {
       "html": [
        "<pre>PROGRESS:     71   9.617e-01        0.33s</pre>"
       ],
       "metadata": {},
       "output_type": "display_data",
       "text": [
        "PROGRESS:     71   9.617e-01        0.33s"
       ]
      },
      {
       "html": [
        "<pre>PROGRESS:     72   9.617e-01        0.33s</pre>"
       ],
       "metadata": {},
       "output_type": "display_data",
       "text": [
        "PROGRESS:     72   9.617e-01        0.33s"
       ]
      },
      {
       "html": [
        "<pre>PROGRESS:     73   9.617e-01        0.33s</pre>"
       ],
       "metadata": {},
       "output_type": "display_data",
       "text": [
        "PROGRESS:     73   9.617e-01        0.33s"
       ]
      },
      {
       "html": [
        "<pre>PROGRESS:     74   9.617e-01        0.33s</pre>"
       ],
       "metadata": {},
       "output_type": "display_data",
       "text": [
        "PROGRESS:     74   9.617e-01        0.33s"
       ]
      },
      {
       "html": [
        "<pre>PROGRESS:     75   9.617e-01        0.34s</pre>"
       ],
       "metadata": {},
       "output_type": "display_data",
       "text": [
        "PROGRESS:     75   9.617e-01        0.34s"
       ]
      },
      {
       "html": [
        "<pre>PROGRESS:     76   9.617e-01        0.34s</pre>"
       ],
       "metadata": {},
       "output_type": "display_data",
       "text": [
        "PROGRESS:     76   9.617e-01        0.34s"
       ]
      },
      {
       "html": [
        "<pre>PROGRESS:     77   9.617e-01        0.34s</pre>"
       ],
       "metadata": {},
       "output_type": "display_data",
       "text": [
        "PROGRESS:     77   9.617e-01        0.34s"
       ]
      },
      {
       "html": [
        "<pre>PROGRESS:     78   9.617e-01        0.35s</pre>"
       ],
       "metadata": {},
       "output_type": "display_data",
       "text": [
        "PROGRESS:     78   9.617e-01        0.35s"
       ]
      },
      {
       "html": [
        "<pre>PROGRESS:     79   9.617e-01        0.35s</pre>"
       ],
       "metadata": {},
       "output_type": "display_data",
       "text": [
        "PROGRESS:     79   9.617e-01        0.35s"
       ]
      },
      {
       "html": [
        "<pre>PROGRESS:     80   9.617e-01        0.35s</pre>"
       ],
       "metadata": {},
       "output_type": "display_data",
       "text": [
        "PROGRESS:     80   9.617e-01        0.35s"
       ]
      },
      {
       "html": [
        "<pre>PROGRESS:     81   9.617e-01        0.36s</pre>"
       ],
       "metadata": {},
       "output_type": "display_data",
       "text": [
        "PROGRESS:     81   9.617e-01        0.36s"
       ]
      },
      {
       "html": [
        "<pre>PROGRESS:     82   9.617e-01        0.36s</pre>"
       ],
       "metadata": {},
       "output_type": "display_data",
       "text": [
        "PROGRESS:     82   9.617e-01        0.36s"
       ]
      },
      {
       "html": [
        "<pre>PROGRESS:     83   9.617e-01        0.36s</pre>"
       ],
       "metadata": {},
       "output_type": "display_data",
       "text": [
        "PROGRESS:     83   9.617e-01        0.36s"
       ]
      },
      {
       "html": [
        "<pre>PROGRESS:     84   9.617e-01        0.36s</pre>"
       ],
       "metadata": {},
       "output_type": "display_data",
       "text": [
        "PROGRESS:     84   9.617e-01        0.36s"
       ]
      },
      {
       "html": [
        "<pre>PROGRESS:     85   9.617e-01        0.37s</pre>"
       ],
       "metadata": {},
       "output_type": "display_data",
       "text": [
        "PROGRESS:     85   9.617e-01        0.37s"
       ]
      },
      {
       "html": [
        "<pre>PROGRESS:     86   9.617e-01        0.37s</pre>"
       ],
       "metadata": {},
       "output_type": "display_data",
       "text": [
        "PROGRESS:     86   9.617e-01        0.37s"
       ]
      },
      {
       "html": [
        "<pre>PROGRESS:     87   9.617e-01        0.37s</pre>"
       ],
       "metadata": {},
       "output_type": "display_data",
       "text": [
        "PROGRESS:     87   9.617e-01        0.37s"
       ]
      },
      {
       "html": [
        "<pre>PROGRESS:     88   9.617e-01        0.38s</pre>"
       ],
       "metadata": {},
       "output_type": "display_data",
       "text": [
        "PROGRESS:     88   9.617e-01        0.38s"
       ]
      },
      {
       "html": [
        "<pre>PROGRESS:     89   9.617e-01        0.38s</pre>"
       ],
       "metadata": {},
       "output_type": "display_data",
       "text": [
        "PROGRESS:     89   9.617e-01        0.38s"
       ]
      },
      {
       "html": [
        "<pre>PROGRESS:     90   9.617e-01        0.38s</pre>"
       ],
       "metadata": {},
       "output_type": "display_data",
       "text": [
        "PROGRESS:     90   9.617e-01        0.38s"
       ]
      },
      {
       "html": [
        "<pre>PROGRESS:     91   9.617e-01        0.39s</pre>"
       ],
       "metadata": {},
       "output_type": "display_data",
       "text": [
        "PROGRESS:     91   9.617e-01        0.39s"
       ]
      },
      {
       "html": [
        "<pre>PROGRESS:     92   9.617e-01        0.39s</pre>"
       ],
       "metadata": {},
       "output_type": "display_data",
       "text": [
        "PROGRESS:     92   9.617e-01        0.39s"
       ]
      },
      {
       "html": [
        "<pre>PROGRESS:     93   9.617e-01        0.39s</pre>"
       ],
       "metadata": {},
       "output_type": "display_data",
       "text": [
        "PROGRESS:     93   9.617e-01        0.39s"
       ]
      },
      {
       "html": [
        "<pre>PROGRESS:     94   9.617e-01        0.40s</pre>"
       ],
       "metadata": {},
       "output_type": "display_data",
       "text": [
        "PROGRESS:     94   9.617e-01        0.40s"
       ]
      },
      {
       "html": [
        "<pre>PROGRESS:     95   9.617e-01        0.40s</pre>"
       ],
       "metadata": {},
       "output_type": "display_data",
       "text": [
        "PROGRESS:     95   9.617e-01        0.40s"
       ]
      },
      {
       "html": [
        "<pre>PROGRESS:     96   9.617e-01        0.40s</pre>"
       ],
       "metadata": {},
       "output_type": "display_data",
       "text": [
        "PROGRESS:     96   9.617e-01        0.40s"
       ]
      },
      {
       "html": [
        "<pre>PROGRESS:     97   9.617e-01        0.41s</pre>"
       ],
       "metadata": {},
       "output_type": "display_data",
       "text": [
        "PROGRESS:     97   9.617e-01        0.41s"
       ]
      },
      {
       "html": [
        "<pre>PROGRESS:     98   9.617e-01        0.41s</pre>"
       ],
       "metadata": {},
       "output_type": "display_data",
       "text": [
        "PROGRESS:     98   9.617e-01        0.41s"
       ]
      },
      {
       "html": [
        "<pre>PROGRESS:     99   9.617e-01        0.41s</pre>"
       ],
       "metadata": {},
       "output_type": "display_data",
       "text": [
        "PROGRESS:     99   9.617e-01        0.41s"
       ]
      }
     ],
     "prompt_number": 35
    },
    {
     "cell_type": "markdown",
     "metadata": {},
     "source": [
      "## Clasificaci\u00f3n de las etiquetas"
     ]
    },
    {
     "cell_type": "code",
     "collapsed": false,
     "input": [
      "bowt = gl.text_analytics.count_words(etiquetas['tags'])\n",
      "stopwordst = gl.text_analytics.stopwords()\n",
      "etiquetas['bow'] = bowt.dict_trim_by_keys(stopwords, exclude=True)"
     ],
     "language": "python",
     "metadata": {},
     "outputs": [],
     "prompt_number": 36
    },
    {
     "cell_type": "code",
     "collapsed": false,
     "input": [
      "pred = btree.predict(etiquetas)"
     ],
     "language": "python",
     "metadata": {},
     "outputs": [],
     "prompt_number": 37
    },
    {
     "cell_type": "code",
     "collapsed": false,
     "input": [
      "pred"
     ],
     "language": "python",
     "metadata": {},
     "outputs": [
      {
       "metadata": {},
       "output_type": "pyout",
       "prompt_number": 38,
       "text": [
        "dtype: str\n",
        "Rows: 27\n",
        "['NATURALEZA', 'MODA', 'NATURALEZA', 'NATURALEZA', 'DECORACION/MOBILIARIO', 'NATURALEZA', 'NATURALEZA', 'MODA', 'MODA', 'TURISMO', 'NATURALEZA', 'MODA', 'NATURALEZA', 'NATURALEZA', 'ESPECTACULOS/EVENTOS', 'NATURALEZA', 'MODA', 'NATURALEZA', 'NATURALEZA', 'NATURALEZA', 'NATURALEZA', 'MODA', 'MODA', 'MODA', 'MODA', 'MODA', 'MODA']"
       ]
      }
     ],
     "prompt_number": 38
    },
    {
     "cell_type": "code",
     "collapsed": false,
     "input": [
      "etiquetas.add_column(pred, name='class')"
     ],
     "language": "python",
     "metadata": {},
     "outputs": [
      {
       "html": [
        "<div style=\"max-height:1000px;max-width:1500px;overflow:auto;\"><table frame=\"box\" rules=\"cols\">\n",
        "    <tr>\n",
        "        <th style=\"padding-left: 1em; padding-right: 1em; text-align: center\">score</th>\n",
        "        <th style=\"padding-left: 1em; padding-right: 1em; text-align: center\">tags</th>\n",
        "        <th style=\"padding-left: 1em; padding-right: 1em; text-align: center\">url</th>\n",
        "        <th style=\"padding-left: 1em; padding-right: 1em; text-align: center\">bow</th>\n",
        "    </tr>\n",
        "    <tr>\n",
        "        <td style=\"padding-left: 1em; padding-right: 1em; text-align: center; vertical-align: top\">0.745209395885</td>\n",
        "        <td style=\"padding-left: 1em; padding-right: 1em; text-align: center; vertical-align: top\">sandbar, sand bar</td>\n",
        "        <td style=\"padding-left: 1em; padding-right: 1em; text-align: center; vertical-align: top\">http://scontent-b-mad.cdn<br>instagram.com/hphotos ...</td>\n",
        "        <td style=\"padding-left: 1em; padding-right: 1em; text-align: center; vertical-align: top\">{'sand': 1, 'bar': 1,<br>'sandbar': 1}</td>\n",
        "    </tr>\n",
        "    <tr>\n",
        "        <td style=\"padding-left: 1em; padding-right: 1em; text-align: center; vertical-align: top\">0.730957567692</td>\n",
        "        <td style=\"padding-left: 1em; padding-right: 1em; text-align: center; vertical-align: top\">academic gown, academic<br>robe, judge's robe</td>\n",
        "        <td style=\"padding-left: 1em; padding-right: 1em; text-align: center; vertical-align: top\">http://scontent-b-mad.cdn<br>instagram.com/hphotos ...</td>\n",
        "        <td style=\"padding-left: 1em; padding-right: 1em; text-align: center; vertical-align: top\">{'judge': 1, 'gown': 1,<br>'robe': 2, 'academic' ...</td>\n",
        "    </tr>\n",
        "    <tr>\n",
        "        <td style=\"padding-left: 1em; padding-right: 1em; text-align: center; vertical-align: top\">0.50857681036</td>\n",
        "        <td style=\"padding-left: 1em; padding-right: 1em; text-align: center; vertical-align: top\">seashore, coast,<br>seacoast, sea-coast</td>\n",
        "        <td style=\"padding-left: 1em; padding-right: 1em; text-align: center; vertical-align: top\">http://scontent-a-mad.cdn<br>instagram.com/hphotos ...</td>\n",
        "        <td style=\"padding-left: 1em; padding-right: 1em; text-align: center; vertical-align: top\">{'seashore': 1,<br>'seacoast': 1, 'sea': ...</td>\n",
        "    </tr>\n",
        "    <tr>\n",
        "        <td style=\"padding-left: 1em; padding-right: 1em; text-align: center; vertical-align: top\">0.727730751038</td>\n",
        "        <td style=\"padding-left: 1em; padding-right: 1em; text-align: center; vertical-align: top\">sandbar, sand bar</td>\n",
        "        <td style=\"padding-left: 1em; padding-right: 1em; text-align: center; vertical-align: top\">http://scontent-b-mad.cdn<br>instagram.com/hphotos ...</td>\n",
        "        <td style=\"padding-left: 1em; padding-right: 1em; text-align: center; vertical-align: top\">{'sand': 1, 'bar': 1,<br>'sandbar': 1}</td>\n",
        "    </tr>\n",
        "    <tr>\n",
        "        <td style=\"padding-left: 1em; padding-right: 1em; text-align: center; vertical-align: top\">0.778630852699</td>\n",
        "        <td style=\"padding-left: 1em; padding-right: 1em; text-align: center; vertical-align: top\">plane, carpenter's plane,<br>woodworking plane</td>\n",
        "        <td style=\"padding-left: 1em; padding-right: 1em; text-align: center; vertical-align: top\">http://scontent-b-mad.cdn<br>instagram.com/hphotos ...</td>\n",
        "        <td style=\"padding-left: 1em; padding-right: 1em; text-align: center; vertical-align: top\">{'woodworking': 1,<br>'carpenter': 1, 'plan ...</td>\n",
        "    </tr>\n",
        "    <tr>\n",
        "        <td style=\"padding-left: 1em; padding-right: 1em; text-align: center; vertical-align: top\">0.573997914791</td>\n",
        "        <td style=\"padding-left: 1em; padding-right: 1em; text-align: center; vertical-align: top\">seashore, coast,<br>seacoast, sea-coast</td>\n",
        "        <td style=\"padding-left: 1em; padding-right: 1em; text-align: center; vertical-align: top\">http://scontent-a-mad.cdn<br>instagram.com/hphotos ...</td>\n",
        "        <td style=\"padding-left: 1em; padding-right: 1em; text-align: center; vertical-align: top\">{'seashore': 1,<br>'seacoast': 1, 'sea': ...</td>\n",
        "    </tr>\n",
        "    <tr>\n",
        "        <td style=\"padding-left: 1em; padding-right: 1em; text-align: center; vertical-align: top\">0.650481820107</td>\n",
        "        <td style=\"padding-left: 1em; padding-right: 1em; text-align: center; vertical-align: top\">seashore, coast,<br>seacoast, sea-coast</td>\n",
        "        <td style=\"padding-left: 1em; padding-right: 1em; text-align: center; vertical-align: top\">http://scontent-a-mad.cdn<br>instagram.com/hphotos ...</td>\n",
        "        <td style=\"padding-left: 1em; padding-right: 1em; text-align: center; vertical-align: top\">{'seashore': 1,<br>'seacoast': 1, 'sea': ...</td>\n",
        "    </tr>\n",
        "    <tr>\n",
        "        <td style=\"padding-left: 1em; padding-right: 1em; text-align: center; vertical-align: top\">0.744187653065</td>\n",
        "        <td style=\"padding-left: 1em; padding-right: 1em; text-align: center; vertical-align: top\">grey whale, gray whale,<br>devilfish, Eschrichti ...</td>\n",
        "        <td style=\"padding-left: 1em; padding-right: 1em; text-align: center; vertical-align: top\">http://scontent-b-mad.cdn<br>instagram.com/hphotos ...</td>\n",
        "        <td style=\"padding-left: 1em; padding-right: 1em; text-align: center; vertical-align: top\">{'gray': 1, 'robustus':<br>1, 'devilfish': 1, ...</td>\n",
        "    </tr>\n",
        "    <tr>\n",
        "        <td style=\"padding-left: 1em; padding-right: 1em; text-align: center; vertical-align: top\">0.649295032024</td>\n",
        "        <td style=\"padding-left: 1em; padding-right: 1em; text-align: center; vertical-align: top\">boathouse</td>\n",
        "        <td style=\"padding-left: 1em; padding-right: 1em; text-align: center; vertical-align: top\">http://scontent-a-mad.cdn<br>instagram.com/hphotos ...</td>\n",
        "        <td style=\"padding-left: 1em; padding-right: 1em; text-align: center; vertical-align: top\">{'boathouse': 1}</td>\n",
        "    </tr>\n",
        "    <tr>\n",
        "        <td style=\"padding-left: 1em; padding-right: 1em; text-align: center; vertical-align: top\">0.961999297142</td>\n",
        "        <td style=\"padding-left: 1em; padding-right: 1em; text-align: center; vertical-align: top\">steel arch bridge</td>\n",
        "        <td style=\"padding-left: 1em; padding-right: 1em; text-align: center; vertical-align: top\">http://scontent-a-mad.cdn<br>instagram.com/hphotos ...</td>\n",
        "        <td style=\"padding-left: 1em; padding-right: 1em; text-align: center; vertical-align: top\">{'steel': 1, 'bridge': 1,<br>'arch': 1}</td>\n",
        "    </tr>\n",
        "</table>\n",
        "<table frame=\"box\" rules=\"cols\">\n",
        "    <tr>\n",
        "        <th style=\"padding-left: 1em; padding-right: 1em; text-align: center\">class</th>\n",
        "    </tr>\n",
        "    <tr>\n",
        "        <td style=\"padding-left: 1em; padding-right: 1em; text-align: center; vertical-align: top\">NATURALEZA</td>\n",
        "    </tr>\n",
        "    <tr>\n",
        "        <td style=\"padding-left: 1em; padding-right: 1em; text-align: center; vertical-align: top\">MODA</td>\n",
        "    </tr>\n",
        "    <tr>\n",
        "        <td style=\"padding-left: 1em; padding-right: 1em; text-align: center; vertical-align: top\">NATURALEZA</td>\n",
        "    </tr>\n",
        "    <tr>\n",
        "        <td style=\"padding-left: 1em; padding-right: 1em; text-align: center; vertical-align: top\">NATURALEZA</td>\n",
        "    </tr>\n",
        "    <tr>\n",
        "        <td style=\"padding-left: 1em; padding-right: 1em; text-align: center; vertical-align: top\">DECORACION/MOBILIARIO</td>\n",
        "    </tr>\n",
        "    <tr>\n",
        "        <td style=\"padding-left: 1em; padding-right: 1em; text-align: center; vertical-align: top\">NATURALEZA</td>\n",
        "    </tr>\n",
        "    <tr>\n",
        "        <td style=\"padding-left: 1em; padding-right: 1em; text-align: center; vertical-align: top\">NATURALEZA</td>\n",
        "    </tr>\n",
        "    <tr>\n",
        "        <td style=\"padding-left: 1em; padding-right: 1em; text-align: center; vertical-align: top\">MODA</td>\n",
        "    </tr>\n",
        "    <tr>\n",
        "        <td style=\"padding-left: 1em; padding-right: 1em; text-align: center; vertical-align: top\">MODA</td>\n",
        "    </tr>\n",
        "    <tr>\n",
        "        <td style=\"padding-left: 1em; padding-right: 1em; text-align: center; vertical-align: top\">TURISMO</td>\n",
        "    </tr>\n",
        "    <tr>\n",
        "        <td style=\"padding-left: 1em; padding-right: 1em; text-align: center; vertical-align: top\">...</td>\n",
        "    </tr>\n",
        "</table>\n",
        "[27 rows x 5 columns]<br/>Note: Only the head of the SFrame is printed.<br/>You can use print_rows(num_rows=m, num_columns=n) to print more rows and columns.\n",
        "</div>"
       ],
       "metadata": {},
       "output_type": "pyout",
       "prompt_number": 39,
       "text": [
        "Columns:\n",
        "\tscore\tfloat\n",
        "\ttags\tstr\n",
        "\turl\tstr\n",
        "\tbow\tdict\n",
        "\tclass\tstr\n",
        "\n",
        "Rows: 27\n",
        "\n",
        "Data:\n",
        "+----------------+--------------------------------+\n",
        "|     score      |              tags              |\n",
        "+----------------+--------------------------------+\n",
        "| 0.745209395885 |       sandbar, sand bar        |\n",
        "| 0.730957567692 | academic gown, academic ro ... |\n",
        "| 0.50857681036  | seashore, coast, seacoast, ... |\n",
        "| 0.727730751038 |       sandbar, sand bar        |\n",
        "| 0.778630852699 | plane, carpenter's plane,  ... |\n",
        "| 0.573997914791 | seashore, coast, seacoast, ... |\n",
        "| 0.650481820107 | seashore, coast, seacoast, ... |\n",
        "| 0.744187653065 | grey whale, gray whale, de ... |\n",
        "| 0.649295032024 |           boathouse            |\n",
        "| 0.961999297142 |       steel arch bridge        |\n",
        "+----------------+--------------------------------+\n",
        "+--------------------------------+--------------------------------+\n",
        "|              url               |              bow               |\n",
        "+--------------------------------+--------------------------------+\n",
        "| http://scontent-b-mad.cdni ... | {'sand': 1, 'bar': 1, 'san ... |\n",
        "| http://scontent-b-mad.cdni ... | {'judge': 1, 'gown': 1, 'r ... |\n",
        "| http://scontent-a-mad.cdni ... | {'seashore': 1, 'seacoast' ... |\n",
        "| http://scontent-b-mad.cdni ... | {'sand': 1, 'bar': 1, 'san ... |\n",
        "| http://scontent-b-mad.cdni ... | {'woodworking': 1, 'carpen ... |\n",
        "| http://scontent-a-mad.cdni ... | {'seashore': 1, 'seacoast' ... |\n",
        "| http://scontent-a-mad.cdni ... | {'seashore': 1, 'seacoast' ... |\n",
        "| http://scontent-b-mad.cdni ... | {'gray': 1, 'robustus': 1, ... |\n",
        "| http://scontent-a-mad.cdni ... |        {'boathouse': 1}        |\n",
        "| http://scontent-a-mad.cdni ... | {'steel': 1, 'bridge': 1,  ... |\n",
        "+--------------------------------+--------------------------------+\n",
        "+-----------------------+\n",
        "|         class         |\n",
        "+-----------------------+\n",
        "|       NATURALEZA      |\n",
        "|          MODA         |\n",
        "|       NATURALEZA      |\n",
        "|       NATURALEZA      |\n",
        "| DECORACION/MOBILIARIO |\n",
        "|       NATURALEZA      |\n",
        "|       NATURALEZA      |\n",
        "|          MODA         |\n",
        "|          MODA         |\n",
        "|        TURISMO        |\n",
        "|          ...          |\n",
        "+-----------------------+\n",
        "[27 rows x 5 columns]\n",
        "Note: Only the head of the SFrame is printed.\n",
        "You can use print_rows(num_rows=m, num_columns=n) to print more rows and columns."
       ]
      }
     ],
     "prompt_number": 39
    },
    {
     "cell_type": "code",
     "collapsed": false,
     "input": [
      "resultados = etiquetas.groupby(\"class\", {'count':gl.aggregate.COUNT()})\n",
      "resultados"
     ],
     "language": "python",
     "metadata": {},
     "outputs": [
      {
       "html": [
        "<div style=\"max-height:1000px;max-width:1500px;overflow:auto;\"><table frame=\"box\" rules=\"cols\">\n",
        "    <tr>\n",
        "        <th style=\"padding-left: 1em; padding-right: 1em; text-align: center\">class</th>\n",
        "        <th style=\"padding-left: 1em; padding-right: 1em; text-align: center\">count</th>\n",
        "    </tr>\n",
        "    <tr>\n",
        "        <td style=\"padding-left: 1em; padding-right: 1em; text-align: center; vertical-align: top\">NATURALEZA</td>\n",
        "        <td style=\"padding-left: 1em; padding-right: 1em; text-align: center; vertical-align: top\">13</td>\n",
        "    </tr>\n",
        "    <tr>\n",
        "        <td style=\"padding-left: 1em; padding-right: 1em; text-align: center; vertical-align: top\">DECORACION/MOBILIARIO</td>\n",
        "        <td style=\"padding-left: 1em; padding-right: 1em; text-align: center; vertical-align: top\">1</td>\n",
        "    </tr>\n",
        "    <tr>\n",
        "        <td style=\"padding-left: 1em; padding-right: 1em; text-align: center; vertical-align: top\">MODA</td>\n",
        "        <td style=\"padding-left: 1em; padding-right: 1em; text-align: center; vertical-align: top\">11</td>\n",
        "    </tr>\n",
        "    <tr>\n",
        "        <td style=\"padding-left: 1em; padding-right: 1em; text-align: center; vertical-align: top\">ESPECTACULOS/EVENTOS</td>\n",
        "        <td style=\"padding-left: 1em; padding-right: 1em; text-align: center; vertical-align: top\">1</td>\n",
        "    </tr>\n",
        "    <tr>\n",
        "        <td style=\"padding-left: 1em; padding-right: 1em; text-align: center; vertical-align: top\">TURISMO</td>\n",
        "        <td style=\"padding-left: 1em; padding-right: 1em; text-align: center; vertical-align: top\">1</td>\n",
        "    </tr>\n",
        "</table>\n",
        "[5 rows x 2 columns]<br/>\n",
        "</div>"
       ],
       "metadata": {},
       "output_type": "pyout",
       "prompt_number": 40,
       "text": [
        "Columns:\n",
        "\tclass\tstr\n",
        "\tcount\tint\n",
        "\n",
        "Rows: 5\n",
        "\n",
        "Data:\n",
        "+-----------------------+-------+\n",
        "|         class         | count |\n",
        "+-----------------------+-------+\n",
        "|       NATURALEZA      |   13  |\n",
        "| DECORACION/MOBILIARIO |   1   |\n",
        "|          MODA         |   11  |\n",
        "|  ESPECTACULOS/EVENTOS |   1   |\n",
        "|        TURISMO        |   1   |\n",
        "+-----------------------+-------+\n",
        "[5 rows x 2 columns]"
       ]
      }
     ],
     "prompt_number": 40
    },
    {
     "cell_type": "code",
     "collapsed": false,
     "input": [
      "resultados.show()"
     ],
     "language": "python",
     "metadata": {},
     "outputs": [
      {
       "output_type": "stream",
       "stream": "stderr",
       "text": [
        "[WARNING] 403 POST /metrics (::1): XSRF cookie does not match POST argument\n"
       ]
      },
      {
       "output_type": "stream",
       "stream": "stderr",
       "text": [
        "[WARNING] 403 POST /metrics (::1): XSRF cookie does not match POST argument\n"
       ]
      },
      {
       "output_type": "stream",
       "stream": "stderr",
       "text": [
        "[WARNING] 403 POST /metrics (::1): XSRF cookie does not match POST argument\n"
       ]
      },
      {
       "output_type": "stream",
       "stream": "stderr",
       "text": [
        "[WARNING] 403 POST /metrics (::1): XSRF cookie does not match POST argument\n"
       ]
      },
      {
       "output_type": "stream",
       "stream": "stderr",
       "text": [
        "[WARNING] 403 POST /plot_params (::1): XSRF cookie does not match POST argument\n"
       ]
      },
      {
       "output_type": "stream",
       "stream": "stderr",
       "text": [
        "[WARNING] 403 POST /plot_params (::1): XSRF cookie does not match POST argument\n"
       ]
      },
      {
       "output_type": "stream",
       "stream": "stderr",
       "text": [
        "[WARNING] 403 POST /plot_params (::1): XSRF cookie does not match POST argument\n"
       ]
      },
      {
       "output_type": "stream",
       "stream": "stderr",
       "text": [
        "[WARNING] 403 POST /plot_params (::1): XSRF cookie does not match POST argument\n"
       ]
      },
      {
       "output_type": "stream",
       "stream": "stderr",
       "text": [
        "[WARNING] 403 POST /plot_params (::1): XSRF cookie does not match POST argument\n"
       ]
      },
      {
       "output_type": "stream",
       "stream": "stderr",
       "text": [
        "[WARNING] 403 POST /plot_params (::1): XSRF cookie does not match POST argument\n"
       ]
      },
      {
       "output_type": "stream",
       "stream": "stderr",
       "text": [
        "[WARNING] 403 POST /plot_params (::1): XSRF cookie does not match POST argument\n"
       ]
      },
      {
       "output_type": "stream",
       "stream": "stderr",
       "text": [
        "[WARNING] 403 POST /plot_params (::1): XSRF cookie does not match POST argument\n"
       ]
      },
      {
       "output_type": "stream",
       "stream": "stderr",
       "text": [
        "[WARNING] 403 POST /columns (::1): XSRF cookie does not match POST argument\n"
       ]
      },
      {
       "output_type": "stream",
       "stream": "stderr",
       "text": [
        "[WARNING] 403 POST /plot_params (::1): XSRF cookie does not match POST argument\n"
       ]
      },
      {
       "output_type": "stream",
       "stream": "stderr",
       "text": [
        "[WARNING] 403 POST /vars (::1): XSRF cookie does not match POST argument\n"
       ]
      },
      {
       "output_type": "stream",
       "stream": "stderr",
       "text": [
        "[WARNING] 403 POST /vars (::1): XSRF cookie does not match POST argument\n"
       ]
      },
      {
       "output_type": "stream",
       "stream": "stderr",
       "text": [
        "[WARNING] 403 POST /vars (::1): XSRF cookie does not match POST argument\n"
       ]
      },
      {
       "output_type": "stream",
       "stream": "stderr",
       "text": [
        "[WARNING] 403 POST /plot_params (::1): XSRF cookie does not match POST argument\n"
       ]
      },
      {
       "output_type": "stream",
       "stream": "stderr",
       "text": [
        "[WARNING] 403 POST /metrics (::1): XSRF cookie does not match POST argument\n"
       ]
      },
      {
       "output_type": "stream",
       "stream": "stderr",
       "text": [
        "[WARNING] 403 POST /metrics (::1): XSRF cookie does not match POST argument\n"
       ]
      },
      {
       "output_type": "stream",
       "stream": "stderr",
       "text": [
        "[WARNING] 403 POST /metrics (::1): XSRF cookie does not match POST argument\n"
       ]
      },
      {
       "output_type": "stream",
       "stream": "stderr",
       "text": [
        "[WARNING] 403 POST /metrics (::1): XSRF cookie does not match POST argument\n"
       ]
      },
      {
       "output_type": "stream",
       "stream": "stderr",
       "text": [
        "[WARNING] 403 POST /vars (::1): XSRF cookie does not match POST argument\n"
       ]
      }
     ],
     "prompt_number": 41
    },
    {
     "cell_type": "code",
     "collapsed": false,
     "input": [
      "#etiquetas.save('data_csv/Instagram_Res/'+user+'.csv', format='csv')"
     ],
     "language": "python",
     "metadata": {},
     "outputs": []
    },
    {
     "cell_type": "code",
     "collapsed": false,
     "input": [
      "clases"
     ],
     "language": "python",
     "metadata": {},
     "outputs": []
    },
    {
     "cell_type": "code",
     "collapsed": false,
     "input": [],
     "language": "python",
     "metadata": {},
     "outputs": []
    }
   ],
   "metadata": {}
  }
 ]
}