{
 "metadata": {
  "name": "",
  "signature": "sha256:4fc283b91c90801998fad3e4cabb4c4b76580ebea8e17af363b6f2fe10924ed2"
 },
 "nbformat": 3,
 "nbformat_minor": 0,
 "worksheets": [
  {
   "cells": [
    {
     "cell_type": "markdown",
     "metadata": {},
     "source": [
      "# PicProfiler\n",
      "\n",
      "*Analyzing user interests based on Instagram pictures*"
     ]
    },
    {
     "cell_type": "code",
     "collapsed": false,
     "input": [
      "# User examples: mirandakerr || muse || cristiano || barackobama || marcmarquez93 || kingjames || brunomars || jessicaalba \n",
      "#user = 'cristiano'\n",
      "user = 'marcmarquez93'\n",
      "#user = 'barackobama'\n",
      "#user = 'mirandakerr'"
     ],
     "language": "python",
     "metadata": {},
     "outputs": [],
     "prompt_number": 1
    },
    {
     "cell_type": "code",
     "collapsed": false,
     "input": [
      "# Configuration variables\n",
      "DEBUG = False\n",
      "LIMIT = 200"
     ],
     "language": "python",
     "metadata": {},
     "outputs": [],
     "prompt_number": 2
    },
    {
     "cell_type": "markdown",
     "metadata": {},
     "source": [
      "### Load custom categories"
     ]
    },
    {
     "cell_type": "code",
     "collapsed": false,
     "input": [
      "import csv\n",
      "def loadCategories(filename):\n",
      "    with open(filename, 'rb') as f:\n",
      "        reader = csv.reader(f)\n",
      "        return {row[1]:row[0] for row in reader}\n",
      "\n",
      "filename = 'tags2categories.csv'\n",
      "categories = loadCategories(filename)"
     ],
     "language": "python",
     "metadata": {},
     "outputs": [],
     "prompt_number": 3
    },
    {
     "cell_type": "markdown",
     "metadata": {},
     "source": [
      "## Web scraping"
     ]
    },
    {
     "cell_type": "code",
     "collapsed": true,
     "input": [
      "from BeautifulSoup import BeautifulSoup\n",
      "\n",
      "def get_urlpics(driver):\n",
      "    soup = BeautifulSoup(driver.page_source)\n",
      "    urlpics = map(lambda x: x['src'], soup.findAll('div', {'class':'pgmiThumb tThumbImage Image'}))\n",
      "    print \"%i pictures\" %len(urlpics)\n",
      "    return urlpics"
     ],
     "language": "python",
     "metadata": {},
     "outputs": [],
     "prompt_number": 4
    },
    {
     "cell_type": "code",
     "collapsed": true,
     "input": [
      "import selenium.webdriver as webdriver\n",
      "\n",
      "def browser_user_instagram(user):\n",
      "    url = 'http://instagram.com/'+user+'/'\n",
      "    driver = webdriver.Firefox()\n",
      "    driver.get(url)\n",
      "    driver.find_element_by_css_selector('.pgmiThumb')\n",
      "    not_all_images_loaded = True\n",
      "    \n",
      "    while not_all_images_loaded:\n",
      "\n",
      "        driver.find_element_by_class_name('PhotoGridMoreButton').click()\n",
      "        webElement = driver.find_element_by_css_selector('.PhotoGridMoreButton').text\n",
      "        urlpics = get_urlpics(driver)\n",
      "    \n",
      "        if (webElement == \"All items loaded\") or (webElement == \"Se han subido todos los elementos\") or (len(urlpics) >= LIMIT):\n",
      "            not_all_images_loaded = False\n",
      "            print webElement\n",
      "    driver.quit()\n",
      "    return urlpics"
     ],
     "language": "python",
     "metadata": {},
     "outputs": [],
     "prompt_number": 5
    },
    {
     "cell_type": "markdown",
     "metadata": {},
     "source": [
      "## Image analysis"
     ]
    },
    {
     "cell_type": "code",
     "collapsed": false,
     "input": [
      "import json\n",
      "import urllib2\n",
      "from IPython.display import *\n",
      "\n",
      "\n",
      "def analyze_image(urlimage):\n",
      "    SERVERNAME = \"ec2-107-20-103-251.compute-1.amazonaws.com\"\n",
      "    apirequest = \"http://\"+SERVERNAME+\":5000/classify_url?imageurl=\"\n",
      "    urlrequest = apirequest + urlimage\n",
      "    #urlrequest = urlrequest + \"&mode=1\"\n",
      "    \n",
      "    results = {\"url\":urlimage, \"tags\":'NaN', \"score\":-1.0}\n",
      "    try:\n",
      "        res = json.load(urllib2.urlopen(urlrequest))\n",
      "        result = res.items()[0]\n",
      "        results['url'] = urlimage\n",
      "        results['tags'] = result[0]\n",
      "        results['score'] = float(result[1])\n",
      "    except:\n",
      "        pass\n",
      "    return results"
     ],
     "language": "python",
     "metadata": {},
     "outputs": [],
     "prompt_number": 6
    },
    {
     "cell_type": "markdown",
     "metadata": {},
     "source": [
      "## Plot results"
     ]
    },
    {
     "cell_type": "code",
     "collapsed": false,
     "input": [
      "import warnings\n",
      "warnings.filterwarnings('ignore')\n",
      "\n",
      "import pandas as pd\n",
      "from pylab import *\n",
      "%matplotlib inline\n",
      "\n",
      "\n",
      "def plot_results(tags, k, N):\n",
      "    try:\n",
      "        df = pd.DataFrame(tags)\n",
      "        df['category'] = df.tags.map(categories)\n",
      "\n",
      "        mylist = df.query('score>0.8 and category not in [\"\",\"OTHERS\", @nan]').index.tolist()\n",
      "        \n",
      "        if (k%3== 0 or k==N-1):\n",
      "            clear_output()\n",
      "            imagesList=''.join( [\"\"\"\n",
      "            <figure style='display:inline-block'>\n",
      "                <img style='width: 120px; margin: 0px; float: left; border: 1px solid black;' src='%s' />\n",
      "                <figcaption style='display:table-caption; caption-side:bottom'>%s %s %s\n",
      "                </figcaption>\n",
      "            </figure>\n",
      "            \"\"\" %((df['url'][i], df['category'][i], df['tags'][i], df['score'][i]) if DEBUG else (df['url'][i], df['category'][i], \"\", \"\")) for i in mylist ])\n",
      "   \n",
      "            myserie = df.head(k).groupby(['category']).category.count()\n",
      "            if (not myserie.empty):\n",
      "                axes(aspect=1)\n",
      "                myserie.plot(kind='pie', figsize=(8, 8), shadow=True)\n",
      "    \n",
      "                suptitle(user, fontsize=30)\n",
      "                title(\"Processed (%i/%i)\" %(k+1,N))\n",
      "                display(HTML(imagesList),show())\n",
      "    \n",
      "    except Exception as exception:\n",
      "        raise exception\n",
      "    return"
     ],
     "language": "python",
     "metadata": {},
     "outputs": [],
     "prompt_number": 7
    },
    {
     "cell_type": "markdown",
     "metadata": {},
     "source": [
      "## Go!"
     ]
    },
    {
     "cell_type": "code",
     "collapsed": false,
     "input": [
      "urlpics = browser_user_instagram(user)\n",
      "N = min(len(urlpics), LIMIT)"
     ],
     "language": "python",
     "metadata": {},
     "outputs": [
      {
       "output_type": "stream",
       "stream": "stdout",
       "text": [
        "20 pictures\n",
        "40 pictures"
       ]
      },
      {
       "output_type": "stream",
       "stream": "stdout",
       "text": [
        "\n",
        "60 pictures"
       ]
      },
      {
       "output_type": "stream",
       "stream": "stdout",
       "text": [
        "\n",
        "80 pictures"
       ]
      },
      {
       "output_type": "stream",
       "stream": "stdout",
       "text": [
        "\n",
        "100 pictures"
       ]
      },
      {
       "output_type": "stream",
       "stream": "stdout",
       "text": [
        "\n",
        "120 pictures"
       ]
      },
      {
       "output_type": "stream",
       "stream": "stdout",
       "text": [
        "\n",
        "140 pictures"
       ]
      },
      {
       "output_type": "stream",
       "stream": "stdout",
       "text": [
        "\n",
        "160 pictures"
       ]
      },
      {
       "output_type": "stream",
       "stream": "stdout",
       "text": [
        "\n",
        "180 pictures"
       ]
      },
      {
       "output_type": "stream",
       "stream": "stdout",
       "text": [
        "\n",
        "200 pictures"
       ]
      },
      {
       "output_type": "stream",
       "stream": "stdout",
       "text": [
        "\n",
        "Loading more\u2026\n"
       ]
      }
     ],
     "prompt_number": 8
    },
    {
     "cell_type": "code",
     "collapsed": false,
     "input": [
      "tags = []\n",
      "for i in range(N):\n",
      "    newtag = analyze_image(urlpics[i])\n",
      "    tags.append(newtag)\n",
      "    plot_results(tags, i, N)"
     ],
     "language": "python",
     "metadata": {},
     "outputs": [
      {
       "metadata": {},
       "output_type": "display_data",
       "png": "[encoded data removed]",
       "text": [
        "<matplotlib.figure.Figure at 0x7f8d99787150>"
       ]
      },
      {
       "html": [
        "\n",
        "            <figure style='display:inline-block'>\n",
        "                <img style='width: 120px; margin: 0px; float: left; border: 1px solid black;' src='https://scontent.cdninstagram.com/hphotos-xpf1/t51.2885-15/e15/11055791_446051002227315_1883075160_n.jpg' />\n",
        "                <figcaption style='display:table-caption; caption-side:bottom'>AUTOMOTIVE/MOTORBIKES  \n",
        "                </figcaption>\n",
        "            </figure>\n",
        "            \n",
        "            <figure style='display:inline-block'>\n",
        "                <img style='width: 120px; margin: 0px; float: left; border: 1px solid black;' src='https://scontent.cdninstagram.com/hphotos-xfp1/t51.2885-15/e15/10995039_344741489067655_2050583344_n.jpg' />\n",
        "                <figcaption style='display:table-caption; caption-side:bottom'>AUTOMOTIVE/MOTORBIKES  \n",
        "                </figcaption>\n",
        "            </figure>\n",
        "            \n",
        "            <figure style='display:inline-block'>\n",
        "                <img style='width: 120px; margin: 0px; float: left; border: 1px solid black;' src='https://scontent.cdninstagram.com/hphotos-xpf1/t51.2885-15/e15/11015530_799716023397338_1710822427_n.jpg' />\n",
        "                <figcaption style='display:table-caption; caption-side:bottom'>AUTOMOTIVE/MOTORBIKES  \n",
        "                </figcaption>\n",
        "            </figure>\n",
        "            \n",
        "            <figure style='display:inline-block'>\n",
        "                <img style='width: 120px; margin: 0px; float: left; border: 1px solid black;' src='https://scontent.cdninstagram.com/hphotos-xfa1/t51.2885-15/e15/10748134_538057872963889_1945234283_n.jpg' />\n",
        "                <figcaption style='display:table-caption; caption-side:bottom'>AUTOMOTIVE/MOTORBIKES  \n",
        "                </figcaption>\n",
        "            </figure>\n",
        "            "
       ],
       "metadata": {},
       "output_type": "display_data",
       "text": [
        "<IPython.core.display.HTML at 0x7f8d9979fb90>"
       ]
      },
      {
       "metadata": {},
       "output_type": "display_data",
       "text": [
        "None"
       ]
      }
     ],
     "prompt_number": 9
    },
    {
     "cell_type": "code",
     "collapsed": false,
     "input": [
      "def debug(tags):\n",
      "    df = pd.DataFrame(tags)\n",
      "    df['category'] = df.tags.map(categories)\n",
      "    mylist = df[df.category.isnull()].index\n",
      "    imagesList=''.join( [\"\"\"\n",
      "            <figure style='display:inline-block'>\n",
      "                <img style='width: 120px; margin: 0px; float: left; border: 1px solid black;' src='%s' />\n",
      "                <figcaption style='display:table-caption; caption-side:bottom'>%s %s %s\n",
      "                </figcaption>\n",
      "            </figure>\"\"\" %(df['url'][i], df['category'][i], df['tags'][i], df['score'][i]) for i in mylist ])\n",
      "    display(HTML(imagesList))"
     ],
     "language": "python",
     "metadata": {},
     "outputs": [],
     "prompt_number": 10
    },
    {
     "cell_type": "code",
     "collapsed": false,
     "input": [
      "if DEBUG:\n",
      "    debug(tags)"
     ],
     "language": "python",
     "metadata": {},
     "outputs": [],
     "prompt_number": 11
    }
   ],
   "metadata": {}
  }
 ]
}