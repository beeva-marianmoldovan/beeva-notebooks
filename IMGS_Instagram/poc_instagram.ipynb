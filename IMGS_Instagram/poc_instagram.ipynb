{
 "metadata": {
  "name": "",
  "signature": "sha256:4fc283b91c90801998fad3e4cabb4c4b76580ebea8e17af363b6f2fe10924ed2"
 },
 "nbformat": 3,
 "nbformat_minor": 0,
 "worksheets": [
  {
   "cells": [
    {
     "cell_type": "markdown",
     "metadata": {},
     "source": [
      "# PicProfiler\n",
      "\n",
      "*Analyzing user interests based on Instagram pictures*"
     ]
    },
    {
     "cell_type": "code",
     "collapsed": false,
     "input": [
      "# User examples: mirandakerr || muse || cristiano || barackobama || || marcmarquez93 || kingjames || brunomars || jessicaalba \n",
      "#user = 'cristiano'\n",
      "user = 'marcmarquez93'"
     ],
     "language": "python",
     "metadata": {},
     "outputs": [],
     "prompt_number": 1
    },
    {
     "cell_type": "markdown",
     "metadata": {},
     "source": [
      "### Load custom categories"
     ]
    },
    {
     "cell_type": "code",
     "collapsed": false,
     "input": [
      "import csv\n",
      "def loadCategories(filename):\n",
      "    with open(filename, 'rb') as f:\n",
      "        reader = csv.reader(f)\n",
      "        return {row[1]:row[0] for row in reader}\n",
      "\n",
      "filename = 'tags2categories.csv'\n",
      "categories = loadCategories(filename)"
     ],
     "language": "python",
     "metadata": {},
     "outputs": [],
     "prompt_number": 2
    },
    {
     "cell_type": "markdown",
     "metadata": {},
     "source": [
      "## Web scraping"
     ]
    },
    {
     "cell_type": "code",
     "collapsed": true,
     "input": [
      "from BeautifulSoup import BeautifulSoup\n",
      "\n",
      "def get_urlpics(driver):\n",
      "    soup = BeautifulSoup(driver.page_source)\n",
      "    urlpics = map(lambda x: x['src'], soup.findAll('div', {'class':'pgmiThumb tThumbImage Image'}))\n",
      "    print \"%i pictures\" %len(urlpics)\n",
      "    return urlpics"
     ],
     "language": "python",
     "metadata": {},
     "outputs": [],
     "prompt_number": 3
    },
    {
     "cell_type": "code",
     "collapsed": true,
     "input": [
      "import selenium.webdriver as webdriver\n",
      "\n",
      "def browser_user_instagram(user):\n",
      "    url = 'http://instagram.com/'+user+'/'\n",
      "    driver = webdriver.Firefox()\n",
      "    driver.get(url)\n",
      "    driver.find_element_by_css_selector('.pgmiThumb')\n",
      "    not_all_images_loaded = True\n",
      "    \n",
      "    while not_all_images_loaded:\n",
      "\n",
      "        driver.find_element_by_class_name('PhotoGridMoreButton').click()\n",
      "        webElement = driver.find_element_by_css_selector('.PhotoGridMoreButton').text\n",
      "        urlpics = get_urlpics(driver)\n",
      "    \n",
      "        if (webElement == \"All items loaded\") or (webElement == \"Se han subido todos los elementos\"):\n",
      "            not_all_images_loaded = False\n",
      "            print webElement\n",
      "    driver.quit()\n",
      "    return urlpics"
     ],
     "language": "python",
     "metadata": {},
     "outputs": [],
     "prompt_number": 4
    },
    {
     "cell_type": "markdown",
     "metadata": {},
     "source": [
      "## Image analysis"
     ]
    },
    {
     "cell_type": "code",
     "collapsed": false,
     "input": [
      "import json\n",
      "import urllib2\n",
      "from IPython.display import Image\n",
      "\n",
      "\n",
      "def analyze_image(urlimage):\n",
      "    SERVERNAME = \"ec2-54-159-167-173.compute-1.amazonaws.com\"\n",
      "    apirequest = \"http://\"+SERVERNAME+\":5000/classify_url?imageurl=\"\n",
      "    urlrequest = apirequest + urlimage\n",
      "    #urlrequest = urlrequest + \"&mode=1\"\n",
      "    \n",
      "    results = {\"url\":urlimage, \"tags\":'NaN', \"score\":'-1.0'}\n",
      "    try:\n",
      "        res = json.load(urllib2.urlopen(urlrequest))\n",
      "        result = res.items()[0]\n",
      "        results['url'] = urlimage\n",
      "        results['tags'] = result[0]\n",
      "        results['score'] = float(result[1])\n",
      "    except:\n",
      "        pass\n",
      "    return results"
     ],
     "language": "python",
     "metadata": {},
     "outputs": [],
     "prompt_number": 5
    },
    {
     "cell_type": "markdown",
     "metadata": {},
     "source": [
      "## Plot results"
     ]
    },
    {
     "cell_type": "code",
     "collapsed": false,
     "input": [
      "from pylab import *\n",
      "%matplotlib inline\n",
      "from IPython.display import *\n",
      "import pandas as pd\n",
      "\n",
      "mylist = []\n",
      "def plot_results(tags, k, N):\n",
      "    try:\n",
      "        df = pd.DataFrame(tags)\n",
      "        df['category'] = df.tags.map(categories)\n",
      "\n",
      "        mylist = df.query('score>0.8 and category != \"\"').index.tolist()\n",
      "    \n",
      "        if (k%3== 0):\n",
      "            clear_output()\n",
      "        \n",
      "            imagesList=''.join( [\"\"\"\n",
      "            <figure style='display:inline-block'>\n",
      "                <img style='width: 120px; margin: 0px; float: left; border: 1px solid black;' src='%s' />\n",
      "                <figcaption style='display:table-caption; caption-side:bottom'>%s %s %s\n",
      "                </figcaption>\n",
      "            </figure>\"\"\" % (df['url'][i], df['category'][i], df['tags'][i], df['score'][i]) for i in mylist ])\n",
      "   \n",
      "            myserie = df.head(k).groupby(['category']).category.count()\n",
      "            axes(aspect=1)\n",
      "            myserie.plot(kind='pie', figsize=(8, 8), shadow=True)\n",
      "    \n",
      "            suptitle(user, fontsize=30)\n",
      "            title(\"Processed (%i/%i)\" %(k+1,N))\n",
      "            display(HTML(imagesList),show())\n",
      "    \n",
      "    except Exception as exception:\n",
      "        raise exception\n",
      "    return"
     ],
     "language": "python",
     "metadata": {},
     "outputs": [
      {
       "output_type": "stream",
       "stream": "stderr",
       "text": [
        "/home/enrique/herramientas/virtualenvs/instagram/lib/python2.7/site-packages/pytz/__init__.py:29: UserWarning: Module numpy was already imported from /home/enrique/herramientas/anaconda/lib/python2.7/site-packages/numpy/__init__.pyc, but /home/enrique/herramientas/virtualenvs/instagram/lib/python2.7/site-packages is being added to sys.path\n",
        "  from pkg_resources import resource_stream\n"
       ]
      }
     ],
     "prompt_number": 6
    },
    {
     "cell_type": "markdown",
     "metadata": {},
     "source": [
      "## Go!"
     ]
    },
    {
     "cell_type": "code",
     "collapsed": false,
     "input": [
      "urlpics = browser_user_instagram(user)\n",
      "N = len(urlpics)\n",
      "#N = 20"
     ],
     "language": "python",
     "metadata": {},
     "outputs": [
      {
       "output_type": "stream",
       "stream": "stdout",
       "text": [
        "20 pictures\n",
        "40 pictures"
       ]
      },
      {
       "output_type": "stream",
       "stream": "stdout",
       "text": [
        "\n",
        "60 pictures"
       ]
      },
      {
       "output_type": "stream",
       "stream": "stdout",
       "text": [
        "\n",
        "80 pictures"
       ]
      },
      {
       "output_type": "stream",
       "stream": "stdout",
       "text": [
        "\n",
        "100 pictures"
       ]
      },
      {
       "output_type": "stream",
       "stream": "stdout",
       "text": [
        "\n",
        "120 pictures"
       ]
      },
      {
       "output_type": "stream",
       "stream": "stdout",
       "text": [
        "\n",
        "140 pictures"
       ]
      },
      {
       "output_type": "stream",
       "stream": "stdout",
       "text": [
        "\n",
        "160 pictures"
       ]
      },
      {
       "output_type": "stream",
       "stream": "stdout",
       "text": [
        "\n",
        "180 pictures"
       ]
      },
      {
       "output_type": "stream",
       "stream": "stdout",
       "text": [
        "\n",
        "200 pictures"
       ]
      },
      {
       "output_type": "stream",
       "stream": "stdout",
       "text": [
        "\n",
        "220 pictures"
       ]
      },
      {
       "output_type": "stream",
       "stream": "stdout",
       "text": [
        "\n",
        "240 pictures"
       ]
      },
      {
       "output_type": "stream",
       "stream": "stdout",
       "text": [
        "\n",
        "260 pictures"
       ]
      },
      {
       "output_type": "stream",
       "stream": "stdout",
       "text": [
        "\n",
        "280 pictures"
       ]
      },
      {
       "output_type": "stream",
       "stream": "stdout",
       "text": [
        "\n",
        "300 pictures"
       ]
      },
      {
       "output_type": "stream",
       "stream": "stdout",
       "text": [
        "\n",
        "340 pictures"
       ]
      },
      {
       "output_type": "stream",
       "stream": "stdout",
       "text": [
        "\n",
        "360 pictures"
       ]
      },
      {
       "output_type": "stream",
       "stream": "stdout",
       "text": [
        "\n",
        "380 pictures"
       ]
      },
      {
       "output_type": "stream",
       "stream": "stdout",
       "text": [
        "\n",
        "400 pictures"
       ]
      },
      {
       "output_type": "stream",
       "stream": "stdout",
       "text": [
        "\n",
        "420 pictures"
       ]
      },
      {
       "output_type": "stream",
       "stream": "stdout",
       "text": [
        "\n",
        "440 pictures"
       ]
      },
      {
       "output_type": "stream",
       "stream": "stdout",
       "text": [
        "\n",
        "460 pictures"
       ]
      },
      {
       "output_type": "stream",
       "stream": "stdout",
       "text": [
        "\n",
        "480 pictures"
       ]
      },
      {
       "output_type": "stream",
       "stream": "stdout",
       "text": [
        "\n",
        "496 pictures"
       ]
      },
      {
       "output_type": "stream",
       "stream": "stdout",
       "text": [
        "\n",
        "All items loaded\n"
       ]
      }
     ],
     "prompt_number": 7
    },
    {
     "cell_type": "code",
     "collapsed": false,
     "input": [
      "tags = []\n",
      "for i in range(N):\n",
      "    tags.append(analyze_image(urlpics[i]))\n",
      "    plot_results(tags, i, N)\n"
     ],
     "language": "python",
     "metadata": {},
     "outputs": [
      {
       "metadata": {},
       "output_type": "display_data",
       "png": "[encoded data removed]",
       "text": [
        "<matplotlib.figure.Figure at 0x7f0b7d2a1ed0>"
       ]
      },
      {
       "html": [
        "\n",
        "            <figure style='display:inline-block'>\n",
        "                <img style='width: 120px; margin: 0px; float: left; border: 1px solid black;' src='https://scontent.cdninstagram.com/hphotos-xpf1/t51.2885-15/e15/11055791_446051002227315_1883075160_n.jpg' />\n",
        "                <figcaption style='display:table-caption; caption-side:bottom'>AUTOMOTIVE/MOTORBIKES crash helmet 0.80806\n",
        "                </figcaption>\n",
        "            </figure>\n",
        "            <figure style='display:inline-block'>\n",
        "                <img style='width: 120px; margin: 0px; float: left; border: 1px solid black;' src='https://scontent.cdninstagram.com/hphotos-xfp1/t51.2885-15/e15/10995039_344741489067655_2050583344_n.jpg' />\n",
        "                <figcaption style='display:table-caption; caption-side:bottom'>AUTOMOTIVE/MOTORBIKES crash helmet 0.91693\n",
        "                </figcaption>\n",
        "            </figure>\n",
        "            <figure style='display:inline-block'>\n",
        "                <img style='width: 120px; margin: 0px; float: left; border: 1px solid black;' src='https://scontent.cdninstagram.com/hphotos-xpf1/t51.2885-15/e15/11015530_799716023397338_1710822427_n.jpg' />\n",
        "                <figcaption style='display:table-caption; caption-side:bottom'>AUTOMOTIVE/MOTORBIKES crash helmet 0.86941\n",
        "                </figcaption>\n",
        "            </figure>\n",
        "            <figure style='display:inline-block'>\n",
        "                <img style='width: 120px; margin: 0px; float: left; border: 1px solid black;' src='https://scontent.cdninstagram.com/hphotos-xfa1/t51.2885-15/e15/10748134_538057872963889_1945234283_n.jpg' />\n",
        "                <figcaption style='display:table-caption; caption-side:bottom'>AUTOMOTIVE/MOTORBIKES crash helmet 0.94371\n",
        "                </figcaption>\n",
        "            </figure>\n",
        "            <figure style='display:inline-block'>\n",
        "                <img style='width: 120px; margin: 0px; float: left; border: 1px solid black;' src='https://scontent.cdninstagram.com/hphotos-xaf1/t51.2885-15/e15/10727502_286640268192509_208648214_n.jpg' />\n",
        "                <figcaption style='display:table-caption; caption-side:bottom'>AUTOMOTIVE/MOTORBIKES crash helmet 0.93755\n",
        "                </figcaption>\n",
        "            </figure>\n",
        "            <figure style='display:inline-block'>\n",
        "                <img style='width: 120px; margin: 0px; float: left; border: 1px solid black;' src='https://scontent.cdninstagram.com/hphotos-xpf1/t51.2885-15/e15/1390451_724875934262686_1341514791_n.jpg' />\n",
        "                <figcaption style='display:table-caption; caption-side:bottom'>SPORTS puck 0.80059\n",
        "                </figcaption>\n",
        "            </figure>\n",
        "            <figure style='display:inline-block'>\n",
        "                <img style='width: 120px; margin: 0px; float: left; border: 1px solid black;' src='https://scontent.cdninstagram.com/hphotos-xtf1/t51.2885-15/e15/10616773_1544495032432373_367626747_n.jpg' />\n",
        "                <figcaption style='display:table-caption; caption-side:bottom'>AUTOMOTIVE/MOTORBIKES crash helmet 0.9442\n",
        "                </figcaption>\n",
        "            </figure>\n",
        "            <figure style='display:inline-block'>\n",
        "                <img style='width: 120px; margin: 0px; float: left; border: 1px solid black;' src='https://scontent.cdninstagram.com/hphotos-xaf1/t51.2885-15/e15/10632366_395222470625021_1214923219_n.jpg' />\n",
        "                <figcaption style='display:table-caption; caption-side:bottom'>AUTOMOTIVE/MOTORBIKES crash helmet 0.86425\n",
        "                </figcaption>\n",
        "            </figure>\n",
        "            <figure style='display:inline-block'>\n",
        "                <img style='width: 120px; margin: 0px; float: left; border: 1px solid black;' src='https://scontent.cdninstagram.com/hphotos-xfp1/t51.2885-15/e15/10608097_760971650612944_1908894824_n.jpg' />\n",
        "                <figcaption style='display:table-caption; caption-side:bottom'>AUTOMOTIVE/MOTORBIKES crash helmet 0.93865\n",
        "                </figcaption>\n",
        "            </figure>\n",
        "            <figure style='display:inline-block'>\n",
        "                <img style='width: 120px; margin: 0px; float: left; border: 1px solid black;' src='https://scontent.cdninstagram.com/hphotos-xpf1/t51.2885-15/e15/928013_1504917669724311_402545266_n.jpg' />\n",
        "                <figcaption style='display:table-caption; caption-side:bottom'>AUTOMOTIVE/MOTORBIKES crash helmet 0.83683\n",
        "                </figcaption>\n",
        "            </figure>\n",
        "            <figure style='display:inline-block'>\n",
        "                <img style='width: 120px; margin: 0px; float: left; border: 1px solid black;' src='https://scontent.cdninstagram.com/hphotos-xpt1/t51.2885-15/e15/1515233_285526494960582_1960897776_n.jpg' />\n",
        "                <figcaption style='display:table-caption; caption-side:bottom'>AUTOMOTIVE/MOTORBIKES crash helmet 0.80628\n",
        "                </figcaption>\n",
        "            </figure>\n",
        "            <figure style='display:inline-block'>\n",
        "                <img style='width: 120px; margin: 0px; float: left; border: 1px solid black;' src='https://scontent.cdninstagram.com/hphotos-xpa1/t51.2885-15/e15/10513724_731209503605253_304853207_n.jpg' />\n",
        "                <figcaption style='display:table-caption; caption-side:bottom'>AUTOMOTIVE/MOTORBIKES crash helmet 0.97162\n",
        "                </figcaption>\n",
        "            </figure>\n",
        "            <figure style='display:inline-block'>\n",
        "                <img style='width: 120px; margin: 0px; float: left; border: 1px solid black;' src='https://scontent.cdninstagram.com/hphotos-xpa1/t51.2885-15/e15/10326613_1405671619718321_666575828_n.jpg' />\n",
        "                <figcaption style='display:table-caption; caption-side:bottom'>AUTOMOTIVE/MOTORBIKES crash helmet 0.87774\n",
        "                </figcaption>\n",
        "            </figure>\n",
        "            <figure style='display:inline-block'>\n",
        "                <img style='width: 120px; margin: 0px; float: left; border: 1px solid black;' src='https://scontent.cdninstagram.com/hphotos-xfa1/t51.2885-15/e15/10245928_1477787365787194_775925880_n.jpg' />\n",
        "                <figcaption style='display:table-caption; caption-side:bottom'>SPORTS bearskin 0.91048\n",
        "                </figcaption>\n",
        "            </figure>"
       ],
       "metadata": {},
       "output_type": "display_data",
       "text": [
        "<IPython.core.display.HTML at 0x7f0b7d483690>"
       ]
      },
      {
       "metadata": {},
       "output_type": "display_data",
       "text": [
        "None"
       ]
      }
     ],
     "prompt_number": 8
    }
   ],
   "metadata": {}
  }
 ]
}