{
 "metadata": {
  "name": "",
  "signature": "sha256:4fc283b91c90801998fad3e4cabb4c4b76580ebea8e17af363b6f2fe10924ed2"
 },
 "nbformat": 3,
 "nbformat_minor": 0,
 "worksheets": [
  {
   "cells": [
    {
     "cell_type": "markdown",
     "metadata": {},
     "source": [
      "# PicProfiler\n",
      "\n",
      "*Analyzing user interests based on Instagram pictures*"
     ]
    },
    {
     "cell_type": "markdown",
     "metadata": {},
     "source": [
      "## Web scraping"
     ]
    },
    {
     "cell_type": "code",
     "collapsed": false,
     "input": [
      "# User examples: mirandakerr || muse || cristiano || barackobama || || marcmarquez93 || kingjames || brunomars || jessicaalba \n",
      "user = 'cristiano'"
     ],
     "language": "python",
     "metadata": {},
     "outputs": [],
     "prompt_number": 1
    },
    {
     "cell_type": "code",
     "collapsed": true,
     "input": [
      "import selenium.webdriver as webdriver\n",
      "url = 'http://instagram.com/'+user+'/'\n",
      "driver = webdriver.Firefox()\n",
      "driver.get(url)\n",
      "driver.find_element_by_css_selector('.pgmiThumb')\n",
      "not_all_images_loaded = True"
     ],
     "language": "python",
     "metadata": {},
     "outputs": [],
     "prompt_number": 2
    },
    {
     "cell_type": "code",
     "collapsed": true,
     "input": [
      "import time\n",
      "while not_all_images_loaded:\n",
      "\n",
      "    driver.find_element_by_class_name('PhotoGridMoreButton').click()\n",
      "    time.sleep(3)\n",
      "    webElement = driver.find_element_by_css_selector('.PhotoGridMoreButton').text\n",
      "    \n",
      "    if (webElement == \"All items loaded\") or (webElement == \"Se han subido todos los elementos\"):\n",
      "        not_all_images_loaded = False\n",
      "        print webElement"
     ],
     "language": "python",
     "metadata": {},
     "outputs": [
      {
       "output_type": "stream",
       "stream": "stdout",
       "text": [
        "All items loaded\n"
       ]
      }
     ],
     "prompt_number": 3
    },
    {
     "cell_type": "code",
     "collapsed": true,
     "input": [
      "from BeautifulSoup import BeautifulSoup\n",
      "soup = BeautifulSoup(driver.page_source)\n",
      "urlpics = map(lambda x: x['src'], soup.findAll('div', {'class':'pgmiThumb tThumbImage Image'}))\n",
      "print len(urlpics)"
     ],
     "language": "python",
     "metadata": {},
     "outputs": [
      {
       "output_type": "stream",
       "stream": "stdout",
       "text": [
        "389\n"
       ]
      }
     ],
     "prompt_number": 4
    },
    {
     "cell_type": "code",
     "collapsed": true,
     "input": [
      "driver.quit()"
     ],
     "language": "python",
     "metadata": {},
     "outputs": [],
     "prompt_number": 5
    },
    {
     "cell_type": "markdown",
     "metadata": {},
     "source": [
      "## Image analysis"
     ]
    },
    {
     "cell_type": "code",
     "collapsed": false,
     "input": [
      "import json\n",
      "import urllib2\n",
      "\n",
      "def predict_image_url(urlimage):\n",
      "    apirequest = \"http://ec2-54-90-22-32.compute-1.amazonaws.com:5000/classify_url?imageurl=\"\n",
      "    url = apirequest + urlimage\n",
      "    result = json.load(urllib2.urlopen(url))\n",
      "    return result"
     ],
     "language": "python",
     "metadata": {},
     "outputs": [],
     "prompt_number": 6
    },
    {
     "cell_type": "code",
     "collapsed": false,
     "input": [
      "def analyze_image(item):\n",
      "    results = {\"url\":[], \"tags\":[], \"score\":[]}\n",
      "    try:\n",
      "        res = predict_image_url(item)\n",
      "        result = res.items()[0]\n",
      "        results['url'] = item\n",
      "        results['tags'] = result[0]\n",
      "        results['score'] = float(result[1])\n",
      "    except:\n",
      "        pass\n",
      "    return results"
     ],
     "language": "python",
     "metadata": {},
     "outputs": [],
     "prompt_number": 7
    },
    {
     "cell_type": "code",
     "collapsed": true,
     "input": [
      "from ipy_progressbar import ProgressBar\n",
      "\n",
      "tags = []\n",
      "#N = len(urlpics)\n",
      "N = 10\n",
      "\n",
      "pb = ProgressBar(N, title='Processed pictures', key='outer')\n",
      "for i in pb:\n",
      "    tags.append(analyze_image(urlpics[i]))\n",
      "\n",
      "import pandas as pd\n",
      "df = pd.DataFrame(tags)\n",
      "df.head(10)"
     ],
     "language": "python",
     "metadata": {},
     "outputs": [
      {
       "javascript": [
        "$(\"[data-key='outer']\").parent().parent().remove()"
       ],
       "metadata": {},
       "output_type": "display_data"
      },
      {
       "html": [
        "\n",
        "            <style>\n",
        "                .progress {\n",
        "                    text-align:center;\n",
        "                }\n",
        "\n",
        "                .progress > .progress-bar {\n",
        "                    transition-property: none;\n",
        "                }\n",
        "\n",
        "                .progress > .text {\n",
        "                    position: absolute;\n",
        "                    right: 0;\n",
        "                    left: 0;\n",
        "                }\n",
        "            </style>\n",
        "\n",
        "            <h3>Processed pictures:</h3>\n",
        "\n",
        "            <div class=\"progress\" id=\"ad6785550-baf6-4cae-8c98-59b7bceaecdc\" data-key=\"outer\">\n",
        "                <div class=\"progress-bar progress-bar-success completed-part\" style=\"width: 0%\"></div>\n",
        "                <div class=\"progress-bar progress-bar-warning running-part\" style=\"width: 100%\"></div>\n",
        "                <span class=\"text\">\n",
        "                    <span class=\"main\">Starting...</span>\n",
        "                    <span class=\"extra\"></span>\n",
        "                </span>\n",
        "            </div>\n",
        "            "
       ],
       "metadata": {},
       "output_type": "display_data"
      },
      {
       "javascript": [
        "$(\"#ad6785550-baf6-4cae-8c98-59b7bceaecdc > .completed-part\").css(\"width\", \"0.000000%\")"
       ],
       "metadata": {},
       "output_type": "display_data"
      },
      {
       "javascript": [
        "$(\"#ad6785550-baf6-4cae-8c98-59b7bceaecdc > .running-part\").css(\"width\", \"10.000000%\")"
       ],
       "metadata": {},
       "output_type": "display_data"
      },
      {
       "javascript": [
        "$(\"#ad6785550-baf6-4cae-8c98-59b7bceaecdc > .text > .main\").text(\"0/10 (0%) in 0.0 s, nan s last iter; eta nan+-nan s\")"
       ],
       "metadata": {},
       "output_type": "display_data"
      },
      {
       "javascript": [
        "$(\"#ad6785550-baf6-4cae-8c98-59b7bceaecdc > .completed-part\").css(\"width\", \"10.000000%\")"
       ],
       "metadata": {},
       "output_type": "display_data"
      },
      {
       "javascript": [
        "$(\"#ad6785550-baf6-4cae-8c98-59b7bceaecdc > .running-part\").css(\"width\", \"10.000000%\")"
       ],
       "metadata": {},
       "output_type": "display_data"
      },
      {
       "javascript": [
        "$(\"#ad6785550-baf6-4cae-8c98-59b7bceaecdc > .text > .main\").text(\"1/10 (10%) in 7.5 s, 7.52 s last iter; eta 68+-0 s\")"
       ],
       "metadata": {},
       "output_type": "display_data"
      },
      {
       "javascript": [
        "$(\"#ad6785550-baf6-4cae-8c98-59b7bceaecdc > .completed-part\").css(\"width\", \"20.000000%\")"
       ],
       "metadata": {},
       "output_type": "display_data"
      },
      {
       "javascript": [
        "$(\"#ad6785550-baf6-4cae-8c98-59b7bceaecdc > .running-part\").css(\"width\", \"10.000000%\")"
       ],
       "metadata": {},
       "output_type": "display_data"
      },
      {
       "javascript": [
        "$(\"#ad6785550-baf6-4cae-8c98-59b7bceaecdc > .text > .main\").text(\"2/10 (20%) in 15.0 s, 7.45 s last iter; eta 60+-0 s\")"
       ],
       "metadata": {},
       "output_type": "display_data"
      },
      {
       "javascript": [
        "$(\"#ad6785550-baf6-4cae-8c98-59b7bceaecdc > .completed-part\").css(\"width\", \"30.000000%\")"
       ],
       "metadata": {},
       "output_type": "display_data"
      },
      {
       "javascript": [
        "$(\"#ad6785550-baf6-4cae-8c98-59b7bceaecdc > .running-part\").css(\"width\", \"10.000000%\")"
       ],
       "metadata": {},
       "output_type": "display_data"
      },
      {
       "javascript": [
        "$(\"#ad6785550-baf6-4cae-8c98-59b7bceaecdc > .text > .main\").text(\"3/10 (30%) in 22.6 s, 7.64 s last iter; eta 53+-1 s\")"
       ],
       "metadata": {},
       "output_type": "display_data"
      },
      {
       "javascript": [
        "$(\"#ad6785550-baf6-4cae-8c98-59b7bceaecdc > .completed-part\").css(\"width\", \"40.000000%\")"
       ],
       "metadata": {},
       "output_type": "display_data"
      },
      {
       "javascript": [
        "$(\"#ad6785550-baf6-4cae-8c98-59b7bceaecdc > .running-part\").css(\"width\", \"10.000000%\")"
       ],
       "metadata": {},
       "output_type": "display_data"
      },
      {
       "javascript": [
        "$(\"#ad6785550-baf6-4cae-8c98-59b7bceaecdc > .text > .main\").text(\"4/10 (40%) in 30.0 s, 7.39 s last iter; eta 45+-1 s\")"
       ],
       "metadata": {},
       "output_type": "display_data"
      },
      {
       "javascript": [
        "$(\"#ad6785550-baf6-4cae-8c98-59b7bceaecdc > .completed-part\").css(\"width\", \"50.000000%\")"
       ],
       "metadata": {},
       "output_type": "display_data"
      },
      {
       "javascript": [
        "$(\"#ad6785550-baf6-4cae-8c98-59b7bceaecdc > .running-part\").css(\"width\", \"10.000000%\")"
       ],
       "metadata": {},
       "output_type": "display_data"
      },
      {
       "javascript": [
        "$(\"#ad6785550-baf6-4cae-8c98-59b7bceaecdc > .text > .main\").text(\"5/10 (50%) in 37.3 s, 7.28 s last iter; eta 37+-1 s\")"
       ],
       "metadata": {},
       "output_type": "display_data"
      },
      {
       "javascript": [
        "$(\"#ad6785550-baf6-4cae-8c98-59b7bceaecdc > .completed-part\").css(\"width\", \"60.000000%\")"
       ],
       "metadata": {},
       "output_type": "display_data"
      },
      {
       "javascript": [
        "$(\"#ad6785550-baf6-4cae-8c98-59b7bceaecdc > .running-part\").css(\"width\", \"10.000000%\")"
       ],
       "metadata": {},
       "output_type": "display_data"
      },
      {
       "javascript": [
        "$(\"#ad6785550-baf6-4cae-8c98-59b7bceaecdc > .text > .main\").text(\"6/10 (60%) in 44.4 s, 7.15 s last iter; eta 30+-1 s\")"
       ],
       "metadata": {},
       "output_type": "display_data"
      },
      {
       "javascript": [
        "$(\"#ad6785550-baf6-4cae-8c98-59b7bceaecdc > .completed-part\").css(\"width\", \"70.000000%\")"
       ],
       "metadata": {},
       "output_type": "display_data"
      },
      {
       "javascript": [
        "$(\"#ad6785550-baf6-4cae-8c98-59b7bceaecdc > .running-part\").css(\"width\", \"10.000000%\")"
       ],
       "metadata": {},
       "output_type": "display_data"
      },
      {
       "javascript": [
        "$(\"#ad6785550-baf6-4cae-8c98-59b7bceaecdc > .text > .main\").text(\"7/10 (70%) in 52.0 s, 7.54 s last iter; eta 22+-0 s\")"
       ],
       "metadata": {},
       "output_type": "display_data"
      },
      {
       "javascript": [
        "$(\"#ad6785550-baf6-4cae-8c98-59b7bceaecdc > .completed-part\").css(\"width\", \"80.000000%\")"
       ],
       "metadata": {},
       "output_type": "display_data"
      },
      {
       "javascript": [
        "$(\"#ad6785550-baf6-4cae-8c98-59b7bceaecdc > .running-part\").css(\"width\", \"10.000000%\")"
       ],
       "metadata": {},
       "output_type": "display_data"
      },
      {
       "javascript": [
        "$(\"#ad6785550-baf6-4cae-8c98-59b7bceaecdc > .text > .main\").text(\"8/10 (80%) in 59.4 s, 7.46 s last iter; eta 15+-0 s\")"
       ],
       "metadata": {},
       "output_type": "display_data"
      },
      {
       "javascript": [
        "$(\"#ad6785550-baf6-4cae-8c98-59b7bceaecdc > .completed-part\").css(\"width\", \"90.000000%\")"
       ],
       "metadata": {},
       "output_type": "display_data"
      },
      {
       "javascript": [
        "$(\"#ad6785550-baf6-4cae-8c98-59b7bceaecdc > .running-part\").css(\"width\", \"10.000000%\")"
       ],
       "metadata": {},
       "output_type": "display_data"
      },
      {
       "javascript": [
        "$(\"#ad6785550-baf6-4cae-8c98-59b7bceaecdc > .text > .main\").text(\"9/10 (90%) in 67.3 s, 7.89 s last iter; eta 7+-0 s\")"
       ],
       "metadata": {},
       "output_type": "display_data"
      },
      {
       "javascript": [
        "$(\"#ad6785550-baf6-4cae-8c98-59b7bceaecdc > .completed-part\").css(\"width\", \"100.000000%\")"
       ],
       "metadata": {},
       "output_type": "display_data"
      },
      {
       "javascript": [
        "$(\"#ad6785550-baf6-4cae-8c98-59b7bceaecdc > .running-part\").css(\"width\", \"10.000000%\")"
       ],
       "metadata": {},
       "output_type": "display_data"
      },
      {
       "javascript": [
        "$(\"#ad6785550-baf6-4cae-8c98-59b7bceaecdc > .text > .main\").text(\"10/10 (100%) in 75.2 s, 7.86 s last iter; eta 0+-0 s\")"
       ],
       "metadata": {},
       "output_type": "display_data"
      },
      {
       "output_type": "stream",
       "stream": "stderr",
       "text": [
        "/home/enrique/herramientas/virtualenvs/instagram/lib/python2.7/site-packages/pytz/__init__.py:29: UserWarning: Module numpy was already imported from /home/enrique/herramientas/anaconda/lib/python2.7/site-packages/numpy/__init__.pyc, but /home/enrique/herramientas/virtualenvs/instagram/lib/python2.7/site-packages is being added to sys.path\n",
        "  from pkg_resources import resource_stream\n"
       ]
      },
      {
       "html": [
        "<div style=\"max-height:1000px;max-width:1500px;overflow:auto;\">\n",
        "<table border=\"1\" class=\"dataframe\">\n",
        "  <thead>\n",
        "    <tr style=\"text-align: right;\">\n",
        "      <th></th>\n",
        "      <th>score</th>\n",
        "      <th>tags</th>\n",
        "      <th>url</th>\n",
        "    </tr>\n",
        "  </thead>\n",
        "  <tbody>\n",
        "    <tr>\n",
        "      <th>0</th>\n",
        "      <td>0.03735</td>\n",
        "      <td>swimming trunks</td>\n",
        "      <td>https://scontent.cdninstagram.com/hphotos-xfa1...</td>\n",
        "    </tr>\n",
        "    <tr>\n",
        "      <th>1</th>\n",
        "      <td>0.02648</td>\n",
        "      <td>apron</td>\n",
        "      <td>https://scontent.cdninstagram.com/hphotos-xfp1...</td>\n",
        "    </tr>\n",
        "    <tr>\n",
        "      <th>2</th>\n",
        "      <td>0.03183</td>\n",
        "      <td>bow tie</td>\n",
        "      <td>https://scontent.cdninstagram.com/hphotos-xfp1...</td>\n",
        "    </tr>\n",
        "    <tr>\n",
        "      <th>3</th>\n",
        "      <td>0.04270</td>\n",
        "      <td>French horn</td>\n",
        "      <td>https://scontent.cdninstagram.com/hphotos-xap1...</td>\n",
        "    </tr>\n",
        "    <tr>\n",
        "      <th>4</th>\n",
        "      <td>0.03406</td>\n",
        "      <td>pencil box</td>\n",
        "      <td>https://scontent.cdninstagram.com/hphotos-xpf1...</td>\n",
        "    </tr>\n",
        "    <tr>\n",
        "      <th>5</th>\n",
        "      <td>0.16920</td>\n",
        "      <td>cellular telephone</td>\n",
        "      <td>https://scontent.cdninstagram.com/hphotos-xfp1...</td>\n",
        "    </tr>\n",
        "    <tr>\n",
        "      <th>6</th>\n",
        "      <td>0.05639</td>\n",
        "      <td>gown</td>\n",
        "      <td>https://scontent.cdninstagram.com/hphotos-xft1...</td>\n",
        "    </tr>\n",
        "    <tr>\n",
        "      <th>7</th>\n",
        "      <td>0.05574</td>\n",
        "      <td>maillot</td>\n",
        "      <td>https://scontent.cdninstagram.com/hphotos-xft1...</td>\n",
        "    </tr>\n",
        "    <tr>\n",
        "      <th>8</th>\n",
        "      <td>0.22412</td>\n",
        "      <td>unicycle</td>\n",
        "      <td>https://scontent.cdninstagram.com/hphotos-xap1...</td>\n",
        "    </tr>\n",
        "    <tr>\n",
        "      <th>9</th>\n",
        "      <td>0.23081</td>\n",
        "      <td>racket</td>\n",
        "      <td>https://scontent.cdninstagram.com/hphotos-xpf1...</td>\n",
        "    </tr>\n",
        "  </tbody>\n",
        "</table>\n",
        "</div>"
       ],
       "metadata": {},
       "output_type": "pyout",
       "prompt_number": 8,
       "text": [
        "     score                tags  \\\n",
        "0  0.03735     swimming trunks   \n",
        "1  0.02648               apron   \n",
        "2  0.03183             bow tie   \n",
        "3  0.04270         French horn   \n",
        "4  0.03406          pencil box   \n",
        "5  0.16920  cellular telephone   \n",
        "6  0.05639                gown   \n",
        "7  0.05574             maillot   \n",
        "8  0.22412            unicycle   \n",
        "9  0.23081              racket   \n",
        "\n",
        "                                                 url  \n",
        "0  https://scontent.cdninstagram.com/hphotos-xfa1...  \n",
        "1  https://scontent.cdninstagram.com/hphotos-xfp1...  \n",
        "2  https://scontent.cdninstagram.com/hphotos-xfp1...  \n",
        "3  https://scontent.cdninstagram.com/hphotos-xap1...  \n",
        "4  https://scontent.cdninstagram.com/hphotos-xpf1...  \n",
        "5  https://scontent.cdninstagram.com/hphotos-xfp1...  \n",
        "6  https://scontent.cdninstagram.com/hphotos-xft1...  \n",
        "7  https://scontent.cdninstagram.com/hphotos-xft1...  \n",
        "8  https://scontent.cdninstagram.com/hphotos-xap1...  \n",
        "9  https://scontent.cdninstagram.com/hphotos-xpf1...  "
       ]
      }
     ],
     "prompt_number": 8
    },
    {
     "cell_type": "markdown",
     "metadata": {},
     "source": [
      "# Results"
     ]
    },
    {
     "cell_type": "markdown",
     "metadata": {},
     "source": [
      "### Load custom categories"
     ]
    },
    {
     "cell_type": "code",
     "collapsed": false,
     "input": [
      "import csv\n",
      "def loadCategories(filename):\n",
      "    with open(filename, 'rb') as f:\n",
      "        reader = csv.reader(f)\n",
      "        return {row[1]:row[0] for row in reader}\n",
      "\n",
      "filename = 'categorias_instagram.csv'\n",
      "categories = loadCategories(filename)\n",
      "\n",
      "df['category'] = df.tags.map(categories)\n",
      "df.head(10)"
     ],
     "language": "python",
     "metadata": {},
     "outputs": [
      {
       "html": [
        "<div style=\"max-height:1000px;max-width:1500px;overflow:auto;\">\n",
        "<table border=\"1\" class=\"dataframe\">\n",
        "  <thead>\n",
        "    <tr style=\"text-align: right;\">\n",
        "      <th></th>\n",
        "      <th>score</th>\n",
        "      <th>tags</th>\n",
        "      <th>url</th>\n",
        "      <th>category</th>\n",
        "    </tr>\n",
        "  </thead>\n",
        "  <tbody>\n",
        "    <tr>\n",
        "      <th>0</th>\n",
        "      <td>0.03735</td>\n",
        "      <td>swimming trunks</td>\n",
        "      <td>https://scontent.cdninstagram.com/hphotos-xfa1...</td>\n",
        "      <td>DEPORTE</td>\n",
        "    </tr>\n",
        "    <tr>\n",
        "      <th>1</th>\n",
        "      <td>0.02648</td>\n",
        "      <td>apron</td>\n",
        "      <td>https://scontent.cdninstagram.com/hphotos-xfp1...</td>\n",
        "      <td>COMIDA/RESTAURACI\u00d3N</td>\n",
        "    </tr>\n",
        "    <tr>\n",
        "      <th>2</th>\n",
        "      <td>0.03183</td>\n",
        "      <td>bow tie</td>\n",
        "      <td>https://scontent.cdninstagram.com/hphotos-xfp1...</td>\n",
        "      <td>ESPECTACULOS/EVENTOS</td>\n",
        "    </tr>\n",
        "    <tr>\n",
        "      <th>3</th>\n",
        "      <td>0.04270</td>\n",
        "      <td>French horn</td>\n",
        "      <td>https://scontent.cdninstagram.com/hphotos-xap1...</td>\n",
        "      <td>MUSICA</td>\n",
        "    </tr>\n",
        "    <tr>\n",
        "      <th>4</th>\n",
        "      <td>0.03406</td>\n",
        "      <td>pencil box</td>\n",
        "      <td>https://scontent.cdninstagram.com/hphotos-xpf1...</td>\n",
        "      <td>ENTRETENIMIENTO/JUEGOS</td>\n",
        "    </tr>\n",
        "    <tr>\n",
        "      <th>5</th>\n",
        "      <td>0.16920</td>\n",
        "      <td>cellular telephone</td>\n",
        "      <td>https://scontent.cdninstagram.com/hphotos-xfp1...</td>\n",
        "      <td>TECNOLOGIA/INFORMACION</td>\n",
        "    </tr>\n",
        "    <tr>\n",
        "      <th>6</th>\n",
        "      <td>0.05639</td>\n",
        "      <td>gown</td>\n",
        "      <td>https://scontent.cdninstagram.com/hphotos-xft1...</td>\n",
        "      <td>ESPECTACULOS/EVENTOS</td>\n",
        "    </tr>\n",
        "    <tr>\n",
        "      <th>7</th>\n",
        "      <td>0.05574</td>\n",
        "      <td>maillot</td>\n",
        "      <td>https://scontent.cdninstagram.com/hphotos-xft1...</td>\n",
        "      <td>OTROS</td>\n",
        "    </tr>\n",
        "    <tr>\n",
        "      <th>8</th>\n",
        "      <td>0.22412</td>\n",
        "      <td>unicycle</td>\n",
        "      <td>https://scontent.cdninstagram.com/hphotos-xap1...</td>\n",
        "      <td>DEPORTE</td>\n",
        "    </tr>\n",
        "    <tr>\n",
        "      <th>9</th>\n",
        "      <td>0.23081</td>\n",
        "      <td>racket</td>\n",
        "      <td>https://scontent.cdninstagram.com/hphotos-xpf1...</td>\n",
        "      <td>DEPORTE</td>\n",
        "    </tr>\n",
        "  </tbody>\n",
        "</table>\n",
        "</div>"
       ],
       "metadata": {},
       "output_type": "pyout",
       "prompt_number": 9,
       "text": [
        "     score                tags  \\\n",
        "0  0.03735     swimming trunks   \n",
        "1  0.02648               apron   \n",
        "2  0.03183             bow tie   \n",
        "3  0.04270         French horn   \n",
        "4  0.03406          pencil box   \n",
        "5  0.16920  cellular telephone   \n",
        "6  0.05639                gown   \n",
        "7  0.05574             maillot   \n",
        "8  0.22412            unicycle   \n",
        "9  0.23081              racket   \n",
        "\n",
        "                                                 url                category  \n",
        "0  https://scontent.cdninstagram.com/hphotos-xfa1...                 DEPORTE  \n",
        "1  https://scontent.cdninstagram.com/hphotos-xfp1...     COMIDA/RESTAURACI\u00d3N  \n",
        "2  https://scontent.cdninstagram.com/hphotos-xfp1...    ESPECTACULOS/EVENTOS  \n",
        "3  https://scontent.cdninstagram.com/hphotos-xap1...                  MUSICA  \n",
        "4  https://scontent.cdninstagram.com/hphotos-xpf1...  ENTRETENIMIENTO/JUEGOS  \n",
        "5  https://scontent.cdninstagram.com/hphotos-xfp1...  TECNOLOGIA/INFORMACION  \n",
        "6  https://scontent.cdninstagram.com/hphotos-xft1...    ESPECTACULOS/EVENTOS  \n",
        "7  https://scontent.cdninstagram.com/hphotos-xft1...                   OTROS  \n",
        "8  https://scontent.cdninstagram.com/hphotos-xap1...                 DEPORTE  \n",
        "9  https://scontent.cdninstagram.com/hphotos-xpf1...                 DEPORTE  "
       ]
      }
     ],
     "prompt_number": 9
    },
    {
     "cell_type": "code",
     "collapsed": false,
     "input": [
      "from pylab import *\n",
      "%matplotlib inline\n",
      "myserie = df.groupby(['category']).category.count()\n",
      "myserie.plot(kind='pie', figsize=(6, 6))\n",
      "title(user,  {'fontsize': 30})"
     ],
     "language": "python",
     "metadata": {},
     "outputs": [
      {
       "metadata": {},
       "output_type": "pyout",
       "prompt_number": 10,
       "text": [
        "<matplotlib.text.Text at 0x7f1a3d7186d0>"
       ]
      },
      {
       "metadata": {},
       "output_type": "display_data",
       "png": "[encoded data removed]",
       "text": [
        "<matplotlib.figure.Figure at 0x7f1a3d810f10>"
       ]
      }
     ],
     "prompt_number": 10
    }
   ],
   "metadata": {}
  }
 ]
}