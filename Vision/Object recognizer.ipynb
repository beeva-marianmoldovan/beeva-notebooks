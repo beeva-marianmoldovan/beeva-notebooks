{
 "metadata": {
  "name": ""
 },
 "nbformat": 3,
 "nbformat_minor": 0,
 "worksheets": [
  {
   "cells": [
    {
     "cell_type": "code",
     "collapsed": false,
     "input": [
      "from SimpleCV import *\n",
      "cam = Camera()"
     ],
     "language": "python",
     "metadata": {},
     "outputs": [],
     "prompt_number": 1
    },
    {
     "cell_type": "code",
     "collapsed": false,
     "input": [
      "disp = Display()\n",
      "\n",
      "while disp.isNotDone():\n",
      "        img = cam.getImage()\n",
      "        if disp.mouseLeft:\n",
      "                break\n",
      "                \n",
      "        blackDistance = img.hueDistance(Color.BLACK).invert()\n",
      "        blackDistance.save(disp)"
     ],
     "language": "python",
     "metadata": {},
     "outputs": [],
     "prompt_number": 105
    },
    {
     "cell_type": "code",
     "collapsed": false,
     "input": [
      "img = cam.getImage()\n",
      "blobs = img.findBlobs(minsize=50)\n",
      "for b in blobs:\n",
      "    img.draw(b)\n",
      "    text = \"{}\".format(b.boundingBox())\n",
      "    img.dl().text(text, (b.x + 45, b.y + 45), color=Color.BLUE)\n",
      "img.show()\n"
     ],
     "language": "python",
     "metadata": {},
     "outputs": [
      {
       "metadata": {},
       "output_type": "pyout",
       "prompt_number": 63,
       "text": [
        "<SimpleCV.Display Object resolution:((640, 480)), Image Resolution: (640, 480) at memory location: (0x7fec5c307c68)>"
       ]
      }
     ],
     "prompt_number": 63
    },
    {
     "cell_type": "code",
     "collapsed": false,
     "input": [
      "\n",
      "# A quarter is 24.26mm or 0.955in\n",
      "quarter_size = 24.26  # millimeters\n",
      "\n",
      "# This will hold the ratio of the image size to a quarter's actual size\n",
      "size_ratio = 0\n",
      "\n",
      "img = Image('coins.jpg', sample=True)\n",
      "coins = img.invert().findBlobs(minsize=200)\n",
      "\n",
      "# Here we compute the scale factor\n",
      "if coins:\n",
      "    c = coins[-1]\n",
      "    diameter = c.radius() * 2\n",
      "    size_ratio = quarter_size / diameter\n",
      "\n",
      "# Now we print the measurements back on the picture\n",
      "for coin in coins:\n",
      "    coin.draw()\n",
      "    # get the physical size of the coin\n",
      "    size = (coin.radius() * 2) * size_ratio\n",
      "    # label the coin accordingly\n",
      "    if 18 < size < 20:\n",
      "        coin_type = \"penny\"\n",
      "    elif 20 < size < 23:\n",
      "        coin_type = \"nickel\"\n",
      "    elif 16 < size < 18:\n",
      "        coin_type = \"dime\"\n",
      "    elif 23 < size < 26:\n",
      "        coin_type = \"quarter\"\n",
      "    else:\n",
      "        coin_type = \"unknown\"\n",
      "\n",
      "    text = \"Type: {}, Size: {}mm\".format(coin_type, size)\n",
      "    img.dl().text(text, (coin.x + 45, coin.y + 45), color=Color.BLUE)\n",
      "\n",
      "img.show()"
     ],
     "language": "python",
     "metadata": {},
     "outputs": [
      {
       "metadata": {},
       "output_type": "pyout",
       "prompt_number": 65,
       "text": [
        "<SimpleCV.Display Object resolution:((800, 600)), Image Resolution: (800, 600) at memory location: (0x7fec5c0b5368)>"
       ]
      }
     ],
     "prompt_number": 65
    },
    {
     "cell_type": "markdown",
     "metadata": {},
     "source": [
      "iPad image select using Filled Blobs"
     ]
    },
    {
     "cell_type": "code",
     "collapsed": false,
     "input": [
      "img = cam.getImage()\n",
      "#img = Image('ipad.png')\n",
      "points = ((img.width/2, img.height/2)) \n",
      "blerbs = img.findFloodFillBlobs(points,tolerance=55, minsize=100)\n",
      "for f in blerbs:\n",
      "    f.drawMinRect(color=Color.YELLOW, width=10)\n",
      "img.show()"
     ],
     "language": "python",
     "metadata": {},
     "outputs": [
      {
       "metadata": {},
       "output_type": "pyout",
       "prompt_number": 224,
       "text": [
        "<SimpleCV.Display Object resolution:((640, 480)), Image Resolution: (640, 480) at memory location: (0x7fec5eebd878)>"
       ]
      }
     ],
     "prompt_number": 224
    },
    {
     "cell_type": "code",
     "collapsed": false,
     "input": [
      "img = Image('ipad.png')\n",
      "points = ((img.width/2, img.height/2)) \n",
      "blerbs = img.findFloodFillBlobs(points,tolerance=55, minsize=100)\n",
      "if blerbs:\n",
      "    b = blerbs[0]\n",
      "    img.crop(b.minRect()).show()\n"
     ],
     "language": "python",
     "metadata": {},
     "outputs": [],
     "prompt_number": 222
    },
    {
     "cell_type": "markdown",
     "metadata": {},
     "source": [
      "iPad image select using color segmentation for find blobs"
     ]
    },
    {
     "cell_type": "code",
     "collapsed": false,
     "input": [
      "img = Image('ipad.png')\n",
      "blue_distance = img.hueDistance(Color.BLUE).invert()\n",
      "blobs = blue_distance.findBlobs(minsize=10000)\n",
      "b = blobs[-1]\n",
      "ipad = img.crop(b.minRect())\n",
      "ipad.show()"
     ],
     "language": "python",
     "metadata": {},
     "outputs": [
      {
       "metadata": {},
       "output_type": "pyout",
       "prompt_number": 225,
       "text": [
        "<SimpleCV.Display Object resolution:((471, 307)), Image Resolution: (471, 307) at memory location: (0x7fec3db270e0)>"
       ]
      }
     ],
     "prompt_number": 225
    },
    {
     "cell_type": "code",
     "collapsed": false,
     "input": [
      "blue_distance = ipad.hueDistance(Color.BLUE).invert()\n",
      "blobs = blue_distance.findBlobs(minsize=10000)\n",
      "b = blobs[-1]\n",
      "ipadX = ipad.crop(b.minRect())\n",
      "ipadX.show()"
     ],
     "language": "python",
     "metadata": {},
     "outputs": [
      {
       "metadata": {},
       "output_type": "pyout",
       "prompt_number": 190,
       "text": [
        "<SimpleCV.Display Object resolution:((467, 303)), Image Resolution: (467, 303) at memory location: (0x7fec3d5c19e0)>"
       ]
      }
     ],
     "prompt_number": 190
    },
    {
     "cell_type": "code",
     "collapsed": false,
     "input": [],
     "language": "python",
     "metadata": {},
     "outputs": [],
     "prompt_number": 152
    }
   ],
   "metadata": {}
  }
 ]
}