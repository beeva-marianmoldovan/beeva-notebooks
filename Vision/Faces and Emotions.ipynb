{
 "metadata": {
  "name": ""
 },
 "nbformat": 3,
 "nbformat_minor": 0,
 "worksheets": [
  {
   "cells": [
    {
     "cell_type": "markdown",
     "metadata": {},
     "source": [
      "Capture image"
     ]
    },
    {
     "cell_type": "code",
     "collapsed": false,
     "input": [
      "from SimpleCV import *\n",
      "cam = Camera()\n",
      "disp = Display()\n",
      "\n",
      "while disp.isNotDone():\n",
      "        img = cam.getImage()\n",
      "        if disp.mouseLeft:\n",
      "                break\n",
      "        img.save(disp)"
     ],
     "language": "python",
     "metadata": {},
     "outputs": [
      {
       "output_type": "stream",
       "stream": "stderr",
       "text": [
        "WARNING: caught exception: SystemError('ioctl(VIDIOC_S_FMT) failure: no supported formats',)\n"
       ]
      },
      {
       "output_type": "stream",
       "stream": "stderr",
       "text": [
        "WARNING:Main Logger:caught exception: SystemError('ioctl(VIDIOC_S_FMT) failure: no supported formats',)\n"
       ]
      },
      {
       "output_type": "stream",
       "stream": "stderr",
       "text": [
        "WARNING: SimpleCV can't seem to find a camera on your system, or the drivers do not work with SimpleCV.\n"
       ]
      },
      {
       "output_type": "stream",
       "stream": "stderr",
       "text": [
        "WARNING:Main Logger:SimpleCV can't seem to find a camera on your system, or the drivers do not work with SimpleCV.\n"
       ]
      },
      {
       "ename": "TypeError",
       "evalue": "Expected CvCapture for argument 'capture'",
       "output_type": "pyerr",
       "traceback": [
        "\u001b[0;31m---------------------------------------------------------------------------\u001b[0m\n\u001b[0;31mTypeError\u001b[0m                                 Traceback (most recent call last)",
        "\u001b[0;32m<ipython-input-1-a6df849c1c94>\u001b[0m in \u001b[0;36m<module>\u001b[0;34m()\u001b[0m\n\u001b[1;32m      4\u001b[0m \u001b[0;34m\u001b[0m\u001b[0m\n\u001b[1;32m      5\u001b[0m \u001b[0;32mwhile\u001b[0m \u001b[0mdisp\u001b[0m\u001b[0;34m.\u001b[0m\u001b[0misNotDone\u001b[0m\u001b[0;34m(\u001b[0m\u001b[0;34m)\u001b[0m\u001b[0;34m:\u001b[0m\u001b[0;34m\u001b[0m\u001b[0m\n\u001b[0;32m----> 6\u001b[0;31m         \u001b[0mimg\u001b[0m \u001b[0;34m=\u001b[0m \u001b[0mcam\u001b[0m\u001b[0;34m.\u001b[0m\u001b[0mgetImage\u001b[0m\u001b[0;34m(\u001b[0m\u001b[0;34m)\u001b[0m\u001b[0;34m\u001b[0m\u001b[0m\n\u001b[0m\u001b[1;32m      7\u001b[0m         \u001b[0;32mif\u001b[0m \u001b[0mdisp\u001b[0m\u001b[0;34m.\u001b[0m\u001b[0mmouseLeft\u001b[0m\u001b[0;34m:\u001b[0m\u001b[0;34m\u001b[0m\u001b[0m\n\u001b[1;32m      8\u001b[0m                 \u001b[0;32mbreak\u001b[0m\u001b[0;34m\u001b[0m\u001b[0m\n",
        "\u001b[0;32m/usr/local/lib/python2.7/dist-packages/SimpleCV/Camera.pyc\u001b[0m in \u001b[0;36mgetImage\u001b[0;34m(self)\u001b[0m\n\u001b[1;32m    614\u001b[0m \u001b[0;34m\u001b[0m\u001b[0m\n\u001b[1;32m    615\u001b[0m         \u001b[0;32mif\u001b[0m \u001b[0;34m(\u001b[0m\u001b[0;32mnot\u001b[0m \u001b[0mself\u001b[0m\u001b[0;34m.\u001b[0m\u001b[0mthreaded\u001b[0m\u001b[0;34m)\u001b[0m\u001b[0;34m:\u001b[0m\u001b[0;34m\u001b[0m\u001b[0m\n\u001b[0;32m--> 616\u001b[0;31m             \u001b[0mcv\u001b[0m\u001b[0;34m.\u001b[0m\u001b[0mGrabFrame\u001b[0m\u001b[0;34m(\u001b[0m\u001b[0mself\u001b[0m\u001b[0;34m.\u001b[0m\u001b[0mcapture\u001b[0m\u001b[0;34m)\u001b[0m\u001b[0;34m\u001b[0m\u001b[0m\n\u001b[0m\u001b[1;32m    617\u001b[0m             \u001b[0mself\u001b[0m\u001b[0;34m.\u001b[0m\u001b[0mcapturetime\u001b[0m \u001b[0;34m=\u001b[0m \u001b[0mtime\u001b[0m\u001b[0;34m.\u001b[0m\u001b[0mtime\u001b[0m\u001b[0;34m(\u001b[0m\u001b[0;34m)\u001b[0m\u001b[0;34m\u001b[0m\u001b[0m\n\u001b[1;32m    618\u001b[0m         \u001b[0;32melse\u001b[0m\u001b[0;34m:\u001b[0m\u001b[0;34m\u001b[0m\u001b[0m\n",
        "\u001b[0;31mTypeError\u001b[0m: Expected CvCapture for argument 'capture'"
       ]
      }
     ],
     "prompt_number": 1
    },
    {
     "cell_type": "markdown",
     "metadata": {},
     "source": [
      "Find blobs"
     ]
    },
    {
     "cell_type": "code",
     "collapsed": false,
     "input": [
      "img = cam.getImage()\n",
      "blobs = img.findBlobs(minsize=1000)\n",
      "if blobs:\n",
      "    blobs.draw(autocolor=True)\n",
      "img.show()"
     ],
     "language": "python",
     "metadata": {},
     "outputs": [
      {
       "metadata": {},
       "output_type": "pyout",
       "prompt_number": 56,
       "text": [
        "<SimpleCV.Display Object resolution:((640, 480)), Image Resolution: (640, 480) at memory location: (0x7f1ae745b950)>"
       ]
      }
     ],
     "prompt_number": 56
    },
    {
     "cell_type": "markdown",
     "metadata": {},
     "source": [
      "###Playing with HaarCascade\n",
      "Face crop"
     ]
    },
    {
     "cell_type": "code",
     "collapsed": false,
     "input": [
      "def getFaces():\n",
      "    faces = []\n",
      "    img = cam.getImage()\n",
      "    autoface = img.findHaarFeatures( HaarCascade(\"face.xml\"))\n",
      "    for face in autoface:\n",
      "        box =  face.boundingBox()\n",
      "        x = 25\n",
      "        faces.append(img.crop(box[0] - x, box[1] - x, box[3] + x*2, box[3] + x*2))\n",
      "    return faces"
     ],
     "language": "python",
     "metadata": {},
     "outputs": [],
     "prompt_number": 2
    },
    {
     "cell_type": "code",
     "collapsed": false,
     "input": [
      "from indicoio import fer\n",
      "import numpy as np\n",
      "from collections import OrderedDict\n",
      "from operator import itemgetter"
     ],
     "language": "python",
     "metadata": {},
     "outputs": [],
     "prompt_number": 4
    },
    {
     "cell_type": "markdown",
     "metadata": {},
     "source": [
      "Face emotion recognition, using Indico.io API"
     ]
    },
    {
     "cell_type": "code",
     "collapsed": false,
     "input": [
      "faces = getFaces()\n",
      "for face in faces:\n",
      "    face.show()\n",
      "    nface = face.getNumpy().tolist()\n",
      "    data = fer(nface)\n",
      "    sortedData = OrderedDict(sorted(data.items(), key=itemgetter(1), reverse=True))\n",
      "    print sortedData"
     ],
     "language": "python",
     "metadata": {},
     "outputs": [
      {
       "output_type": "stream",
       "stream": "stdout",
       "text": [
        "{u'Angry': 0.1762428589262843, u'Sad': 0.25036067842067755, u'Neutral': 0.0655177920181285, u'Surprise': 0.08727046169777583, u'Fear': 0.3666630986604963, u'Happy': 0.0539451102766377}\n"
       ]
      }
     ],
     "prompt_number": 8
    },
    {
     "cell_type": "markdown",
     "metadata": {},
     "source": [
      "###Play with blobs and object detection\n"
     ]
    },
    {
     "cell_type": "code",
     "collapsed": false,
     "input": [
      "img = cam.getImage()"
     ],
     "language": "python",
     "metadata": {},
     "outputs": [],
     "prompt_number": 23
    },
    {
     "cell_type": "code",
     "collapsed": false,
     "input": [
      "fs = otherImg.findMotion(img)\n",
      "if fs:\n",
      "    fs.show()"
     ],
     "language": "python",
     "metadata": {},
     "outputs": [],
     "prompt_number": 10
    },
    {
     "cell_type": "code",
     "collapsed": false,
     "input": [
      "blerbs = img.findFloodFillBlobs(((10,10)),tolerance=50)\n",
      "if blerbs:\n",
      "    blerbs.show()"
     ],
     "language": "python",
     "metadata": {},
     "outputs": [],
     "prompt_number": 59
    },
    {
     "cell_type": "code",
     "collapsed": false,
     "input": [
      "img = cam.getImage()\n",
      "fl = img.findLines(minlinelength=150)\n",
      "if fl:\n",
      "    fl.show()"
     ],
     "language": "python",
     "metadata": {},
     "outputs": [],
     "prompt_number": 43
    },
    {
     "cell_type": "code",
     "collapsed": false,
     "input": [
      "img = cam.getImage()\n",
      "fb = img.smartFindBlobs(rect=(0,0,200,150))\n",
      "if fb:\n",
      "    fb.show()"
     ],
     "language": "python",
     "metadata": {},
     "outputs": [],
     "prompt_number": 60
    },
    {
     "cell_type": "code",
     "collapsed": false,
     "input": [],
     "language": "python",
     "metadata": {},
     "outputs": []
    }
   ],
   "metadata": {}
  }
 ]
}