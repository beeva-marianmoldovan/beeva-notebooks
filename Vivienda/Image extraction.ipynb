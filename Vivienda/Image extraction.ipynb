{
 "metadata": {
  "name": "",
  "signature": "sha256:73d174b78d38846493deb62469e06e0ef0d4510e04ac4583145c4e11b653a28e"
 },
 "nbformat": 3,
 "nbformat_minor": 0,
 "worksheets": [
  {
   "cells": [
    {
     "cell_type": "code",
     "collapsed": false,
     "input": [
      "import requests, re, bs4"
     ],
     "language": "python",
     "metadata": {},
     "outputs": [],
     "prompt_number": 1
    },
    {
     "cell_type": "code",
     "collapsed": false,
     "input": [
      "from bs4 import BeautifulSoup"
     ],
     "language": "python",
     "metadata": {},
     "outputs": [],
     "prompt_number": 2
    },
    {
     "cell_type": "code",
     "collapsed": false,
     "input": [
      "r = requests.get('https://bbvavivienda.com/buscador/resultado?lang=ES&c_tipges_filt=1&c_tipinm_filt=1&solo_vinculados_01_filt=0&c_campana_filt=0&c_propietario_filt=0&c_subtipinm_filt=0&nuevo_01_filt=0&foto_01_filt=0&precio_min_filt=0&precio_max_filt=0&cuota_max_filt=0&n_habitaciones_min_filt=0&m2_min_filt=0&garaje_012_filt=0&ascensor_01_filt=0&a_acondicionado_01_filt=0&trastero_01_filt=0&calefaccion_01_filt=0&piscina_01_filt=0&multipropiedad_01_filt=0&tipo_buscador=0&promo_01_filt=0&latitud_filt=0.0&longitud_filt=0.0&zoom_filt=10&radio_filt=0&direccion_filt=&order_by_filt=nivel_prioridad_1%20desc,%20precio%20asc%20NULLS%20LAST&c_provin_filt=28&limit=500')"
     ],
     "language": "python",
     "metadata": {},
     "outputs": [],
     "prompt_number": 3
    },
    {
     "cell_type": "code",
     "collapsed": false,
     "input": [
      "s = BeautifulSoup(r.text)"
     ],
     "language": "python",
     "metadata": {},
     "outputs": [],
     "prompt_number": 4
    },
    {
     "cell_type": "code",
     "collapsed": false,
     "input": [
      "divs = s.findAll('div', {'onclick':re.compile('.*ficha_inmueble.*')})"
     ],
     "language": "python",
     "metadata": {},
     "outputs": [],
     "prompt_number": 5
    },
    {
     "cell_type": "code",
     "collapsed": false,
     "input": [
      "divs[0]['onclick'].replace(\"location.href=\",\"\").replace(\"'\",\"\")"
     ],
     "language": "python",
     "metadata": {},
     "outputs": [
      {
       "metadata": {},
       "output_type": "pyout",
       "prompt_number": 6,
       "text": [
        "'/buscador/ficha_inmueble?c_inmueble=141426&lang=ES&c_tipges_filt=1&c_provin_filt=28&c_pobla_filt=0&c_tipinm_filt=1&solo_vinculados_01_filt=0&c_campana_filt=0&c_propietario_filt=0&c_subtipinm_filt=0&nuevo_01_filt=0&foto_01_filt=0&precio_min_filt=0&precio_max_filt=0&cuota_max_filt=0&n_habitaciones_min_filt=0&m2_min_filt=0&garaje_012_filt=0&ascensor_01_filt=0&a_acondicionado_01_filt=0&trastero_01_filt=0&calefaccion_01_filt=0&piscina_01_filt=0&multipropiedad_01_filt=0&promo_01_filt=0&latitud_filt=0.0&longitud_filt=0.0&zoom_filt=10&radio_filt=0&order_by_filt=nivel_prioridad_1 desc, precio asc NULLS LAST&tipo_buscador=0&modo_mapa=L&limit=500&n=0&n_inmuebles=1062&n_registros=336&posicion_ficha=1'"
       ]
      }
     ],
     "prompt_number": 6
    },
    {
     "cell_type": "code",
     "collapsed": false,
     "input": [
      "urls = divs"
     ],
     "language": "python",
     "metadata": {},
     "outputs": [],
     "prompt_number": 7
    },
    {
     "cell_type": "code",
     "collapsed": false,
     "input": [
      "def clean(url):\n",
      "    return 'https://bbvavivienda.com' + url['onclick'].replace(\"location.href=\",\"\").replace(\"'\",\"\")"
     ],
     "language": "python",
     "metadata": {},
     "outputs": [],
     "prompt_number": 8
    },
    {
     "cell_type": "code",
     "collapsed": false,
     "input": [
      "urls = map(clean, divs)"
     ],
     "language": "python",
     "metadata": {},
     "outputs": [],
     "prompt_number": 9
    },
    {
     "cell_type": "code",
     "collapsed": false,
     "input": [
      "urls[80]"
     ],
     "language": "python",
     "metadata": {},
     "outputs": [
      {
       "ename": "IndexError",
       "evalue": "list index out of range",
       "output_type": "pyerr",
       "traceback": [
        "\u001b[1;31m---------------------------------------------------------------------------\u001b[0m\n\u001b[1;31mIndexError\u001b[0m                                Traceback (most recent call last)",
        "\u001b[1;32m<ipython-input-10-cdaaa5884816>\u001b[0m in \u001b[0;36m<module>\u001b[1;34m()\u001b[0m\n\u001b[1;32m----> 1\u001b[1;33m \u001b[0murls\u001b[0m\u001b[1;33m[\u001b[0m\u001b[1;36m80\u001b[0m\u001b[1;33m]\u001b[0m\u001b[1;33m\u001b[0m\u001b[0m\n\u001b[0m",
        "\u001b[1;31mIndexError\u001b[0m: list index out of range"
       ]
      }
     ],
     "prompt_number": 10
    },
    {
     "cell_type": "code",
     "collapsed": false,
     "input": [
      "len(urls)"
     ],
     "language": "python",
     "metadata": {},
     "outputs": [
      {
       "metadata": {},
       "output_type": "pyout",
       "prompt_number": 11,
       "text": [
        "17"
       ]
      }
     ],
     "prompt_number": 11
    },
    {
     "cell_type": "code",
     "collapsed": false,
     "input": [
      "x = requests.get(urls[0])"
     ],
     "language": "python",
     "metadata": {},
     "outputs": [],
     "prompt_number": 44
    },
    {
     "cell_type": "code",
     "collapsed": false,
     "input": [
      "re.findall(re.compile(\"fotos\\[.*\\] = \\\".*\\\";\"), x.text)[0][12:]"
     ],
     "language": "python",
     "metadata": {},
     "outputs": [
      {
       "metadata": {},
       "output_type": "pyout",
       "prompt_number": 96,
       "text": [
        "u'26/141426-1.jpg\";'"
       ]
      }
     ],
     "prompt_number": 96
    },
    {
     "cell_type": "code",
     "collapsed": false,
     "input": [
      "images = []"
     ],
     "language": "python",
     "metadata": {},
     "outputs": [],
     "prompt_number": 22
    },
    {
     "cell_type": "code",
     "collapsed": false,
     "input": [
      "def get_images(url):\n",
      "    x = requests.get(url)\n",
      "    aux = re.findall(re.compile(\"fotos\\[.*\\] = \\\".*\\\";\"), x.text)\n",
      "    auxb= []\n",
      "    for item in aux:\n",
      "        images.append('https://bbvavivienda.com/multimedia/inmuebles/fotos/grandes/' + item[12:-2])"
     ],
     "language": "python",
     "metadata": {},
     "outputs": [],
     "prompt_number": 23
    },
    {
     "cell_type": "code",
     "collapsed": false,
     "input": [
      "for item in urls:\n",
      "    get_images(item)"
     ],
     "language": "python",
     "metadata": {},
     "outputs": [],
     "prompt_number": 24
    },
    {
     "cell_type": "code",
     "collapsed": false,
     "input": [
      "len(images)"
     ],
     "language": "python",
     "metadata": {},
     "outputs": [
      {
       "metadata": {},
       "output_type": "pyout",
       "prompt_number": 26,
       "text": [
        "1030"
       ]
      }
     ],
     "prompt_number": 26
    },
    {
     "cell_type": "code",
     "collapsed": false,
     "input": [
      "import urllib"
     ],
     "language": "python",
     "metadata": {},
     "outputs": [],
     "prompt_number": 27
    },
    {
     "cell_type": "code",
     "collapsed": false,
     "input": [
      "index = 1\n",
      "for image in images:\n",
      "    urllib.urlretrieve(image.replace('\"',''), \"images/%04d.jpg\" % (index))\n",
      "    index = index+1"
     ],
     "language": "python",
     "metadata": {},
     "outputs": []
    },
    {
     "cell_type": "code",
     "collapsed": false,
     "input": [],
     "language": "python",
     "metadata": {},
     "outputs": []
    }
   ],
   "metadata": {}
  }
 ]
}