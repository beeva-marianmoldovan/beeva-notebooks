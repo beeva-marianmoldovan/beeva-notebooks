{
 "metadata": {
  "name": "",
  "signature": "sha256:212420db1c0cb7b66e28e36b74dc4273687089706febbd56ac0dabf152a8446e"
 },
 "nbformat": 3,
 "nbformat_minor": 0,
 "worksheets": [
  {
   "cells": [
    {
     "cell_type": "code",
     "collapsed": false,
     "input": [
      "import requests, re, BeautifulSoup"
     ],
     "language": "python",
     "metadata": {},
     "outputs": [],
     "prompt_number": 1
    },
    {
     "cell_type": "code",
     "collapsed": false,
     "input": [
      "from BeautifulSoup import BeautifulSoup"
     ],
     "language": "python",
     "metadata": {},
     "outputs": [],
     "prompt_number": 2
    },
    {
     "cell_type": "code",
     "collapsed": false,
     "input": [
      "r = requests.get('https://bbvavivienda.com/buscador/resultado?lang=ES&c_tipges_filt=1&c_tipinm_filt=1&solo_vinculados_01_filt=0&c_campana_filt=0&c_propietario_filt=0&c_subtipinm_filt=0&nuevo_01_filt=0&foto_01_filt=0&precio_min_filt=0&precio_max_filt=0&cuota_max_filt=0&n_habitaciones_min_filt=0&m2_min_filt=0&garaje_012_filt=0&ascensor_01_filt=0&a_acondicionado_01_filt=0&trastero_01_filt=0&calefaccion_01_filt=0&piscina_01_filt=0&multipropiedad_01_filt=0&tipo_buscador=0&promo_01_filt=0&latitud_filt=0.0&longitud_filt=0.0&zoom_filt=10&radio_filt=0&direccion_filt=&order_by_filt=nivel_prioridad_1%20desc,%20precio%20asc%20NULLS%20LAST&c_provin_filt=28&limit=500')"
     ],
     "language": "python",
     "metadata": {},
     "outputs": [],
     "prompt_number": 13
    },
    {
     "cell_type": "code",
     "collapsed": false,
     "input": [
      "s = BeautifulSoup(r.text)"
     ],
     "language": "python",
     "metadata": {},
     "outputs": [],
     "prompt_number": 14
    },
    {
     "cell_type": "code",
     "collapsed": false,
     "input": [
      "divs = s.findAll('div', {'onclick':re.compile('.*ficha_inmueble.*')})"
     ],
     "language": "python",
     "metadata": {},
     "outputs": [],
     "prompt_number": 15
    },
    {
     "cell_type": "code",
     "collapsed": false,
     "input": [
      "divs[0]['onclick'].replace(\"location.href=\",\"\").replace(\"'\",\"\")"
     ],
     "language": "python",
     "metadata": {},
     "outputs": [
      {
       "metadata": {},
       "output_type": "pyout",
       "prompt_number": 16,
       "text": [
        "u'/buscador/ficha_inmueble?c_inmueble=141426&lang=ES&c_tipges_filt=1&c_provin_filt=28&c_pobla_filt=0&c_tipinm_filt=1&solo_vinculados_01_filt=0&c_campana_filt=0&c_propietario_filt=0&c_subtipinm_filt=0&nuevo_01_filt=0&foto_01_filt=0&precio_min_filt=0&precio_max_filt=0&cuota_max_filt=0&n_habitaciones_min_filt=0&m2_min_filt=0&garaje_012_filt=0&ascensor_01_filt=0&a_acondicionado_01_filt=0&trastero_01_filt=0&calefaccion_01_filt=0&piscina_01_filt=0&multipropiedad_01_filt=0&promo_01_filt=0&latitud_filt=0.0&longitud_filt=0.0&zoom_filt=10&radio_filt=0&order_by_filt=nivel_prioridad_1 desc, precio asc NULLS LAST&tipo_buscador=0&modo_mapa=L&limit=500&n=0&n_inmuebles=1062&n_registros=336&posicion_ficha=1'"
       ]
      }
     ],
     "prompt_number": 16
    },
    {
     "cell_type": "code",
     "collapsed": false,
     "input": [
      "urls = divs"
     ],
     "language": "python",
     "metadata": {},
     "outputs": [],
     "prompt_number": 17
    },
    {
     "cell_type": "code",
     "collapsed": false,
     "input": [
      "def clean(url):\n",
      "    return 'https://bbvavivienda.com' + url['onclick'].replace(\"location.href=\",\"\").replace(\"'\",\"\")"
     ],
     "language": "python",
     "metadata": {},
     "outputs": [],
     "prompt_number": 18
    },
    {
     "cell_type": "code",
     "collapsed": false,
     "input": [
      "urls = map(clean, divs)"
     ],
     "language": "python",
     "metadata": {},
     "outputs": [],
     "prompt_number": 19
    },
    {
     "cell_type": "code",
     "collapsed": false,
     "input": [
      "urls[80]"
     ],
     "language": "python",
     "metadata": {},
     "outputs": [
      {
       "metadata": {},
       "output_type": "pyout",
       "prompt_number": 20,
       "text": [
        "u'https://bbvavivienda.com/buscador/ficha_inmueble?c_inmueble=106415&lang=ES&c_tipges_filt=1&c_provin_filt=28&c_pobla_filt=0&c_tipinm_filt=1&solo_vinculados_01_filt=0&c_campana_filt=0&c_propietario_filt=0&c_subtipinm_filt=0&nuevo_01_filt=0&foto_01_filt=0&precio_min_filt=0&precio_max_filt=0&cuota_max_filt=0&n_habitaciones_min_filt=0&m2_min_filt=0&garaje_012_filt=0&ascensor_01_filt=0&a_acondicionado_01_filt=0&trastero_01_filt=0&calefaccion_01_filt=0&piscina_01_filt=0&multipropiedad_01_filt=0&promo_01_filt=0&latitud_filt=0.0&longitud_filt=0.0&zoom_filt=10&radio_filt=0&order_by_filt=nivel_prioridad_1 desc, precio asc NULLS LAST&tipo_buscador=0&modo_mapa=L&limit=500&n=0&n_inmuebles=1062&n_registros=336&posicion_ficha=81'"
       ]
      }
     ],
     "prompt_number": 20
    },
    {
     "cell_type": "code",
     "collapsed": false,
     "input": [
      "len(urls)"
     ],
     "language": "python",
     "metadata": {},
     "outputs": [
      {
       "metadata": {},
       "output_type": "pyout",
       "prompt_number": 21,
       "text": [
        "261"
       ]
      }
     ],
     "prompt_number": 21
    },
    {
     "cell_type": "code",
     "collapsed": false,
     "input": [
      "x = requests.get(urls[0])"
     ],
     "language": "python",
     "metadata": {},
     "outputs": [],
     "prompt_number": 44
    },
    {
     "cell_type": "code",
     "collapsed": false,
     "input": [
      "re.findall(re.compile(\"fotos\\[.*\\] = \\\".*\\\";\"), x.text)[0][12:]"
     ],
     "language": "python",
     "metadata": {},
     "outputs": [
      {
       "metadata": {},
       "output_type": "pyout",
       "prompt_number": 96,
       "text": [
        "u'26/141426-1.jpg\";'"
       ]
      }
     ],
     "prompt_number": 96
    },
    {
     "cell_type": "code",
     "collapsed": false,
     "input": [
      "images = []"
     ],
     "language": "python",
     "metadata": {},
     "outputs": [],
     "prompt_number": 22
    },
    {
     "cell_type": "code",
     "collapsed": false,
     "input": [
      "def get_images(url):\n",
      "    x = requests.get(url)\n",
      "    aux = re.findall(re.compile(\"fotos\\[.*\\] = \\\".*\\\";\"), x.text)\n",
      "    auxb= []\n",
      "    for item in aux:\n",
      "        images.append('https://bbvavivienda.com/multimedia/inmuebles/fotos/grandes/' + item[12:-2])"
     ],
     "language": "python",
     "metadata": {},
     "outputs": [],
     "prompt_number": 23
    },
    {
     "cell_type": "code",
     "collapsed": false,
     "input": [
      "for item in urls:\n",
      "    get_images(item)"
     ],
     "language": "python",
     "metadata": {},
     "outputs": [],
     "prompt_number": 24
    },
    {
     "cell_type": "code",
     "collapsed": false,
     "input": [
      "len(images)"
     ],
     "language": "python",
     "metadata": {},
     "outputs": [
      {
       "metadata": {},
       "output_type": "pyout",
       "prompt_number": 26,
       "text": [
        "1030"
       ]
      }
     ],
     "prompt_number": 26
    },
    {
     "cell_type": "code",
     "collapsed": false,
     "input": [
      "import urllib"
     ],
     "language": "python",
     "metadata": {},
     "outputs": [],
     "prompt_number": 27
    },
    {
     "cell_type": "code",
     "collapsed": false,
     "input": [
      "index = 1\n",
      "for image in images:\n",
      "    urllib.urlretrieve(image.replace('\"',''), \"images/%04d.jpg\" % (index))\n",
      "    index = index+1"
     ],
     "language": "python",
     "metadata": {},
     "outputs": []
    },
    {
     "cell_type": "code",
     "collapsed": false,
     "input": [],
     "language": "python",
     "metadata": {},
     "outputs": []
    }
   ],
   "metadata": {}
  }
 ]
}