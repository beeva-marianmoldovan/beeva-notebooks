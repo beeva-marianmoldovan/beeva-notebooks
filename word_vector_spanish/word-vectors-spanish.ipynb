{
 "metadata": {
  "name": "",
  "signature": "sha256:e4a05d8d5ce659ed3359de234a859301cf43ff2104271c6f96582355288c91ae"
 },
 "nbformat": 3,
 "nbformat_minor": 0,
 "worksheets": [
  {
   "cells": [
    {
     "cell_type": "heading",
     "level": 1,
     "metadata": {},
     "source": [
      "Creando el modelo"
     ]
    },
    {
     "cell_type": "code",
     "collapsed": false,
     "input": [
      "import re, unicodedata\n",
      "from gensim import models\n",
      "import logging\n",
      "logging.basicConfig(format='%(asctime)s : %(levelname)s : %(message)s', level=logging.INFO)"
     ],
     "language": "python",
     "metadata": {},
     "outputs": []
    },
    {
     "cell_type": "code",
     "collapsed": false,
     "input": [
      "fileToRead = 'es_dataYahooQA.txt' #txt con el texto plano\n",
      "# Ficheros del modelo en diferentes formatos\n",
      "fileModel = 'es_modelYahooQA.model'  #.model\n",
      "fileModelBin = 'es_modelYahooQA.model.bin' #.bin\n",
      "fileModelTxt = 'es_modelYahooQA.model.txt' #.txt"
     ],
     "language": "python",
     "metadata": {},
     "outputs": []
    },
    {
     "cell_type": "markdown",
     "metadata": {},
     "source": [
      "Despu\u00e9s de inicializar las variables..."
     ]
    },
    {
     "cell_type": "heading",
     "level": 3,
     "metadata": {},
     "source": [
      "Leo los datos desde el corpus de texto (txt)"
     ]
    },
    {
     "cell_type": "code",
     "collapsed": false,
     "input": [
      "# ---------------------------------------------------\n",
      "# 1. INPUT DATA\n",
      "print \"Fichero:\"\n",
      "print fileToRead\n",
      "\n",
      "sentences = []\n",
      "with open(fileToRead, 'r') as fileData:\n",
      "    for line in fileData:\n",
      "        #Formatear linea si hace falta aqu\u00ed\n",
      "        line = line.lower()\n",
      "        line = line.decode('utf-8')\n",
      "        line = unicodedata.normalize('NFKD', line).encode('ascii','ignore').lower()\n",
      "        line = re.sub('[\\n/:.!,;)()-_?]', '', line)\n",
      "        if len(line) > 1:\n",
      "            sentences.append(line.split(\" \"))\n",
      "        \n",
      "    print \"Cierro fichero.\"\n",
      "    fileData.close()\n",
      "\n",
      "print \"\\nFrases a analizar con word2vec:\"             \n",
      "print len(sentences)"
     ],
     "language": "python",
     "metadata": {},
     "outputs": []
    },
    {
     "cell_type": "heading",
     "level": 3,
     "metadata": {},
     "source": [
      "Creo el modelo (tarda aprox. 1 hora)"
     ]
    },
    {
     "cell_type": "code",
     "collapsed": false,
     "input": [
      "# ---------------------------------------------------\n",
      "# 2. CREATE MODEL\n",
      "# train word2vec \n",
      "# parametros por defecto:\n",
      "# size=100, alpha=0.025, window=5, min_count=5, sample=0, seed=1, workers=1, \n",
      "# min_alpha=0.0001, sg=1, hs=1, negative=0, cbow_mean=0, hashfxn=<built-in function hash>,\n",
      "# iter=1\n",
      "print \"\\nCreo modelo word2vec:\"   \n",
      "model = models.Word2Vec(sentences, size=200)"
     ],
     "language": "python",
     "metadata": {},
     "outputs": []
    },
    {
     "cell_type": "heading",
     "level": 3,
     "metadata": {},
     "source": [
      "Almaceno el modelo"
     ]
    },
    {
     "cell_type": "code",
     "collapsed": false,
     "input": [
      "# ---------------------------------------------------\n",
      "# 4. SAVE MODEL\n",
      "print \"\\nGuardo el modelo en .model:\"  \n",
      "print fileModel \n",
      "model.save(fileModel)\n",
      "print \"\\nGuardo el modelo en .bin:\"  \n",
      "print fileModelBin \n",
      "model.save_word2vec_format(fileModelBin, binary=True)\n",
      "print \"\\n...y guardo el modelo en .txt:\"  \n",
      "print fileModelTxt \n",
      "model.save_word2vec_format(fileModelTxt, binary=False)"
     ],
     "language": "python",
     "metadata": {},
     "outputs": []
    },
    {
     "cell_type": "heading",
     "level": 1,
     "metadata": {},
     "source": [
      "An\u00e1lisis de datos"
     ]
    },
    {
     "cell_type": "heading",
     "level": 3,
     "metadata": {},
     "source": [
      "Cargo el modelo almacenado en el paso anterior"
     ]
    },
    {
     "cell_type": "code",
     "collapsed": false,
     "input": [
      "# ---------------------------------------------------\n",
      "# 1. LOAD MODEL DATA\n",
      "print \"Fichero con el modelo:\"\n",
      "print fileModel\n",
      "\n",
      "print \"Modelo cargado .model:\"\n",
      "model = models.Word2Vec.load(fileModel) "
     ],
     "language": "python",
     "metadata": {},
     "outputs": []
    },
    {
     "cell_type": "heading",
     "level": 3,
     "metadata": {},
     "source": [
      "Testeo el modelo"
     ]
    },
    {
     "cell_type": "markdown",
     "metadata": {},
     "source": [
      "C\u00f3mo se parecen dos palabras entre s\u00ed:"
     ]
    },
    {
     "cell_type": "code",
     "collapsed": false,
     "input": [
      "print \"\\nSimilitud entre:pregunta y novio\"  \n",
      "similitud = model.similarity('pregunta', 'novio')\n",
      "print similitud"
     ],
     "language": "python",
     "metadata": {},
     "outputs": []
    },
    {
     "cell_type": "markdown",
     "metadata": {},
     "source": [
      "Qu\u00e9 5 palabras se parecen m\u00e1s a..."
     ]
    },
    {
     "cell_type": "code",
     "collapsed": false,
     "input": [
      "print \"\\nM\u00e1s similiar a: humanidades\"  \n",
      "similitud = model.most_similar([u'humanidades'], topn=5)\n",
      "print similitud\n",
      "print \"\\nM\u00e1s similiar a: alemania\"  \n",
      "similitud = model.most_similar([u'alemania'], topn=5)\n",
      "print similitud\n",
      "print \"\\nM\u00e1s similiar a: novio\"  \n",
      "similitud = model.most_similar([u'novio'], topn=5)\n",
      "print similitud\n",
      "print \"\\nM\u00e1s similiar a: pregunta\"  \n",
      "similitud = model.most_similar([u'pregunta'], topn=5)\n",
      "print similitud\n",
      "print \"\\nM\u00e1s similiar a: coche\"  \n",
      "similitud = model.most_similar([u'coche'], topn=5)\n",
      "print similitud\n",
      "print \"\\nM\u00e1s similiar a: telecinco\"  \n",
      "similitud = model.most_similar([u'telecinco'], topn=5)\n",
      "print similitud"
     ],
     "language": "python",
     "metadata": {},
     "outputs": []
    },
    {
     "cell_type": "markdown",
     "metadata": {},
     "source": [
      "Qu\u00e9 palabra se parece m\u00e1s a [positive] y no a [negative]"
     ]
    },
    {
     "cell_type": "code",
     "collapsed": false,
     "input": [
      "print \"\\nM\u00e1s similar entre pareja y novio que no se parezca a hombre:\"  \n",
      "mas_similar = model.most_similar(positive=['pareja', 'novio'], negative=['hombre'])\n",
      "print mas_similar"
     ],
     "language": "python",
     "metadata": {},
     "outputs": []
    },
    {
     "cell_type": "markdown",
     "metadata": {},
     "source": [
      "El vector que representa a la palabra..."
     ]
    },
    {
     "cell_type": "code",
     "collapsed": false,
     "input": [
      "print \"\\nWord vector de pregunta:\"  \n",
      "vector = model['pregunta']  # raw numpy vector of a word\n",
      "print vector"
     ],
     "language": "python",
     "metadata": {},
     "outputs": []
    },
    {
     "cell_type": "code",
     "collapsed": false,
     "input": [],
     "language": "python",
     "metadata": {},
     "outputs": []
    }
   ],
   "metadata": {}
  }
 ]
}