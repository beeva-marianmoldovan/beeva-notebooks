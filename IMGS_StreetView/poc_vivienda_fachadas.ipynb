{
 "metadata": {
  "name": "",
  "signature": "sha256:bbe9822204de693c73b1e04945b7c39ee7a7d63ca91f45cde0a35517e74b0fc2"
 },
 "nbformat": 3,
 "nbformat_minor": 0,
 "worksheets": [
  {
   "cells": [
    {
     "cell_type": "code",
     "collapsed": false,
     "input": [
      "import graphlab as gl"
     ],
     "language": "python",
     "metadata": {},
     "outputs": [
      {
       "output_type": "stream",
       "stream": "stderr",
       "text": [
        "A newer version of GraphLab Create (v1.2.1) is available! Your current version is v1.1.\n",
        "You can use pip to upgrade the graphlab-create package. For more information see http://graphlab.com/products/create/upgrade."
       ]
      }
     ],
     "prompt_number": 1
    },
    {
     "cell_type": "code",
     "collapsed": false,
     "input": [
      "from IPython.display import display\n",
      "from IPython.display import Image"
     ],
     "language": "python",
     "metadata": {},
     "outputs": [],
     "prompt_number": 2
    },
    {
     "cell_type": "markdown",
     "metadata": {},
     "source": [
      "#Carga de SFrame imagenes y localizaciones"
     ]
    },
    {
     "cell_type": "code",
     "collapsed": false,
     "input": [
      "imagesylocation = gl.SFrame(\"DS_images_locations\")"
     ],
     "language": "python",
     "metadata": {},
     "outputs": []
    },
    {
     "cell_type": "code",
     "collapsed": false,
     "input": [
      "imagesylocation"
     ],
     "language": "python",
     "metadata": {},
     "outputs": []
    },
    {
     "cell_type": "code",
     "collapsed": false,
     "input": [
      "dataset = gl.SFrame()\n",
      "dataset['image'] = gl.image_analysis.resize(images['image'], 256, 256, 3)\n",
      "dataset['path'] = images['path']\n",
      "dataset['location'] = imagesylocation['location']\n",
      "dataset = dataset.add_row_number()"
     ],
     "language": "python",
     "metadata": {},
     "outputs": []
    },
    {
     "cell_type": "markdown",
     "metadata": {},
     "source": [
      "#Extracci\u00f3n de caracter\u00edsticas con deeplearning"
     ]
    },
    {
     "cell_type": "code",
     "collapsed": false,
     "input": [
      "pretrained_model = gl.load_model('http://s3.amazonaws.com/GraphLab-Datasets/deeplearning/imagenet_model_iter45')"
     ],
     "language": "python",
     "metadata": {},
     "outputs": []
    },
    {
     "cell_type": "code",
     "collapsed": false,
     "input": [
      "dataset['extracted_features'] = pretrained_model.extract_features(dataset)"
     ],
     "language": "python",
     "metadata": {},
     "outputs": []
    },
    {
     "cell_type": "code",
     "collapsed": false,
     "input": [
      "#dataset.save(\"fachadas\")"
     ],
     "language": "python",
     "metadata": {},
     "outputs": []
    },
    {
     "cell_type": "markdown",
     "metadata": {},
     "source": [
      "# Clustering Fachadas"
     ]
    },
    {
     "cell_type": "markdown",
     "metadata": {},
     "source": [
      "# *K-Medias*"
     ]
    },
    {
     "cell_type": "code",
     "collapsed": false,
     "input": [
      "#dataset = gl.SFrame(\"fachadas\")"
     ],
     "language": "python",
     "metadata": {},
     "outputs": []
    },
    {
     "cell_type": "code",
     "collapsed": false,
     "input": [
      "clusters = gl.kmeans.create(dataset=dataset, features=['extracted_features'], num_clusters=2)"
     ],
     "language": "python",
     "metadata": {},
     "outputs": []
    },
    {
     "cell_type": "code",
     "collapsed": false,
     "input": [
      "clusters.get('cluster_info')"
     ],
     "language": "python",
     "metadata": {},
     "outputs": []
    },
    {
     "cell_type": "code",
     "collapsed": false,
     "input": [
      "def show_graphlab_image(i):\n",
      "    img = Image(filename=dataset['path'][i], width=100, height=100)\n",
      "    display(img)"
     ],
     "language": "python",
     "metadata": {},
     "outputs": []
    },
    {
     "cell_type": "code",
     "collapsed": false,
     "input": [
      "def show_cluster(cluster):\n",
      "    for item in clusters.get('cluster_id'):\n",
      "        if item['cluster_id'] == cluster:\n",
      "            print item['row_id']\n",
      "            show_graphlab_image(item['row_id'])"
     ],
     "language": "python",
     "metadata": {},
     "outputs": []
    },
    {
     "cell_type": "code",
     "collapsed": false,
     "input": [
      "show_cluster(0)"
     ],
     "language": "python",
     "metadata": {},
     "outputs": []
    },
    {
     "cell_type": "code",
     "collapsed": false,
     "input": [
      "show_cluster(1)"
     ],
     "language": "python",
     "metadata": {},
     "outputs": []
    },
    {
     "cell_type": "markdown",
     "metadata": {},
     "source": [
      "# SFrame con el cluster correspondiente a las fachadas"
     ]
    },
    {
     "cell_type": "code",
     "collapsed": false,
     "input": [
      "def find_fachadas(cluster):\n",
      "    a = {\"id\":[], \"image\":[], \"path\":[], \"location\":[], \"extracted_features\":[]}\n",
      "    for item in clusters.get('cluster_id'):\n",
      "        if item['cluster_id'] == cluster:\n",
      "            a['id'].append(dataset[item['row_id']]['id'])\n",
      "            a['image'].append(dataset[item['row_id']]['image'])\n",
      "            a['path'].append(dataset[item['row_id']]['path'])\n",
      "            a['location'].append(dataset[item['row_id']]['location'])\n",
      "            a['extracted_features'].append(dataset[item['row_id']]['extracted_features'])\n",
      "    return a"
     ],
     "language": "python",
     "metadata": {},
     "outputs": []
    },
    {
     "cell_type": "code",
     "collapsed": false,
     "input": [
      "x = find_fachadas(1)"
     ],
     "language": "python",
     "metadata": {},
     "outputs": []
    },
    {
     "cell_type": "code",
     "collapsed": false,
     "input": [
      "cluster_fachadas = gl.SFrame(x)"
     ],
     "language": "python",
     "metadata": {},
     "outputs": []
    },
    {
     "cell_type": "code",
     "collapsed": false,
     "input": [
      "cluster_fachadas"
     ],
     "language": "python",
     "metadata": {},
     "outputs": []
    },
    {
     "cell_type": "code",
     "collapsed": false,
     "input": [
      "cluster_fachadas.save(\"cluster_fachadas\")"
     ],
     "language": "python",
     "metadata": {},
     "outputs": []
    }
   ],
   "metadata": {}
  }
 ]
}