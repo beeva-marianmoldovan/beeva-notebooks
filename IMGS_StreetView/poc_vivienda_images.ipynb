{
 "metadata": {
  "name": "",
  "signature": "sha256:6b52eb5551f889dd7048965db0aca57848b73dea34f505cf0b2276657b7f7185"
 },
 "nbformat": 3,
 "nbformat_minor": 0,
 "worksheets": [
  {
   "cells": [
    {
     "cell_type": "code",
     "collapsed": false,
     "input": [
      "import requests, re, BeautifulSoup"
     ],
     "language": "python",
     "metadata": {},
     "outputs": [],
     "prompt_number": 1
    },
    {
     "cell_type": "code",
     "collapsed": false,
     "input": [
      "from BeautifulSoup import BeautifulSoup"
     ],
     "language": "python",
     "metadata": {},
     "outputs": [],
     "prompt_number": 2
    },
    {
     "cell_type": "code",
     "collapsed": false,
     "input": [
      "import sys\n",
      "reload(sys)\n",
      "sys.setdefaultencoding(\"utf-8\")"
     ],
     "language": "python",
     "metadata": {},
     "outputs": [],
     "prompt_number": 3
    },
    {
     "cell_type": "markdown",
     "metadata": {},
     "source": [
      "#Scraping BBVA Vivienda (Inmuebles Comunidad de Madrid)"
     ]
    },
    {
     "cell_type": "code",
     "collapsed": false,
     "input": [
      "r = requests.get('https://bbvavivienda.com/buscador/resultado?lang=ES&c_tipges_filt=1&c_tipinm_filt=1&solo_vinculados_01_filt=0&c_campana_filt=0&c_propietario_filt=0&c_subtipinm_filt=0&nuevo_01_filt=0&foto_01_filt=0&precio_min_filt=0&precio_max_filt=0&cuota_max_filt=0&n_habitaciones_min_filt=0&m2_min_filt=0&garaje_012_filt=0&ascensor_01_filt=0&a_acondicionado_01_filt=0&trastero_01_filt=0&calefaccion_01_filt=0&piscina_01_filt=0&multipropiedad_01_filt=0&tipo_buscador=0&promo_01_filt=0&latitud_filt=0.0&longitud_filt=0.0&zoom_filt=10&radio_filt=0&direccion_filt=&order_by_filt=nivel_prioridad_1%20desc,%20precio%20asc%20NULLS%20LAST&c_provin_filt=28&limit=500')"
     ],
     "language": "python",
     "metadata": {},
     "outputs": [],
     "prompt_number": 4
    },
    {
     "cell_type": "code",
     "collapsed": false,
     "input": [
      "s = BeautifulSoup(r.text)"
     ],
     "language": "python",
     "metadata": {},
     "outputs": [],
     "prompt_number": 5
    },
    {
     "cell_type": "code",
     "collapsed": false,
     "input": [
      "divs = s.findAll('div', {'onclick':re.compile('.*ficha_inmueble.*')})"
     ],
     "language": "python",
     "metadata": {},
     "outputs": [],
     "prompt_number": 6
    },
    {
     "cell_type": "code",
     "collapsed": false,
     "input": [
      "divs[0]['onclick'].replace(\"location.href=\",\"\").replace(\"'\",\"\")"
     ],
     "language": "python",
     "metadata": {},
     "outputs": [
      {
       "metadata": {},
       "output_type": "pyout",
       "prompt_number": 7,
       "text": [
        "u'/buscador/ficha_inmueble?c_inmueble=143004&lang=ES&c_tipges_filt=1&c_provin_filt=28&c_pobla_filt=0&c_tipinm_filt=1&solo_vinculados_01_filt=0&c_campana_filt=0&c_propietario_filt=0&c_subtipinm_filt=0&nuevo_01_filt=0&foto_01_filt=0&precio_min_filt=0&precio_max_filt=0&cuota_max_filt=0&n_habitaciones_min_filt=0&m2_min_filt=0&garaje_012_filt=0&ascensor_01_filt=0&a_acondicionado_01_filt=0&trastero_01_filt=0&calefaccion_01_filt=0&piscina_01_filt=0&multipropiedad_01_filt=0&promo_01_filt=0&latitud_filt=0.0&longitud_filt=0.0&zoom_filt=10&radio_filt=0&order_by_filt=nivel_prioridad_1 desc, precio asc NULLS LAST&tipo_buscador=0&modo_mapa=L&limit=500&n=0&n_inmuebles=1001&n_registros=297&posicion_ficha=1'"
       ]
      }
     ],
     "prompt_number": 7
    },
    {
     "cell_type": "code",
     "collapsed": false,
     "input": [
      "urls = divs"
     ],
     "language": "python",
     "metadata": {},
     "outputs": [],
     "prompt_number": 8
    },
    {
     "cell_type": "code",
     "collapsed": false,
     "input": [
      "def clean(url):\n",
      "    return 'https://bbvavivienda.com' + url['onclick'].replace(\"location.href=\",\"\").replace(\"'\",\"\")"
     ],
     "language": "python",
     "metadata": {},
     "outputs": [],
     "prompt_number": 9
    },
    {
     "cell_type": "code",
     "collapsed": false,
     "input": [
      "urls = map(clean, divs)"
     ],
     "language": "python",
     "metadata": {},
     "outputs": [],
     "prompt_number": 10
    },
    {
     "cell_type": "code",
     "collapsed": false,
     "input": [
      "x = requests.get(urls[0])"
     ],
     "language": "python",
     "metadata": {},
     "outputs": [],
     "prompt_number": 11
    },
    {
     "cell_type": "code",
     "collapsed": false,
     "input": [
      "def get_images(url):\n",
      "    vdict = {}\n",
      "    vdict['url'] = url\n",
      "    x = requests.get(url)\n",
      "    ss = BeautifulSoup(x.text)\n",
      "    vdict['location'] = ss.find('p', {'id':'tituloinmu'}).text.decode('utf-8')\n",
      "    vdict['prize'] = ss.find('p', {'class':'precio'}).text.decode('utf-8')\n",
      "    images = []\n",
      "    dataset = []\n",
      "    aux = re.findall(re.compile(\"fotos\\[.*\\] = \\\".*\\\";\"), x.text)\n",
      "    vdict['images'] = []\n",
      "    for item in aux:\n",
      "        image_url = 'https://bbvavivienda.com/multimedia/inmuebles/fotos/grandes/' + item[12:-2]\n",
      "        vdict['images'].append(image_url)\n",
      "        images.append(image_url)\n",
      "    dataset.append(vdict)"
     ],
     "language": "python",
     "metadata": {},
     "outputs": [],
     "prompt_number": 18
    },
    {
     "cell_type": "code",
     "collapsed": false,
     "input": [
      "for item in urls:\n",
      "    get_images(item)"
     ],
     "language": "python",
     "metadata": {},
     "outputs": [],
     "prompt_number": 19
    },
    {
     "cell_type": "code",
     "collapsed": false,
     "input": [
      "dataset"
     ],
     "language": "python",
     "metadata": {},
     "outputs": [
      {
       "ename": "NameError",
       "evalue": "name 'dataset' is not defined",
       "output_type": "pyerr",
       "traceback": [
        "\u001b[1;31m---------------------------------------------------------------------------\u001b[0m\n\u001b[1;31mNameError\u001b[0m                                 Traceback (most recent call last)",
        "\u001b[1;32m<ipython-input-20-83fd341e0ebf>\u001b[0m in \u001b[0;36m<module>\u001b[1;34m()\u001b[0m\n\u001b[1;32m----> 1\u001b[1;33m \u001b[0mdataset\u001b[0m\u001b[1;33m\u001b[0m\u001b[0m\n\u001b[0m",
        "\u001b[1;31mNameError\u001b[0m: name 'dataset' is not defined"
       ]
      }
     ],
     "prompt_number": 20
    },
    {
     "cell_type": "markdown",
     "metadata": {},
     "source": [
      "#Descarga de las im\u00e1genes de viviendas"
     ]
    },
    {
     "cell_type": "code",
     "collapsed": false,
     "input": [
      "import urllib"
     ],
     "language": "python",
     "metadata": {},
     "outputs": [],
     "prompt_number": 21
    },
    {
     "cell_type": "code",
     "collapsed": false,
     "input": [
      "index = 1\n",
      "for i in xrange(len(dataset)):\n",
      "    dataset[i]['imagefiles'] = []\n",
      "    for image in dataset[i]['images']:\n",
      "        filename = \"/home/paulacordero/Repositorios/beeva-notebooks/Vivienda/images_location/%04d.jpg\" % (index)\n",
      "        urllib.urlretrieve(image.replace('\"',''), filename)\n",
      "        dataset[i]['imagefiles'].append(filename)\n",
      "        index = index+1"
     ],
     "language": "python",
     "metadata": {},
     "outputs": [],
     "prompt_number": 22
    },
    {
     "cell_type": "markdown",
     "metadata": {},
     "source": [
      "#Creaci\u00f3n de SFrame con las im\u00e1genes asociadas a las viviendas"
     ]
    },
    {
     "cell_type": "code",
     "collapsed": false,
     "input": [
      "def get_images_info():\n",
      "    a = {\"imagefiles\":[], \"location\":[], \"prize\":[]}\n",
      "    for item in xrange(len(dataset)):\n",
      "        for image in xrange(len(dataset[item]['imagefiles'])):\n",
      "            a['imagefiles'].append(dataset[item]['imagefiles'][image])\n",
      "            a['location'].append(dataset[item]['location'])\n",
      "            a['prize'].append(dataset[item]['prize'])\n",
      "    return a"
     ],
     "language": "python",
     "metadata": {},
     "outputs": [],
     "prompt_number": 2
    },
    {
     "cell_type": "code",
     "collapsed": false,
     "input": [
      "x = get_images_info()"
     ],
     "language": "python",
     "metadata": {},
     "outputs": [],
     "prompt_number": 25
    },
    {
     "cell_type": "code",
     "collapsed": false,
     "input": [
      "datasetf = gl.SFrame(x)"
     ],
     "language": "python",
     "metadata": {},
     "outputs": [],
     "prompt_number": 27
    },
    {
     "cell_type": "code",
     "collapsed": false,
     "input": [
      "datasetf"
     ],
     "language": "python",
     "metadata": {},
     "outputs": [
      {
       "html": [
        "<div style=\"max-height:1000px;max-width:1500px;overflow:auto;\"><table frame=\"box\" rules=\"cols\">\n",
        "    <tr>\n",
        "        <th style=\"padding-left: 1em; padding-right: 1em; text-align: center\">imagefiles</th>\n",
        "        <th style=\"padding-left: 1em; padding-right: 1em; text-align: center\">location</th>\n",
        "        <th style=\"padding-left: 1em; padding-right: 1em; text-align: center\">prize</th>\n",
        "    </tr>\n",
        "    <tr>\n",
        "        <td style=\"padding-left: 1em; padding-right: 1em; text-align: center; vertical-align: top\">/home/paulacordero/Reposi<br>torios/beeva-notebook ...</td>\n",
        "        <td style=\"padding-left: 1em; padding-right: 1em; text-align: center; vertical-align: top\">JOSE VILLENA, 28017<br>MADRID, MADRID</td>\n",
        "        <td style=\"padding-left: 1em; padding-right: 1em; text-align: center; vertical-align: top\">33.000 \\xe2\\x82\\xac</td>\n",
        "    </tr>\n",
        "    <tr>\n",
        "        <td style=\"padding-left: 1em; padding-right: 1em; text-align: center; vertical-align: top\">/home/paulacordero/Reposi<br>torios/beeva-notebook ...</td>\n",
        "        <td style=\"padding-left: 1em; padding-right: 1em; text-align: center; vertical-align: top\">ROCAFORT, 28021 MADRID,<br>MADRID</td>\n",
        "        <td style=\"padding-left: 1em; padding-right: 1em; text-align: center; vertical-align: top\">36.800 \\xe2\\x82\\xac</td>\n",
        "    </tr>\n",
        "    <tr>\n",
        "        <td style=\"padding-left: 1em; padding-right: 1em; text-align: center; vertical-align: top\">/home/paulacordero/Reposi<br>torios/beeva-notebook ...</td>\n",
        "        <td style=\"padding-left: 1em; padding-right: 1em; text-align: center; vertical-align: top\">PE\\xc3\\x91A DE LA<br>ATALAYA, 28018 MADRID ...</td>\n",
        "        <td style=\"padding-left: 1em; padding-right: 1em; text-align: center; vertical-align: top\">39.400 \\xe2\\x82\\xac</td>\n",
        "    </tr>\n",
        "    <tr>\n",
        "        <td style=\"padding-left: 1em; padding-right: 1em; text-align: center; vertical-align: top\">/home/paulacordero/Reposi<br>torios/beeva-notebook ...</td>\n",
        "        <td style=\"padding-left: 1em; padding-right: 1em; text-align: center; vertical-align: top\">PE\\xc3\\x91A DE LA<br>ATALAYA, 28018 MADRID ...</td>\n",
        "        <td style=\"padding-left: 1em; padding-right: 1em; text-align: center; vertical-align: top\">39.400 \\xe2\\x82\\xac</td>\n",
        "    </tr>\n",
        "    <tr>\n",
        "        <td style=\"padding-left: 1em; padding-right: 1em; text-align: center; vertical-align: top\">/home/paulacordero/Reposi<br>torios/beeva-notebook ...</td>\n",
        "        <td style=\"padding-left: 1em; padding-right: 1em; text-align: center; vertical-align: top\">PE\\xc3\\x91A DE LA<br>ATALAYA, 28018 MADRID ...</td>\n",
        "        <td style=\"padding-left: 1em; padding-right: 1em; text-align: center; vertical-align: top\">39.400 \\xe2\\x82\\xac</td>\n",
        "    </tr>\n",
        "    <tr>\n",
        "        <td style=\"padding-left: 1em; padding-right: 1em; text-align: center; vertical-align: top\">/home/paulacordero/Reposi<br>torios/beeva-notebook ...</td>\n",
        "        <td style=\"padding-left: 1em; padding-right: 1em; text-align: center; vertical-align: top\">PE\\xc3\\x91A DE LA<br>ATALAYA, 28018 MADRID ...</td>\n",
        "        <td style=\"padding-left: 1em; padding-right: 1em; text-align: center; vertical-align: top\">39.400 \\xe2\\x82\\xac</td>\n",
        "    </tr>\n",
        "    <tr>\n",
        "        <td style=\"padding-left: 1em; padding-right: 1em; text-align: center; vertical-align: top\">/home/paulacordero/Reposi<br>torios/beeva-notebook ...</td>\n",
        "        <td style=\"padding-left: 1em; padding-right: 1em; text-align: center; vertical-align: top\">PE\\xc3\\x91A DE LA<br>ATALAYA, 28018 MADRID ...</td>\n",
        "        <td style=\"padding-left: 1em; padding-right: 1em; text-align: center; vertical-align: top\">39.400 \\xe2\\x82\\xac</td>\n",
        "    </tr>\n",
        "    <tr>\n",
        "        <td style=\"padding-left: 1em; padding-right: 1em; text-align: center; vertical-align: top\">/home/paulacordero/Reposi<br>torios/beeva-notebook ...</td>\n",
        "        <td style=\"padding-left: 1em; padding-right: 1em; text-align: center; vertical-align: top\">PE\\xc3\\x91A DE LA<br>ATALAYA, 28018 MADRID ...</td>\n",
        "        <td style=\"padding-left: 1em; padding-right: 1em; text-align: center; vertical-align: top\">39.400 \\xe2\\x82\\xac</td>\n",
        "    </tr>\n",
        "    <tr>\n",
        "        <td style=\"padding-left: 1em; padding-right: 1em; text-align: center; vertical-align: top\">/home/paulacordero/Reposi<br>torios/beeva-notebook ...</td>\n",
        "        <td style=\"padding-left: 1em; padding-right: 1em; text-align: center; vertical-align: top\">GODELLA, 28021 MADRID,<br>MADRID</td>\n",
        "        <td style=\"padding-left: 1em; padding-right: 1em; text-align: center; vertical-align: top\">43.000 \\xe2\\x82\\xac</td>\n",
        "    </tr>\n",
        "    <tr>\n",
        "        <td style=\"padding-left: 1em; padding-right: 1em; text-align: center; vertical-align: top\">/home/paulacordero/Reposi<br>torios/beeva-notebook ...</td>\n",
        "        <td style=\"padding-left: 1em; padding-right: 1em; text-align: center; vertical-align: top\">GODELLA, 28021 MADRID,<br>MADRID</td>\n",
        "        <td style=\"padding-left: 1em; padding-right: 1em; text-align: center; vertical-align: top\">43.000 \\xe2\\x82\\xac</td>\n",
        "    </tr>\n",
        "    <tr>\n",
        "        <td style=\"padding-left: 1em; padding-right: 1em; text-align: center; vertical-align: top\">...</td>\n",
        "        <td style=\"padding-left: 1em; padding-right: 1em; text-align: center; vertical-align: top\">...</td>\n",
        "        <td style=\"padding-left: 1em; padding-right: 1em; text-align: center; vertical-align: top\">...</td>\n",
        "    </tr>\n",
        "</table>\n",
        "[945 rows x 3 columns]<br/>Note: Only the head of the SFrame is printed.<br/>You can use print_rows(num_rows=m, num_columns=n) to print more rows and columns.\n",
        "</div>"
       ],
       "metadata": {},
       "output_type": "pyout",
       "prompt_number": 28,
       "text": [
        "Columns:\n",
        "\timagefiles\tstr\n",
        "\tlocation\tstr\n",
        "\tprize\tstr\n",
        "\n",
        "Rows: 945\n",
        "\n",
        "Data:\n",
        "+--------------------------------+--------------------------------+---------------------+\n",
        "|           imagefiles           |            location            |        prize        |\n",
        "+--------------------------------+--------------------------------+---------------------+\n",
        "| /home/paulacordero/Reposit ... | JOSE VILLENA, 28017 MADRID ... | 33.000 \\xe2\\x82\\xac |\n",
        "| /home/paulacordero/Reposit ... | ROCAFORT, 28021 MADRID, MADRID | 36.800 \\xe2\\x82\\xac |\n",
        "| /home/paulacordero/Reposit ... | PE\\xc3\\x91A DE LA ATALAYA, ... | 39.400 \\xe2\\x82\\xac |\n",
        "| /home/paulacordero/Reposit ... | PE\\xc3\\x91A DE LA ATALAYA, ... | 39.400 \\xe2\\x82\\xac |\n",
        "| /home/paulacordero/Reposit ... | PE\\xc3\\x91A DE LA ATALAYA, ... | 39.400 \\xe2\\x82\\xac |\n",
        "| /home/paulacordero/Reposit ... | PE\\xc3\\x91A DE LA ATALAYA, ... | 39.400 \\xe2\\x82\\xac |\n",
        "| /home/paulacordero/Reposit ... | PE\\xc3\\x91A DE LA ATALAYA, ... | 39.400 \\xe2\\x82\\xac |\n",
        "| /home/paulacordero/Reposit ... | PE\\xc3\\x91A DE LA ATALAYA, ... | 39.400 \\xe2\\x82\\xac |\n",
        "| /home/paulacordero/Reposit ... | GODELLA, 28021 MADRID, MADRID  | 43.000 \\xe2\\x82\\xac |\n",
        "| /home/paulacordero/Reposit ... | GODELLA, 28021 MADRID, MADRID  | 43.000 \\xe2\\x82\\xac |\n",
        "|              ...               |              ...               |         ...         |\n",
        "+--------------------------------+--------------------------------+---------------------+\n",
        "[945 rows x 3 columns]\n",
        "Note: Only the head of the SFrame is printed.\n",
        "You can use print_rows(num_rows=m, num_columns=n) to print more rows and columns."
       ]
      }
     ],
     "prompt_number": 28
    },
    {
     "cell_type": "code",
     "collapsed": false,
     "input": [
      "datasetf.save(\"DS_images_locations\")"
     ],
     "language": "python",
     "metadata": {},
     "outputs": [],
     "prompt_number": 29
    }
   ],
   "metadata": {}
  }
 ]
}