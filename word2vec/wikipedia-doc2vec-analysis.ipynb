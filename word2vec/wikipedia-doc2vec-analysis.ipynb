{
 "metadata": {
  "name": "",
  "signature": "sha256:1ac9cff8fa0bf67d11164a9ad56d4d2cc7dd8ba9a4a65e9916e632983331bdce"
 },
 "nbformat": 3,
 "nbformat_minor": 0,
 "worksheets": [
  {
   "cells": [
    {
     "cell_type": "code",
     "collapsed": false,
     "input": [
      "import re, unicodedata\n",
      "from gensim import models\n",
      "import logging, string\n",
      "logging.basicConfig(format='%(asctime)s : %(levelname)s : %(message)s', level=logging.INFO)"
     ],
     "language": "python",
     "metadata": {},
     "outputs": [],
     "prompt_number": 1
    },
    {
     "cell_type": "code",
     "collapsed": false,
     "input": [
      "fileDataProcessed = '/home/nievesabalos/Escritorio/nlp/datasets/wikipedia/data/es_docsWikipedia.txt'"
     ],
     "language": "python",
     "metadata": {},
     "outputs": [],
     "prompt_number": 2
    },
    {
     "cell_type": "code",
     "collapsed": false,
     "input": [
      "sentences = models.doc2vec.LabeledLineSentence(fileDataProcessed)\n",
      "#print sentences[0:50]\n",
      "# ejemplo: sentence = LabeledSentence(words=[u'some', u'words', u'here'], labels=[u'SENT_1'])"
     ],
     "language": "python",
     "metadata": {},
     "outputs": [],
     "prompt_number": 3
    },
    {
     "cell_type": "code",
     "collapsed": false,
     "input": [
      "#for frase in sentences:\n",
      "#    print frase\n",
      "    \n",
      "print type(sentences)    "
     ],
     "language": "python",
     "metadata": {},
     "outputs": [
      {
       "output_type": "stream",
       "stream": "stdout",
       "text": [
        "<class 'gensim.models.doc2vec.LabeledLineSentence'>\n"
       ]
      }
     ],
     "prompt_number": 4
    },
    {
     "cell_type": "code",
     "collapsed": false,
     "input": [
      "fileModel = '/home/nievesabalos/Escritorio/nlp/datasets/wikipedia/doc2vec models/1/modelWikipedia.doc2vec'  #.model\n",
      "print \"\\n Cargo desde el fichero:\"\n",
      "print fileModel\n",
      "\n",
      "model = models.Doc2Vec.load(fileModel)\n",
      "print \"\\n Modelo cargado.\""
     ],
     "language": "python",
     "metadata": {},
     "outputs": [
      {
       "output_type": "stream",
       "stream": "stdout",
       "text": [
        "\n",
        " Cargo desde el fichero:\n",
        "/home/nievesabalos/Escritorio/nlp/datasets/wikipedia/doc2vec models/1/modelWikipedia.doc2vec\n",
        "\n",
        " Modelo cargado."
       ]
      },
      {
       "output_type": "stream",
       "stream": "stdout",
       "text": [
        "\n"
       ]
      }
     ],
     "prompt_number": 5
    },
    {
     "cell_type": "code",
     "collapsed": false,
     "input": [
      "# m\u00e9todo que dado un label, me da el conjunto de palabras asociado:\n",
      "# \"SENT_5550\" >> ?\n",
      "\n",
      "def find(label):\n",
      "    for frase in sentences:\n",
      "        #print frase.labels\n",
      "        if label == frase.labels[0]:\n",
      "            return frase.words"
     ],
     "language": "python",
     "metadata": {},
     "outputs": [],
     "prompt_number": 6
    },
    {
     "cell_type": "code",
     "collapsed": false,
     "input": [
      "print model.most_similar(positive=['pareja','novio'], negative=['hombre'])"
     ],
     "language": "python",
     "metadata": {},
     "outputs": [
      {
       "output_type": "stream",
       "stream": "stdout",
       "text": [
        "[(u'mentora', 0.44574105739593506), (u'novia', 0.4367799758911133), (u'desvinculacion', 0.435934454202652), (u'trifulca', 0.4228056073188782), (u'hermana', 0.4168326258659363), (u'sexma', 0.41255271434783936), (u'inexactitud', 0.40767136216163635), (u'limusina', 0.4046294093132019), (u'cubeta', 0.40453338623046875), (u'caseria', 0.4038611054420471)]\n"
       ]
      }
     ],
     "prompt_number": 7
    },
    {
     "cell_type": "code",
     "collapsed": false,
     "input": [
      "print model.most_similar(\"categoria\")"
     ],
     "language": "python",
     "metadata": {},
     "outputs": [
      {
       "output_type": "stream",
       "stream": "stdout",
       "text": [
        "[(u'precandidatura', 0.4698207378387451), (u'presuposicion', 0.4671105444431305), (u'mazmorra', 0.46105697751045227), (u'competicion', 0.4591946005821228), (u'autoridad', 0.457136332988739), (u'posicion', 0.4501588046550751), (u'plasmacion', 0.4471653699874878), (u'subcomarca', 0.4471583962440491), (u'comparecencia', 0.4467800259590149), (u'cartelera', 0.4458709955215454)]\n"
       ]
      }
     ],
     "prompt_number": 8
    },
    {
     "cell_type": "code",
     "collapsed": false,
     "input": [
      "print model.most_similar(\"idioma\")"
     ],
     "language": "python",
     "metadata": {},
     "outputs": [
      {
       "output_type": "stream",
       "stream": "stdout",
       "text": [
        "[(u'dialecto', 0.5605257153511047), ('SENT_138515', 0.47013169527053833), (u'cenotafio', 0.44653987884521484), (u'neoplatonismo', 0.44071370363235474), (u'ruteno', 0.43706002831459045), (u'internacionalismo', 0.4268314838409424), (u'multiverso', 0.42315101623535156), (u'galgo', 0.4122343063354492), (u'expansionismo', 0.4115065336227417), (u'centroide', 0.40597134828567505)]\n"
       ]
      }
     ],
     "prompt_number": 9
    },
    {
     "cell_type": "code",
     "collapsed": false,
     "input": [
      "print find('SENT_138515')"
     ],
     "language": "python",
     "metadata": {},
     "outputs": [
      {
       "output_type": "stream",
       "stream": "stdout",
       "text": [
        "[u'fraccion', u'continua', u'de', u'euler', u'en', u'teoria', u'analitica', u'de', u'fracciones', u'continuas', u'la', u'fraccion', u'continua', u'de', u'euler', u'es', u'una', u'identidad', u'que', u'conecta', u'una', u'clase', u'general', u'de', u'series', u'infinitas', u'con', u'una', u'fraccion', u'continua', u'infinita', u'publicada', u'por', u'primera', u'vez', u'en', u'1748', u'fue', u'considerada', u'en', u'un', u'principio', u'como', u'una', u'identidad', u'simple', u'que', u'conectaba', u'una', u'suma', u'de', u'terminos', u'finitos', u'con', u'una', u'fraccion', u'continua', u'finita', u'donde', u'la', u'extension', u'al', u'caso', u'infinito', u'aparecia', u'inmediatamente', u'actualmente', u'es', u'una', u'muy', u'apreciada', u'y', u'util', u'herramienta', u'en', u'desarrollos', u'analiticos', u'en', u'el', u'problema', u'de', u'la', u'convergencia', u'general', u'para', u'fracciones', u'continuas', u'infinitas', u'con', u'elementos', u'complejos', u'formulacion', u'original', u'leonhard', u'euler', u'obtuvo', u'la', u'formula', u'como', u'una', u'identidad', u'que', u'conecta', u'una', u'suma', u'finita', u'de', u'productos', u'con', u'una', u'fraccion', u'continua', u'finita', u'como', u'la', u'identidad', u'puede', u'ser', u'facilmente', u'obtenida', u'mediante', u'induccion', u'en', u'n', u'y', u'por', u'lo', u'tanto', u'tambien', u'aplicable', u'en', u'el', u'caso', u'limite', u'si', u'la', u'expresion', u'de', u'la', u'parte', u'izquierda', u'tiende', u'a', u'expresarse', u'como', u'una', u'serie', u'convergente', u'infinita', u'la', u'expresion', u'de', u'la', u'derecha', u'tambien', u'tendera', u'a', u'expresarse', u'como', u'una', u'fraccion', u'continua', u'infinita', u'convergente', u'notacion', u'moderna', u'si', u'math', u'es', u'una', u'fraccion', u'continua', u'con', u'elementos', u'complejos', u'y', u'ninguno', u'de', u'los', u'denominadores', u'b', u'i', u'son', u'cero', u'una', u'secuencia', u'de', u'ratios', u'r', u'i', u'puede', u'ser', u'definida', u'por', u'math', u'para', u'un', u'x', u'y', u'un', u'r', u'i', u'asi', u'definidos', u'las', u'siguientes', u'igualdades', u'pueden', u'demostrarse', u'por', u'induccion', u'cfrac', u'1', u'1', u'cfrac', u'r', u'1', u'1', u'r', u'1', u'cfrac', u'r', u'2', u'1', u'r', u'2', u'cfrac', u'r', u'3', u'ddots', u'math', u'esta', u'igualdad', u'se', u'puede', u'entender', u'como', u'una', u'equivalencia', u'en', u'el', u'sentido', u'de', u'que', u'la', u'n', u'esimo', u'termino', u'convergente', u'de', u'cada', u'fraccion', u'continua', u'es', u'igual', u'a', u'la', u'n', u'esima', u'suma', u'parcial', u'de', u'la', u'serie', u'mostrada', u'arriba', u'asi', u'si', u'esa', u'serie', u'es', u'convergente', u'o', u'uniformemente', u'convergente', u'cuando', u'los', u'a', u'i', u'y', u'b', u'i', u'son', u'funciones', u'de', u'variable', u'compleja', u'z', u'entonces', u'las', u'fracciones', u'continuas', u'equivalentes', u'tambien', u'convergen', u'o', u'convergen', u'uniformemente']\n"
       ]
      }
     ],
     "prompt_number": 10
    },
    {
     "cell_type": "code",
     "collapsed": false,
     "input": [
      "print model.most_similar(\"religion\")"
     ],
     "language": "python",
     "metadata": {},
     "outputs": [
      {
       "output_type": "stream",
       "stream": "stdout",
       "text": [
        "[(u'doctrina', 0.5052248239517212), (u'dragona', 0.4546683430671692), (u'cabala', 0.4518240690231323), (u'iglesia', 0.4516366720199585), (u'confesionalidad', 0.4512009024620056), (u'fugacidad', 0.44544079899787903), (u'rudeza', 0.4453620910644531), (u'oralidad', 0.44514161348342896), (u'tradicion', 0.44208118319511414), (u'iconografia', 0.4395788908004761)]\n"
       ]
      }
     ],
     "prompt_number": 11
    },
    {
     "cell_type": "code",
     "collapsed": false,
     "input": [
      "print model.most_similar(\"musica\")"
     ],
     "language": "python",
     "metadata": {},
     "outputs": [
      {
       "output_type": "stream",
       "stream": "stdout",
       "text": [
        "[(u'psicodelia', 0.4242607653141022), (u'microcuenca', 0.4205441176891327), (u'homogeneizacion', 0.4130086898803711), (u'cultura', 0.4098353981971741), (u'trompa', 0.4064173698425293), (u'lirica', 0.40606361627578735), (u'promocion', 0.39727795124053955), (u'popularizacion', 0.39693528413772583), (u'profundizacion', 0.3959210515022278), (u'comparticion', 0.39522039890289307)]\n"
       ]
      }
     ],
     "prompt_number": 12
    },
    {
     "cell_type": "code",
     "collapsed": false,
     "input": [
      "print model.most_similar(['religion','espiritualidad','creencias'])"
     ],
     "language": "python",
     "metadata": {},
     "outputs": [
      {
       "output_type": "stream",
       "stream": "stdout",
       "text": [
        "[(u'idealizacion', 0.4872979521751404), (u'creencia', 0.47978097200393677), (u'dignificacion', 0.4773831367492676), (u'cabala', 0.4740425944328308), (u'inutilidad', 0.4623410701751709), (u'ontologia', 0.45905283093452454), (u'costumbres', 0.45167988538742065), (u'idiosincrasia', 0.450738787651062), (u'doctrina', 0.450671523809433), (u'intransigencia', 0.4493575990200043)]\n"
       ]
      }
     ],
     "prompt_number": 15
    },
    {
     "cell_type": "code",
     "collapsed": false,
     "input": [
      "print model.most_similar(['religion','espiritualidad'])"
     ],
     "language": "python",
     "metadata": {},
     "outputs": [
      {
       "output_type": "stream",
       "stream": "stdout",
       "text": [
        "[(u'cabala', 0.5480743646621704), (u'doctrina', 0.5158454775810242), (u'dignificacion', 0.512885570526123), (u'recitacion', 0.5102410316467285), (u'interioridad', 0.50914466381073), (u'inutilidad', 0.5090277791023254), (u'dragona', 0.5067778825759888), (u'inconstancia', 0.5063215494155884), (u'kaaba', 0.5049947500228882), (u'apatia', 0.5006382465362549)]\n"
       ]
      }
     ],
     "prompt_number": 16
    },
    {
     "cell_type": "code",
     "collapsed": false,
     "input": [
      "print model.n_similarity(['religion','cristianos'], ['religion','raelianos'])"
     ],
     "language": "python",
     "metadata": {},
     "outputs": [
      {
       "ename": "KeyError",
       "evalue": "'raelianos'",
       "output_type": "pyerr",
       "traceback": [
        "\u001b[1;31m---------------------------------------------------------------------------\u001b[0m\n\u001b[1;31mKeyError\u001b[0m                                  Traceback (most recent call last)",
        "\u001b[1;32m<ipython-input-17-be16d57c37fd>\u001b[0m in \u001b[0;36m<module>\u001b[1;34m()\u001b[0m\n\u001b[1;32m----> 1\u001b[1;33m \u001b[1;32mprint\u001b[0m \u001b[0mmodel\u001b[0m\u001b[1;33m.\u001b[0m\u001b[0mn_similarity\u001b[0m\u001b[1;33m(\u001b[0m\u001b[1;33m[\u001b[0m\u001b[1;34m'religion'\u001b[0m\u001b[1;33m,\u001b[0m\u001b[1;34m'cristianos'\u001b[0m\u001b[1;33m]\u001b[0m\u001b[1;33m,\u001b[0m \u001b[1;33m[\u001b[0m\u001b[1;34m'religion'\u001b[0m\u001b[1;33m,\u001b[0m\u001b[1;34m'raelianos'\u001b[0m\u001b[1;33m]\u001b[0m\u001b[1;33m)\u001b[0m\u001b[1;33m\u001b[0m\u001b[0m\n\u001b[0m",
        "\u001b[1;32m/home/nievesabalos/anaconda/lib/python2.7/site-packages/gensim/models/word2vec.pyc\u001b[0m in \u001b[0;36mn_similarity\u001b[1;34m(self, ws1, ws2)\u001b[0m\n\u001b[0;32m    801\u001b[0m         \"\"\"\n\u001b[0;32m    802\u001b[0m         \u001b[0mv1\u001b[0m \u001b[1;33m=\u001b[0m \u001b[1;33m[\u001b[0m\u001b[0mself\u001b[0m\u001b[1;33m[\u001b[0m\u001b[0mword\u001b[0m\u001b[1;33m]\u001b[0m \u001b[1;32mfor\u001b[0m \u001b[0mword\u001b[0m \u001b[1;32min\u001b[0m \u001b[0mws1\u001b[0m\u001b[1;33m]\u001b[0m\u001b[1;33m\u001b[0m\u001b[0m\n\u001b[1;32m--> 803\u001b[1;33m         \u001b[0mv2\u001b[0m \u001b[1;33m=\u001b[0m \u001b[1;33m[\u001b[0m\u001b[0mself\u001b[0m\u001b[1;33m[\u001b[0m\u001b[0mword\u001b[0m\u001b[1;33m]\u001b[0m \u001b[1;32mfor\u001b[0m \u001b[0mword\u001b[0m \u001b[1;32min\u001b[0m \u001b[0mws2\u001b[0m\u001b[1;33m]\u001b[0m\u001b[1;33m\u001b[0m\u001b[0m\n\u001b[0m\u001b[0;32m    804\u001b[0m         \u001b[1;32mreturn\u001b[0m \u001b[0mdot\u001b[0m\u001b[1;33m(\u001b[0m\u001b[0mmatutils\u001b[0m\u001b[1;33m.\u001b[0m\u001b[0munitvec\u001b[0m\u001b[1;33m(\u001b[0m\u001b[0marray\u001b[0m\u001b[1;33m(\u001b[0m\u001b[0mv1\u001b[0m\u001b[1;33m)\u001b[0m\u001b[1;33m.\u001b[0m\u001b[0mmean\u001b[0m\u001b[1;33m(\u001b[0m\u001b[0maxis\u001b[0m\u001b[1;33m=\u001b[0m\u001b[1;36m0\u001b[0m\u001b[1;33m)\u001b[0m\u001b[1;33m)\u001b[0m\u001b[1;33m,\u001b[0m \u001b[0mmatutils\u001b[0m\u001b[1;33m.\u001b[0m\u001b[0munitvec\u001b[0m\u001b[1;33m(\u001b[0m\u001b[0marray\u001b[0m\u001b[1;33m(\u001b[0m\u001b[0mv2\u001b[0m\u001b[1;33m)\u001b[0m\u001b[1;33m.\u001b[0m\u001b[0mmean\u001b[0m\u001b[1;33m(\u001b[0m\u001b[0maxis\u001b[0m\u001b[1;33m=\u001b[0m\u001b[1;36m0\u001b[0m\u001b[1;33m)\u001b[0m\u001b[1;33m)\u001b[0m\u001b[1;33m)\u001b[0m\u001b[1;33m\u001b[0m\u001b[0m\n\u001b[0;32m    805\u001b[0m \u001b[1;33m\u001b[0m\u001b[0m\n",
        "\u001b[1;32m/home/nievesabalos/anaconda/lib/python2.7/site-packages/gensim/models/word2vec.pyc\u001b[0m in \u001b[0;36m__getitem__\u001b[1;34m(self, word)\u001b[0m\n\u001b[0;32m    761\u001b[0m \u001b[1;33m\u001b[0m\u001b[0m\n\u001b[0;32m    762\u001b[0m         \"\"\"\n\u001b[1;32m--> 763\u001b[1;33m         \u001b[1;32mreturn\u001b[0m \u001b[0mself\u001b[0m\u001b[1;33m.\u001b[0m\u001b[0msyn0\u001b[0m\u001b[1;33m[\u001b[0m\u001b[0mself\u001b[0m\u001b[1;33m.\u001b[0m\u001b[0mvocab\u001b[0m\u001b[1;33m[\u001b[0m\u001b[0mword\u001b[0m\u001b[1;33m]\u001b[0m\u001b[1;33m.\u001b[0m\u001b[0mindex\u001b[0m\u001b[1;33m]\u001b[0m\u001b[1;33m\u001b[0m\u001b[0m\n\u001b[0m\u001b[0;32m    764\u001b[0m \u001b[1;33m\u001b[0m\u001b[0m\n\u001b[0;32m    765\u001b[0m \u001b[1;33m\u001b[0m\u001b[0m\n",
        "\u001b[1;31mKeyError\u001b[0m: 'raelianos'"
       ]
      }
     ],
     "prompt_number": 17
    },
    {
     "cell_type": "code",
     "collapsed": false,
     "input": [
      "print model.n_similarity(['religion','cristianos'], ['religion','islamicos'])"
     ],
     "language": "python",
     "metadata": {},
     "outputs": [
      {
       "output_type": "stream",
       "stream": "stdout",
       "text": [
        "0.69192079796\n"
       ]
      }
     ],
     "prompt_number": 18
    },
    {
     "cell_type": "code",
     "collapsed": false,
     "input": [
      "print model.most_similar(['religion','cristianos'])"
     ],
     "language": "python",
     "metadata": {},
     "outputs": [
      {
       "output_type": "stream",
       "stream": "stdout",
       "text": [
        "[(u'doctrina', 0.43239814043045044), (u'religiosidad', 0.4059399962425232), (u'exegesis', 0.39470773935317993), (u'intransigencia', 0.3925250172615051), (u'ortodoxia', 0.38495388627052307), (u'cosmogonia', 0.3755834698677063), (u'santeria', 0.3704126477241516), (u'fugacidad', 0.36878782510757446), (u'wicca', 0.3685966730117798), (u'secta', 0.36836832761764526)]\n"
       ]
      }
     ],
     "prompt_number": 19
    },
    {
     "cell_type": "code",
     "collapsed": false,
     "input": [
      "print model.most_similar(['religion','islamicos'])"
     ],
     "language": "python",
     "metadata": {},
     "outputs": [
      {
       "output_type": "stream",
       "stream": "stdout",
       "text": [
        "[(u'doctrina', 0.39741307497024536), (u'xenofobia', 0.37273433804512024), (u'contrarreforma', 0.371492862701416), (u'liturgia', 0.3671787977218628), (u'oralidad', 0.3641306459903717), (u'paremiologia', 0.36269617080688477), (u'tradicion', 0.3611707389354706), (u'inoperancia', 0.35904261469841003), (u'cabala', 0.35683655738830566), (u'ortodoxia', 0.3565385937690735)]\n"
       ]
      }
     ],
     "prompt_number": 20
    },
    {
     "cell_type": "code",
     "collapsed": false,
     "input": [
      "print model.n_similarity(['restaurante','japones'], ['tienda','japonesa'])"
     ],
     "language": "python",
     "metadata": {},
     "outputs": [
      {
       "output_type": "stream",
       "stream": "stdout",
       "text": [
        "0.13049204956\n"
       ]
      }
     ],
     "prompt_number": 21
    },
    {
     "cell_type": "code",
     "collapsed": false,
     "input": [
      "print model.most_similar(['restaurante','japones'])"
     ],
     "language": "python",
     "metadata": {},
     "outputs": [
      {
       "output_type": "stream",
       "stream": "stdout",
       "text": [
        "[(u'membrillero', 0.4189911484718323), (u'garaje', 0.41774487495422363), (u'tepuy', 0.4162220060825348), (u'embarcadero', 0.4022560119628906), (u'turco', 0.3995804488658905), (u'dialecto', 0.3893991708755493), (u'hindi', 0.3855215609073639), (u'pentagrama', 0.38504230976104736), (u'chino', 0.3833988904953003), (u'anquilosaurio', 0.38335293531417847)]\n"
       ]
      }
     ],
     "prompt_number": 22
    },
    {
     "cell_type": "code",
     "collapsed": false,
     "input": [
      "print model.most_similar(['tienda','japonesa'])"
     ],
     "language": "python",
     "metadata": {},
     "outputs": [
      {
       "output_type": "stream",
       "stream": "stdout",
       "text": [
        "[(u'taberna', 0.4576200246810913), (u'btn', 0.44338399171829224), (u'giganta', 0.432104229927063), (u'vasija', 0.43208563327789307), (u'abominacion', 0.4318755865097046), (u'jarra', 0.42924630641937256), (u'omnipresencia', 0.42819875478744507), (u'grieta', 0.4259280264377594), (u'fabrica', 0.420487642288208), (u'escenificacion', 0.4189343750476837)]\n"
       ]
      }
     ],
     "prompt_number": 23
    },
    {
     "cell_type": "code",
     "collapsed": false,
     "input": [
      "print model.most_similar(['espana'])"
     ],
     "language": "python",
     "metadata": {},
     "outputs": [
      {
       "output_type": "stream",
       "stream": "stdout",
       "text": [
        "[(u'caprica', 0.3759508728981018), (u'cerdon', 0.3718761205673218), (u'convertise', 0.3712226450443268), (u'urgell', 0.3499644994735718), (u'detrimento', 0.34755292534828186), (u'remagen', 0.33705562353134155), (u'patufet', 0.33524206280708313), (u'cieza', 0.3342939019203186), (u'inmiscuirse', 0.33018726110458374), (u'200km', 0.3288385272026062)]\n"
       ]
      }
     ],
     "prompt_number": 35
    },
    {
     "cell_type": "code",
     "collapsed": false,
     "input": [
      "print model.most_similar(['italia'])"
     ],
     "language": "python",
     "metadata": {},
     "outputs": [
      {
       "output_type": "stream",
       "stream": "stdout",
       "text": [
        "[(u'locarno', 0.39823636412620544), (u'escandinavia', 0.3500540256500244), (u'holanda', 0.3444024324417114), ('SENT_83565', 0.34037354588508606), (u'weert', 0.3394489288330078), (u'portugal', 0.3377176821231842), (u'inglaterra', 0.33647269010543823), (u'napoles', 0.3356831669807434), (u'nayaf', 0.33510780334472656), (u'trapani', 0.3346497714519501)]\n"
       ]
      }
     ],
     "prompt_number": 33
    },
    {
     "cell_type": "code",
     "collapsed": false,
     "input": [
      "print model.most_similar(['espana', 'pais'])"
     ],
     "language": "python",
     "metadata": {},
     "outputs": [
      {
       "output_type": "stream",
       "stream": "stdout",
       "text": [
        "[(u'mundo', 0.4421868920326233), (u'desmedro', 0.4393313527107239), (u'apoplasto', 0.43794864416122437), (u'barremiano', 0.43707114458084106), (u'grunkohlessen', 0.4203560948371887), (u'quattrocento', 0.4194793403148651), (u'faversham', 0.4187934100627899), (u'potabilizacion', 0.4172675907611847), (u'velorio', 0.41422057151794434), (u'mediocampo', 0.41229790449142456)]\n"
       ]
      }
     ],
     "prompt_number": 25
    },
    {
     "cell_type": "code",
     "collapsed": false,
     "input": [
      "print model.most_similar(['libro', 'pais'])"
     ],
     "language": "python",
     "metadata": {},
     "outputs": [
      {
       "output_type": "stream",
       "stream": "stdout",
       "text": [
        "[(u'llibre', 0.5894949436187744), (u'mundo', 0.5719566345214844), ('SENT_99', 0.5650017261505127), (u'kosk', 0.5599703192710876), (u'accionariado', 0.556100606918335), (u'prendimiento', 0.5530710220336914), (u'fragor', 0.5515241622924805), (u'prefacio', 0.5477471351623535), (u'mundillo', 0.5446764230728149), (u'preambulo', 0.543338418006897)]\n"
       ]
      }
     ],
     "prompt_number": 26
    },
    {
     "cell_type": "code",
     "collapsed": false,
     "input": [
      "print find(\"SENT_99\")"
     ],
     "language": "python",
     "metadata": {},
     "outputs": [
      {
       "output_type": "stream",
       "stream": "stdout",
       "text": [
        "[u'rio', u'monnegre', u'el', u'rio', u'monnegre', u'es', u'un', u'rio', u'de', u'la', u'provincia', u'de', u'alicante', u'espana', u'nace', u'a', u'1', u'100', u'metros', u'de', u'altura', u'en', u'la', u'sierra', u'de', u'onil', u'en', u'su', u'curso', u'esta', u'el', u'pantano', u'de', u'tibi', u'del', u'siglo', u'xvi', u'y', u'todavia', u'en', u'funcionamiento', u'desemboca', u'en', u'campello', u'tras', u'atravesar', u'gran', u'parte', u'de', u'la', u'huerta', u'de', u'alicante', u'denominaciones', u'en', u'su', u'curso', u'alto', u'hasta', u'el', u'pantano', u'de', u'tibi', u'recibe', u'el', u'nombre', u'de', u'rio', u'verde', u'a', u'partir', u'del', u'pantano', u'es', u'cuando', u'se', u'llama', u'propiamente', u'rio', u'monnegre', u'ya', u'que', u'el', u'cauce', u'atraviesa', u'un', u'manto', u'de', u'calizas', u'triasicas', u'negras', u'presentando', u'las', u'aguas', u'esa', u'coloracion', u'como', u'reflejo', u'del', u'lecho', u'por', u'el', u'que', u'discurre', u'y', u'al', u'llegar', u'a', u'la', u'huerta', u'de', u'alicante', u'y', u'hasta', u'su', u'desembocadura', u'en', u'campello', u'recibe', u'el', u'nombre', u'de', u'rio', u'seco', u'debido', u'a', u'su', u'falta', u'de', u'agua', u'provocado', u'por', u'el', u'aprovechamiento', u'integro', u'para', u'los', u'cultivos', u'afluentes', u'y', u'regimen', u'fluvial', u'sus', u'afluentes', u'mas', u'importantes', u'son', u'el', u'barranco', u'de', u'gavarnera', u'y', u'el', u'rio', u'de', u'torremanzanas', u'en', u'cuanto', u'al', u'regimen', u'fluvial', u'podemos', u'hablar', u'de', u'un', u'tipico', u'rio', u'rambla', u'mediterraneo', u'que', u'en', u'su', u'ultimo', u'tramo', u'unicamente', u'lleva', u'agua', u'cuando', u'se', u'producen', u'lluvias', u'fuertes', u'la', u'fuerza', u'de', u'sus', u'aguas', u'ha', u'destruido', u'los', u'puentes', u'de', u'campello', u'en', u'1961', u'1971', u'y', u'1987', u'su', u'cauce', u'amplio', u'profundo', u'y', u'pedregoso', u'es', u'similar', u'al', u'de', u'cualquier', u'rambla', u'mediterranea', u'y', u'evidencia', u'su', u'irregularidad', u'aprovechamiento', u'humano', u'desde', u'la', u'edad', u'media', u'se', u'han', u'aprovechado', u'sus', u'aguas', u'para', u'el', u'regadio', u'de', u'la', u'huerta', u'de', u'alicante', u'y', u'en', u'su', u'curso', u'ademas', u'del', u'pantano', u'de', u'tibi', u'el', u'mas', u'antiguo', u'de', u'europa', u'tras', u'el', u'de', u'almansa', u'estan', u'los', u'azudes', u'de', u'muchamiel', u'san', u'juan', u'de', u'alicante', u'y', u'campello', u'actualmente', u'en', u'desuso', u'obras', u'hidraulicas', u'que', u'servian', u'para', u'derivar', u'las', u'aguas', u'sobrantes', u'la', u'presa', u'de', u'tibi', u'la', u'mando', u'construir', u'felipe', u'ii', u'a', u'finales', u'del', u'siglo', u'xvi', u'y', u'aunque', u'sufrio', u'una', u'importante', u'rotura', u'en', u'1697', u'entro', u'de', u'nuevo', u'en', u'servicio', u'en', u'1738', u'ha', u'sido', u'declarada', u'bien', u'de', u'interes', u'cultural', u'con', u'la', u'categoria', u'de', u'monumento', u'por', u'la', u'direccion', u'general', u'de', u'patrimonio', u'cultural', u'de', u'la', u'comunidad', u'valenciana', u'el', u'volumen', u'del', u'embalse', u'es', u'de', u'2', u'hm3', u'y', u'su', u'superficie', u'de', u'50', u'hectareas']\n"
       ]
      }
     ],
     "prompt_number": 27
    },
    {
     "cell_type": "markdown",
     "metadata": {},
     "source": [
      "Trata de un r\u00edo de Alicante..."
     ]
    },
    {
     "cell_type": "code",
     "collapsed": false,
     "input": [
      "print model.most_similar(['SENT_99'])"
     ],
     "language": "python",
     "metadata": {},
     "outputs": [
      {
       "output_type": "stream",
       "stream": "stdout",
       "text": [
        "[('SENT_114', 0.776009202003479), ('SENT_266', 0.7340211868286133), ('SENT_24', 0.7156808376312256), ('SENT_267', 0.6853677034378052), ('SENT_153', 0.6831434369087219), ('SENT_197', 0.678825855255127), ('SENT_97', 0.6783896684646606), ('SENT_35', 0.67415452003479), ('SENT_306', 0.6680623292922974), ('SENT_226', 0.6636972427368164)]\n"
       ]
      }
     ],
     "prompt_number": 28
    },
    {
     "cell_type": "code",
     "collapsed": false,
     "input": [
      "print find(\"SENT_114\")"
     ],
     "language": "python",
     "metadata": {},
     "outputs": [
      {
       "output_type": "stream",
       "stream": "stdout",
       "text": [
        "[u'thaneespi', u'thaneespi', u'es', u'un', u'personaje', u'de', u'la', u'saga', u'de', u'la', u'guerra', u'de', u'las', u'galaxias', u'que', u'aparece', u'en', u'el', u'esta', u'oficial', u'sirvio', u'como', u'tripulacion', u'del', u'home', u'one', u'nave', u'principal', u'de', u'la', u'flota', u'rebelde', u'durante', u'la', u'batalla', u'de', u'endor', u'era', u'una', u'distinguida', u'mon', u'calamari', u'que', u'llevaba', u'un', u'casco', u'de', u'oficial', u'y', u'servia', u'al', u'almirante', u'ackbar', u'tal', u'era', u'su', u'pericia', u'que', u'se', u'comentaba', u'entre', u'la', u'tripulacion', u'que', u'el', u'almirante', u'habia', u'ido', u'personalmente', u'a', u'reclutarla', u'para', u'defender', u'a', u'la', u'alianza', u'y', u'vencer', u'al', u'imperio', u'una', u'vez', u'vencidas', u'las', u'fuerzas', u'imperiales', u'en', u'endor', u'y', u'destruida', u'la', u'segunda', u'estrella', u'de', u'la', u'muerte', u'se', u'supo', u'que', u'muchos', u'rebeldes', u'descendieron', u'a', u'las', u'aldeas', u'ewok', u'donde', u'festejaron', u'thaneespi', u'no', u'se', u'perdio', u'por', u'nada', u'esta', u'celebracion']\n"
       ]
      }
     ],
     "prompt_number": 30
    },
    {
     "cell_type": "code",
     "collapsed": false,
     "input": [
      "print model.most_similar(['SENT_114'])"
     ],
     "language": "python",
     "metadata": {},
     "outputs": [
      {
       "output_type": "stream",
       "stream": "stdout",
       "text": [
        "[('SENT_266', 0.8405654430389404), ('SENT_153', 0.8279663920402527), ('SENT_156', 0.8185052871704102), ('SENT_97', 0.808357834815979), ('SENT_149', 0.7927788496017456), ('SENT_197', 0.7912547588348389), ('SENT_116', 0.7837923765182495), ('SENT_99', 0.7760090231895447), ('SENT_306', 0.7689138650894165), ('SENT_231', 0.7666410207748413)]\n"
       ]
      }
     ],
     "prompt_number": 29
    },
    {
     "cell_type": "code",
     "collapsed": false,
     "input": [
      "print find(\"SENT_266\")"
     ],
     "language": "python",
     "metadata": {},
     "outputs": [
      {
       "output_type": "stream",
       "stream": "stdout",
       "text": [
        "[u'puerto', u'rico', u'en', u'los', u'juegos', u'olimpicos', u'puerto', u'rico', u'ha', u'ganado', u'ocho', u'medallas', u'olimpicas', u'dos', u'de', u'plata', u'y', u'seis', u'de', u'bronce', u'seis', u'de', u'ellas', u'en', u'el', u'boxeo', u'una', u'en', u'la', u'lucha', u'libre', u'olimpica', u'y', u'otra', u'en', u'el', u'atletismo', u'las', u'medallas', u'de', u'plata', u'fueron', u'ganadas', u'en', u'la', u'division', u'de', u'peso', u'ligero', u'por', u'luiz', u'ortiz', u'en', u'los', u'juegos', u'olimpicos', u'de', u'los', u'angeles', u'1984', u'y', u'en', u'la', u'division', u'de', u'84', u'kg', u'libres', u'en', u'lucha', u'libre', u'olimpica', u'por', u'jaime', u'espinal', u'en', u'los', u'juegos', u'olimpicos', u'de', u'londres', u'2012', u'la', u'primera', u'medalla', u'fue', u'ganada', u'por', u'juan', u'venegas', u'en', u'la', u'division', u'peso', u'gallo', u'en', u'la', u'primera', u'aparicion', u'olimpica', u'de', u'puerto', u'rico', u'en', u'los', u'juegos', u'de', u'londres', u'1948', u'la', u'medallas', u'mas', u'reciente', u'fueron', u'ganadas', u'por', u'javier', u'culson', u'y', u'jaime', u'espinal', u'en', u'los', u'juegos', u'olimpicos', u'de', u'londres', u'2012', u'puerto', u'rico', u'en', u'los', u'juegos', u'olimpicos', u'esta', u'representado', u'por', u'el', u'comite', u'olimpico', u'de', u'puerto', u'rico']\n"
       ]
      }
     ],
     "prompt_number": 31
    },
    {
     "cell_type": "code",
     "collapsed": false,
     "input": [],
     "language": "python",
     "metadata": {},
     "outputs": []
    }
   ],
   "metadata": {}
  }
 ]
}