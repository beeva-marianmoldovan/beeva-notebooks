{
 "metadata": {
  "name": "",
  "signature": "sha256:16364b867bd1e7b4d1e404d5f73ee4a7286156c21609f5a319104dadbc2fb11b"
 },
 "nbformat": 3,
 "nbformat_minor": 0,
 "worksheets": [
  {
   "cells": [
    {
     "cell_type": "heading",
     "level": 1,
     "metadata": {},
     "source": [
      "Creando el modelo"
     ]
    },
    {
     "cell_type": "code",
     "collapsed": false,
     "input": [
      "import re, unicodedata\n",
      "from gensim import models\n",
      "import logging, string\n",
      "logging.basicConfig(format='%(asctime)s : %(levelname)s : %(message)s', level=logging.INFO)"
     ],
     "language": "python",
     "metadata": {},
     "outputs": [],
     "prompt_number": 1
    },
    {
     "cell_type": "markdown",
     "metadata": {},
     "source": [
      "Despu\u00e9s de inicializar las variables..."
     ]
    },
    {
     "cell_type": "heading",
     "level": 2,
     "metadata": {},
     "source": [
      "Preprocesamiento de datos >> los almacena en un archivo (txt)"
     ]
    },
    {
     "cell_type": "markdown",
     "metadata": {},
     "source": [
      "S\u00f3lo ejecutar\u00e9 esto la primera vez, luego leer\u00e9 el archivo preprocesado (es_dataprocYahoo.txt)"
     ]
    },
    {
     "cell_type": "code",
     "collapsed": false,
     "input": [
      "fileDataRAW = '/home/nievesabalos/Escritorio/nlp/datasets/yahoo/code/es_dataYahooQA.txt' #txt con el texto plano\n",
      "fileDataProcessed = '/home/nievesabalos/Escritorio/nlp/datasets/yahoo/code/es_dataprocYahoo.txt'"
     ],
     "language": "python",
     "metadata": {},
     "outputs": [],
     "prompt_number": 2
    },
    {
     "cell_type": "markdown",
     "metadata": {},
     "source": [
      "El apartado siguiente solo lo ejecutaremos la primera vez que no tengamos el fichero procesado, ver el apartado siguiente"
     ]
    },
    {
     "cell_type": "code",
     "collapsed": false,
     "input": [
      "# ---------------------------------------------------\n",
      "# 1. INPUT DATA\n",
      "print \"Fichero RAW a limpiar y preprocesar:\"\n",
      "print fileDataRAW\n",
      "\n",
      "def clean(x):\n",
      "   x = unicodedata.normalize('NFKD', x).encode('ascii','ignore').lower()\n",
      "   replace_punctuation = string.maketrans(string.punctuation, ' '*len(string.punctuation))\n",
      "   x = x.translate(replace_punctuation)\n",
      "   x = re.sub('@%$&[\\n/:!,;)()_?\u00bf\u00a1<>]', ' ', x)\n",
      "   x = re.sub(' - ', ' ', x)\n",
      "   x = re.sub(' +',' ', x).strip()\n",
      "   return x\n",
      "    \n",
      "sentences = []\n",
      "with open(fileDataRAW, 'r') as fileData:\n",
      "    for lineas in fileData:\n",
      "        #Formatear linea si hace falta aqu\u00ed\n",
      "        lineArray = lineas.split(\".\")\n",
      "        for line in lineArray:\n",
      "            if len(line) > 1:\n",
      "                line = line.decode('utf-8')\n",
      "                line = clean(line) # \u00bf? problemas con gensim y tildes y e\u00f1es...\n",
      "                if len(line) > 1:\n",
      "                    sentences.append(line)\n",
      "       \n",
      "    print \"Cierro fichero.\"\n",
      "    fileData.close()\n",
      "\n",
      "with open(fileDataProcessed, 'a') as fileData:\n",
      "    print \"Almaceno los datos procesados.\"\n",
      "    for frase in sentences:\n",
      "        fileData.write(frase)\n",
      "        fileData.write(\"\\n\")\n",
      "    print \"Cierro fichero.\"\n",
      "    fileData.close()    \n",
      "    \n",
      "print \"\\nFrases a analizar con doc2vec:\"             \n",
      "print len(sentences)"
     ],
     "language": "python",
     "metadata": {},
     "outputs": [
      {
       "output_type": "stream",
       "stream": "stdout",
       "text": [
        "Fichero RAW a limpiar y preprocesar:\n",
        "/home/nievesabalos/Escritorio/nlp/datasets/yahoo/code/es_dataYahooQA.txt\n",
        "Cierro fichero."
       ]
      },
      {
       "output_type": "stream",
       "stream": "stdout",
       "text": [
        "\n",
        "Almaceno los datos procesados.\n",
        "Cierro fichero."
       ]
      },
      {
       "output_type": "stream",
       "stream": "stdout",
       "text": [
        "\n",
        "\n",
        "Frases a analizar con doc2vec:\n",
        "9379360\n"
       ]
      }
     ],
     "prompt_number": 3
    },
    {
     "cell_type": "code",
     "collapsed": false,
     "input": [
      "fileDataProcessed = '/home/nievesabalos/Escritorio/nlp/datasets/yahoo/code/es_minidataprocYahoo.txt'"
     ],
     "language": "python",
     "metadata": {},
     "outputs": [],
     "prompt_number": 9
    },
    {
     "cell_type": "code",
     "collapsed": false,
     "input": [
      "sentences = models.doc2vec.LabeledLineSentence(fileDataProcessed)\n",
      "#print sentences[0:50]\n",
      "# ejemplo: sentence = LabeledSentence(words=[u'some', u'words', u'here'], labels=[u'SENT_1'])"
     ],
     "language": "python",
     "metadata": {},
     "outputs": [],
     "prompt_number": 10
    },
    {
     "cell_type": "code",
     "collapsed": false,
     "input": [
      "#for frase in sentences:\n",
      "#    print frase\n",
      "    \n",
      "print type(sentences)    "
     ],
     "language": "python",
     "metadata": {},
     "outputs": [
      {
       "output_type": "stream",
       "stream": "stdout",
       "text": [
        "<class 'gensim.models.doc2vec.LabeledLineSentence'>\n"
       ]
      }
     ],
     "prompt_number": 11
    },
    {
     "cell_type": "heading",
     "level": 2,
     "metadata": {},
     "source": [
      "Creo el modelo"
     ]
    },
    {
     "cell_type": "code",
     "collapsed": false,
     "input": [
      "# ---------------------------------------------------\n",
      "# 2. CREATE MODEL\n",
      "# train doc2vec  -  tutorial: http://radimrehurek.com/2014/12/doc2vec-tutorial/ \n",
      "# parametros por defecto:\n",
      "# sentences=None, size=300, alpha=0.025, window=8, min_count=5, sample=0, \n",
      "# seed=1, workers=1, min_alpha=0.0001, dm=1, hs=1, negative=0, dm_mean=0, train_words=True, train_lbls=True, **kwargs\n",
      "\n",
      "# Doc2Vec learns representations for words and labels simultaneously. If you wish to only learn representations for words,\n",
      "# you can use the flag train_lbls=False in your Doc2Vec class. Similarly, if you only wish to learn representations for\n",
      "# labels and leave the word representations fixed, the model also has the flag train_words=False.\n",
      "\n",
      "model = models.Doc2Vec(sentences, size=300, workers=2)\n",
      "print \"\\n modelo doc2vec creado!\""
     ],
     "language": "python",
     "metadata": {},
     "outputs": []
    },
    {
     "cell_type": "heading",
     "level": 2,
     "metadata": {},
     "source": [
      "Almaceno el modelo"
     ]
    },
    {
     "cell_type": "code",
     "collapsed": false,
     "input": [
      "# Ficheros del modelo en diferentes formatos\n",
      "fileModel = '/home/nievesabalos/Escritorio/nlp/datasets/yahoo/code/modelYahoo.doc2vec'  #.model\n",
      "fileModelBin = '/home/nievesabalos/Escritorio/nlp/datasets/yahoo/code/modelYahoo.model.doc2vec.bin' #.bin\n",
      "fileModelTxt = '/home/nievesabalos/Escritorio/nlp/datasets/yahoo/code/modelYahoo.model.doc2vec.txt' #.txt"
     ],
     "language": "python",
     "metadata": {},
     "outputs": []
    },
    {
     "cell_type": "code",
     "collapsed": false,
     "input": [
      "# ---------------------------------------------------\n",
      "# 4. SAVE MODEL\n",
      "print \"\\nGuardo el modelo en .model (formato doc2vec):\"  \n",
      "print fileModel \n",
      "model.save(fileModel)\n",
      "\n",
      "\n",
      "print \"\\nGuardo el modelo en .bin:\"  \n",
      "print fileModelBin \n",
      "model.save_word2vec_format(fileModelBin, binary=True)\n",
      "print \"\\n...y guardo el modelo en .txt:\"  \n",
      "print fileModelTxt \n",
      "model.save_word2vec_format(fileModelTxt, binary=False)"
     ],
     "language": "python",
     "metadata": {},
     "outputs": []
    },
    {
     "cell_type": "heading",
     "level": 2,
     "metadata": {},
     "source": [
      "Cargo el modelo"
     ]
    },
    {
     "cell_type": "code",
     "collapsed": false,
     "input": [
      "fileModel = '/home/nievesabalos/Escritorio/nlp/datasets/yahoo/code/doc2vec_models_es/3_new_mini/modelYahoo.doc2vec'  #.model\n",
      "print \"\\n Cargo desde el fichero:\"\n",
      "print fileModel\n",
      "\n",
      "model = models.Doc2Vec.load(fileModel)\n",
      "print \"\\n Modelo cargado.\""
     ],
     "language": "python",
     "metadata": {},
     "outputs": [
      {
       "output_type": "stream",
       "stream": "stdout",
       "text": [
        "\n",
        " Cargo desde el fichero:\n",
        "/home/nievesabalos/Escritorio/nlp/datasets/yahoo/code/doc2vec_models_es/3_new_mini/modelYahoo.doc2vec\n",
        "\n",
        " Modelo cargado."
       ]
      },
      {
       "output_type": "stream",
       "stream": "stdout",
       "text": [
        "\n"
       ]
      }
     ],
     "prompt_number": 2
    },
    {
     "cell_type": "heading",
     "level": 2,
     "metadata": {},
     "source": [
      "Tests"
     ]
    },
    {
     "cell_type": "code",
     "collapsed": false,
     "input": [
      "print model[\"novio\"]"
     ],
     "language": "python",
     "metadata": {},
     "outputs": [
      {
       "output_type": "stream",
       "stream": "stdout",
       "text": [
        "[-0.12429963 -0.01655143 -0.21972936 -0.11249818  0.13558874  0.19579889\n",
        " -0.21128139 -0.29963928  0.06074446 -0.29212108 -0.03095809  0.10855177\n",
        "  0.0881116   0.17620692  0.06311905  0.00196158  0.113497   -0.13183674\n",
        "  0.02800255  0.05471651  0.09181482  0.21710628 -0.17856285 -0.0826741\n",
        " -0.08616535  0.26286149 -0.16638725  0.13890769 -0.00462786 -0.16250551\n",
        " -0.21728806 -0.1964407  -0.20142664 -0.152072   -0.03946778 -0.06051182\n",
        " -0.03484235 -0.18218595 -0.13052557 -0.12635972 -0.08442917  0.1580849\n",
        "  0.03482401  0.02842154 -0.27052972 -0.00945203 -0.03236727  0.08938058\n",
        " -0.05448733 -0.24350017  0.23170963 -0.07068334  0.1191447   0.09352502\n",
        " -0.02181413  0.24780713  0.10585956 -0.0803805  -0.05078661 -0.18093042\n",
        " -0.06342397  0.22837664 -0.07529134 -0.22329301  0.24143694  0.27388355\n",
        " -0.04326019  0.27173543  0.2992298  -0.00113158 -0.08442996 -0.0112785\n",
        " -0.13805082 -0.13073643  0.19460152  0.2500158   0.28733686 -0.01929985\n",
        "  0.24691418  0.22190925 -0.17243327 -0.02366904  0.03858256 -0.07227398\n",
        "  0.10792912 -0.13985422  0.06900589  0.00600913 -0.09240154  0.04605389\n",
        " -0.16275522 -0.13507345 -0.01797873  0.09699003 -0.09091756  0.21266036\n",
        "  0.13800369 -0.01747858 -0.02285002 -0.17209724 -0.40489733 -0.08879383\n",
        " -0.12417974 -0.06975885  0.05941676  0.0483928   0.06963442 -0.02253634\n",
        "  0.09931839 -0.14308287 -0.03023365 -0.11489397 -0.08184448 -0.29154935\n",
        " -0.29844901 -0.0903126  -0.15134551 -0.17163919 -0.19658795 -0.01189958\n",
        "  0.21383747 -0.17115702 -0.02270113  0.64527285  0.1297898  -0.25447288\n",
        " -0.34647754 -0.14950182 -0.14236709  0.15190302 -0.11795568 -0.102628\n",
        "  0.22110434 -0.12672906 -0.01200822  0.20890771  0.05301857 -0.03456945\n",
        "  0.03875915 -0.08400811 -0.12008315  0.30342445 -0.01241071  0.02393238\n",
        "  0.25854325 -0.13486311 -0.17561415  0.41501251  0.03668275 -0.03120102\n",
        " -0.15965237  0.00776155 -0.17194401 -0.26588011  0.09835427  0.39252847\n",
        "  0.08233174 -0.04009239 -0.07365043 -0.05445211 -0.13280019  0.07112293\n",
        "  0.08662044  0.18580599 -0.11800852  0.10642761 -0.2324097  -0.07596001\n",
        "  0.10294193 -0.29631153 -0.24859437  0.03784329  0.01055596  0.06946218\n",
        "  0.14947477  0.14160128 -0.04995609  0.15987188  0.05999237  0.0337538\n",
        "  0.03852182  0.31387362  0.39630201 -0.09644738  0.31533903 -0.16638935\n",
        " -0.01968976 -0.03083026 -0.02579472 -0.04633709  0.05976969 -0.00545702\n",
        "  0.15055689 -0.22345883 -0.10961241 -0.05905174 -0.12044214 -0.16401368\n",
        "  0.09740674  0.04514759  0.04600614 -0.09079523 -0.31105494 -0.09964903\n",
        " -0.05179163 -0.00761605  0.14726123  0.11012944 -0.06788457  0.12597449\n",
        " -0.03730015 -0.08909574  0.14790592 -0.70610768  0.03572585  0.01868792\n",
        "  0.05917314  0.22944845  0.04692599  0.04712353 -0.08415259  0.08904327\n",
        "  0.00805402  0.04736428 -0.11286745 -0.10885406  0.11277934 -0.16874772\n",
        "  0.07235235  0.18521826 -0.18438725 -0.0234626   0.16174778  0.24416046\n",
        "  0.00201802  0.03448207 -0.13863887  0.23427187  0.15067494 -0.04452063\n",
        " -0.0874225   0.00154116 -0.0222813   0.14634769 -0.24022163  0.30131269\n",
        "  0.22886685 -0.00576428  0.22024834  0.07769869 -0.13209549  0.15230048\n",
        "  0.0543825   0.17504042  0.02043035 -0.15171832  0.04030802  0.05446665\n",
        " -0.14483571 -0.03258294  0.1359472   0.11465316 -0.18623106 -0.14299148\n",
        " -0.00996537  0.18046249 -0.06634797 -0.11436502 -0.37825313 -0.01440853\n",
        "  0.1085301  -0.01648768  0.07176933  0.0516357  -0.15507387  0.13998447\n",
        "  0.19519721  0.03645219  0.07294878  0.11378421 -0.14843096 -0.02561798\n",
        "  0.00697384 -0.25444794  0.04162501  0.23455542  0.13986003  0.01641308\n",
        "  0.10307397  0.30653796 -0.1181224  -0.26013124  0.02675927 -0.0575692\n",
        "  0.26994923 -0.125507   -0.09585733 -0.19166793  0.10222146 -0.10418329]\n"
       ]
      }
     ],
     "prompt_number": 4
    },
    {
     "cell_type": "code",
     "collapsed": false,
     "input": [
      "print model.most_similar(\"novio\")"
     ],
     "language": "python",
     "metadata": {},
     "outputs": [
      {
       "output_type": "stream",
       "stream": "stdout",
       "text": [
        "[(u'novia', 0.624731183052063), (u'suegra', 0.5980844497680664), (u'marido', 0.5976965427398682), (u'esposa', 0.59581458568573), (u'sobrinita', 0.5927428007125854), (u'esposo', 0.5783042311668396), ('SENT_1384161', 0.5746225118637085), (u'sobrino', 0.5673656463623047), (u'cunada', 0.5554199814796448), (u'sobrinito', 0.549085259437561)]\n"
       ]
      }
     ],
     "prompt_number": 5
    },
    {
     "cell_type": "markdown",
     "metadata": {},
     "source": [
      "Hay 'sentences' dentro del conjunto de similitud... \u00bfqu\u00e9 significa? vamos a ver"
     ]
    },
    {
     "cell_type": "code",
     "collapsed": false,
     "input": [
      "# m\u00e9todo que dado un label, me da el conjunto de palabras asociado:\n",
      "# \"SENT_5550\" >> ?\n",
      "\n",
      "def find(label):\n",
      "    for frase in sentences:\n",
      "        #print frase.labels\n",
      "        if label == frase.labels[0]:\n",
      "            return frase.words"
     ],
     "language": "python",
     "metadata": {},
     "outputs": [],
     "prompt_number": 12
    },
    {
     "cell_type": "code",
     "collapsed": false,
     "input": [
      "print find(\"SENT_1384161\")"
     ],
     "language": "python",
     "metadata": {},
     "outputs": [
      {
       "output_type": "stream",
       "stream": "stdout",
       "text": [
        "[u'ademas', u'te', u'puedo', u'ayudar', u'con', u'tu', u'espanol', u'y', u'tu', u'con', u'mi', u'potugues']\n"
       ]
      }
     ],
     "prompt_number": 13
    },
    {
     "cell_type": "code",
     "collapsed": false,
     "input": [
      "print model.most_similar(\"SENT_1384161\")"
     ],
     "language": "python",
     "metadata": {},
     "outputs": [
      {
       "output_type": "stream",
       "stream": "stdout",
       "text": [
        "[(u'sobrinita', 0.5918248891830444), (u'novio', 0.5746225118637085), (u'expareja', 0.5717518329620361), (u'exmarido', 0.5689920783042908), (u'suegro', 0.5668603181838989), (u'hermanita', 0.5625703930854797), ('SENT_3408521', 0.5587873458862305), (u'maridito', 0.5490863919258118), (u'exnovio', 0.5472439527511597), ('SENT_506105', 0.540407657623291)]\n"
       ]
      }
     ],
     "prompt_number": 14
    },
    {
     "cell_type": "markdown",
     "metadata": {},
     "source": [
      "Otra prueba para intentar descubrir conocimiento..."
     ]
    },
    {
     "cell_type": "code",
     "collapsed": false,
     "input": [
      "print model.most_similar(positive=['pareja','novio'], negative=['hombre'])"
     ],
     "language": "python",
     "metadata": {},
     "outputs": [
      {
       "output_type": "stream",
       "stream": "stdout",
       "text": [
        "[(u'suegra', 0.523356020450592), (u'novia', 0.5187851190567017), (u'cunada', 0.517008900642395), ('SENT_1559212', 0.5088357925415039), ('SENT_338529', 0.49191150069236755), ('SENT_3238755', 0.48494476079940796), (u'cabezita', 0.4842020273208618), (u'perrita', 0.4834012985229492), ('SENT_3408521', 0.48050427436828613), (u'calorro', 0.47897881269454956)]\n"
       ]
      }
     ],
     "prompt_number": 15
    },
    {
     "cell_type": "code",
     "collapsed": false,
     "input": [
      "print find(\"SENT_1559212\")"
     ],
     "language": "python",
     "metadata": {},
     "outputs": [
      {
       "output_type": "stream",
       "stream": "stdout",
       "text": [
        "[u'quiero', u'que', u'tu', u'la', u'razones']\n"
       ]
      }
     ],
     "prompt_number": 16
    },
    {
     "cell_type": "code",
     "collapsed": false,
     "input": [
      "print find(\"SENT_338529\")"
     ],
     "language": "python",
     "metadata": {},
     "outputs": [
      {
       "output_type": "stream",
       "stream": "stdout",
       "text": [
        "[u'profanar', u'con', u'su', u'planta', u'tu', u'suelo']\n"
       ]
      }
     ],
     "prompt_number": 17
    },
    {
     "cell_type": "code",
     "collapsed": false,
     "input": [
      "print find(\"SENT_3238755\")"
     ],
     "language": "python",
     "metadata": {},
     "outputs": [
      {
       "output_type": "stream",
       "stream": "stdout",
       "text": [
        "[u'tu', u'podrias', u'ser', u'mi', u'imprevista']\n"
       ]
      }
     ],
     "prompt_number": 18
    },
    {
     "cell_type": "code",
     "collapsed": false,
     "input": [
      "print find(\"SENT_3408521\")"
     ],
     "language": "python",
     "metadata": {},
     "outputs": [
      {
       "output_type": "stream",
       "stream": "stdout",
       "text": [
        "[u'y', u'tu', u'con', u'esa', u'condy']\n"
       ]
      }
     ],
     "prompt_number": 19
    },
    {
     "cell_type": "code",
     "collapsed": false,
     "input": [],
     "language": "python",
     "metadata": {},
     "outputs": []
    }
   ],
   "metadata": {}
  }
 ]
}