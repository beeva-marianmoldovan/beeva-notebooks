{
 "metadata": {
  "name": "",
  "signature": "sha256:d91bc308c73e1d9fcc521e7bf73afa4a3617996ba0ee38f35c4b3e83eaafaed3"
 },
 "nbformat": 3,
 "nbformat_minor": 0,
 "worksheets": [
  {
   "cells": [
    {
     "cell_type": "markdown",
     "metadata": {},
     "source": [
      "## Prepare Spark environment"
     ]
    },
    {
     "cell_type": "markdown",
     "metadata": {},
     "source": [
      "Launch ipython notebook for pyspark:\n",
      "```bash\n",
      "IPYTHON_OPTS=\"notebook --pylab inline\" SPARK_DRIVER_MEMORY=3G SPARK_EXECUTOR_MEMORY=3G ~/herramientas/spark-1.2.0-bin-hadoop2.4/bin/pyspark\n",
      "```"
     ]
    },
    {
     "cell_type": "code",
     "collapsed": false,
     "input": [
      "from pyspark.context import SparkContext\n",
      "print \"Running Spark Version %s\" % (sc.version)"
     ],
     "language": "python",
     "metadata": {},
     "outputs": [
      {
       "output_type": "stream",
       "stream": "stdout",
       "text": [
        "Running Spark Version 1.2.0\n"
       ]
      }
     ],
     "prompt_number": 1
    },
    {
     "cell_type": "code",
     "collapsed": false,
     "input": [
      "from pyspark.conf import SparkConf\n",
      "SparkContext.setSystemProperty('spark.driver.memory', '3g')\n",
      "SparkContext.setSystemProperty('spark.executor.memory', '3g')\n",
      "conf = SparkConf()\n",
      "print conf.toDebugString()"
     ],
     "language": "python",
     "metadata": {},
     "outputs": [
      {
       "output_type": "stream",
       "stream": "stdout",
       "text": [
        "spark.app.name=pyspark-shell\n",
        "spark.driver.memory=3g\n",
        "spark.executor.memory=3g\n",
        "spark.master=local[*]\n"
       ]
      }
     ],
     "prompt_number": 2
    },
    {
     "cell_type": "markdown",
     "metadata": {},
     "source": [
      "## Prepare data cleaning"
     ]
    },
    {
     "cell_type": "code",
     "collapsed": false,
     "input": [
      "from pyspark.mllib.feature import Word2Vec\n",
      "word2vec = Word2Vec()\n",
      "word2vec.setVectorSize(100)\n",
      "word2vec = Word2Vec().setNumPartitions(2)\n",
      "import string\n",
      "import unicodedata\n",
      "import re\n",
      "def clean(x):\n",
      "    x = unicodedata.normalize('NFKD', x).encode('ascii','ignore').lower()\n",
      "    replace_punctuation = string.maketrans(string.punctuation, ' '*len(string.punctuation))\n",
      "    x = x.translate(replace_punctuation)\n",
      "    x = re.sub(' +',' ', x).strip()\n",
      "    return x"
     ],
     "language": "python",
     "metadata": {},
     "outputs": [],
     "prompt_number": 3
    },
    {
     "cell_type": "markdown",
     "metadata": {},
     "source": [
      "## Example es_dataYahooQA.txt"
     ]
    },
    {
     "cell_type": "code",
     "collapsed": false,
     "input": [
      "myfilename = \"data/es_dataYahooQA.txt\"\n",
      "lines = sc.textFile(myfilename)\n",
      "print lines\n",
      "lines.count()"
     ],
     "language": "python",
     "metadata": {},
     "outputs": [
      {
       "output_type": "stream",
       "stream": "stdout",
       "text": [
        "data/es_dataYahooQA.txt MappedRDD[1] at textFile at NativeMethodAccessorImpl.java:-2\n"
       ]
      },
      {
       "metadata": {},
       "output_type": "pyout",
       "prompt_number": 4,
       "text": [
        "8352361"
       ]
      }
     ],
     "prompt_number": 4
    },
    {
     "cell_type": "code",
     "collapsed": false,
     "input": [
      "lines2sentences = lines.flatMap(lambda row: row.split(\".\"))\n",
      "lines2words = lines2sentences.map(lambda row: clean(row).split(\" \"))\n",
      "lines2words = lines2words.filter(lambda x: x[0] != '')\n",
      "print lines2words.take(15)"
     ],
     "language": "python",
     "metadata": {},
     "outputs": [
      {
       "output_type": "stream",
       "stream": "stdout",
       "text": [
        "[['idioma'], ['es', 'es'], ['categoria'], ['otros', 'sociedad', 'y', 'cultura'], ['categoria', 'principal'], ['sociedad', 'y', 'cultura'], ['subcategoria'], ['otros', 'sociedad', 'y', 'cultura'], ['pregunta'], ['donde', 'conociste', 'a', 'tu', 'pareja', 'actual'], ['otras', 'respuestas'], ['creo', 'que', 'la', 'conoci', 'en', 'el', 'cielo'], ['es', 'un', 'angel'], ['en', 'canada', 'kuando', 'estudiabamos', 'la', 'universidad'], ['en', 'el', 'chat', 'de', 'ahi', 'nos', 'conocimos', 'personalmente']]\n"
       ]
      }
     ],
     "prompt_number": 5
    },
    {
     "cell_type": "code",
     "collapsed": false,
     "input": [
      "model_es = word2vec.fit(lines2words)"
     ],
     "language": "python",
     "metadata": {},
     "outputs": [],
     "prompt_number": 6
    },
    {
     "cell_type": "code",
     "collapsed": false,
     "input": [
      "print(model_es.findSynonyms('rey', 10))\n",
      "print(model_es.findSynonyms('reina', 10))\n",
      "reina = model_es.transform('reina').toArray()\n",
      "mujer = model_es.transform('mujer').toArray()\n",
      "hombre = model_es.transform('hombre').toArray()\n",
      "print model_es.findSynonyms(reina -mujer +hombre, 10)"
     ],
     "language": "python",
     "metadata": {},
     "outputs": [
      {
       "output_type": "stream",
       "stream": "stdout",
       "text": [
        "[(u'heredero', 0.77567446231842041), (u'glorioso', 0.76624739170074463), (u'duque', 0.76425904035568237), (u'patriarca', 0.7602648138999939), (u'arquero', 0.75872939825057983), (u'emperador', 0.75428223609924316), (u'salomon', 0.7499384880065918), (u'faraon', 0.74588948488235474), (u'alfonso', 0.74329531192779541), (u'conquistador', 0.73919707536697388)]\n",
        "[(u'princesa', 0.81293481588363647), (u'reyna', 0.75468283891677856), (u'diosa', 0.74391835927963257), (u'patrona', 0.71119922399520874), (u'presidenta', 0.71049529314041138), (u'consorte', 0.69736701250076294), (u'malinche', 0.66770505905151367), (u'beata', 0.66737604141235352), (u'slay', 0.66138654947280884), (u'sofia', 0.66059631109237671)]"
       ]
      },
      {
       "output_type": "stream",
       "stream": "stdout",
       "text": [
        "\n",
        "[(u'patriarca', 0.67379319667816162), (u'redentor', 0.67174226045608521), (u'soldado', 0.665352463722229), (u'imperio', 0.65399318933486938), (u'reina', 0.65170371532440186), (u'trono', 0.65074384212493896), (u'emperador', 0.64956039190292358), (u'conquistador', 0.64728742837905884), (u'leviatan', 0.63840144872665405), (u'mismisimo', 0.63810628652572632)]"
       ]
      },
      {
       "output_type": "stream",
       "stream": "stdout",
       "text": [
        "\n"
       ]
      }
     ],
     "prompt_number": 7
    },
    {
     "cell_type": "code",
     "collapsed": false,
     "input": [
      "print(model_es.findSynonyms('italia', 10))\n",
      "print(model_es.findSynonyms('francia', 10))\n",
      "francia = model_es.transform('francia').toArray()\n",
      "paris = model_es.transform('paris').toArray()\n",
      "roma = model_es.transform('roma').toArray()\n",
      "print model_es.findSynonyms(francia -paris +roma, 10)"
     ],
     "language": "python",
     "metadata": {},
     "outputs": [
      {
       "output_type": "stream",
       "stream": "stdout",
       "text": [
        "[(u'francia', 0.94703030586242676), (u'inglaterra', 0.92890900373458862), (u'holanda', 0.9149627685546875), (u'portugal', 0.90283697843551636), (u'alemania', 0.88675659894943237), (u'espana', 0.87396043539047241), (u'brasil', 0.87275707721710205), (u'suiza', 0.85991168022155762), (u'australia', 0.84374719858169556), (u'suecia', 0.84155869483947754)]\n",
        "[(u'inglaterra', 0.94896775484085083), (u'italia', 0.94703030586242676), (u'holanda', 0.92209482192993164), (u'portugal', 0.91397356986999512), (u'alemania', 0.87719839811325073), (u'suiza', 0.87637025117874146), (u'suecia', 0.87422662973403931), (u'australia', 0.8724549412727356), (u'belgica', 0.86620044708251953), (u'espana', 0.86022758483886719)]"
       ]
      },
      {
       "output_type": "stream",
       "stream": "stdout",
       "text": [
        "\n",
        "[(u'inglaterra', 0.79840177297592163), (u'hungria', 0.78923976421356201), (u'rusia', 0.78106164932250977), (u'italia', 0.77728432416915894), (u'turquia', 0.76529484987258911), (u'holanda', 0.76014357805252075), (u'portugal', 0.74935811758041382), (u'suecia', 0.74636173248291016), (u'checoslovaquia', 0.73904907703399658), (u'roma', 0.7388157844543457)]"
       ]
      },
      {
       "output_type": "stream",
       "stream": "stdout",
       "text": [
        "\n"
       ]
      }
     ],
     "prompt_number": 8
    },
    {
     "cell_type": "code",
     "collapsed": false,
     "input": [
      "sc.stop()"
     ],
     "language": "python",
     "metadata": {},
     "outputs": [],
     "prompt_number": 9
    }
   ],
   "metadata": {}
  }
 ]
}