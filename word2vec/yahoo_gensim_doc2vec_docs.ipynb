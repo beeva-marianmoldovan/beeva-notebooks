{
 "metadata": {
  "name": "",
  "signature": "sha256:6a36e66d0173eaf0aa5a3b7af32897709072d229a75e467e08bee9d93b34e9a3"
 },
 "nbformat": 3,
 "nbformat_minor": 0,
 "worksheets": [
  {
   "cells": [
    {
     "cell_type": "heading",
     "level": 1,
     "metadata": {},
     "source": [
      "Creando el modelo"
     ]
    },
    {
     "cell_type": "code",
     "collapsed": false,
     "input": [
      "import re, unicodedata\n",
      "from gensim import models\n",
      "import logging, string\n",
      "logging.basicConfig(format='%(asctime)s : %(levelname)s : %(message)s', level=logging.INFO)"
     ],
     "language": "python",
     "metadata": {},
     "outputs": [],
     "prompt_number": 2
    },
    {
     "cell_type": "markdown",
     "metadata": {},
     "source": [
      "Despu\u00e9s de inicializar las variables..."
     ]
    },
    {
     "cell_type": "heading",
     "level": 2,
     "metadata": {},
     "source": [
      "Preprocesamiento de datos >> los almacena en un archivo (txt)"
     ]
    },
    {
     "cell_type": "markdown",
     "metadata": {},
     "source": [
      "S\u00f3lo ejecutar\u00e9 esto la primera vez, luego leer\u00e9 el archivo preprocesado (es_dataprocYahoo.txt)"
     ]
    },
    {
     "cell_type": "code",
     "collapsed": false,
     "input": [
      "fileDataRAW = '/home/nievesabalos/Escritorio/nlp/datasets/yahoo/code/es_dataYahooQA.txt' #txt con el texto plano\n",
      "fileDataProcessed = '/home/nievesabalos/Escritorio/nlp/datasets/yahoo/code/es_docsYahoo.txt'"
     ],
     "language": "python",
     "metadata": {},
     "outputs": [],
     "prompt_number": 3
    },
    {
     "cell_type": "markdown",
     "metadata": {},
     "source": [
      "El apartado siguiente solo lo ejecutaremos la primera vez que no tengamos el fichero procesado, ver el apartado siguiente"
     ]
    },
    {
     "cell_type": "code",
     "collapsed": false,
     "input": [
      "# ---------------------------------------------------\n",
      "# 1. INPUT DATA\n",
      "#==============================================================================\n",
      "print \"Fichero RAW a limpiar y preprocesar:\"\n",
      "print fileDataRAW\n",
      "\n",
      "def clean(x):\n",
      "   x = unicodedata.normalize('NFKD', x).encode('ascii','ignore').lower()\n",
      "   replace_punctuation = string.maketrans(string.punctuation, ' '*len(string.punctuation))\n",
      "   x = x.translate(replace_punctuation)\n",
      "   x = re.sub('@%$&[\\n/:!,;)()_?\u00bf\u00a1<>]', ' ', x)\n",
      "   x = re.sub(' - ', ' ', x)\n",
      "   x = re.sub(' +',' ', x).strip()\n",
      "   return x\n",
      "    \n",
      "documentos = []\n",
      "documento = []\n",
      "count = 0\n",
      "countProc = 0\n",
      "with open(fileDataRAW, 'r') as fileData:\n",
      "    print \"Leo datos y preproceso.\"\n",
      "    for lineas in fileData:\n",
      "        count = count + 1\n",
      "        if lineas == 'IDIOMA\\n': \n",
      "            # si cierra/empieza un bloque\n",
      "            countProc = countProc + 1\n",
      "            stringDocumento = ' '.join(documento)\n",
      "            documentos.append(stringDocumento)\n",
      "            documento = []\n",
      "        else:\n",
      "            #Formatear linea si hace falta aqu\u00ed\n",
      "            lineArray = lineas.split(\".\")\n",
      "            for line in lineArray:\n",
      "                if len(line) > 1:\n",
      "                    line = line.decode('utf-8')\n",
      "                    line = clean(line) # \u00bf? problemas con gensim y tildes y e\u00f1es...\n",
      "                    if len(line) > 1:\n",
      "                        documento.append(line)\n",
      "                        \n",
      "    #fin del for, me queda un documento por meter (el \u00faltimo):\n",
      "    countProc = countProc + 1\n",
      "    stringDocumento = ' '.join(documento)\n",
      "    documentos.append(stringDocumento)\n",
      "    documento = []\n",
      "    print \"el \u00faltimo documento es...\"\n",
      "    print stringDocumento\n",
      "       \n",
      "    print \"Cierro fichero.\"\n",
      "    fileData.close()\n",
      "    \n",
      "#print \"\\n[0:10]Documentos:\"\n",
      "#print documentos[0:1]\n",
      "print \"\\nFrases RAW del fichero:\"          \n",
      "print count  \n",
      "print \"\\nDocumentos del fichero procesadas:\"          \n",
      "print countProc \n",
      "\n",
      "with open(fileDataProcessed, 'a') as fileData:\n",
      "    print \"Almaceno los datos procesados.\"\n",
      "    for frase in documentos:\n",
      "        fileData.write(frase)\n",
      "        fileData.write(\"\\n\")\n",
      "    print \"Cierro fichero.\"\n",
      "    fileData.close()    \n",
      "\n",
      "print \"\\nFichero procesado:\"\n",
      "print fileDataProcessed     \n",
      "print \"\\nDocumentos:\"          \n",
      "print len(documentos)   \n",
      "#==============================================================================\n"
     ],
     "language": "python",
     "metadata": {},
     "outputs": []
    },
    {
     "cell_type": "code",
     "collapsed": false,
     "input": [
      "fileDataProcessed = '/home/nievesabalos/Escritorio/nlp/datasets/yahoo/code/es_docsYahoo.txt'"
     ],
     "language": "python",
     "metadata": {},
     "outputs": [],
     "prompt_number": 4
    },
    {
     "cell_type": "code",
     "collapsed": false,
     "input": [
      "sentences = models.doc2vec.LabeledLineSentence(fileDataProcessed)\n",
      "#print sentences[0:50]\n",
      "# ejemplo: sentence = LabeledSentence(words=[u'some', u'words', u'here'], labels=[u'SENT_1'])"
     ],
     "language": "python",
     "metadata": {},
     "outputs": [],
     "prompt_number": 5
    },
    {
     "cell_type": "code",
     "collapsed": false,
     "input": [
      "#for frase in sentences:\n",
      "#    print frase\n",
      "    \n",
      "print type(sentences)    "
     ],
     "language": "python",
     "metadata": {},
     "outputs": [
      {
       "output_type": "stream",
       "stream": "stdout",
       "text": [
        "<class 'gensim.models.doc2vec.LabeledLineSentence'>\n"
       ]
      }
     ],
     "prompt_number": 6
    },
    {
     "cell_type": "heading",
     "level": 2,
     "metadata": {},
     "source": [
      "Creo el modelo"
     ]
    },
    {
     "cell_type": "code",
     "collapsed": false,
     "input": [
      "# ---------------------------------------------------\n",
      "# 2. CREATE MODEL\n",
      "# train doc2vec  -  tutorial: http://radimrehurek.com/2014/12/doc2vec-tutorial/ \n",
      "# parametros por defecto:\n",
      "# sentences=None, size=300, alpha=0.025, window=8, min_count=5, sample=0, \n",
      "# seed=1, workers=1, min_alpha=0.0001, dm=1, hs=1, negative=0, dm_mean=0, train_words=True, train_lbls=True, **kwargs\n",
      "\n",
      "# Doc2Vec learns representations for words and labels simultaneously. If you wish to only learn representations for words,\n",
      "# you can use the flag train_lbls=False in your Doc2Vec class. Similarly, if you only wish to learn representations for\n",
      "# labels and leave the word representations fixed, the model also has the flag train_words=False.\n",
      "\n",
      "model = models.Doc2Vec(sentences, size=300, workers=1)\n",
      "print \"\\n modelo doc2vec creado!\""
     ],
     "language": "python",
     "metadata": {},
     "outputs": []
    },
    {
     "cell_type": "heading",
     "level": 2,
     "metadata": {},
     "source": [
      "Almaceno el modelo"
     ]
    },
    {
     "cell_type": "code",
     "collapsed": false,
     "input": [
      "# Ficheros del modelo en diferentes formatos\n",
      "fileModel = '/home/nievesabalos/Escritorio/nlp/datasets/yahoo/code/doc2vec_docs/4/modelYahoo.doc2vec'  #.model\n",
      "#fileModelBin = '/home/nievesabalos/Escritorio/nlp/datasets/yahoo/code/modelYahoo.model.doc2vec.bin' #.bin\n",
      "#fileModelTxt = '/home/nievesabalos/Escritorio/nlp/datasets/yahoo/code/modelYahoo.model.doc2vec.txt' #.txt"
     ],
     "language": "python",
     "metadata": {},
     "outputs": [],
     "prompt_number": 6
    },
    {
     "cell_type": "code",
     "collapsed": false,
     "input": [
      "# ---------------------------------------------------\n",
      "# 4. SAVE MODEL\n",
      "print \"\\nGuardo el modelo en .model (formato doc2vec):\"  \n",
      "print fileModel \n",
      "model.save(fileModel)\n",
      "\n",
      "\n",
      "#print \"\\nGuardo el modelo en .bin:\"  \n",
      "#print fileModelBin \n",
      "#model.save_word2vec_format(fileModelBin, binary=True)\n",
      "#print \"\\n...y guardo el modelo en .txt:\"  \n",
      "#print fileModelTxt \n",
      "#model.save_word2vec_format(fileModelTxt, binary=False)"
     ],
     "language": "python",
     "metadata": {},
     "outputs": []
    },
    {
     "cell_type": "heading",
     "level": 2,
     "metadata": {},
     "source": [
      "Cargo el modelo"
     ]
    },
    {
     "cell_type": "code",
     "collapsed": false,
     "input": [
      "fileModel = '/home/nievesabalos/Escritorio/nlp/datasets/yahoo/code/doc2vec_docs/4/modelYahoo.doc2vec'  #.model\n",
      "print \"\\n Cargo desde el fichero:\"\n",
      "print fileModel\n",
      "\n",
      "model = models.Doc2Vec.load(fileModel)\n",
      "print \"\\n Modelo cargado.\""
     ],
     "language": "python",
     "metadata": {},
     "outputs": [
      {
       "output_type": "stream",
       "stream": "stdout",
       "text": [
        "\n",
        " Cargo desde el fichero:\n",
        "/home/nievesabalos/Escritorio/nlp/datasets/yahoo/code/doc2vec_docs/4/modelYahoo.doc2vec\n",
        "\n",
        " Modelo cargado."
       ]
      },
      {
       "output_type": "stream",
       "stream": "stdout",
       "text": [
        "\n"
       ]
      }
     ],
     "prompt_number": 7
    },
    {
     "cell_type": "heading",
     "level": 2,
     "metadata": {},
     "source": [
      "Tests"
     ]
    },
    {
     "cell_type": "code",
     "collapsed": false,
     "input": [
      "print model[\"novio\"]"
     ],
     "language": "python",
     "metadata": {},
     "outputs": [
      {
       "output_type": "stream",
       "stream": "stdout",
       "text": [
        "[ -1.26922484e-02  -1.68748293e-03  -2.44884584e-02  -9.05290172e-02\n",
        "   9.92342308e-02   1.21800834e-02  -6.71641156e-02  -1.05242081e-01\n",
        "   2.54850000e-01  -4.15453985e-02  -7.99154192e-02   7.31486008e-02\n",
        "  -2.12999627e-01   1.31357387e-02  -1.54175088e-01  -1.47757888e-01\n",
        "  -7.27795884e-02  -5.55903800e-02   2.31654078e-01   1.38505012e-01\n",
        "   2.41013337e-02   1.22835062e-01   5.06344028e-02  -1.67702898e-01\n",
        "  -5.40073849e-02   5.19244894e-02  -1.07449047e-01  -2.07962587e-01\n",
        "  -1.66667514e-02  -5.42618148e-02  -6.79248795e-02  -1.23771474e-01\n",
        "   2.27183282e-01  -2.01165885e-01  -1.78904578e-01  -1.67801201e-01\n",
        "  -3.42659950e-01  -8.21756497e-02   1.09341741e-01   5.58692701e-02\n",
        "  -7.06079826e-02   2.08860800e-01   7.79225379e-02   8.74450728e-02\n",
        "   3.29541117e-02  -2.87978910e-02  -8.04832950e-02  -5.61993159e-02\n",
        "   1.59841217e-02   3.29451934e-02  -6.59261318e-03  -7.88199604e-02\n",
        "  -3.69425416e-02  -1.71043321e-01  -2.14815140e-04   2.06905976e-01\n",
        "   2.85971850e-01  -2.50350505e-01  -2.55086362e-01  -1.28541991e-01\n",
        "  -1.77183464e-01   4.45753597e-02   1.38959559e-02   4.11688797e-02\n",
        "  -4.11197590e-03   2.11076215e-01   1.92739308e-01   4.99805845e-02\n",
        "  -1.32871836e-01   6.13675304e-02  -1.06948219e-01   3.40107046e-02\n",
        "  -2.06284434e-01  -1.96653809e-02  -5.63682914e-02   4.22652185e-01\n",
        "  -1.17947571e-01  -2.14269618e-03  -2.50302088e-02  -2.70284247e-04\n",
        "  -2.40622982e-01  -2.59913743e-01  -3.73035520e-01   2.38585770e-01\n",
        "  -2.84202434e-02   1.11489698e-01   2.89777815e-01  -1.44397080e-01\n",
        "   9.81066078e-02  -1.03809275e-01  -3.20838243e-02   3.29060713e-03\n",
        "   4.28410769e-02  -5.35120256e-03  -1.51170731e-01   1.26012089e-02\n",
        "   1.80647746e-01   9.49373171e-02   7.37276375e-02   2.84957498e-01\n",
        "  -8.29907060e-02   6.12651110e-02  -1.89655513e-01  -1.01510331e-01\n",
        "   4.44560200e-01  -9.19719785e-02   3.58805209e-01  -6.62264377e-02\n",
        "   1.54539332e-01   3.55182141e-01   8.74085054e-02   8.67983177e-02\n",
        "  -1.30917266e-01  -9.37069356e-02   9.65246260e-02  -3.90702009e-01\n",
        "   6.53112531e-02  -1.25996709e-01   8.86958167e-02  -1.54954061e-01\n",
        "  -2.26885453e-01  -8.12385902e-02   8.40678811e-02  -6.51283339e-02\n",
        "  -3.17912668e-01  -1.31480724e-01  -4.87691946e-02   3.75514328e-02\n",
        "   2.04438612e-01   1.20657505e-02  -3.95845063e-02  -1.73643664e-01\n",
        "   1.46899596e-01  -3.04628730e-01   8.48230273e-02  -1.86217055e-01\n",
        "  -2.09973827e-02  -4.66335528e-02   6.31428733e-02   2.78561622e-01\n",
        "  -1.84688911e-01   2.15208426e-01   1.00983262e-01  -2.68491179e-01\n",
        "   1.72485299e-02  -1.18008301e-01  -1.35497287e-01   5.18214144e-03\n",
        "  -6.77355975e-02  -1.26147896e-01  -1.19390879e-02  -1.94110032e-02\n",
        "  -1.61345378e-02  -7.07794353e-02  -2.49989077e-01   1.29310071e-01\n",
        "  -3.03027127e-02   2.04924867e-01   2.61305541e-01  -5.77921309e-02\n",
        "  -9.51444032e-04  -9.55111608e-02  -1.39419347e-01  -4.15839516e-02\n",
        "  -2.76382238e-01   1.02189071e-01   3.32655609e-02   2.73999497e-02\n",
        "   9.07424465e-02  -3.16463411e-02   2.65488386e-01  -3.11258230e-02\n",
        "  -1.73054248e-01   2.85752922e-01  -6.13335632e-02  -1.69009477e-01\n",
        "   4.74971123e-02   2.87548006e-01   9.44145769e-02   8.62129703e-02\n",
        "   3.04069459e-01   1.43377468e-01   1.42480701e-01   6.19614162e-02\n",
        "  -2.12365724e-02   7.62425661e-02  -5.55125289e-02   3.89169931e-01\n",
        "   2.37782851e-01   1.35233492e-01   9.06897485e-02  -1.55904740e-01\n",
        "   3.39862369e-02   1.24643110e-01  -7.18789995e-02   2.39738777e-01\n",
        "  -2.83329844e-01   1.40303418e-01   7.87941068e-02  -5.76430485e-02\n",
        "   1.21252835e-01  -5.87728620e-02   1.26349563e-02  -5.32533452e-02\n",
        "   1.25236273e-01  -1.43495798e-01   2.61107117e-01   2.29487307e-02\n",
        "   1.76139295e-01   1.13072976e-01  -2.70107687e-01  -3.43024045e-01\n",
        "  -1.26720205e-01   1.03210025e-02  -1.25083551e-01   1.93684131e-01\n",
        "  -3.04755401e-02  -2.15343118e-01   2.12544531e-01  -1.27405211e-01\n",
        "  -5.61259873e-02   1.52530342e-01  -1.06045850e-01   3.17348680e-03\n",
        "  -6.78023845e-02  -4.07020777e-01  -1.08840898e-01  -6.49446845e-02\n",
        "  -7.93063641e-02  -1.24183819e-01  -3.77520360e-02   8.04823339e-02\n",
        "  -2.27770984e-01  -2.90838405e-02   1.74910828e-01  -1.93137050e-01\n",
        "  -1.24269851e-01   2.29743749e-01  -2.76610911e-01   7.50436187e-02\n",
        "  -1.82703570e-01  -4.12917063e-02   2.42350832e-01   4.25906479e-02\n",
        "  -3.96167159e-01  -1.64191499e-02  -1.04434267e-01   4.98977266e-02\n",
        "   3.18883546e-02   1.62985533e-01  -5.77344857e-02   1.87617868e-01\n",
        "  -8.81069899e-02  -5.11174556e-03  -2.21362576e-01   2.34324604e-01\n",
        "   2.66399831e-01  -1.35570630e-01  -7.00092036e-03  -2.55735934e-01\n",
        "   1.26972139e-01   2.90443808e-01   1.10854782e-01  -2.22381115e-01\n",
        "  -1.35436356e-02   4.38110717e-02   1.60095796e-01   2.24810094e-03\n",
        "  -1.35928452e-01  -3.52808923e-01  -1.11575156e-01   1.84454080e-02\n",
        "  -2.90172710e-03  -1.24595486e-01   3.34174782e-02   1.61880910e-01\n",
        "   1.19878098e-01   1.09873146e-01   3.59018333e-02   6.72961175e-02\n",
        "   3.92326474e-01  -1.62538737e-01   9.62916091e-02  -2.54163086e-01\n",
        "   1.52739555e-01  -6.39670268e-02   3.55572216e-02   1.07598370e-02\n",
        "   2.94349454e-02  -6.61302134e-02   1.01066738e-01   2.54073948e-01\n",
        "  -3.13248252e-04  -1.46025002e-01   2.45605353e-02  -7.49624446e-02\n",
        "  -8.05677399e-02  -9.13013741e-02  -2.15357423e-01   7.06858113e-02]\n"
       ]
      }
     ],
     "prompt_number": 8
    },
    {
     "cell_type": "code",
     "collapsed": false,
     "input": [
      "print model.most_similar(\"novio\")"
     ],
     "language": "python",
     "metadata": {},
     "outputs": [
      {
       "output_type": "stream",
       "stream": "stdout",
       "text": [
        "[(u'esposo', 0.5779924392700195), (u'marido', 0.5676395297050476), (u'exnovio', 0.5482780933380127), (u'cunada', 0.5467972755432129), (u'novia', 0.5115842223167419), (u'maridito', 0.4900480806827545), (u'noviecito', 0.4882891774177551), (u'padrastro', 0.4868836998939514), (u'sobrinita', 0.48415952920913696), (u'pareja', 0.47953125834465027)]\n"
       ]
      }
     ],
     "prompt_number": 9
    },
    {
     "cell_type": "markdown",
     "metadata": {},
     "source": [
      "No hay 'sentences' dentro del conjunto de similitud de una palabra... buena se\u00f1al"
     ]
    },
    {
     "cell_type": "code",
     "collapsed": false,
     "input": [
      "print model.most_similar(\"pregunta\")"
     ],
     "language": "python",
     "metadata": {},
     "outputs": [
      {
       "output_type": "stream",
       "stream": "stdout",
       "text": [
        "[('SENT_3761', 0.3340882658958435), ('SENT_9331', 0.32541024684906006), (u'preguta', 0.3235386610031128), ('SENT_1388', 0.31874316930770874), ('SENT_794', 0.3134099245071411), ('SENT_7687', 0.313102126121521), (u'prgunta', 0.3130052089691162), ('SENT_12680', 0.3128995895385742), (u'maricadas', 0.3117679953575134), ('SENT_92521', 0.3114691972732544)]\n"
       ]
      }
     ],
     "prompt_number": 13
    },
    {
     "cell_type": "code",
     "collapsed": false,
     "input": [
      "# m\u00e9todo que dado un label, me da el conjunto de palabras asociado:\n",
      "# \"SENT_5550\" >> ?\n",
      "\n",
      "def find(label):\n",
      "    for frase in sentences:\n",
      "        #print frase.labels\n",
      "        if label == frase.labels[0]:\n",
      "            return frase.words"
     ],
     "language": "python",
     "metadata": {},
     "outputs": [],
     "prompt_number": 10
    },
    {
     "cell_type": "code",
     "collapsed": false,
     "input": [
      "print find(\"SENT_3761\")"
     ],
     "language": "python",
     "metadata": {},
     "outputs": [
      {
       "output_type": "stream",
       "stream": "stdout",
       "text": [
        "[u'es', u'es', u'categoria', u'otros', u'musica', u'y', u'ocio', u'categoria', u'principal', u'musica', u'y', u'ocio', u'subcategoria', u'otros', u'musica', u'y', u'ocio', u'pregunta', u'donde', u'puedo', u'encontrar', u'noticias', u'de', u'la', u'wwe', u'otras', u'respuestas', u'en', u'http', u'www', u'wwe', u'com', u'community', u'espanol', u'puedes', u'encontrar', u'informacion', u'sobre', u'lo', u'que', u'quieres', u'saber', u'aunque', u'nunca', u'es', u'tarde', u'para', u'comenzar', u'a', u'estudiar', u'el', u'idioma', u'leyendo', u'es', u'la', u'mejor', u'forma', u'aunque', u'tardes', u'un', u'poco', u'por', u'tener', u'que', u'consultar', u'el', u'diccionario', u'los', u'traductores', u'siempre', u'tendran', u'fallas', u'saludos', u'en', u'la', u'pagina', u'principal', u'muy', u'abajo', u'esta', u'en', u'espanol', u'ojala', u'que', u'te', u'ayude']\n"
       ]
      }
     ],
     "prompt_number": 14
    },
    {
     "cell_type": "code",
     "collapsed": false,
     "input": [
      "print model.most_similar(\"SENT_3761\")"
     ],
     "language": "python",
     "metadata": {},
     "outputs": [
      {
       "output_type": "stream",
       "stream": "stdout",
       "text": [
        "[('SENT_234', 0.5433420538902283), ('SENT_68', 0.5307235717773438), ('SENT_57', 0.5298691391944885), ('SENT_400', 0.5295456647872925), ('SENT_20', 0.5158004760742188), ('SENT_29', 0.5091908574104309), ('SENT_30', 0.5033468008041382), ('SENT_22', 0.5010942816734314), ('SENT_94', 0.4979245066642761), ('SENT_27', 0.49273884296417236)]\n"
       ]
      }
     ],
     "prompt_number": 15
    },
    {
     "cell_type": "code",
     "collapsed": false,
     "input": [
      "print find(\"SENT_234\")"
     ],
     "language": "python",
     "metadata": {},
     "outputs": [
      {
       "output_type": "stream",
       "stream": "stdout",
       "text": [
        "[u'es', u'mx', u'categoria', u'filosofia', u'categoria', u'principal', u'arte', u'y', u'humanidades', u'subcategoria', u'filosofia', u'pregunta', u'el', u'cuerpo', u'no', u'es', u'mas', u'que', u'un', u'medio', u'de', u'volverse', u'temporalmente', u'visible', u'todo', u'nacimiento', u'es', u'una', u'aparicion', u'otras', u'respuestas', u'el', u'humano', u'es', u'un', u'ser', u'corporal', u'y', u'espiritual', u'por', u'lo', u'que', u'la', u'respuesta', u'a', u'tu', u'pregunta', u'es', u'si', u'tanto', u'un', u'nacimiento', u'es', u'una', u'aparicion', u'como', u'una', u'aparicion', u'es', u'un', u'nacimiento', u'puesto', u'que', u'el', u'nacimiento', u'es', u'relacion', u'con', u'el', u'cuerpo', u'y', u'la', u'aparicion', u'con', u'el', u'espiritu', u'el', u'cuerpo', u'fisico', u'es', u'una', u'herramienta', u'para', u'poder', u'estar', u'en', u'esta', u'dimension', u'y', u'cumplir', u'nuestra', u'mision', u'aca', u'si', u'yo', u'le', u'llamo', u'solo', u'una', u'etapa', u'de', u'la', u'creacion', u'todo', u'nacimiento', u'es', u'solo', u'una', u'etapa', u'fisica', u'del', u'alma', u'o', u'del', u'ser', u'andale', u'si', u'quien', u'quiere', u'difamarme', u'vamos', u'la', u'oportunidad', u'que', u'tanto', u'han', u'estado', u'esperando', u'http', u'mx', u'answers', u'yahoo', u'com', u'question', u'index', u'ylt', u'apn90vsv4mvdmdh0aum2csoy8gt', u'qid', u'20061119193933aanospi', u'asi', u'es', u'mi', u'amigo', u'es', u'la', u'materializacion', u'de', u'la', u'personalidad', u'el', u'cuerpo', u'es', u'la', u'expresion', u'fisica', u'del', u'alma', u'en', u'absoluto', u'no', u'aparecemos', u'como', u'entes', u'de', u'repente', u'ya', u'estabas', u'solo', u'que', u'no', u'eras', u'no', u'tenias', u'consciencia', u'no', u'experimentabas', u'no', u'tenias', u'memoria', u'entiendes', u'lo', u'que', u'te', u'comunico', u'chib', u'ta', u'profundo', u'pero', u'hasta', u'que', u'te', u'doy', u'la', u'razon', u'muy', u'bueno', u'que', u'es', u'peor', u'http', u'espanol', u'answers', u'yahoo', u'com', u'question', u'index', u'ylt', u'ap6rhxkej5tqjy7n5ruc5t', u'yeqx', u'qid', u'20061122030817aasqx7f', u'filosoficamente', u'el', u'cuerpo', u'es', u'lo', u'que', u'nos', u'da', u'temporalidad', u'es', u'cierto', u'pues', u'es', u'el', u'que', u'denota', u'el', u'envejecimiento', u'aunque', u'esta', u'pregunta', u'es', u'muy', u'ambigua', u'pues', u'al', u'mismo', u'tiempo', u'el', u'cuerpo', u'puede', u'ser', u'objeto', u'de', u'eternizaciones', u'como', u'cuando', u'hacen', u'un', u'retrato', u'de', u'el', u'y', u'asi', u'es', u'como', u'conocemos', u'a', u'los', u'que', u'vivieron', u'en', u'el', u'pasado', u'como', u'si', u'estuviesen', u'presentes', u'el', u'nacimiento', u'es', u'una', u'aparicion', u'solo', u'una', u'nueva', u'porque', u'el', u'feto', u'de', u'hecho', u'ya', u'existia', u'dentro', u'de', u'la', u'madre', u'y', u'asi', u'la', u'pregunta', u'interesante', u'es', u'cuando', u'apareces', u'por', u'primera', u'vez', u'cuando', u'puedes', u'decir', u'que', u'ya', u'eres']\n"
       ]
      }
     ],
     "prompt_number": 16
    },
    {
     "cell_type": "markdown",
     "metadata": {},
     "source": [
      "Otra prueba para intentar descubrir conocimiento..."
     ]
    },
    {
     "cell_type": "code",
     "collapsed": false,
     "input": [
      "print model.most_similar(positive=['pareja','novio'], negative=['hombre'])"
     ],
     "language": "python",
     "metadata": {},
     "outputs": [
      {
       "output_type": "stream",
       "stream": "stdout",
       "text": [
        "[(u'esposo', 0.49963027238845825), (u'compu', 0.4918813705444336), (u'maquina', 0.48824596405029297), (u'computadora', 0.4847452640533447), (u'cunada', 0.4835668206214905), (u'expareja', 0.4795129597187042), (u'novia', 0.4778370261192322), (u'sobrinita', 0.4746474027633667), (u'hija', 0.47281742095947266), (u'hna', 0.45823830366134644)]\n"
       ]
      }
     ],
     "prompt_number": 11
    },
    {
     "cell_type": "code",
     "collapsed": false,
     "input": [
      "print model.most_similar(\"categoria\")"
     ],
     "language": "python",
     "metadata": {},
     "outputs": [
      {
       "output_type": "stream",
       "stream": "stdout",
       "text": [
        "[(u'sociedadenmovimiento', 0.5090121626853943), (u'intl', 0.4802238643169403), (u'frecuenciacero', 0.44366127252578735), (u'locale', 0.4266245663166046), (u'udg', 0.4067701995372772), (u'laeleccion', 0.39823219180107117), (u'hl', 0.38959798216819763), (u'cicese', 0.38572895526885986), (u'prodigyweb', 0.38570162653923035), (u'memovazquez2003', 0.3837016522884369)]\n"
       ]
      }
     ],
     "prompt_number": 17
    },
    {
     "cell_type": "code",
     "collapsed": false,
     "input": [
      "print model.most_similar(\"idioma\")"
     ],
     "language": "python",
     "metadata": {},
     "outputs": [
      {
       "output_type": "stream",
       "stream": "stdout",
       "text": [
        "[(u'hoyito', 0.47137272357940674), (u'tema', 0.4623063802719116), (u'lenguaje', 0.45705926418304443), (u'incucai', 0.45505988597869873), (u'dialecto', 0.45385897159576416), (u'disenso', 0.4533078670501709), (u'vienestar', 0.4410366117954254), (u'entierro', 0.4380401372909546), (u'chavismo', 0.43537458777427673), (u'acento', 0.43498504161834717)]\n"
       ]
      }
     ],
     "prompt_number": 18
    },
    {
     "cell_type": "code",
     "collapsed": false,
     "input": [
      "print model.most_similar(\"religion\")"
     ],
     "language": "python",
     "metadata": {},
     "outputs": [
      {
       "output_type": "stream",
       "stream": "stdout",
       "text": [
        "[(u'iglesia', 0.4779012203216553), (u'doctrina', 0.44014981389045715), (u'redundancia', 0.4246264696121216), (u'relgion', 0.41558483242988586), (u'iglecia', 0.40753060579299927), (u'rebundancia', 0.3988323211669922), (u'organizacion', 0.3887249529361725), (u'perrera', 0.38774174451828003), (u'ilgesia', 0.38509273529052734), (u'ortodoxia', 0.38325566053390503)]\n"
       ]
      }
     ],
     "prompt_number": 19
    },
    {
     "cell_type": "markdown",
     "metadata": {},
     "source": [
      "\u00bfCategoriza m\u00fasica?"
     ]
    },
    {
     "cell_type": "code",
     "collapsed": false,
     "input": [
      "print model.most_similar(\"musica\")"
     ],
     "language": "python",
     "metadata": {},
     "outputs": [
      {
       "output_type": "stream",
       "stream": "stdout",
       "text": [
        "[(u'musika', 0.37910133600234985), (u'television', 0.3776911497116089), ('SENT_222079', 0.3699533939361572), ('SENT_177497', 0.3641339838504791), (u'20061101064351aawpit0', 0.35208630561828613), (u'ap1gpi6hmjj1jepklnnfitka9gt', 0.3488767743110657), (u'20061113155137aaqmteh', 0.34725478291511536), (u'wxu4pzq8andyeqx', 0.3414866030216217), (u'20061119180859aasvb6t', 0.3408491015434265), (u'20061107101831aaj7oxt', 0.3363315463066101)]\n"
       ]
      }
     ],
     "prompt_number": 20
    },
    {
     "cell_type": "code",
     "collapsed": false,
     "input": [
      "print find(\"SENT_222079\")"
     ],
     "language": "python",
     "metadata": {},
     "outputs": [
      {
       "output_type": "stream",
       "stream": "stdout",
       "text": [
        "[u'es', u'ar', u'categoria', u'otros', u'entretenimiento', u'categoria', u'principal', u'musica', u'y', u'entretenimiento', u'subcategoria', u'otros', u'entretenimiento', u'pregunta', u'me', u'compran', u'una', u'gato', u'angora', u'otras', u'respuestas', u'decime', u'cuanto', u'tiempo', u'tiene', u'y', u'a', u'cuanto', u'lo', u'vendes', u'obvio', u'hace', u'de', u'nuevo', u'la', u'pregunta', u'y', u'pone', u'la', u'data']\n"
       ]
      }
     ],
     "prompt_number": 21
    },
    {
     "cell_type": "code",
     "collapsed": false,
     "input": [
      "print model.most_similar(\"SENT_222079\")"
     ],
     "language": "python",
     "metadata": {},
     "outputs": [
      {
       "output_type": "stream",
       "stream": "stdout",
       "text": [
        "[('SENT_224081', 0.4319513440132141), ('SENT_114996', 0.42891326546669006), (u'yegado', 0.4192317724227905), (u'municipalidad', 0.41776061058044434), (u'cuetion', 0.41382867097854614), (u'benta', 0.40381932258605957), (u'entrecasa', 0.4018785357475281), (u'encaminamiento', 0.39710870385169983), (u'pcia', 0.39550918340682983), ('SENT_2849', 0.395224392414093)]\n"
       ]
      }
     ],
     "prompt_number": 23
    },
    {
     "cell_type": "code",
     "collapsed": false,
     "input": [
      "print find(\"SENT_177497\")"
     ],
     "language": "python",
     "metadata": {},
     "outputs": [
      {
       "output_type": "stream",
       "stream": "stdout",
       "text": [
        "[u'es', u'mx', u'categoria', u'reality', u'shows', u'categoria', u'principal', u'musica', u'y', u'entretenimiento', u'subcategoria', u'television', u'pregunta', u'como', u'se', u'llama', u'la', u'rola', u'ke', u'sale', u'en', u'el', u'comercial', u'de', u'telcel', u'aca', u'en', u'mexico', u'otras', u'respuestas', u'la', u'cancion', u'del', u'comercial', u'de', u'telcel', u'es', u'del', u'grupo', u'temptations', u'y', u'se', u'llama', u'build', u'me', u'up', u'buttercup', u'es', u'de', u'los', u'60', u'la', u'que', u'usa', u'el', u'comercial', u'es', u'una', u'version', u'mas', u'nueva', u'tambien', u'sale', u'en', u'la', u'pelicula', u'de', u'loco', u'por', u'mary', u'la', u'quieres', u'te', u'la', u'paso', u'tengo', u'las', u'dos', u'versiones']\n"
       ]
      }
     ],
     "prompt_number": 22
    },
    {
     "cell_type": "code",
     "collapsed": false,
     "input": [
      "print model.most_similar(['comercial','rola','telcel','mexico','cancion'])"
     ],
     "language": "python",
     "metadata": {},
     "outputs": [
      {
       "output_type": "stream",
       "stream": "stdout",
       "text": [
        "[(u'cansion', 0.4595080614089966), (u'kancion', 0.4564715623855591), ('SENT_145900', 0.4557070732116699), (u'miniserie', 0.44774627685546875), (u'refaccionaria', 0.4351719617843628), (u'modalidad', 0.43412941694259644), (u'taquilla', 0.43061909079551697), (u'locacion', 0.4303366541862488), (u'ferreteria', 0.4302365183830261), ('SENT_204785', 0.4269294738769531)]\n"
       ]
      }
     ],
     "prompt_number": 27
    },
    {
     "cell_type": "code",
     "collapsed": false,
     "input": [
      "print find(\"SENT_145900\")"
     ],
     "language": "python",
     "metadata": {},
     "outputs": [
      {
       "output_type": "stream",
       "stream": "stdout",
       "text": [
        "[u'es', u'mx', u'categoria', u'blues', u'categoria', u'principal', u'musica', u'y', u'entretenimiento', u'subcategoria', u'musica', u'pregunta', u'cuales', u'es', u'la', u'cancion', u'mas', u'escuchada', u'en', u'tu', u'ipod', u'otras', u'respuestas', u'tears', u'don', u't', u'fall', u'de', u'bullet', u'for', u'my', u'balentine', u'la', u'mia', u'es', u'de', u'nirvana', u'smells', u'like', u'teen', u'spirit', u'amerika', u'de', u'rammstein', u'y', u'nymphetamine', u'de', u'cradle', u'of', u'filth', u'aaa', u'y', u'buck', u'ditch', u'de', u'rammstein', u'lips', u'of', u'an', u'angel', u'de', u'hinder', u'y', u'las', u'del', u'grupo', u'paramore', u'que', u'en', u'paz', u'descanse', u'de', u'intocable', u'memories', u'de', u'within', u'temptation', u'y', u'en', u'2o', u'lugar', u'ghost', u'love', u'score', u'de', u'nightwish', u'no', u'tengo', u'pero', u'si', u'tuviera', u'seria', u'ten', u'miedo', u'de', u'mi', u'fernando', u'delgadillo', u'ricky', u'martin']\n"
       ]
      }
     ],
     "prompt_number": 28
    },
    {
     "cell_type": "code",
     "collapsed": false,
     "input": [
      "print find(\"SENT_204785\")"
     ],
     "language": "python",
     "metadata": {},
     "outputs": [
      {
       "output_type": "stream",
       "stream": "stdout",
       "text": [
        "[u'es', u'mx', u'categoria', u'otros', u'destinos', u'categoria', u'principal', u'viajes', u'subcategoria', u'otros', u'destinos', u'pregunta', u'en', u'donde', u'me', u'puedo', u'comprar', u'una', u'tejana', u'para', u'la', u'playa', u'en', u'el', u'd', u'f', u'para', u'los', u'que', u'no', u'saben', u'es', u'un', u'sombrero', u'playero', u'otras', u'respuestas', u'en', u'el', u'mercado', u'de', u'sonora', u'estaria', u'bien', u'saludos', u'july', u'pues', u'podrias', u'conseguirlo', u'en', u'el', u'mercado', u'de', u'sonora', u'suerte']\n"
       ]
      }
     ],
     "prompt_number": 29
    },
    {
     "cell_type": "markdown",
     "metadata": {},
     "source": [
      "Otras pruebas..."
     ]
    },
    {
     "cell_type": "code",
     "collapsed": false,
     "input": [
      "print model.most_similar(['religion','espiritualidad','raelianos','fanatismos','creencias'])"
     ],
     "language": "python",
     "metadata": {},
     "outputs": [
      {
       "output_type": "stream",
       "stream": "stdout",
       "text": [
        "[(u'planteamientos', 0.527515172958374), (u'antecesores', 0.5042232871055603), (u'aposteles', 0.49042996764183044), (u'practicantes', 0.47894877195358276), (u'mienbros', 0.4750925600528717), (u'muertitos', 0.46920573711395264), (u'sentimentos', 0.46582305431365967), (u'predecesores', 0.46399635076522827), (u'congeneres', 0.4626917839050293), (u'rezos', 0.46039724349975586)]\n"
       ]
      }
     ],
     "prompt_number": 30
    },
    {
     "cell_type": "code",
     "collapsed": false,
     "input": [
      "print model.most_similar(['religion','espiritualidad'])"
     ],
     "language": "python",
     "metadata": {},
     "outputs": [
      {
       "output_type": "stream",
       "stream": "stdout",
       "text": [
        "[(u'filosofia', 0.5509771108627319), (u'realeza', 0.5002933740615845), (u'genealogia', 0.49126434326171875), (u'aeronavegacion', 0.44838017225265503), (u'astronomia', 0.4463304281234741), (u'videojuegos', 0.4343833923339844), (u'geografia', 0.4301416873931885), (u'sociedad', 0.42273157835006714), (u'festivos', 0.4177757501602173), (u'paternidad', 0.4169914126396179)]\n"
       ]
      }
     ],
     "prompt_number": 31
    },
    {
     "cell_type": "code",
     "collapsed": false,
     "input": [
      "print model.most_similar_cosmul(['religion','espiritualidad','raelianos','fanatismos','creencias'])"
     ],
     "language": "python",
     "metadata": {},
     "outputs": [
      {
       "output_type": "stream",
       "stream": "stdout",
       "text": [
        "[(u'planteamientos', 0.08870559185743332), (u'antecesores', 0.08577942103147507), (u'aposteles', 0.0832311287522316), (u'practicantes', 0.08221926540136337), (u'mienbros', 0.08149415999650955), (u'rezos', 0.08047521114349365), (u'muertitos', 0.08027233928442001), (u'sentimentos', 0.07939384132623672), (u'admiraciones', 0.07845453917980194), (u'congeneres', 0.07827680557966232)]\n"
       ]
      }
     ],
     "prompt_number": 32
    },
    {
     "cell_type": "code",
     "collapsed": false,
     "input": [
      "print model.most_similar_cosmul(['religion','espiritualidad'])"
     ],
     "language": "python",
     "metadata": {},
     "outputs": [
      {
       "output_type": "stream",
       "stream": "stdout",
       "text": [
        "[(u'filosofia', 0.4172069728374481), (u'realeza', 0.3995569050312042), (u'genealogia', 0.3970242440700531), (u'astronomia', 0.3790408968925476), (u'videojuegos', 0.3759946823120117), (u'geografia', 0.37458595633506775), (u'sociedad', 0.37341034412384033), (u'paternidad', 0.37242385745048523), (u'sociologia', 0.3701854646205902), (u'historia', 0.36743271350860596)]\n"
       ]
      }
     ],
     "prompt_number": 33
    },
    {
     "cell_type": "code",
     "collapsed": false,
     "input": [
      "print model.n_similarity(['religion','cristianos'], ['religion','raelianos'])"
     ],
     "language": "python",
     "metadata": {},
     "outputs": [
      {
       "output_type": "stream",
       "stream": "stdout",
       "text": [
        "0.847747773057\n"
       ]
      }
     ],
     "prompt_number": 35
    },
    {
     "cell_type": "code",
     "collapsed": false,
     "input": [
      "print model.most_similar(['religion','cristianos'])"
     ],
     "language": "python",
     "metadata": {},
     "outputs": [
      {
       "output_type": "stream",
       "stream": "stdout",
       "text": [
        "[(u'judios', 0.4296290874481201), (u'doctrina', 0.40328627824783325), (u'illuminati', 0.4019394814968109), (u'chichimecas', 0.39748436212539673), (u'60s', 0.39491692185401917), (u'talibanes', 0.37791094183921814), (u'delicuentes', 0.3753994107246399), (u'sacerdotes', 0.3709648549556732), (u'fariseos', 0.37057578563690186), (u'iglesia', 0.36443471908569336)]\n"
       ]
      }
     ],
     "prompt_number": 36
    },
    {
     "cell_type": "code",
     "collapsed": false,
     "input": [
      "print model.most_similar(['religion','raelianos'])"
     ],
     "language": "python",
     "metadata": {},
     "outputs": [
      {
       "output_type": "stream",
       "stream": "stdout",
       "text": [
        "[(u'iglesia', 0.35534292459487915), (u'monjes', 0.3461564779281616), (u'doctrina', 0.3325979709625244), (u'fornicarios', 0.33219993114471436), (u'oroscopos', 0.33162015676498413), (u'metodistas', 0.3252750337123871), (u'catatrepa', 0.3228909373283386), (u'estramboticos', 0.3197121024131775), (u'igesia', 0.3194320499897003), (u'arzobispos', 0.3171576261520386)]\n"
       ]
      }
     ],
     "prompt_number": 37
    },
    {
     "cell_type": "code",
     "collapsed": false,
     "input": [
      "print model.n_similarity(['restaurante','japones'], ['tienda','japonesa'])"
     ],
     "language": "python",
     "metadata": {},
     "outputs": [
      {
       "output_type": "stream",
       "stream": "stdout",
       "text": [
        "0.199990806355\n"
       ]
      }
     ],
     "prompt_number": 38
    },
    {
     "cell_type": "code",
     "collapsed": false,
     "input": [
      "print model.most_similar(['restaurante','japones'])"
     ],
     "language": "python",
     "metadata": {},
     "outputs": [
      {
       "output_type": "stream",
       "stream": "stdout",
       "text": [
        "[(u'restaurant', 0.522070050239563), (u'comal', 0.4497969150543213), (u'restoran', 0.4400857388973236), (u'antro', 0.43963339924812317), (u'mirador', 0.42539769411087036), (u'hotel', 0.42327362298965454), (u'santiamen', 0.4208136200904846), (u'porrito', 0.4170999825000763), (u'ativirus', 0.4169808328151703), (u'parteaguas', 0.41523128747940063)]\n"
       ]
      }
     ],
     "prompt_number": 39
    },
    {
     "cell_type": "code",
     "collapsed": false,
     "input": [
      "print model.most_similar(['tienda','japonesa'])"
     ],
     "language": "python",
     "metadata": {},
     "outputs": [
      {
       "output_type": "stream",
       "stream": "stdout",
       "text": [
        "[(u'peluqueria', 0.4579644203186035), (u'farmacia', 0.44822317361831665), (u'pelicula', 0.4186405539512634), (u'revista', 0.4185865819454193), (u'conjetura', 0.4131180942058563), (u'tauromaquia', 0.4093794822692871), (u'cancio', 0.4070298671722412), (u'tintoreria', 0.4039570689201355), (u'frese', 0.4030391573905945), (u'pelotita', 0.4022781252861023)]\n"
       ]
      }
     ],
     "prompt_number": 40
    },
    {
     "cell_type": "code",
     "collapsed": false,
     "input": [
      "print model.most_similar(['espana'])"
     ],
     "language": "python",
     "metadata": {},
     "outputs": [
      {
       "output_type": "stream",
       "stream": "stdout",
       "text": [
        "[(u'vilo', 0.40013033151626587), (u'pamplona', 0.3990861773490906), (u'ferrys', 0.397060364484787), (u'bagdad', 0.3961699604988098), (u'madrid', 0.3901481330394745), (u'despojar', 0.3862471580505371), (u'tepito', 0.38509052991867065), (u'pekin', 0.3839970827102661), (u'refugiarte', 0.3810589909553528), (u'vzla', 0.38102853298187256)]\n"
       ]
      }
     ],
     "prompt_number": 8
    },
    {
     "cell_type": "code",
     "collapsed": false,
     "input": [
      "print model.most_similar(['espana', 'pais'])"
     ],
     "language": "python",
     "metadata": {},
     "outputs": [
      {
       "output_type": "stream",
       "stream": "stdout",
       "text": [
        "[(u'centrarme', 0.4618023931980133), (u'altiplano', 0.45977336168289185), (u'momneto', 0.4556902348995209), (u'vilo', 0.44237297773361206), (u'karst', 0.44016313552856445), (u'ayuntamiento', 0.4348489046096802), (u'letargo', 0.43455401062965393), (u'derredor', 0.43157505989074707), (u'refugiarte', 0.43069857358932495), (u'derrocamiento', 0.4297557473182678)]\n"
       ]
      }
     ],
     "prompt_number": 9
    },
    {
     "cell_type": "code",
     "collapsed": false,
     "input": [],
     "language": "python",
     "metadata": {},
     "outputs": []
    }
   ],
   "metadata": {}
  }
 ]
}