{
 "metadata": {
  "name": "",
  "signature": "sha256:d91bc308c73e1d9fcc521e7bf73afa4a3617996ba0ee38f35c4b3e83eaafaed3"
 },
 "nbformat": 3,
 "nbformat_minor": 0,
 "worksheets": [
  {
   "cells": [
    {
     "cell_type": "markdown",
     "metadata": {},
     "source": [
      "## Prepare Spark environment"
     ]
    },
    {
     "cell_type": "markdown",
     "metadata": {},
     "source": [
      "Launch ipython notebook for pyspark:\n",
      "```bash\n",
      "IPYTHON_OPTS=\"notebook --pylab inline\" SPARK_DRIVER_MEMORY=3G SPARK_EXECUTOR_MEMORY=3G ~/herramientas/spark-1.2.0-bin-hadoop2.4/bin/pyspark\n",
      "```"
     ]
    },
    {
     "cell_type": "code",
     "collapsed": false,
     "input": [
      "from pyspark.context import SparkContext\n",
      "print \"Running Spark Version %s\" % (sc.version)"
     ],
     "language": "python",
     "metadata": {},
     "outputs": [
      {
       "output_type": "stream",
       "stream": "stdout",
       "text": [
        "Running Spark Version 1.2.0\n"
       ]
      }
     ],
     "prompt_number": 1
    },
    {
     "cell_type": "code",
     "collapsed": false,
     "input": [
      "from pyspark.conf import SparkConf\n",
      "SparkContext.setSystemProperty('spark.driver.memory', '3g')\n",
      "SparkContext.setSystemProperty('spark.executor.memory', '3g')\n",
      "conf = SparkConf()\n",
      "print conf.toDebugString()"
     ],
     "language": "python",
     "metadata": {},
     "outputs": [
      {
       "output_type": "stream",
       "stream": "stdout",
       "text": [
        "spark.app.name=pyspark-shell\n",
        "spark.driver.memory=3g\n",
        "spark.executor.memory=3g\n",
        "spark.master=local[*]\n"
       ]
      }
     ],
     "prompt_number": 2
    },
    {
     "cell_type": "markdown",
     "metadata": {},
     "source": [
      "## Prepare data cleaning"
     ]
    },
    {
     "cell_type": "markdown",
     "metadata": {},
     "source": [
      "Prepare the dataset:\n",
      "```bash\n",
      "wget https://dumps.wikimedia.org/enwiki/latest/enwiki-latest-pages-articles1.xml-p000000010p000010000.bz2 -P data/\n",
      "bzcat data/enwiki-latest-pages-articles1.xml-p000000010p000010000.bz2 | wikipedia-extractor/WikiExtractor.py -cb 250K -o data/en_articles1/\n",
      "find data/en_articles1/ -name '*bz2' -exec bunzip2 -c {} \\; > data/en_articles1.xml\n",
      "```"
     ]
    },
    {
     "cell_type": "code",
     "collapsed": false,
     "input": [
      "from pyspark.mllib.feature import Word2Vec\n",
      "word2vec = Word2Vec()\n",
      "#word2vec = Word2Vec().setNumPartitions(4)\n",
      "import string\n",
      "import unicodedata\n",
      "import re\n",
      "def clean(x):\n",
      "    x = unicodedata.normalize('NFKD', x).encode('ascii','ignore').lower()\n",
      "    replace_punctuation = string.maketrans(string.punctuation, ' '*len(string.punctuation))\n",
      "    x = x.translate(replace_punctuation)\n",
      "    x = re.sub(' +',' ', x).strip()\n",
      "    return x"
     ],
     "language": "python",
     "metadata": {},
     "outputs": [],
     "prompt_number": 3
    },
    {
     "cell_type": "markdown",
     "metadata": {},
     "source": [
      "## Example en_articles1.xml"
     ]
    },
    {
     "cell_type": "code",
     "collapsed": false,
     "input": [
      "myfilename = \"data/en_articles1.xml\"\n",
      "lines = sc.textFile(myfilename)"
     ],
     "language": "python",
     "metadata": {},
     "outputs": [],
     "prompt_number": 4
    },
    {
     "cell_type": "code",
     "collapsed": false,
     "input": [
      "word_count_bo = lines.flatMap(lambda x: x.split(' ')).\\\n",
      "    map(lambda x: (clean(x), 1)).\\\n",
      "    reduceByKey(add)\n",
      "word_count_bo.count()"
     ],
     "language": "python",
     "metadata": {},
     "outputs": [
      {
       "metadata": {},
       "output_type": "pyout",
       "prompt_number": 5,
       "text": [
        "291266"
       ]
      }
     ],
     "prompt_number": 5
    },
    {
     "cell_type": "code",
     "collapsed": false,
     "input": [
      "lines2sentences = lines.flatMap(lambda row: row.split(\".\"))\n",
      "lines2words = lines2sentences.map(lambda row: clean(row).split(\" \"))\n",
      "lines2words = lines2words.filter(lambda x: x[0] != '')\n",
      "print lines.take(4)\n",
      "print lines2words.take(6)"
     ],
     "language": "python",
     "metadata": {},
     "outputs": [
      {
       "output_type": "stream",
       "stream": "stdout",
       "text": [
        "[u'<doc id=\"5254\" url=\"http://en.wikipedia.org/wiki?curid=5254\" title=\"Common law\">', u'Common law', u'', u'Common law (also known as case law or precedent) is law developed by judges through decisions of courts and similar tribunals that decide individual cases, as opposed to statutes adopted through the legislative process or regulations issued by the executive branch.']\n",
        "[['doc', 'id', '5254', 'url', 'http', 'en'], ['wikipedia'], ['org', 'wiki', 'curid', '5254', 'title', 'common', 'law'], ['common', 'law'], ['common', 'law', 'also', 'known', 'as', 'case', 'law', 'or', 'precedent', 'is', 'law', 'developed', 'by', 'judges', 'through', 'decisions', 'of', 'courts', 'and', 'similar', 'tribunals', 'that', 'decide', 'individual', 'cases', 'as', 'opposed', 'to', 'statutes', 'adopted', 'through', 'the', 'legislative', 'process', 'or', 'regulations', 'issued', 'by', 'the', 'executive', 'branch'], ['a', 'common', 'law', 'system', 'is', 'a', 'legal', 'system', 'that', 'gives', 'great', 'precedential', 'weight', 'to', 'common', 'law', 'so', 'that', 'consistent', 'principles', 'applied', 'to', 'similar', 'facts', 'yield', 'similar', 'outcomes']]"
       ]
      },
      {
       "output_type": "stream",
       "stream": "stdout",
       "text": [
        "\n"
       ]
      }
     ],
     "prompt_number": 6
    },
    {
     "cell_type": "code",
     "collapsed": false,
     "input": [
      "model_en = word2vec.fit(lines2words)"
     ],
     "language": "python",
     "metadata": {},
     "outputs": [],
     "prompt_number": 7
    },
    {
     "cell_type": "code",
     "collapsed": false,
     "input": [
      "print(model_en.findSynonyms('king', 10))\n",
      "print(model_en.findSynonyms('queen', 10))\n",
      "queen = model_en.transform('queen').toArray()\n",
      "woman = model_en.transform('woman').toArray()\n",
      "man = model_en.transform('man').toArray()\n",
      "print model_en.findSynonyms(queen - woman + man, 10)"
     ],
     "language": "python",
     "metadata": {},
     "outputs": [
      {
       "output_type": "stream",
       "stream": "stdout",
       "text": [
        "[(u'henry', 0.75612086057662964), (u'thelstan', 0.72295874357223511), (u'vii', 0.71596091985702515), (u'adonijah', 0.71524077653884888), (u'valdemar', 0.71214509010314941), (u'prince', 0.70923072099685669), (u'ealdred', 0.70759034156799316), (u'throne', 0.70318359136581421), (u'thelberht', 0.6996648907661438), (u'worcester', 0.69739675521850586)]\n",
        "[(u'elizabeth', 0.77243810892105103), (u'prince', 0.73214983940124512), (u'princess', 0.72310560941696167), (u'draga', 0.720428466796875), (u'mary', 0.65590846538543701), (u'consort', 0.65224087238311768), (u'heiress', 0.64695000648498535), (u'confessor', 0.64283537864685059), (u'king', 0.6398080587387085), (u'braganza', 0.63443350791931152)]"
       ]
      },
      {
       "output_type": "stream",
       "stream": "stdout",
       "text": [
        "\n",
        "[(u'elizabeth', 0.62455081939697266), (u'prince', 0.61098885536193848), (u'lord', 0.59362012147903442), (u'king', 0.58792376518249512), (u'marguerite', 0.56709635257720947), (u'edward', 0.55904710292816162), (u'demetrius', 0.55861514806747437), (u'frederick', 0.55735737085342407), (u'henry', 0.55459237098693848), (u'charibert', 0.54823005199432373)]"
       ]
      },
      {
       "output_type": "stream",
       "stream": "stdout",
       "text": [
        "\n"
       ]
      }
     ],
     "prompt_number": 8
    },
    {
     "cell_type": "code",
     "collapsed": false,
     "input": [
      "print(model_en.findSynonyms('italy', 10))\n",
      "print(model_en.findSynonyms('france', 10))\n",
      "france = model_en.transform('france').toArray()\n",
      "paris = model_en.transform('paris').toArray()\n",
      "rome = model_en.transform('rome').toArray()\n",
      "print model_en.findSynonyms(france -paris +rome, 10)"
     ],
     "language": "python",
     "metadata": {},
     "outputs": [
      {
       "output_type": "stream",
       "stream": "stdout",
       "text": [
        "[(u'france', 0.83111429214477539), (u'germany', 0.79955375194549561), (u'austria', 0.76520305871963501), (u'spain', 0.75167375802993774), (u'poland', 0.73694759607315063), (u'belgium', 0.73329073190689087), (u'switzerland', 0.72497659921646118), (u'portugal', 0.68461477756500244), (u'russia', 0.6788296103477478), (u'hungary', 0.66389524936676025)]\n",
        "[(u'italy', 0.83111429214477539), (u'spain', 0.81860929727554321), (u'austria', 0.79736566543579102), (u'germany', 0.79419815540313721), (u'portugal', 0.77095997333526611), (u'belgium', 0.7399718165397644), (u'switzerland', 0.72472876310348511), (u'poland', 0.71086210012435913), (u'britain', 0.69955027103424072), (u'finland', 0.69048416614532471)]"
       ]
      },
      {
       "output_type": "stream",
       "stream": "stdout",
       "text": [
        "\n",
        "[(u'austria', 0.64047831296920776), (u'greece', 0.62783312797546387), (u'macedonia', 0.62761020660400391), (u'hungary', 0.61890316009521484), (u'gaul', 0.60788989067077637), (u'france', 0.60618555545806885), (u'thrace', 0.6035466194152832), (u'italy', 0.59921115636825562), (u'spain', 0.59423953294754028), (u'visigoth', 0.59132176637649536)]"
       ]
      },
      {
       "output_type": "stream",
       "stream": "stdout",
       "text": [
        "\n"
       ]
      }
     ],
     "prompt_number": 10
    },
    {
     "cell_type": "markdown",
     "metadata": {},
     "source": [
      "## Example es_articles1.xml"
     ]
    },
    {
     "cell_type": "code",
     "collapsed": false,
     "input": [
      "myfilename = \"data/es_articles1.xml\"\n",
      "lines = sc.textFile(myfilename)"
     ],
     "language": "python",
     "metadata": {},
     "outputs": [],
     "prompt_number": 11
    },
    {
     "cell_type": "code",
     "collapsed": false,
     "input": [
      "word_count_bo = lines.flatMap(lambda x: x.split(' ')).\\\n",
      "    map(lambda x: (clean(x), 1)).\\\n",
      "    reduceByKey(add)\n",
      "word_count_bo.count()"
     ],
     "language": "python",
     "metadata": {},
     "outputs": [
      {
       "metadata": {},
       "output_type": "pyout",
       "prompt_number": 12,
       "text": [
        "864689"
       ]
      }
     ],
     "prompt_number": 12
    },
    {
     "cell_type": "code",
     "collapsed": false,
     "input": [
      "lines2sentences = lines.flatMap(lambda row: row.split(\".\"))\n",
      "lines2words = lines2sentences.map(lambda row: clean(row).split(\" \"))\n",
      "lines2words = lines2words.filter(lambda x: x[0] != '')\n",
      "print lines.take(4)\n",
      "print lines2words.take(6)"
     ],
     "language": "python",
     "metadata": {},
     "outputs": [
      {
       "output_type": "stream",
       "stream": "stdout",
       "text": [
        "[u'<doc id=\"126028\" url=\"http://es.wikipedia.org/wiki?curid=126028\" title=\"Villarrobledo\">', u'Villarrobledo', u'', u'Villarrobledo (oficialmente Villarrobledo de la Vega, aunque es una denominaci\\xf3n sin uso pr\\xe1ctico hoy en d\\xeda) es un municipio y una ciudad de la provincia de Albacete (Castilla-La Mancha), Espa\\xf1a, situado al noroeste de la provincia y fronterizo con las provincias de Cuenca y Ciudad Real, en la mancomunidad de La Mancha del J\\xfacar-Centro. Cuenta con una poblaci\\xf3n de 26.485 habitantes (INE 2011). La extensi\\xf3n de su t\\xe9rmino es una de las mayores de Espa\\xf1a.']\n",
        "[['doc', 'id', '126028', 'url', 'http', 'es'], ['wikipedia'], ['org', 'wiki', 'curid', '126028', 'title', 'villarrobledo'], ['villarrobledo'], ['villarrobledo', 'oficialmente', 'villarrobledo', 'de', 'la', 'vega', 'aunque', 'es', 'una', 'denominacion', 'sin', 'uso', 'practico', 'hoy', 'en', 'dia', 'es', 'un', 'municipio', 'y', 'una', 'ciudad', 'de', 'la', 'provincia', 'de', 'albacete', 'castilla', 'la', 'mancha', 'espana', 'situado', 'al', 'noroeste', 'de', 'la', 'provincia', 'y', 'fronterizo', 'con', 'las', 'provincias', 'de', 'cuenca', 'y', 'ciudad', 'real', 'en', 'la', 'mancomunidad', 'de', 'la', 'mancha', 'del', 'jucar', 'centro'], ['cuenta', 'con', 'una', 'poblacion', 'de', '26']]"
       ]
      },
      {
       "output_type": "stream",
       "stream": "stdout",
       "text": [
        "\n"
       ]
      }
     ],
     "prompt_number": 13
    },
    {
     "cell_type": "code",
     "collapsed": false,
     "input": [
      "model_es = word2vec.fit(lines2words)"
     ],
     "language": "python",
     "metadata": {},
     "outputs": [],
     "prompt_number": 14
    },
    {
     "cell_type": "code",
     "collapsed": false,
     "input": [
      "print(model_es.findSynonyms('rey', 10))\n",
      "print(model_es.findSynonyms('reina', 10))\n",
      "reina = model_es.transform('reina').toArray()\n",
      "mujer = model_es.transform('mujer').toArray()\n",
      "hombre = model_es.transform('hombre').toArray()\n",
      "print model_es.findSynonyms(reina -mujer +hombre, 10)"
     ],
     "language": "python",
     "metadata": {},
     "outputs": [
      {
       "output_type": "stream",
       "stream": "stdout",
       "text": [
        "[(u'monarca', 0.81625485420227051), (u'mauregato', 0.79701268672943115), (u'trono', 0.79011297225952148), (u'artajerjes', 0.78185176849365234), (u'bermudo', 0.76828444004058838), (u'fruela', 0.76724785566329956), (u'iii', 0.76583772897720337), (u'principe', 0.7539132833480835), (u'batallador', 0.75383138656616211), (u'emperador', 0.74947386980056763)]\n",
        "[(u'consorte', 0.8264274001121521), (u'princesa', 0.80960977077484131), (u'infanta', 0.80815601348876953), (u'emperatriz', 0.80789411067962646), (u'isabel', 0.79265320301055908), (u'dzeliwe', 0.78654557466506958), (u'archiduquesa', 0.76376700401306152), (u'viuda', 0.76369261741638184), (u'duquesa', 0.76042300462722778), (u'guillermina', 0.74904906749725342)]"
       ]
      },
      {
       "output_type": "stream",
       "stream": "stdout",
       "text": [
        "\n",
        "[(u'principe', 0.56071501970291138), (u'rey', 0.55545872449874878), (u'nemea', 0.55224651098251343), (u'consorte', 0.55060696601867676), (u'regente', 0.54123991727828979), (u'palatino', 0.51673167943954468), (u'vasallo', 0.51089483499526978), (u'heroe', 0.5072561502456665), (u'zar', 0.50500929355621338), (u'isabel', 0.49849677085876465)]"
       ]
      },
      {
       "output_type": "stream",
       "stream": "stdout",
       "text": [
        "\n"
       ]
      }
     ],
     "prompt_number": 16
    },
    {
     "cell_type": "code",
     "collapsed": false,
     "input": [
      "print(model_es.findSynonyms('italia', 10))\n",
      "print(model_es.findSynonyms('francia', 10))\n",
      "francia = model_es.transform('francia').toArray()\n",
      "paris = model_es.transform('paris').toArray()\n",
      "roma = model_es.transform('roma').toArray()\n",
      "print model_es.findSynonyms(francia -paris +roma, 10)"
     ],
     "language": "python",
     "metadata": {},
     "outputs": [
      {
       "output_type": "stream",
       "stream": "stdout",
       "text": [
        "[(u'francia', 0.86768913269042969), (u'holanda', 0.82844847440719604), (u'belgica', 0.81912559270858765), (u'alemania', 0.7897721529006958), (u'polonia', 0.73631954193115234), (u'lombardia', 0.72505176067352295), (u'hungria', 0.71499216556549072), (u'suecia', 0.71289628744125366), (u'suiza', 0.69977700710296631), (u'flandes', 0.6994243860244751)]\n",
        "[(u'italia', 0.86768907308578491), (u'holanda', 0.85306859016418457), (u'belgica', 0.80767768621444702), (u'portugal', 0.80451935529708862), (u'alemania', 0.79395961761474609), (u'flandes', 0.78667366504669189), (u'austria', 0.78178548812866211), (u'suecia', 0.75454533100128174), (u'hungria', 0.74898320436477661), (u'polonia', 0.74278217554092407)]"
       ]
      },
      {
       "output_type": "stream",
       "stream": "stdout",
       "text": [
        "\n",
        "[(u'italia', 0.68912482261657715), (u'roma', 0.65891569852828979), (u'cerdena', 0.64917057752609253), (u'hispania', 0.63926148414611816), (u'grecia', 0.62652212381362915), (u'francia', 0.61818653345108032), (u'macedonia', 0.61286377906799316), (u'carlomagno', 0.61126834154129028), (u'angevina', 0.6094549298286438), (u'celesiria', 0.60414189100265503)]"
       ]
      },
      {
       "output_type": "stream",
       "stream": "stdout",
       "text": [
        "\n"
       ]
      }
     ],
     "prompt_number": 17
    },
    {
     "cell_type": "code",
     "collapsed": false,
     "input": [
      "sc.stop()"
     ],
     "language": "python",
     "metadata": {},
     "outputs": []
    }
   ],
   "metadata": {}
  }
 ]
}