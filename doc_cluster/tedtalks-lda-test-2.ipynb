{
 "metadata": {
  "name": "",
  "signature": "sha256:e48a6d557eb4eeba43e73ec130debd1301523c99e3f0c1016934ad3f40a72145"
 },
 "nbformat": 3,
 "nbformat_minor": 0,
 "worksheets": [
  {
   "cells": [
    {
     "cell_type": "code",
     "collapsed": false,
     "input": [
      "import logging\n",
      "logging.basicConfig(format='%(asctime)s : %(levelname)s : %(message)s', \n",
      "    level=logging.INFO)\n",
      "from gensim import corpora, models, similarities, matutils\n",
      "\n",
      "corpus = corpora.MmCorpus('/home/nievesabalos/Escritorio/nlp/datasets/TED/modelos/tedtalks.mm')\n",
      "\n",
      "dictionary = corpora.Dictionary.load('/home/nievesabalos/Escritorio/nlp/datasets/TED/modelos/tedtalks.dict')\n",
      "print(dictionary)\n",
      "\n",
      "tfidf = models.TfidfModel.load('/home/nievesabalos/Escritorio/nlp/datasets/TED/modelos/tedtalks.tfidf')\n",
      "corpus_tfidf = tfidf[corpus]\n",
      "\n",
      "lda = models.LdaModel.load('/home/nievesabalos/Escritorio/nlp/datasets/TED/modelos/tedtalks.lda')\n",
      "corpus_lda = lda[corpus_tfidf]\n",
      "\n",
      "print(lda)"
     ],
     "language": "python",
     "metadata": {},
     "outputs": [
      {
       "output_type": "stream",
       "stream": "stdout",
       "text": [
        "Dictionary(77909 unique tokens: [u'cautivaron', u'anabolicos', u'sabelotodos', u'bloqueos', u'impedian']...)\n",
        "LdaModel(num_terms=77909, num_topics=100, decay=0.5, chunksize=2000, alpha=[ 0.01  0.01  0.01  0.01  0.01  0.01  0.01  0.01  0.01  0.01  0.01  0.01\n",
        "  0.01  0.01  0.01  0.01  0.01  0.01  0.01  0.01  0.01  0.01  0.01  0.01\n",
        "  0.01  0.01  0.01  0.01  0.01  0.01  0.01  0.01  0.01  0.01  0.01  0.01\n",
        "  0.01  0.01  0.01  0.01  0.01  0.01  0.01  0.01  0.01  0.01  0.01  0.01\n",
        "  0.01  0.01  0.01  0.01  0.01  0.01  0.01  0.01  0.01  0.01  0.01  0.01\n",
        "  0.01  0.01  0.01  0.01  0.01  0.01  0.01  0.01  0.01  0.01  0.01  0.01\n",
        "  0.01  0.01  0.01  0.01  0.01  0.01  0.01  0.01  0.01  0.01  0.01  0.01\n",
        "  0.01  0.01  0.01  0.01  0.01  0.01  0.01  0.01  0.01  0.01  0.01  0.01\n",
        "  0.01  0.01  0.01  0.01])"
       ]
      },
      {
       "output_type": "stream",
       "stream": "stdout",
       "text": [
        "\n"
       ]
      }
     ],
     "prompt_number": 5
    },
    {
     "cell_type": "code",
     "collapsed": false,
     "input": [
      "query = \"la vida en el mar rodeado de agua viajando de isla en isla\"\n",
      "queryvector = dictionary.doc2bow(query.lower().split())\n",
      "print(queryvector) \n"
     ],
     "language": "python",
     "metadata": {},
     "outputs": [
      {
       "output_type": "stream",
       "stream": "stdout",
       "text": [
        "[(744, 1), (1019, 1), (3549, 1), (4149, 2), (4174, 1), (5137, 1)]\n"
       ]
      },
      {
       "ename": "TypeError",
       "evalue": "'int' object is not iterable",
       "output_type": "pyerr",
       "traceback": [
        "\u001b[1;31m---------------------------------------------------------------------------\u001b[0m\n\u001b[1;31mTypeError\u001b[0m                                 Traceback (most recent call last)",
        "\u001b[1;32m<ipython-input-6-a68b6cd8a9ba>\u001b[0m in \u001b[0;36m<module>\u001b[1;34m()\u001b[0m\n\u001b[0;32m      2\u001b[0m \u001b[0mqueryvector\u001b[0m \u001b[1;33m=\u001b[0m \u001b[0mdictionary\u001b[0m\u001b[1;33m.\u001b[0m\u001b[0mdoc2bow\u001b[0m\u001b[1;33m(\u001b[0m\u001b[0mquery\u001b[0m\u001b[1;33m.\u001b[0m\u001b[0mlower\u001b[0m\u001b[1;33m(\u001b[0m\u001b[1;33m)\u001b[0m\u001b[1;33m.\u001b[0m\u001b[0msplit\u001b[0m\u001b[1;33m(\u001b[0m\u001b[1;33m)\u001b[0m\u001b[1;33m)\u001b[0m\u001b[1;33m\u001b[0m\u001b[0m\n\u001b[0;32m      3\u001b[0m \u001b[1;32mprint\u001b[0m\u001b[1;33m(\u001b[0m\u001b[0mqueryvector\u001b[0m\u001b[1;33m)\u001b[0m\u001b[1;33m\u001b[0m\u001b[0m\n\u001b[1;32m----> 4\u001b[1;33m \u001b[0mlda\u001b[0m\u001b[1;33m.\u001b[0m\u001b[0minference\u001b[0m\u001b[1;33m(\u001b[0m\u001b[0mqueryvector\u001b[0m\u001b[1;33m)\u001b[0m\u001b[1;33m\u001b[0m\u001b[0m\n\u001b[0m",
        "\u001b[1;32m/home/nievesabalos/anaconda/lib/python2.7/site-packages/gensim/models/ldamodel.pyc\u001b[0m in \u001b[0;36minference\u001b[1;34m(self, chunk, collect_sstats)\u001b[0m\n\u001b[0;32m    373\u001b[0m         \u001b[1;31m# to Blei's original LDA-C code, cool!).\u001b[0m\u001b[1;33m\u001b[0m\u001b[1;33m\u001b[0m\u001b[0m\n\u001b[0;32m    374\u001b[0m         \u001b[1;32mfor\u001b[0m \u001b[0md\u001b[0m\u001b[1;33m,\u001b[0m \u001b[0mdoc\u001b[0m \u001b[1;32min\u001b[0m \u001b[0menumerate\u001b[0m\u001b[1;33m(\u001b[0m\u001b[0mchunk\u001b[0m\u001b[1;33m)\u001b[0m\u001b[1;33m:\u001b[0m\u001b[1;33m\u001b[0m\u001b[0m\n\u001b[1;32m--> 375\u001b[1;33m             \u001b[0mids\u001b[0m \u001b[1;33m=\u001b[0m \u001b[1;33m[\u001b[0m\u001b[0mid\u001b[0m \u001b[1;32mfor\u001b[0m \u001b[0mid\u001b[0m\u001b[1;33m,\u001b[0m \u001b[0m_\u001b[0m \u001b[1;32min\u001b[0m \u001b[0mdoc\u001b[0m\u001b[1;33m]\u001b[0m\u001b[1;33m\u001b[0m\u001b[0m\n\u001b[0m\u001b[0;32m    376\u001b[0m             \u001b[0mcts\u001b[0m \u001b[1;33m=\u001b[0m \u001b[0mnumpy\u001b[0m\u001b[1;33m.\u001b[0m\u001b[0marray\u001b[0m\u001b[1;33m(\u001b[0m\u001b[1;33m[\u001b[0m\u001b[0mcnt\u001b[0m \u001b[1;32mfor\u001b[0m \u001b[0m_\u001b[0m\u001b[1;33m,\u001b[0m \u001b[0mcnt\u001b[0m \u001b[1;32min\u001b[0m \u001b[0mdoc\u001b[0m\u001b[1;33m]\u001b[0m\u001b[1;33m)\u001b[0m\u001b[1;33m\u001b[0m\u001b[0m\n\u001b[0;32m    377\u001b[0m             \u001b[0mgammad\u001b[0m \u001b[1;33m=\u001b[0m \u001b[0mgamma\u001b[0m\u001b[1;33m[\u001b[0m\u001b[0md\u001b[0m\u001b[1;33m,\u001b[0m \u001b[1;33m:\u001b[0m\u001b[1;33m]\u001b[0m\u001b[1;33m\u001b[0m\u001b[0m\n",
        "\u001b[1;31mTypeError\u001b[0m: 'int' object is not iterable"
       ]
      }
     ],
     "prompt_number": 6
    },
    {
     "cell_type": "code",
     "collapsed": false,
     "input": [
      "lda.bound(corpus)"
     ],
     "language": "python",
     "metadata": {},
     "outputs": [
      {
       "metadata": {},
       "output_type": "pyout",
       "prompt_number": 7,
       "text": [
        "-19047477.962279812"
       ]
      }
     ],
     "prompt_number": 7
    },
    {
     "cell_type": "code",
     "collapsed": false,
     "input": [
      "lda.inference(corpus)"
     ],
     "language": "python",
     "metadata": {},
     "outputs": [
      {
       "metadata": {},
       "output_type": "pyout",
       "prompt_number": 8,
       "text": [
        "(array([[ 0.01      ,  1.01716015,  0.01      , ...,  0.01      ,\n",
        "          0.01      ,  1.01031794],\n",
        "        [ 0.01      ,  0.01      ,  0.01      , ...,  0.01      ,\n",
        "          0.01      ,  0.01      ],\n",
        "        [ 0.01      ,  0.01      ,  0.01      , ...,  0.01      ,\n",
        "          0.01      ,  0.01      ],\n",
        "        ..., \n",
        "        [ 0.01      ,  0.01      ,  0.01      , ...,  0.01      ,\n",
        "          0.01      ,  0.01      ],\n",
        "        [ 0.01      ,  0.01      ,  0.01      , ...,  0.01      ,\n",
        "          0.01      ,  0.01      ],\n",
        "        [ 0.01      ,  0.01      ,  0.01      , ...,  0.01      ,\n",
        "          0.01      ,  1.01000603]]), None)"
       ]
      }
     ],
     "prompt_number": 8
    },
    {
     "cell_type": "code",
     "collapsed": false,
     "input": [
      "lda.log_perplexity(corpus)"
     ],
     "language": "python",
     "metadata": {},
     "outputs": [
      {
       "metadata": {},
       "output_type": "pyout",
       "prompt_number": 9,
       "text": [
        "-10.834676290714585"
       ]
      }
     ],
     "prompt_number": 9
    },
    {
     "cell_type": "code",
     "collapsed": false,
     "input": [
      "lda.show_topics()\n"
     ],
     "language": "python",
     "metadata": {},
     "outputs": [
      {
       "metadata": {},
       "output_type": "pyout",
       "prompt_number": 10,
       "text": [
        "[u'0.001*juegos + 0.001*exponencial + 0.001*algoritmos + 0.001*intestino + 0.001*juego + 0.001*tarahumara + 0.001*ebay + 0.001*basura + 0.001*moore + 0.000*oscuridad',\n",
        " u'0.001*pinguinos + 0.001*feynman + 0.001*apolo + 0.001*reacciones + 0.001*haiti + 0.001*pacifico + 0.001*elegi + 0.001*zarpa + 0.001*sida + 0.001*colera',\n",
        " u'0.001*mt + 0.001*athletepath + 0.001*polio + 0.001*automatizar + 0.001*protocelulas + 0.001*tg + 0.001*quimicamente + 0.001*mosca + 0.001*corales + 0.001*ghana',\n",
        " u'0.001*fosforo + 0.001*reputacion + 0.001*alice + 0.001*estuvera + 0.000*jonny + 0.000*aumentaban + 0.000*zimbabwe + 0.000*distribuida + 0.000*singapur + 0.000*usalmente',\n",
        " u'0.002*hielo + 0.002*enfermedad + 0.002*arabe + 0.002*frase + 0.002*atmosfera + 0.002*senti + 0.001*desierto + 0.001*vienen + 0.001*nueve + 0.001*ca',\n",
        " u'0.001*islam + 0.001*bell + 0.001*hacedores + 0.001*yemen + 0.001*islamico + 0.001*high + 0.001*islamica + 0.001*markup + 0.001*peines + 0.001*presidenta',\n",
        " u'0.001*prevista + 0.001*biologica + 0.001*talleres + 0.001*artes + 0.001*tinta + 0.001*tiburon + 0.001*genetica + 0.001*boligrafo + 0.001*cafes + 0.001*emperador',\n",
        " u'0.001*abrazaria + 0.001*picado + 0.001*mcgonigal + 0.001*capacitados + 0.001*elevarlo + 0.001*arquitectura + 0.001*kitchen + 0.000*varones + 0.000*golgi + 0.000*letania',\n",
        " u'0.001*iran + 0.001*talk + 0.001*panadero + 0.001*durga + 0.001*pan + 0.001*talks + 0.001*limonada + 0.000*israel + 0.000*quitarse + 0.000*paranormal',\n",
        " u'0.001*hablabas + 0.001*dedo + 0.001*portaobjetos + 0.001*prisionero + 0.001*patitos + 0.001*lavadora + 0.001*incorporada + 0.001*alunizador + 0.001*snake + 0.001*crocante']"
       ]
      }
     ],
     "prompt_number": 10
    },
    {
     "cell_type": "code",
     "collapsed": false,
     "input": [],
     "language": "python",
     "metadata": {},
     "outputs": []
    }
   ],
   "metadata": {}
  }
 ]
}