{
 "metadata": {
  "name": ""
 },
 "nbformat": 3,
 "nbformat_minor": 0,
 "worksheets": [
  {
   "cells": [
    {
     "cell_type": "code",
     "collapsed": false,
     "input": [
      "import graphlab"
     ],
     "language": "python",
     "metadata": {},
     "outputs": [
      {
       "output_type": "stream",
       "stream": "stderr",
       "text": [
        "/home/enrique/herramientas/anaconda/lib/python2.7/site-packages/pytz/__init__.py:29: UserWarning: Module docutils was already imported from /home/enrique/herramientas/anaconda/lib/python2.7/site-packages/docutils/__init__.pyc, but /home/enrique/herramientas/virtualenvs/theano/lib/python2.7/site-packages is being added to sys.path\n",
        "  from pkg_resources import resource_stream\n",
        "/home/enrique/herramientas/anaconda/lib/python2.7/site-packages/pytz/__init__.py:29: UserWarning: Module numpy was already imported from /home/enrique/herramientas/anaconda/lib/python2.7/site-packages/numpy/__init__.pyc, but /home/enrique/herramientas/virtualenvs/theano/lib/python2.7/site-packages is being added to sys.path\n",
        "  from pkg_resources import resource_stream\n"
       ]
      }
     ],
     "prompt_number": 1
    },
    {
     "cell_type": "markdown",
     "metadata": {},
     "source": [
      "## Generate dataset (ETL)"
     ]
    },
    {
     "cell_type": "code",
     "collapsed": false,
     "input": [
      "sf_reviews = graphlab.SFrame.read_csv('./data/yelp/yelp_training_set/yelp_training_set_review.json', delimiter='\\n', column_type_hints=dict, header=None)\n",
      "sf_reviews = sf_reviews.unpack('X1', column_name_prefix='')\n",
      "sf_business = graphlab.SFrame.read_csv('./data/yelp/yelp_training_set/yelp_training_set_business.json', delimiter='\\n', column_type_hints=dict, header=None)\n",
      "sf_business = sf_business.unpack('X1', column_name_prefix='')\n",
      "#\n",
      "sf = sf_reviews.join(sf_business, on=['business_id'])\n",
      "print \"%s reviews\" %len(sf)\n",
      "sf.head(1)\n",
      "#\n",
      "sf_reviews2 = sf.groupby([\"business_id\", \"categories\"], {\"texts\":graphlab.aggregate.CONCAT(\"text\")})\n",
      "sf_reviews2['texts'] = sf_reviews2['texts'].apply(lambda x: \" \".join(x))\n",
      "print \"%s business\" %len(sf_reviews2)\n",
      "\n",
      "sf_business = sf_reviews2\n",
      "\n",
      "#sf_business2 = graphlab.SFrame()\n",
      "#sf_business2.add_columns(sf_reviews2[['business_id','categories', 'texts']])\n",
      "#sf_business = sf_business2\n",
      "\n",
      "sf_train, sf_test = sf_business.random_split(.9, seed=5)\n",
      "sf_train.show()"
     ],
     "language": "python",
     "metadata": {},
     "outputs": [
      {
       "output_type": "stream",
       "stream": "stderr",
       "text": [
        "[INFO] Start server at: ipc:///tmp/graphlab_server-5769 - Server binary: /home/enrique/herramientas/virtualenvs/theano/lib/python2.7/site-packages/graphlab/unity_server - Server log: /tmp/graphlab_server_1421411437.log\n"
       ]
      },
      {
       "output_type": "stream",
       "stream": "stderr",
       "text": [
        "[INFO] GraphLab Server Version: 1.2.1\n"
       ]
      },
      {
       "html": [
        "<pre>PROGRESS: Read 55824 lines. Lines per second: 5489.16</pre>"
       ],
       "metadata": {},
       "output_type": "display_data",
       "text": [
        "PROGRESS: Read 55824 lines. Lines per second: 5489.16"
       ]
      },
      {
       "html": [
        "<pre>PROGRESS: Read 111545 lines. Lines per second: 7252.62</pre>"
       ],
       "metadata": {},
       "output_type": "display_data",
       "text": [
        "PROGRESS: Read 111545 lines. Lines per second: 7252.62"
       ]
      },
      {
       "html": [
        "<pre>PROGRESS: Read 167130 lines. Lines per second: 8058.61</pre>"
       ],
       "metadata": {},
       "output_type": "display_data",
       "text": [
        "PROGRESS: Read 167130 lines. Lines per second: 8058.61"
       ]
      },
      {
       "html": [
        "<pre>PROGRESS: Finished parsing file /home/enrique/github/beeva-notebooks/doc_cluster/data/yelp/yelp_training_set/yelp_training_set_review.json</pre>"
       ],
       "metadata": {},
       "output_type": "display_data",
       "text": [
        "PROGRESS: Finished parsing file /home/enrique/github/beeva-notebooks/doc_cluster/data/yelp/yelp_training_set/yelp_training_set_review.json"
       ]
      },
      {
       "html": [
        "<pre>PROGRESS: Parsing completed. Parsed 229907 lines in 21.5633 secs.</pre>"
       ],
       "metadata": {},
       "output_type": "display_data",
       "text": [
        "PROGRESS: Parsing completed. Parsed 229907 lines in 21.5633 secs."
       ]
      },
      {
       "html": [
        "<pre>PROGRESS: Finished parsing file /home/enrique/github/beeva-notebooks/doc_cluster/data/yelp/yelp_training_set/yelp_training_set_business.json</pre>"
       ],
       "metadata": {},
       "output_type": "display_data",
       "text": [
        "PROGRESS: Finished parsing file /home/enrique/github/beeva-notebooks/doc_cluster/data/yelp/yelp_training_set/yelp_training_set_business.json"
       ]
      },
      {
       "html": [
        "<pre>PROGRESS: Parsing completed. Parsed 11537 lines in 0.394544 secs.</pre>"
       ],
       "metadata": {},
       "output_type": "display_data",
       "text": [
        "PROGRESS: Parsing completed. Parsed 11537 lines in 0.394544 secs."
       ]
      },
      {
       "output_type": "stream",
       "stream": "stdout",
       "text": [
        "229907 reviews"
       ]
      },
      {
       "output_type": "stream",
       "stream": "stdout",
       "text": [
        "\n",
        "11537 business"
       ]
      },
      {
       "output_type": "stream",
       "stream": "stdout",
       "text": [
        "\n"
       ]
      }
     ],
     "prompt_number": 2
    },
    {
     "cell_type": "markdown",
     "metadata": {},
     "source": [
      "## Text Analytics (training set)"
     ]
    },
    {
     "cell_type": "code",
     "collapsed": false,
     "input": [
      "bow = graphlab.text_analytics.count_words(sf_train['texts'])\n",
      "bow = bow.dict_trim_by_keys(graphlab.text_analytics.stopwords(), exclude=True)\n",
      "bow = bow.dict_trim_by_values(3)\n",
      "tf_idf = graphlab.text_analytics.tf_idf(bow)\n",
      "#\n",
      "model50 = graphlab.topic_model.create(tf_idf,50)\n",
      "model50.summary()\n",
      "sf_train['topic50'] = model50.predict(tf_idf)\n",
      "#model50.get_topics().show()\n",
      "#\n",
      "model100 = graphlab.topic_model.create(tf_idf,100)\n",
      "model100.summary()\n",
      "sf_train['topic100'] = model100.predict(tf_idf)\n",
      "#\n",
      "model500 = graphlab.topic_model.create(tf_idf,500)\n",
      "model500.summary()\n",
      "sf_train['topic500'] = model500.predict(tf_idf)"
     ],
     "language": "python",
     "metadata": {},
     "outputs": [
      {
       "html": [
        "<pre>PROGRESS: Learning a topic model</pre>"
       ],
       "metadata": {},
       "output_type": "display_data",
       "text": [
        "PROGRESS: Learning a topic model"
       ]
      },
      {
       "html": [
        "<pre>PROGRESS:        Number of documents     10396</pre>"
       ],
       "metadata": {},
       "output_type": "display_data",
       "text": [
        "PROGRESS:        Number of documents     10396"
       ]
      },
      {
       "html": [
        "<pre>PROGRESS:            Vocabulary size     20539</pre>"
       ],
       "metadata": {},
       "output_type": "display_data",
       "text": [
        "PROGRESS:            Vocabulary size     20539"
       ]
      },
      {
       "html": [
        "<pre>PROGRESS:    Running collapsed Gibbs sampling</pre>"
       ],
       "metadata": {},
       "output_type": "display_data",
       "text": [
        "PROGRESS:    Running collapsed Gibbs sampling"
       ]
      },
      {
       "html": [
        "<pre>PROGRESS: +-----------+---------------+----------------+-----------------+</pre>"
       ],
       "metadata": {},
       "output_type": "display_data",
       "text": [
        "PROGRESS: +-----------+---------------+----------------+-----------------+"
       ]
      },
      {
       "html": [
        "<pre>PROGRESS: | Iteration | Elapsed Time  | Tokens/Second  | Est. Perplexity |</pre>"
       ],
       "metadata": {},
       "output_type": "display_data",
       "text": [
        "PROGRESS: | Iteration | Elapsed Time  | Tokens/Second  | Est. Perplexity |"
       ]
      },
      {
       "html": [
        "<pre>PROGRESS: +-----------+---------------+----------------+-----------------+</pre>"
       ],
       "metadata": {},
       "output_type": "display_data",
       "text": [
        "PROGRESS: +-----------+---------------+----------------+-----------------+"
       ]
      },
      {
       "html": [
        "<pre>PROGRESS: | 10        | 4.01s         | 1.84377e+06    | 0               |</pre>"
       ],
       "metadata": {},
       "output_type": "display_data",
       "text": [
        "PROGRESS: | 10        | 4.01s         | 1.84377e+06    | 0               |"
       ]
      },
      {
       "html": [
        "<pre>PROGRESS: +-----------+---------------+----------------+-----------------+</pre>"
       ],
       "metadata": {},
       "output_type": "display_data",
       "text": [
        "PROGRESS: +-----------+---------------+----------------+-----------------+"
       ]
      },
      {
       "output_type": "stream",
       "stream": "stdout",
       "text": [
        "Topic Model\n",
        "  Data:\n",
        "      Vocabulary size:     20539\n",
        "  Settings:\n",
        "      Number of topics:    50\n",
        "      alpha:               1.0\n",
        "      beta:                0.1\n",
        "      Iterations:          10\n",
        "      Verbose:             False\n",
        "  Accessible fields:\n",
        "      m['topics']          An SFrame containing the topics.\n",
        "      m['vocabulary']      An SArray containing the topics.\n",
        "  Useful methods:\n",
        "      m.get_topics()       Get the most probable words per topic.\n",
        "      m.predict(new_docs)  Make predictions for new documents.\n"
       ]
      },
      {
       "html": [
        "<pre>PROGRESS: Learning a topic model</pre>"
       ],
       "metadata": {},
       "output_type": "display_data",
       "text": [
        "PROGRESS: Learning a topic model"
       ]
      },
      {
       "html": [
        "<pre>PROGRESS:        Number of documents     10396</pre>"
       ],
       "metadata": {},
       "output_type": "display_data",
       "text": [
        "PROGRESS:        Number of documents     10396"
       ]
      },
      {
       "html": [
        "<pre>PROGRESS:            Vocabulary size     20539</pre>"
       ],
       "metadata": {},
       "output_type": "display_data",
       "text": [
        "PROGRESS:            Vocabulary size     20539"
       ]
      },
      {
       "html": [
        "<pre>PROGRESS:    Running collapsed Gibbs sampling</pre>"
       ],
       "metadata": {},
       "output_type": "display_data",
       "text": [
        "PROGRESS:    Running collapsed Gibbs sampling"
       ]
      },
      {
       "html": [
        "<pre>PROGRESS: +-----------+---------------+----------------+-----------------+</pre>"
       ],
       "metadata": {},
       "output_type": "display_data",
       "text": [
        "PROGRESS: +-----------+---------------+----------------+-----------------+"
       ]
      },
      {
       "html": [
        "<pre>PROGRESS: | Iteration | Elapsed Time  | Tokens/Second  | Est. Perplexity |</pre>"
       ],
       "metadata": {},
       "output_type": "display_data",
       "text": [
        "PROGRESS: | Iteration | Elapsed Time  | Tokens/Second  | Est. Perplexity |"
       ]
      },
      {
       "html": [
        "<pre>PROGRESS: +-----------+---------------+----------------+-----------------+</pre>"
       ],
       "metadata": {},
       "output_type": "display_data",
       "text": [
        "PROGRESS: +-----------+---------------+----------------+-----------------+"
       ]
      },
      {
       "html": [
        "<pre>PROGRESS: | 10        | 7.80s         | 1.28356e+06    | 0               |</pre>"
       ],
       "metadata": {},
       "output_type": "display_data",
       "text": [
        "PROGRESS: | 10        | 7.80s         | 1.28356e+06    | 0               |"
       ]
      },
      {
       "html": [
        "<pre>PROGRESS: +-----------+---------------+----------------+-----------------+</pre>"
       ],
       "metadata": {},
       "output_type": "display_data",
       "text": [
        "PROGRESS: +-----------+---------------+----------------+-----------------+"
       ]
      },
      {
       "output_type": "stream",
       "stream": "stdout",
       "text": [
        "\n",
        "Topic Model\n",
        "  Data:\n",
        "      Vocabulary size:     20539\n",
        "  Settings:\n",
        "      Number of topics:    100\n",
        "      alpha:               0.5\n",
        "      beta:                0.1\n",
        "      Iterations:          10\n",
        "      Verbose:             False\n",
        "  Accessible fields:\n",
        "      m['topics']          An SFrame containing the topics.\n",
        "      m['vocabulary']      An SArray containing the topics.\n",
        "  Useful methods:\n",
        "      m.get_topics()       Get the most probable words per topic.\n",
        "      m.predict(new_docs)  Make predictions for new documents.\n"
       ]
      },
      {
       "html": [
        "<pre>PROGRESS: Learning a topic model</pre>"
       ],
       "metadata": {},
       "output_type": "display_data",
       "text": [
        "PROGRESS: Learning a topic model"
       ]
      },
      {
       "html": [
        "<pre>PROGRESS:        Number of documents     10396</pre>"
       ],
       "metadata": {},
       "output_type": "display_data",
       "text": [
        "PROGRESS:        Number of documents     10396"
       ]
      },
      {
       "html": [
        "<pre>PROGRESS:            Vocabulary size     20539</pre>"
       ],
       "metadata": {},
       "output_type": "display_data",
       "text": [
        "PROGRESS:            Vocabulary size     20539"
       ]
      },
      {
       "html": [
        "<pre>PROGRESS:    Running collapsed Gibbs sampling</pre>"
       ],
       "metadata": {},
       "output_type": "display_data",
       "text": [
        "PROGRESS:    Running collapsed Gibbs sampling"
       ]
      },
      {
       "html": [
        "<pre>PROGRESS: +-----------+---------------+----------------+-----------------+</pre>"
       ],
       "metadata": {},
       "output_type": "display_data",
       "text": [
        "PROGRESS: +-----------+---------------+----------------+-----------------+"
       ]
      },
      {
       "html": [
        "<pre>PROGRESS: | Iteration | Elapsed Time  | Tokens/Second  | Est. Perplexity |</pre>"
       ],
       "metadata": {},
       "output_type": "display_data",
       "text": [
        "PROGRESS: | Iteration | Elapsed Time  | Tokens/Second  | Est. Perplexity |"
       ]
      },
      {
       "html": [
        "<pre>PROGRESS: +-----------+---------------+----------------+-----------------+</pre>"
       ],
       "metadata": {},
       "output_type": "display_data",
       "text": [
        "PROGRESS: +-----------+---------------+----------------+-----------------+"
       ]
      },
      {
       "html": [
        "<pre>PROGRESS: | 10        | 1m 4s         | 143428         | 0               |</pre>"
       ],
       "metadata": {},
       "output_type": "display_data",
       "text": [
        "PROGRESS: | 10        | 1m 4s         | 143428         | 0               |"
       ]
      },
      {
       "html": [
        "<pre>PROGRESS: +-----------+---------------+----------------+-----------------+</pre>"
       ],
       "metadata": {},
       "output_type": "display_data",
       "text": [
        "PROGRESS: +-----------+---------------+----------------+-----------------+"
       ]
      },
      {
       "output_type": "stream",
       "stream": "stdout",
       "text": [
        "\n",
        "Topic Model\n",
        "  Data:\n",
        "      Vocabulary size:     20539\n",
        "  Settings:\n",
        "      Number of topics:    500\n",
        "      alpha:               0.1\n",
        "      beta:                0.1\n",
        "      Iterations:          10\n",
        "      Verbose:             False\n",
        "  Accessible fields:\n",
        "      m['topics']          An SFrame containing the topics.\n",
        "      m['vocabulary']      An SArray containing the topics.\n",
        "  Useful methods:\n",
        "      m.get_topics()       Get the most probable words per topic.\n",
        "      m.predict(new_docs)  Make predictions for new documents.\n"
       ]
      },
      {
       "output_type": "stream",
       "stream": "stdout",
       "text": [
        "\n"
       ]
      }
     ],
     "prompt_number": 3
    },
    {
     "cell_type": "markdown",
     "metadata": {},
     "source": [
      "## Train the classifier"
     ]
    },
    {
     "cell_type": "code",
     "collapsed": false,
     "input": [
      "model = graphlab.boosted_trees_classifier.create(sf_train, 'categories', features=['topic50','topic100','topic500'], verbose=True, max_iterations=17)"
     ],
     "language": "python",
     "metadata": {},
     "outputs": [
      {
       "html": [
        "<pre>PROGRESS: Boosted trees classifier:</pre>"
       ],
       "metadata": {},
       "output_type": "display_data",
       "text": [
        "PROGRESS: Boosted trees classifier:"
       ]
      },
      {
       "html": [
        "<pre>PROGRESS: --------------------------------------------------------</pre>"
       ],
       "metadata": {},
       "output_type": "display_data",
       "text": [
        "PROGRESS: --------------------------------------------------------"
       ]
      },
      {
       "html": [
        "<pre>PROGRESS: Number of examples          : 10396</pre>"
       ],
       "metadata": {},
       "output_type": "display_data",
       "text": [
        "PROGRESS: Number of examples          : 10396"
       ]
      },
      {
       "html": [
        "<pre>PROGRESS: Number of classes           : 1954</pre>"
       ],
       "metadata": {},
       "output_type": "display_data",
       "text": [
        "PROGRESS: Number of classes           : 1954"
       ]
      },
      {
       "html": [
        "<pre>PROGRESS: Number of feature columns   : 3</pre>"
       ],
       "metadata": {},
       "output_type": "display_data",
       "text": [
        "PROGRESS: Number of feature columns   : 3"
       ]
      },
      {
       "html": [
        "<pre>PROGRESS: Number of unpacked features : 3</pre>"
       ],
       "metadata": {},
       "output_type": "display_data",
       "text": [
        "PROGRESS: Number of unpacked features : 3"
       ]
      },
      {
       "html": [
        "<pre>PROGRESS: Starting Boosted Trees</pre>"
       ],
       "metadata": {},
       "output_type": "display_data",
       "text": [
        "PROGRESS: Starting Boosted Trees"
       ]
      },
      {
       "html": [
        "<pre>PROGRESS: --------------------------------------------------------</pre>"
       ],
       "metadata": {},
       "output_type": "display_data",
       "text": [
        "PROGRESS: --------------------------------------------------------"
       ]
      },
      {
       "html": [
        "<pre>PROGRESS:   Iter    Accuracy Elapsed time</pre>"
       ],
       "metadata": {},
       "output_type": "display_data",
       "text": [
        "PROGRESS:   Iter    Accuracy Elapsed time"
       ]
      },
      {
       "html": [
        "<pre>PROGRESS:      0   2.038e-01       17.30s</pre>"
       ],
       "metadata": {},
       "output_type": "display_data",
       "text": [
        "PROGRESS:      0   2.038e-01       17.30s"
       ]
      },
      {
       "html": [
        "<pre>PROGRESS:      1   1.553e-01       33.68s</pre>"
       ],
       "metadata": {},
       "output_type": "display_data",
       "text": [
        "PROGRESS:      1   1.553e-01       33.68s"
       ]
      },
      {
       "html": [
        "<pre>PROGRESS:      2   2.071e-01       51.56s</pre>"
       ],
       "metadata": {},
       "output_type": "display_data",
       "text": [
        "PROGRESS:      2   2.071e-01       51.56s"
       ]
      },
      {
       "html": [
        "<pre>PROGRESS:      3   2.332e-01       68.13s</pre>"
       ],
       "metadata": {},
       "output_type": "display_data",
       "text": [
        "PROGRESS:      3   2.332e-01       68.13s"
       ]
      },
      {
       "html": [
        "<pre>PROGRESS:      4   2.412e-01       85.90s</pre>"
       ],
       "metadata": {},
       "output_type": "display_data",
       "text": [
        "PROGRESS:      4   2.412e-01       85.90s"
       ]
      },
      {
       "html": [
        "<pre>PROGRESS:      5   2.829e-01      103.84s</pre>"
       ],
       "metadata": {},
       "output_type": "display_data",
       "text": [
        "PROGRESS:      5   2.829e-01      103.84s"
       ]
      },
      {
       "html": [
        "<pre>PROGRESS:      6   3.248e-01      121.49s</pre>"
       ],
       "metadata": {},
       "output_type": "display_data",
       "text": [
        "PROGRESS:      6   3.248e-01      121.49s"
       ]
      },
      {
       "html": [
        "<pre>PROGRESS:      7   3.571e-01      138.11s</pre>"
       ],
       "metadata": {},
       "output_type": "display_data",
       "text": [
        "PROGRESS:      7   3.571e-01      138.11s"
       ]
      },
      {
       "html": [
        "<pre>PROGRESS:      8   3.862e-01      154.77s</pre>"
       ],
       "metadata": {},
       "output_type": "display_data",
       "text": [
        "PROGRESS:      8   3.862e-01      154.77s"
       ]
      },
      {
       "html": [
        "<pre>PROGRESS:      9   4.131e-01      172.74s</pre>"
       ],
       "metadata": {},
       "output_type": "display_data",
       "text": [
        "PROGRESS:      9   4.131e-01      172.74s"
       ]
      },
      {
       "html": [
        "<pre>PROGRESS:     10   4.436e-01      189.87s</pre>"
       ],
       "metadata": {},
       "output_type": "display_data",
       "text": [
        "PROGRESS:     10   4.436e-01      189.87s"
       ]
      },
      {
       "html": [
        "<pre>PROGRESS:     11   4.686e-01      206.78s</pre>"
       ],
       "metadata": {},
       "output_type": "display_data",
       "text": [
        "PROGRESS:     11   4.686e-01      206.78s"
       ]
      },
      {
       "html": [
        "<pre>PROGRESS:     12   4.940e-01      223.56s</pre>"
       ],
       "metadata": {},
       "output_type": "display_data",
       "text": [
        "PROGRESS:     12   4.940e-01      223.56s"
       ]
      },
      {
       "html": [
        "<pre>PROGRESS:     13   5.145e-01      241.22s</pre>"
       ],
       "metadata": {},
       "output_type": "display_data",
       "text": [
        "PROGRESS:     13   5.145e-01      241.22s"
       ]
      },
      {
       "html": [
        "<pre>PROGRESS:     14   5.380e-01      258.24s</pre>"
       ],
       "metadata": {},
       "output_type": "display_data",
       "text": [
        "PROGRESS:     14   5.380e-01      258.24s"
       ]
      },
      {
       "html": [
        "<pre>PROGRESS:     15   5.591e-01      275.22s</pre>"
       ],
       "metadata": {},
       "output_type": "display_data",
       "text": [
        "PROGRESS:     15   5.591e-01      275.22s"
       ]
      },
      {
       "html": [
        "<pre>PROGRESS:     16   5.769e-01      293.60s</pre>"
       ],
       "metadata": {},
       "output_type": "display_data",
       "text": [
        "PROGRESS:     16   5.769e-01      293.60s"
       ]
      }
     ],
     "prompt_number": 4
    },
    {
     "cell_type": "markdown",
     "metadata": {},
     "source": [
      "## Evaluate the classifier\n",
      "Predict full category (1954 unique categories, 5% the most common: [\"Mexican\",\"Restau ...]): \n",
      "\n",
      "* 15 iterations -> Accuracy = 30%\n",
      "* 17 iterations -> Accuracy = 31%\n",
      "* 20 iterations -> Accuracy = 30%\n",
      "\n",
      "Predict main hierarchy (262 unique, 12% the most common: \"Food\"):\n",
      "\n",
      "* 17 iterations -> Accuracy = 41% \n"
     ]
    },
    {
     "cell_type": "code",
     "collapsed": false,
     "input": [
      "bow = graphlab.text_analytics.count_words(sf_test['texts'])\n",
      "bow = bow.dict_trim_by_keys(graphlab.text_analytics.stopwords(), exclude=True)\n",
      "bow = bow.dict_trim_by_values(3)\n",
      "tf_idf = graphlab.text_analytics.tf_idf(bow)\n",
      "#\n",
      "sf_test['topic50'] = model50.predict(tf_idf)\n",
      "sf_test['topic100'] = model100.predict(tf_idf)\n",
      "sf_test['topic500'] = model500.predict(tf_idf)\n",
      "#\n",
      "model.evaluate(sf_test)"
     ],
     "language": "python",
     "metadata": {},
     "outputs": [
      {
       "html": [
        "<pre>PROGRESS: WARNING: The true labels used for evaluation contains class labels that were not present in the training data. Model accuracy can be improved by adding examples with these unseen labels to the training data.</pre>"
       ],
       "metadata": {},
       "output_type": "display_data",
       "text": [
        "PROGRESS: WARNING: The true labels used for evaluation contains class labels that were not present in the training data. Model accuracy can be improved by adding examples with these unseen labels to the training data."
       ]
      },
      {
       "metadata": {},
       "output_type": "pyout",
       "prompt_number": 5,
       "text": [
        "{'accuracy': 0.294478527607362,\n",
        " 'confusion_matrix': Columns:\n",
        "\ttarget_label\tstr\n",
        "\tpredicted_label\tstr\n",
        "\tcount\tint\n",
        "\n",
        "Rows: 832\n",
        "\n",
        "Data:\n",
        "+--------------------------------+--------------------------------+-------+\n",
        "|          target_label          |        predicted_label         | count |\n",
        "+--------------------------------+--------------------------------+-------+\n",
        "| [\"Active Life\",\"American ( ... | [\"Bars\",\"Restaurants\",\"Ame ... |   1   |\n",
        "| [\"Active Life\",\"Amusement  ... |   [\"Active Life\",\"Bowling\"]    |   1   |\n",
        "| [\"Active Life\",\"Amusement  ... |  [\"Nightlife\",\"Restaurants\"]   |   1   |\n",
        "| [\"Active Life\",\"Boating\",\" ... |    [\"Active Life\",\"Lakes\"]     |   1   |\n",
        "| [\"Active Life\",\"Boating\",\" ... |               []               |   1   |\n",
        "|   [\"Active Life\",\"Boating\"]    | [\"Italian\",\"Pizza\",\"Restau ... |   1   |\n",
        "| [\"Active Life\",\"Dance Stud ... | [\"Active Life\",\"Yoga\",\"Fit ... |   1   |\n",
        "| [\"Active Life\",\"Dog Parks\" ... | [\"Active Life\",\"Dog Parks\" ... |   1   |\n",
        "| [\"Active Life\",\"Dog Parks\" ... | [\"Pet Services\",\"Pet Board ... |   1   |\n",
        "| [\"Active Life\",\"Fitness &  ... | [\"Active Life\",\"Yoga\",\"Fit ... |   1   |\n",
        "|              ...               |              ...               |  ...  |\n",
        "+--------------------------------+--------------------------------+-------+\n",
        "[832 rows x 3 columns]\n",
        "Note: Only the head of the SFrame is printed.\n",
        "You can use print_rows(num_rows=m, num_columns=n) to print more rows and columns.}"
       ]
      }
     ],
     "prompt_number": 5
    },
    {
     "cell_type": "code",
     "collapsed": false,
     "input": [
      "sf_test['predicted_label'] = model.predict(sf_test)\n",
      "sf_test['main_categories'] = sf_test['categories'].apply(lambda x: '' if not eval(x) else eval(x)[0])\n",
      "sf_test['main_predicted'] = sf_test['predicted_label'].apply(lambda x: '' if not eval(x) else eval(x)[0])\n",
      "accuracy = len(sf_test[(sf_test['main_categories'] ==sf_test['main_predicted'])])/(len(sf_test)*1.0)\n",
      "print \"Accuracy (main hierarchy) = %.3f%%\" %(accuracy)"
     ],
     "language": "python",
     "metadata": {},
     "outputs": [
      {
       "output_type": "stream",
       "stream": "stdout",
       "text": [
        "Accuracy (main hierarchy) = 0.409%\n"
       ]
      }
     ],
     "prompt_number": 6
    },
    {
     "cell_type": "code",
     "collapsed": false,
     "input": [
      "sf_test.show()"
     ],
     "language": "python",
     "metadata": {},
     "outputs": [],
     "prompt_number": 7
    }
   ],
   "metadata": {}
  }
 ]
}