{
 "metadata": {
  "name": ""
 },
 "nbformat": 3,
 "nbformat_minor": 0,
 "worksheets": [
  {
   "cells": [
    {
     "cell_type": "code",
     "collapsed": false,
     "input": [
      "import graphlab"
     ],
     "language": "python",
     "metadata": {},
     "outputs": [
      {
       "output_type": "stream",
       "stream": "stderr",
       "text": [
        "/home/enrique/herramientas/anaconda/lib/python2.7/site-packages/pytz/__init__.py:29: UserWarning: Module docutils was already imported from /home/enrique/herramientas/anaconda/lib/python2.7/site-packages/docutils/__init__.pyc, but /home/enrique/herramientas/virtualenvs/theano/lib/python2.7/site-packages is being added to sys.path\n",
        "  from pkg_resources import resource_stream\n",
        "/home/enrique/herramientas/anaconda/lib/python2.7/site-packages/pytz/__init__.py:29: UserWarning: Module numpy was already imported from /home/enrique/herramientas/anaconda/lib/python2.7/site-packages/numpy/__init__.pyc, but /home/enrique/herramientas/virtualenvs/theano/lib/python2.7/site-packages is being added to sys.path\n",
        "  from pkg_resources import resource_stream\n"
       ]
      }
     ],
     "prompt_number": 1
    },
    {
     "cell_type": "markdown",
     "metadata": {},
     "source": [
      "## Generate dataset (ETL)"
     ]
    },
    {
     "cell_type": "code",
     "collapsed": false,
     "input": [
      "sf_reviews = graphlab.SFrame.read_csv('./data/yelp/yelp_training_set/yelp_training_set_review.json', delimiter='\\n', column_type_hints=dict, header=None)\n",
      "sf_reviews = sf_reviews.unpack('X1', column_name_prefix='')\n",
      "sf_business = graphlab.SFrame.read_csv('./data/yelp/yelp_training_set/yelp_training_set_business.json', delimiter='\\n', column_type_hints=dict, header=None)\n",
      "sf_business = sf_business.unpack('X1', column_name_prefix='')\n",
      "#\n",
      "sf = sf_reviews.join(sf_business, on=['business_id'])\n",
      "print \"%s reviews\" %len(sf)\n",
      "sf.head(1)\n",
      "#\n",
      "sf_reviews2 = sf.groupby([\"business_id\", \"categories\"], {\"texts\":graphlab.aggregate.CONCAT(\"text\")})\n",
      "sf_reviews2['texts'] = sf_reviews2['texts'].apply(lambda x: \" \".join(x))\n",
      "print \"%s business\" %len(sf_reviews2)\n",
      "\n",
      "sf_business = sf_reviews2\n",
      "\n",
      "#sf_business2 = graphlab.SFrame()\n",
      "#sf_business2.add_columns(sf_reviews2[['business_id','categories', 'texts']])\n",
      "#sf_business = sf_business2\n",
      "\n",
      "sf_train, sf_test = sf_business.random_split(.9, seed=5)"
     ],
     "language": "python",
     "metadata": {},
     "outputs": [
      {
       "output_type": "stream",
       "stream": "stderr",
       "text": [
        "[INFO] Start server at: ipc:///tmp/graphlab_server-5054 - Server binary: /home/enrique/herramientas/virtualenvs/theano/lib/python2.7/site-packages/graphlab/unity_server - Server log: /tmp/graphlab_server_1421402570.log\n"
       ]
      },
      {
       "output_type": "stream",
       "stream": "stderr",
       "text": [
        "[INFO] GraphLab Server Version: 1.2.1\n"
       ]
      },
      {
       "html": [
        "<pre>PROGRESS: Read 55824 lines. Lines per second: 5279.63</pre>"
       ],
       "metadata": {},
       "output_type": "display_data",
       "text": [
        "PROGRESS: Read 55824 lines. Lines per second: 5279.63"
       ]
      },
      {
       "html": [
        "<pre>PROGRESS: Read 111545 lines. Lines per second: 7048.68</pre>"
       ],
       "metadata": {},
       "output_type": "display_data",
       "text": [
        "PROGRESS: Read 111545 lines. Lines per second: 7048.68"
       ]
      },
      {
       "html": [
        "<pre>PROGRESS: Read 167130 lines. Lines per second: 7940.36</pre>"
       ],
       "metadata": {},
       "output_type": "display_data",
       "text": [
        "PROGRESS: Read 167130 lines. Lines per second: 7940.36"
       ]
      },
      {
       "html": [
        "<pre>PROGRESS: Finished parsing file /home/enrique/github/beeva-notebooks/doc_cluster/data/yelp/yelp_training_set/yelp_training_set_review.json</pre>"
       ],
       "metadata": {},
       "output_type": "display_data",
       "text": [
        "PROGRESS: Finished parsing file /home/enrique/github/beeva-notebooks/doc_cluster/data/yelp/yelp_training_set/yelp_training_set_review.json"
       ]
      },
      {
       "html": [
        "<pre>PROGRESS: Parsing completed. Parsed 229907 lines in 21.8376 secs.</pre>"
       ],
       "metadata": {},
       "output_type": "display_data",
       "text": [
        "PROGRESS: Parsing completed. Parsed 229907 lines in 21.8376 secs."
       ]
      },
      {
       "html": [
        "<pre>PROGRESS: Finished parsing file /home/enrique/github/beeva-notebooks/doc_cluster/data/yelp/yelp_training_set/yelp_training_set_business.json</pre>"
       ],
       "metadata": {},
       "output_type": "display_data",
       "text": [
        "PROGRESS: Finished parsing file /home/enrique/github/beeva-notebooks/doc_cluster/data/yelp/yelp_training_set/yelp_training_set_business.json"
       ]
      },
      {
       "html": [
        "<pre>PROGRESS: Parsing completed. Parsed 11537 lines in 0.377441 secs.</pre>"
       ],
       "metadata": {},
       "output_type": "display_data",
       "text": [
        "PROGRESS: Parsing completed. Parsed 11537 lines in 0.377441 secs."
       ]
      },
      {
       "output_type": "stream",
       "stream": "stdout",
       "text": [
        "229907 reviews"
       ]
      },
      {
       "output_type": "stream",
       "stream": "stdout",
       "text": [
        "\n",
        "11537 business"
       ]
      },
      {
       "output_type": "stream",
       "stream": "stdout",
       "text": [
        "\n"
       ]
      }
     ],
     "prompt_number": 2
    },
    {
     "cell_type": "markdown",
     "metadata": {},
     "source": [
      "## Text Analytics (training set)"
     ]
    },
    {
     "cell_type": "code",
     "collapsed": false,
     "input": [
      "bow = graphlab.text_analytics.count_words(sf_train['texts'])\n",
      "bow = bow.dict_trim_by_keys(graphlab.text_analytics.stopwords(), exclude=True)\n",
      "bow = bow.dict_trim_by_values(3)\n",
      "tf_idf = graphlab.text_analytics.tf_idf(bow)\n",
      "#\n",
      "model50 = graphlab.topic_model.create(tf_idf,50)\n",
      "model50.summary()\n",
      "sf_train['topic50'] = model50.predict(tf_idf)\n",
      "#model50.get_topics().show()\n",
      "#\n",
      "model100 = graphlab.topic_model.create(tf_idf,100)\n",
      "model100.summary()\n",
      "sf_train['topic100'] = model100.predict(tf_idf)\n",
      "#\n",
      "model500 = graphlab.topic_model.create(tf_idf,500)\n",
      "model500.summary()\n",
      "sf_train['topic500'] = model500.predict(tf_idf)"
     ],
     "language": "python",
     "metadata": {},
     "outputs": [
      {
       "html": [
        "<pre>PROGRESS: Learning a topic model</pre>"
       ],
       "metadata": {},
       "output_type": "display_data",
       "text": [
        "PROGRESS: Learning a topic model"
       ]
      },
      {
       "html": [
        "<pre>PROGRESS:        Number of documents     10396</pre>"
       ],
       "metadata": {},
       "output_type": "display_data",
       "text": [
        "PROGRESS:        Number of documents     10396"
       ]
      },
      {
       "html": [
        "<pre>PROGRESS:            Vocabulary size     20539</pre>"
       ],
       "metadata": {},
       "output_type": "display_data",
       "text": [
        "PROGRESS:            Vocabulary size     20539"
       ]
      },
      {
       "html": [
        "<pre>PROGRESS:    Running collapsed Gibbs sampling</pre>"
       ],
       "metadata": {},
       "output_type": "display_data",
       "text": [
        "PROGRESS:    Running collapsed Gibbs sampling"
       ]
      },
      {
       "html": [
        "<pre>PROGRESS: +-----------+---------------+----------------+-----------------+</pre>"
       ],
       "metadata": {},
       "output_type": "display_data",
       "text": [
        "PROGRESS: +-----------+---------------+----------------+-----------------+"
       ]
      },
      {
       "html": [
        "<pre>PROGRESS: | Iteration | Elapsed Time  | Tokens/Second  | Est. Perplexity |</pre>"
       ],
       "metadata": {},
       "output_type": "display_data",
       "text": [
        "PROGRESS: | Iteration | Elapsed Time  | Tokens/Second  | Est. Perplexity |"
       ]
      },
      {
       "html": [
        "<pre>PROGRESS: +-----------+---------------+----------------+-----------------+</pre>"
       ],
       "metadata": {},
       "output_type": "display_data",
       "text": [
        "PROGRESS: +-----------+---------------+----------------+-----------------+"
       ]
      },
      {
       "html": [
        "<pre>PROGRESS: | 10        | 3.80s         | 2.42133e+06    | 0               |</pre>"
       ],
       "metadata": {},
       "output_type": "display_data",
       "text": [
        "PROGRESS: | 10        | 3.80s         | 2.42133e+06    | 0               |"
       ]
      },
      {
       "html": [
        "<pre>PROGRESS: +-----------+---------------+----------------+-----------------+</pre>"
       ],
       "metadata": {},
       "output_type": "display_data",
       "text": [
        "PROGRESS: +-----------+---------------+----------------+-----------------+"
       ]
      },
      {
       "output_type": "stream",
       "stream": "stdout",
       "text": [
        "Topic Model\n",
        "  Data:\n",
        "      Vocabulary size:     20539\n",
        "  Settings:\n",
        "      Number of topics:    50\n",
        "      alpha:               1.0\n",
        "      beta:                0.1\n",
        "      Iterations:          10\n",
        "      Verbose:             False\n",
        "  Accessible fields:\n",
        "      m['topics']          An SFrame containing the topics.\n",
        "      m['vocabulary']      An SArray containing the topics.\n",
        "  Useful methods:\n",
        "      m.get_topics()       Get the most probable words per topic.\n",
        "      m.predict(new_docs)  Make predictions for new documents.\n"
       ]
      },
      {
       "html": [
        "<pre>PROGRESS: Learning a topic model</pre>"
       ],
       "metadata": {},
       "output_type": "display_data",
       "text": [
        "PROGRESS: Learning a topic model"
       ]
      },
      {
       "html": [
        "<pre>PROGRESS:        Number of documents     10396</pre>"
       ],
       "metadata": {},
       "output_type": "display_data",
       "text": [
        "PROGRESS:        Number of documents     10396"
       ]
      },
      {
       "html": [
        "<pre>PROGRESS:            Vocabulary size     20539</pre>"
       ],
       "metadata": {},
       "output_type": "display_data",
       "text": [
        "PROGRESS:            Vocabulary size     20539"
       ]
      },
      {
       "html": [
        "<pre>PROGRESS:    Running collapsed Gibbs sampling</pre>"
       ],
       "metadata": {},
       "output_type": "display_data",
       "text": [
        "PROGRESS:    Running collapsed Gibbs sampling"
       ]
      },
      {
       "html": [
        "<pre>PROGRESS: +-----------+---------------+----------------+-----------------+</pre>"
       ],
       "metadata": {},
       "output_type": "display_data",
       "text": [
        "PROGRESS: +-----------+---------------+----------------+-----------------+"
       ]
      },
      {
       "html": [
        "<pre>PROGRESS: | Iteration | Elapsed Time  | Tokens/Second  | Est. Perplexity |</pre>"
       ],
       "metadata": {},
       "output_type": "display_data",
       "text": [
        "PROGRESS: | Iteration | Elapsed Time  | Tokens/Second  | Est. Perplexity |"
       ]
      },
      {
       "html": [
        "<pre>PROGRESS: +-----------+---------------+----------------+-----------------+</pre>"
       ],
       "metadata": {},
       "output_type": "display_data",
       "text": [
        "PROGRESS: +-----------+---------------+----------------+-----------------+"
       ]
      },
      {
       "html": [
        "<pre>PROGRESS: | 10        | 7.72s         | 1.23647e+06    | 0               |</pre>"
       ],
       "metadata": {},
       "output_type": "display_data",
       "text": [
        "PROGRESS: | 10        | 7.72s         | 1.23647e+06    | 0               |"
       ]
      },
      {
       "html": [
        "<pre>PROGRESS: +-----------+---------------+----------------+-----------------+</pre>"
       ],
       "metadata": {},
       "output_type": "display_data",
       "text": [
        "PROGRESS: +-----------+---------------+----------------+-----------------+"
       ]
      },
      {
       "output_type": "stream",
       "stream": "stdout",
       "text": [
        "\n",
        "Topic Model\n",
        "  Data:\n",
        "      Vocabulary size:     20539\n",
        "  Settings:\n",
        "      Number of topics:    100\n",
        "      alpha:               0.5\n",
        "      beta:                0.1\n",
        "      Iterations:          10\n",
        "      Verbose:             False\n",
        "  Accessible fields:\n",
        "      m['topics']          An SFrame containing the topics.\n",
        "      m['vocabulary']      An SArray containing the topics.\n",
        "  Useful methods:\n",
        "      m.get_topics()       Get the most probable words per topic.\n",
        "      m.predict(new_docs)  Make predictions for new documents.\n"
       ]
      },
      {
       "html": [
        "<pre>PROGRESS: Learning a topic model</pre>"
       ],
       "metadata": {},
       "output_type": "display_data",
       "text": [
        "PROGRESS: Learning a topic model"
       ]
      },
      {
       "html": [
        "<pre>PROGRESS:        Number of documents     10396</pre>"
       ],
       "metadata": {},
       "output_type": "display_data",
       "text": [
        "PROGRESS:        Number of documents     10396"
       ]
      },
      {
       "html": [
        "<pre>PROGRESS:            Vocabulary size     20539</pre>"
       ],
       "metadata": {},
       "output_type": "display_data",
       "text": [
        "PROGRESS:            Vocabulary size     20539"
       ]
      },
      {
       "html": [
        "<pre>PROGRESS:    Running collapsed Gibbs sampling</pre>"
       ],
       "metadata": {},
       "output_type": "display_data",
       "text": [
        "PROGRESS:    Running collapsed Gibbs sampling"
       ]
      },
      {
       "html": [
        "<pre>PROGRESS: +-----------+---------------+----------------+-----------------+</pre>"
       ],
       "metadata": {},
       "output_type": "display_data",
       "text": [
        "PROGRESS: +-----------+---------------+----------------+-----------------+"
       ]
      },
      {
       "html": [
        "<pre>PROGRESS: | Iteration | Elapsed Time  | Tokens/Second  | Est. Perplexity |</pre>"
       ],
       "metadata": {},
       "output_type": "display_data",
       "text": [
        "PROGRESS: | Iteration | Elapsed Time  | Tokens/Second  | Est. Perplexity |"
       ]
      },
      {
       "html": [
        "<pre>PROGRESS: +-----------+---------------+----------------+-----------------+</pre>"
       ],
       "metadata": {},
       "output_type": "display_data",
       "text": [
        "PROGRESS: +-----------+---------------+----------------+-----------------+"
       ]
      },
      {
       "html": [
        "<pre>PROGRESS: | 10        | 1m 5s         | 142015         | 0               |</pre>"
       ],
       "metadata": {},
       "output_type": "display_data",
       "text": [
        "PROGRESS: | 10        | 1m 5s         | 142015         | 0               |"
       ]
      },
      {
       "html": [
        "<pre>PROGRESS: +-----------+---------------+----------------+-----------------+</pre>"
       ],
       "metadata": {},
       "output_type": "display_data",
       "text": [
        "PROGRESS: +-----------+---------------+----------------+-----------------+"
       ]
      },
      {
       "output_type": "stream",
       "stream": "stdout",
       "text": [
        "\n",
        "Topic Model\n",
        "  Data:\n",
        "      Vocabulary size:     20539\n",
        "  Settings:\n",
        "      Number of topics:    500\n",
        "      alpha:               0.1\n",
        "      beta:                0.1\n",
        "      Iterations:          10\n",
        "      Verbose:             False\n",
        "  Accessible fields:\n",
        "      m['topics']          An SFrame containing the topics.\n",
        "      m['vocabulary']      An SArray containing the topics.\n",
        "  Useful methods:\n",
        "      m.get_topics()       Get the most probable words per topic.\n",
        "      m.predict(new_docs)  Make predictions for new documents.\n"
       ]
      },
      {
       "output_type": "stream",
       "stream": "stdout",
       "text": [
        "\n"
       ]
      }
     ],
     "prompt_number": 5
    },
    {
     "cell_type": "markdown",
     "metadata": {},
     "source": [
      "## Train the classifier"
     ]
    },
    {
     "cell_type": "code",
     "collapsed": false,
     "input": [
      "model = graphlab.boosted_trees_classifier.create(sf_train, 'categories', features=['topic50','topic100','topic500'], verbose=True, max_iterations=15)"
     ],
     "language": "python",
     "metadata": {},
     "outputs": [
      {
       "html": [
        "<pre>PROGRESS: Boosted trees classifier:</pre>"
       ],
       "metadata": {},
       "output_type": "display_data",
       "text": [
        "PROGRESS: Boosted trees classifier:"
       ]
      },
      {
       "html": [
        "<pre>PROGRESS: --------------------------------------------------------</pre>"
       ],
       "metadata": {},
       "output_type": "display_data",
       "text": [
        "PROGRESS: --------------------------------------------------------"
       ]
      },
      {
       "html": [
        "<pre>PROGRESS: Number of examples          : 10396</pre>"
       ],
       "metadata": {},
       "output_type": "display_data",
       "text": [
        "PROGRESS: Number of examples          : 10396"
       ]
      },
      {
       "html": [
        "<pre>PROGRESS: Number of classes           : 1954</pre>"
       ],
       "metadata": {},
       "output_type": "display_data",
       "text": [
        "PROGRESS: Number of classes           : 1954"
       ]
      },
      {
       "html": [
        "<pre>PROGRESS: Number of feature columns   : 3</pre>"
       ],
       "metadata": {},
       "output_type": "display_data",
       "text": [
        "PROGRESS: Number of feature columns   : 3"
       ]
      },
      {
       "html": [
        "<pre>PROGRESS: Number of unpacked features : 3</pre>"
       ],
       "metadata": {},
       "output_type": "display_data",
       "text": [
        "PROGRESS: Number of unpacked features : 3"
       ]
      },
      {
       "html": [
        "<pre>PROGRESS: Starting Boosted Trees</pre>"
       ],
       "metadata": {},
       "output_type": "display_data",
       "text": [
        "PROGRESS: Starting Boosted Trees"
       ]
      },
      {
       "html": [
        "<pre>PROGRESS: --------------------------------------------------------</pre>"
       ],
       "metadata": {},
       "output_type": "display_data",
       "text": [
        "PROGRESS: --------------------------------------------------------"
       ]
      },
      {
       "html": [
        "<pre>PROGRESS:   Iter    Accuracy Elapsed time</pre>"
       ],
       "metadata": {},
       "output_type": "display_data",
       "text": [
        "PROGRESS:   Iter    Accuracy Elapsed time"
       ]
      },
      {
       "html": [
        "<pre>PROGRESS:      0   1.887e-01       16.47s</pre>"
       ],
       "metadata": {},
       "output_type": "display_data",
       "text": [
        "PROGRESS:      0   1.887e-01       16.47s"
       ]
      },
      {
       "html": [
        "<pre>PROGRESS:      1   1.567e-01       32.85s</pre>"
       ],
       "metadata": {},
       "output_type": "display_data",
       "text": [
        "PROGRESS:      1   1.567e-01       32.85s"
       ]
      },
      {
       "html": [
        "<pre>PROGRESS:      2   1.981e-01       49.54s</pre>"
       ],
       "metadata": {},
       "output_type": "display_data",
       "text": [
        "PROGRESS:      2   1.981e-01       49.54s"
       ]
      },
      {
       "html": [
        "<pre>PROGRESS:      3   2.328e-01       66.25s</pre>"
       ],
       "metadata": {},
       "output_type": "display_data",
       "text": [
        "PROGRESS:      3   2.328e-01       66.25s"
       ]
      },
      {
       "html": [
        "<pre>PROGRESS:      4   2.498e-01       82.79s</pre>"
       ],
       "metadata": {},
       "output_type": "display_data",
       "text": [
        "PROGRESS:      4   2.498e-01       82.79s"
       ]
      },
      {
       "html": [
        "<pre>PROGRESS:      5   2.674e-01       99.26s</pre>"
       ],
       "metadata": {},
       "output_type": "display_data",
       "text": [
        "PROGRESS:      5   2.674e-01       99.26s"
       ]
      },
      {
       "html": [
        "<pre>PROGRESS:      6   3.239e-01      115.73s</pre>"
       ],
       "metadata": {},
       "output_type": "display_data",
       "text": [
        "PROGRESS:      6   3.239e-01      115.73s"
       ]
      },
      {
       "html": [
        "<pre>PROGRESS:      7   3.247e-01      132.21s</pre>"
       ],
       "metadata": {},
       "output_type": "display_data",
       "text": [
        "PROGRESS:      7   3.247e-01      132.21s"
       ]
      },
      {
       "html": [
        "<pre>PROGRESS:      8   3.706e-01      148.74s</pre>"
       ],
       "metadata": {},
       "output_type": "display_data",
       "text": [
        "PROGRESS:      8   3.706e-01      148.74s"
       ]
      },
      {
       "html": [
        "<pre>PROGRESS:      9   3.887e-01      165.38s</pre>"
       ],
       "metadata": {},
       "output_type": "display_data",
       "text": [
        "PROGRESS:      9   3.887e-01      165.38s"
       ]
      },
      {
       "html": [
        "<pre>PROGRESS:     10   4.245e-01      181.89s</pre>"
       ],
       "metadata": {},
       "output_type": "display_data",
       "text": [
        "PROGRESS:     10   4.245e-01      181.89s"
       ]
      },
      {
       "html": [
        "<pre>PROGRESS:     11   4.436e-01      198.43s</pre>"
       ],
       "metadata": {},
       "output_type": "display_data",
       "text": [
        "PROGRESS:     11   4.436e-01      198.43s"
       ]
      },
      {
       "html": [
        "<pre>PROGRESS:     12   4.827e-01      216.59s</pre>"
       ],
       "metadata": {},
       "output_type": "display_data",
       "text": [
        "PROGRESS:     12   4.827e-01      216.59s"
       ]
      },
      {
       "html": [
        "<pre>PROGRESS:     13   5.060e-01      234.68s</pre>"
       ],
       "metadata": {},
       "output_type": "display_data",
       "text": [
        "PROGRESS:     13   5.060e-01      234.68s"
       ]
      },
      {
       "html": [
        "<pre>PROGRESS:     14   5.295e-01      251.87s</pre>"
       ],
       "metadata": {},
       "output_type": "display_data",
       "text": [
        "PROGRESS:     14   5.295e-01      251.87s"
       ]
      }
     ],
     "prompt_number": 6
    },
    {
     "cell_type": "markdown",
     "metadata": {},
     "source": [
      "## Evaluate the classifier\n",
      "Accuracy = 30% (15 iterations)"
     ]
    },
    {
     "cell_type": "code",
     "collapsed": false,
     "input": [
      "bow = graphlab.text_analytics.count_words(sf_test['texts'])\n",
      "bow = bow.dict_trim_by_keys(graphlab.text_analytics.stopwords(), exclude=True)\n",
      "bow = bow.dict_trim_by_values(3)\n",
      "tf_idf = graphlab.text_analytics.tf_idf(bow)\n",
      "#\n",
      "sf_test['topic50'] = model50.predict(tf_idf)\n",
      "sf_test['topic100'] = model100.predict(tf_idf)\n",
      "sf_test['topic500'] = model500.predict(tf_idf)\n",
      "#\n",
      "model.evaluate(sf_test)"
     ],
     "language": "python",
     "metadata": {},
     "outputs": [
      {
       "html": [
        "<pre>PROGRESS: WARNING: The true labels used for evaluation contains class labels that were not present in the training data. Model accuracy can be improved by adding examples with these unseen labels to the training data.</pre>"
       ],
       "metadata": {},
       "output_type": "display_data",
       "text": [
        "PROGRESS: WARNING: The true labels used for evaluation contains class labels that were not present in the training data. Model accuracy can be improved by adding examples with these unseen labels to the training data."
       ]
      },
      {
       "metadata": {},
       "output_type": "pyout",
       "prompt_number": 7,
       "text": [
        "{'accuracy': 0.3023663453111306,\n",
        " 'confusion_matrix': Columns:\n",
        "\ttarget_label\tstr\n",
        "\tpredicted_label\tstr\n",
        "\tcount\tint\n",
        "\n",
        "Rows: 824\n",
        "\n",
        "Data:\n",
        "+--------------------------------+--------------------------------+-------+\n",
        "|          target_label          |        predicted_label         | count |\n",
        "+--------------------------------+--------------------------------+-------+\n",
        "| [\"Active Life\",\"American ( ... |      [\"Bakeries\",\"Food\"]       |   1   |\n",
        "| [\"Active Life\",\"Amusement  ... | [\"Active Life\",\"Amusement  ... |   1   |\n",
        "| [\"Active Life\",\"Amusement  ... |       [\"Food\",\"Grocery\"]       |   1   |\n",
        "| [\"Active Life\",\"Boating\",\" ... |    [\"Active Life\",\"Parks\"]     |   1   |\n",
        "| [\"Active Life\",\"Boating\",\" ... | [\"Italian\",\"Pizza\",\"Restau ... |   1   |\n",
        "|   [\"Active Life\",\"Boating\"]    |   [\"Mexican\",\"Restaurants\"]    |   1   |\n",
        "| [\"Active Life\",\"Dance Stud ... |   [\"Restaurants\",\"Italian\"]    |   1   |\n",
        "| [\"Active Life\",\"Dog Parks\" ... | [\"Active Life\",\"Dog Parks\" ... |   1   |\n",
        "| [\"Active Life\",\"Dog Parks\" ... |     [\"Pets\",\"Pet Stores\"]      |   1   |\n",
        "| [\"Active Life\",\"Fitness &  ... | [\"Active Life\",\"Yoga\",\"Fit ... |   1   |\n",
        "|              ...               |              ...               |  ...  |\n",
        "+--------------------------------+--------------------------------+-------+\n",
        "[824 rows x 3 columns]\n",
        "Note: Only the head of the SFrame is printed.\n",
        "You can use print_rows(num_rows=m, num_columns=n) to print more rows and columns.}"
       ]
      }
     ],
     "prompt_number": 7
    }
   ],
   "metadata": {}
  }
 ]
}