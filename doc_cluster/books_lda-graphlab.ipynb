{
 "metadata": {
  "name": ""
 },
 "nbformat": 3,
 "nbformat_minor": 0,
 "worksheets": [
  {
   "cells": [
    {
     "cell_type": "code",
     "collapsed": false,
     "input": [
      "import graphlab"
     ],
     "language": "python",
     "metadata": {},
     "outputs": [
      {
       "output_type": "stream",
       "stream": "stderr",
       "text": [
        "A newer version of GraphLab Create (v1.3) is available! Your current version is v1.2.1.\n",
        "You can use pip to upgrade the graphlab-create package. For more information see http://graphlab.com/products/create/upgrade."
       ]
      }
     ],
     "prompt_number": 1
    },
    {
     "cell_type": "markdown",
     "metadata": {},
     "source": [
      "## Generate dataset (ETL)"
     ]
    },
    {
     "cell_type": "code",
     "collapsed": false,
     "input": [
      "fileBooks = '/home/nievesabalos/Escritorio/nlp/datasets/books/catalogo_descripciones.csv'"
     ],
     "language": "python",
     "metadata": {},
     "outputs": [],
     "prompt_number": 2
    },
    {
     "cell_type": "code",
     "collapsed": false,
     "input": [
      "sf_books = graphlab.SFrame.read_csv(fileBooks, delimiter=',', header=True) #column_type_hints={'Codigo_libro':int, 'descripcion':str}\n",
      "#sf_books = sf_books.unpack('X1', column_name_prefix='')\n",
      "\n",
      "print \"%s books\" %len(sf_books)"
     ],
     "language": "python",
     "metadata": {},
     "outputs": [
      {
       "html": [
        "<pre>PROGRESS: Finished parsing file /home/nievesabalos/Escritorio/nlp/datasets/books/catalogo_descripciones.csv</pre>"
       ],
       "metadata": {},
       "output_type": "display_data",
       "text": [
        "PROGRESS: Finished parsing file /home/nievesabalos/Escritorio/nlp/datasets/books/catalogo_descripciones.csv"
       ]
      },
      {
       "html": [
        "<pre>PROGRESS: Parsing completed. Parsed 100 lines in 0.020315 secs.</pre>"
       ],
       "metadata": {},
       "output_type": "display_data",
       "text": [
        "PROGRESS: Parsing completed. Parsed 100 lines in 0.020315 secs."
       ]
      },
      {
       "html": [
        "<pre>PROGRESS: Unable to parse line \"Tohru Honda has been living in a tent since her mother dies in a car accident, but ends up living instead with Yuki Sohma, her school's \"\"prince\"\", along with his relatives Shigure and Kyo. But Tohru soon discovers that the Sohma clan has a secret of it's own: certain members of the family are possessed by the animals of the Zodiac, so whenever they are hugged by a member of the opposite sex they turn into that animal! Tohru promises to keep their secret and vows to somehow break the curse, and she may just end up healing the Sohma clan members in other ways as well...\"\"</pre>"
       ],
       "metadata": {},
       "output_type": "display_data",
       "text": [
        "PROGRESS: Unable to parse line \"Tohru Honda has been living in a tent since her mother dies in a car accident, but ends up living instead with Yuki Sohma, her school's \"\"prince\"\", along with his relatives Shigure and Kyo. But Tohru soon discovers that the Sohma clan has a secret of it's own: certain members of the family are possessed by the animals of the Zodiac, so whenever they are hugged by a member of the opposite sex they turn into that animal! Tohru promises to keep their secret and vows to somehow break the curse, and she may just end up healing the Sohma clan members in other ways as well...\"\""
       ]
      },
      {
       "html": [
        "<pre>PROGRESS: Unable to parse line \"Kyoko Suomi is the princess of Earth in the 30th century. Kyoko lives among the commoners, unwilling to reveal her true identity and ascend the throne. The king will allow Kyoko to live as she pleases if she can revive her twin sister Ui, who has been trapped in time since birth.\"</pre>"
       ],
       "metadata": {},
       "output_type": "display_data",
       "text": [
        "PROGRESS: Unable to parse line \"Kyoko Suomi is the princess of Earth in the 30th century. Kyoko lives among the commoners, unwilling to reveal her true identity and ascend the throne. The king will allow Kyoko to live as she pleases if she can revive her twin sister Ui, who has been trapped in time since birth.\""
       ]
      },
      {
       "html": [
        "<pre>PROGRESS: Unable to parse line \"As Kyoko's 16th birthday approaches, crowds are rioting as Kyoko refuses to present herself to her subjects. But in order to revive Ui, she must find 12 holy stones and 12 telepaths to move the clock that has stopped time for her sister.\"\"</pre>"
       ],
       "metadata": {},
       "output_type": "display_data",
       "text": [
        "PROGRESS: Unable to parse line \"As Kyoko's 16th birthday approaches, crowds are rioting as Kyoko refuses to present herself to her subjects. But in order to revive Ui, she must find 12 holy stones and 12 telepaths to move the clock that has stopped time for her sister.\"\""
       ]
      },
      {
       "html": [
        "<pre>PROGRESS: Unable to parse line \"After the creation of the Warhammer 40,000 universe by Games Workshop, the sister company, Black Library, began publishing novels describing the various Space Marine Legions, Imperial Guard and other events in the chronology of this universe.\"\"</pre>"
       ],
       "metadata": {},
       "output_type": "display_data",
       "text": [
        "PROGRESS: Unable to parse line \"After the creation of the Warhammer 40,000 universe by Games Workshop, the sister company, Black Library, began publishing novels describing the various Space Marine Legions, Imperial Guard and other events in the chronology of this universe.\"\""
       ]
      },
      {
       "html": [
        "<pre>PROGRESS: Unable to parse line \"The central character is Richard Bolitho, and, later, his nephew, Adam.\"</pre>"
       ],
       "metadata": {},
       "output_type": "display_data",
       "text": [
        "PROGRESS: Unable to parse line \"The central character is Richard Bolitho, and, later, his nephew, Adam.\""
       ]
      },
      {
       "html": [
        "<pre>PROGRESS: Unable to parse line \"In Chronological Order\"\"</pre>"
       ],
       "metadata": {},
       "output_type": "display_data",
       "text": [
        "PROGRESS: Unable to parse line \"In Chronological Order\"\""
       ]
      },
      {
       "html": [
        "<pre>PROGRESS: Unable to parse line \"Codigo_libro,descripcion\"</pre>"
       ],
       "metadata": {},
       "output_type": "display_data",
       "text": [
        "PROGRESS: Unable to parse line \"Codigo_libro,descripcion\""
       ]
      },
      {
       "html": [
        "<pre>PROGRESS: Unable to parse line \"* La Vengence du Comte Skarbek\"</pre>"
       ],
       "metadata": {},
       "output_type": "display_data",
       "text": [
        "PROGRESS: Unable to parse line \"* La Vengence du Comte Skarbek\""
       ]
      },
      {
       "html": [
        "<pre>PROGRESS: Unable to parse line \"* Zemsta hrabiego Skarbka\"\"</pre>"
       ],
       "metadata": {},
       "output_type": "display_data",
       "text": [
        "PROGRESS: Unable to parse line \"* Zemsta hrabiego Skarbka\"\""
       ]
      },
      {
       "html": [
        "<pre>PROGRESS: Unable to parse line \"Note: There isn't any introduction of \"\"Le Docteur Pascal\"\" and this recommend reading order isn't mentioned in the most authoritative French editions. However, in the fifth chapter of \"\"Le Docteur Pascal\"\" the Docteur Pascal resumes all the Rougon Macquart history and the English journalist Ernest Alfred Vizetelly derived a recommended reading order from it, affirming that it was Zola's recommended reading order.\"</pre>"
       ],
       "metadata": {},
       "output_type": "display_data",
       "text": [
        "PROGRESS: Unable to parse line \"Note: There isn't any introduction of \"\"Le Docteur Pascal\"\" and this recommend reading order isn't mentioned in the most authoritative French editions. However, in the fifth chapter of \"\"Le Docteur Pascal\"\" the Docteur Pascal resumes all the Rougon Macquart history and the English journalist Ernest Alfred Vizetelly derived a recommended reading order from it, affirming that it was Zola's recommended reading order.\""
       ]
      },
      {
       "html": [
        "<pre>PROGRESS: 183 lines failed to parse correctly</pre>"
       ],
       "metadata": {},
       "output_type": "display_data",
       "text": [
        "PROGRESS: 183 lines failed to parse correctly"
       ]
      },
      {
       "html": [
        "<pre>PROGRESS: Finished parsing file /home/nievesabalos/Escritorio/nlp/datasets/books/catalogo_descripciones.csv</pre>"
       ],
       "metadata": {},
       "output_type": "display_data",
       "text": [
        "PROGRESS: Finished parsing file /home/nievesabalos/Escritorio/nlp/datasets/books/catalogo_descripciones.csv"
       ]
      },
      {
       "html": [
        "<pre>PROGRESS: Parsing completed. Parsed 1484 lines in 0.020061 secs.</pre>"
       ],
       "metadata": {},
       "output_type": "display_data",
       "text": [
        "PROGRESS: Parsing completed. Parsed 1484 lines in 0.020061 secs."
       ]
      },
      {
       "output_type": "stream",
       "stream": "stdout",
       "text": [
        "------------------------------------------------------\n",
        "Inferred types from first line of file as \n",
        "column_type_hints=[int,str]\n",
        "If parsing fails due to incorrect types, you can correct\n",
        "the inferred type list above and pass it to read_csv in\n",
        "the column_type_hints argument\n",
        "------------------------------------------------------\n",
        "1484 books\n"
       ]
      }
     ],
     "prompt_number": 4
    },
    {
     "cell_type": "code",
     "collapsed": false,
     "input": [
      "sf_books.head(1)\n",
      "\n",
      "sf_train, sf_test = sf_books.random_split(.9, seed=5)\n",
      "sf_train.show()"
     ],
     "language": "python",
     "metadata": {},
     "outputs": [],
     "prompt_number": 5
    },
    {
     "cell_type": "code",
     "collapsed": false,
     "input": [
      "sf_train['descripcion']"
     ],
     "language": "python",
     "metadata": {},
     "outputs": [
      {
       "metadata": {},
       "output_type": "pyout",
       "prompt_number": 6,
       "text": [
        "dtype: str\n",
        "Rows: 1332\n",
        "[\"Four members of the Coverdale family - George, Jacqueline, Melinda and Giles - died in the space of fifteen minutes on the 14th February, St Valentine's Day. Eunice Parchman, the illiterate housekeeper, shot them down on a Sunday evening while they were watching opera on television. Two weeks later she was arrested for the crime. But the tragedy neither began nor ended there.\", \"Set in the Gulf Stream off the toast of Havana, Hemingway's magnificent fable is the story of an old man, a young boy and a giant fish. In a perfectly crafted story, which won for Hemingway the Nobel Prize for Literature, is a unique and timeless vision of the beauty and grief of man's challenge to the elements in which he lives.\", 'Two Supreme Court Justices are dead. Their murders remain unsolved. Darby Shaw, a brilliant and beautiful New Orleans legal student, draws up a speculative legal brief which links the deaths and uncovers an astonishing presidential conspiracy. When her boyfriend is atomised in a car bomb, it becomes clear that somebody is intent on silencing Darby for good. Somebody who will stop at nothing to preserve the secrets of the Pelican Brief...', \"Fifteen-year-old Pamela Andrews, alone in the world, is pursued by her dead mistress's son. Although she is attracted to Mr B, she holds out against his demands, determined to protect her virginity and abide by her moral standards Psychlologically acute in its explorations of sex, freedom and power, Richardson's first novel caused a senastion when it was published. Richly comic and lively, PAMELA contains a diverse cast of characters ranging from the vulgar and malevolent Mrs Jewkes to the agressive but awkward country squire.\", \"Agnes Grey is undoubtedtedly a deeply personal novel, in which Anne Bronte views on the 'contemporary' issue of the treatment of governesses, as well as her passionate religious sympathies, find very deliberate expression; but she also touches on issues of moral behaviour, moral responsibility, and individual integrity and its survival.\", \"The tale of Peachum, thief-taker and informer, conspiring to send the dashing and promiscuous highwayman Macheath to the gallows, became the theatrical sensation of the eighteenth century. In THE BEGGAR'S OPERA, John Gay turned conventions of Italian opera riotously upside-down, instead using traditional popular ballads and street tunes, while also indulging in political satire at the expense of the Prime Minister, Sir Robert Walpole. Gay's highly original depiction of the thieves, informers, prostitutes and highwaymen thronging the slums and prisons of the corrupt London underworld proved brilliantly successful in exposing the dark side of a corrupt and jaded society.\", \"'Animal book': Enjoy pointing out and naming familiar animals with your child. Here are 40 animals from the Australian backyard, bush, farm and zoo that very young children will recognise and soon learn to name. 'Hallo! How are you?': A small bear has just learnt the proper way to greet people and wants to practise it. Unfortunately the flowers, birds and cat can't give the correct answer, and the postman, milkman and newspaperman are all too busy. All is well however, when the little bear's father appears and makes everything right by knowing just how to answer. 'Where's Spot?': Children can join in the search for the mischievous puppy by lifting the flaps on every page to see where he is hiding. 'Lizzie and her kitty': Where is Lizzie? In the kitchen with her kitty - and having a wonderfully messy time. 'Baby's first friends': Pictures of various animals on soft plastic pages. 'Touch and peek with Teddy and me': The youngest child will love to participate in this charming little book by touching and peeking during the daily activities of a small boy and his teddy. 'Pat-a-cake, pat-a-cake': Words to the familiar nursery rhyme are illustrated with pictures of a busy baby baker and accompanied by directions for simple hand motions.\", \"This bigger, brighter paperback edition of Eric Hill's iconic first lift-the-flap book celebrates 30 years since first publication in hardback. The simple text and colourful pictures will engage a whole new generation of pre-readers as they lift the picture flaps in search of Spot. A No.1 bestseller since it was first published in 1980, this interactive favourite has stayed in the charts ever since.\", \"Lawrence wrote nearly 1,000 poems during a short lifetime in which he was also astonishingly prolific in other spheres--fiction, travel writing, essays, criticism, letters and plays. Lawrence was not simply a novelist who dabbled in other forms. His characteristic vision informed everything he wrote, especially his poetry. At three important phases of his life it became the primary channel of his experience and creative energy--the first year of his relationship with Frieda, the two years in Sicily, and the last year of his life. Bringing together the best of his poetry, this volume demonstrates that 'Lawrence is a great poet in every sense including the technical ... The form is the perfect incarnation of the content, the perfect vehicle for the liveliness of thought and feeling, the freshness, and depth of perception, the wit and wisdom he has to offer.'\", 'A topic-based, full-colour photo dictionary.', 'An excellent grounding in all four language skills.', 'This is an Intermediate Level story in a series of ELT readers comprising a wide range of titles - some original and some simplified - from modern and classic novels, and designed to appeal to all age-groups, tastes and cultures. The books are divided into five levels: Starter Level, with about 300 basic words; Beginner Level (600 basic words); Elementary Level (1100); Intermediate Level (1600); and Upper Level (2200). Some of the titles are also available on cassette.', '\"His Don Quixote ... from its first to its last page [is] a marvel of imagination, poetry, sentiment, and sarcasm. . . . People still speak of it only as \\'Dore\\'s Don Quixote\\'.\"--\"Life and Reminiscences of Gustave Dore \"Dore himself had something of Quixote\\'s chivalry and spent an arduous life drafting impossible dreams; he knew fame as well as pain, disillusionment, and failure. At age 30 he was ready for Quixote and prepared to realize his dream of illustrating the world\\'s great books. Dore never became the painter he yearned to be, but he came very close to realizing his desired intimacy with the classics. His sympathy with Cervantes\\' satire was so close that, of the numerous Quixote interpretations by many outstanding artists, Dore\\'s has become the standard. The French translation of Cervantes that Dore illustrated is forgotten; here is the memorable remnant of that work--all 120 full-page plates, plus a selection of 70 characteristic headpiece and tailpiece vignettes. As can be seen in the backgrounds, Dore was ready professionally as well as emotionally for Quixote. He had traveled through Spain preparing an earlier work, and his graphic memory was as strong and indelible as that of another great Quixote interpreter, Picasso. From Sancho\\'s village through Spanish hills and dry plateaus, in the Pyrenees and by the sea, in rural castles and Barcelona luxury, Dore illuminated the seventeenth-century setting with a nineteenth-century acquaintance with the scene. Dore was also a careful student of Renaissance costume and architecture; his minutiae, so copious, are invariably correct. Captions written especially for this edition describe the action with reference to the original Spanish text, capturing high points of the story. But of course Dore conveys it all in a picture: the famous windmill charge, traversing the Sierra Morena, battling the Knight of the White Moon, visions of giants, dragons, flaming lakes, and damsels, the Dulcinea never found, all in full-page wood engravings. Dore\\'s marvelous penchant for ghostly effects in panoramic landscapes and seascapes finds large scope here, carefully engraved by one of the best of his longtime studio engravers, H. Pisano. Dore\\'s Man of la Mancha glows with the artist\\'s own enchantment and humor. Artists and illustration aficionados will add this royalty-free volume to other Dover editions of Dore\\'s works--art he created to stand with great literature that now stands alone. Dore\\'s Quixote indeed stands alone, unique among the knights and graphic castles in Spain. Dover (1982) original publication of selections from \"L\\'ingenieux hidalgo Don Quichotte de la Manche par Miguel de Cervantes Saavedra, \" published by L. Hachette et Cie, Paris, 1869.', \"Four plays by the nineteenth-century Norwegian dramatist deal with the breakup of a marriage, Puritan moral standards, the force of public opinion, and personal illusions, in a volume that contains Ghosts, The Wild Duck, An Enemy of the People, and A Doll's House. Reissue.\", \"The moon as a poetic and planetary influence over earthly affairs runs as a theme, wittily ransacked, throughout this elegant fiction by award-winning novelist and poet Auster. Marco Fogg is a loner and a dreamer, whose ``mind is on the moon,'' and who in a state of elation unfolds moonlore to his friends. The year of the moon landing finds Fogg living in spartan reclusivity until forced from his New York apartment to roam as a Central Park vagrant. His rescue by Kitty Wu, a gentle Chinese girl, leads to their poignant and tenuous love. Like some of Auster's earlier protagonists, Fogg senses he has a kindred, submerged or vanished other self. Here, it is Fogg's father, who went into eclipse before his birth; the quest for the parent forms a narrative thread. When Fogg serves as reader/companion to the elderly cripple Barber, aka ``Effing,'' who recounts his adventures in a Western wilderness where he buried a cache of paintings, Fogg's fate takes an unexpected turn.\", '\"Bantam Spectra science fiction\"--Spine.', 'Cronopios and Famas is one of the best-loved books by Julio Cortazar, one of the greatest of Latin American novelists.', \"An entertaining survey of the career of one of Britain's foremost painters.\", 'The Princess and the Peais part of the Ladybird Favourite Tales, which are the timeless treasured stories that generations of children have grown up with and loved. These easy-to-read retellings, enhanced by exciting, richly colourful illustrations, faithfully capture all the magic of the original stories.', 'A young woman looks back at her childhood in a harsh orphanage and describes her growing love for the man who employs her as governess', 'On raconte que c\\'est gr\\xef\\xbf\\xbdce aux \\xef\\xbf\\xbdditions clandestines du samizdat - et donc, sans nom d\\'auteur - que fut introduite en Union sovi\\xef\\xbf\\xbdtique la traduction du Proc\\xef\\xbf\\xbds. Les lecteurs pens\\xef\\xbf\\xbdrent, dit-on, qu\\'il s\\'agissait de l\\'\\xef\\xbf\\xbduvre de quelque dissident, car ils d\\xef\\xbf\\xbdcouvraient, d\\xef\\xbf\\xbds le premier chapitre, une sc\\xef\\xbf\\xbdne famili\\xef\\xbf\\xbdre : l\\'arrestation au petit matin, sans que l\\'inculp\\xef\\xbf\\xbd se s\\xef\\xbf\\xbdt coupable d\\'aucun crime, les policiers sangl\\xef\\xbf\\xbds dans leur uniforme, l\\'acceptation imm\\xef\\xbf\\xbddiate d\\'un destin apparemment absurde, etc. Kafka ne pouvait esp\\xef\\xbf\\xbdrer une plus belle cons\\xef\\xbf\\xbdcration posthume. Et pourtant, les lecteurs russes se trompaient. Le projet de Kafka n\\'\\xef\\xbf\\xbdtait pas de d\\xef\\xbf\\xbdnoncer un pouvoir tyrannique ni de condamner une justice mal faite. Le proc\\xef\\xbf\\xbds intent\\xef\\xbf\\xbd \\xef\\xbf\\xbd Joseph K., qui ne conna\\xef\\xbf\\xbdtra pas ses juges, ne rel\\xef\\xbf\\xbdve d\\'aucun code et ne pouvait s\\'achever ni sur un acquittement ni sur une damnation, puisque Joseph K. n\\'\\xef\\xbf\\xbdtait coupable que d\\'exister. Crime capital et \\xef\\xbf\\xbd la fin du livre, deux \" messieurs \" l\\'emm\\xef\\xbf\\xbdneront dans une carri\\xef\\xbf\\xbdre abandonn\\xef\\xbf\\xbde et le tueront \" comme un chien \".', '\" All\\xef\\xbf\\xbd, le service de la S\\xef\\xbf\\xbdret\\xef\\xbf\\xbd ? Monsieur l\\'inspecteur principal Ganimard est-il ici ?... Pas avant vingt minutes ? Dommage !... Enfin !... Quand il sera l\\xef\\xbf\\xbd, vous lui direz ceci de la part de Mme Dugrival... Oui, Mme Nicolas Dugrival... Vous lui direz qu\\'il vienne chez moi. Il ouvrira la porte de mon armoire \\xef\\xbf\\xbd glace, et, cette porte ouverte, il constatera que l\\'armoire cache une issue qui fait communiquer ma chambre avec deux pi\\xef\\xbf\\xbdces. Dans l\\'une d\\'elles, il y a un homme solidement ligot\\xef\\xbf\\xbd. C\\'est le voleur, l\\'assassin de Dugrival. Vous ne me croyez pas ? Avertissez Monsieur Ganimard. Il me croira, lui. Ah ! J\\'oubliais le nom de l\\'individu... Ars\\xef\\xbf\\xbdne Lupin \"', '\" Le fant\\xef\\xbf\\xbdme de l\\'Op\\xef\\xbf\\xbdra a exist\\xef\\xbf\\xbd. J\\'avais \\xef\\xbf\\xbdt\\xef\\xbf\\xbd frapp\\xef\\xbf\\xbd d\\xef\\xbf\\xbds l\\'abord que je commen\\xef\\xbf\\xbdai \\xef\\xbf\\xbd compulser les archives de l\\'Acad\\xef\\xbf\\xbdmie nationale de musique par la co\\xef\\xbf\\xbdncidence surprenante des ph\\xef\\xbf\\xbdnom\\xef\\xbf\\xbdnes attribu\\xef\\xbf\\xbds au fant\\xef\\xbf\\xbdme et du plus myst\\xef\\xbf\\xbdrieux, du plus fantastique des drames, et je devais bient\\xef\\xbf\\xbdt \\xef\\xbf\\xbdtre conduit \\xef\\xbf\\xbd cette id\\xef\\xbf\\xbde que l\\'on pourrait peut-\\xef\\xbf\\xbdtre rationnellement expliquer celui-ci par celui-l\\xef\\xbf\\xbd. \" Avec l\\'art de l\\'intrigue parfaitement nou\\xef\\xbf\\xbde et l\\'inspiration diabolique qui ont fait le succ\\xef\\xbf\\xbds de Gaston Leroux, le p\\xef\\xbf\\xbdre de Rouletabille, le Fant\\xef\\xbf\\xbdme de l\\'Op\\xef\\xbf\\xbdra nous entra\\xef\\xbf\\xbdne dans une extraordinaire aventure qui nous tient en haleine de la premi\\xef\\xbf\\xbdre \\xef\\xbf\\xbd la derni\\xef\\xbf\\xbdre ligne.', 'Poil de Carotte a beau se taillader les joues pour qu\\'elles rosissent, personne ne l\\'embrasse. Mme Lepic n\\'aime pas son petit dernier aux cheveux roux. \" Tout ne monde ne peut pas \\xef\\xbf\\xbdtre orphelin \", se r\\xef\\xbf\\xbdp\\xef\\xbf\\xbdte Poil de Carotte, et il nous livre ses id\\xef\\xbf\\xbdes personnelles, \" ainsi nomm\\xef\\xbf\\xbdes parce qu\\'il faut les garder pour soi \". Ni la g\\xef\\xbf\\xbdn\\xef\\xbf\\xbdrosit\\xef\\xbf\\xbd, ni la sinc\\xef\\xbf\\xbdrit\\xef\\xbf\\xbd ne paient dans le monde des adultes. Il faut ruser. L\\'existence de Poil de Carotte est un enfer dont il ne s\\'\\xef\\xbf\\xbdchappe que par une cruelle lucidit\\xef\\xbf\\xbd. Jules Renard a \\xef\\xbf\\xbdcrit l\\xef\\xbf\\xbd un chef-d\\'\\xef\\xbf\\xbduvre d\\'ironie, d\\'intelligence et de tendresse. \" Qui a lu une telle \\xef\\xbf\\xbduvre ne peut l\\'oublier \", affirme en regard Robert Sabatier.', '\\xef\\xbf\\xbdHeinrich B\\xef\\xbf\\xbdll zeigt, was so selten gezeigt wird: den Alltag einer Liebe.\\xef\\xbf\\xbd Marcel Reich-Ranicki \\xef\\xbf\\xbdIch bin ein Clown, im Augenblick besser als mein Ruf.\\xef\\xbf\\xbd Hans Schnier, einst ein gefragter Pantomime und Spa\\xef\\xbf\\xbdmacher, sitzt, nachdem ihn seine Frau verlassen hat, zum Bettler degradiert auf den Stufen des Bonner Bahnhofs. Weitere Informationen zu Heinrich B\\xef\\xbf\\xbdll gibt es unter: www.heinrich-boell.de', 'Michael Kind was a rabbi, but he was also a man. A man who couldn\\'t help that his heart led him to Leslie, a beautiful minister\\'s daughter. Defying parents and teachers, they dare to love one another and build a life together, in this sweeping drama of love and identity, compassion and crueltly, and a complicated world that will not accept their decisions.... \"A rewarding reading experience.\" LOS ANGELES TIMES', 'Treasury of 43 works: \"The Cotter\\'s Saturday Night,\" \"To a Mountain Daisy,\" \"To a Mouse,\" \"To a Louse,\" \"Tam o\\' Shanter,\" \"Comin\\' Thro\\' the Rye,\" many more. Lists of titles and first lines. Extensive glossary.', 'It is a highly successful and widely-used text on pronunciation. It provides a systematic and thorough introduction to the pronunciation of English to help intermediate and more advanced students improve their pronunciation of the spoken language. A recording of all the practice material in the book is available on CDs.', 'This book contains material for a wide variety of games.', 'Teach English is a complete training course for teachers of English as a foreign language, especially designed for teachers whose first language is not English.', 'This authoritative collection presents up-to-date theory, research, and classroom applications in second language reading from an interactive perspective. The book supports the view that reading in a second language is an interactive process, whereby the learner s own background and knowledge contribute to understanding reading material. Several models of the reading process are considered, and classroom applications are explored. Language teachers, teachers in training, and researchers in the field of reading will find this book invaluable.', '\"Bah Humbug!\" That\\'s how Ebeneezer Scrooge feels about Christmas--until the Ghosts of Christmas Past, Present, and Future decide to show the crotchety old miser the error of his ways. Together they travel through time, revisiting all the people who have played an important role in Scrooge\\'s life. And as their journey concludes, Scrooge is reminded of what it means to have love in his heart, and what the true spirit of Christmas is all about. A timeless story the whole family will enjoy!', '?Introduction by Jeffrey Eugenides ?Written in his distinctively dazzling manner, Oscar Wilde\\xef\\xbe\\x92s story of a fashionable young man who sells his soul for eternal youth and beauty is the author\\xef\\xbe\\x92s most popular work. The tale of Dorian Gray\\xef\\xbe\\x92s moral disintegration caused a scandal when it ?rst appeared in 1890, but though Wilde was attacked for the novel\\xef\\xbe\\x92s corrupting in?uence, he responded that there is, in fact, \\xef\\xbe\\x93a terrible moral in Dorian Gray.\\xef\\xbe\\x94 Just a few years later, the book and the aesthetic/moral dilemma it presented became issues in the trials occasioned by Wilde\\xef\\xbe\\x92s homosexual liaisons, which resulted in his imprisonment. Of Dorian Gray\\xef\\xbe\\x92s relationship to autobiography, Wilde noted in a letter, \\xef\\xbe\\x93Basil Hallward is what I think I am: Lord Henry what the world thinks me: Dorian what I would like to be\\xef\\xbe\\x97in other ages, perhaps.\\xef\\xbe\\x94', 'As the sole survivor of a shipwreck, an Englishman lives for nearly thirty years on a deserted island, surviving by his wits and accompanied only by his native companion, Friday. Reissue.', 'The classic novel follows Stephen Dedalus from his days as a student at the Clongowes Wood School, to the deep religious conflict he experiences at a day school in Dublin, to his college years during which he challenges the conventions of his upbringing. Reissue.', 'Ayla, an injured and orphaned child adopted by a primitive tribe, carries within her the seed and hope of humankind in this epic of survival and destiny set at the dawn of prehistory. Reissue.', 'After being cast out of the Clan that had adopted her as a child by the new leader, Ayla shares a lonely valley with a herd of steppe ponies, harnesses their power, and discovers speech and love with Jondalar, a member of her own race. Reissue.', \"Super-diplomat Raymond Havilland sets up the kidnapping of Jason Bourne's wife, in order to draw Bourne out of retirement and into a Taiwanese plot to seize Hong Kong and incite China against the West. Reissue. (A Universal Pictures film, written by Tony Gilroy & Brian Helgeland, directed by Paul Greengrass, releasing July 2004, starring Matt Damon & Franka Potente) (Suspense)\", \"Ayla and Jondalar embark on a journey that takes them to the Mamutoi, the Mammoth Hunters, and Ayla must make a fateful choice between two men--Jondalar and Ranec, the Mamutoi's master carver--in a story of Ice Age Europe. Reissue.\", \"'One day there is life . . . and then, suddenly, it happens there is death.' So begins Paul Auster's moving and personal meditation on fatherhood. The first section, 'Portrait of an Invisible Man', reveals Auster's memories and feelings after the death of his father. In 'The Book of Memory' the perspective shifts to Auster's role as a father. The narrator, 'A', contemplates his separation from his son, his dying grandfather and the solitary nature of writing and story-telling.\", 'Retells the legends of Moorish and Christian Spain recorded by the nineteenth-century American writer who visited Granada in 1829.', 'La conjura de los necios es una disparatada, \\xef\\xbf\\xbdcida e inteligent\\xef\\xbf\\xbdsima novela. Pero no s\\xef\\xbf\\xbdlo eso, tambi\\xef\\xbf\\xbdn es tremendamente divertida y amarga a la vez. La carcajada escapa por s\\xef\\xbf\\xbd sola ante las situaciones desproporcionadas de esta gran tragicomedia. Ignatius', 'Rose y Owen Benjamin llevan una vida tranquila y sin sobresaltos en el vertiginoso Nueva York de nuestros das. Para ambos, su matrimonio y su apartamento familiar en medio de la ciudad constituyen un remanso de paz, un refugio. Pero Rose, correctora de una editorial, oculta el anhelo de una pasin que ha estado ausente de su vida, y Owen, que en su juventud pareciera destinado a una vida ms brillante, se ha recluido en un montono aunque respetable trabajo en una escuela privada, y esconde tambin una obsesin inconfesable.Pero ser su nico hijo, Philip, quien har estallar este apacible mundo de civilizados secretos, cuando decida airear pblicamente su homosexualidad, y enfrentar a sus padres con la realidad.', 'En esta antologia en la que el propio autor se ha decidido a reunir sus relatos preferidos, y lo ha hecho consciente de que se trataba de un juego literario - este mismo volumen es visto como un recuerdo mas inventado -, y no ignorando Vila-Matas que nadie puede compilar una antologia que sea mucho mas que un museo de sus simpatias y diferencias, y que en realidad solo el paso del tiempo acaba por editar antologias admirables, el lector encontrara el encanto de unas paginas que se saben elegidas y muy representativas del arte narrativo de quien, habiendose destacado en los ultimos anos en el relato corto como B+un verdadero maestro del generoB; (J.A. Masoliver Rodenas), reune en este volumen una primera seleccion de sus cuentos, incluyendo algunos ineditos y otros que ultimamente parecian extraviados. Una excelente muestra de un escritor B+mas dueno que nunca de sus artesB; (Ignacio Echevarria, El Pais), B+el mito naciente de la literatura espanola contemporaneaB; (C?lvaro Enrigue, Vuelta).', 'Introducci\\xef\\xbf\\xbdn. Bibliograf\\xef\\xbf\\xbda. Cristina Guzm\\xef\\xbf\\xbdn, profesora de idiomas. Cr\\xef\\xbf\\xbdticas en diarios y revistas extranjeras. \\xef\\xbf\\xbdndice de l\\xef\\xbf\\xbdminas.', 'Introducci\\xef\\xbf\\xbdn biogr\\xef\\xbf\\xbdfica y cr\\xef\\xbf\\xbdtica, Fernando de Herrera. La poes\\xef\\xbf\\xbda amorosa. a) Tradici\\xef\\xbf\\xbdn petrarquista y neoplat\\xef\\xbf\\xbdnica. b) Algunas Obras: cancionero petrarquista. c) Poes\\xef\\xbf\\xbda cancioneril. La poes\\xef\\xbf\\xbda no amorosa. a) Poes\\xef\\xbf\\xbda heroico-patri\\xef\\xbf\\xbdtica. b) Poes\\xef\\xbf\\xbda laudatoria. Po\\xef\\xbf\\xbdtica. Estilo. \"Drama textual\". Noticia Bibliogr\\xef\\xbf\\xbdfica. Bibliograf\\xef\\xbf\\xbda Selecta. Abreviaturas y Siglas. Nota Previa. Poes\\xef\\xbf\\xbdas. I. Poes\\xef\\xbf\\xbdas varias. II. Algunas Obras. \\xef\\xbf\\xbdndice de Primeros Versos. \\xef\\xbf\\xbdndice de L\\xef\\xbf\\xbdminas.', 'Introducci\\xef\\xbf\\xbdn biogr\\xef\\xbf\\xbdfica y cr\\xef\\xbf\\xbdtica. I. Vida y obra de Lope de Rueda. II. Pasos o entremeses. III. Lope de Rueda en la historia literaria: los or\\xef\\xbf\\xbdgenes del teatro popular en Espa\\xef\\xbf\\xbda. Noticia Bibliogr\\xef\\xbf\\xbdfica. Bibliograf\\xef\\xbf\\xbda Selecta. Nota Previa. Pasos. Del Deleytoso. Del Registro de representantes. De la comedia Eufemia. Paso de Polo y Vallejo y Grimildo. Paso de Polo y Olalla negra. De la comedia Armelina. Paso de Guadalupe y de Mencieta. De la comedia de los enga\\xef\\xbf\\xbdados. Paso de Guiomar, Clavela y Julieta. Paso de Pajares y Verginio. De la comedia Medora. Paso de Gargullo y de Estela y de Logro\\xef\\xbf\\xbdo. Paso de Ortega y Perico. Paso de la Gitana y Gargullo. Del coloquio de Camila. Paso de Pablos Loren\\xef\\xbf\\xbdo y de Ginesa, su muger. Paso de Pablos y de Ginesa. Del coloquio de Tymbria. Paso de Troyco y Leno sobre la mantecada. Paso de Ysacaro y de la negra. Paso de Mesifl\\xef\\xbf\\xbda y Leno. Paso de Troyco y Leno. Paso de Leno y Sulco, su amo, sobre el rat\\xef\\xbf\\xbdn. Ap\\xef\\xbf\\xbdndice. Otros Pasos del Registro de representantes. Paso Primero del m\\xef\\xbf\\xbddico simple y Coladilla paje. Paso Segundo. Paso Tercero de Rodrigo del Toro .Coloquio llamado Prendas de amor. Glosario. \\xef\\xbf\\xbdndice de L\\xef\\xbf\\xbdminas.', 'Introducci\\xef\\xbf\\xbdn: Lou Charnon-Deutsch. Pensamiento po\\xef\\xbf\\xbdtico y filosof\\xef\\xbf\\xbda: Mar\\xef\\xbf\\xbda Zambrano, el espacio de la Reconciliaci\\xef\\xbf\\xbdn, Amparo Amor\\xef\\xbf\\xbds. Thin Lines, Bedeviled Words: Monastic and Inquisitional Texts by Colonial Mexican Women, Electa Arenal, Stacey Schlau. Las mujeres dramaturgas en Espa\\xef\\xbf\\xbda: En busca de la identidad, Ursula Aszyk. Mar\\xef\\xbf\\xbda de Gevara, Isabel Barbeito Carneiro. Desire In Rosal\\xef\\xbf\\xbda de Castro ?s El caballero de la botas azules, Lou Charnon-Deustsh. Chains of Desire: Luisa de Carvajal y Mendoza ?s Poetics of Penance, Anne J. Cruz. Los m\\xef\\xbf\\xbdrgenes antican\\xef\\xbf\\xbdnicos de la autobiograf\\xef\\xbf\\xbda de la pobreza en Hasta no verte Jes\\xef\\xbf\\xbds m\\xef\\xbf\\xbdo de Elena Poniatowska, Lucia Guerra Cunningham. Los auditorios de Isabel de Jes\\xef\\xbf\\xbds, Sonia Herpoel. History, Feminist Ideology, and Political Discourse in Arr\\xef\\xbf\\xbdncame la vida, Mar\\xef\\xbf\\xbda Herrera-Sobek. Paulina Luisi: Pensamiento y escritura feminista, Asunci\\xef\\xbf\\xbdn Lavrin. Sor Juana ?s Amor es m\\xef\\xbf\\xbds laberinto as Mythological Speculum, Frederick Luciani. La poes\\xef\\xbf\\xbda de Mar\\xef\\xbf\\xbda de San Jos\\xef\\xbf\\xbd [Salazar], Mar\\xef\\xbf\\xbda Pilar Manero Sorolla. The Novels of Patricia Bins, Mar\\xef\\xbf\\xbda Luisa Nunes. Julia Maura: Lark in a Hostile Garden, Patricia W. O ?Connor. Female Voices in the Poetry of Sor Juana In\\xef\\xbf\\xbds de la Cruz, Rosa Perelmuter. Tortura y auto-conocimiento en dos novelas argentinas: La \\xef\\xbf\\xbdltima conquista de El \\xef\\xbf\\xbdngel de Elvira Orph\\xef\\xbf\\xbde y Conversaci\\xef\\xbf\\xbdn al sur de Marta Traba, Evelyn Picon Garfield. Juana Rodr\\xef\\xbf\\xbdguez, una autora m\\xef\\xbf\\xbdstica olvidada [Burgos, siglo XVII], Isabel Poutrin. La presencia de Sor Juana en la obra de Rosario Castellanos, Nina M. Scott. Bibliograf\\xef\\xbf\\xbda de Eva Canel [1857-1932], Mar\\xef\\xbf\\xbda Del Carmen Sim\\xef\\xbf\\xbdn Palmer. De una presencia femenina en la vanguardia: El hostigante verano de los dioses de Fanny Buitrago, Daniel Torres. The Social Construction of Sexual Identity in Cherr\\xef\\xbf\\xbde Moraga ?s Giving Up the Ghost, Lourdes Torres. La comedia de do\\xef\\xbf\\xbda Ana Caro Mall\\xef\\xbf\\xbdn de Soto, Rina Walthaus.', 'Introducci\\xef\\xbf\\xbdn: Caza menor. Una revaloraci\\xef\\xbf\\xbdn de la trilog\\xef\\xbf\\xbda Mujer y hombre. Testimonio materno como proceso de concienciaci\\xef\\xbf\\xbdn. La vida peque\\xef\\xbf\\xbda. Cuentos de antes y de ahora Bibliograf\\xef\\xbf\\xbda. CAZA MENOR. Rese\\xef\\xbf\\xbdas cr\\xef\\xbf\\xbdticas de Caza menor. \\xef\\xbf\\xbdndice de l\\xef\\xbf\\xbdminas.', 'Georges Bataille, con el seud\\xef\\xbf\\xbdnimo de Pierre Ang\\xef\\xbf\\xbdlique, hab\\xef\\xbf\\xbda publicado, en 1941 y en 1945, dos ediciones clandestinas de Madame Edwarda. En 1956, Bataille entreg\\xef\\xbf\\xbd el libro a su editor, J.-J. Pauvert, para que lo publicara por primera vez en edici\\xef\\xbf\\xbdn comercial, manteniendo en seud\\xef\\xbf\\xbdnimo, pero a\\xef\\xbf\\xbdadiendo un prefacio firmado con su nombre. Diez a\\xef\\xbf\\xbdos despu\\xef\\xbf\\xbds, una vez muerto Bataille, apareci\\xef\\xbf\\xbd finalmente la edici\\xef\\xbf\\xbdn definitiva con el nombre real del autor.Bataille hab\\xef\\xbf\\xbda concebido publicar, en un solo volumen, Madame Edwarda, seguido de Mi madre y de otros dos textos. (Encontrar\\xef\\xbf\\xbdn m\\xef\\xbf\\xbds informaci\\xef\\xbf\\xbdn acerca de este proyecto en Mi madre, ya publicado en esta misma colecci\\xef\\xbf\\xbdn, n.o 19). Finalmente fueron publicados por separado y, ahora, debido a la brevedad del texto de Madame Edwarda -y de El muerto (libro que no entraba en este proyecto de Bataille)-, decidimos, con la autorizaci\\xef\\xbf\\xbdn del editor franc\\xef\\xbf\\xbds, reunirlos en un solo volumen, en la edici\\xef\\xbf\\xbdn espa\\xef\\xbf\\xbdola.Madame Edwarda es la imagen misma de la mujer transgresora, de esa mujer que, proveniendo de lo que concebimos como el Mal, pasa a ser Dios por su omnipotente poder de disponer de su vida, de su sexo y de su muerte. El hombre que la sigue, cautivado, presa de un miedo at\\xef\\xbf\\xbdvico, encuentra en ella la total realizaci\\xef\\xbf\\xbdn del Deseo.El muerto, publicado p\\xef\\xbf\\xbdstumamente en 1967, est\\xef\\xbf\\xbd compuesto de veintiocho escenas breves que narran las \\xef\\xbf\\xbdltimas horas de una mujer cuyo amante acaba de morir en sus brazos.Ese coito interruptus la precipita en un vertiginoso d\\xef\\xbf\\xbddalo de vivencias er\\xef\\xbf\\xbdticas en las que ella misma va al encuentro de su amante, en la muerte...Se trata de dos peque\\xef\\xbf\\xbdos tesoros literarios que har\\xef\\xbf\\xbdn las delicias de quienes aman la Literatura, de quienes aman el Erotismo y de quienes aman la Literatura Er\\xef\\xbf\\xbdtica.', 'En la din\\xef\\xbf\\xbdmica de toda pareja interviene una dimensi\\xef\\xbf\\xbdn -su absoluto- que escapa al control de las dos personas que la forman y que se plasma en el relato com\\xef\\xbf\\xbdn que deben ir inventando desde el momento de su primer encuentro a fin de , relato a cuyos contenidos deben mantenerse fieles para preservar esta creaci\\xef\\xbf\\xbdn. En consecuencia, los integrantes de una d\\xef\\xbf\\xbdada no pueden dejar de ratificar el contenido del argumento singular que crea su pareja y, rec\\xef\\xbf\\xbdprocamente, la singularidad de este argumento marca buena parte de sus comportamientos y opiniones. Su existencia constituye un descubrimiento primordial para el terapeuta de parejas, as\\xef\\xbf\\xbd como para toda persona interesada en el fen\\xef\\xbf\\xbdmeno mismo de la pareja. Ignorar a este tercero, creer que en el caso de la pareja conduce al terapeuta a trivializar a las parejas y seg\\xef\\xbf\\xbdn el modelo basado en la idea de una en la pareja. El absurdo de esta empresa provoca el rechazo por su inutilidad. Basado en los fundamentos de la nueva teor\\xef\\xbf\\xbda sist\\xef\\xbf\\xbdmica -que intenta plasmar la complejidad de las relaciones humanas en modelos globales-, este libro propone devolver la creatividad original a la pareja accediendo a ella en su integridad a trav\\xef\\xbf\\xbds de su absoluto.', 'En este volumen, que reune algunos de sus mas recientes textos filosoficos, Richard Rorty centra toda la atencion de su poderosa capacidad interpretativa y analitica en la obra de Heidegger y Derrida. La primera parte incluye cuatro articulos sobre Heidegger; la segunda, tres articulos sobre Derrida y un trabajo adicional en el que se examina el uso que han hecho Paul de Man y sus seguidores de ciertas ideas de Derrida; y la tercera parte, siendo mas heterogenea, presenta trabajos que van desde el estudio de Freud y la deliberacion moral a las teorias sociales y actitudes politicas de Habermas, Unger, Castoriadis y Foucault. A partir de todo ello, Rorty acaba entendiendo que la tradicion de Nietzxche Heidegger Derrida de forma similar a la tradicion de Dewey Wittgeenstein Davidson considerada en Ojectivity, relativism and Truth, otra de sus obras basicas culmina en un conjunto de doctrinas antiesencialistas, antirrepresentacionalistas y pragmatistas, que a la vez le sirven para criticar a Heidegger y Derrida por considerar el lenguaje como un elemento reflexivo en lugar de segun Davidson como cadenas de marcas y ruidos que emiten y utilizan los organismos para coordinar su conducta. La conclusion de Rorty, asi, es que no existe tension entre ambas tradiciones, excepto en aquellos puntos en los que Heidegger y Derrida se convierten en cuasi metafisicos.', 'La figura del productor cobra dia a dia mas relevancia, a medida que las producciones alcanzan mayores cotas de complejidad y coste y que obliga a optimizar los rendimientos industriales y a elevar la calidad de los productos. De ello trata esta obra, que va dirigida a actuales y futuros productores, directores de programas de television y de cine, profesionales del medio, empresarios del sector, realizadores, ayudantes de direccion, estudiantes, periodistas y estudiosos, en general, de los medios de comunicacion.', \"Concebido como una incitaci\\xef\\xbf\\xbdn a 'hacer fon\\xef\\xbf\\xbdtica', no es un manual de fon\\xef\\xbf\\xbdtica en el sentido cl\\xef\\xbf\\xbdsico. Presenta un m\\xef\\xbf\\xbdtodo de trabajo y sugiere c\\xef\\xbf\\xbdmo es posible experimentar en fon\\xef\\xbf\\xbdtica. Tambi\\xef\\xbf\\xbdn se recogen las nociones b\\xef\\xbf\\xbdsicas de muy diversa \\xef\\xbf\\xbdndole y que son relevantes a la hora de enfrentarse a un proyecto de investigaci\\xef\\xbf\\xbdn fon\\xef\\xbf\\xbdtica.\", 'Estudio que muestra la idea de ciencia actual y como \\xef\\xbf\\xbdsta ya no se puede concebir de una forma positivista, apart\\xef\\xbf\\xbdndola radicalmente de la historia y la sociedad en la cual se genera.', 'Narraci\\xef\\xbf\\xbdn sobre la vida del fraile reformador del Carmelo - fray Juan y su \\xef\\xbf\\xbdpoca. La obra en su conjunto es una agrupaci\\xef\\xbf\\xbdn de prosa po\\xef\\xbf\\xbdtica.', 'Producto de diez anos de investigacion y contacto intimo con la hija y la nieta de Alma Mahler, esta es una biografia absorbente que se lee como una novela, de una de las mujeres mas fascinantes de la Europa del siglo XX. Nacida en la Austria de los Habsburgo en 1879 y fallecida en Nueva York en 1964, en el curso de su larga vida Alma Mahler Werfel estuvo casada con el compositor Gustav Mahler, con el arquitecto Walter Gropius y con el novelista Franz Werfel. Amante tambien del pintor Oskar Loloschka quien la inmortalizo en la obra maestra que da su subtitulo a este libro, La novia del viento, estuvo intimamente implicada en los movimientos mas importantes de la musica, la pintura, la arquitectura y la literatura del siglo XX, y conto con la amistad de muchos de los artistas mas destacados de Europa. Al comienzo de su extraordinaria vida, Alma era una belleza fascinante, pero siempre se comporto, hasta sus ultimos momentos como una tirana emocional con sus maridos, amantes y amigos. A pesar deser una figura controvertida, que provoco sentimientos extremos en todas las personas que se toparon con ella, nadie que la conocio pudo olvidarla jamas, y toda una serie de hombres inmensamente dotados creyeron hallar en ella el perfecto contrapunto femenino para el genio del artista. Con todo este material personal y social, Susanne Keegan construye una biografia apasionante, que refleja con absoluta fidelidad y realismo, no solo la epoca y el contexto historico que le toco vivir a Alma Mahler, sino tambien la evolucion del arte de este siglo, personificado en los hombres que la conocieron y amaron. El retrato que hace de su personaje acaba siendo asi tan apasionado como complejo: una mujer denuestro tiempo con todas sus virtudes, debilidades y obsesiones al descubierto. A partir', 'Los dos grandes territorios que Epston y White exploran para nosotros en este libro son los siguientes: por un lado, el asunto de la externalizacion del problema; por otro, y consecuentemente, la variedad de formas en que podemos usar terapeuticamente la palabra escrita. De este modo, y a traves de numerosos ejemplos, el lector puede elegir entre una gran variedad de nuevas intervenciones y cosechar asi los frutos de un nuevo terreno que ya ha sido cuidadosamente arado, regado y sembrado para nosotros. Al final, Epston y White nos invitan a preguntarnos: ?como podemos hacer posible la escritura de relatos personales y colectivos que liberen y curen, cuando los relatos dominantes estan tan saturados de problemas? Al publicar este libro, los autores estan compartiendo algunos de sus descubrimientos en relacion con este interrogante. ?Cual es la disposicion del profesional a unirse a ellos en esta exploracion y a dotarse de habilidades en el uso de medios literarios para reanimar la vida de sus clientes y de sus familias?', 'Este bello y sencillo relato nos cuenta la vida de un emperador de China y su relaci\\xef\\xbf\\xbdn con un anciano sabio que le ense\\xef\\xbf\\xbda a vivir en el presente y a dejarse guiar por su intuici\\xef\\xbf\\xbdn ya que, en realidad, todo cuanto necesita se halla ya en \\xef\\xbf\\xbdl. Cuando un terrible terremoto destruye la capital del reino, el anciano le conmina a liberarse de su antiguo sistema de creencias que le impiden realizar todo su potencial y vivir plenamente el \"aqu\\xef\\xbf\\xbd y ahora\".', 'El mensaje de Louise Hay es muy sencillo y bsicamente se puede formular en pocas palabras. De hecho, a la autora le basta una de las pginas iniciales de esta obra para presentarnos lo esencial de su pensamiento. Para ella lo importante es que lleguemos a comprender que lo que pensamos de nosotros mismos puede llegar a ser verdad para nosotros, que todos somos responsables en un cien por ciento de todo lo que nos sucede en la vida, lo mejor y lo peor. Porque cada cosa que pensamos est creando nuestro futuro, es decir cada uno de nosotros crea sus experiencias con lo que piensa y siente. Y esto nos abre enormes posibilidades de cambio porque en nuestras mentes los nicos que pensamos somos nosotros. Cuando cramos paz, armona y equilibrio en nuestras mentes, los encontramos en nuestras vidas. A partir de estos principios, Louise Hay nos sugiere una forma de vivir que tendr como resultado una mayor autoestima, una convivencia en paz con nosotros mismos y los dems y la posibilidad de conseguir lo que queremos para nuestras vidas.', 'Reflexi\\xef\\xbf\\xbdn sobre el sentido de la educaci\\xef\\xbf\\xbdn art\\xef\\xbf\\xbdstica planteada entres l\\xef\\xbf\\xbdneas de trabajo. El c\\xef\\xbf\\xbdmic, el teatro de sombras y los t\\xef\\xbf\\xbdteres son tres posibilidades de enfrentarse al fen\\xef\\xbf\\xbdmeno expresivo utilizando lenguajes combinados.', '\\xef\\xbf\\xbdPuede haber explotaci\\xef\\xbf\\xbdn y divisi\\xef\\xbf\\xbdn de clase en cualquier orden social, incluido el socialismo? No son muchos los marxistas que se han enfrentado a este problema, problema que es tambi\\xef\\xbf\\xbdn un enigma para los te\\xef\\xbf\\xbdricos de la econom\\xef\\xbf\\xbda. En esta original y convincente obra, John Roemer propone una teor\\xef\\xbf\\xbda general de la explotaci\\xef\\xbf\\xbdn que utiliza el marco de la teor\\xef\\xbf\\xbda de juegos para expresar toda concepci\\xef\\xbf\\xbdn de la explotaci\\xef\\xbf\\xbdn -feudal, capitalista o socialista- de una forma normalizada y expl\\xef\\xbf\\xbdcita, lo que permite una clara comparaci\\xef\\xbf\\xbdn de diferentes concepciones \\xef\\xbf\\xbdticas. Al tiempo que aplica la teor\\xef\\xbf\\xbda general al an\\xef\\xbf\\xbdlisis de la sociedad socialista, Roemer la utiliza para cotejar las concepciones marxista y neocl\\xef\\xbf\\xbdsica de la explotaci\\xef\\xbf\\xbdn. Al situar la concepci\\xef\\xbf\\xbdn marxista de la explotaci\\xef\\xbf\\xbdn en el contexto de una teor\\xef\\xbf\\xbda m\\xef\\xbf\\xbds general, Roemer ofrece nuevos puntos de vista sobre cuestiones cl\\xef\\xbf\\xbdsicas y resuelve varios viejos problemas de la econom\\xef\\xbf\\xbda marxista. El libro contiene tambi\\xef\\xbf\\xbdn una teor\\xef\\xbf\\xbda formal de la formaci\\xef\\xbf\\xbdn de las clases. Una vez dados el comportamiento y la descripci\\xef\\xbf\\xbdn institucionales de una econom\\xef\\xbf\\xbda, las clases surgen end\\xef\\xbf\\xbdgenamente en el modelo. En un importante teorema, Roemer relaciona las dos caracter\\xef\\xbf\\xbdsticas clave de una persona en una determinada econom\\xef\\xbf\\xbda: su posici\\xef\\xbf\\xbdn de clase y su estatus como explotador o explotado. Finalmente, demuestra que la teor\\xef\\xbf\\xbda general de la explotaci\\xef\\xbf\\xbdn puede ser considerada como la traducci\\xef\\xbf\\xbdn formal al lenguaje econ\\xef\\xbf\\xbdmico de la teor\\xef\\xbf\\xbda del materialismo hist\\xef\\xbf\\xbdrico.', 'Las crisis econ\\xef\\xbf\\xbdmicas hacen sentir sus rigores en las condiciones de vida de importantes segmentos de la poblaci\\xef\\xbf\\xbdn. Ante esta situaci\\xef\\xbf\\xbdn, los t\\xef\\xbf\\xbdcnicos tienen la responsabilidad de facilitar las decisiones pol\\xef\\xbf\\xbdticas planteando alternativas, esbozando soluciones fundamentadas te\\xef\\xbf\\xbdricamente y que se apoyen en el an\\xef\\xbf\\xbdlisis de los \\xef\\xbf\\xbdxitos y fracasos del pasado. La evaluaci\\xef\\xbf\\xbdn de proyectos sociales tiene un papel central en ese proceso de racionalizaci\\xef\\xbf\\xbdn y es un elemento b\\xef\\xbf\\xbdsico de la planificaci\\xef\\xbf\\xbdn. No es posible que \\xef\\xbf\\xbdstas sean eficaces y eficientes, si no se eval\\xef\\xbf\\xbdan los resultados de su aplicaci\\xef\\xbf\\xbdn. Por ello, disponer de evaluaciones ex post de proyectos en curso o ya realizados resulta fundamental para mejorar el dise\\xef\\xbf\\xbdo de los mismos. Asimismo, la evaluaci\\xef\\xbf\\xbdn ex ante le permite elegir la mejor opci\\xef\\xbf\\xbdn de los programas y proyectos en los que se concretan las acciones pol\\xef\\xbf\\xbdticas. Este libro pretende contribuir a mejorar los resultados de la pol\\xef\\xbf\\xbdtica social, proporcionando orientaci\\xef\\xbf\\xbdn metodol\\xef\\xbf\\xbdgica en un \\xef\\xbf\\xbdrea importante como es la evaluaci\\xef\\xbf\\xbdn, y ha sido generado en el marco del Programa sobre Pol\\xef\\xbf\\xbdticas Sociales para Am\\xef\\xbf\\xbdrica Latina (PROPOSAL) que llevan a cabo la Organizaci\\xef\\xbf\\xbdn de Estados Americanos (OEA) y el Instituto Latinoamericano y del Caribe de Planificaci\\xef\\xbf\\xbdn Econ\\xef\\xbf\\xbdmica y Social (ILPES) de la Organizaci\\xef\\xbf\\xbdn de las Naciones Unidas.', 'El apasionado alegato de Alain Finkielkraut, su manifiesto contra \\xef\\xbf\\xbdla cultura zombi\\xef\\xbf\\xbd a contracorriente de la moda intelectual, del conformismo posmoderno, ha despertado en Francia un apasionado inter\\xef\\xbf\\xbds. Finkielkraut se indigna por el estado moral de una sociedad a la que le da igual un c\\xef\\xbf\\xbdmic que una novela de Nabokov, un slogan publicitario que un poema de Ren\\xef\\xbf\\xbd Char, un partido de f\\xef\\xbf\\xbdtbol que un ballet, o un videoclip que una \\xef\\xbf\\xbdpera de Verdi. El autor se interroga sobre las \\xef\\xbf\\xbdrazones\\xef\\xbf\\xbd que conducen a bautizar como culturales aquellas actividades en las que el pensamiento est\\xef\\xbf\\xbd ausente y se remonta a la filosof\\xef\\xbf\\xbda del Siglo de las Luces para mostrar c\\xef\\xbf\\xbdmo se ha producido el derrumbe de los ideales europeos. Finkielkraut afirma que los ideales de raz\\xef\\xbf\\xbdn, de humanismo cosmopolita y de poes\\xef\\xbf\\xbda sin fronteras est\\xef\\xbf\\xbdn sucumbiendo ante la exaltaci\\xef\\xbf\\xbdn nacionalista y la concepci\\xef\\xbf\\xbdn \\xef\\xbf\\xbdtnica de la sociedad (contra la concepci\\xef\\xbf\\xbdn electiva), herederas del romanticismo alem\\xef\\xbf\\xbdn y de su Volkgeist. La filosof\\xef\\xbf\\xbda de la descolonizaci\\xef\\xbf\\xbdn, instrumento para la emancipaci\\xef\\xbf\\xbdn de los pa\\xef\\xbf\\xbdses del Tercer Mundo, acaba por desembocar en el nacionalismo m\\xef\\xbf\\xbds sectario: mientras, una \\xef\\xbf\\xbdnueva derecha\\xef\\xbf\\xbd cultiva el fantasma de una Europa asediada por fam\\xef\\xbf\\xbdlicos inmigrantes...', 'La historia del mundo que nos cuenta Julian Barnes comienza en el arca de Noe y termina en el Paraiso, y entretanto la cruzan navios diversos: la balsa de la Medusa, que inspira la celebre pintura de Gericault; el Saint Louis, un barco de B+condenadosB; , que tras zarpar rumbo a La Habana con 937 judios alemanes expulsados de carceles y campos de concentracion, recorrio medio mundo sin que ningun pais aceptara su cargamento, por lo que tuvo que poner rumbo a Alemania; la fragil barca en la que se hace a la mar australiana desesperada y quiza loca, convencida de que el mundo ha sido arrasado por la guerra atomica; y hasta la nave espacial de un astronauta que encuentra a Dios en los espacios - nunca mejor dicho que cada uno tiene el Dios que se merece - y acaba B+redescubriendoB; el arca de Noe en el monte Ararat, en uno de los ironicos equivocos con que Barnes obsequia a sus lectores.B+Un libro quiza muy dificil de resumir, pero en absoluto dificil de leer. Serio e impertinente, fantastico y absolutamente realista, poetico y satirico, enormemente inteligente y muy, muy divertidoB; (R. Irwing, The Listener).B+Julian Barnes ha escrito un libro brillante, imaginativo, audaz, iconoclasta, original, y un verdadero placer para el lector. Que mas se podria pedir?B; (Salman Rushdie).', \"Anotar, utilizar la falta de consideracin hacia todo y, por consiguiente, tambin hacia s mismo: se podra ser el lema que encabezara este libro, un gran poema en forma de relato. Partiendo de innumerables retazos de pensamiento, observaciones y alusiones, Thomas Bernhard esboza una verificacin del mundo y de s mismo cuyo objetivo es el conocimiento: 'Me preparo para m mismo; todo esto no es ms que una preparacin para m mismo'.Entretejidos, hay jirones de un fin de semana en un hostal que 'el cronista de tribunales' visita para encontrarse all con 'la seorita'. Aparecen otros personajes: el hostelero, el jardinero, el chfer, la cantante, los asilados del vecino manicomio, pero tambin la voz del catedrtico, a quien el amor ha precipitado en la infelicidad, o la figura de la juda, a quien atormenta el vecino. Entre esos seres - repelido por ellos, pero atrado tambin, una y otra vez - vive el narrador.Sin embargo, en realidad su nica compaa es su perro, que est alrededor de l, con l, dentro de l. Sorprende ver con qu claridad pueden encontrarse ya casi todos los elementos de la imaginacin de Thomas Bernhard en este libro, escrito antes de Helada. Por aadidura, su autor se muestra abierto, delicado y vulnerable hasta tal punto, que tal vez pudiramos llamarlo su obra ms personal.\", 'Historia de Barcelona.', 'Esta obra ins\\xef\\xbf\\xbdlita, un aut\\xef\\xbf\\xbdntico est\\xef\\xbf\\xbdmulo para la lectura, ha sido uno de los grandes fen\\xef\\xbf\\xbdmenos de la edici\\xef\\xbf\\xbdn francesa reciente. Pennac, profesor de literatura en un instituto, se propone una tarea tan simple como necesaria en nuestros d\\xef\\xbf\\xbdas: que el adoles', 'En el curso de los abracadabrantes acontecimientos que se suceden, asistimos a perversiones realmente inauditas, hasta desembocar, como es habitual en Tom Shapre, en un apotosico final.', 'TWO SERIOUS LADIES, Miss Goering and Mrs. Copperfield, travel in search of freedom and adventure--and the experience of \"going to pieces\" in a foreign land.', 'Dos fanticos de las novelas de aventuras, vctimas de la astuta trampa que les tiende un enemigo, emprenden una aventura real: la liberacin de una dama que ha sido secuestrada en su castillo del sur de Francia. Y no hay aventura comparable a la de seguirles en su intento de rescate, pues Tom Sharpe vuelve a demostrar aqu que es un maestro en el desarrollo de las ms enloquecidas tramas: engaos, choques automovilsticos, persecuciones, tiroteos, apariciones de la polica secreta internacional, confusiones y desastres se van sucediendo en medio de un clima de descontrol absoluto que culmina en el mayor caos imaginable.Una ejemplar stira de la irracionalidad, en la que quiz slo se salvan los dos chiflados protagonistas: Glodstone, prototipo de maduro romntico enamorado de una civilizacin desaparecida que simboliza su adorado Bentley del ao 27; y Peregrine, el alumno que entiende peligrosamente al pie de la letra todo lo que le dicen y que tiene unas tendencias asesinas no menos peligrosas.', 'Herinneringen van een jonge schrijver aan een na\\xef\\xbf\\xbdeve en tegelijkertijd geraffineerde jonge vrouw, wier levensloop hij geleidelijk aan leert kennen.', 'James Hadley Chase est considerado uno de los grandes maestros de la novela negra, un incomparable creador de suspense. Boileau y Narcejac, los autores de Las diablicas, consideran que el descubridor de la frmula de la novela cruel.Este descubrimiento se produjo en El secuestro de Miss Blandish, la primera novela del autor, posiblemente inspirada en Santuario de Faulkner, que lo lanz instantneamente a la fama y de la que se han vendido millones de ejemplares. Hadley Chase ech en ella, como en una coctelera, todos los ingredientes posibles: pandillas de asaltantes de bancos, policas corruptos y sdicos, un detective privado con una suculenta secretaria, secuestros, drogas, alcohol, perversiones sexuales y un psicpata asesino cuya brutalidad y sangre fra han resultado difcilmente homologables desde entonces.La banda de los Grisson - cuyas hazaas filmara Robert Aldrich en una pelcula con este ttulo -, capitaneada por Ma Grisson, una madraza despiadada que tiene en su hijo Slim un digno sucesor, secuestra a una bella y rica heredera, Miss Blandish, cuya vida se transforma a partir de ese hecho en un veloz descenso a los infiernos. Porque Slim Grisson encontrar en ella el objeto perfecto para saciar sus ms oscuros deseos...', 'Sirenas, hermosas sirenas retozando en un campo de golf: un fenmeno bastante inusual, salvo en el cerebro de Ken Minderquist. Bien es cierto que desde que el consejero econmico de la Casa Blanca ha salvado la vida del presidente de los Estados Unidos, recibiendo la bala que le estaba destinada, su vida ha cambiado, el autocontrol se ha aflojado, como se pone inesperadamente de manifiesto en la conferencia de prensa efectuada en el idlico marco de la nueva mansin campestre de la familia Minderquist... Este cruel relato que da ttulo al libro, en el que entre risas aflora el horror, es una muestra excelente del talento de Patricia Highsmith.', 'La Antologa del humor negro es un libro clave en la historia del surrealismo. La seleccin de los textos y la presentacin de los autores se debe a Andr Breton, la figura ms relevante del movimiento surrealista. Entre los autores encontramos nombres tan significativos, y a veces tan sorprendentes como Swift, Sade, Carroll, Nietzsche, Lautramont, Rimbaud, Jarry, Roussel, Picabia, Picasso, Kafka, Duchamp, Vach, Dal y otros.Creemos interesante destacar un fragmento del prlogo de Breton, que ilustra magnficamente el espritu del libro: Para participar en el torneo negro del humor es indispensable haber salido victorioso de numerosas eliminatorias. El humor negro time demasiadas fronteras: la tontera, la irona escptica, la broma sin gravedad... (la enumeracin sera larga), pero, sobre todo, es el enemigo mortal del sentimentalismo con aire perpetuamente acorralado -el eterno sentimentalismo sobre fondo azul- y de una cierta fantasia de corto vuelo, que se toma demasiado a menudo por poesa, persiste vanamente en querer someter el espritu a sus caducos artificios, y no dispone ya de mucho tiempo para alzar sobre el sol, entre las dems semillas de adormidera, su cabeza de grulla coronada.', 'En el singular Amor del poeta por el rubio seor de los Sonetos y en su pasin complementaria por la negra dama, por ms extraos y raros que parezcan ser los avatares de la aventura, todo amor se reconoce sin embargo de algn modo: se reconoce all, ms bien, la comn desgracia del Amor.Agustn Garca Calvo ofrece aqu a los lectores: el texto de los Sonetos en cuidadosa edicin crtica y con algunas anotaciones de variantes de las ediciones anteriores; una traduccin en verso de todos ellos, que con algunas industrias elaboradas en una larga fidelidad se arregla para repetir en castellano muchas de las gracias del lenguaje de Shakespeare enamorado; y un comentario en que trata, entre otras cosas, de poner de relieve las lneas de contradiccin de la metafsica del Amor Eterno que la pasin formula en los poemas, esto es, de nuestra eterna condenacin y lucha desesperada contra el Tiempo. Nos resulta particularmente grato proponer de nuevo, ahora en esta edicin de bolsillo, la celebrada versin de Agustn Garca Calvo de los Sonetos de amor.', 'Se ha afirmado que el relato es la forma narrativa por excelencia en la literatura norteamericana actual y que Raymond Carver es el maestro indiscutible de este registro. Sus personajes son gente de lo m\\xef\\xbf\\xbds comun: trabajadores manuales, empleaduchos, parad', 'Publicada por Nabokov al cumplir sus setenta aos, Ada o el ardor supone el felicsimo apogeo de su larga y brillante carrera literaria. Al mismo tiempo que crnica familiar e historia de amor (incestuoso), Ada es un tratado filosfico sobre la naturaleza del tiempo, una pardica historia del gnero novelesco, una novela ertica, un canto al placer y una reivindicacin del Paraso entendido como algo que no hay que buscar en el ms all, sino en la Tierra.En este libro preado de nostalgia hay de todo: desde copiosas complicaciones de la intriga y los personajes - irnica imitacin de las sagas decimonnicas - hasta la construccin de un mundo hipottico, Antiterra, en el que Nabokov recrea a su aire las referencias geogrficas, histricas, culturales y lingsticas que siempre le haban apasionado, y en donde se mueve a sus anchas sin sentirse jams condicionado por ningunarealidad. Pues Ada proclama la aplastante victoria de la realidad del pasado sobre la dudosa realidad del presente, y la victoria final de la imaginacin sobre cualquier clase de limitaciones.Ms all, sin embargo, de todos los anacronismos y travesuras diversas preparadas por Nabokov destaca por encima de todo la historia de los encuentros y desencuentros entre los principales protagonistas, Van Veen y Ada, los dos hermanos que, creyndose slo primos, se enamoran pasionalmente con motivo de su encuentro adolescente en la finca familiar de Ardis (el Jardn del Edn), y que ahora, con motivo del noventa y siete cumpleaos de Van, inmersos en la ms placentera nostalgia, contemplan los distintos avatares de su amor convencidos de que la felicidad y el xtasis ms ardoroso estn al alcance de la mano de todo aquel que conserve el arte de la memoria.Adao el ardor es el apogeo de la obra de Nabokov... Una de las ms bellas e imaginativas vi', 'El buda de esta novela es un respetable pakistan\\xef\\xbf\\xbd de clase y edad medias, casado con una inglesa, que un buen d\\xef\\xbf\\xbda decide brindar a las amas de casa y a sus maridos de los suburbios la raci\\xef\\xbf\\xbdn de trascendencia y \\xef\\xbf\\xbdxtasis m\\xef\\xbf\\xbdstico a que todos cre\\xef\\xbf\\xbdan tener dere', 'Den danske franciskanermunks liv (ca. 1484-1566) og religi\\xef\\xbf\\xbdse overvejelser p\\xef\\xbf\\xbd vandringer mellem Europas klostre indtil reformationen, derefter i Mexico som grundl\\xef\\xbf\\xbdgger af menigheder efter idealerne i Thomas Mores \"Utopia\"', 'Obra clave del nacimiento, en pleno auge tecnocr\\xef\\xbf\\xbdtico, de una contracultura adolescente, antidogm\\xef\\xbf\\xbdtica y creativa, encabezada no por los desheredados de la fortuna, sino por los hijos privilegiados de la sociedad, \\xef\\xbf\\xbdmarginados\\xef\\xbf\\xbd voluntariamente del \\xef\\xbf\\xbdsistema\\xef\\xbf\\xbd.', 'El presente libro suministra una rigurosa aproximaci\\xef\\xbf\\xbdn metodol\\xef\\xbf\\xbdgica de an\\xef\\xbf\\xbdlisis delos factores de la cultura empresarial. Desarrolla numerososejemplos concretosuniendo la cultura a la gesti\\xef\\xbf\\xbdn y a la estrategia. Finalmente, muestra el modo en quela cultura puede constituir un elemento de uni\\xef\\xbf\\xbdn, y qu\\xef\\xbf\\xbd acciones concretas se derivande ella.INDICE: Las diferentes apuestas de una auditor\\xef\\xbf\\xbda cultural: Cultura empresarial. Modo de empleo. La cultura empresarial. La utilidad de la cultura empresarial. M\\xef\\xbf\\xbdtodos de auditor\\xef\\xbf\\xbda cultural: Materiales b\\xef\\xbf\\xbdsicos. Las formas de estudiode la cultura. Tres casos de auditor\\xef\\xbf\\xbda cultural. Las consecuencias de una auditor\\xef\\xbf\\xbda cultural: Los resultados de una auditor\\xef\\xbf\\xbda cultural. \\xef\\xbf\\xbdSe puede cambiar la cultura?. El proyecto empresarial.', 'El objetivo del presente libro es estudiar la relaci\\xef\\xbf\\xbdn que existe entre identidad y estrategia corporativa o, m\\xef\\xbf\\xbds exactamente, determinar en qu\\xef\\xbf\\xbd forma una identidad corporativa puede servir para que una empresa obtenga y mantenga una ventaja frente a sus competidores. Este objetivo est\\xef\\xbf\\xbd motivado por el hecho de que la identidad o imagen corporativa (el problema de su definici\\xef\\xbf\\xbdn se expone en el cap\\xef\\xbf\\xbdtulo 1) parece ir adquiriendo una importancia cada vez mayor. El proyecto de crear un libro que fuera importante desde el punto de vista pragm\\xef\\xbf\\xbdtico, tanto para el consultor de identidad corporativa como para el personal de comunicaciones y marketing de cualquier empresa, fue lo que realmente determin\\xef\\xbf\\xbd la naturaleza de las investigaciones llevadas a cabo y de la estructura tem\\xef\\xbf\\xbdtica.', '\\xef\\xbf\\xbdPor qu\\xef\\xbf\\xbd el marketing tradicional no es suficiente, por s\\xef\\xbf\\xbd solo, para alcanzarel \\xef\\xbf\\xbdxito de mercado en el sector servicios?.INDICE: Planteamientos b\\xef\\xbf\\xbdsicos. La calidad externa en el sector servicios.El marketing tradicional. El marketing interactivo. El marketing interno. El esquema integral y sus implicaciones.', 'INDICE: La gesti\\xef\\xbf\\xbdn de la innovaci\\xef\\xbf\\xbdn a trav\\xef\\xbf\\xbds de la gesti\\xef\\xbf\\xbdn de nuevos productos. Estrategias de innovaci\\xef\\xbf\\xbdn de nuevos productos. El proceso. Organizaci\\xef\\xbf\\xbdn del desarrollo de nuevosproductos. Importancia de las actividades de dise\\xef\\xbf\\xbdo en el desarrollo de nuevos productos.', 'Este diccionario, que engloba m\\xef\\xbf\\xbds de 25.000 t\\xef\\xbf\\xbdrminos y m\\xef\\xbf\\xbds de 1.500abreviaturas, es fruto de siete a\\xef\\xbf\\xbdos de traducci\\xef\\xbf\\xbdn al espa\\xef\\xbf\\xbdol de documentaci\\xef\\xbf\\xbdn t\\xef\\xbf\\xbdcnica alemana sobre ferrocarriles, generada durante el proyecto, el concurso, la adjudicaci\\xef\\xbf\\xbdn, la construcci\\xef\\xbf\\xbdn, la puesta en marcha y el mantenimiento del sistema ferroviario de alta velocidad espa\\xef\\xbf\\xbdola AVE. Las nuevas tecnolog\\xef\\xbf\\xbdas, los prototipos de sistemas y las aplicaciones t\\xef\\xbf\\xbdcnicas espec\\xef\\xbf\\xbdficas que implicala Alta Velocidad y la conducci\\xef\\xbf\\xbdn autom\\xef\\xbf\\xbdtica de trenes han llevado a la creaci\\xef\\xbf\\xbdn deuna gran masa de nueva terminolog\\xef\\xbf\\xbda en espa\\xef\\xbf\\xbdol que, en su mayor parte, ha debido ser definida,contrastada y establecida por t\\xef\\xbf\\xbdcnicos alemanes y espa\\xef\\xbf\\xbdoles.', 'Introducci\\xef\\xbf\\xbdn, traducci\\xef\\xbf\\xbdn y notas de T. Calvo Mart\\xef\\xbf\\xbdnez. Revisada por A. Bernab\\xef\\xbf\\xbd Pajares.', 'Introducci\\xef\\xbf\\xbdn, traducci\\xef\\xbf\\xbdn y notas de S. Segura Mungu\\xef\\xbf\\xbda. Revisada por F. Pejenaute Rubio.', \"Only one of three pig brothers survives a wolf's attacks by using his head and planning well.\", 'El robatori d\\xef\\xbf\\xbdun fetitxe arumbaya del Museu Etnogr\\xef\\xbf\\xbdfic, far\\xef\\xbf\\xbd que en Tint\\xef\\xbf\\xbdn vagi a la Rep\\xef\\xbf\\xbdblica de Sant Teodoro. All\\xef\\xbf\\xbd es veur\\xef\\xbf\\xbd ficat en la guerra que t\\xef\\xbf\\xbd aquest pa\\xef\\xbf\\xbds amb el seu ve\\xef\\xbf\\xbd Nuevo Rico, i es converteix en l\\xef\\xbf\\xbdajudant del general Alc\\xef\\xbf\\xbdzar. personatge mol', 'Libro pr\\xef\\xbf\\xbdctico, indispensable para maestras/os muy ocupados. Proyectos perfectamente explicados, agrupados por \\xef\\xbf\\xbdreas, adaptados al Curr\\xef\\xbf\\xbdculo de Educaci\\xef\\xbf\\xbdn Infantil y distribuidos mes a mes. Abundantes ilustraciones para saber qu\\xef\\xbf\\xbd hay que hacer y c\\xef\\xbf\\xbdmo hacerlo.', 'La elaboraci\\xef\\xbf\\xbdn de proyectos sociales nace del deseo de mejorar la realidad en la que estamos insertos, de resolver una carencia, una necesidad, con visi\\xef\\xbf\\xbdn de futuro. Planificar mejor los escasos recursos con que se cuenta requiere una buena prepaci\\xef\\xbf\\xbdn t\\xef\\xbf\\xbdcnica. Para ello esta obra se muestra sumamente valiosa por la calidad, precisi\\xef\\xbf\\xbdn, propiedad y concisi\\xef\\xbf\\xbdn con la que est\\xef\\xbf\\xbd escrita, y porque no se contenta s\\xef\\xbf\\xbdlo con ofrecer la teor\\xef\\xbf\\xbda de la planificaci\\xef\\xbf\\xbdn y todas sus fases, sino que adem\\xef\\xbf\\xbds aporta elocuentes muestras de aplicaci\\xef\\xbf\\xbdn de la misma en \\xef\\xbf\\xbdmbitos como Trabajo Social, Educaci\\xef\\xbf\\xbdn de Adultos, Participaci\\xef\\xbf\\xbdn de la Mujer, Tercera Edad, Asociaciones de Padres y Madres de Alumnos...', 'Innovadora gu\\xef\\xbf\\xbda pr\\xef\\xbf\\xbdctica que describe paso a paso el proceso de dise\\xef\\xbf\\xbdo, desarrollo y evaluaci\\xef\\xbf\\xbdn de un proyecto de educaci\\xef\\xbf\\xbdn en la diversidad. Aporta modelos de materiales complementarios y pruebas de evaluaci\\xef\\xbf\\xbdn. Dedica un amplio apartado a la preparaci\\xef\\xbf\\xbdn del profesorado en este campo.', 'Guiones de teatro, cuentos y poemitas psicomotrices que ayudan a promover actitudes y valores: colaboraci\\xef\\xbf\\xbdn, alegr\\xef\\xbf\\xbda, silencio, amor a lo cotidiano, solidaridad, gusto por la est\\xef\\xbf\\xbdtica, amistad. Propone a los maestros/as sugerencias para su realizaci\\xef\\xbf\\xbdn.', 'El libro analiza las necesidades educativas especiales durante la adolescencia y el papel del tutor durante el proceso evolutivo y desarrollo de esta etapa. Presenta estudio de casos y concluye con una relaci\\xef\\xbf\\xbdn detallada de recursos \\xef\\xbf\\xbdtiles para la educaci\\xef\\xbf\\xbdn de apoyo.', 'Cada mineral tiene su propia funci\\xef\\xbf\\xbdn y vibraci\\xef\\xbf\\xbdn y una especial influencia sobre cada individuo. Determinadas vibraciones curan, generan energ\\xef\\xbf\\xbda y elevan el esp\\xef\\xbf\\xbdritu. Las longitudes de onda de estas vibraciones sirven al hombre de distinta manera.', 'El doctor Humberto Huberman, medico homeopata, llega al solitario hotel de Bosque de Mar para pasar unos dias de descanso. No sospecha que se esta internando en un laberinto de amores no correspondidos, venganza y muerte. Perplejo e intrigado, asiste a un asesinato por envenamiento. En medio de una tormenta de viento y arena, los huespedes del hotel quedan aislados durante cuatro dias y cuatro noche, entre el mar y un ominoso cangrejal. Todos son sospechosos. El asesino es secreto y diligente.', 'In this wonderful biography of the writer and Nobel Prize winner Pablo Neruda, whose centennial takes place in 2004, Jorge Edwards recreates masterfully the life of the poet and the story of three generations of writers, artists, and thinkers around the world. He carries the reader along that long, eventful, and contradictory intellectual and vital trajectory, both personal and collective. So many known characters, so much cultural, social, and political activity surrounded Neruda that what Edwards knows about him, having been his friend for twenty years and private secretary for some time, reveals something about the history of almost everyone. As Edwards defines this book, it is &la\" a very personal book of memoirs in which the main character is Pablo Neruda.', 'En 1983, Ken Wilber conoci\\xef\\xbf\\xbd a Treya (Terry Killam), e inmediatamente se produjo entre ellos un \"reconocimiento\" mutuo. Tras un breve noviazgo contrajeron matrimonio, pero su felicidad pronto se vio truncada cuando a Treya se le diagnostic\\xef\\xbf\\xbd un c\\xef\\xbf\\xbdncer. Su luna de miel discurri\\xef\\xbf\\xbd en un hospital, inici\\xef\\xbf\\xbdndose as\\xef\\xbf\\xbd el atribulado periplo de cinco a\\xef\\xbf\\xbdos que la pareja vivir\\xef\\xbf\\xbda hasta la muerte de tan excepcional mujer. En Gracia y Coraje el vibrante diario de Treya se va entrelazando con las profundas reflexiones de Ken, dando lugar a un relato vivamente humano que transmite el impacto que esta experiencia supuso en la vida de la pareja y que les llev\\xef\\xbf\\xbd al cuestionamiento de sus convicciones espirituales ante la realidad de la enfermedad y la muerte. Es esta una obra inapreciable de espiritualidad \"real\", que pone en tela de juicio la visi\\xef\\xbf\\xbdn de la \"Nueva Era\", que presenta los aspectos esenciales de las grandes tradiciones de sabidur\\xef\\xbf\\xbda del mundo entero, y que invita a la sanaci\\xef\\xbf\\xbdn, a la totalidad y a la armon\\xef\\xbf\\xbda, a la aceptaci\\xef\\xbf\\xbdn del sufrimiento y a la entrega final. Es esta una obra sobre la \"filosof\\xef\\xbf\\xbda perenne\" y la psicolog\\xef\\xbf\\xbda transpersonal, escrita por una mujer excepcional y por su esposo, uno de los m\\xef\\xbf\\xbds l\\xef\\xbf\\xbdcidos pensadores de nuestro tiempo, pero no es solo eso. Es un libro para apoyar y alentar a quienes padecen una enfermedad terminal y a sus acompa\\xef\\xbf\\xbdantes, pero es mucho m\\xef\\xbf\\xbds a\\xef\\xbf\\xbdn. Es una conmovedora historia de amor y una viva fuente de inspiraci\\xef\\xbf\\xbdn para quienes se encuentran recorriendo un camino espiritual o se hallan en busca de s\\xef\\xbf\\xbd mismos; un testimonio de como la transcendencia se hace real y encarna d\\xef\\xbf\\xbda a d\\xef\\xbf\\xbda en unas personas de este mundo, de este tiempo, llenando de sentido sus vidas; y una llamada a la esperanza ante el desaf\\xef\\xbf\\xbdo de la vida y de la muerte.', 'La abuela de Lili le revela a su nieta el misterio de las ballenas, las que regalan su canto a quien cree en la poes\\xef\\xbf\\xbda y la belleza.', ... ]"
       ]
      }
     ],
     "prompt_number": 6
    },
    {
     "cell_type": "code",
     "collapsed": false,
     "input": [
      "sf_train['Codigo_libro']"
     ],
     "language": "python",
     "metadata": {},
     "outputs": [
      {
       "metadata": {},
       "output_type": "pyout",
       "prompt_number": 7,
       "text": [
        "dtype: int\n",
        "Rows: 1332\n",
        "[2900000000787, 2900000000811, 2900000000819, 2900000001230, 2900000001232, 2900000001233, 2900000001256, 2900000001256, 2900000001278, 2900000001507, 2900000001562, 2900000002188, 2900000002363, 2900000002650, 2900000002711, 2900000002996, 2900000003172, 2900000003204, 2900000003263, 2900000004136, 2900000004573, 2900000004932, 2900000004935, 2900000004955, 2900000005654, 2900000053024, 2900000053455, 2900000053808, 2900000053835, 2900000053916, 2900000053932, 2900000054160, 2900000054162, 2900000054178, 2900000054184, 2900000054190, 2900000054191, 2900000054198, 2900000054219, 2900000054353, 2900000101528, 2900000109869, 2900000109883, 2900000109885, 2900000132117, 2900000132122, 2900000132123, 2900000132125, 2900000132127, 2900000140679, 2900000151295, 2900000151331, 2900000151334, 2900000156170, 2900000156171, 2900000156189, 2900000219472, 2900000219478, 2900000225821, 2900000225965, 2900000226201, 2900000287794, 2900000287820, 2900000289828, 2900000289955, 2900000289968, 2900000290021, 2900000290024, 2900000290071, 2900000290073, 2900000290074, 2900000290075, 2900000290079, 2900000290080, 2900000290081, 2900000290084, 2900000290087, 2900000290088, 2900000290097, 2900000320553, 2900000321813, 2900000339886, 2900000339889, 2900000339898, 2900000339899, 2900000339903, 2900000374602, 2900000374605, 2900000402014, 2900000438073, 2900000439959, 2900000439961, 2900000439964, 2900000439981, 2900000439986, 2900000460502, 2900000461434, 2900000461441, 2900000480292, 2900000480383, ... ]"
       ]
      }
     ],
     "prompt_number": 7
    },
    {
     "cell_type": "markdown",
     "metadata": {},
     "source": [
      "## Text Analytics (training set)"
     ]
    },
    {
     "cell_type": "code",
     "collapsed": false,
     "input": [
      "bow = graphlab.text_analytics.count_words(sf_train['descripcion'])\n",
      "bow = bow.dict_trim_by_keys(graphlab.text_analytics.stopwords(), exclude=True)\n",
      "#bow = bow.dict_trim_by_values(2)\n",
      "tf_idf = graphlab.text_analytics.tf_idf(bow)\n",
      "#\n",
      "model50 = graphlab.topic_model.create(tf_idf,50)\n",
      "model50.summary()\n",
      "sf_train['topic50'] = model50.predict(tf_idf)\n",
      "#\n",
      "model100 = graphlab.topic_model.create(tf_idf,100)\n",
      "model100.summary()\n",
      "sf_train['topic100'] = model100.predict(tf_idf)\n",
      "#\n",
      "model500 = graphlab.topic_model.create(tf_idf,500)\n",
      "model500.summary()\n",
      "sf_train['topic500'] = model500.predict(tf_idf)"
     ],
     "language": "python",
     "metadata": {},
     "outputs": [
      {
       "html": [
        "<pre>PROGRESS: Learning a topic model</pre>"
       ],
       "metadata": {},
       "output_type": "display_data",
       "text": [
        "PROGRESS: Learning a topic model"
       ]
      },
      {
       "html": [
        "<pre>PROGRESS:        Number of documents      1332</pre>"
       ],
       "metadata": {},
       "output_type": "display_data",
       "text": [
        "PROGRESS:        Number of documents      1332"
       ]
      },
      {
       "html": [
        "<pre>PROGRESS:            Vocabulary size     23583</pre>"
       ],
       "metadata": {},
       "output_type": "display_data",
       "text": [
        "PROGRESS:            Vocabulary size     23583"
       ]
      },
      {
       "html": [
        "<pre>PROGRESS:    Running collapsed Gibbs sampling</pre>"
       ],
       "metadata": {},
       "output_type": "display_data",
       "text": [
        "PROGRESS:    Running collapsed Gibbs sampling"
       ]
      },
      {
       "html": [
        "<pre>PROGRESS: +-----------+---------------+----------------+-----------------+</pre>"
       ],
       "metadata": {},
       "output_type": "display_data",
       "text": [
        "PROGRESS: +-----------+---------------+----------------+-----------------+"
       ]
      },
      {
       "html": [
        "<pre>PROGRESS: | Iteration | Elapsed Time  | Tokens/Second  | Est. Perplexity |</pre>"
       ],
       "metadata": {},
       "output_type": "display_data",
       "text": [
        "PROGRESS: | Iteration | Elapsed Time  | Tokens/Second  | Est. Perplexity |"
       ]
      },
      {
       "html": [
        "<pre>PROGRESS: +-----------+---------------+----------------+-----------------+</pre>"
       ],
       "metadata": {},
       "output_type": "display_data",
       "text": [
        "PROGRESS: +-----------+---------------+----------------+-----------------+"
       ]
      },
      {
       "html": [
        "<pre>PROGRESS: | 10        | 387.653ms     | 1.88532e+06    | 0               |</pre>"
       ],
       "metadata": {},
       "output_type": "display_data",
       "text": [
        "PROGRESS: | 10        | 387.653ms     | 1.88532e+06    | 0               |"
       ]
      },
      {
       "html": [
        "<pre>PROGRESS: +-----------+---------------+----------------+-----------------+</pre>"
       ],
       "metadata": {},
       "output_type": "display_data",
       "text": [
        "PROGRESS: +-----------+---------------+----------------+-----------------+"
       ]
      },
      {
       "html": [
        "<pre>PROGRESS: Learning a topic model</pre>"
       ],
       "metadata": {},
       "output_type": "display_data",
       "text": [
        "PROGRESS: Learning a topic model"
       ]
      },
      {
       "html": [
        "<pre>PROGRESS:        Number of documents      1332</pre>"
       ],
       "metadata": {},
       "output_type": "display_data",
       "text": [
        "PROGRESS:        Number of documents      1332"
       ]
      },
      {
       "html": [
        "<pre>PROGRESS:            Vocabulary size     23583</pre>"
       ],
       "metadata": {},
       "output_type": "display_data",
       "text": [
        "PROGRESS:            Vocabulary size     23583"
       ]
      },
      {
       "html": [
        "<pre>PROGRESS:    Running collapsed Gibbs sampling</pre>"
       ],
       "metadata": {},
       "output_type": "display_data",
       "text": [
        "PROGRESS:    Running collapsed Gibbs sampling"
       ]
      },
      {
       "html": [
        "<pre>PROGRESS: +-----------+---------------+----------------+-----------------+</pre>"
       ],
       "metadata": {},
       "output_type": "display_data",
       "text": [
        "PROGRESS: +-----------+---------------+----------------+-----------------+"
       ]
      },
      {
       "html": [
        "<pre>PROGRESS: | Iteration | Elapsed Time  | Tokens/Second  | Est. Perplexity |</pre>"
       ],
       "metadata": {},
       "output_type": "display_data",
       "text": [
        "PROGRESS: | Iteration | Elapsed Time  | Tokens/Second  | Est. Perplexity |"
       ]
      },
      {
       "html": [
        "<pre>PROGRESS: +-----------+---------------+----------------+-----------------+</pre>"
       ],
       "metadata": {},
       "output_type": "display_data",
       "text": [
        "PROGRESS: +-----------+---------------+----------------+-----------------+"
       ]
      },
      {
       "html": [
        "<pre>PROGRESS: | 10        | 730.067ms     | 1.02339e+06    | 0               |</pre>"
       ],
       "metadata": {},
       "output_type": "display_data",
       "text": [
        "PROGRESS: | 10        | 730.067ms     | 1.02339e+06    | 0               |"
       ]
      },
      {
       "html": [
        "<pre>PROGRESS: +-----------+---------------+----------------+-----------------+</pre>"
       ],
       "metadata": {},
       "output_type": "display_data",
       "text": [
        "PROGRESS: +-----------+---------------+----------------+-----------------+"
       ]
      },
      {
       "output_type": "stream",
       "stream": "stdout",
       "text": [
        "Topic Model\n",
        "  Data:\n",
        "      Vocabulary size:     23583\n",
        "  Settings:\n",
        "      Number of topics:    50\n",
        "      alpha:               1.0\n",
        "      beta:                0.1\n",
        "      Iterations:          10\n",
        "      Verbose:             False\n",
        "  Accessible fields:\n",
        "      m['topics']          An SFrame containing the topics.\n",
        "      m['vocabulary']      An SArray containing the topics.\n",
        "  Useful methods:\n",
        "      m.get_topics()       Get the most probable words per topic.\n",
        "      m.predict(new_docs)  Make predictions for new documents.\n",
        "\n",
        "Topic Model\n",
        "  Data:\n",
        "      Vocabulary size:     23583\n",
        "  Settings:\n",
        "      Number of topics:    100\n",
        "      alpha:               0.5\n",
        "      beta:                0.1\n",
        "      Iterations:          10\n",
        "      Verbose:             False\n",
        "  Accessible fields:\n",
        "      m['topics']          An SFrame containing the topics.\n",
        "      m['vocabulary']      An SArray containing the topics.\n",
        "  Useful methods:\n",
        "      m.get_topics()       Get the most probable words per topic.\n",
        "      m.predict(new_docs)  Make predictions for new documents.\n"
       ]
      },
      {
       "html": [
        "<pre>PROGRESS: Learning a topic model</pre>"
       ],
       "metadata": {},
       "output_type": "display_data",
       "text": [
        "PROGRESS: Learning a topic model"
       ]
      },
      {
       "html": [
        "<pre>PROGRESS:        Number of documents      1332</pre>"
       ],
       "metadata": {},
       "output_type": "display_data",
       "text": [
        "PROGRESS:        Number of documents      1332"
       ]
      },
      {
       "html": [
        "<pre>PROGRESS:            Vocabulary size     23583</pre>"
       ],
       "metadata": {},
       "output_type": "display_data",
       "text": [
        "PROGRESS:            Vocabulary size     23583"
       ]
      },
      {
       "html": [
        "<pre>PROGRESS:    Running collapsed Gibbs sampling</pre>"
       ],
       "metadata": {},
       "output_type": "display_data",
       "text": [
        "PROGRESS:    Running collapsed Gibbs sampling"
       ]
      },
      {
       "html": [
        "<pre>PROGRESS: +-----------+---------------+----------------+-----------------+</pre>"
       ],
       "metadata": {},
       "output_type": "display_data",
       "text": [
        "PROGRESS: +-----------+---------------+----------------+-----------------+"
       ]
      },
      {
       "html": [
        "<pre>PROGRESS: | Iteration | Elapsed Time  | Tokens/Second  | Est. Perplexity |</pre>"
       ],
       "metadata": {},
       "output_type": "display_data",
       "text": [
        "PROGRESS: | Iteration | Elapsed Time  | Tokens/Second  | Est. Perplexity |"
       ]
      },
      {
       "html": [
        "<pre>PROGRESS: +-----------+---------------+----------------+-----------------+</pre>"
       ],
       "metadata": {},
       "output_type": "display_data",
       "text": [
        "PROGRESS: +-----------+---------------+----------------+-----------------+"
       ]
      },
      {
       "html": [
        "<pre>PROGRESS: | 10        | 3.64s         | 194390         | 0               |</pre>"
       ],
       "metadata": {},
       "output_type": "display_data",
       "text": [
        "PROGRESS: | 10        | 3.64s         | 194390         | 0               |"
       ]
      },
      {
       "html": [
        "<pre>PROGRESS: +-----------+---------------+----------------+-----------------+</pre>"
       ],
       "metadata": {},
       "output_type": "display_data",
       "text": [
        "PROGRESS: +-----------+---------------+----------------+-----------------+"
       ]
      },
      {
       "output_type": "stream",
       "stream": "stdout",
       "text": [
        "\n",
        "Topic Model\n",
        "  Data:\n",
        "      Vocabulary size:     23583\n",
        "  Settings:\n",
        "      Number of topics:    500\n",
        "      alpha:               0.1\n",
        "      beta:                0.1\n",
        "      Iterations:          10\n",
        "      Verbose:             False\n",
        "  Accessible fields:\n",
        "      m['topics']          An SFrame containing the topics.\n",
        "      m['vocabulary']      An SArray containing the topics.\n",
        "  Useful methods:\n",
        "      m.get_topics()       Get the most probable words per topic.\n",
        "      m.predict(new_docs)  Make predictions for new documents.\n"
       ]
      },
      {
       "output_type": "stream",
       "stream": "stdout",
       "text": [
        "\n"
       ]
      }
     ],
     "prompt_number": 12
    },
    {
     "cell_type": "code",
     "collapsed": false,
     "input": [
      "model50.get_topics().show()"
     ],
     "language": "python",
     "metadata": {},
     "outputs": [],
     "prompt_number": 13
    },
    {
     "cell_type": "code",
     "collapsed": false,
     "input": [
      "model50.get_topics()"
     ],
     "language": "python",
     "metadata": {},
     "outputs": [
      {
       "html": [
        "<div style=\"max-height:1000px;max-width:1500px;overflow:auto;\"><table frame=\"box\" rules=\"cols\">\n",
        "    <tr>\n",
        "        <th style=\"padding-left: 1em; padding-right: 1em; text-align: center\">topic</th>\n",
        "        <th style=\"padding-left: 1em; padding-right: 1em; text-align: center\">word</th>\n",
        "        <th style=\"padding-left: 1em; padding-right: 1em; text-align: center\">score</th>\n",
        "    </tr>\n",
        "    <tr>\n",
        "        <td style=\"padding-left: 1em; padding-right: 1em; text-align: center; vertical-align: top\">0</td>\n",
        "        <td style=\"padding-left: 1em; padding-right: 1em; text-align: center; vertical-align: top\">des</td>\n",
        "        <td style=\"padding-left: 1em; padding-right: 1em; text-align: center; vertical-align: top\">0.0119592499631</td>\n",
        "    </tr>\n",
        "    <tr>\n",
        "        <td style=\"padding-left: 1em; padding-right: 1em; text-align: center; vertical-align: top\">0</td>\n",
        "        <td style=\"padding-left: 1em; padding-right: 1em; text-align: center; vertical-align: top\">tohru</td>\n",
        "        <td style=\"padding-left: 1em; padding-right: 1em; text-align: center; vertical-align: top\">0.0107512449163</td>\n",
        "    </tr>\n",
        "    <tr>\n",
        "        <td style=\"padding-left: 1em; padding-right: 1em; text-align: center; vertical-align: top\">0</td>\n",
        "        <td style=\"padding-left: 1em; padding-right: 1em; text-align: center; vertical-align: top\">sohma</td>\n",
        "        <td style=\"padding-left: 1em; padding-right: 1em; text-align: center; vertical-align: top\">0.0107512449163</td>\n",
        "    </tr>\n",
        "    <tr>\n",
        "        <td style=\"padding-left: 1em; padding-right: 1em; text-align: center; vertical-align: top\">0</td>\n",
        "        <td style=\"padding-left: 1em; padding-right: 1em; text-align: center; vertical-align: top\">iv</td>\n",
        "        <td style=\"padding-left: 1em; padding-right: 1em; text-align: center; vertical-align: top\">0.0106170221333</td>\n",
        "    </tr>\n",
        "    <tr>\n",
        "        <td style=\"padding-left: 1em; padding-right: 1em; text-align: center; vertical-align: top\">0</td>\n",
        "        <td style=\"padding-left: 1em; padding-right: 1em; text-align: center; vertical-align: top\">jesus</td>\n",
        "        <td style=\"padding-left: 1em; padding-right: 1em; text-align: center; vertical-align: top\">0.00994590821846</td>\n",
        "    </tr>\n",
        "    <tr>\n",
        "        <td style=\"padding-left: 1em; padding-right: 1em; text-align: center; vertical-align: top\">1</td>\n",
        "        <td style=\"padding-left: 1em; padding-right: 1em; text-align: center; vertical-align: top\">el</td>\n",
        "        <td style=\"padding-left: 1em; padding-right: 1em; text-align: center; vertical-align: top\">0.0371988428696</td>\n",
        "    </tr>\n",
        "    <tr>\n",
        "        <td style=\"padding-left: 1em; padding-right: 1em; text-align: center; vertical-align: top\">1</td>\n",
        "        <td style=\"padding-left: 1em; padding-right: 1em; text-align: center; vertical-align: top\">la</td>\n",
        "        <td style=\"padding-left: 1em; padding-right: 1em; text-align: center; vertical-align: top\">0.0351593737756</td>\n",
        "    </tr>\n",
        "    <tr>\n",
        "        <td style=\"padding-left: 1em; padding-right: 1em; text-align: center; vertical-align: top\">1</td>\n",
        "        <td style=\"padding-left: 1em; padding-right: 1em; text-align: center; vertical-align: top\">los</td>\n",
        "        <td style=\"padding-left: 1em; padding-right: 1em; text-align: center; vertical-align: top\">0.0283432533826</td>\n",
        "    </tr>\n",
        "    <tr>\n",
        "        <td style=\"padding-left: 1em; padding-right: 1em; text-align: center; vertical-align: top\">1</td>\n",
        "        <td style=\"padding-left: 1em; padding-right: 1em; text-align: center; vertical-align: top\">con</td>\n",
        "        <td style=\"padding-left: 1em; padding-right: 1em; text-align: center; vertical-align: top\">0.0251230390236</td>\n",
        "    </tr>\n",
        "    <tr>\n",
        "        <td style=\"padding-left: 1em; padding-right: 1em; text-align: center; vertical-align: top\">1</td>\n",
        "        <td style=\"padding-left: 1em; padding-right: 1em; text-align: center; vertical-align: top\">libro</td>\n",
        "        <td style=\"padding-left: 1em; padding-right: 1em; text-align: center; vertical-align: top\">0.0120275006306</td>\n",
        "    </tr>\n",
        "    <tr>\n",
        "        <td style=\"padding-left: 1em; padding-right: 1em; text-align: center; vertical-align: top\">...</td>\n",
        "        <td style=\"padding-left: 1em; padding-right: 1em; text-align: center; vertical-align: top\">...</td>\n",
        "        <td style=\"padding-left: 1em; padding-right: 1em; text-align: center; vertical-align: top\">...</td>\n",
        "    </tr>\n",
        "</table>\n",
        "[250 rows x 3 columns]<br/>Note: Only the head of the SFrame is printed.<br/>You can use print_rows(num_rows=m, num_columns=n) to print more rows and columns.\n",
        "</div>"
       ],
       "metadata": {},
       "output_type": "pyout",
       "prompt_number": 14,
       "text": [
        "Columns:\n",
        "\ttopic\tint\n",
        "\tword\tstr\n",
        "\tscore\tfloat\n",
        "\n",
        "Rows: 250\n",
        "\n",
        "Data:\n",
        "+-------+-------+------------------+\n",
        "| topic |  word |      score       |\n",
        "+-------+-------+------------------+\n",
        "|   0   |  des  | 0.0119592499631  |\n",
        "|   0   | tohru | 0.0107512449163  |\n",
        "|   0   | sohma | 0.0107512449163  |\n",
        "|   0   |   iv  | 0.0106170221333  |\n",
        "|   0   | jesus | 0.00994590821846 |\n",
        "|   1   |   el  | 0.0371988428696  |\n",
        "|   1   |   la  | 0.0351593737756  |\n",
        "|   1   |  los  | 0.0283432533826  |\n",
        "|   1   |  con  | 0.0251230390236  |\n",
        "|   1   | libro | 0.0120275006306  |\n",
        "|  ...  |  ...  |       ...        |\n",
        "+-------+-------+------------------+\n",
        "[250 rows x 3 columns]\n",
        "Note: Only the head of the SFrame is printed.\n",
        "You can use print_rows(num_rows=m, num_columns=n) to print more rows and columns."
       ]
      }
     ],
     "prompt_number": 14
    },
    {
     "cell_type": "code",
     "collapsed": false,
     "input": [
      "topics = model50.get_topics(output_type='topic_words')\n",
      "topics.show()"
     ],
     "language": "python",
     "metadata": {},
     "outputs": [],
     "prompt_number": 11
    },
    {
     "cell_type": "code",
     "collapsed": false,
     "input": [
      "model100.get_topics()"
     ],
     "language": "python",
     "metadata": {},
     "outputs": [
      {
       "html": [
        "<div style=\"max-height:1000px;max-width:1500px;overflow:auto;\"><table frame=\"box\" rules=\"cols\">\n",
        "    <tr>\n",
        "        <th style=\"padding-left: 1em; padding-right: 1em; text-align: center\">topic</th>\n",
        "        <th style=\"padding-left: 1em; padding-right: 1em; text-align: center\">word</th>\n",
        "        <th style=\"padding-left: 1em; padding-right: 1em; text-align: center\">score</th>\n",
        "    </tr>\n",
        "    <tr>\n",
        "        <td style=\"padding-left: 1em; padding-right: 1em; text-align: center; vertical-align: top\">0</td>\n",
        "        <td style=\"padding-left: 1em; padding-right: 1em; text-align: center; vertical-align: top\">conyugal</td>\n",
        "        <td style=\"padding-left: 1em; padding-right: 1em; text-align: center; vertical-align: top\">0.0130435758705</td>\n",
        "    </tr>\n",
        "    <tr>\n",
        "        <td style=\"padding-left: 1em; padding-right: 1em; text-align: center; vertical-align: top\">0</td>\n",
        "        <td style=\"padding-left: 1em; padding-right: 1em; text-align: center; vertical-align: top\">city</td>\n",
        "        <td style=\"padding-left: 1em; padding-right: 1em; text-align: center; vertical-align: top\">0.0112475585389</td>\n",
        "    </tr>\n",
        "    <tr>\n",
        "        <td style=\"padding-left: 1em; padding-right: 1em; text-align: center; vertical-align: top\">0</td>\n",
        "        <td style=\"padding-left: 1em; padding-right: 1em; text-align: center; vertical-align: top\">s\\xef\\xbf\\xbdndrome</td>\n",
        "        <td style=\"padding-left: 1em; padding-right: 1em; text-align: center; vertical-align: top\">0.00967604337382</td>\n",
        "    </tr>\n",
        "    <tr>\n",
        "        <td style=\"padding-left: 1em; padding-right: 1em; text-align: center; vertical-align: top\">0</td>\n",
        "        <td style=\"padding-left: 1em; padding-right: 1em; text-align: center; vertical-align: top\">burbuja</td>\n",
        "        <td style=\"padding-left: 1em; padding-right: 1em; text-align: center; vertical-align: top\">0.00788002604225</td>\n",
        "    </tr>\n",
        "    <tr>\n",
        "        <td style=\"padding-left: 1em; padding-right: 1em; text-align: center; vertical-align: top\">0</td>\n",
        "        <td style=\"padding-left: 1em; padding-right: 1em; text-align: center; vertical-align: top\">anel</td>\n",
        "        <td style=\"padding-left: 1em; padding-right: 1em; text-align: center; vertical-align: top\">0.00630851087713</td>\n",
        "    </tr>\n",
        "    <tr>\n",
        "        <td style=\"padding-left: 1em; padding-right: 1em; text-align: center; vertical-align: top\">1</td>\n",
        "        <td style=\"padding-left: 1em; padding-right: 1em; text-align: center; vertical-align: top\">br</td>\n",
        "        <td style=\"padding-left: 1em; padding-right: 1em; text-align: center; vertical-align: top\">0.0445943836401</td>\n",
        "    </tr>\n",
        "    <tr>\n",
        "        <td style=\"padding-left: 1em; padding-right: 1em; text-align: center; vertical-align: top\">1</td>\n",
        "        <td style=\"padding-left: 1em; padding-right: 1em; text-align: center; vertical-align: top\">named</td>\n",
        "        <td style=\"padding-left: 1em; padding-right: 1em; text-align: center; vertical-align: top\">0.00764921166288</td>\n",
        "    </tr>\n",
        "    <tr>\n",
        "        <td style=\"padding-left: 1em; padding-right: 1em; text-align: center; vertical-align: top\">1</td>\n",
        "        <td style=\"padding-left: 1em; padding-right: 1em; text-align: center; vertical-align: top\">author</td>\n",
        "        <td style=\"padding-left: 1em; padding-right: 1em; text-align: center; vertical-align: top\">0.0066085025931</td>\n",
        "    </tr>\n",
        "    <tr>\n",
        "        <td style=\"padding-left: 1em; padding-right: 1em; text-align: center; vertical-align: top\">1</td>\n",
        "        <td style=\"padding-left: 1em; padding-right: 1em; text-align: center; vertical-align: top\">tale</td>\n",
        "        <td style=\"padding-left: 1em; padding-right: 1em; text-align: center; vertical-align: top\">0.00626159956984</td>\n",
        "    </tr>\n",
        "    <tr>\n",
        "        <td style=\"padding-left: 1em; padding-right: 1em; text-align: center; vertical-align: top\">1</td>\n",
        "        <td style=\"padding-left: 1em; padding-right: 1em; text-align: center; vertical-align: top\">questions</td>\n",
        "        <td style=\"padding-left: 1em; padding-right: 1em; text-align: center; vertical-align: top\">0.00556779352332</td>\n",
        "    </tr>\n",
        "    <tr>\n",
        "        <td style=\"padding-left: 1em; padding-right: 1em; text-align: center; vertical-align: top\">...</td>\n",
        "        <td style=\"padding-left: 1em; padding-right: 1em; text-align: center; vertical-align: top\">...</td>\n",
        "        <td style=\"padding-left: 1em; padding-right: 1em; text-align: center; vertical-align: top\">...</td>\n",
        "    </tr>\n",
        "</table>\n",
        "[500 rows x 3 columns]<br/>Note: Only the head of the SFrame is printed.<br/>You can use print_rows(num_rows=m, num_columns=n) to print more rows and columns.\n",
        "</div>"
       ],
       "metadata": {},
       "output_type": "pyout",
       "prompt_number": 15,
       "text": [
        "Columns:\n",
        "\ttopic\tint\n",
        "\tword\tstr\n",
        "\tscore\tfloat\n",
        "\n",
        "Rows: 500\n",
        "\n",
        "Data:\n",
        "+-------+---------------------+------------------+\n",
        "| topic |         word        |      score       |\n",
        "+-------+---------------------+------------------+\n",
        "|   0   |       conyugal      | 0.0130435758705  |\n",
        "|   0   |         city        | 0.0112475585389  |\n",
        "|   0   | s\\xef\\xbf\\xbdndrome | 0.00967604337382 |\n",
        "|   0   |       burbuja       | 0.00788002604225 |\n",
        "|   0   |         anel        | 0.00630851087713 |\n",
        "|   1   |          br         | 0.0445943836401  |\n",
        "|   1   |        named        | 0.00764921166288 |\n",
        "|   1   |        author       | 0.0066085025931  |\n",
        "|   1   |         tale        | 0.00626159956984 |\n",
        "|   1   |      questions      | 0.00556779352332 |\n",
        "|  ...  |         ...         |       ...        |\n",
        "+-------+---------------------+------------------+\n",
        "[500 rows x 3 columns]\n",
        "Note: Only the head of the SFrame is printed.\n",
        "You can use print_rows(num_rows=m, num_columns=n) to print more rows and columns."
       ]
      }
     ],
     "prompt_number": 15
    },
    {
     "cell_type": "code",
     "collapsed": false,
     "input": [
      "sf_train['topic100']"
     ],
     "language": "python",
     "metadata": {},
     "outputs": [
      {
       "metadata": {},
       "output_type": "pyout",
       "prompt_number": 16,
       "text": [
        "dtype: int\n",
        "Rows: 1332\n",
        "[17, 70, 56, 37, 51, 1, 62, 4, 30, 11, 29, 53, 94, 40, 94, 15, 57, 54, 25, 50, 49, 49, 49, 49, 80, 50, 58, 99, 53, 53, 60, 30, 8, 43, 4, 15, 43, 15, 93, 93, 3, 91, 98, 18, 19, 75, 75, 21, 19, 66, 48, 36, 81, 94, 2, 40, 48, 65, 48, 26, 28, 65, 39, 16, 42, 91, 55, 31, 72, 62, 83, 74, 19, 7, 95, 92, 18, 13, 35, 20, 39, 18, 46, 46, 79, 39, 92, 47, 94, 81, 38, 48, 33, 28, 38, 36, 80, 8, 33, 92, ... ]"
       ]
      }
     ],
     "prompt_number": 16
    },
    {
     "cell_type": "code",
     "collapsed": false,
     "input": [
      "model100.get_topics([17])"
     ],
     "language": "python",
     "metadata": {},
     "outputs": [
      {
       "html": [
        "<div style=\"max-height:1000px;max-width:1500px;overflow:auto;\"><table frame=\"box\" rules=\"cols\">\n",
        "    <tr>\n",
        "        <th style=\"padding-left: 1em; padding-right: 1em; text-align: center\">topic</th>\n",
        "        <th style=\"padding-left: 1em; padding-right: 1em; text-align: center\">word</th>\n",
        "        <th style=\"padding-left: 1em; padding-right: 1em; text-align: center\">score</th>\n",
        "    </tr>\n",
        "    <tr>\n",
        "        <td style=\"padding-left: 1em; padding-right: 1em; text-align: center; vertical-align: top\">17</td>\n",
        "        <td style=\"padding-left: 1em; padding-right: 1em; text-align: center; vertical-align: top\">idioms</td>\n",
        "        <td style=\"padding-left: 1em; padding-right: 1em; text-align: center; vertical-align: top\">0.0109321181781</td>\n",
        "    </tr>\n",
        "    <tr>\n",
        "        <td style=\"padding-left: 1em; padding-right: 1em; text-align: center; vertical-align: top\">17</td>\n",
        "        <td style=\"padding-left: 1em; padding-right: 1em; text-align: center; vertical-align: top\">metro</td>\n",
        "        <td style=\"padding-left: 1em; padding-right: 1em; text-align: center; vertical-align: top\">0.0090066961898</td>\n",
        "    </tr>\n",
        "    <tr>\n",
        "        <td style=\"padding-left: 1em; padding-right: 1em; text-align: center; vertical-align: top\">17</td>\n",
        "        <td style=\"padding-left: 1em; padding-right: 1em; text-align: center; vertical-align: top\">poems</td>\n",
        "        <td style=\"padding-left: 1em; padding-right: 1em; text-align: center; vertical-align: top\">0.00879276041332</td>\n",
        "    </tr>\n",
        "    <tr>\n",
        "        <td style=\"padding-left: 1em; padding-right: 1em; text-align: center; vertical-align: top\">17</td>\n",
        "        <td style=\"padding-left: 1em; padding-right: 1em; text-align: center; vertical-align: top\">joan</td>\n",
        "        <td style=\"padding-left: 1em; padding-right: 1em; text-align: center; vertical-align: top\">0.00836488886036</td>\n",
        "    </tr>\n",
        "    <tr>\n",
        "        <td style=\"padding-left: 1em; padding-right: 1em; text-align: center; vertical-align: top\">17</td>\n",
        "        <td style=\"padding-left: 1em; padding-right: 1em; text-align: center; vertical-align: top\">marketing</td>\n",
        "        <td style=\"padding-left: 1em; padding-right: 1em; text-align: center; vertical-align: top\">0.00558372376613</td>\n",
        "    </tr>\n",
        "</table>\n",
        "[5 rows x 3 columns]<br/>\n",
        "</div>"
       ],
       "metadata": {},
       "output_type": "pyout",
       "prompt_number": 17,
       "text": [
        "Columns:\n",
        "\ttopic\tint\n",
        "\tword\tstr\n",
        "\tscore\tfloat\n",
        "\n",
        "Rows: 5\n",
        "\n",
        "Data:\n",
        "+-------+-----------+------------------+\n",
        "| topic |    word   |      score       |\n",
        "+-------+-----------+------------------+\n",
        "|   17  |   idioms  | 0.0109321181781  |\n",
        "|   17  |   metro   | 0.0090066961898  |\n",
        "|   17  |   poems   | 0.00879276041332 |\n",
        "|   17  |    joan   | 0.00836488886036 |\n",
        "|   17  | marketing | 0.00558372376613 |\n",
        "+-------+-----------+------------------+\n",
        "[5 rows x 3 columns]"
       ]
      }
     ],
     "prompt_number": 17
    },
    {
     "cell_type": "code",
     "collapsed": false,
     "input": [
      "import operator\n",
      "x = tf_idf[0]\n",
      "sorted_x = sorted(x.items(), key=operator.itemgetter(1), reverse=True)\n",
      "print sorted_x[0:9]\n",
      "#print type(sorted_x)"
     ],
     "language": "python",
     "metadata": {},
     "outputs": [
      {
       "output_type": "stream",
       "stream": "stdout",
       "text": [
        "[('illiterate', 7.194436851100335), ('coverdale', 7.194436851100335), ('melinda', 7.194436851100335), ('parchman', 7.194436851100335), ('jacqueline', 7.194436851100335), ('eunice', 7.194436851100335), ('giles', 7.194436851100335), ('february', 7.194436851100335), ('shot', 6.501289670540389)]\n",
        "<type 'list'>\n"
       ]
      }
     ],
     "prompt_number": 28
    },
    {
     "cell_type": "code",
     "collapsed": false,
     "input": [
      "sf_train[0]"
     ],
     "language": "python",
     "metadata": {},
     "outputs": [
      {
       "metadata": {},
       "output_type": "pyout",
       "prompt_number": 19,
       "text": [
        "{'Codigo_libro': 2900000000787,\n",
        " 'descripcion': \"Four members of the Coverdale family - George, Jacqueline, Melinda and Giles - died in the space of fifteen minutes on the 14th February, St Valentine's Day. Eunice Parchman, the illiterate housekeeper, shot them down on a Sunday evening while they were watching opera on television. Two weeks later she was arrested for the crime. But the tragedy neither began nor ended there.\",\n",
        " 'topic100': 17,\n",
        " 'topic50': 18,\n",
        " 'topic500': 41}"
       ]
      }
     ],
     "prompt_number": 19
    },
    {
     "cell_type": "code",
     "collapsed": false,
     "input": [
      "sf_train[sf_train[\"Codigo_libro\"]==2900000000787]"
     ],
     "language": "python",
     "metadata": {},
     "outputs": [
      {
       "html": [
        "<div style=\"max-height:1000px;max-width:1500px;overflow:auto;\"><table frame=\"box\" rules=\"cols\">\n",
        "    <tr>\n",
        "        <th style=\"padding-left: 1em; padding-right: 1em; text-align: center\">Codigo_libro</th>\n",
        "        <th style=\"padding-left: 1em; padding-right: 1em; text-align: center\">descripcion</th>\n",
        "        <th style=\"padding-left: 1em; padding-right: 1em; text-align: center\">topic50</th>\n",
        "        <th style=\"padding-left: 1em; padding-right: 1em; text-align: center\">topic100</th>\n",
        "        <th style=\"padding-left: 1em; padding-right: 1em; text-align: center\">topic500</th>\n",
        "    </tr>\n",
        "    <tr>\n",
        "        <td style=\"padding-left: 1em; padding-right: 1em; text-align: center; vertical-align: top\">2900000000787</td>\n",
        "        <td style=\"padding-left: 1em; padding-right: 1em; text-align: center; vertical-align: top\">Four members of the<br>Coverdale family - ...</td>\n",
        "        <td style=\"padding-left: 1em; padding-right: 1em; text-align: center; vertical-align: top\">18</td>\n",
        "        <td style=\"padding-left: 1em; padding-right: 1em; text-align: center; vertical-align: top\">17</td>\n",
        "        <td style=\"padding-left: 1em; padding-right: 1em; text-align: center; vertical-align: top\">41</td>\n",
        "    </tr>\n",
        "</table>\n",
        "[? rows x 5 columns]<br/>Note: Only the head of the SFrame is printed. This SFrame is lazily evaluated.<br/>You can use len(sf) to force materialization.\n",
        "</div>"
       ],
       "metadata": {},
       "output_type": "pyout",
       "prompt_number": 21,
       "text": [
        "Columns:\n",
        "\tCodigo_libro\tint\n",
        "\tdescripcion\tstr\n",
        "\ttopic50\tint\n",
        "\ttopic100\tint\n",
        "\ttopic500\tint\n",
        "\n",
        "Rows: Unknown\n",
        "\n",
        "Data:\n",
        "+---------------+--------------------------------+---------+----------+----------+\n",
        "|  Codigo_libro |          descripcion           | topic50 | topic100 | topic500 |\n",
        "+---------------+--------------------------------+---------+----------+----------+\n",
        "| 2900000000787 | Four members of the Coverd ... |    18   |    17    |    41    |\n",
        "+---------------+--------------------------------+---------+----------+----------+\n",
        "[? rows x 5 columns]\n",
        "Note: Only the head of the SFrame is printed. This SFrame is lazily evaluated.\n",
        "You can use len(sf) to force materialization."
       ]
      }
     ],
     "prompt_number": 21
    },
    {
     "cell_type": "code",
     "collapsed": false,
     "input": [
      "print model50.get_topics([18])\n",
      "print model100.get_topics([17])\n",
      "print model500.get_topics([41])"
     ],
     "language": "python",
     "metadata": {},
     "outputs": [
      {
       "output_type": "stream",
       "stream": "stdout",
       "text": [
        "+-------+----------+------------------+\n",
        "| topic |   word   |      score       |\n",
        "+-------+----------+------------------+\n",
        "|   18  | feedback | 0.0131971378467  |\n",
        "|   18  |  state   | 0.0111490854166  |\n",
        "|   18  | galileo  | 0.00769299694072 |\n",
        "|   18  | personal | 0.00692497727942 |\n",
        "|   18  |  auster  |  0.006284960895  |\n",
        "+-------+----------+------------------+\n",
        "[5 rows x 3 columns]\n",
        "\n",
        "+-------+-----------+------------------+\n",
        "| topic |    word   |      score       |\n",
        "+-------+-----------+------------------+\n",
        "|   17  |   idioms  | 0.0109321181781  |\n",
        "|   17  |   metro   | 0.0090066961898  |\n",
        "|   17  |   poems   | 0.00879276041332 |\n",
        "|   17  |    joan   | 0.00836488886036 |\n",
        "|   17  | marketing | 0.00558372376613 |\n",
        "+-------+-----------+------------------+\n",
        "[5 rows x 3 columns]\n",
        "\n",
        "+-------+------------------+------------------+\n",
        "| topic |       word       |      score       |\n",
        "+-------+------------------+------------------+\n",
        "|   41  |     rupturas     | 0.00893461004521 |\n",
        "|   41  |     recetas      | 0.0078667283665  |\n",
        "|   41  | ren\\xef\\xbf\\xbde | 0.00751076780693 |\n",
        "|   41  |    paradigmas    | 0.00501904388994 |\n",
        "|   41  |      mitos       | 0.00395116221123 |\n",
        "+-------+------------------+------------------+\n",
        "[5 rows x 3 columns]\n",
        "\n"
       ]
      }
     ],
     "prompt_number": 22
    },
    {
     "cell_type": "code",
     "collapsed": false,
     "input": [
      "sf_train[1]"
     ],
     "language": "python",
     "metadata": {},
     "outputs": [
      {
       "metadata": {},
       "output_type": "pyout",
       "prompt_number": 29,
       "text": [
        "{'Codigo_libro': 2900000000811,\n",
        " 'descripcion': \"Set in the Gulf Stream off the toast of Havana, Hemingway's magnificent fable is the story of an old man, a young boy and a giant fish. In a perfectly crafted story, which won for Hemingway the Nobel Prize for Literature, is a unique and timeless vision of the beauty and grief of man's challenge to the elements in which he lives.\",\n",
        " 'topic100': 70,\n",
        " 'topic50': 47,\n",
        " 'topic500': 165}"
       ]
      }
     ],
     "prompt_number": 29
    },
    {
     "cell_type": "code",
     "collapsed": false,
     "input": [
      "sf_train[sf_train[\"Codigo_libro\"]==2900000000811]"
     ],
     "language": "python",
     "metadata": {},
     "outputs": [
      {
       "html": [
        "<div style=\"max-height:1000px;max-width:1500px;overflow:auto;\"><table frame=\"box\" rules=\"cols\">\n",
        "    <tr>\n",
        "        <th style=\"padding-left: 1em; padding-right: 1em; text-align: center\">Codigo_libro</th>\n",
        "        <th style=\"padding-left: 1em; padding-right: 1em; text-align: center\">descripcion</th>\n",
        "        <th style=\"padding-left: 1em; padding-right: 1em; text-align: center\">topic50</th>\n",
        "        <th style=\"padding-left: 1em; padding-right: 1em; text-align: center\">topic100</th>\n",
        "        <th style=\"padding-left: 1em; padding-right: 1em; text-align: center\">topic500</th>\n",
        "    </tr>\n",
        "    <tr>\n",
        "        <td style=\"padding-left: 1em; padding-right: 1em; text-align: center; vertical-align: top\">2900000000811</td>\n",
        "        <td style=\"padding-left: 1em; padding-right: 1em; text-align: center; vertical-align: top\">Set in the Gulf Stream<br>off the toast of Hava ...</td>\n",
        "        <td style=\"padding-left: 1em; padding-right: 1em; text-align: center; vertical-align: top\">47</td>\n",
        "        <td style=\"padding-left: 1em; padding-right: 1em; text-align: center; vertical-align: top\">70</td>\n",
        "        <td style=\"padding-left: 1em; padding-right: 1em; text-align: center; vertical-align: top\">165</td>\n",
        "    </tr>\n",
        "</table>\n",
        "[? rows x 5 columns]<br/>Note: Only the head of the SFrame is printed. This SFrame is lazily evaluated.<br/>You can use len(sf) to force materialization.\n",
        "</div>"
       ],
       "metadata": {},
       "output_type": "pyout",
       "prompt_number": 30,
       "text": [
        "Columns:\n",
        "\tCodigo_libro\tint\n",
        "\tdescripcion\tstr\n",
        "\ttopic50\tint\n",
        "\ttopic100\tint\n",
        "\ttopic500\tint\n",
        "\n",
        "Rows: Unknown\n",
        "\n",
        "Data:\n",
        "+---------------+--------------------------------+---------+----------+----------+\n",
        "|  Codigo_libro |          descripcion           | topic50 | topic100 | topic500 |\n",
        "+---------------+--------------------------------+---------+----------+----------+\n",
        "| 2900000000811 | Set in the Gulf Stream off ... |    47   |    70    |   165    |\n",
        "+---------------+--------------------------------+---------+----------+----------+\n",
        "[? rows x 5 columns]\n",
        "Note: Only the head of the SFrame is printed. This SFrame is lazily evaluated.\n",
        "You can use len(sf) to force materialization."
       ]
      }
     ],
     "prompt_number": 30
    },
    {
     "cell_type": "code",
     "collapsed": false,
     "input": [
      "import operator\n",
      "x = tf_idf[1]\n",
      "sorted_x = sorted(x.items(), key=operator.itemgetter(1), reverse=True)\n",
      "print sorted_x[0:9]\n",
      "#print type(sorted_x)"
     ],
     "language": "python",
     "metadata": {},
     "outputs": [
      {
       "output_type": "stream",
       "stream": "stdout",
       "text": [
        "[('hemingway', 13.002579341080779), ('toast', 7.194436851100335), ('fable', 6.501289670540389), ('gulf', 6.501289670540389), ('perfectly', 6.501289670540389), ('grief', 6.501289670540389), ('man', 6.182084906716632), ('nobel', 6.095824562432225), ('havana', 6.095824562432225)]\n"
       ]
      }
     ],
     "prompt_number": 31
    },
    {
     "cell_type": "code",
     "collapsed": false,
     "input": [
      "print model50.get_topics([47])\n",
      "print model100.get_topics([70])\n",
      "print model500.get_topics([165])"
     ],
     "language": "python",
     "metadata": {},
     "outputs": [
      {
       "output_type": "stream",
       "stream": "stdout",
       "text": [
        "+-------+---------+------------------+\n",
        "| topic |   word  |      score       |\n",
        "+-------+---------+------------------+\n",
        "|   47  | spanish | 0.0144482088179  |\n",
        "|   47  |  moral  | 0.00885986052414 |\n",
        "|   47  |  school | 0.00699707775954 |\n",
        "|   47  |   zone  | 0.00618211030003 |\n",
        "|   47  |  arthur | 0.00583283853166 |\n",
        "+-------+---------+------------------+\n",
        "[5 rows x 3 columns]\n",
        "\n",
        "+-------+---------+------------------+\n",
        "| topic |   word  |      score       |\n",
        "+-------+---------+------------------+\n",
        "|   70  | century | 0.0114685390079  |\n",
        "|   70  | thought | 0.0086384647521  |\n",
        "|   70  |  small  | 0.0080994029891  |\n",
        "|   70  |  public | 0.0075603412261  |\n",
        "|   70  |   body  | 0.00688651402235 |\n",
        "+-------+---------+------------------+\n",
        "[5 rows x 3 columns]\n",
        "\n",
        "+-------+-----------+------------------+\n",
        "| topic |    word   |      score       |\n",
        "+-------+-----------+------------------+\n",
        "|  165  |   young   | 0.0144557117488  |\n",
        "|  165  |   story   | 0.0124641096709  |\n",
        "|  165  | elizabeth | 0.0118002423116  |\n",
        "|  165  |    love   | 0.0114683086319  |\n",
        "|  165  |   mother  | 0.00881283919473 |\n",
        "+-------+-----------+------------------+\n",
        "[5 rows x 3 columns]\n",
        "\n"
       ]
      }
     ],
     "prompt_number": 32
    },
    {
     "cell_type": "markdown",
     "metadata": {},
     "source": [
      "## Train the classifier"
     ]
    },
    {
     "cell_type": "code",
     "collapsed": false,
     "input": [
      "model = graphlab.boosted_trees_classifier.create(sf_train, 'categories', features=['topic50','topic100','topic500'], verbose=True, max_iterations=17)"
     ],
     "language": "python",
     "metadata": {},
     "outputs": [
      {
       "html": [
        "<pre>PROGRESS: Boosted trees classifier:</pre>"
       ],
       "metadata": {},
       "output_type": "display_data",
       "text": [
        "PROGRESS: Boosted trees classifier:"
       ]
      },
      {
       "html": [
        "<pre>PROGRESS: --------------------------------------------------------</pre>"
       ],
       "metadata": {},
       "output_type": "display_data",
       "text": [
        "PROGRESS: --------------------------------------------------------"
       ]
      },
      {
       "html": [
        "<pre>PROGRESS: Number of examples          : 10396</pre>"
       ],
       "metadata": {},
       "output_type": "display_data",
       "text": [
        "PROGRESS: Number of examples          : 10396"
       ]
      },
      {
       "html": [
        "<pre>PROGRESS: Number of classes           : 1954</pre>"
       ],
       "metadata": {},
       "output_type": "display_data",
       "text": [
        "PROGRESS: Number of classes           : 1954"
       ]
      },
      {
       "html": [
        "<pre>PROGRESS: Number of feature columns   : 3</pre>"
       ],
       "metadata": {},
       "output_type": "display_data",
       "text": [
        "PROGRESS: Number of feature columns   : 3"
       ]
      },
      {
       "html": [
        "<pre>PROGRESS: Number of unpacked features : 3</pre>"
       ],
       "metadata": {},
       "output_type": "display_data",
       "text": [
        "PROGRESS: Number of unpacked features : 3"
       ]
      },
      {
       "html": [
        "<pre>PROGRESS: Starting Boosted Trees</pre>"
       ],
       "metadata": {},
       "output_type": "display_data",
       "text": [
        "PROGRESS: Starting Boosted Trees"
       ]
      },
      {
       "html": [
        "<pre>PROGRESS: --------------------------------------------------------</pre>"
       ],
       "metadata": {},
       "output_type": "display_data",
       "text": [
        "PROGRESS: --------------------------------------------------------"
       ]
      },
      {
       "html": [
        "<pre>PROGRESS:   Iter    Accuracy Elapsed time</pre>"
       ],
       "metadata": {},
       "output_type": "display_data",
       "text": [
        "PROGRESS:   Iter    Accuracy Elapsed time"
       ]
      },
      {
       "html": [
        "<pre>PROGRESS:      0   1.983e-01       18.16s</pre>"
       ],
       "metadata": {},
       "output_type": "display_data",
       "text": [
        "PROGRESS:      0   1.983e-01       18.16s"
       ]
      },
      {
       "html": [
        "<pre>PROGRESS:      1   1.619e-01       35.59s</pre>"
       ],
       "metadata": {},
       "output_type": "display_data",
       "text": [
        "PROGRESS:      1   1.619e-01       35.59s"
       ]
      },
      {
       "html": [
        "<pre>PROGRESS:      2   1.813e-01       52.62s</pre>"
       ],
       "metadata": {},
       "output_type": "display_data",
       "text": [
        "PROGRESS:      2   1.813e-01       52.62s"
       ]
      },
      {
       "html": [
        "<pre>PROGRESS:      3   2.165e-01       70.03s</pre>"
       ],
       "metadata": {},
       "output_type": "display_data",
       "text": [
        "PROGRESS:      3   2.165e-01       70.03s"
       ]
      },
      {
       "html": [
        "<pre>PROGRESS:      4   2.373e-01       87.82s</pre>"
       ],
       "metadata": {},
       "output_type": "display_data",
       "text": [
        "PROGRESS:      4   2.373e-01       87.82s"
       ]
      },
      {
       "html": [
        "<pre>PROGRESS:      5   2.840e-01      104.81s</pre>"
       ],
       "metadata": {},
       "output_type": "display_data",
       "text": [
        "PROGRESS:      5   2.840e-01      104.81s"
       ]
      },
      {
       "html": [
        "<pre>PROGRESS:      6   3.048e-01      121.54s</pre>"
       ],
       "metadata": {},
       "output_type": "display_data",
       "text": [
        "PROGRESS:      6   3.048e-01      121.54s"
       ]
      },
      {
       "html": [
        "<pre>PROGRESS:      7   3.341e-01      138.11s</pre>"
       ],
       "metadata": {},
       "output_type": "display_data",
       "text": [
        "PROGRESS:      7   3.341e-01      138.11s"
       ]
      },
      {
       "html": [
        "<pre>PROGRESS:      8   3.446e-01      154.89s</pre>"
       ],
       "metadata": {},
       "output_type": "display_data",
       "text": [
        "PROGRESS:      8   3.446e-01      154.89s"
       ]
      },
      {
       "html": [
        "<pre>PROGRESS:      9   3.922e-01      171.52s</pre>"
       ],
       "metadata": {},
       "output_type": "display_data",
       "text": [
        "PROGRESS:      9   3.922e-01      171.52s"
       ]
      },
      {
       "html": [
        "<pre>PROGRESS:     10   4.172e-01      188.27s</pre>"
       ],
       "metadata": {},
       "output_type": "display_data",
       "text": [
        "PROGRESS:     10   4.172e-01      188.27s"
       ]
      },
      {
       "html": [
        "<pre>PROGRESS:     11   4.296e-01      205.24s</pre>"
       ],
       "metadata": {},
       "output_type": "display_data",
       "text": [
        "PROGRESS:     11   4.296e-01      205.24s"
       ]
      },
      {
       "html": [
        "<pre>PROGRESS:     12   4.633e-01      221.89s</pre>"
       ],
       "metadata": {},
       "output_type": "display_data",
       "text": [
        "PROGRESS:     12   4.633e-01      221.89s"
       ]
      },
      {
       "html": [
        "<pre>PROGRESS:     13   4.867e-01      239.61s</pre>"
       ],
       "metadata": {},
       "output_type": "display_data",
       "text": [
        "PROGRESS:     13   4.867e-01      239.61s"
       ]
      },
      {
       "html": [
        "<pre>PROGRESS:     14   5.064e-01      257.37s</pre>"
       ],
       "metadata": {},
       "output_type": "display_data",
       "text": [
        "PROGRESS:     14   5.064e-01      257.37s"
       ]
      },
      {
       "html": [
        "<pre>PROGRESS:     15   5.282e-01      274.86s</pre>"
       ],
       "metadata": {},
       "output_type": "display_data",
       "text": [
        "PROGRESS:     15   5.282e-01      274.86s"
       ]
      },
      {
       "html": [
        "<pre>PROGRESS:     16   5.465e-01      291.48s</pre>"
       ],
       "metadata": {},
       "output_type": "display_data",
       "text": [
        "PROGRESS:     16   5.465e-01      291.48s"
       ]
      }
     ],
     "prompt_number": 5
    },
    {
     "cell_type": "markdown",
     "metadata": {},
     "source": [
      "## Evaluate the classifier\n",
      "Predict full category (1954 unique categories, 5% the most common: [\"Mexican\",\"Restau ...]): \n",
      "\n",
      "* 15 iterations -> Accuracy = 30%\n",
      "* 17 iterations -> Accuracy = 31 to 32%\n",
      "* 20 iterations -> Accuracy = 30%\n",
      "\n",
      "Predict main hierarchy (262 unique, 12% the most common: \"Food\"):\n",
      "\n",
      "* 17 iterations -> Accuracy = 41 to 44% \n"
     ]
    },
    {
     "cell_type": "code",
     "collapsed": false,
     "input": [
      "bow = graphlab.text_analytics.count_words(sf_test['texts'])\n",
      "bow = bow.dict_trim_by_keys(graphlab.text_analytics.stopwords(), exclude=True)\n",
      "#bow = bow.dict_trim_by_values(2)\n",
      "tf_idf = graphlab.text_analytics.tf_idf(bow)\n",
      "#\n",
      "sf_test['topic50'] = model50.predict(tf_idf)\n",
      "sf_test['topic100'] = model100.predict(tf_idf)\n",
      "sf_test['topic500'] = model500.predict(tf_idf)\n",
      "#\n",
      "model.evaluate(sf_test)"
     ],
     "language": "python",
     "metadata": {},
     "outputs": [
      {
       "html": [
        "<pre>PROGRESS: WARNING: The true labels used for evaluation contains class labels that were not present in the training data. Model accuracy can be improved by adding examples with these unseen labels to the training data.</pre>"
       ],
       "metadata": {},
       "output_type": "display_data",
       "text": [
        "PROGRESS: WARNING: The true labels used for evaluation contains class labels that were not present in the training data. Model accuracy can be improved by adding examples with these unseen labels to the training data."
       ]
      },
      {
       "metadata": {},
       "output_type": "pyout",
       "prompt_number": 6,
       "text": [
        "{'accuracy': 0.3128834355828221,\n",
        " 'confusion_matrix': Columns:\n",
        "\ttarget_label\tstr\n",
        "\tpredicted_label\tstr\n",
        "\tcount\tint\n",
        "\n",
        "Rows: 806\n",
        "\n",
        "Data:\n",
        "+--------------------------------+--------------------------------+-------+\n",
        "|          target_label          |        predicted_label         | count |\n",
        "+--------------------------------+--------------------------------+-------+\n",
        "| [\"Active Life\",\"American ( ... | [\"Bars\",\"American (Traditi ... |   1   |\n",
        "| [\"Active Life\",\"Amusement  ... |   [\"Active Life\",\"Bowling\"]    |   1   |\n",
        "| [\"Active Life\",\"Amusement  ... |   [\"Mexican\",\"Restaurants\"]    |   1   |\n",
        "| [\"Active Life\",\"Boating\",\" ... |    [\"Active Life\",\"Lakes\"]     |   1   |\n",
        "| [\"Active Life\",\"Boating\",\" ... |          [\"Shopping\"]          |   1   |\n",
        "|   [\"Active Life\",\"Boating\"]    | [\"Italian\",\"Pizza\",\"Restau ... |   1   |\n",
        "| [\"Active Life\",\"Dance Stud ... | [\"Active Life\",\"Martial Ar ... |   1   |\n",
        "| [\"Active Life\",\"Dog Parks\" ... | [\"Active Life\",\"Dog Parks\" ... |   1   |\n",
        "| [\"Active Life\",\"Dog Parks\" ... | [\"Pet Services\",\"Pet Board ... |   1   |\n",
        "| [\"Active Life\",\"Fitness &  ... | [\"Active Life\",\"Yoga\",\"Fit ... |   1   |\n",
        "|              ...               |              ...               |  ...  |\n",
        "+--------------------------------+--------------------------------+-------+\n",
        "[806 rows x 3 columns]\n",
        "Note: Only the head of the SFrame is printed.\n",
        "You can use print_rows(num_rows=m, num_columns=n) to print more rows and columns.}"
       ]
      }
     ],
     "prompt_number": 6
    },
    {
     "cell_type": "code",
     "collapsed": false,
     "input": [
      "sf_test['predicted_label'] = model.predict(sf_test)\n",
      "sf_test['main_categories'] = sf_test['categories'].apply(lambda x: '' if not eval(x) else eval(x)[0])\n",
      "sf_test['main_predicted'] = sf_test['predicted_label'].apply(lambda x: '' if not eval(x) else eval(x)[0])\n",
      "accuracy = len(sf_test[(sf_test['main_categories'] ==sf_test['main_predicted'])])/(len(sf_test)*1.0)\n",
      "print \"Accuracy (main hierarchy) = %.3f%%\" %(accuracy)"
     ],
     "language": "python",
     "metadata": {},
     "outputs": [
      {
       "output_type": "stream",
       "stream": "stdout",
       "text": [
        "Accuracy (main hierarchy) = 0.439%\n"
       ]
      }
     ],
     "prompt_number": 7
    },
    {
     "cell_type": "code",
     "collapsed": false,
     "input": [
      "sf_test.show()"
     ],
     "language": "python",
     "metadata": {},
     "outputs": [],
     "prompt_number": 8
    }
   ],
   "metadata": {}
  }
 ]
}