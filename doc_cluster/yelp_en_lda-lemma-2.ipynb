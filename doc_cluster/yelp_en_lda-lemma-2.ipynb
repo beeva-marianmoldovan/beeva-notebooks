{
 "metadata": {
  "name": "",
  "signature": "sha256:4fd26ca0f079ac87452aac982ceef9103474ecdeeff9586d686b2af3d18ef5ab"
 },
 "nbformat": 3,
 "nbformat_minor": 0,
 "worksheets": [
  {
   "cells": [
    {
     "cell_type": "heading",
     "level": 3,
     "metadata": {},
     "source": [
      "Cargo librer\u00edas"
     ]
    },
    {
     "cell_type": "code",
     "collapsed": false,
     "input": [
      "import logging\n",
      "logger = logging.getLogger()\n",
      "logger.setLevel(logging.DEBUG)"
     ],
     "language": "python",
     "metadata": {},
     "outputs": [],
     "prompt_number": 2
    },
    {
     "cell_type": "code",
     "collapsed": false,
     "input": [
      "from gensim import corpora, models"
     ],
     "language": "python",
     "metadata": {},
     "outputs": [
      {
       "output_type": "stream",
       "stream": "stderr",
       "text": [
        "INFO:gensim.utils:'pattern' package found; utils.lemmatize() is available for English\n"
       ]
      }
     ],
     "prompt_number": 3
    },
    {
     "cell_type": "code",
     "collapsed": false,
     "input": [
      "import numpy"
     ],
     "language": "python",
     "metadata": {},
     "outputs": [],
     "prompt_number": 4
    },
    {
     "cell_type": "heading",
     "level": 3,
     "metadata": {},
     "source": [
      "dataset "
     ]
    },
    {
     "cell_type": "code",
     "collapsed": false,
     "input": [
      "pathReviews = \"/home/nievesabalos/Escritorio/nlp/datasets/yelp/modelos/\""
     ],
     "language": "python",
     "metadata": {},
     "outputs": [],
     "prompt_number": 5
    },
    {
     "cell_type": "heading",
     "level": 3,
     "metadata": {},
     "source": [
      "Cargar diccionario y corpus"
     ]
    },
    {
     "cell_type": "markdown",
     "metadata": {},
     "source": [
      "business_id,date,review_id,stars,text,type,user_id,votes,attributes,categories,city,full_address,hours,latitude,longitude,name,neighborhoods,open,review_count,stars.1,state,type.1\n"
     ]
    },
    {
     "cell_type": "code",
     "collapsed": false,
     "input": [
      "corpus = corpora.MmCorpus(pathReviews+'yelp.mm')"
     ],
     "language": "python",
     "metadata": {},
     "outputs": [
      {
       "output_type": "stream",
       "stream": "stderr",
       "text": [
        "INFO:gensim.corpora.indexedcorpus:loaded corpus index from /home/nievesabalos/Escritorio/nlp/datasets/yelp/modelos/yelp.mm.index\n"
       ]
      },
      {
       "output_type": "stream",
       "stream": "stderr",
       "text": [
        "INFO:gensim.matutils:initializing corpus reader from /home/nievesabalos/Escritorio/nlp/datasets/yelp/modelos/yelp.mm\n"
       ]
      },
      {
       "output_type": "stream",
       "stream": "stderr",
       "text": [
        "INFO:gensim.matutils:accepted corpus with 2221 documents, 34519 features, 1413543 non-zero entries\n"
       ]
      }
     ],
     "prompt_number": 6
    },
    {
     "cell_type": "code",
     "collapsed": false,
     "input": [
      "dictionary = corpora.Dictionary.load(pathReviews+'yelp.dict')\n",
      "print(dictionary)"
     ],
     "language": "python",
     "metadata": {},
     "outputs": [
      {
       "output_type": "stream",
       "stream": "stderr",
       "text": [
        "INFO:gensim.utils:loading Dictionary object from /home/nievesabalos/Escritorio/nlp/datasets/yelp/modelos/yelp.dict\n"
       ]
      },
      {
       "output_type": "stream",
       "stream": "stdout",
       "text": [
        "Dictionary(34519 unique tokens: [u'fawn', u'gai', u'saimin', u'accueille', u'woods']...)\n"
       ]
      }
     ],
     "prompt_number": 7
    },
    {
     "cell_type": "heading",
     "level": 3,
     "metadata": {},
     "source": [
      "conjunto test"
     ]
    },
    {
     "cell_type": "code",
     "collapsed": false,
     "input": [
      "# The function doc2bow() simply counts the number of occurences of each distinct word, converts the word to its integer word\n",
      "# id and returns the result as a sparse vector. The sparse vector [(230, 1), (234, 1), (236, 2), (238, 1), (251, 1)]\n",
      "# for example: in the document new_doc, the words u'everdeen (id 230) and u'hambre (id 234) appear once; u'juegos (id 236) \n",
      "# twice and the other words appear (implicitly) zero times."
     ],
     "language": "python",
     "metadata": {},
     "outputs": [],
     "prompt_number": 7
    },
    {
     "cell_type": "code",
     "collapsed": false,
     "input": [
      "#ejemplo = \"/home/nievesabalos/Escritorio/nlp/datasets/yelp/test/10.txt\"\n",
      "new_doc = \"this mexican restaurant serves very good guacamole.\"\n",
      "documentoTest = dictionary.doc2bow(new_doc.lower().split())\n",
      "print(documentoTest) \n"
     ],
     "language": "python",
     "metadata": {},
     "outputs": [
      {
       "output_type": "stream",
       "stream": "stdout",
       "text": [
        "[(5494, 1), (9613, 1), (11641, 1), (19403, 1), (22290, 1), (27370, 1)]\n"
       ]
      }
     ],
     "prompt_number": 8
    },
    {
     "cell_type": "code",
     "collapsed": false,
     "input": [
      "id2word = {}\n",
      "for word in dictionary.token2id:    \n",
      "    id2word[dictionary.token2id[word]] = word"
     ],
     "language": "python",
     "metadata": {},
     "outputs": [],
     "prompt_number": 9
    },
    {
     "cell_type": "code",
     "collapsed": false,
     "input": [
      "for word in documentoTest:\n",
      "    print id2word[word[0]]"
     ],
     "language": "python",
     "metadata": {},
     "outputs": [
      {
       "output_type": "stream",
       "stream": "stdout",
       "text": [
        "restaurant\n",
        "mexican\n",
        "very\n",
        "good\n",
        "serves\n",
        "this\n"
       ]
      }
     ],
     "prompt_number": 11
    },
    {
     "cell_type": "heading",
     "level": 3,
     "metadata": {},
     "source": [
      "crear tf-idf"
     ]
    },
    {
     "cell_type": "code",
     "collapsed": false,
     "input": [
      "# corpus is bow_corpus\n",
      "tfidf = models.TfidfModel(corpus) # step 1 -- initialize a model"
     ],
     "language": "python",
     "metadata": {},
     "outputs": [
      {
       "output_type": "stream",
       "stream": "stderr",
       "text": [
        "INFO:gensim.models.tfidfmodel:collecting document frequencies\n"
       ]
      },
      {
       "output_type": "stream",
       "stream": "stderr",
       "text": [
        "INFO:gensim.models.tfidfmodel:PROGRESS: processing document #0\n"
       ]
      },
      {
       "output_type": "stream",
       "stream": "stderr",
       "text": [
        "INFO:gensim.models.tfidfmodel:calculating IDF weights for 2221 documents and 34518 features (1413543 matrix non-zeros)\n"
       ]
      }
     ],
     "prompt_number": 12
    },
    {
     "cell_type": "code",
     "collapsed": false,
     "input": [
      "corpus_tfidf = tfidf[corpus]\n",
      "tfidf.save(pathReviews+'yelp.tfidf') "
     ],
     "language": "python",
     "metadata": {},
     "outputs": [
      {
       "output_type": "stream",
       "stream": "stderr",
       "text": [
        "INFO:gensim.utils:saving TfidfModel object under /home/nievesabalos/Escritorio/nlp/datasets/yelp/modelos/yelp.tfidf, separately None\n"
       ]
      }
     ],
     "prompt_number": 13
    },
    {
     "cell_type": "code",
     "collapsed": false,
     "input": [
      "print len(corpus_tfidf)"
     ],
     "language": "python",
     "metadata": {},
     "outputs": [
      {
       "output_type": "stream",
       "stream": "stdout",
       "text": [
        "2221\n"
       ]
      }
     ],
     "prompt_number": 17
    },
    {
     "cell_type": "code",
     "collapsed": false,
     "input": [
      "ejemplo = \"/home/nievesabalos/Escritorio/nlp/datasets/yelp/test/10.txt\"\n",
      "with open(ejemplo, 'r') as fileData:\n",
      "   # print \"Leo datos, detecto idioma y preproceso.\"\n",
      "   for lineas in fileData:"
     ],
     "language": "python",
     "metadata": {},
     "outputs": []
    },
    {
     "cell_type": "code",
     "collapsed": false,
     "input": [
      "print tfidf[documentoTest]"
     ],
     "language": "python",
     "metadata": {},
     "outputs": [
      {
       "output_type": "stream",
       "stream": "stdout",
       "text": [
        "[(5494, 0.3140664230435969), (9613, 0.6888900148829067), (11641, 0.0519684023905716), (19403, 0.06486529107783826), (22290, 0.6478137829089722), (27370, 0.014896682541931546)]\n"
       ]
      }
     ],
     "prompt_number": 14
    },
    {
     "cell_type": "heading",
     "level": 3,
     "metadata": {},
     "source": [
      "crear nuevo LDA (si no lo cargas)"
     ]
    },
    {
     "cell_type": "markdown",
     "metadata": {},
     "source": [
      "**alpha:** This particular LDA implementation uses something that can automatically update the alpha value for us. This determines how 'smooth' the model is, which makes no damned sense if you aren't working in the area (it doesn't make much sense to me). Here's what alpha does: as it gets smaller, each document is going to be more specific, i.e., likely to only made up of a few topics. As it gets bigger, a document can begin to appear in multiple topics, which is what we want. It's not good to have a large alpha either, because then all our topics will start intermingling and making out and that's gross. \n",
      "\n",
      "\n",
      "**num_topics:** The num_topics parameter just determines how many topics we want the model to give us. "
     ]
    },
    {
     "cell_type": "code",
     "collapsed": false,
     "input": [
      "num_topics = 50"
     ],
     "language": "python",
     "metadata": {},
     "outputs": [],
     "prompt_number": 12
    },
    {
     "cell_type": "code",
     "collapsed": false,
     "input": [
      "lda = models.LdaModel(corpus_tfidf, id2word=dictionary, num_topics=num_topics) # initialize an LDA transformation\n",
      "corpus_lda = lda[corpus_tfidf] # create a double wrapper over the original corpus: bow->tfidf->fold-in-lda\n",
      "lda.save(pathReviews+'yelp.lda')"
     ],
     "language": "python",
     "metadata": {},
     "outputs": [
      {
       "output_type": "stream",
       "stream": "stderr",
       "text": [
        "INFO:gensim.models.ldamodel:using symmetric alpha at 0.02\n"
       ]
      },
      {
       "output_type": "stream",
       "stream": "stderr",
       "text": [
        "INFO:gensim.models.ldamodel:using serial LDA version on this node\n"
       ]
      },
      {
       "output_type": "stream",
       "stream": "stderr",
       "text": [
        "INFO:gensim.models.ldamodel:running online LDA training, 50 topics, 1 passes over the supplied corpus of 2221 documents, updating model once every 2000 documents, evaluating perplexity every 2221 documents, iterating 50x with a convergence threshold of 0.001000\n"
       ]
      },
      {
       "output_type": "stream",
       "stream": "stderr",
       "text": [
        "WARNING:gensim.models.ldamodel:too few updates, training might not converge; consider increasing the number of passes or iterations to improve accuracy\n"
       ]
      },
      {
       "output_type": "stream",
       "stream": "stderr",
       "text": [
        "INFO:gensim.models.ldamodel:PROGRESS: pass 0, at document #2000/2221\n"
       ]
      },
      {
       "output_type": "stream",
       "stream": "stderr",
       "text": [
        "DEBUG:gensim.models.ldamodel:performing inference on a chunk of 2000 documents\n"
       ]
      },
      {
       "output_type": "stream",
       "stream": "stderr",
       "text": [
        "DEBUG:gensim.models.ldamodel:1789/2000 documents converged within 50 iterations\n"
       ]
      },
      {
       "output_type": "stream",
       "stream": "stderr",
       "text": [
        "DEBUG:gensim.models.ldamodel:updating topics\n"
       ]
      },
      {
       "output_type": "stream",
       "stream": "stderr",
       "text": [
        "INFO:gensim.models.ldamodel:merging changes from 2000 documents into a model of 2221 documents\n"
       ]
      },
      {
       "output_type": "stream",
       "stream": "stderr",
       "text": [
        "INFO:gensim.models.ldamodel:topic #36 (0.020): 0.001*hair + 0.001*car + 0.001*pizza + 0.001*madison + 0.001*we + 0.001*eastern + 0.001*pasty + 0.001*food + 0.001*gamestop + 0.001*greek\n"
       ]
      },
      {
       "output_type": "stream",
       "stream": "stderr",
       "text": [
        "INFO:gensim.models.ldamodel:topic #7 (0.020): 0.001*coffee + 0.001*haircut + 0.001*we + 0.001*hair + 0.001*starbucks + 0.001*sandwich + 0.001*pizza + 0.001*she + 0.001*crepe + 0.001*food\n"
       ]
      },
      {
       "output_type": "stream",
       "stream": "stderr",
       "text": [
        "INFO:gensim.models.ldamodel:topic #21 (0.020): 0.001*chinese + 0.001*pizza + 0.001*food + 0.001*chicken + 0.001*dog + 0.001*burger + 0.001*waffle + 0.001*fried + 0.001*et + 0.001*rice\n"
       ]
      },
      {
       "output_type": "stream",
       "stream": "stderr",
       "text": [
        "INFO:gensim.models.ldamodel:topic #48 (0.020): 0.002*coffee + 0.001*food + 0.001*subway + 0.001*madison + 0.001*hotel + 0.001*we + 0.001*burger + 0.001*bagel + 0.001*theresa + 0.001*shop\n"
       ]
      },
      {
       "output_type": "stream",
       "stream": "stderr",
       "text": [
        "INFO:gensim.models.ldamodel:topic #20 (0.020): 0.001*food + 0.001*nails + 0.001*nail + 0.001*she + 0.001*movers + 0.001*burger + 0.001*walgreens + 0.001*dog + 0.001*we + 0.001*pasta\n"
       ]
      },
      {
       "output_type": "stream",
       "stream": "stderr",
       "text": [
        "INFO:gensim.models.ldamodel:topic #3 (0.020): 0.001*food + 0.001*pizza + 0.001*starbucks + 0.001*our + 0.001*italian + 0.001*he + 0.001*mattress + 0.001*candy + 0.001*we + 0.001*hair\n"
       ]
      },
      {
       "output_type": "stream",
       "stream": "stderr",
       "text": [
        "INFO:gensim.models.ldamodel:topic #8 (0.020): 0.001*food + 0.001*hair + 0.001*we + 0.001*chicken + 0.001*pizza + 0.001*bar + 0.001*she + 0.001*room + 0.001*shawarma + 0.001*salad\n"
       ]
      },
      {
       "output_type": "stream",
       "stream": "stderr",
       "text": [
        "INFO:gensim.models.ldamodel:topic #11 (0.020): 0.001*food + 0.001*burger + 0.001*we + 0.001*store + 0.001*chicken + 0.001*he + 0.001*she + 0.001*pet + 0.001*starbucks + 0.001*our\n"
       ]
      },
      {
       "output_type": "stream",
       "stream": "stderr",
       "text": [
        "INFO:gensim.models.ldamodel:topic #14 (0.020): 0.001*hair + 0.001*panda + 0.001*pizza + 0.001*food + 0.001*tires + 0.001*walgreens + 0.001*zia + 0.001*library + 0.001*chinese + 0.001*dr\n"
       ]
      },
      {
       "output_type": "stream",
       "stream": "stderr",
       "text": [
        "INFO:gensim.models.ldamodel:topic #15 (0.020): 0.001*pizza + 0.001*food + 0.001*hair + 0.001*ultrasound + 0.001*miguel + 0.001*coffee + 0.001*chicken + 0.001*starbucks + 0.001*wedding + 0.001*filipino\n"
       ]
      },
      {
       "output_type": "stream",
       "stream": "stderr",
       "text": [
        "INFO:gensim.models.ldamodel:topic #33 (0.020): 0.002*pizza + 0.001*sbarro + 0.001*target + 0.001*store + 0.001*car + 0.001*he + 0.001*guo + 0.001*subway + 0.001*we + 0.001*account\n"
       ]
      },
      {
       "output_type": "stream",
       "stream": "stderr",
       "text": [
        "INFO:gensim.models.ldamodel:topic #17 (0.020): 0.002*pizza + 0.001*sushi + 0.001*food + 0.001*chinese + 0.001*we + 0.001*chicken + 0.001*ordered + 0.001*dance + 0.001*our + 0.001*restaurant\n"
       ]
      },
      {
       "output_type": "stream",
       "stream": "stderr",
       "text": [
        "INFO:gensim.models.ldamodel:topic #38 (0.020): 0.001*tattoo + 0.001*pedro + 0.001*trophy + 0.001*tim + 0.001*room + 0.001*financial + 0.001*coffee + 0.001*food + 0.001*brow + 0.001*vegas\n"
       ]
      },
      {
       "output_type": "stream",
       "stream": "stderr",
       "text": [
        "INFO:gensim.models.ldamodel:topic #23 (0.020): 0.002*pizza + 0.001*food + 0.001*we + 0.001*boots + 0.001*chicken + 0.001*waffle + 0.001*bar + 0.001*he + 0.001*repair + 0.001*ordered\n"
       ]
      },
      {
       "output_type": "stream",
       "stream": "stderr",
       "text": [
        "INFO:gensim.models.ldamodel:topic #9 (0.020): 0.001*food + 0.001*coffee + 0.001*we + 0.001*chinese + 0.001*golf + 0.001*restaurant + 0.001*ramen + 0.001*chicken + 0.001*lucky + 0.001*transmission\n"
       ]
      },
      {
       "output_type": "stream",
       "stream": "stderr",
       "text": [
        "INFO:gensim.models.ldamodel:topic diff=39.936867, rho=1.000000\n"
       ]
      },
      {
       "output_type": "stream",
       "stream": "stderr",
       "text": [
        "DEBUG:gensim.models.ldamodel:bound: at document #0\n"
       ]
      },
      {
       "output_type": "stream",
       "stream": "stderr",
       "text": [
        "INFO:gensim.models.ldamodel:-25.331 per-word bound, 42195220.3 perplexity estimate based on a held-out corpus of 221 documents with 2850 words\n"
       ]
      },
      {
       "output_type": "stream",
       "stream": "stderr",
       "text": [
        "INFO:gensim.models.ldamodel:PROGRESS: pass 0, at document #2221/2221\n"
       ]
      },
      {
       "output_type": "stream",
       "stream": "stderr",
       "text": [
        "DEBUG:gensim.models.ldamodel:performing inference on a chunk of 221 documents\n"
       ]
      },
      {
       "output_type": "stream",
       "stream": "stderr",
       "text": [
        "DEBUG:gensim.models.ldamodel:218/221 documents converged within 50 iterations\n"
       ]
      },
      {
       "output_type": "stream",
       "stream": "stderr",
       "text": [
        "DEBUG:gensim.models.ldamodel:updating topics\n"
       ]
      },
      {
       "output_type": "stream",
       "stream": "stderr",
       "text": [
        "INFO:gensim.models.ldamodel:merging changes from 221 documents into a model of 2221 documents\n"
       ]
      },
      {
       "output_type": "stream",
       "stream": "stderr",
       "text": [
        "INFO:gensim.models.ldamodel:topic #47 (0.020): 0.004*chipotle + 0.004*burrito + 0.003*bikes + 0.003*slowest + 0.003*julio + 0.003*burritos + 0.003*sewing + 0.002*philly + 0.002*museum + 0.002*tan\n"
       ]
      },
      {
       "output_type": "stream",
       "stream": "stderr",
       "text": [
        "INFO:gensim.models.ldamodel:topic #8 (0.020): 0.004*sports + 0.004*lasagna + 0.003*coney + 0.002*diesel + 0.002*tatum + 0.002*tvs + 0.002*jennifer + 0.002*ink + 0.002*pizza + 0.002*food\n"
       ]
      },
      {
       "output_type": "stream",
       "stream": "stderr",
       "text": [
        "INFO:gensim.models.ldamodel:topic #14 (0.020): 0.003*stills + 0.002*bangs + 0.002*village + 0.002*postal + 0.002*court + 0.002*cracking + 0.001*chambord + 0.001*fields + 0.001*nervously + 0.001*sears\n"
       ]
      },
      {
       "output_type": "stream",
       "stream": "stderr",
       "text": [
        "INFO:gensim.models.ldamodel:topic #27 (0.020): 0.002*iga + 0.002*survival + 0.002*ob + 0.002*tex + 0.002*mex + 0.002*palms + 0.002*fruits + 0.001*prairie + 0.001*dore + 0.001*vacuumed\n"
       ]
      },
      {
       "output_type": "stream",
       "stream": "stderr",
       "text": [
        "INFO:gensim.models.ldamodel:topic #28 (0.020): 0.005*ike + 0.004*delite + 0.003*nitty + 0.003*patties + 0.002*brian + 0.002*mecca + 0.001*receipts + 0.001*horns + 0.001*diner + 0.001*spewing\n"
       ]
      },
      {
       "output_type": "stream",
       "stream": "stderr",
       "text": [
        "INFO:gensim.models.ldamodel:topic #43 (0.020): 0.003*tong + 0.003*daycare + 0.003*dumplings + 0.002*compromised + 0.002*complex + 0.002*lease + 0.002*seats + 0.002*cilantro + 0.002*crackers + 0.002*theatre\n"
       ]
      },
      {
       "output_type": "stream",
       "stream": "stderr",
       "text": [
        "INFO:gensim.models.ldamodel:topic #11 (0.020): 0.007*pharmacy + 0.005*burger + 0.003*burgers + 0.003*cvs + 0.002*prescription + 0.002*fish + 0.002*bun + 0.002*store + 0.002*pet + 0.002*jeans\n"
       ]
      },
      {
       "output_type": "stream",
       "stream": "stderr",
       "text": [
        "INFO:gensim.models.ldamodel:topic #39 (0.020): 0.004*costa + 0.003*radioshack + 0.003*del + 0.002*mcdonald + 0.002*eyeglass + 0.002*camping + 0.002*steak + 0.002*anxiety + 0.002*groupon + 0.002*adoption\n"
       ]
      },
      {
       "output_type": "stream",
       "stream": "stderr",
       "text": [
        "INFO:gensim.models.ldamodel:topic #31 (0.020): 0.004*dsw + 0.004*kennedy + 0.003*patricia + 0.003*park + 0.002*losses + 0.002*eggplant + 0.002*clearance + 0.002*indian + 0.002*instruments + 0.002*learning\n"
       ]
      },
      {
       "output_type": "stream",
       "stream": "stderr",
       "text": [
        "INFO:gensim.models.ldamodel:topic #12 (0.020): 0.003*car + 0.003*hibachi + 0.003*he + 0.003*company + 0.002*bagels + 0.002*professional + 0.002*truck + 0.002*rental + 0.002*shops + 0.002*store\n"
       ]
      },
      {
       "output_type": "stream",
       "stream": "stderr",
       "text": [
        "INFO:gensim.models.ldamodel:topic #49 (0.020): 0.006*apple + 0.004*toy + 0.003*breakfasts + 0.002*batter + 0.002*munchy + 0.002*calibre + 0.001*barro + 0.001*excellente + 0.001*accessories + 0.001*babcock\n"
       ]
      },
      {
       "output_type": "stream",
       "stream": "stderr",
       "text": [
        "INFO:gensim.models.ldamodel:topic #6 (0.020): 0.003*edinburgh + 0.002*bike + 0.002*gm + 0.002*discounted + 0.002*pizza + 0.002*fixing + 0.002*centre + 0.001*lil + 0.001*brien + 0.001*gathered\n"
       ]
      },
      {
       "output_type": "stream",
       "stream": "stderr",
       "text": [
        "INFO:gensim.models.ldamodel:topic #38 (0.020): 0.004*leggings + 0.004*wabo + 0.004*tattoo + 0.003*tattoos + 0.002*edition + 0.001*flights + 0.001*oxidized + 0.001*nutella + 0.001*angered + 0.001*agressive\n"
       ]
      },
      {
       "output_type": "stream",
       "stream": "stderr",
       "text": [
        "INFO:gensim.models.ldamodel:topic #1 (0.020): 0.004*show + 0.004*connolly + 0.003*mcclintock + 0.003*forum + 0.003*comic + 0.003*acts + 0.002*comics + 0.002*josh + 0.002*postnet + 0.002*decaying\n"
       ]
      },
      {
       "output_type": "stream",
       "stream": "stderr",
       "text": [
        "INFO:gensim.models.ldamodel:topic #2 (0.020): 0.004*banks + 0.003*hookah + 0.003*rv + 0.002*hmv + 0.002*bank + 0.002*jillian + 0.002*eggs + 0.002*host + 0.002*truck + 0.002*food\n"
       ]
      },
      {
       "output_type": "stream",
       "stream": "stderr",
       "text": [
        "INFO:gensim.models.ldamodel:topic diff=2.583275, rho=0.707107\n"
       ]
      },
      {
       "output_type": "stream",
       "stream": "stderr",
       "text": [
        "INFO:gensim.utils:saving LdaState object under /home/nievesabalos/Escritorio/nlp/datasets/yelp/modelos/yelp.lda.state, separately None\n"
       ]
      },
      {
       "output_type": "stream",
       "stream": "stderr",
       "text": [
        "INFO:gensim.utils:saving LdaModel object under /home/nievesabalos/Escritorio/nlp/datasets/yelp/modelos/yelp.lda, separately None\n"
       ]
      },
      {
       "output_type": "stream",
       "stream": "stderr",
       "text": [
        "INFO:gensim.utils:not storing attribute state\n"
       ]
      },
      {
       "output_type": "stream",
       "stream": "stderr",
       "text": [
        "INFO:gensim.utils:not storing attribute dispatcher\n"
       ]
      }
     ],
     "prompt_number": 13
    },
    {
     "cell_type": "heading",
     "level": 3,
     "metadata": {},
     "source": [
      "comprobamos el tema de un documento"
     ]
    },
    {
     "cell_type": "markdown",
     "metadata": {},
     "source": [
      "\u00bfQu\u00e9 topic estimamos para el documento de arriba de test?"
     ]
    },
    {
     "cell_type": "code",
     "collapsed": false,
     "input": [
      "topics = lda[documentoTest]\n",
      "print topics"
     ],
     "language": "python",
     "metadata": {},
     "outputs": [
      {
       "output_type": "stream",
       "stream": "stdout",
       "text": [
        "[(24, 0.86000000000000121)]\n"
       ]
      }
     ],
     "prompt_number": 14
    },
    {
     "cell_type": "code",
     "collapsed": false,
     "input": [
      "lda.print_topic(24)"
     ],
     "language": "python",
     "metadata": {},
     "outputs": [
      {
       "metadata": {},
       "output_type": "pyout",
       "prompt_number": 16,
       "text": [
        "u'0.005*food + 0.003*we + 0.003*chinese + 0.003*restaurant + 0.003*bar + 0.003*pizza + 0.002*sauce + 0.002*menu + 0.002*ordered + 0.002*our'"
       ]
      }
     ],
     "prompt_number": 16
    },
    {
     "cell_type": "heading",
     "level": 3,
     "metadata": {},
     "source": [
      "temas generados por LDA"
     ]
    },
    {
     "cell_type": "markdown",
     "metadata": {},
     "source": [
      "\u00bfQu\u00e9 signifca cada tema o topic?"
     ]
    },
    {
     "cell_type": "markdown",
     "metadata": {},
     "source": [
      "**print_topics(num_topics=5, num_words=10)**\n",
      "\n",
      "\n",
      "Return num_topics most significant topics (return all by default). For each topic, show num_words most significant words (10 words by default).\n"
     ]
    },
    {
     "cell_type": "code",
     "collapsed": true,
     "input": [
      "lda.print_topics(num_topics)"
     ],
     "language": "python",
     "metadata": {},
     "outputs": [
      {
       "output_type": "stream",
       "stream": "stderr",
       "text": [
        "INFO:gensim.models.ldamodel:topic #0 (0.020): 0.003*machines + 0.002*vous + 0.002*turkey + 0.002*sandwich + 0.002*salad + 0.002*bartenders + 0.002*fries + 0.002*gym + 0.002*lock + 0.002*deli\n"
       ]
      },
      {
       "output_type": "stream",
       "stream": "stderr",
       "text": [
        "INFO:gensim.models.ldamodel:topic #1 (0.020): 0.004*show + 0.004*connolly + 0.003*mcclintock + 0.003*forum + 0.003*comic + 0.003*acts + 0.002*comics + 0.002*josh + 0.002*postnet + 0.002*decaying\n"
       ]
      },
      {
       "output_type": "stream",
       "stream": "stderr",
       "text": [
        "INFO:gensim.models.ldamodel:topic #2 (0.020): 0.004*banks + 0.003*hookah + 0.003*rv + 0.002*hmv + 0.002*bank + 0.002*jillian + 0.002*eggs + 0.002*host + 0.002*truck + 0.002*food\n"
       ]
      },
      {
       "output_type": "stream",
       "stream": "stderr",
       "text": [
        "INFO:gensim.models.ldamodel:topic #3 (0.020): 0.002*knots + 0.002*festival + 0.002*italian + 0.002*parm + 0.002*ty + 0.002*bogus + 0.002*rouler + 0.002*manufacture + 0.002*neighbors + 0.002*pete\n"
       ]
      },
      {
       "output_type": "stream",
       "stream": "stderr",
       "text": [
        "INFO:gensim.models.ldamodel:topic #4 (0.020): 0.004*barbers + 0.004*hilldale + 0.003*payments + 0.003*gamer + 0.002*heritage + 0.002*battles + 0.002*twins + 0.002*bloomfield + 0.002*jersey + 0.002*mike\n"
       ]
      },
      {
       "output_type": "stream",
       "stream": "stderr",
       "text": [
        "INFO:gensim.models.ldamodel:topic #5 (0.020): 0.003*bar + 0.003*walgreens + 0.002*pool + 0.002*venue + 0.002*music + 0.002*food + 0.002*thai + 0.002*julie + 0.002*dogs + 0.002*catering\n"
       ]
      },
      {
       "output_type": "stream",
       "stream": "stderr",
       "text": [
        "INFO:gensim.models.ldamodel:topic #6 (0.020): 0.003*edinburgh + 0.002*bike + 0.002*gm + 0.002*discounted + 0.002*pizza + 0.002*fixing + 0.002*centre + 0.001*lil + 0.001*brien + 0.001*gathered\n"
       ]
      },
      {
       "output_type": "stream",
       "stream": "stderr",
       "text": [
        "INFO:gensim.models.ldamodel:topic #7 (0.020): 0.005*union + 0.005*ed + 0.003*views + 0.002*fazoli + 0.002*lance + 0.002*arthur + 0.002*einsteins + 0.002*princes + 0.002*army + 0.002*starbuck\n"
       ]
      },
      {
       "output_type": "stream",
       "stream": "stderr",
       "text": [
        "INFO:gensim.models.ldamodel:topic #8 (0.020): 0.004*sports + 0.004*lasagna + 0.003*coney + 0.002*diesel + 0.002*tatum + 0.002*tvs + 0.002*jennifer + 0.002*ink + 0.002*pizza + 0.002*food\n"
       ]
      },
      {
       "output_type": "stream",
       "stream": "stderr",
       "text": [
        "INFO:gensim.models.ldamodel:topic #9 (0.020): 0.005*jeep + 0.004*teriyaki + 0.003*golf + 0.003*wigwam + 0.002*pot + 0.002*nous + 0.002*vein + 0.002*crunch + 0.001*minor + 0.001*lightning\n"
       ]
      },
      {
       "output_type": "stream",
       "stream": "stderr",
       "text": [
        "INFO:gensim.models.ldamodel:topic #10 (0.020): 0.004*car + 0.004*insurance + 0.004*john + 0.003*gas + 0.003*spur + 0.003*dr + 0.003*cake + 0.002*repairs + 0.002*tires + 0.002*automotive\n"
       ]
      },
      {
       "output_type": "stream",
       "stream": "stderr",
       "text": [
        "INFO:gensim.models.ldamodel:topic #11 (0.020): 0.007*pharmacy + 0.005*burger + 0.003*burgers + 0.003*cvs + 0.002*prescription + 0.002*fish + 0.002*bun + 0.002*store + 0.002*pet + 0.002*jeans\n"
       ]
      },
      {
       "output_type": "stream",
       "stream": "stderr",
       "text": [
        "INFO:gensim.models.ldamodel:topic #12 (0.020): 0.003*car + 0.003*hibachi + 0.003*he + 0.003*company + 0.002*bagels + 0.002*professional + 0.002*truck + 0.002*rental + 0.002*shops + 0.002*store\n"
       ]
      },
      {
       "output_type": "stream",
       "stream": "stderr",
       "text": [
        "INFO:gensim.models.ldamodel:topic #13 (0.020): 0.004*animals + 0.003*ribs + 0.003*metropolis + 0.003*u00e2tes + 0.002*marcus + 0.002*vet + 0.002*vets + 0.002*accessories + 0.002*stems + 0.002*humbled\n"
       ]
      },
      {
       "output_type": "stream",
       "stream": "stderr",
       "text": [
        "INFO:gensim.models.ldamodel:topic #14 (0.020): 0.003*stills + 0.002*bangs + 0.002*village + 0.002*postal + 0.002*court + 0.002*cracking + 0.001*chambord + 0.001*fields + 0.001*nervously + 0.001*sears\n"
       ]
      },
      {
       "output_type": "stream",
       "stream": "stderr",
       "text": [
        "INFO:gensim.models.ldamodel:topic #15 (0.020): 0.004*learning + 0.003*melissa + 0.003*mash + 0.003*bangers + 0.002*jammed + 0.001*bullet + 0.001*renditions + 0.001*scottish + 0.001*facilement + 0.001*lamps\n"
       ]
      },
      {
       "output_type": "stream",
       "stream": "stderr",
       "text": [
        "INFO:gensim.models.ldamodel:topic #16 (0.020): 0.005*pizza + 0.003*airport + 0.003*crossfit + 0.003*dr + 0.003*crust + 0.002*treatment + 0.002*pizzas + 0.002*cloud + 0.002*p + 0.002*en\n"
       ]
      },
      {
       "output_type": "stream",
       "stream": "stderr",
       "text": [
        "INFO:gensim.models.ldamodel:topic #17 (0.020): 0.004*geeks + 0.003*carpets + 0.003*scheduled + 0.003*gallery + 0.002*ruck + 0.002*cleaning + 0.002*slab + 0.002*electronics + 0.002*108 + 0.002*zumba\n"
       ]
      },
      {
       "output_type": "stream",
       "stream": "stderr",
       "text": [
        "INFO:gensim.models.ldamodel:topic #18 (0.020): 0.008*et + 0.007*le + 0.006*de + 0.005*est + 0.005*une + 0.005*la + 0.004*u00e9 + 0.004*u00e0 + 0.004*un + 0.004*les\n"
       ]
      },
      {
       "output_type": "stream",
       "stream": "stderr",
       "text": [
        "INFO:gensim.models.ldamodel:topic #19 (0.020): 0.004*winco + 0.003*breakfast + 0.003*produce + 0.003*walgreens + 0.003*groceries + 0.003*eggs + 0.002*grocery + 0.002*gear + 0.002*market + 0.002*university\n"
       ]
      },
      {
       "output_type": "stream",
       "stream": "stderr",
       "text": [
        "INFO:gensim.models.ldamodel:topic #20 (0.020): 0.004*pie + 0.004*links + 0.004*gel + 0.003*marie + 0.003*crisp + 0.003*barros + 0.003*nails + 0.002*ryan + 0.002*brookline + 0.002*mein\n"
       ]
      },
      {
       "output_type": "stream",
       "stream": "stderr",
       "text": [
        "INFO:gensim.models.ldamodel:topic #21 (0.020): 0.005*happiness + 0.003*wamu + 0.003*atm + 0.003*ciabatta + 0.002*cantina + 0.002*voicemails + 0.002*coupla + 0.002*harper + 0.002*emporter + 0.002*infused\n"
       ]
      },
      {
       "output_type": "stream",
       "stream": "stderr",
       "text": [
        "INFO:gensim.models.ldamodel:topic #22 (0.020): 0.008*pho + 0.004*patriot + 0.004*terrace + 0.002*cake + 0.002*oline + 0.002*jerry + 0.002*wheel + 0.002*tee + 0.001*baskin + 0.001*robbins\n"
       ]
      },
      {
       "output_type": "stream",
       "stream": "stderr",
       "text": [
        "INFO:gensim.models.ldamodel:topic #23 (0.020): 0.004*bob + 0.004*sandals + 0.003*garage + 0.003*australian + 0.002*empanadas + 0.002*louie + 0.002*boots + 0.002*waffles + 0.002*cruz + 0.002*incoming\n"
       ]
      },
      {
       "output_type": "stream",
       "stream": "stderr",
       "text": [
        "INFO:gensim.models.ldamodel:topic #24 (0.020): 0.005*food + 0.003*we + 0.003*chinese + 0.003*restaurant + 0.003*bar + 0.003*pizza + 0.002*sauce + 0.002*menu + 0.002*ordered + 0.002*our\n"
       ]
      },
      {
       "output_type": "stream",
       "stream": "stderr",
       "text": [
        "INFO:gensim.models.ldamodel:topic #25 (0.020): 0.004*pearl + 0.004*fraser + 0.002*band + 0.002*performing + 0.002*gus + 0.001*songs + 0.001*orchestra + 0.001*pickins + 0.001*williams + 0.001*purveyor\n"
       ]
      },
      {
       "output_type": "stream",
       "stream": "stderr",
       "text": [
        "INFO:gensim.models.ldamodel:topic #26 (0.020): 0.008*pizza + 0.005*kitty + 0.004*hair + 0.004*taco + 0.003*bell + 0.003*barber + 0.003*sonata + 0.002*stewart + 0.002*grimaldi + 0.002*cut\n"
       ]
      },
      {
       "output_type": "stream",
       "stream": "stderr",
       "text": [
        "INFO:gensim.models.ldamodel:topic #27 (0.020): 0.002*iga + 0.002*survival + 0.002*ob + 0.002*tex + 0.002*mex + 0.002*palms + 0.002*fruits + 0.001*prairie + 0.001*dore + 0.001*vacuumed\n"
       ]
      },
      {
       "output_type": "stream",
       "stream": "stderr",
       "text": [
        "INFO:gensim.models.ldamodel:topic #28 (0.020): 0.005*ike + 0.004*delite + 0.003*nitty + 0.003*patties + 0.002*brian + 0.002*mecca + 0.001*receipts + 0.001*horns + 0.001*diner + 0.001*spewing\n"
       ]
      },
      {
       "output_type": "stream",
       "stream": "stderr",
       "text": [
        "INFO:gensim.models.ldamodel:topic #29 (0.020): 0.003*exam + 0.003*cod + 0.003*teacher + 0.002*howie + 0.001*dr + 0.001*magnet + 0.001*570 + 0.001*callendars + 0.001*marsh + 0.001*gynecologists\n"
       ]
      },
      {
       "output_type": "stream",
       "stream": "stderr",
       "text": [
        "INFO:gensim.models.ldamodel:topic #30 (0.020): 0.007*shoe + 0.005*prada + 0.004*repair + 0.003*pv + 0.003*shoes + 0.003*produce + 0.002*jun + 0.002*leather + 0.002*pair + 0.001*aye\n"
       ]
      },
      {
       "output_type": "stream",
       "stream": "stderr",
       "text": [
        "INFO:gensim.models.ldamodel:topic #31 (0.020): 0.004*dsw + 0.004*kennedy + 0.003*patricia + 0.003*park + 0.002*losses + 0.002*eggplant + 0.002*clearance + 0.002*indian + 0.002*instruments + 0.002*learning\n"
       ]
      },
      {
       "output_type": "stream",
       "stream": "stderr",
       "text": [
        "INFO:gensim.models.ldamodel:topic #32 (0.020): 0.005*rags + 0.003*lawsuit + 0.002*cord + 0.002*hi + 0.002*odor + 0.002*laptop + 0.002*backpackers + 0.001*invoice + 0.001*bel + 0.001*wi\n"
       ]
      },
      {
       "output_type": "stream",
       "stream": "stderr",
       "text": [
        "INFO:gensim.models.ldamodel:topic #33 (0.020): 0.009*science + 0.004*bally + 0.004*kyle + 0.002*berries + 0.002*branch + 0.002*pumps + 0.002*texting + 0.002*police + 0.002*frys + 0.002*exhibit\n"
       ]
      },
      {
       "output_type": "stream",
       "stream": "stderr",
       "text": [
        "INFO:gensim.models.ldamodel:topic #34 (0.020): 0.009*coffee + 0.004*latte + 0.002*starbucks + 0.002*cave + 0.002*usher + 0.002*creek + 0.002*line + 0.002*froth + 0.002*hall + 0.002*eagle\n"
       ]
      },
      {
       "output_type": "stream",
       "stream": "stderr",
       "text": [
        "INFO:gensim.models.ldamodel:topic #35 (0.020): 0.004*lankan + 0.004*sri + 0.003*sol + 0.003*boba + 0.002*firehouse + 0.002*redbox + 0.002*hobbies + 0.002*wakes + 0.002*fusilli + 0.002*linguini\n"
       ]
      },
      {
       "output_type": "stream",
       "stream": "stderr",
       "text": [
        "INFO:gensim.models.ldamodel:topic #36 (0.020): 0.004*brewing + 0.003*rossini + 0.002*eddie + 0.002*moe + 0.002*gamestop + 0.002*carfax + 0.001*iphones + 0.001*115 + 0.001*hydraulic + 0.001*systems\n"
       ]
      },
      {
       "output_type": "stream",
       "stream": "stderr",
       "text": [
        "INFO:gensim.models.ldamodel:topic #37 (0.020): 0.003*coffee + 0.002*el + 0.002*cafe + 0.002*saq + 0.002*hello + 0.002*starbucks + 0.002*grand + 0.002*tastings + 0.002*matted + 0.002*beans\n"
       ]
      },
      {
       "output_type": "stream",
       "stream": "stderr",
       "text": [
        "INFO:gensim.models.ldamodel:topic #38 (0.020): 0.004*leggings + 0.004*wabo + 0.004*tattoo + 0.003*tattoos + 0.002*edition + 0.001*flights + 0.001*oxidized + 0.001*nutella + 0.001*angered + 0.001*agressive\n"
       ]
      },
      {
       "output_type": "stream",
       "stream": "stderr",
       "text": [
        "INFO:gensim.models.ldamodel:topic #39 (0.020): 0.004*costa + 0.003*radioshack + 0.003*del + 0.002*mcdonald + 0.002*eyeglass + 0.002*camping + 0.002*steak + 0.002*anxiety + 0.002*groupon + 0.002*adoption\n"
       ]
      },
      {
       "output_type": "stream",
       "stream": "stderr",
       "text": [
        "INFO:gensim.models.ldamodel:topic #40 (0.020): 0.004*luxor + 0.003*carolyn + 0.003*sangria + 0.003*z + 0.003*rental + 0.002*rented + 0.002*jp + 0.002*printers + 0.002*performers + 0.002*pizza\n"
       ]
      },
      {
       "output_type": "stream",
       "stream": "stderr",
       "text": [
        "INFO:gensim.models.ldamodel:topic #41 (0.020): 0.004*capriotti + 0.003*bobbie + 0.003*capastrami + 0.002*stuffing + 0.002*concert + 0.002*burro + 0.002*rv + 0.002*tower + 0.002*scripts + 0.001*warp\n"
       ]
      },
      {
       "output_type": "stream",
       "stream": "stderr",
       "text": [
        "INFO:gensim.models.ldamodel:topic #42 (0.020): 0.004*chinatown + 0.004*biker + 0.003*tejas + 0.003*outlet + 0.003*vinny + 0.002*costumer + 0.002*comb + 0.002*cvs + 0.002*transactions + 0.002*skimpy\n"
       ]
      },
      {
       "output_type": "stream",
       "stream": "stderr",
       "text": [
        "INFO:gensim.models.ldamodel:topic #43 (0.020): 0.003*tong + 0.003*daycare + 0.003*dumplings + 0.002*compromised + 0.002*complex + 0.002*lease + 0.002*seats + 0.002*cilantro + 0.002*crackers + 0.002*theatre\n"
       ]
      },
      {
       "output_type": "stream",
       "stream": "stderr",
       "text": [
        "INFO:gensim.models.ldamodel:topic #44 (0.020): 0.005*debra + 0.005*puppy + 0.004*wax + 0.003*cortez + 0.003*nonna + 0.003*stick + 0.003*animal + 0.002*qt + 0.002*lemonade + 0.002*tricked\n"
       ]
      },
      {
       "output_type": "stream",
       "stream": "stderr",
       "text": [
        "INFO:gensim.models.ldamodel:topic #45 (0.020): 0.005*bonnie + 0.004*lam + 0.003*eyebrow + 0.003*lia + 0.003*hills + 0.002*seven + 0.002*mopped + 0.002*mario + 0.002*south + 0.002*hundred\n"
       ]
      },
      {
       "output_type": "stream",
       "stream": "stderr",
       "text": [
        "INFO:gensim.models.ldamodel:topic #46 (0.020): 0.006*blades + 0.002*homebrew + 0.002*wtih + 0.002*sympathic + 0.001*chestnuts + 0.001*thursdays + 0.001*bitchy + 0.001*careers + 0.001*itialian + 0.001*programs\n"
       ]
      },
      {
       "output_type": "stream",
       "stream": "stderr",
       "text": [
        "INFO:gensim.models.ldamodel:topic #47 (0.020): 0.004*chipotle + 0.004*burrito + 0.003*bikes + 0.003*slowest + 0.003*julio + 0.003*burritos + 0.003*sewing + 0.002*philly + 0.002*museum + 0.002*tan\n"
       ]
      },
      {
       "output_type": "stream",
       "stream": "stderr",
       "text": [
        "INFO:gensim.models.ldamodel:topic #48 (0.020): 0.004*madison + 0.004*coffee + 0.004*cloths + 0.003*officers + 0.003*shelter + 0.003*subway + 0.002*saloon + 0.002*shelters + 0.002*adopt + 0.002*sub\n"
       ]
      },
      {
       "output_type": "stream",
       "stream": "stderr",
       "text": [
        "INFO:gensim.models.ldamodel:topic #49 (0.020): 0.006*apple + 0.004*toy + 0.003*breakfasts + 0.002*batter + 0.002*munchy + 0.002*calibre + 0.001*barro + 0.001*excellente + 0.001*accessories + 0.001*babcock\n"
       ]
      },
      {
       "metadata": {},
       "output_type": "pyout",
       "prompt_number": 17,
       "text": [
        "[u'0.003*machines + 0.002*vous + 0.002*turkey + 0.002*sandwich + 0.002*salad + 0.002*bartenders + 0.002*fries + 0.002*gym + 0.002*lock + 0.002*deli',\n",
        " u'0.004*show + 0.004*connolly + 0.003*mcclintock + 0.003*forum + 0.003*comic + 0.003*acts + 0.002*comics + 0.002*josh + 0.002*postnet + 0.002*decaying',\n",
        " u'0.004*banks + 0.003*hookah + 0.003*rv + 0.002*hmv + 0.002*bank + 0.002*jillian + 0.002*eggs + 0.002*host + 0.002*truck + 0.002*food',\n",
        " u'0.002*knots + 0.002*festival + 0.002*italian + 0.002*parm + 0.002*ty + 0.002*bogus + 0.002*rouler + 0.002*manufacture + 0.002*neighbors + 0.002*pete',\n",
        " u'0.004*barbers + 0.004*hilldale + 0.003*payments + 0.003*gamer + 0.002*heritage + 0.002*battles + 0.002*twins + 0.002*bloomfield + 0.002*jersey + 0.002*mike',\n",
        " u'0.003*bar + 0.003*walgreens + 0.002*pool + 0.002*venue + 0.002*music + 0.002*food + 0.002*thai + 0.002*julie + 0.002*dogs + 0.002*catering',\n",
        " u'0.003*edinburgh + 0.002*bike + 0.002*gm + 0.002*discounted + 0.002*pizza + 0.002*fixing + 0.002*centre + 0.001*lil + 0.001*brien + 0.001*gathered',\n",
        " u'0.005*union + 0.005*ed + 0.003*views + 0.002*fazoli + 0.002*lance + 0.002*arthur + 0.002*einsteins + 0.002*princes + 0.002*army + 0.002*starbuck',\n",
        " u'0.004*sports + 0.004*lasagna + 0.003*coney + 0.002*diesel + 0.002*tatum + 0.002*tvs + 0.002*jennifer + 0.002*ink + 0.002*pizza + 0.002*food',\n",
        " u'0.005*jeep + 0.004*teriyaki + 0.003*golf + 0.003*wigwam + 0.002*pot + 0.002*nous + 0.002*vein + 0.002*crunch + 0.001*minor + 0.001*lightning',\n",
        " u'0.004*car + 0.004*insurance + 0.004*john + 0.003*gas + 0.003*spur + 0.003*dr + 0.003*cake + 0.002*repairs + 0.002*tires + 0.002*automotive',\n",
        " u'0.007*pharmacy + 0.005*burger + 0.003*burgers + 0.003*cvs + 0.002*prescription + 0.002*fish + 0.002*bun + 0.002*store + 0.002*pet + 0.002*jeans',\n",
        " u'0.003*car + 0.003*hibachi + 0.003*he + 0.003*company + 0.002*bagels + 0.002*professional + 0.002*truck + 0.002*rental + 0.002*shops + 0.002*store',\n",
        " u'0.004*animals + 0.003*ribs + 0.003*metropolis + 0.003*u00e2tes + 0.002*marcus + 0.002*vet + 0.002*vets + 0.002*accessories + 0.002*stems + 0.002*humbled',\n",
        " u'0.003*stills + 0.002*bangs + 0.002*village + 0.002*postal + 0.002*court + 0.002*cracking + 0.001*chambord + 0.001*fields + 0.001*nervously + 0.001*sears',\n",
        " u'0.004*learning + 0.003*melissa + 0.003*mash + 0.003*bangers + 0.002*jammed + 0.001*bullet + 0.001*renditions + 0.001*scottish + 0.001*facilement + 0.001*lamps',\n",
        " u'0.005*pizza + 0.003*airport + 0.003*crossfit + 0.003*dr + 0.003*crust + 0.002*treatment + 0.002*pizzas + 0.002*cloud + 0.002*p + 0.002*en',\n",
        " u'0.004*geeks + 0.003*carpets + 0.003*scheduled + 0.003*gallery + 0.002*ruck + 0.002*cleaning + 0.002*slab + 0.002*electronics + 0.002*108 + 0.002*zumba',\n",
        " u'0.008*et + 0.007*le + 0.006*de + 0.005*est + 0.005*une + 0.005*la + 0.004*u00e9 + 0.004*u00e0 + 0.004*un + 0.004*les',\n",
        " u'0.004*winco + 0.003*breakfast + 0.003*produce + 0.003*walgreens + 0.003*groceries + 0.003*eggs + 0.002*grocery + 0.002*gear + 0.002*market + 0.002*university',\n",
        " u'0.004*pie + 0.004*links + 0.004*gel + 0.003*marie + 0.003*crisp + 0.003*barros + 0.003*nails + 0.002*ryan + 0.002*brookline + 0.002*mein',\n",
        " u'0.005*happiness + 0.003*wamu + 0.003*atm + 0.003*ciabatta + 0.002*cantina + 0.002*voicemails + 0.002*coupla + 0.002*harper + 0.002*emporter + 0.002*infused',\n",
        " u'0.008*pho + 0.004*patriot + 0.004*terrace + 0.002*cake + 0.002*oline + 0.002*jerry + 0.002*wheel + 0.002*tee + 0.001*baskin + 0.001*robbins',\n",
        " u'0.004*bob + 0.004*sandals + 0.003*garage + 0.003*australian + 0.002*empanadas + 0.002*louie + 0.002*boots + 0.002*waffles + 0.002*cruz + 0.002*incoming',\n",
        " u'0.005*food + 0.003*we + 0.003*chinese + 0.003*restaurant + 0.003*bar + 0.003*pizza + 0.002*sauce + 0.002*menu + 0.002*ordered + 0.002*our',\n",
        " u'0.004*pearl + 0.004*fraser + 0.002*band + 0.002*performing + 0.002*gus + 0.001*songs + 0.001*orchestra + 0.001*pickins + 0.001*williams + 0.001*purveyor',\n",
        " u'0.008*pizza + 0.005*kitty + 0.004*hair + 0.004*taco + 0.003*bell + 0.003*barber + 0.003*sonata + 0.002*stewart + 0.002*grimaldi + 0.002*cut',\n",
        " u'0.002*iga + 0.002*survival + 0.002*ob + 0.002*tex + 0.002*mex + 0.002*palms + 0.002*fruits + 0.001*prairie + 0.001*dore + 0.001*vacuumed',\n",
        " u'0.005*ike + 0.004*delite + 0.003*nitty + 0.003*patties + 0.002*brian + 0.002*mecca + 0.001*receipts + 0.001*horns + 0.001*diner + 0.001*spewing',\n",
        " u'0.003*exam + 0.003*cod + 0.003*teacher + 0.002*howie + 0.001*dr + 0.001*magnet + 0.001*570 + 0.001*callendars + 0.001*marsh + 0.001*gynecologists',\n",
        " u'0.007*shoe + 0.005*prada + 0.004*repair + 0.003*pv + 0.003*shoes + 0.003*produce + 0.002*jun + 0.002*leather + 0.002*pair + 0.001*aye',\n",
        " u'0.004*dsw + 0.004*kennedy + 0.003*patricia + 0.003*park + 0.002*losses + 0.002*eggplant + 0.002*clearance + 0.002*indian + 0.002*instruments + 0.002*learning',\n",
        " u'0.005*rags + 0.003*lawsuit + 0.002*cord + 0.002*hi + 0.002*odor + 0.002*laptop + 0.002*backpackers + 0.001*invoice + 0.001*bel + 0.001*wi',\n",
        " u'0.009*science + 0.004*bally + 0.004*kyle + 0.002*berries + 0.002*branch + 0.002*pumps + 0.002*texting + 0.002*police + 0.002*frys + 0.002*exhibit',\n",
        " u'0.009*coffee + 0.004*latte + 0.002*starbucks + 0.002*cave + 0.002*usher + 0.002*creek + 0.002*line + 0.002*froth + 0.002*hall + 0.002*eagle',\n",
        " u'0.004*lankan + 0.004*sri + 0.003*sol + 0.003*boba + 0.002*firehouse + 0.002*redbox + 0.002*hobbies + 0.002*wakes + 0.002*fusilli + 0.002*linguini',\n",
        " u'0.004*brewing + 0.003*rossini + 0.002*eddie + 0.002*moe + 0.002*gamestop + 0.002*carfax + 0.001*iphones + 0.001*115 + 0.001*hydraulic + 0.001*systems',\n",
        " u'0.003*coffee + 0.002*el + 0.002*cafe + 0.002*saq + 0.002*hello + 0.002*starbucks + 0.002*grand + 0.002*tastings + 0.002*matted + 0.002*beans',\n",
        " u'0.004*leggings + 0.004*wabo + 0.004*tattoo + 0.003*tattoos + 0.002*edition + 0.001*flights + 0.001*oxidized + 0.001*nutella + 0.001*angered + 0.001*agressive',\n",
        " u'0.004*costa + 0.003*radioshack + 0.003*del + 0.002*mcdonald + 0.002*eyeglass + 0.002*camping + 0.002*steak + 0.002*anxiety + 0.002*groupon + 0.002*adoption',\n",
        " u'0.004*luxor + 0.003*carolyn + 0.003*sangria + 0.003*z + 0.003*rental + 0.002*rented + 0.002*jp + 0.002*printers + 0.002*performers + 0.002*pizza',\n",
        " u'0.004*capriotti + 0.003*bobbie + 0.003*capastrami + 0.002*stuffing + 0.002*concert + 0.002*burro + 0.002*rv + 0.002*tower + 0.002*scripts + 0.001*warp',\n",
        " u'0.004*chinatown + 0.004*biker + 0.003*tejas + 0.003*outlet + 0.003*vinny + 0.002*costumer + 0.002*comb + 0.002*cvs + 0.002*transactions + 0.002*skimpy',\n",
        " u'0.003*tong + 0.003*daycare + 0.003*dumplings + 0.002*compromised + 0.002*complex + 0.002*lease + 0.002*seats + 0.002*cilantro + 0.002*crackers + 0.002*theatre',\n",
        " u'0.005*debra + 0.005*puppy + 0.004*wax + 0.003*cortez + 0.003*nonna + 0.003*stick + 0.003*animal + 0.002*qt + 0.002*lemonade + 0.002*tricked',\n",
        " u'0.005*bonnie + 0.004*lam + 0.003*eyebrow + 0.003*lia + 0.003*hills + 0.002*seven + 0.002*mopped + 0.002*mario + 0.002*south + 0.002*hundred',\n",
        " u'0.006*blades + 0.002*homebrew + 0.002*wtih + 0.002*sympathic + 0.001*chestnuts + 0.001*thursdays + 0.001*bitchy + 0.001*careers + 0.001*itialian + 0.001*programs',\n",
        " u'0.004*chipotle + 0.004*burrito + 0.003*bikes + 0.003*slowest + 0.003*julio + 0.003*burritos + 0.003*sewing + 0.002*philly + 0.002*museum + 0.002*tan',\n",
        " u'0.004*madison + 0.004*coffee + 0.004*cloths + 0.003*officers + 0.003*shelter + 0.003*subway + 0.002*saloon + 0.002*shelters + 0.002*adopt + 0.002*sub',\n",
        " u'0.006*apple + 0.004*toy + 0.003*breakfasts + 0.002*batter + 0.002*munchy + 0.002*calibre + 0.001*barro + 0.001*excellente + 0.001*accessories + 0.001*babcock']"
       ]
      }
     ],
     "prompt_number": 17
    },
    {
     "cell_type": "markdown",
     "metadata": {},
     "source": [
      "The decimal number is **weight** of the word it is multiplying, i.e., how much does this word influence the particular topic. "
     ]
    },
    {
     "cell_type": "code",
     "collapsed": false,
     "input": [
      "def print_topics(lda, n=10):\n",
      "    \"\"\" Print the top words for each topic. \"\"\"\n",
      "    topics = lda.show_topics(num_topics=-1, num_words=n, formatted=False)\n",
      "    for ti, topic in enumerate(topics):\n",
      "        print 'topic %d: %s' % (ti, ' '.join('%s/%.3f' % (t[1], t[0]) for t in topic))"
     ],
     "language": "python",
     "metadata": {},
     "outputs": [],
     "prompt_number": 18
    },
    {
     "cell_type": "markdown",
     "metadata": {},
     "source": [
      "Unlike LSA, there is no natural ordering between the topics in LDA. The returned num_topics <= self.num_topics subset of all topics is therefore arbitrary and may change between two LDA training runs."
     ]
    },
    {
     "cell_type": "code",
     "collapsed": false,
     "input": [
      "print_topics(lda)"
     ],
     "language": "python",
     "metadata": {},
     "outputs": []
    },
    {
     "cell_type": "code",
     "collapsed": false,
     "input": [
      "print_topics(lda, 5)"
     ],
     "language": "python",
     "metadata": {},
     "outputs": [
      {
       "output_type": "stream",
       "stream": "stdout",
       "text": [
        "topic 0: machines/0.003 vous/0.002 turkey/0.002 sandwich/0.002 salad/0.002\n",
        "topic 1: show/0.004 connolly/0.004 mcclintock/0.003 forum/0.003 comic/0.003\n",
        "topic 2: banks/0.004 hookah/0.003 rv/0.003 hmv/0.002 bank/0.002\n",
        "topic 3: knots/0.002 festival/0.002 italian/0.002 parm/0.002 ty/0.002\n",
        "topic 4: barbers/0.004 hilldale/0.004 payments/0.003 gamer/0.003 heritage/0.002\n",
        "topic 5: bar/0.003 walgreens/0.003 pool/0.002 venue/0.002 music/0.002\n",
        "topic 6: edinburgh/0.003 bike/0.002 gm/0.002 discounted/0.002 pizza/0.002\n",
        "topic 7: union/0.005 ed/0.005 views/0.003 fazoli/0.002 lance/0.002\n",
        "topic 8: sports/0.004 lasagna/0.004 coney/0.003 diesel/0.002 tatum/0.002\n",
        "topic 9: jeep/0.005 teriyaki/0.004 golf/0.003 wigwam/0.003 pot/0.002\n",
        "topic 10: car/0.004 insurance/0.004 john/0.004 gas/0.003 spur/0.003\n",
        "topic 11: pharmacy/0.007 burger/0.005 burgers/0.003 cvs/0.003 prescription/0.002\n",
        "topic 12: car/0.003 hibachi/0.003 he/0.003 company/0.003 bagels/0.002\n",
        "topic 13: animals/0.004 ribs/0.003 metropolis/0.003 u00e2tes/0.003 marcus/0.002\n",
        "topic 14: stills/0.003 bangs/0.002 village/0.002 postal/0.002 court/0.002\n",
        "topic 15: learning/0.004 melissa/0.003 mash/0.003 bangers/0.003 jammed/0.002\n",
        "topic 16: pizza/0.005 airport/0.003 crossfit/0.003 dr/0.003 crust/0.003\n",
        "topic 17: geeks/0.004 carpets/0.003 scheduled/0.003 gallery/0.003 ruck/0.002\n",
        "topic 18: et/0.008 le/0.007 de/0.006 est/0.005 une/0.005\n",
        "topic 19: winco/0.004 breakfast/0.003 produce/0.003 walgreens/0.003 groceries/0.003\n",
        "topic 20: pie/0.004 links/0.004 gel/0.004 marie/0.003 crisp/0.003\n",
        "topic 21: happiness/0.005 wamu/0.003 atm/0.003 ciabatta/0.003 cantina/0.002\n",
        "topic 22: pho/0.008 patriot/0.004 terrace/0.004 cake/0.002 oline/0.002\n",
        "topic 23: bob/0.004 sandals/0.004 garage/0.003 australian/0.003 empanadas/0.002\n",
        "topic 24: food/0.005 we/0.003 chinese/0.003 restaurant/0.003 bar/0.003\n",
        "topic 25: pearl/0.004 fraser/0.004 band/0.002 performing/0.002 gus/0.002\n",
        "topic 26: pizza/0.008 kitty/0.005 hair/0.004 taco/0.004 bell/0.003\n",
        "topic 27: iga/0.002 survival/0.002 ob/0.002 tex/0.002 mex/0.002\n",
        "topic 28: ike/0.005 delite/0.004 nitty/0.003 patties/0.003 brian/0.002\n",
        "topic 29: exam/0.003 cod/0.003 teacher/0.003 howie/0.002 dr/0.001\n",
        "topic 30: shoe/0.007 prada/0.005 repair/0.004 pv/0.003 shoes/0.003\n",
        "topic 31: dsw/0.004 kennedy/0.004 patricia/0.003 park/0.003 losses/0.002\n",
        "topic 32: rags/0.005 lawsuit/0.003 cord/0.002 hi/0.002 odor/0.002\n",
        "topic 33: science/0.009 bally/0.004 kyle/0.004 berries/0.002 branch/0.002\n",
        "topic 34: coffee/0.009 latte/0.004 starbucks/0.002 cave/0.002 usher/0.002\n",
        "topic 35: lankan/0.004 sri/0.004 sol/0.003 boba/0.003 firehouse/0.002\n",
        "topic 36: brewing/0.004 rossini/0.003 eddie/0.002 moe/0.002 gamestop/0.002\n",
        "topic 37: coffee/0.003 el/0.002 cafe/0.002 saq/0.002 hello/0.002\n",
        "topic 38: leggings/0.004 wabo/0.004 tattoo/0.004 tattoos/0.003 edition/0.002\n",
        "topic 39: costa/0.004 radioshack/0.003 del/0.003 mcdonald/0.002 eyeglass/0.002\n",
        "topic 40: luxor/0.004 carolyn/0.003 sangria/0.003 z/0.003 rental/0.003\n",
        "topic 41: capriotti/0.004 bobbie/0.003 capastrami/0.003 stuffing/0.002 concert/0.002\n",
        "topic 42: chinatown/0.004 biker/0.004 tejas/0.003 outlet/0.003 vinny/0.003\n",
        "topic 43: tong/0.003 daycare/0.003 dumplings/0.003 compromised/0.002 complex/0.002\n",
        "topic 44: debra/0.005 puppy/0.005 wax/0.004 cortez/0.003 nonna/0.003\n",
        "topic 45: bonnie/0.005 lam/0.004 eyebrow/0.003 lia/0.003 hills/0.003\n",
        "topic 46: blades/0.006 homebrew/0.002 wtih/0.002 sympathic/0.002 chestnuts/0.001\n",
        "topic 47: chipotle/0.004 burrito/0.004 bikes/0.003 slowest/0.003 julio/0.003\n",
        "topic 48: madison/0.004 coffee/0.004 cloths/0.004 officers/0.003 shelter/0.003\n",
        "topic 49: apple/0.006 toy/0.004 breakfasts/0.003 batter/0.002 munchy/0.002\n"
       ]
      }
     ],
     "prompt_number": 19
    },
    {
     "cell_type": "markdown",
     "metadata": {},
     "source": [
      "Aqu\u00ed, cada fila es un DOCUMENTO y cada columna hace referencia a uno de los t\u00f3picos indicados arriba.."
     ]
    },
    {
     "cell_type": "code",
     "collapsed": false,
     "input": [
      "#for doc in corpus_lsi: # both bow->tfidf and tfidf->lsi transformations are actually executed here, on the fly\n",
      "#    print(doc)"
     ],
     "language": "python",
     "metadata": {},
     "outputs": []
    },
    {
     "cell_type": "markdown",
     "metadata": {},
     "source": [
      "Return a specified topic (=left singular vector), 0 <= topicno < self.num_topics, as a string.\n",
      "\n",
      "Return only the topn words which contribute the most to the direction of the topic (both negative and positive)."
     ]
    },
    {
     "cell_type": "code",
     "collapsed": false,
     "input": [
      "lda.print_topic(5)"
     ],
     "language": "python",
     "metadata": {},
     "outputs": [
      {
       "metadata": {},
       "output_type": "pyout",
       "prompt_number": 20,
       "text": [
        "u'0.003*bar + 0.003*walgreens + 0.002*pool + 0.002*venue + 0.002*music + 0.002*food + 0.002*thai + 0.002*julie + 0.002*dogs + 0.002*catering'"
       ]
      }
     ],
     "prompt_number": 20
    },
    {
     "cell_type": "heading",
     "level": 3,
     "metadata": {},
     "source": [
      "De LDA a word2vec"
     ]
    },
    {
     "cell_type": "code",
     "collapsed": true,
     "input": [
      "topics_lda = lda.print_topics(num_topics)"
     ],
     "language": "python",
     "metadata": {},
     "outputs": [
      {
       "output_type": "stream",
       "stream": "stderr",
       "text": [
        "INFO:gensim.models.ldamodel:topic #0 (0.020): 0.003*machines + 0.002*vous + 0.002*turkey + 0.002*sandwich + 0.002*salad + 0.002*bartenders + 0.002*fries + 0.002*gym + 0.002*lock + 0.002*deli\n"
       ]
      },
      {
       "output_type": "stream",
       "stream": "stderr",
       "text": [
        "INFO:gensim.models.ldamodel:topic #1 (0.020): 0.004*show + 0.004*connolly + 0.003*mcclintock + 0.003*forum + 0.003*comic + 0.003*acts + 0.002*comics + 0.002*josh + 0.002*postnet + 0.002*decaying\n"
       ]
      },
      {
       "output_type": "stream",
       "stream": "stderr",
       "text": [
        "INFO:gensim.models.ldamodel:topic #2 (0.020): 0.004*banks + 0.003*hookah + 0.003*rv + 0.002*hmv + 0.002*bank + 0.002*jillian + 0.002*eggs + 0.002*host + 0.002*truck + 0.002*food\n"
       ]
      },
      {
       "output_type": "stream",
       "stream": "stderr",
       "text": [
        "INFO:gensim.models.ldamodel:topic #3 (0.020): 0.002*knots + 0.002*festival + 0.002*italian + 0.002*parm + 0.002*ty + 0.002*bogus + 0.002*rouler + 0.002*manufacture + 0.002*neighbors + 0.002*pete\n"
       ]
      },
      {
       "output_type": "stream",
       "stream": "stderr",
       "text": [
        "INFO:gensim.models.ldamodel:topic #4 (0.020): 0.004*barbers + 0.004*hilldale + 0.003*payments + 0.003*gamer + 0.002*heritage + 0.002*battles + 0.002*twins + 0.002*bloomfield + 0.002*jersey + 0.002*mike\n"
       ]
      },
      {
       "output_type": "stream",
       "stream": "stderr",
       "text": [
        "INFO:gensim.models.ldamodel:topic #5 (0.020): 0.003*bar + 0.003*walgreens + 0.002*pool + 0.002*venue + 0.002*music + 0.002*food + 0.002*thai + 0.002*julie + 0.002*dogs + 0.002*catering\n"
       ]
      },
      {
       "output_type": "stream",
       "stream": "stderr",
       "text": [
        "INFO:gensim.models.ldamodel:topic #6 (0.020): 0.003*edinburgh + 0.002*bike + 0.002*gm + 0.002*discounted + 0.002*pizza + 0.002*fixing + 0.002*centre + 0.001*lil + 0.001*brien + 0.001*gathered\n"
       ]
      },
      {
       "output_type": "stream",
       "stream": "stderr",
       "text": [
        "INFO:gensim.models.ldamodel:topic #7 (0.020): 0.005*union + 0.005*ed + 0.003*views + 0.002*fazoli + 0.002*lance + 0.002*arthur + 0.002*einsteins + 0.002*princes + 0.002*army + 0.002*starbuck\n"
       ]
      },
      {
       "output_type": "stream",
       "stream": "stderr",
       "text": [
        "INFO:gensim.models.ldamodel:topic #8 (0.020): 0.004*sports + 0.004*lasagna + 0.003*coney + 0.002*diesel + 0.002*tatum + 0.002*tvs + 0.002*jennifer + 0.002*ink + 0.002*pizza + 0.002*food\n"
       ]
      },
      {
       "output_type": "stream",
       "stream": "stderr",
       "text": [
        "INFO:gensim.models.ldamodel:topic #9 (0.020): 0.005*jeep + 0.004*teriyaki + 0.003*golf + 0.003*wigwam + 0.002*pot + 0.002*nous + 0.002*vein + 0.002*crunch + 0.001*minor + 0.001*lightning\n"
       ]
      },
      {
       "output_type": "stream",
       "stream": "stderr",
       "text": [
        "INFO:gensim.models.ldamodel:topic #10 (0.020): 0.004*car + 0.004*insurance + 0.004*john + 0.003*gas + 0.003*spur + 0.003*dr + 0.003*cake + 0.002*repairs + 0.002*tires + 0.002*automotive\n"
       ]
      },
      {
       "output_type": "stream",
       "stream": "stderr",
       "text": [
        "INFO:gensim.models.ldamodel:topic #11 (0.020): 0.007*pharmacy + 0.005*burger + 0.003*burgers + 0.003*cvs + 0.002*prescription + 0.002*fish + 0.002*bun + 0.002*store + 0.002*pet + 0.002*jeans\n"
       ]
      },
      {
       "output_type": "stream",
       "stream": "stderr",
       "text": [
        "INFO:gensim.models.ldamodel:topic #12 (0.020): 0.003*car + 0.003*hibachi + 0.003*he + 0.003*company + 0.002*bagels + 0.002*professional + 0.002*truck + 0.002*rental + 0.002*shops + 0.002*store\n"
       ]
      },
      {
       "output_type": "stream",
       "stream": "stderr",
       "text": [
        "INFO:gensim.models.ldamodel:topic #13 (0.020): 0.004*animals + 0.003*ribs + 0.003*metropolis + 0.003*u00e2tes + 0.002*marcus + 0.002*vet + 0.002*vets + 0.002*accessories + 0.002*stems + 0.002*humbled\n"
       ]
      },
      {
       "output_type": "stream",
       "stream": "stderr",
       "text": [
        "INFO:gensim.models.ldamodel:topic #14 (0.020): 0.003*stills + 0.002*bangs + 0.002*village + 0.002*postal + 0.002*court + 0.002*cracking + 0.001*chambord + 0.001*fields + 0.001*nervously + 0.001*sears\n"
       ]
      },
      {
       "output_type": "stream",
       "stream": "stderr",
       "text": [
        "INFO:gensim.models.ldamodel:topic #15 (0.020): 0.004*learning + 0.003*melissa + 0.003*mash + 0.003*bangers + 0.002*jammed + 0.001*bullet + 0.001*renditions + 0.001*scottish + 0.001*facilement + 0.001*lamps\n"
       ]
      },
      {
       "output_type": "stream",
       "stream": "stderr",
       "text": [
        "INFO:gensim.models.ldamodel:topic #16 (0.020): 0.005*pizza + 0.003*airport + 0.003*crossfit + 0.003*dr + 0.003*crust + 0.002*treatment + 0.002*pizzas + 0.002*cloud + 0.002*p + 0.002*en\n"
       ]
      },
      {
       "output_type": "stream",
       "stream": "stderr",
       "text": [
        "INFO:gensim.models.ldamodel:topic #17 (0.020): 0.004*geeks + 0.003*carpets + 0.003*scheduled + 0.003*gallery + 0.002*ruck + 0.002*cleaning + 0.002*slab + 0.002*electronics + 0.002*108 + 0.002*zumba\n"
       ]
      },
      {
       "output_type": "stream",
       "stream": "stderr",
       "text": [
        "INFO:gensim.models.ldamodel:topic #18 (0.020): 0.008*et + 0.007*le + 0.006*de + 0.005*est + 0.005*une + 0.005*la + 0.004*u00e9 + 0.004*u00e0 + 0.004*un + 0.004*les\n"
       ]
      },
      {
       "output_type": "stream",
       "stream": "stderr",
       "text": [
        "INFO:gensim.models.ldamodel:topic #19 (0.020): 0.004*winco + 0.003*breakfast + 0.003*produce + 0.003*walgreens + 0.003*groceries + 0.003*eggs + 0.002*grocery + 0.002*gear + 0.002*market + 0.002*university\n"
       ]
      },
      {
       "output_type": "stream",
       "stream": "stderr",
       "text": [
        "INFO:gensim.models.ldamodel:topic #20 (0.020): 0.004*pie + 0.004*links + 0.004*gel + 0.003*marie + 0.003*crisp + 0.003*barros + 0.003*nails + 0.002*ryan + 0.002*brookline + 0.002*mein\n"
       ]
      },
      {
       "output_type": "stream",
       "stream": "stderr",
       "text": [
        "INFO:gensim.models.ldamodel:topic #21 (0.020): 0.005*happiness + 0.003*wamu + 0.003*atm + 0.003*ciabatta + 0.002*cantina + 0.002*voicemails + 0.002*coupla + 0.002*harper + 0.002*emporter + 0.002*infused\n"
       ]
      },
      {
       "output_type": "stream",
       "stream": "stderr",
       "text": [
        "INFO:gensim.models.ldamodel:topic #22 (0.020): 0.008*pho + 0.004*patriot + 0.004*terrace + 0.002*cake + 0.002*oline + 0.002*jerry + 0.002*wheel + 0.002*tee + 0.001*baskin + 0.001*robbins\n"
       ]
      },
      {
       "output_type": "stream",
       "stream": "stderr",
       "text": [
        "INFO:gensim.models.ldamodel:topic #23 (0.020): 0.004*bob + 0.004*sandals + 0.003*garage + 0.003*australian + 0.002*empanadas + 0.002*louie + 0.002*boots + 0.002*waffles + 0.002*cruz + 0.002*incoming\n"
       ]
      },
      {
       "output_type": "stream",
       "stream": "stderr",
       "text": [
        "INFO:gensim.models.ldamodel:topic #24 (0.020): 0.005*food + 0.003*we + 0.003*chinese + 0.003*restaurant + 0.003*bar + 0.003*pizza + 0.002*sauce + 0.002*menu + 0.002*ordered + 0.002*our\n"
       ]
      },
      {
       "output_type": "stream",
       "stream": "stderr",
       "text": [
        "INFO:gensim.models.ldamodel:topic #25 (0.020): 0.004*pearl + 0.004*fraser + 0.002*band + 0.002*performing + 0.002*gus + 0.001*songs + 0.001*orchestra + 0.001*pickins + 0.001*williams + 0.001*purveyor\n"
       ]
      },
      {
       "output_type": "stream",
       "stream": "stderr",
       "text": [
        "INFO:gensim.models.ldamodel:topic #26 (0.020): 0.008*pizza + 0.005*kitty + 0.004*hair + 0.004*taco + 0.003*bell + 0.003*barber + 0.003*sonata + 0.002*stewart + 0.002*grimaldi + 0.002*cut\n"
       ]
      },
      {
       "output_type": "stream",
       "stream": "stderr",
       "text": [
        "INFO:gensim.models.ldamodel:topic #27 (0.020): 0.002*iga + 0.002*survival + 0.002*ob + 0.002*tex + 0.002*mex + 0.002*palms + 0.002*fruits + 0.001*prairie + 0.001*dore + 0.001*vacuumed\n"
       ]
      },
      {
       "output_type": "stream",
       "stream": "stderr",
       "text": [
        "INFO:gensim.models.ldamodel:topic #28 (0.020): 0.005*ike + 0.004*delite + 0.003*nitty + 0.003*patties + 0.002*brian + 0.002*mecca + 0.001*receipts + 0.001*horns + 0.001*diner + 0.001*spewing\n"
       ]
      },
      {
       "output_type": "stream",
       "stream": "stderr",
       "text": [
        "INFO:gensim.models.ldamodel:topic #29 (0.020): 0.003*exam + 0.003*cod + 0.003*teacher + 0.002*howie + 0.001*dr + 0.001*magnet + 0.001*570 + 0.001*callendars + 0.001*marsh + 0.001*gynecologists\n"
       ]
      },
      {
       "output_type": "stream",
       "stream": "stderr",
       "text": [
        "INFO:gensim.models.ldamodel:topic #30 (0.020): 0.007*shoe + 0.005*prada + 0.004*repair + 0.003*pv + 0.003*shoes + 0.003*produce + 0.002*jun + 0.002*leather + 0.002*pair + 0.001*aye\n"
       ]
      },
      {
       "output_type": "stream",
       "stream": "stderr",
       "text": [
        "INFO:gensim.models.ldamodel:topic #31 (0.020): 0.004*dsw + 0.004*kennedy + 0.003*patricia + 0.003*park + 0.002*losses + 0.002*eggplant + 0.002*clearance + 0.002*indian + 0.002*instruments + 0.002*learning\n"
       ]
      },
      {
       "output_type": "stream",
       "stream": "stderr",
       "text": [
        "INFO:gensim.models.ldamodel:topic #32 (0.020): 0.005*rags + 0.003*lawsuit + 0.002*cord + 0.002*hi + 0.002*odor + 0.002*laptop + 0.002*backpackers + 0.001*invoice + 0.001*bel + 0.001*wi\n"
       ]
      },
      {
       "output_type": "stream",
       "stream": "stderr",
       "text": [
        "INFO:gensim.models.ldamodel:topic #33 (0.020): 0.009*science + 0.004*bally + 0.004*kyle + 0.002*berries + 0.002*branch + 0.002*pumps + 0.002*texting + 0.002*police + 0.002*frys + 0.002*exhibit\n"
       ]
      },
      {
       "output_type": "stream",
       "stream": "stderr",
       "text": [
        "INFO:gensim.models.ldamodel:topic #34 (0.020): 0.009*coffee + 0.004*latte + 0.002*starbucks + 0.002*cave + 0.002*usher + 0.002*creek + 0.002*line + 0.002*froth + 0.002*hall + 0.002*eagle\n"
       ]
      },
      {
       "output_type": "stream",
       "stream": "stderr",
       "text": [
        "INFO:gensim.models.ldamodel:topic #35 (0.020): 0.004*lankan + 0.004*sri + 0.003*sol + 0.003*boba + 0.002*firehouse + 0.002*redbox + 0.002*hobbies + 0.002*wakes + 0.002*fusilli + 0.002*linguini\n"
       ]
      },
      {
       "output_type": "stream",
       "stream": "stderr",
       "text": [
        "INFO:gensim.models.ldamodel:topic #36 (0.020): 0.004*brewing + 0.003*rossini + 0.002*eddie + 0.002*moe + 0.002*gamestop + 0.002*carfax + 0.001*iphones + 0.001*115 + 0.001*hydraulic + 0.001*systems\n"
       ]
      },
      {
       "output_type": "stream",
       "stream": "stderr",
       "text": [
        "INFO:gensim.models.ldamodel:topic #37 (0.020): 0.003*coffee + 0.002*el + 0.002*cafe + 0.002*saq + 0.002*hello + 0.002*starbucks + 0.002*grand + 0.002*tastings + 0.002*matted + 0.002*beans\n"
       ]
      },
      {
       "output_type": "stream",
       "stream": "stderr",
       "text": [
        "INFO:gensim.models.ldamodel:topic #38 (0.020): 0.004*leggings + 0.004*wabo + 0.004*tattoo + 0.003*tattoos + 0.002*edition + 0.001*flights + 0.001*oxidized + 0.001*nutella + 0.001*angered + 0.001*agressive\n"
       ]
      },
      {
       "output_type": "stream",
       "stream": "stderr",
       "text": [
        "INFO:gensim.models.ldamodel:topic #39 (0.020): 0.004*costa + 0.003*radioshack + 0.003*del + 0.002*mcdonald + 0.002*eyeglass + 0.002*camping + 0.002*steak + 0.002*anxiety + 0.002*groupon + 0.002*adoption\n"
       ]
      },
      {
       "output_type": "stream",
       "stream": "stderr",
       "text": [
        "INFO:gensim.models.ldamodel:topic #40 (0.020): 0.004*luxor + 0.003*carolyn + 0.003*sangria + 0.003*z + 0.003*rental + 0.002*rented + 0.002*jp + 0.002*printers + 0.002*performers + 0.002*pizza\n"
       ]
      },
      {
       "output_type": "stream",
       "stream": "stderr",
       "text": [
        "INFO:gensim.models.ldamodel:topic #41 (0.020): 0.004*capriotti + 0.003*bobbie + 0.003*capastrami + 0.002*stuffing + 0.002*concert + 0.002*burro + 0.002*rv + 0.002*tower + 0.002*scripts + 0.001*warp\n"
       ]
      },
      {
       "output_type": "stream",
       "stream": "stderr",
       "text": [
        "INFO:gensim.models.ldamodel:topic #42 (0.020): 0.004*chinatown + 0.004*biker + 0.003*tejas + 0.003*outlet + 0.003*vinny + 0.002*costumer + 0.002*comb + 0.002*cvs + 0.002*transactions + 0.002*skimpy\n"
       ]
      },
      {
       "output_type": "stream",
       "stream": "stderr",
       "text": [
        "INFO:gensim.models.ldamodel:topic #43 (0.020): 0.003*tong + 0.003*daycare + 0.003*dumplings + 0.002*compromised + 0.002*complex + 0.002*lease + 0.002*seats + 0.002*cilantro + 0.002*crackers + 0.002*theatre\n"
       ]
      },
      {
       "output_type": "stream",
       "stream": "stderr",
       "text": [
        "INFO:gensim.models.ldamodel:topic #44 (0.020): 0.005*debra + 0.005*puppy + 0.004*wax + 0.003*cortez + 0.003*nonna + 0.003*stick + 0.003*animal + 0.002*qt + 0.002*lemonade + 0.002*tricked\n"
       ]
      },
      {
       "output_type": "stream",
       "stream": "stderr",
       "text": [
        "INFO:gensim.models.ldamodel:topic #45 (0.020): 0.005*bonnie + 0.004*lam + 0.003*eyebrow + 0.003*lia + 0.003*hills + 0.002*seven + 0.002*mopped + 0.002*mario + 0.002*south + 0.002*hundred\n"
       ]
      },
      {
       "output_type": "stream",
       "stream": "stderr",
       "text": [
        "INFO:gensim.models.ldamodel:topic #46 (0.020): 0.006*blades + 0.002*homebrew + 0.002*wtih + 0.002*sympathic + 0.001*chestnuts + 0.001*thursdays + 0.001*bitchy + 0.001*careers + 0.001*itialian + 0.001*programs\n"
       ]
      },
      {
       "output_type": "stream",
       "stream": "stderr",
       "text": [
        "INFO:gensim.models.ldamodel:topic #47 (0.020): 0.004*chipotle + 0.004*burrito + 0.003*bikes + 0.003*slowest + 0.003*julio + 0.003*burritos + 0.003*sewing + 0.002*philly + 0.002*museum + 0.002*tan\n"
       ]
      },
      {
       "output_type": "stream",
       "stream": "stderr",
       "text": [
        "INFO:gensim.models.ldamodel:topic #48 (0.020): 0.004*madison + 0.004*coffee + 0.004*cloths + 0.003*officers + 0.003*shelter + 0.003*subway + 0.002*saloon + 0.002*shelters + 0.002*adopt + 0.002*sub\n"
       ]
      },
      {
       "output_type": "stream",
       "stream": "stderr",
       "text": [
        "INFO:gensim.models.ldamodel:topic #49 (0.020): 0.006*apple + 0.004*toy + 0.003*breakfasts + 0.002*batter + 0.002*munchy + 0.002*calibre + 0.001*barro + 0.001*excellente + 0.001*accessories + 0.001*babcock\n"
       ]
      }
     ],
     "prompt_number": 21
    },
    {
     "cell_type": "code",
     "collapsed": false,
     "input": [
      "print len(topics_lda)"
     ],
     "language": "python",
     "metadata": {},
     "outputs": [
      {
       "output_type": "stream",
       "stream": "stdout",
       "text": [
        "50\n"
       ]
      }
     ],
     "prompt_number": 22
    },
    {
     "cell_type": "code",
     "collapsed": false,
     "input": [
      "print topics_lda[13]"
     ],
     "language": "python",
     "metadata": {},
     "outputs": [
      {
       "output_type": "stream",
       "stream": "stdout",
       "text": [
        "0.004*animals + 0.003*ribs + 0.003*metropolis + 0.003*u00e2tes + 0.002*marcus + 0.002*vet + 0.002*vets + 0.002*accessories + 0.002*stems + 0.002*humbled\n"
       ]
      }
     ],
     "prompt_number": 23
    },
    {
     "cell_type": "code",
     "collapsed": false,
     "input": [
      "conjuntoTopic=[]\n",
      "for topic in topics_lda:\n",
      "    conjuntoTopic.append(topic.split(\"+\"))\n",
      "\n",
      "print len(conjuntoTopic)\n",
      "print conjuntoTopic[0:5]"
     ],
     "language": "python",
     "metadata": {},
     "outputs": [
      {
       "output_type": "stream",
       "stream": "stdout",
       "text": [
        "50\n",
        "[[u'0.003*machines ', u' 0.002*vous ', u' 0.002*turkey ', u' 0.002*sandwich ', u' 0.002*salad ', u' 0.002*bartenders ', u' 0.002*fries ', u' 0.002*gym ', u' 0.002*lock ', u' 0.002*deli'], [u'0.004*show ', u' 0.004*connolly ', u' 0.003*mcclintock ', u' 0.003*forum ', u' 0.003*comic ', u' 0.003*acts ', u' 0.002*comics ', u' 0.002*josh ', u' 0.002*postnet ', u' 0.002*decaying'], [u'0.004*banks ', u' 0.003*hookah ', u' 0.003*rv ', u' 0.002*hmv ', u' 0.002*bank ', u' 0.002*jillian ', u' 0.002*eggs ', u' 0.002*host ', u' 0.002*truck ', u' 0.002*food'], [u'0.002*knots ', u' 0.002*festival ', u' 0.002*italian ', u' 0.002*parm ', u' 0.002*ty ', u' 0.002*bogus ', u' 0.002*rouler ', u' 0.002*manufacture ', u' 0.002*neighbors ', u' 0.002*pete'], [u'0.004*barbers ', u' 0.004*hilldale ', u' 0.003*payments ', u' 0.003*gamer ', u' 0.002*heritage ', u' 0.002*battles ', u' 0.002*twins ', u' 0.002*bloomfield ', u' 0.002*jersey ', u' 0.002*mike']]\n"
       ]
      }
     ],
     "prompt_number": 24
    },
    {
     "cell_type": "code",
     "collapsed": false,
     "input": [
      "palabrasTopic = []\n",
      "direccionTopic= []\n",
      "temasLDA = []\n",
      "for topic in conjuntoTopic:\n",
      "    tema = []\n",
      "    palabras = []\n",
      "    direccion = []\n",
      "    for word in topic:\n",
      "        temp = word.split(\"*\")\n",
      "        w = temp[1].split(\"_\")\n",
      "        pala = w[0].strip()\n",
      "        dire = temp[0].strip()\n",
      "        palabras.append(pala)\n",
      "        direccion.append(dire)\n",
      "        tema.append([dire, pala])\n",
      "    palabrasTopic.append(palabras)\n",
      "    direccionTopic.append(direccion)\n",
      "    temasLDA.append(tema)\n",
      "    \n",
      "print len(palabrasTopic)\n",
      "print palabrasTopic[0:2]\n",
      "print len(direccionTopic)\n",
      "print direccionTopic[0:2]\n",
      "print len(temasLDA)\n",
      "print temasLDA[0:2]"
     ],
     "language": "python",
     "metadata": {},
     "outputs": [
      {
       "output_type": "stream",
       "stream": "stdout",
       "text": [
        "50\n",
        "[[u'machines', u'vous', u'turkey', u'sandwich', u'salad', u'bartenders', u'fries', u'gym', u'lock', u'deli'], [u'show', u'connolly', u'mcclintock', u'forum', u'comic', u'acts', u'comics', u'josh', u'postnet', u'decaying']]\n",
        "50\n",
        "[[u'0.003', u'0.002', u'0.002', u'0.002', u'0.002', u'0.002', u'0.002', u'0.002', u'0.002', u'0.002'], [u'0.004', u'0.004', u'0.003', u'0.003', u'0.003', u'0.003', u'0.002', u'0.002', u'0.002', u'0.002']]\n",
        "50\n",
        "[[[u'0.003', u'machines'], [u'0.002', u'vous'], [u'0.002', u'turkey'], [u'0.002', u'sandwich'], [u'0.002', u'salad'], [u'0.002', u'bartenders'], [u'0.002', u'fries'], [u'0.002', u'gym'], [u'0.002', u'lock'], [u'0.002', u'deli']], [[u'0.004', u'show'], [u'0.004', u'connolly'], [u'0.003', u'mcclintock'], [u'0.003', u'forum'], [u'0.003', u'comic'], [u'0.003', u'acts'], [u'0.002', u'comics'], [u'0.002', u'josh'], [u'0.002', u'postnet'], [u'0.002', u'decaying']]]\n"
       ]
      }
     ],
     "prompt_number": 25
    },
    {
     "cell_type": "markdown",
     "metadata": {},
     "source": [
      "100 topics * 10 palabras/topic = 1000 palabras en total a buscar"
     ]
    },
    {
     "cell_type": "heading",
     "level": 3,
     "metadata": {},
     "source": [
      "cargo el modelo word2vec"
     ]
    },
    {
     "cell_type": "code",
     "collapsed": false,
     "input": [
      "#fileModel = '/home/nievesabalos/Escritorio/nlp/datasets/wikipedia/modelo/es_wikipedia.model'  #.model\n",
      "vectorBin = '/home/nievesabalos/Escritorio/nlp/word2vec/trunk/vectors.bin'\n",
      "print \"\\nCargo el modelo en .bin:\"  \n",
      "model = models.Word2Vec.load_word2vec_format(vectorBin, binary=True)  # you can continue training with the loaded model!.load(fileModel)"
     ],
     "language": "python",
     "metadata": {},
     "outputs": [
      {
       "output_type": "stream",
       "stream": "stderr",
       "text": [
        "INFO:gensim.models.word2vec:loading projection weights from /home/nievesabalos/Escritorio/nlp/word2vec/trunk/vectors.bin\n"
       ]
      },
      {
       "output_type": "stream",
       "stream": "stderr",
       "text": [
        "INFO:gensim.models.word2vec:loaded (71291, 200) matrix from /home/nievesabalos/Escritorio/nlp/word2vec/trunk/vectors.bin\n"
       ]
      },
      {
       "output_type": "stream",
       "stream": "stderr",
       "text": [
        "INFO:gensim.models.word2vec:precomputing L2-norms of word weight vectors\n"
       ]
      },
      {
       "output_type": "stream",
       "stream": "stdout",
       "text": [
        "\n",
        "Cargo el modelo en .bin:\n"
       ]
      }
     ],
     "prompt_number": 26
    },
    {
     "cell_type": "code",
     "collapsed": false,
     "input": [
      " model.most_similar(\"arkansas\", topn=3)"
     ],
     "language": "python",
     "metadata": {},
     "outputs": [
      {
       "metadata": {},
       "output_type": "pyout",
       "prompt_number": 27,
       "text": [
        "[(u'tennessee', 0.6125854849815369),\n",
        " (u'fayetteville', 0.5433392524719238),\n",
        " (u'alabama', 0.5427613258361816)]"
       ]
      }
     ],
     "prompt_number": 27
    },
    {
     "cell_type": "heading",
     "level": 3,
     "metadata": {},
     "source": [
      "C\u00e1lculos"
     ]
    },
    {
     "cell_type": "code",
     "collapsed": true,
     "input": [
      "# temasLDA[0:2]\n",
      "# [\n",
      "# temaLDA[0]\n",
      "# [[u'0.001', u'rodilla '], [u' 0.001', u'monos '], [u' 0.001', u'medicados '], [u' 0.001', u'olian '], \n",
      "# [u' 0.001', u'amenazaba '], [u' 0.000', u'biafara '], [u' 0.000', u'winograd '], [u' 0.000', u'inunda '], \n",
      "# [u' 0.000', u'mereces '], [u' 0.000', u'vegetarianismo']], \n",
      "# temaLDA[1]\n",
      "# [[u'0.001', u'congo '], [u' 0.001', u'mujeres '], \n",
      "# [u' 0.000', u'cap '], [u' 0.000', u'osea '], [u' 0.000', u'hielo '], [u' 0.000', u'cueva '], [u' 0.000', u'innovacion '],\n",
      "# [u' 0.000', u'vuele '], [u' 0.000', u'informacion '], [u' 0.000', u'india']]\n",
      "# ]\n",
      "contextoTemas=[]\n",
      "palabrasOut = 0\n",
      "out = []\n",
      "for topic, palabras, direcciones in zip(temasLDA, palabrasTopic, direccionTopic):\n",
      "    tema = []\n",
      "    for word in topic:\n",
      "        palabra = word[1]\n",
      "        try:\n",
      "            palabrasSimilares = model.most_similar(palabra, topn=3)\n",
      "            tema.append([(palabra, word[0]), palabrasSimilares])\n",
      "        except KeyError, e:\n",
      "            palabrasOut = palabrasOut + 1\n",
      "            out.append(word[1])\n",
      "            # la quito de palabras topic\n",
      "            palabras.remove(word[1])\n",
      "            direcciones.remove(word[0])\n",
      "            #print clean(word[1]) + \" no est\u00e1 en el modelo word2vec.\"\n",
      "        \n",
      "    contextoTemas.append(tema)\n",
      "\n",
      "print \"Palabras que no est\u00e1n en word2vec:\" + str(palabrasOut)\n",
      "print out"
     ],
     "language": "python",
     "metadata": {},
     "outputs": [
      {
       "output_type": "stream",
       "stream": "stdout",
       "text": [
        "Palabras que no est\u00e1n en word2vec:86\n",
        "[u'postnet', u'hookah', u'hmv', u'jillian', u'parm', u'rouler', u'barbers', u'hilldale', u'walgreens', u'fazoli', u'einsteins', u'lasagna', u'teriyaki', u'wigwam', u'hibachi', u'bagels', u'u00e2tes', u'chambord', u'nervously', u'bangers', u'facilement', u'crossfit', u'108', u'zumba', u'u00e9', u'u00e0', u'winco', u'walgreens', u'barros', u'wamu', u'ciabatta', u'cantina', u'voicemails', u'coupla', u'emporter', u'pho', u'oline', u'waffles', u'pickins', u'vacuumed', u'delite', u'nitty', u'patties', u'570', u'callendars', u'prada', u'dsw', u'backpackers', u'texting', u'frys', u'firehouse', u'redbox', u'fusilli', u'linguini', u'gamestop', u'carfax', u'iphones', u'115', u'saq', u'tastings', u'matted', u'wabo', u'nutella', u'agressive', u'radioshack', u'eyeglass', u'groupon', u'sangria', u'capriotti', u'bobbie', u'capastrami', u'costumer', u'skimpy', u'daycare', u'cilantro', u'nonna', u'mopped', u'wtih', u'sympathic', u'bitchy', u'itialian', u'chipotle', u'burritos', u'munchy', u'barro', u'excellente']\n"
       ]
      }
     ],
     "prompt_number": 28
    },
    {
     "cell_type": "markdown",
     "metadata": {},
     "source": [
      "De 1000 palabras no encuentra 47"
     ]
    },
    {
     "cell_type": "heading",
     "level": 4,
     "metadata": {},
     "source": [
      "\u00bfQu\u00e9 palabras no encajan dentro del topic?"
     ]
    },
    {
     "cell_type": "code",
     "collapsed": false,
     "input": [
      "print len(palabrasTopic)"
     ],
     "language": "python",
     "metadata": {},
     "outputs": [
      {
       "output_type": "stream",
       "stream": "stdout",
       "text": [
        "50\n"
       ]
      }
     ],
     "prompt_number": 29
    },
    {
     "cell_type": "code",
     "collapsed": false,
     "input": [
      "for palabras in palabrasTopic:\n",
      "    print \"\\nPalabras del topic = \" + ' '.join(palabras) \n",
      "    print \"Total:\" + str(len(palabras))\n",
      "    \n",
      "    palabraFuera = model.doesnt_match(palabras)\n",
      "    #palabras.remove(palabraFuera)\n",
      "    print \"No encaja... \" + palabraFuera\n",
      "    "
     ],
     "language": "python",
     "metadata": {},
     "outputs": [
      {
       "output_type": "stream",
       "stream": "stderr",
       "text": [
        "DEBUG:gensim.models.word2vec:using words [u'machines', u'vous', u'turkey', u'sandwich', u'salad', u'bartenders', u'fries', u'gym', u'lock', u'deli']\n"
       ]
      },
      {
       "output_type": "stream",
       "stream": "stderr",
       "text": [
        "DEBUG:gensim.models.word2vec:using words [u'show', u'connolly', u'mcclintock', u'forum', u'comic', u'acts', u'comics', u'josh', u'decaying']\n"
       ]
      },
      {
       "output_type": "stream",
       "stream": "stderr",
       "text": [
        "DEBUG:gensim.models.word2vec:using words [u'banks', u'rv', u'bank', u'eggs', u'host', u'truck', u'food']\n"
       ]
      },
      {
       "output_type": "stream",
       "stream": "stderr",
       "text": [
        "DEBUG:gensim.models.word2vec:using words [u'knots', u'festival', u'italian', u'ty', u'bogus', u'manufacture', u'neighbors', u'pete']\n"
       ]
      },
      {
       "output_type": "stream",
       "stream": "stderr",
       "text": [
        "DEBUG:gensim.models.word2vec:using words [u'payments', u'gamer', u'heritage', u'battles', u'twins', u'bloomfield', u'jersey', u'mike']\n"
       ]
      },
      {
       "output_type": "stream",
       "stream": "stderr",
       "text": [
        "DEBUG:gensim.models.word2vec:using words [u'bar', u'pool', u'venue', u'music', u'food', u'thai', u'julie', u'dogs', u'catering']\n"
       ]
      },
      {
       "output_type": "stream",
       "stream": "stderr",
       "text": [
        "DEBUG:gensim.models.word2vec:using words [u'edinburgh', u'bike', u'gm', u'discounted', u'pizza', u'fixing', u'centre', u'lil', u'brien', u'gathered']\n"
       ]
      },
      {
       "output_type": "stream",
       "stream": "stderr",
       "text": [
        "DEBUG:gensim.models.word2vec:using words [u'union', u'ed', u'views', u'lance', u'arthur', u'princes', u'army', u'starbuck']\n"
       ]
      },
      {
       "output_type": "stream",
       "stream": "stderr",
       "text": [
        "DEBUG:gensim.models.word2vec:using words [u'sports', u'coney', u'diesel', u'tatum', u'tvs', u'jennifer', u'ink', u'pizza', u'food']\n"
       ]
      },
      {
       "output_type": "stream",
       "stream": "stderr",
       "text": [
        "DEBUG:gensim.models.word2vec:using words [u'jeep', u'golf', u'pot', u'nous', u'vein', u'crunch', u'minor', u'lightning']\n"
       ]
      },
      {
       "output_type": "stream",
       "stream": "stderr",
       "text": [
        "DEBUG:gensim.models.word2vec:using words [u'car', u'insurance', u'john', u'gas', u'spur', u'dr', u'cake', u'repairs', u'tires', u'automotive']\n"
       ]
      },
      {
       "output_type": "stream",
       "stream": "stderr",
       "text": [
        "DEBUG:gensim.models.word2vec:using words [u'pharmacy', u'burger', u'burgers', u'cvs', u'prescription', u'fish', u'bun', u'store', u'pet', u'jeans']\n"
       ]
      },
      {
       "output_type": "stream",
       "stream": "stderr",
       "text": [
        "DEBUG:gensim.models.word2vec:using words [u'car', u'he', u'company', u'professional', u'truck', u'rental', u'shops', u'store']\n"
       ]
      },
      {
       "output_type": "stream",
       "stream": "stderr",
       "text": [
        "DEBUG:gensim.models.word2vec:using words [u'animals', u'ribs', u'metropolis', u'marcus', u'vet', u'vets', u'accessories', u'stems', u'humbled']\n"
       ]
      },
      {
       "output_type": "stream",
       "stream": "stderr",
       "text": [
        "DEBUG:gensim.models.word2vec:using words [u'stills', u'bangs', u'village', u'postal', u'court', u'cracking', u'fields', u'sears']\n"
       ]
      },
      {
       "output_type": "stream",
       "stream": "stderr",
       "text": [
        "DEBUG:gensim.models.word2vec:using words [u'learning', u'melissa', u'mash', u'jammed', u'bullet', u'renditions', u'scottish', u'lamps']\n"
       ]
      },
      {
       "output_type": "stream",
       "stream": "stderr",
       "text": [
        "DEBUG:gensim.models.word2vec:using words [u'pizza', u'airport', u'dr', u'crust', u'treatment', u'pizzas', u'cloud', u'p', u'en']\n"
       ]
      },
      {
       "output_type": "stream",
       "stream": "stderr",
       "text": [
        "DEBUG:gensim.models.word2vec:using words [u'geeks', u'carpets', u'scheduled', u'gallery', u'ruck', u'cleaning', u'slab', u'electronics']\n"
       ]
      },
      {
       "output_type": "stream",
       "stream": "stderr",
       "text": [
        "DEBUG:gensim.models.word2vec:using words [u'et', u'le', u'de', u'est', u'une', u'la', u'un', u'les']\n"
       ]
      },
      {
       "output_type": "stream",
       "stream": "stderr",
       "text": [
        "DEBUG:gensim.models.word2vec:using words [u'breakfast', u'produce', u'groceries', u'eggs', u'grocery', u'gear', u'market', u'university']\n"
       ]
      },
      {
       "output_type": "stream",
       "stream": "stderr",
       "text": [
        "DEBUG:gensim.models.word2vec:using words [u'pie', u'links', u'gel', u'marie', u'crisp', u'nails', u'ryan', u'brookline', u'mein']\n"
       ]
      },
      {
       "output_type": "stream",
       "stream": "stderr",
       "text": [
        "DEBUG:gensim.models.word2vec:using words [u'happiness', u'atm', u'harper', u'infused']\n"
       ]
      },
      {
       "output_type": "stream",
       "stream": "stderr",
       "text": [
        "DEBUG:gensim.models.word2vec:using words [u'patriot', u'terrace', u'cake', u'jerry', u'wheel', u'tee', u'baskin', u'robbins']\n"
       ]
      },
      {
       "output_type": "stream",
       "stream": "stderr",
       "text": [
        "DEBUG:gensim.models.word2vec:using words [u'bob', u'sandals', u'garage', u'australian', u'empanadas', u'louie', u'boots', u'cruz', u'incoming']\n"
       ]
      },
      {
       "output_type": "stream",
       "stream": "stderr",
       "text": [
        "DEBUG:gensim.models.word2vec:using words [u'food', u'we', u'chinese', u'restaurant', u'bar', u'pizza', u'sauce', u'menu', u'ordered', u'our']\n"
       ]
      },
      {
       "output_type": "stream",
       "stream": "stderr",
       "text": [
        "DEBUG:gensim.models.word2vec:using words [u'pearl', u'fraser', u'band', u'performing', u'gus', u'songs', u'orchestra', u'williams', u'purveyor']\n"
       ]
      },
      {
       "output_type": "stream",
       "stream": "stderr",
       "text": [
        "DEBUG:gensim.models.word2vec:using words [u'pizza', u'kitty', u'hair', u'taco', u'bell', u'barber', u'sonata', u'stewart', u'grimaldi', u'cut']\n"
       ]
      },
      {
       "output_type": "stream",
       "stream": "stderr",
       "text": [
        "DEBUG:gensim.models.word2vec:using words [u'iga', u'survival', u'ob', u'tex', u'mex', u'palms', u'fruits', u'prairie', u'dore']\n"
       ]
      },
      {
       "output_type": "stream",
       "stream": "stderr",
       "text": [
        "DEBUG:gensim.models.word2vec:using words [u'ike', u'brian', u'mecca', u'receipts', u'horns', u'diner', u'spewing']\n"
       ]
      },
      {
       "output_type": "stream",
       "stream": "stderr",
       "text": [
        "DEBUG:gensim.models.word2vec:using words [u'exam', u'cod', u'teacher', u'howie', u'dr', u'magnet', u'marsh', u'gynecologists']\n"
       ]
      },
      {
       "output_type": "stream",
       "stream": "stderr",
       "text": [
        "DEBUG:gensim.models.word2vec:using words [u'shoe', u'repair', u'pv', u'shoes', u'produce', u'jun', u'leather', u'pair', u'aye']\n"
       ]
      },
      {
       "output_type": "stream",
       "stream": "stderr",
       "text": [
        "DEBUG:gensim.models.word2vec:using words [u'kennedy', u'patricia', u'park', u'losses', u'eggplant', u'clearance', u'indian', u'instruments', u'learning']\n"
       ]
      },
      {
       "output_type": "stream",
       "stream": "stderr",
       "text": [
        "DEBUG:gensim.models.word2vec:using words [u'rags', u'lawsuit', u'cord', u'hi', u'odor', u'laptop', u'invoice', u'bel', u'wi']\n"
       ]
      },
      {
       "output_type": "stream",
       "stream": "stderr",
       "text": [
        "DEBUG:gensim.models.word2vec:using words [u'science', u'bally', u'kyle', u'berries', u'branch', u'pumps', u'police', u'exhibit']\n"
       ]
      },
      {
       "output_type": "stream",
       "stream": "stderr",
       "text": [
        "DEBUG:gensim.models.word2vec:using words [u'coffee', u'latte', u'starbucks', u'cave', u'usher', u'creek', u'line', u'froth', u'hall', u'eagle']\n"
       ]
      },
      {
       "output_type": "stream",
       "stream": "stderr",
       "text": [
        "DEBUG:gensim.models.word2vec:using words [u'lankan', u'sri', u'sol', u'boba', u'hobbies', u'wakes']\n"
       ]
      },
      {
       "output_type": "stream",
       "stream": "stderr",
       "text": [
        "DEBUG:gensim.models.word2vec:using words [u'brewing', u'rossini', u'eddie', u'moe', u'hydraulic', u'systems']\n"
       ]
      },
      {
       "output_type": "stream",
       "stream": "stderr",
       "text": [
        "DEBUG:gensim.models.word2vec:using words [u'coffee', u'el', u'cafe', u'hello', u'starbucks', u'grand', u'beans']\n"
       ]
      },
      {
       "output_type": "stream",
       "stream": "stderr",
       "text": [
        "DEBUG:gensim.models.word2vec:using words [u'leggings', u'tattoo', u'tattoos', u'edition', u'flights', u'oxidized', u'angered']\n"
       ]
      },
      {
       "output_type": "stream",
       "stream": "stderr",
       "text": [
        "DEBUG:gensim.models.word2vec:using words [u'costa', u'del', u'mcdonald', u'camping', u'steak', u'anxiety', u'adoption']\n"
       ]
      },
      {
       "output_type": "stream",
       "stream": "stderr",
       "text": [
        "DEBUG:gensim.models.word2vec:using words [u'luxor', u'carolyn', u'z', u'rental', u'rented', u'jp', u'printers', u'performers', u'pizza']\n"
       ]
      },
      {
       "output_type": "stream",
       "stream": "stderr",
       "text": [
        "DEBUG:gensim.models.word2vec:using words [u'stuffing', u'concert', u'burro', u'rv', u'tower', u'scripts', u'warp']\n"
       ]
      },
      {
       "output_type": "stream",
       "stream": "stderr",
       "text": [
        "DEBUG:gensim.models.word2vec:using words [u'chinatown', u'biker', u'tejas', u'outlet', u'vinny', u'comb', u'cvs', u'transactions']\n"
       ]
      },
      {
       "output_type": "stream",
       "stream": "stderr",
       "text": [
        "DEBUG:gensim.models.word2vec:using words [u'tong', u'dumplings', u'compromised', u'complex', u'lease', u'seats', u'crackers', u'theatre']\n"
       ]
      },
      {
       "output_type": "stream",
       "stream": "stderr",
       "text": [
        "DEBUG:gensim.models.word2vec:using words [u'debra', u'puppy', u'wax', u'cortez', u'stick', u'animal', u'qt', u'lemonade', u'tricked']\n"
       ]
      },
      {
       "output_type": "stream",
       "stream": "stderr",
       "text": [
        "DEBUG:gensim.models.word2vec:using words [u'bonnie', u'lam', u'eyebrow', u'lia', u'hills', u'seven', u'mario', u'south', u'hundred']\n"
       ]
      },
      {
       "output_type": "stream",
       "stream": "stderr",
       "text": [
        "DEBUG:gensim.models.word2vec:using words [u'blades', u'homebrew', u'chestnuts', u'thursdays', u'careers', u'programs']\n"
       ]
      },
      {
       "output_type": "stream",
       "stream": "stderr",
       "text": [
        "DEBUG:gensim.models.word2vec:using words [u'burrito', u'bikes', u'slowest', u'julio', u'sewing', u'philly', u'museum', u'tan']\n"
       ]
      },
      {
       "output_type": "stream",
       "stream": "stderr",
       "text": [
        "DEBUG:gensim.models.word2vec:using words [u'madison', u'coffee', u'cloths', u'officers', u'shelter', u'subway', u'saloon', u'shelters', u'adopt', u'sub']\n"
       ]
      },
      {
       "output_type": "stream",
       "stream": "stderr",
       "text": [
        "DEBUG:gensim.models.word2vec:using words [u'apple', u'toy', u'breakfasts', u'batter', u'calibre', u'accessories', u'babcock']\n"
       ]
      },
      {
       "output_type": "stream",
       "stream": "stdout",
       "text": [
        "\n",
        "Palabras del topic = machines vous turkey sandwich salad bartenders fries gym lock deli\n",
        "Total:10\n",
        "No encaja... machines\n",
        "\n",
        "Palabras del topic = show connolly mcclintock forum comic acts comics josh decaying\n",
        "Total:9\n",
        "No encaja... decaying\n",
        "\n",
        "Palabras del topic = banks rv bank eggs host truck food\n",
        "Total:7\n",
        "No encaja... rv\n",
        "\n",
        "Palabras del topic = knots festival italian ty bogus manufacture neighbors pete\n",
        "Total:8\n",
        "No encaja... neighbors\n",
        "\n",
        "Palabras del topic = payments gamer heritage battles twins bloomfield jersey mike\n",
        "Total:8\n",
        "No encaja... payments\n",
        "\n",
        "Palabras del topic = bar pool venue music food thai julie dogs catering\n",
        "Total:9\n",
        "No encaja... julie\n",
        "\n",
        "Palabras del topic = edinburgh bike gm discounted pizza fixing centre lil brien gathered\n",
        "Total:10\n",
        "No encaja... fixing\n",
        "\n",
        "Palabras del topic = union ed views lance arthur princes army starbuck\n",
        "Total:8\n",
        "No encaja... views\n",
        "\n",
        "Palabras del topic = sports coney diesel tatum tvs jennifer ink pizza food\n",
        "Total:9\n",
        "No encaja... diesel\n",
        "\n",
        "Palabras del topic = jeep golf pot nous vein crunch minor lightning\n",
        "Total:8\n",
        "No encaja... minor\n",
        "\n",
        "Palabras del topic = car insurance john gas spur dr cake repairs tires automotive\n",
        "Total:10\n",
        "No encaja... john\n",
        "\n",
        "Palabras del topic = pharmacy burger burgers cvs prescription fish bun store pet jeans\n",
        "Total:10\n",
        "No encaja... prescription\n",
        "\n",
        "Palabras del topic = car he company professional truck rental shops store\n",
        "Total:8\n",
        "No encaja... he\n",
        "\n",
        "Palabras del topic = animals ribs metropolis marcus vet vets accessories stems humbled\n",
        "Total:9\n",
        "No encaja... marcus\n",
        "\n",
        "Palabras del topic = stills bangs village postal court cracking fields sears\n",
        "Total:8\n",
        "No encaja... fields\n",
        "\n",
        "Palabras del topic = learning melissa mash jammed bullet renditions scottish lamps\n",
        "Total:8\n",
        "No encaja... learning\n",
        "\n",
        "Palabras del topic = pizza airport dr crust treatment pizzas cloud p en\n",
        "Total:9\n",
        "No encaja... treatment\n",
        "\n",
        "Palabras del topic = geeks carpets scheduled gallery ruck cleaning slab electronics\n",
        "Total:8\n",
        "No encaja... ruck\n",
        "\n",
        "Palabras del topic = et le de est une la un les\n",
        "Total:8\n",
        "No encaja... un\n",
        "\n",
        "Palabras del topic = breakfast produce groceries eggs grocery gear market university\n",
        "Total:8\n",
        "No encaja... university\n",
        "\n",
        "Palabras del topic = pie links gel marie crisp nails ryan brookline mein\n",
        "Total:9\n",
        "No encaja... mein\n",
        "\n",
        "Palabras del topic = happiness atm harper infused\n",
        "Total:4\n",
        "No encaja... atm\n",
        "\n",
        "Palabras del topic = patriot terrace cake jerry wheel tee baskin robbins\n",
        "Total:8\n",
        "No encaja... wheel\n",
        "\n",
        "Palabras del topic = bob sandals garage australian empanadas louie boots cruz incoming\n",
        "Total:9\n",
        "No encaja... incoming\n",
        "\n",
        "Palabras del topic = food we chinese restaurant bar pizza sauce menu ordered our\n",
        "Total:10\n",
        "No encaja... ordered\n",
        "\n",
        "Palabras del topic = pearl fraser band performing gus songs orchestra williams purveyor\n",
        "Total:9\n",
        "No encaja... pearl\n",
        "\n",
        "Palabras del topic = pizza kitty hair taco bell barber sonata stewart grimaldi cut\n",
        "Total:10\n",
        "No encaja... sonata\n",
        "\n",
        "Palabras del topic = iga survival ob tex mex palms fruits prairie dore\n",
        "Total:9\n",
        "No encaja... survival\n",
        "\n",
        "Palabras del topic = ike brian mecca receipts horns diner spewing\n",
        "Total:7\n",
        "No encaja... receipts\n",
        "\n",
        "Palabras del topic = exam cod teacher howie dr magnet marsh gynecologists\n",
        "Total:8\n",
        "No encaja... cod\n",
        "\n",
        "Palabras del topic = shoe repair pv shoes produce jun leather pair aye\n",
        "Total:9\n",
        "No encaja... jun\n",
        "\n",
        "Palabras del topic = kennedy patricia park losses eggplant clearance indian instruments learning\n",
        "Total:9\n",
        "No encaja... learning\n",
        "\n",
        "Palabras del topic = rags lawsuit cord hi odor laptop invoice bel wi\n",
        "Total:9\n",
        "No encaja... invoice\n",
        "\n",
        "Palabras del topic = science bally kyle berries branch pumps police exhibit\n",
        "Total:8\n",
        "No encaja... pumps\n",
        "\n",
        "Palabras del topic = coffee latte starbucks cave usher creek line froth hall eagle\n",
        "Total:10\n",
        "No encaja... line\n",
        "\n",
        "Palabras del topic = lankan sri sol boba hobbies wakes\n",
        "Total:6\n",
        "No encaja... wakes\n",
        "\n",
        "Palabras del topic = brewing rossini eddie moe hydraulic systems\n",
        "Total:6\n",
        "No encaja... systems\n",
        "\n",
        "Palabras del topic = coffee el cafe hello starbucks grand beans\n",
        "Total:7\n",
        "No encaja... grand\n",
        "\n",
        "Palabras del topic = leggings tattoo tattoos edition flights oxidized angered\n",
        "Total:7\n",
        "No encaja... edition\n",
        "\n",
        "Palabras del topic = costa del mcdonald camping steak anxiety adoption\n",
        "Total:7\n",
        "No encaja... adoption\n",
        "\n",
        "Palabras del topic = luxor carolyn z rental rented jp printers performers pizza\n",
        "Total:9\n",
        "No encaja... performers\n",
        "\n",
        "Palabras del topic = stuffing concert burro rv tower scripts warp\n",
        "Total:7\n",
        "No encaja... stuffing\n",
        "\n",
        "Palabras del topic = chinatown biker tejas outlet vinny comb cvs transactions\n",
        "Total:8\n",
        "No encaja... transactions\n",
        "\n",
        "Palabras del topic = tong dumplings compromised complex lease seats crackers theatre\n",
        "Total:8\n",
        "No encaja... compromised\n",
        "\n",
        "Palabras del topic = debra puppy wax cortez stick animal qt lemonade tricked\n",
        "Total:9\n",
        "No encaja... qt\n",
        "\n",
        "Palabras del topic = bonnie lam eyebrow lia hills seven mario south hundred\n",
        "Total:9\n",
        "No encaja... hundred\n",
        "\n",
        "Palabras del topic = blades homebrew chestnuts thursdays careers programs\n",
        "Total:6\n",
        "No encaja... chestnuts\n",
        "\n",
        "Palabras del topic = burrito bikes slowest julio sewing philly museum tan\n",
        "Total:8\n",
        "No encaja... museum\n",
        "\n",
        "Palabras del topic = madison coffee cloths officers shelter subway saloon shelters adopt sub\n",
        "Total:10\n",
        "No encaja... madison\n",
        "\n",
        "Palabras del topic = apple toy breakfasts batter calibre accessories babcock\n",
        "Total:7\n",
        "No encaja... batter\n"
       ]
      }
     ],
     "prompt_number": 30
    },
    {
     "cell_type": "heading",
     "level": 4,
     "metadata": {},
     "source": [
      "\u00bfQu\u00e9 palabras son del topic y cu\u00e1les son similares?"
     ]
    },
    {
     "cell_type": "code",
     "collapsed": false,
     "input": [
      "print \"\\nTEMAS (palabras + contexto): \" \n",
      "for temas in contextoTemas:\n",
      "    print \"TEMA\"\n",
      "    original = temas[0]\n",
      "    contexto = temas [1:]\n",
      "    print original\n",
      "    print contexto\n",
      "    print \"Palabras del tema\"\n",
      "    print len(temas)\n",
      "   "
     ],
     "language": "python",
     "metadata": {},
     "outputs": [
      {
       "output_type": "stream",
       "stream": "stdout",
       "text": [
        "\n",
        "TEMAS (palabras + contexto): \n",
        "TEMA\n",
        "[(u'machines', u'0.003'), [(u'machine', 0.6709091663360596), (u'computers', 0.6631938219070435), (u'devices', 0.5618451833724976)]]\n",
        "[[(u'vous', u'0.002'), [(u'comme', 0.6364306211471558), (u'lui', 0.5969249606132507), (u'que', 0.5869627594947815)]], [(u'turkey', u'0.002'), [(u'zmir', 0.6309781670570374), (u'greece', 0.622646152973175), (u'antalya', 0.6099112033843994)]], [(u'sandwich', u'0.002'), [(u'malvinas', 0.46658235788345337), (u'casserole', 0.4581749439239502), (u'kebab', 0.456024169921875)]], [(u'salad', u'0.002'), [(u'salads', 0.6756925582885742), (u'lettuce', 0.6045132875442505), (u'grilled', 0.5984737277030945)]], [(u'bartenders', u'0.002'), [(u'liqueur', 0.4275156855583191), (u'yogurt', 0.42643603682518005), (u'soda', 0.41782346367836)]], [(u'fries', u'0.002'), [(u'frites', 0.7391574382781982), (u'dish', 0.6220013499259949), (u'grilled', 0.6159789562225342)]], [(u'gym', u'0.002'), [(u'medallist', 0.4525585174560547), (u'nightclub', 0.40807169675827026), (u'penthouse', 0.4026105999946594)]], [(u'lock', u'0.002'), [(u'locks', 0.5322354435920715), (u'locking', 0.4496089518070221), (u'levers', 0.44104117155075073)]], [(u'deli', u'0.002'), [(u'funghi', 0.46767354011535645), (u'mex', 0.4473966360092163), (u'fil', 0.43891093134880066)]]]\n",
        "Palabras del tema\n",
        "10\n",
        "TEMA\n",
        "[(u'show', u'0.004'), [(u'shows', 0.6578579545021057), (u'sitcom', 0.5811629295349121), (u'primetime', 0.5744248628616333)]]\n",
        "[[(u'connolly', u'0.004'), [(u'pearse', 0.5198872089385986), (u'eoin', 0.4560333490371704), (u'irb', 0.4543003737926483)]], [(u'mcclintock', u'0.003'), [(u'mandrell', 0.5787379741668701), (u'barbara', 0.5456135272979736), (u'tatum', 0.4848267734050751)]], [(u'forum', u'0.003'), [(u'forums', 0.7081589698791504), (u'portal', 0.5774803757667542), (u'blog', 0.5727112293243408)]], [(u'comic', u'0.003'), [(u'comics', 0.6688812375068665), (u'pussycats', 0.5717819929122925), (u'josie', 0.5507961511611938)]], [(u'acts', u'0.003'), [(u'ephesians', 0.5207871198654175), (u'colossians', 0.485669881105423), (u'galatians', 0.47509944438934326)]], [(u'comics', u'0.002'), [(u'comic', 0.6688812375068665), (u'marvel', 0.6236416101455688), (u'superhero', 0.6006888151168823)]], [(u'josh', u'0.002'), [(u'hartnett', 0.567642331123352), (u'randy', 0.5241639614105225), (u'harmon', 0.5219283699989319)]], [(u'decaying', u'0.002'), [(u'humus', 0.5178887248039246), (u'earthworms', 0.4994205832481384), (u'biomass', 0.488495409488678)]]]\n",
        "Palabras del tema\n",
        "9\n",
        "TEMA\n",
        "[(u'banks', u'0.004'), [(u'bank', 0.6360571980476379), (u'banking', 0.5739050507545471), (u'depositors', 0.518143892288208)]]\n",
        "[[(u'rv', u'0.003'), [(u'nisi', 0.5962772369384766), (u'szolnok', 0.5400358438491821), (u'szombathely', 0.5328348875045776)]], [(u'bank', u'0.002'), [(u'banks', 0.6360571384429932), (u'monetary', 0.5046269297599792), (u'banking', 0.49882829189300537)]], [(u'eggs', u'0.002'), [(u'egg', 0.6737321615219116), (u'incubated', 0.6273841857910156), (u'chicks', 0.5720614790916443)]], [(u'host', u'0.002'), [(u'hosts', 0.5571180582046509), (u'hosted', 0.5025107860565186), (u'winfrey', 0.4549562335014343)]], [(u'truck', u'0.002'), [(u'car', 0.588114321231842), (u'limousines', 0.5851356983184814), (u'trucks', 0.5784831643104553)]], [(u'food', u'0.002'), [(u'foods', 0.5935920476913452), (u'nutrition', 0.5609596371650696), (u'meat', 0.5433114171028137)]]]\n",
        "Palabras del tema\n",
        "7\n",
        "TEMA\n",
        "[(u'knots', u'0.002'), [(u'mph', 0.5160205364227295), (u'knot', 0.44090837240219116), (u'speed', 0.42296603322029114)]]\n",
        "[[(u'festival', u'0.002'), [(u'festivals', 0.7343953251838684), (u'celebration', 0.594744861125946), (u'celebrations', 0.591787576675415)]], [(u'italian', u'0.002'), [(u'giuseppe', 0.6289517879486084), (u'giacomo', 0.6255179643630981), (u'francesco', 0.6237643957138062)]], [(u'ty', u'0.002'), [(u'cobb', 0.742376446723938), (u'kosi', 0.5243465304374695), (u'polg', 0.489662766456604)]], [(u'bogus', u'0.002'), [(u'sabatini', 0.42503318190574646), (u'espousing', 0.3824211061000824), (u'harper', 0.3780198097229004)]], [(u'manufacture', u'0.002'), [(u'plastics', 0.6304198503494263), (u'manufacturing', 0.580195426940918), (u'manufactured', 0.566596269607544)]], [(u'neighbors', u'0.002'), [(u'neighbours', 0.5562359094619751), (u'neighbour', 0.4324527680873871), (u'ties', 0.42926567792892456)]], [(u'pete', u'0.002'), [(u'townshend', 0.600084125995636), (u'seeger', 0.5557348728179932), (u'tommy', 0.5476057529449463)]]]\n",
        "Palabras del tema\n",
        "8\n",
        "TEMA\n",
        "[(u'payments', u'0.003'), [(u'payment', 0.6565755605697632), (u'debts', 0.6120195388793945), (u'profits', 0.5957639217376709)]]\n",
        "[[(u'gamer', u'0.003'), [(u'gamespy', 0.5437537431716919), (u'gaming', 0.5241978168487549), (u'gamespot', 0.4816334843635559)]], [(u'heritage', u'0.002'), [(u'unesco', 0.5199446678161621), (u'historic', 0.5181682705879211), (u'multicultural', 0.4413611590862274)]], [(u'battles', u'0.002'), [(u'battle', 0.6795479655265808), (u'bloodiest', 0.5687829256057739), (u'fought', 0.5644319653511047)]], [(u'twins', u'0.002'), [(u'cubs', 0.43969452381134033), (u'metrodome', 0.4270920753479004), (u'siblings', 0.41895008087158203)]], [(u'bloomfield', u'0.002'), [(u'beverly', 0.4850354790687561), (u'palmer', 0.4230004847049713), (u'thornton', 0.4221915602684021)]], [(u'jersey', u'0.002'), [(u'newark', 0.5703535079956055), (u'york', 0.5431094169616699), (u'guernsey', 0.5147666931152344)]], [(u'mike', u'0.002'), [(u'chris', 0.5950108766555786), (u'doug', 0.5873435735702515), (u'tyson', 0.574318528175354)]]]\n",
        "Palabras del tema\n",
        "8\n",
        "TEMA\n",
        "[(u'bar', u'0.003'), [(u'bars', 0.49974143505096436), (u'ilan', 0.479716956615448), (u'bartender', 0.4615752100944519)]]\n",
        "[[(u'pool', u'0.002'), [(u'swimming', 0.5901857614517212), (u'brayford', 0.5743468403816223), (u'pools', 0.48397573828697205)]], [(u'venue', u'0.002'), [(u'venues', 0.6429197192192078), (u'concerts', 0.5917370319366455), (u'stadiums', 0.5202497839927673)]], [(u'music', u'0.002'), [(u'musical', 0.7126026153564453), (u'jazz', 0.6254251003265381), (u'electronica', 0.6237646341323853)]], [(u'food', u'0.002'), [(u'foods', 0.5935920476913452), (u'nutrition', 0.5609596371650696), (u'meat', 0.5433114171028137)]], [(u'thai', u'0.002'), [(u'muay', 0.7023369073867798), (u'kickboxing', 0.5489874482154846), (u'taekwondo', 0.5204257965087891)]], [(u'julie', u'0.002'), [(u'carrie', 0.6082072854042053), (u'billie', 0.5465447902679443), (u'kathryn', 0.5388824939727783)]], [(u'dogs', u'0.002'), [(u'dog', 0.6386380195617676), (u'beagles', 0.6171484589576721), (u'breed', 0.604085385799408)]], [(u'catering', u'0.002'), [(u'shops', 0.5005740523338318), (u'boutiques', 0.49995410442352295), (u'commercial', 0.48922044038772583)]]]\n",
        "Palabras del tema\n",
        "9\n",
        "TEMA\n",
        "[(u'edinburgh', u'0.003'), [(u'glasgow', 0.645879864692688), (u'kinross', 0.6135371923446655), (u'scotland', 0.5547587871551514)]]\n",
        "[[(u'bike', u'0.002'), [(u'bicycle', 0.6219502091407776), (u'cycling', 0.6117566823959351), (u'bikes', 0.608700156211853)]], [(u'gm', u'0.002'), [(u'goodwrench', 0.5874866247177124), (u'daewoo', 0.5311043858528137), (u'toyota', 0.4980263113975525)]], [(u'discounted', u'0.002'), [(u'discount', 0.4951908588409424), (u'inflated', 0.39547380805015564), (u'predictor', 0.37645864486694336)]], [(u'pizza', u'0.002'), [(u'garnish', 0.6410495638847351), (u'tomato', 0.6127575039863586), (u'sandwiches', 0.585567831993103)]], [(u'fixing', u'0.002'), [(u'fix', 0.45859575271606445), (u'eliminate', 0.37659329175949097), (u'marginalist', 0.3534691333770752)]], [(u'centre', u'0.002'), [(u'centres', 0.662693977355957), (u'center', 0.6496186256408691), (u'centers', 0.5415157675743103)]], [(u'lil', u'0.001'), [(u'hazeh', 0.5146135687828064), (u'ke', 0.47313937544822693), (u'laz', 0.46156036853790283)]], [(u'brien', u'0.001'), [(u'donnell', 0.7635447978973389), (u'keefe', 0.7195521593093872), (u'toole', 0.704605221748352)]], [(u'gathered', u'0.001'), [(u'gather', 0.5969748497009277), (u'sent', 0.4649743437767029), (u'gathering', 0.4423453211784363)]]]\n",
        "Palabras del tema\n",
        "10\n",
        "TEMA\n",
        "[(u'union', u'0.005'), [(u'republics', 0.5313928723335266), (u'bloc', 0.5259892344474792), (u'comecon', 0.4789702892303467)]]\n",
        "[[(u'ed', u'0.005'), [(u'eds', 0.675711452960968), (u'routledge', 0.6313824653625488), (u'isbn', 0.6261168718338013)]], [(u'views', u'0.003'), [(u'viewpoints', 0.6727097034454346), (u'opinions', 0.651371955871582), (u'view', 0.6465222239494324)]], [(u'lance', u'0.002'), [(u'brett', 0.4454616904258728), (u'shaun', 0.42738860845565796), (u'randy', 0.4114709794521332)]], [(u'arthur', u'0.002'), [(u'guinevere', 0.527299702167511), (u'edward', 0.52412348985672), (u'john', 0.5209218859672546)]], [(u'princes', u'0.002'), [(u'nobles', 0.6288262605667114), (u'rulers', 0.600117564201355), (u'hohenstaufen', 0.5823472142219543)]], [(u'army', u'0.002'), [(u'troops', 0.7543419599533081), (u'armies', 0.6973645091056824), (u'forces', 0.6869031190872192)]], [(u'starbuck', u'0.002'), [(u'galactica', 0.5642171502113342), (u'captain', 0.53377366065979), (u'battlestar', 0.5082818269729614)]]]\n",
        "Palabras del tema\n",
        "8\n",
        "TEMA\n",
        "[(u'sports', u'0.004'), [(u'sport', 0.6196601986885071), (u'varsity', 0.5766409635543823), (u'athletes', 0.5734713673591614)]]\n",
        "[[(u'coney', u'0.003'), [(u'rhode', 0.5058504343032837), (u'arapawa', 0.4904353618621826), (u'parlor', 0.44400566816329956)]], [(u'diesel', u'0.002'), [(u'diesels', 0.6474089622497559), (u'gasoline', 0.5949485301971436), (u'petrol', 0.5842217803001404)]], [(u'tatum', u'0.002'), [(u'beadle', 0.5699994564056396), (u'tobey', 0.5264907479286194), (u'geneticist', 0.5144100785255432)]], [(u'tvs', u'0.002'), [(u'cameras', 0.5796807408332825), (u'vcrs', 0.548855185508728), (u'screens', 0.5400909185409546)]], [(u'jennifer', u'0.002'), [(u'lopez', 0.5861907005310059), (u'linda', 0.5557653903961182), (u'amanda', 0.5510096549987793)]], [(u'ink', u'0.002'), [(u'inks', 0.6227914094924927), (u'ballpoint', 0.5642479658126831), (u'stencil', 0.5390706062316895)]], [(u'pizza', u'0.002'), [(u'garnish', 0.6410495638847351), (u'tomato', 0.6127575039863586), (u'sandwiches', 0.585567831993103)]], [(u'food', u'0.002'), [(u'foods', 0.5935920476913452), (u'nutrition', 0.5609596371650696), (u'meat', 0.5433114171028137)]]]\n",
        "Palabras del tema\n",
        "9\n",
        "TEMA\n",
        "[(u'jeep', u'0.005'), [(u'jeeps', 0.6103869676589966), (u'willys', 0.6061051487922668), (u'wagoneer', 0.6035608053207397)]]\n",
        "[[(u'golf', u'0.003'), [(u'golfing', 0.5239298343658447), (u'croquet', 0.49013638496398926), (u'golfers', 0.48462820053100586)]], [(u'pot', u'0.002'), [(u'pol', 0.4868670105934143), (u'stew', 0.4591798782348633), (u'roasted', 0.4542331099510193)]], [(u'nous', u'0.002'), [(u'iamblicus', 0.5823770761489868), (u'intellect', 0.5318392515182495), (u'emanated', 0.5271890163421631)]], [(u'vein', u'0.002'), [(u'ductus', 0.4417422115802765), (u'hepatic', 0.42379486560821533), (u'venosus', 0.4225009083747864)]], [(u'crunch', u'0.002'), [(u'bang', 0.45946407318115234), (u'taa', 0.45227065682411194), (u'grin', 0.37472331523895264)]], [(u'minor', u'0.001'), [(u'major', 0.4703737497329712), (u'mixolydian', 0.4674546718597412), (u'toccata', 0.40923553705215454)]], [(u'lightning', u'0.001'), [(u'blast', 0.45261308550834656), (u'bolts', 0.44116103649139404), (u'sparks', 0.42549648880958557)]]]\n",
        "Palabras del tema\n",
        "8\n",
        "TEMA\n",
        "[(u'car', u'0.004'), [(u'cars', 0.6873544454574585), (u'driver', 0.6266971826553345), (u'racer', 0.6002002358436584)]]\n",
        "[[(u'insurance', u'0.004'), [(u'underwriting', 0.5887140035629272), (u'insurers', 0.5693444013595581), (u'pensions', 0.5623472929000854)]], [(u'john', u'0.004'), [(u'william', 0.6548610925674438), (u'james', 0.6476641893386841), (u'thomas', 0.6355545520782471)]], [(u'gas', u'0.003'), [(u'gases', 0.6029703617095947), (u'propane', 0.5884480476379395), (u'liquefied', 0.5691782236099243)]], [(u'spur', u'0.003'), [(u'ocala', 0.4884611666202545), (u'downtown', 0.47918808460235596), (u'junction', 0.4314694404602051)]], [(u'dr', u'0.003'), [(u'forrester', 0.5669527649879456), (u'silkworth', 0.5376954674720764), (u'researcher', 0.5049779415130615)]], [(u'cake', u'0.003'), [(u'pastries', 0.6492426991462708), (u'sausage', 0.6352653503417969), (u'cakes', 0.6349467039108276)]], [(u'repairs', u'0.002'), [(u'repair', 0.5297478437423706), (u'expensive', 0.47370925545692444), (u'repaired', 0.47222578525543213)]], [(u'tires', u'0.002'), [(u'handlebars', 0.6415190696716309), (u'tyres', 0.588897705078125), (u'tire', 0.581372857093811)]], [(u'automotive', u'0.002'), [(u'automobile', 0.6013901233673096), (u'aerospace', 0.5592944025993347), (u'automobiles', 0.5124433040618896)]]]\n",
        "Palabras del tema\n",
        "10\n",
        "TEMA\n",
        "[(u'pharmacy', u'0.007'), [(u'dentistry', 0.4937310814857483), (u'nurses', 0.43994924426078796), (u'nursing', 0.4288107752799988)]]\n",
        "[[(u'burger', u'0.005'), [(u'mcdonald', 0.42134514451026917), (u'supermarket', 0.4098590910434723), (u'restaurant', 0.40801894664764404)]], [(u'burgers', u'0.003'), [(u'pizza', 0.5237303376197815), (u'sausages', 0.5225754976272583), (u'sandwiches', 0.5173678398132324)]], [(u'cvs', u'0.003'), [(u'toolkit', 0.5397076606750488), (u'debugging', 0.5319578051567078), (u'gimp', 0.5315752625465393)]], [(u'prescription', u'0.002'), [(u'pharmacists', 0.6767876148223877), (u'codeine', 0.6054040193557739), (u'medications', 0.6025981903076172)]], [(u'fish', u'0.002'), [(u'shellfish', 0.6848336458206177), (u'shrimp', 0.6837220191955566), (u'crustaceans', 0.6499814987182617)]], [(u'bun', u'0.002'), [(u'ate', 0.4865519404411316), (u'ketchup', 0.4740234613418579), (u'waitress', 0.4704447090625763)]], [(u'store', u'0.002'), [(u'stores', 0.6676709651947021), (u'grocery', 0.5893656015396118), (u'stored', 0.5787901878356934)]], [(u'pet', u'0.002'), [(u'pets', 0.5530662536621094), (u'kitten', 0.49017012119293213), (u'dog', 0.44789594411849976)]], [(u'jeans', u'0.002'), [(u'clothing', 0.5131009221076965), (u'trousers', 0.5089209675788879), (u'slacks', 0.5043500661849976)]]]\n",
        "Palabras del tema\n",
        "10\n",
        "TEMA\n",
        "[(u'car', u'0.003'), [(u'cars', 0.6873544454574585), (u'driver', 0.6266971826553345), (u'racer', 0.6002002358436584)]]\n",
        "[[(u'he', u'0.003'), [(u'him', 0.8092507123947144), (u'his', 0.782049298286438), (u'himself', 0.7498270273208618)]], [(u'company', u'0.003'), [(u'corporation', 0.688683807849884), (u'subsidiary', 0.6589584350585938), (u'companies', 0.6536319255828857)]], [(u'professional', u'0.002'), [(u'amateur', 0.5593247413635254), (u'competetive', 0.5166334509849548), (u'golfers', 0.49486976861953735)]], [(u'truck', u'0.002'), [(u'car', 0.588114321231842), (u'limousines', 0.5851356983184814), (u'trucks', 0.5784831643104553)]], [(u'rental', u'0.002'), [(u'rent', 0.5412921905517578), (u'tickets', 0.48400038480758667), (u'renting', 0.4828609824180603)]], [(u'shops', u'0.002'), [(u'restaurants', 0.6830660104751587), (u'stores', 0.6445717811584473), (u'cafes', 0.6349537372589111)]], [(u'store', u'0.002'), [(u'stores', 0.6676709651947021), (u'grocery', 0.5893656015396118), (u'stored', 0.5787901878356934)]]]\n",
        "Palabras del tema\n",
        "8\n",
        "TEMA\n",
        "[(u'animals', u'0.004'), [(u'humans', 0.7095890045166016), (u'animal', 0.6770766973495483), (u'invertebrates', 0.6220940351486206)]]\n",
        "[[(u'ribs', u'0.003'), [(u'abdomen', 0.6551054120063782), (u'vertebra', 0.633397102355957), (u'rectus', 0.6274923086166382)]], [(u'metropolis', u'0.003'), [(u'gotham', 0.5461524724960327), (u'city', 0.46977072954177856), (u'sprawl', 0.45618563890457153)]], [(u'marcus', u'0.002'), [(u'aurelius', 0.6996334791183472), (u'greil', 0.609052300453186), (u'annius', 0.6077013611793518)]], [(u'vet', u'0.002'), [(u'cumann', 0.4133475422859192), (u'ngaedheal', 0.40265440940856934), (u've', 0.38951951265335083)]], [(u'vets', u'0.002'), [(u'rgy', 0.40317824482917786), (u'federazione', 0.40226030349731445), (u'magyar', 0.40140748023986816)]], [(u'accessories', u'0.002'), [(u'fabrics', 0.49790123105049133), (u'furnishings', 0.49722445011138916), (u'dresses', 0.48924410343170166)]], [(u'stems', u'0.002'), [(u'derived', 0.5468369722366333), (u'derives', 0.5404506921768188), (u'stem', 0.5211365818977356)]], [(u'humbled', u'0.002'), [(u'obedient', 0.5241544246673584), (u'merciful', 0.47442319989204407), (u'dishonour', 0.45125117897987366)]]]\n",
        "Palabras del tema\n",
        "9\n",
        "TEMA\n",
        "[(u'stills', u'0.003'), [(u'crosby', 0.4637641906738281), (u'soundtrack', 0.43297064304351807), (u'bfi', 0.4036237597465515)]]\n",
        "[[(u'bangs', u'0.002'), [(u'lester', 0.5299230217933655), (u'christgau', 0.4438461661338806), (u'pearlman', 0.43078774213790894)]], [(u'village', u'0.002'), [(u'town', 0.6628715991973877), (u'kingsbridge', 0.5400083661079407), (u'slievemore', 0.5230017900466919)]], [(u'postal', u'0.002'), [(u'iata', 0.49195554852485657), (u'postcode', 0.4618147015571594), (u'telephone', 0.4439314007759094)]], [(u'court', u'0.002'), [(u'courts', 0.6985181570053101), (u'judge', 0.5775678157806396), (u'certiorari', 0.57306969165802)]], [(u'cracking', u'0.002'), [(u'naphtha', 0.4584290087223053), (u'hydrogenation', 0.44475239515304565), (u'alkylation', 0.4303244948387146)]], [(u'fields', u'0.001'), [(u'field', 0.6140261888504028), (u'disciplines', 0.5821844935417175), (u'subdisciplines', 0.4989585876464844)]], [(u'sears', u'0.001'), [(u'roebuck', 0.5713976621627808), (u'gte', 0.4627966284751892), (u'rebadged', 0.443111777305603)]]]\n",
        "Palabras del tema\n",
        "8\n",
        "TEMA\n",
        "[(u'learning', u'0.004'), [(u'learners', 0.5493286848068237), (u'teaching', 0.5483901500701904), (u'educational', 0.5291861295700073)]]\n",
        "[[(u'melissa', u'0.003'), [(u'etheridge', 0.5448558330535889), (u'judy', 0.4927254319190979), (u'kristin', 0.4892507791519165)]], [(u'mash', u'0.003'), [(u'lauter', 0.692367434501648), (u'lautering', 0.6821396350860596), (u'decoction', 0.6733540296554565)]], [(u'jammed', u'0.002'), [(u'malfunctioning', 0.4095502197742462), (u'locked', 0.3882240951061249), (u'alarm', 0.3834347128868103)]], [(u'bullet', u'0.001'), [(u'bullets', 0.6073930263519287), (u'projectile', 0.5792858600616455), (u'crimp', 0.5744973421096802)]], [(u'renditions', u'0.001'), [(u'schodt', 0.44433191418647766), (u'lyrics', 0.41205722093582153), (u'songs', 0.4089139401912689)]], [(u'scottish', u'0.001'), [(u'scotland', 0.6288460493087769), (u'scots', 0.5896947383880615), (u'irish', 0.5330702066421509)]], [(u'lamps', u'0.001'), [(u'lamp', 0.6469577550888062), (u'incandescent', 0.6135692000389099), (u'lights', 0.6105747222900391)]]]\n",
        "Palabras del tema\n",
        "8\n",
        "TEMA\n",
        "[(u'pizza', u'0.005'), [(u'garnish', 0.6410495638847351), (u'tomato', 0.6127575039863586), (u'sandwiches', 0.585567831993103)]]\n",
        "[[(u'airport', u'0.003'), [(u'heathrow', 0.6002347469329834), (u'airports', 0.587256669998169), (u'schiphol', 0.5693492293357849)]], [(u'dr', u'0.003'), [(u'forrester', 0.5669527649879456), (u'silkworth', 0.5376954674720764), (u'researcher', 0.5049779415130615)]], [(u'crust', u'0.003'), [(u'lithosphere', 0.590729832649231), (u'overlying', 0.5620282292366028), (u'pyroxene', 0.5571419596672058)]], [(u'treatment', u'0.002'), [(u'chemotherapy', 0.6607170104980469), (u'treatments', 0.658667802810669), (u'ect', 0.6446762084960938)]], [(u'pizzas', u'0.002'), [(u'desserts', 0.48188328742980957), (u'pasta', 0.46734002232551575), (u'meats', 0.42886120080947876)]], [(u'cloud', u'0.002'), [(u'clouds', 0.6614893674850464), (u'oort', 0.6122887134552002), (u'magellanic', 0.6009886860847473)]], [(u'p', u'0.002'), [(u'lfloor', 0.6026482582092285), (u'adic', 0.575746476650238), (u'j', 0.5742473602294922)]], [(u'en', u'0.002'), [(u'masse', 0.5269021391868591), (u'mise', 0.512779712677002), (u'laye', 0.4781709909439087)]]]\n",
        "Palabras del tema\n",
        "9\n",
        "TEMA\n",
        "[(u'geeks', u'0.004'), [(u'newbie', 0.4441167712211609), (u'geek', 0.43050503730773926), (u'bdsm', 0.4044227600097656)]]\n",
        "[[(u'carpets', u'0.003'), [(u'furniture', 0.5417132377624512), (u'enamels', 0.5279718637466431), (u'woolen', 0.5156062245368958)]], [(u'scheduled', u'0.003'), [(u'announced', 0.5594321489334106), (u'planned', 0.5584203004837036), (u'slated', 0.5366871356964111)]], [(u'gallery', u'0.003'), [(u'museum', 0.6111009120941162), (u'galleries', 0.6088561415672302), (u'artcyclopedia', 0.5017299056053162)]], [(u'ruck', u'0.002'), [(u'staples', 0.527612030506134), (u'kerenyi', 0.48684054613113403), (u'fogarty', 0.4236655533313751)]], [(u'cleaning', u'0.002'), [(u'washing', 0.526694655418396), (u'cleaned', 0.4998300075531006), (u'poultice', 0.4932507872581482)]], [(u'slab', u'0.002'), [(u'granite', 0.5862172245979309), (u'basalt', 0.5131990909576416), (u'slag', 0.5003010630607605)]], [(u'electronics', u'0.002'), [(u'appliances', 0.5752370357513428), (u'microelectronics', 0.571789026260376), (u'samsung', 0.5595158338546753)]]]\n",
        "Palabras del tema\n",
        "8\n",
        "TEMA\n",
        "[(u'et', u'0.008'), [(u'montr', 0.5622597932815552), (u'nawawi', 0.5554885864257812), (u'kitab', 0.534244179725647)]]\n",
        "[[(u'le', u'0.007'), [(u'dans', 0.649692177772522), (u'personne', 0.6298173069953918), (u'petit', 0.6096151471138)]], [(u'de', u'0.006'), [(u'entre', 0.601527214050293), (u'couverte', 0.5790307521820068), (u'personne', 0.5628978610038757)]], [(u'est', u'0.005'), [(u'gwh', 0.622077465057373), (u'twh', 0.5540138483047485), (u'kwh', 0.5280016660690308)]], [(u'une', u'0.005'), [(u'dans', 0.6505750417709351), (u'personne', 0.6392723917961121), (u'avec', 0.6266001462936401)]], [(u'la', u'0.005'), [(u'que', 0.649386465549469), (u'personne', 0.6397255659103394), (u'entre', 0.6303313374519348)]], [(u'un', u'0.004'), [(u'peacekeeping', 0.581312894821167), (u'unamsil', 0.5629798173904419), (u'osce', 0.559049665927887)]], [(u'les', u'0.004'), [(u'etudes', 0.5908987522125244), (u'couverte', 0.5817051529884338), (u'enfants', 0.5793309807777405)]]]\n",
        "Palabras del tema\n",
        "8\n",
        "TEMA\n",
        "[(u'breakfast', u'0.003'), [(u'pickles', 0.5362318754196167), (u'pancakes', 0.5354242920875549), (u'sausage', 0.5325694680213928)]]\n",
        "[[(u'produce', u'0.003'), [(u'generate', 0.6467134952545166), (u'yield', 0.6460063457489014), (u'producing', 0.6437383890151978)]], [(u'groceries', u'0.003'), [(u'buy', 0.5141249895095825), (u'retailers', 0.5036923885345459), (u'buying', 0.4935871958732605)]], [(u'eggs', u'0.003'), [(u'egg', 0.6737321615219116), (u'incubated', 0.6273841857910156), (u'chicks', 0.5720614790916443)]], [(u'grocery', u'0.002'), [(u'stores', 0.6658579111099243), (u'store', 0.5893656015396118), (u'supermarket', 0.5495827794075012)]], [(u'gear', u'0.002'), [(u'gears', 0.5184696912765503), (u'pads', 0.4700503945350647), (u'gearbox', 0.4536114037036896)]], [(u'market', u'0.002'), [(u'markets', 0.7716901302337646), (u'economy', 0.5496143102645874), (u'pricing', 0.5486270189285278)]], [(u'university', u'0.002'), [(u'college', 0.7252879738807678), (u'institute', 0.6800453066825867), (u'polytechnic', 0.5961349010467529)]]]\n",
        "Palabras del tema\n",
        "8\n",
        "TEMA\n",
        "[(u'pie', u'0.004'), [(u'pecan', 0.5079324245452881), (u'mousse', 0.46852636337280273), (u'burgers', 0.4498399496078491)]]\n",
        "[[(u'links', u'0.004'), [(u'website', 0.6088888049125671), (u'references', 0.5783069729804993), (u'homepage', 0.5774111747741699)]], [(u'gel', u'0.004'), [(u'agarose', 0.7092499136924744), (u'electrophoresis', 0.6535962820053101), (u'ethidium', 0.6209571361541748)]], [(u'marie', u'0.003'), [(u'marguerite', 0.6779954433441162), (u'antoinette', 0.6186943054199219), (u'joliot', 0.5850211381912231)]], [(u'crisp', u'0.003'), [(u'pungent', 0.49948805570602417), (u'raspberry', 0.48880553245544434), (u'malts', 0.4792664349079132)]], [(u'nails', u'0.003'), [(u'kmfdm', 0.5578863024711609), (u'inch', 0.5048449039459229), (u'reznor', 0.4789259135723114)]], [(u'ryan', u'0.002'), [(u'nolan', 0.5679288506507874), (u'brett', 0.5210350751876831), (u'michaels', 0.5170413255691528)]], [(u'brookline', u'0.002'), [(u'watertown', 0.6284199953079224), (u'roxbury', 0.625653862953186), (u'massachusetts', 0.6124094128608704)]], [(u'mein', u'0.002'), [(u'kampf', 0.8359832763671875), (u'leben', 0.5184064507484436), (u'intentionalists', 0.4318845570087433)]]]\n",
        "Palabras del tema\n",
        "9\n",
        "TEMA\n",
        "[(u'happiness', u'0.005'), [(u'virtue', 0.5580577850341797), (u'compassion', 0.554570734500885), (u'goodness', 0.5516884326934814)]]\n",
        "[[(u'atm', u'0.003'), [(u'mpls', 0.5893503427505493), (u'lans', 0.5032042264938354), (u'internetwork', 0.5000019073486328)]], [(u'harper', u'0.002'), [(u'praeger', 0.5496058464050293), (u'harpercollins', 0.5152343511581421), (u'palgrave', 0.5078496932983398)]], [(u'infused', u'0.002'), [(u'sparkling', 0.46873795986175537), (u'culinary', 0.4470158815383911), (u'spicy', 0.44274383783340454)]]]\n",
        "Palabras del tema\n",
        "4\n",
        "TEMA\n",
        "[(u'patriot', u'0.004'), [(u'abolitionist', 0.47013145685195923), (u'paoli', 0.42504844069480896), (u'revolutionary', 0.4128323793411255)]]\n",
        "[[(u'terrace', u'0.004'), [(u'overlooking', 0.5661565065383911), (u'guildhall', 0.5580560564994812), (u'buildings', 0.5560950040817261)]], [(u'cake', u'0.002'), [(u'pastries', 0.6492426991462708), (u'sausage', 0.6352653503417969), (u'cakes', 0.6349467039108276)]], [(u'jerry', u'0.002'), [(u'larry', 0.5538541078567505), (u'reinsdorf', 0.5200896263122559), (u'doug', 0.4967573881149292)]], [(u'wheel', u'0.002'), [(u'wheels', 0.6770069599151611), (u'spokes', 0.60544353723526), (u'gears', 0.6019852161407471)]], [(u'tee', u'0.002'), [(u'teeing', 0.6733614206314087), (u'fairway', 0.6252175569534302), (u'putt', 0.592458963394165)]], [(u'baskin', u'0.001'), [(u'robbins', 0.3958367109298706), (u'riedlinger', 0.3861345052719116), (u'w', 0.36993885040283203)]], [(u'robbins', u'0.001'), [(u'engle', 0.541877806186676), (u'levine', 0.5200581550598145), (u'harris', 0.49119263887405396)]]]\n",
        "Palabras del tema\n",
        "8\n",
        "TEMA\n",
        "[(u'bob', u'0.004'), [(u'dobbs', 0.5755051374435425), (u'meusel', 0.5670491456985474), (u'uecker', 0.5666354894638062)]]\n",
        "[[(u'sandals', u'0.004'), [(u'gloves', 0.6346619129180908), (u'helmet', 0.6035822629928589), (u'straps', 0.5657968521118164)]], [(u'garage', u'0.003'), [(u'levan', 0.502863347530365), (u'basement', 0.46886804699897766), (u'nightclub', 0.44889068603515625)]], [(u'australian', u'0.003'), [(u'australia', 0.6498810052871704), (u'queensland', 0.6011975407600403), (u'nsw', 0.5591697692871094)]], [(u'empanadas', u'0.002'), [(u'leche', 0.8027724027633667), (u'dulce', 0.7237836122512817), (u'mandioca', 0.6764057874679565)]], [(u'louie', u'0.002'), [(u'huey', 0.7959802150726318), (u'ducktales', 0.5744990706443787), (u'duck', 0.5273559093475342)]], [(u'boots', u'0.002'), [(u'gloves', 0.6195977330207825), (u'bindings', 0.6008745431900024), (u'straps', 0.5890313982963562)]], [(u'cruz', u'0.002'), [(u'luzia', 0.5910640358924866), (u'catarina', 0.5898630023002625), (u'oswaldo', 0.580901563167572)]], [(u'incoming', u'0.002'), [(u'outbound', 0.41880807280540466), (u'outgoing', 0.41209426522254944), (u'radar', 0.41100889444351196)]]]\n",
        "Palabras del tema\n",
        "9\n",
        "TEMA\n",
        "[(u'food', u'0.005'), [(u'foods', 0.5935920476913452), (u'nutrition', 0.5609596371650696), (u'meat', 0.5433114171028137)]]\n",
        "[[(u'we', u'0.003'), [(u'you', 0.6969685554504395), (u'ourselves', 0.6172229647636414), (u'our', 0.6078225374221802)]], [(u'chinese', u'0.003'), [(u'cantonese', 0.6358059644699097), (u'taiwanese', 0.6318522691726685), (u'mandarin', 0.6174998879432678)]], [(u'restaurant', u'0.003'), [(u'restaurants', 0.6771990060806274), (u'gourmet', 0.5906567573547363), (u'dining', 0.570283830165863)]], [(u'bar', u'0.003'), [(u'bars', 0.49974143505096436), (u'ilan', 0.479716956615448), (u'bartender', 0.4615752100944519)]], [(u'pizza', u'0.003'), [(u'garnish', 0.6410495638847351), (u'tomato', 0.6127575039863586), (u'sandwiches', 0.585567831993103)]], [(u'sauce', u'0.002'), [(u'onions', 0.7113848924636841), (u'ketchup', 0.7003154754638672), (u'grilled', 0.6943486928939819)]], [(u'menu', u'0.002'), [(u'menus', 0.6938519477844238), (u'toolbar', 0.6596611738204956), (u'mdi', 0.5833179354667664)]], [(u'ordered', u'0.002'), [(u'instructed', 0.48475560545921326), (u'proceeded', 0.4557344317436218), (u'sent', 0.4501238465309143)]], [(u'our', u'0.002'), [(u'ourselves', 0.6650595664978027), (u'we', 0.6078225374221802), (u'ours', 0.5410863161087036)]]]\n",
        "Palabras del tema\n",
        "10\n",
        "TEMA\n",
        "[(u'pearl', u'0.004'), [(u'harbor', 0.575434148311615), (u'pehl', 0.4083607792854309), (u'cheung', 0.39777982234954834)]]\n",
        "[[(u'fraser', u'0.004'), [(u'hawke', 0.578796923160553), (u'whitlam', 0.5335607528686523), (u'kerr', 0.5245494842529297)]], [(u'band', u'0.002'), [(u'album', 0.6606073975563049), (u'glam', 0.6536048054695129), (u'bands', 0.6274223327636719)]], [(u'performing', u'0.002'), [(u'performed', 0.5134546160697937), (u'perform', 0.5072667598724365), (u'concerts', 0.48268768191337585)]], [(u'gus', u'0.002'), [(u'grissom', 0.6000826358795166), (u'visser', 0.48935386538505554), (u'suggs', 0.4671790599822998)]], [(u'songs', u'0.001'), [(u'song', 0.736981987953186), (u'tunes', 0.6785985231399536), (u'lyrics', 0.6757147908210754)]], [(u'orchestra', u'0.001'), [(u'philharmonic', 0.7476865649223328), (u'sinfonietta', 0.6311533451080322), (u'orchestras', 0.6277914047241211)]], [(u'williams', u'0.001'), [(u'robbie', 0.5337259769439697), (u'lefty', 0.5263611078262329), (u'jenkins', 0.5225876569747925)]], [(u'purveyor', u'0.001'), [(u'hero', 0.3958296775817871), (u'bittersweet', 0.3511677384376526), (u'charlatan', 0.3486722707748413)]]]\n",
        "Palabras del tema\n",
        "9\n",
        "TEMA\n",
        "[(u'pizza', u'0.008'), [(u'garnish', 0.6410495638847351), (u'tomato', 0.6127575039863586), (u'sandwiches', 0.585567831993103)]]\n",
        "[[(u'kitty', u'0.005'), [(u'darling', 0.45308130979537964), (u'betty', 0.44150876998901367), (u'carrie', 0.43951719999313354)]], [(u'hair', u'0.004'), [(u'haired', 0.6324715614318848), (u'beards', 0.6293771266937256), (u'blond', 0.6260538101196289)]], [(u'taco', u'0.004'), [(u'lentils', 0.3913017213344574), (u'labs', 0.38913577795028687), (u'plantains', 0.3761677145957947)]], [(u'bell', u'0.003'), [(u'laboratories', 0.4974316358566284), (u'labs', 0.4970368444919586), (u'tolls', 0.4699036180973053)]], [(u'barber', u'0.003'), [(u'radioed', 0.47076746821403503), (u'hine', 0.45066237449645996), (u'lanphier', 0.4305528998374939)]], [(u'sonata', u'0.003'), [(u'fugal', 0.6481282114982605), (u'scherzo', 0.6421549916267395), (u'concerto', 0.6247948408126831)]], [(u'stewart', u'0.002'), [(u'caan', 0.5459463596343994), (u'cagney', 0.5009196996688843), (u'hoffa', 0.5007792711257935)]], [(u'grimaldi', u'0.002'), [(u'frock', 0.4830974340438843), (u'caserta', 0.43616318702697754), (u'monoikos', 0.4345732629299164)]], [(u'cut', u'0.002'), [(u'cutting', 0.624724268913269), (u'scraped', 0.5567055940628052), (u'cuts', 0.5367580652236938)]]]\n",
        "Palabras del tema\n",
        "10\n",
        "TEMA\n",
        "[(u'iga', u'0.002'), [(u'igd', 0.6573108434677124), (u'igm', 0.6413102149963379), (u'immunoglobulins', 0.6406909823417664)]]\n",
        "[[(u'survival', u'0.002'), [(u'fittest', 0.533257246017456), (u'predation', 0.45938849449157715), (u'coping', 0.4141042232513428)]], [(u'ob', u'0.002'), [(u'ttt', 0.5270597338676453), (u'two', 0.4972596764564514), (u'nr', 0.4951271116733551)]], [(u'tex', u'0.002'), [(u'typesetting', 0.622897744178772), (u'wysiwyg', 0.5603228807449341), (u'metafont', 0.547631025314331)]], [(u'mex', u'0.002'), [(u'gumbo', 0.4934837222099304), (u'porcini', 0.49335038661956787), (u'funghi', 0.48759526014328003)]], [(u'palms', u'0.002'), [(u'coconut', 0.5899929404258728), (u'scrub', 0.5044333338737488), (u'palm', 0.48351943492889404)]], [(u'fruits', u'0.002'), [(u'fruit', 0.6876919269561768), (u'vegetables', 0.6686134934425354), (u'seeds', 0.6104110479354858)]], [(u'prairie', u'0.001'), [(u'farmland', 0.4881258010864258), (u'wooded', 0.47033488750457764), (u'wineries', 0.4574252665042877)]], [(u'dore', u'0.001'), [(u'beast', 0.3651012182235718), (u'buccaneer', 0.34942030906677246), (u'gustave', 0.33141255378723145)]]]\n",
        "Palabras del tema\n",
        "9\n",
        "TEMA\n",
        "[(u'ike', u'0.005'), [(u'tina', 0.6673855781555176), (u'pearce', 0.4493579864501953), (u'puri', 0.4422661066055298)]]\n",
        "[[(u'brian', u'0.002'), [(u'michael', 0.5870265960693359), (u'bolland', 0.5586690306663513), (u'sean', 0.551840603351593)]], [(u'mecca', u'0.002'), [(u'hajj', 0.6909215450286865), (u'medina', 0.6470854878425598), (u'makkah', 0.6312129497528076)]], [(u'receipts', u'0.001'), [(u'dividends', 0.5549975633621216), (u'earnings', 0.5259588360786438), (u'taxpayer', 0.5233955383300781)]], [(u'horns', u'0.001'), [(u'horn', 0.5629398822784424), (u'trumpets', 0.5443753004074097), (u'plucked', 0.5186381340026855)]], [(u'diner', u'0.001'), [(u'grill', 0.4484713077545166), (u'sitting', 0.43017590045928955), (u'banchan', 0.42888399958610535)]], [(u'spewing', u'0.001'), [(u'debris', 0.44804665446281433), (u'ash', 0.4476998448371887), (u'plumes', 0.4430364966392517)]]]\n",
        "Palabras del tema\n",
        "7\n",
        "TEMA\n",
        "[(u'exam', u'0.003'), [(u'exams', 0.7538518905639648), (u'examinations', 0.6189461946487427), (u'baccalaureate', 0.5961927175521851)]]\n",
        "[[(u'cod', u'0.003'), [(u'fishery', 0.533069372177124), (u'mussels', 0.5194908380508423), (u'shrimp', 0.5175641179084778)]], [(u'teacher', u'0.003'), [(u'teaching', 0.5926172733306885), (u'pupil', 0.5761487483978271), (u'student', 0.5747979879379272)]], [(u'howie', u'0.002'), [(u'fey', 0.5461372137069702), (u'shaun', 0.5318611860275269), (u'entertainer', 0.5213617086410522)]], [(u'dr', u'0.001'), [(u'forrester', 0.5669527649879456), (u'silkworth', 0.5376954674720764), (u'researcher', 0.5049779415130615)]], [(u'magnet', u'0.001'), [(u'magnets', 0.6058132648468018), (u'magnetic', 0.5398610234260559), (u'coils', 0.5254766941070557)]], [(u'marsh', u'0.001'), [(u'othniel', 0.5735918283462524), (u'ngaio', 0.5130754113197327), (u'mmc', 0.46536412835121155)]], [(u'gynecologists', u'0.001'), [(u'obstetricians', 0.7052862048149109), (u'physicians', 0.4740546643733978), (u'cardiology', 0.46780669689178467)]]]\n",
        "Palabras del tema\n",
        "8\n",
        "TEMA\n",
        "[(u'shoe', u'0.007'), [(u'shoes', 0.5787966251373291), (u'sneakers', 0.4534955322742462), (u'boots', 0.45017898082733154)]]\n",
        "[[(u'repair', u'0.004'), [(u'repairs', 0.5297478437423706), (u'repairing', 0.5138868689537048), (u'repaired', 0.5066776871681213)]], [(u'pv', u'0.003'), [(u'ibo', 0.4975419044494629), (u'molar', 0.455146461725235), (u'cipm', 0.4458204209804535)]], [(u'shoes', u'0.003'), [(u'hats', 0.6214618682861328), (u'boots', 0.5855050683021545), (u'shoe', 0.5787966251373291)]], [(u'produce', u'0.003'), [(u'generate', 0.6467134952545166), (u'yield', 0.6460063457489014), (u'producing', 0.6437383890151978)]], [(u'jun', u'0.002'), [(u'jul', 0.6507693529129028), (u'apr', 0.607563316822052), (u'aug', 0.5955327749252319)]], [(u'leather', u'0.002'), [(u'tanning', 0.6275258660316467), (u'fabrics', 0.617317795753479), (u'tanned', 0.6139991283416748)]], [(u'pair', u'0.002'), [(u'pairs', 0.6770429611206055), (u'singly', 0.5202721357345581), (u'pairing', 0.5090979337692261)]], [(u'aye', u'0.001'), [(u'lemurs', 0.44202572107315063), (u'indridae', 0.3755326271057129), (u'infraorder', 0.3682170510292053)]]]\n",
        "Palabras del tema\n",
        "9\n",
        "TEMA\n",
        "[(u'kennedy', u'0.004'), [(u'mckinley', 0.535163938999176), (u'nixon', 0.5002281069755554), (u'reagan', 0.4903435707092285)]]\n",
        "[[(u'patricia', u'0.003'), [(u'susan', 0.5888545513153076), (u'gingold', 0.5839957594871521), (u'kristin', 0.541230320930481)]], [(u'park', u'0.003'), [(u'parks', 0.57256019115448), (u'arboretum', 0.5302871465682983), (u'selhurst', 0.5176543593406677)]], [(u'losses', u'0.002'), [(u'casualties', 0.6285879611968994), (u'loss', 0.5707116723060608), (u'damage', 0.4961901605129242)]], [(u'eggplant', u'0.002'), [(u'zucchini', 0.6835317611694336), (u'cucumber', 0.6425291299819946), (u'tofu', 0.6359554529190063)]], [(u'clearance', u'0.002'), [(u'landing', 0.4698607623577118), (u'landings', 0.431988000869751), (u'refueling', 0.43181535601615906)]], [(u'indian', u'0.002'), [(u'india', 0.6063355207443237), (u'kashmiri', 0.5627198815345764), (u'sikh', 0.5376087427139282)]], [(u'instruments', u'0.002'), [(u'instrument', 0.7488837242126465), (u'stringed', 0.607884407043457), (u'luthiers', 0.5942957401275635)]], [(u'learning', u'0.002'), [(u'learners', 0.5493286848068237), (u'teaching', 0.5483901500701904), (u'educational', 0.5291861295700073)]]]\n",
        "Palabras del tema\n",
        "9\n",
        "TEMA\n",
        "[(u'rags', u'0.005'), [(u'guys', 0.47187143564224243), (u'dresses', 0.4713086485862732), (u'crazy', 0.46075770258903503)]]\n",
        "[[(u'lawsuit', u'0.003'), [(u'lawsuits', 0.7488544583320618), (u'filed', 0.6963391304016113), (u'sued', 0.6405614614486694)]], [(u'cord', u'0.002'), [(u'spinal', 0.5897074937820435), (u'nerves', 0.5628179311752319), (u'vertebra', 0.5361952185630798)]], [(u'hi', u'0.002'), [(u'cymbals', 0.46540501713752747), (u'cymbal', 0.46149706840515137), (u'wi', 0.4605390727519989)]], [(u'odor', u'0.002'), [(u'odour', 0.6880528926849365), (u'odors', 0.6358544826507568), (u'pungent', 0.6258782744407654)]], [(u'laptop', u'0.002'), [(u'computers', 0.568738579750061), (u'pda', 0.5642531514167786), (u'microcomputers', 0.559000551700592)]], [(u'invoice', u'0.001'), [(u'teletype', 0.4001043438911438), (u'bofh', 0.38451576232910156), (u'photocopying', 0.3674311637878418)]], [(u'bel', u'0.001'), [(u'cle', 0.41237011551856995), (u'kingu', 0.40212035179138184), (u'balti', 0.39843881130218506)]], [(u'wi', u'0.001'), [(u'awa', 0.6310122013092041), (u'cim', 0.5317602157592773), (u'cz', 0.5193072557449341)]]]\n",
        "Palabras del tema\n",
        "9\n",
        "TEMA\n",
        "[(u'science', u'0.009'), [(u'scientific', 0.5674563050270081), (u'sciences', 0.5513978004455566), (u'physics', 0.4871366024017334)]]\n",
        "[[(u'bally', u'0.004'), [(u'pinball', 0.41983741521835327), (u'wildstorm', 0.41878795623779297), (u'squarepants', 0.4094153642654419)]], [(u'kyle', u'0.004'), [(u'maclachlan', 0.6991671323776245), (u'cartman', 0.5886132717132568), (u'gann', 0.5419766902923584)]], [(u'berries', u'0.002'), [(u'cranberry', 0.6606159210205078), (u'coriander', 0.6606037616729736), (u'herbs', 0.6546465754508972)]], [(u'branch', u'0.002'), [(u'branches', 0.6069890856742859), (u'davidian', 0.47728103399276733), (u'legislative', 0.42751604318618774)]], [(u'pumps', u'0.002'), [(u'pump', 0.6705878973007202), (u'propellers', 0.5813182592391968), (u'heaters', 0.5743190050125122)]], [(u'police', u'0.002'), [(u'policemen', 0.5532044172286987), (u'investigaciones', 0.525018036365509), (u'tippit', 0.5114193558692932)]], [(u'exhibit', u'0.002'), [(u'exhibits', 0.6304841041564941), (u'thermotropic', 0.50107342004776), (u'ferromagnetism', 0.4399351477622986)]]]\n",
        "Palabras del tema\n",
        "8\n",
        "TEMA\n",
        "[(u'coffee', u'0.009'), [(u'cocoa', 0.5865524411201477), (u'bananas', 0.5805447697639465), (u'coconuts', 0.5480325818061829)]]\n",
        "[[(u'latte', u'0.004'), [(u'paleolithic', 0.4332936406135559), (u'mesolithic', 0.42100363969802856), (u'dolmens', 0.41979771852493286)]], [(u'starbucks', u'0.002'), [(u'caff', 0.44615158438682556), (u'coffee', 0.4372525215148926), (u'confectionery', 0.4372140169143677)]], [(u'cave', u'0.002'), [(u'caves', 0.619826078414917), (u'caverns', 0.5305765271186829), (u'cavern', 0.5226140022277832)]], [(u'usher', u'0.002'), [(u'arkham', 0.3939207196235657), (u'ligeia', 0.3922572731971741), (u'bleak', 0.3755032420158386)]], [(u'creek', u'0.002'), [(u'chickasaw', 0.5819122195243835), (u'bayou', 0.5319152474403381), (u'caye', 0.5250057578086853)]], [(u'line', u'0.002'), [(u'lines', 0.6707903146743774), (u'diagonal', 0.4855688810348511), (u'intersects', 0.4779708981513977)]], [(u'froth', u'0.002'), [(u'mixture', 0.4453357458114624), (u'distilling', 0.4446862041950226), (u'cools', 0.44218480587005615)]], [(u'hall', u'0.002'), [(u'inductees', 0.5366482138633728), (u'burwash', 0.5273903608322144), (u'auditorium', 0.5265880823135376)]], [(u'eagle', u'0.002'), [(u'haliaeetus', 0.5501480102539062), (u'leucocephalus', 0.5462857484817505), (u'haast', 0.48159950971603394)]]]\n",
        "Palabras del tema\n",
        "10\n",
        "TEMA\n",
        "[(u'lankan', u'0.004'), [(u'lanka', 0.6745291948318481), (u'aurobindo', 0.5593507885932922), (u'ltte', 0.549400269985199)]]\n",
        "[[(u'sri', u'0.004'), [(u'lankan', 0.5352334976196289), (u'lanka', 0.5240797996520996), (u'kandy', 0.48091715574264526)]], [(u'sol', u'0.003'), [(u'invictus', 0.6660263538360596), (u'lobos', 0.5287773609161377), (u'reyes', 0.4921535849571228)]], [(u'boba', u'0.003'), [(u'ke', 0.3785930275917053), (u'ich', 0.3768181800842285), (u'literally', 0.3737551271915436)]], [(u'hobbies', u'0.002'), [(u'hobby', 0.5603187084197998), (u'sports', 0.4641316533088684), (u'pastimes', 0.4634634256362915)]], [(u'wakes', u'0.002'), [(u'woke', 0.532960057258606), (u'sleeps', 0.52231365442276), (u'waking', 0.5112237930297852)]]]\n",
        "Palabras del tema\n",
        "6\n",
        "TEMA\n",
        "[(u'brewing', u'0.004'), [(u'brewed', 0.6303201913833618), (u'beer', 0.6166008710861206), (u'breweries', 0.5935549139976501)]]\n",
        "[[(u'rossini', u'0.003'), [(u'puccini', 0.6864003539085388), (u'verdi', 0.6801431775093079), (u'vivaldi', 0.6768648624420166)]], [(u'eddie', u'0.002'), [(u'kenny', 0.5814297795295715), (u'robbie', 0.5505058765411377), (u'tommy', 0.5349617004394531)]], [(u'moe', u'0.002'), [(u'delicatessen', 0.5692623257637024), (u'bartender', 0.5589298009872437), (u'waitress', 0.4919155538082123)]], [(u'hydraulic', u'0.001'), [(u'pneumatic', 0.5755685567855835), (u'turbine', 0.5741488933563232), (u'pump', 0.570920467376709)]], [(u'systems', u'0.001'), [(u'system', 0.7469761371612549), (u'applications', 0.6378185749053955), (u'subsystems', 0.5653743147850037)]]]\n",
        "Palabras del tema\n",
        "6\n",
        "TEMA\n",
        "[(u'coffee', u'0.003'), [(u'cocoa', 0.5865524411201477), (u'bananas', 0.5805447697639465), (u'coconuts', 0.5480325818061829)]]\n",
        "[[(u'el', u'0.002'), [(u'ferrol', 0.5379381775856018), (u'bahia', 0.536528468132019), (u'recife', 0.5350561141967773)]], [(u'cafe', u'0.002'), [(u'caf', 0.6399394869804382), (u'nightclub', 0.5614745616912842), (u'lounge', 0.4979920983314514)]], [(u'hello', u'0.002'), [(u'newline', 0.4576571583747864), (u'helloworld', 0.45102033019065857), (u'simh', 0.4271637499332428)]], [(u'starbucks', u'0.002'), [(u'caff', 0.44615158438682556), (u'coffee', 0.4372525215148926), (u'confectionery', 0.4372140169143677)]], [(u'grand', u'0.002'), [(u'grands', 0.5492043495178223), (u'goncourt', 0.43303048610687256), (u'opry', 0.40085941553115845)]], [(u'beans', u'0.002'), [(u'cherries', 0.6039662957191467), (u'pears', 0.5904929637908936), (u'almonds', 0.5700559616088867)]]]\n",
        "Palabras del tema\n",
        "7\n",
        "TEMA\n",
        "[(u'leggings', u'0.004'), [(u'dresses', 0.5777685642242432), (u'skirts', 0.5481419563293457), (u'pants', 0.543448269367218)]]\n",
        "[[(u'tattoo', u'0.004'), [(u'wig', 0.485745370388031), (u'cheeks', 0.4724033772945404), (u'dresses', 0.4668389558792114)]], [(u'tattoos', u'0.003'), [(u'piercings', 0.4671865999698639), (u'wrinkles', 0.4282606840133667), (u'necklaces', 0.412941575050354)]], [(u'edition', u'0.002'), [(u'editions', 0.6464285850524902), (u'ed', 0.5770100355148315), (u'republished', 0.527430534362793)]], [(u'flights', u'0.001'), [(u'heathrow', 0.5694877505302429), (u'airways', 0.553343653678894), (u'concorde', 0.5483985543251038)]], [(u'oxidized', u'0.001'), [(u'oxidised', 0.6896408200263977), (u'nadh', 0.6095156669616699), (u'reacts', 0.6033075451850891)]], [(u'angered', u'0.001'), [(u'complained', 0.5354257225990295), (u'responded', 0.5147216320037842), (u'apologized', 0.5088686943054199)]]]\n",
        "Palabras del tema\n",
        "7\n",
        "TEMA\n",
        "[(u'costa', u'0.004'), [(u'guatemala', 0.4876338839530945), (u'guanacaste', 0.46019279956817627), (u'honduras', 0.4569498896598816)]]\n",
        "[[(u'del', u'0.003'), [(u'mez', 0.5670020580291748), (u'campo', 0.5275580883026123), (u'buen', 0.5262622237205505)]], [(u'mcdonald', u'0.002'), [(u'mcdonalds', 0.4997823238372803), (u'hamburgers', 0.4489904046058655), (u'welk', 0.42262086272239685)]], [(u'camping', u'0.002'), [(u'hiking', 0.7274340391159058), (u'biking', 0.6481455564498901), (u'backpacking', 0.6016490459442139)]], [(u'steak', u'0.002'), [(u'sliced', 0.5886862277984619), (u'injera', 0.5788304209709167), (u'sausage', 0.5787838101387024)]], [(u'anxiety', u'0.002'), [(u'phobias', 0.6295748949050903), (u'irritability', 0.62858647108078), (u'insomnia', 0.6103436350822449)]], [(u'adoption', u'0.002'), [(u'acceptance', 0.5179744362831116), (u'adopted', 0.4668491780757904), (u'adherence', 0.4337695240974426)]]]\n",
        "Palabras del tema\n",
        "7\n",
        "TEMA\n",
        "[(u'luxor', u'0.004'), [(u'giza', 0.5646055936813354), (u'abydos', 0.5562506318092346), (u'cairo', 0.5461326241493225)]]\n",
        "[[(u'carolyn', u'0.003'), [(u'debra', 0.5536903142929077), (u'nancy', 0.5386743545532227), (u'kimberly', 0.5327497720718384)]], [(u'z', u'0.003'), [(u'zilog', 0.6076056361198425), (u'oty', 0.5948905944824219), (u'dih', 0.571648895740509)]], [(u'rental', u'0.003'), [(u'rent', 0.5412921905517578), (u'tickets', 0.48400038480758667), (u'renting', 0.4828609824180603)]], [(u'rented', u'0.002'), [(u'apartments', 0.5450183153152466), (u'apartment', 0.5415152311325073), (u'rent', 0.5109668970108032)]], [(u'jp', u'0.002'), [(u'kan', 0.5152585506439209), (u'jpy', 0.5128805041313171), (u'uan', 0.5099048614501953)]], [(u'printers', u'0.002'), [(u'inkjet', 0.5723717212677002), (u'printer', 0.563973069190979), (u'printing', 0.5154303908348083)]], [(u'performers', u'0.002'), [(u'musicians', 0.6706396341323853), (u'singers', 0.5999926328659058), (u'artists', 0.5957221984863281)]], [(u'pizza', u'0.002'), [(u'garnish', 0.6410495638847351), (u'tomato', 0.6127575039863586), (u'sandwiches', 0.585567831993103)]]]\n",
        "Palabras del tema\n",
        "9\n",
        "TEMA\n",
        "[(u'stuffing', u'0.002'), [(u'delicacies', 0.3880796432495117), (u'syringes', 0.3862895965576172), (u'straws', 0.3806084096431732)]]\n",
        "[[(u'concert', u'0.002'), [(u'concerts', 0.760004460811615), (u'performances', 0.6284977197647095), (u'tour', 0.5846700668334961)]], [(u'burro', u'0.002'), [(u'zebras', 0.3839634656906128), (u'keefe', 0.3337423503398895), (u'louse', 0.3326829671859741)]], [(u'rv', u'0.002'), [(u'nisi', 0.5962772369384766), (u'szolnok', 0.5400358438491821), (u'szombathely', 0.5328348875045776)]], [(u'tower', u'0.002'), [(u'spire', 0.6578302979469299), (u'skyscraper', 0.60246741771698), (u'towers', 0.5560755133628845)]], [(u'scripts', u'0.002'), [(u'script', 0.6870885491371155), (u'brahmic', 0.5706338286399841), (u'abugidas', 0.5212334394454956)]], [(u'warp', u'0.001'), [(u'weft', 0.5078552961349487), (u'threaded', 0.42823535203933716), (u'virtualization', 0.4165673851966858)]]]\n",
        "Palabras del tema\n",
        "7\n",
        "TEMA\n",
        "[(u'chinatown', u'0.004'), [(u'downtown', 0.5371766090393066), (u'beltline', 0.4908686578273773), (u'waterfront', 0.49019789695739746)]]\n",
        "[[(u'biker', u'0.004'), [(u'gang', 0.45938724279403687), (u'ramones', 0.4319891631603241), (u'megalon', 0.42444485425949097)]], [(u'tejas', u'0.003'), [(u'dassault', 0.4656580090522766), (u'sukhoi', 0.42435768246650696), (u'mirage', 0.37388333678245544)]], [(u'outlet', u'0.003'), [(u'meltwater', 0.4111476242542267), (u'hydroelectricity', 0.33921578526496887), (u'airflow', 0.33723169565200806)]], [(u'vinny', u'0.003'), [(u'testaverde', 0.6513271331787109), (u'outfielder', 0.600968599319458), (u'offseason', 0.565554141998291)]], [(u'comb', u'0.002'), [(u'slider', 0.5831947326660156), (u'reeds', 0.5359587669372559), (u'airtight', 0.5250242948532104)]], [(u'cvs', u'0.002'), [(u'toolkit', 0.5397076606750488), (u'debugging', 0.5319578051567078), (u'gimp', 0.5315752625465393)]], [(u'transactions', u'0.002'), [(u'transaction', 0.5893058776855469), (u'debit', 0.5402052402496338), (u'cheques', 0.5211197137832642)]]]\n",
        "Palabras del tema\n",
        "8\n",
        "TEMA\n",
        "[(u'tong', u'0.003'), [(u'kwun', 0.625542938709259), (u'wong', 0.5535334944725037), (u'fung', 0.546017050743103)]]\n",
        "[[(u'dumplings', u'0.003'), [(u'pickled', 0.6685982346534729), (u'soy', 0.6603092551231384), (u'grilled', 0.6586536169052124)]], [(u'compromised', u'0.002'), [(u'interfere', 0.3994268476963043), (u'compromising', 0.396239697933197), (u'ineffective', 0.39546525478363037)]], [(u'complex', u'0.002'), [(u'complicated', 0.5836473703384399), (u'simple', 0.5436546802520752), (u'sophisticated', 0.5113545656204224)]], [(u'lease', u'0.002'), [(u'purchase', 0.5067439079284668), (u'leased', 0.48053672909736633), (u'payment', 0.43962347507476807)]], [(u'seats', u'0.002'), [(u'votes', 0.6165744066238403), (u'elections', 0.6144622564315796), (u'vote', 0.6142957210540771)]], [(u'crackers', u'0.002'), [(u'spaulding', 0.583458423614502), (u'cocoanuts', 0.5501207709312439), (u'rabbit', 0.45596224069595337)]], [(u'theatre', u'0.002'), [(u'theater', 0.6636214852333069), (u'repertory', 0.6031246185302734), (u'broadway', 0.59969562292099)]]]\n",
        "Palabras del tema\n",
        "8\n",
        "TEMA\n",
        "[(u'debra', u'0.005'), [(u'carolyn', 0.5536903142929077), (u'kristin', 0.5251835584640503), (u'gilda', 0.5236244201660156)]]\n",
        "[[(u'puppy', u'0.005'), [(u'dog', 0.5456894636154175), (u'keeshond', 0.5393295288085938), (u'beagles', 0.5254783630371094)]], [(u'wax', u'0.004'), [(u'paraffin', 0.5790072679519653), (u'lacquer', 0.5677821636199951), (u'brush', 0.54887455701828)]], [(u'cortez', u'0.003'), [(u'hern', 0.46491461992263794), (u'ndez', 0.4464579224586487), (u'conquistador', 0.42418646812438965)]], [(u'stick', u'0.003'), [(u'sticks', 0.6571805477142334), (u'fingers', 0.5743887424468994), (u'puck', 0.5556092262268066)]], [(u'animal', u'0.003'), [(u'animals', 0.6770766973495483), (u'human', 0.5683874487876892), (u'humans', 0.5176132917404175)]], [(u'qt', u'0.002'), [(u'trolltech', 0.6508428454399109), (u'kde', 0.5791547298431396), (u'toolkit', 0.5742748975753784)]], [(u'lemonade', u'0.002'), [(u'vodka', 0.5675395131111145), (u'flavoured', 0.5399373173713684), (u'syrups', 0.5397456884384155)]], [(u'tricked', u'0.002'), [(u'alcmene', 0.5131185054779053), (u'aegeus', 0.5007577538490295), (u'cephalus', 0.49735820293426514)]]]\n",
        "Palabras del tema\n",
        "9\n",
        "TEMA\n",
        "[(u'bonnie', u'0.005'), [(u'charlie', 0.5487935543060303), (u'clyde', 0.5379130840301514), (u'higson', 0.500114917755127)]]\n",
        "[[(u'lam', u'0.004'), [(u'selamat', 0.4748614430427551), (u'gomes', 0.46201375126838684), (u'kingman', 0.45363569259643555)]], [(u'eyebrow', u'0.003'), [(u'eyebrows', 0.3824805021286011), (u'calm', 0.36641359329223633), (u'pangloss', 0.3624221682548523)]], [(u'lia', u'0.003'), [(u'bras', 0.7536026239395142), (u'brasilia', 0.6434270739555359), (u'sagrada', 0.5995781421661377)]], [(u'hills', u'0.003'), [(u'mountains', 0.6149824261665344), (u'foothills', 0.6149500608444214), (u'hilly', 0.6117185354232788)]], [(u'seven', u'0.002'), [(u'eight', 0.9767292737960815), (u'one', 0.9717788696289062), (u'six', 0.9702310562133789)]], [(u'mario', u'0.002'), [(u'kart', 0.6093240976333618), (u'davidovsky', 0.5804448127746582), (u'koopa', 0.5439507365226746)]], [(u'south', u'0.002'), [(u'north', 0.85843825340271), (u'west', 0.6965118050575256), (u'southern', 0.6375135183334351)]], [(u'hundred', u'0.002'), [(u'thousand', 0.759795069694519), (u'thirty', 0.6494169235229492), (u'fifty', 0.6359080076217651)]]]\n",
        "Palabras del tema\n",
        "9\n",
        "TEMA\n",
        "[(u'blades', u'0.006'), [(u'screws', 0.5558290481567383), (u'knives', 0.5450466275215149), (u'blade', 0.5145256519317627)]]\n",
        "[[(u'homebrew', u'0.002'), [(u'developer', 0.5541228652000427), (u'bnetd', 0.5531307458877563), (u'acornsoft', 0.5449987649917603)]], [(u'chestnuts', u'0.001'), [(u'cakes', 0.5423654913902283), (u'diced', 0.5210006237030029), (u'plums', 0.5203361511230469)]], [(u'thursdays', u'0.001'), [(u'fridays', 0.576416015625), (u'wednesdays', 0.573665201663971), (u'sundays', 0.5549887418746948)]], [(u'careers', u'0.001'), [(u'career', 0.5717294812202454), (u'accomplishments', 0.45802414417266846), (u'stardom', 0.44485849142074585)]], [(u'programs', u'0.001'), [(u'program', 0.7193288803100586), (u'systems', 0.5490359663963318), (u'software', 0.524782121181488)]]]\n",
        "Palabras del tema\n",
        "6\n",
        "TEMA\n",
        "[(u'burrito', u'0.004'), [(u'byrds', 0.5484534502029419), (u'jeckel', 0.5175953507423401), (u'ringling', 0.471214234828949)]]\n",
        "[[(u'bikes', u'0.003'), [(u'bicycles', 0.6837705373764038), (u'motorcycles', 0.6444098353385925), (u'bike', 0.6087002158164978)]], [(u'slowest', u'0.003'), [(u'speed', 0.4443690776824951), (u'bpm', 0.4213252663612366), (u'clocked', 0.41278642416000366)]], [(u'julio', u'0.003'), [(u'claudian', 0.7680503726005554), (u'severan', 0.5511981844902039), (u'ayala', 0.4747728109359741)]], [(u'sewing', u'0.003'), [(u'milling', 0.5213218927383423), (u'weaving', 0.5208866596221924), (u'linen', 0.48394712805747986)]], [(u'philly', u'0.002'), [(u'funk', 0.5946301221847534), (u'trax', 0.5623868703842163), (u'album', 0.5282720327377319)]], [(u'museum', u'0.002'), [(u'museums', 0.6803795695304871), (u'gallery', 0.6111009120941162), (u'curator', 0.5820696353912354)]], [(u'tan', u'0.002'), [(u'wong', 0.5123711228370667), (u'oued', 0.4786675274372101), (u'laayoune', 0.4643099308013916)]]]\n",
        "Palabras del tema\n",
        "8\n",
        "TEMA\n",
        "[(u'madison', u'0.004'), [(u'buchanan', 0.5589500665664673), (u'blaine', 0.5566394925117493), (u'polk', 0.5378708839416504)]]\n",
        "[[(u'coffee', u'0.004'), [(u'cocoa', 0.5865524411201477), (u'bananas', 0.5805447697639465), (u'coconuts', 0.5480325818061829)]], [(u'cloths', u'0.004'), [(u'woollen', 0.6087439656257629), (u'cloth', 0.5103310346603394), (u'fabrics', 0.5098460912704468)]], [(u'officers', u'0.003'), [(u'officer', 0.5899661779403687), (u'commanders', 0.5873702168464661), (u'ncos', 0.5805845856666565)]], [(u'shelter', u'0.003'), [(u'shelters', 0.5943081378936768), (u'fema', 0.5021281242370605), (u'survivalring', 0.4942167401313782)]], [(u'subway', u'0.003'), [(u'metro', 0.6903607249259949), (u'trolley', 0.6263993978500366), (u'mtr', 0.6200279593467712)]], [(u'saloon', u'0.002'), [(u'sedan', 0.44004765152931213), (u'frisco', 0.41922664642333984), (u'bentleys', 0.4185659885406494)]], [(u'shelters', u'0.002'), [(u'shelter', 0.5943081378936768), (u'fallout', 0.5152977705001831), (u'homes', 0.5109511613845825)]], [(u'adopt', u'0.002'), [(u'accept', 0.5216002464294434), (u'adopting', 0.5122787952423096), (u'adhere', 0.508002758026123)]], [(u'sub', u'0.002'), [(u'distinct', 0.4529659152030945), (u'saharan', 0.44852644205093384), (u'groupings', 0.44199052453041077)]]]\n",
        "Palabras del tema\n",
        "10\n",
        "TEMA\n",
        "[(u'apple', u'0.006'), [(u'macintosh', 0.670219361782074), (u'imac', 0.5975983142852783), (u'ibook', 0.5512298345565796)]]\n",
        "[[(u'toy', u'0.004'), [(u'toys', 0.5323114395141602), (u'pixar', 0.5014903545379639), (u'accessories', 0.4173634648323059)]], [(u'breakfasts', u'0.003'), [(u'dinners', 0.49224480986595154), (u'savory', 0.4848648011684418), (u'salami', 0.46668919920921326)]], [(u'batter', u'0.002'), [(u'baserunner', 0.6327654719352722), (u'batted', 0.5918773412704468), (u'batters', 0.5865156650543213)]], [(u'calibre', u'0.002'), [(u'caliber', 0.6522126793861389), (u'guns', 0.6196632385253906), (u'calibers', 0.6023297905921936)]], [(u'accessories', u'0.001'), [(u'fabrics', 0.49790123105049133), (u'furnishings', 0.49722445011138916), (u'dresses', 0.48924410343170166)]], [(u'babcock', u'0.001'), [(u'sturtevant', 0.46186503767967224), (u'jongg', 0.43208107352256775), (u'mahjong', 0.41161906719207764)]]]\n",
        "Palabras del tema\n",
        "7\n"
       ]
      }
     ],
     "prompt_number": 31
    },
    {
     "cell_type": "heading",
     "level": 4,
     "metadata": {},
     "source": [
      "\u00bfQu\u00e9 palabras son m\u00e1s similares a todas las que forman el topic?"
     ]
    },
    {
     "cell_type": "code",
     "collapsed": false,
     "input": [
      "for palabras in palabrasTopic:\n",
      "    print \"\\nConjunto:\"\n",
      "    print palabras\n",
      "    print \"Top 5 M\u00e1s similar al conjunto entero... \"\n",
      "    print model.most_similar(positive = palabras, topn=5)"
     ],
     "language": "python",
     "metadata": {},
     "outputs": [
      {
       "output_type": "stream",
       "stream": "stdout",
       "text": [
        "\n",
        "Conjunto:\n",
        "[u'machines', u'vous', u'turkey', u'sandwich', u'salad', u'bartenders', u'fries', u'gym', u'lock', u'deli']\n",
        "Top 5 M\u00e1s similar al conjunto entero... \n",
        "[(u'desserts', 0.6219475269317627), (u'pastry', 0.621593177318573), (u'sauerkraut', 0.6147862672805786), (u'grilled', 0.6031753420829773), (u'roast', 0.60184246301651)]\n",
        "\n",
        "Conjunto:\n",
        "[u'show', u'connolly', u'mcclintock', u'forum', u'comic', u'acts', u'comics', u'josh', u'decaying']\n",
        "Top 5 M\u00e1s similar al conjunto entero... \n",
        "[(u'bissette', 0.5199382305145264), (u'sawyer', 0.4941004514694214), (u'josie', 0.49302545189857483), (u'mignola', 0.4909813404083252), (u'wildstorm', 0.4867071509361267)]\n",
        "\n",
        "Conjunto:\n",
        "[u'banks', u'rv', u'bank', u'eggs', u'host', u'truck', u'food']\n",
        "Top 5 M\u00e1s similar al conjunto entero... \n",
        "[(u'depositors', 0.45448189973831177), (u'racks', 0.43131449818611145), (u'poultry', 0.42973247170448303), (u'gourmet', 0.42920243740081787), (u'hogs', 0.40890100598335266)]"
       ]
      },
      {
       "output_type": "stream",
       "stream": "stdout",
       "text": [
        "\n",
        "\n",
        "Conjunto:\n",
        "[u'knots', u'festival', u'italian', u'ty', u'bogus', u'manufacture', u'neighbors', u'pete']\n",
        "Top 5 M\u00e1s similar al conjunto entero... \n",
        "[(u'rupp', 0.42243504524230957), (u'lam', 0.41907304525375366), (u'sollima', 0.4189538061618805), (u'bava', 0.41672688722610474), (u'steinberg', 0.41385459899902344)]\n",
        "\n",
        "Conjunto:\n",
        "[u'payments', u'gamer', u'heritage', u'battles', u'twins', u'bloomfield', u'jersey', u'mike']\n",
        "Top 5 M\u00e1s similar al conjunto entero... \n",
        "[(u'travis', 0.4097503423690796), (u'minnesota', 0.40594831109046936), (u'gaylord', 0.4050811529159546), (u'vikings', 0.40392792224884033), (u'oakland', 0.4035218358039856)]\n",
        "\n",
        "Conjunto:\n",
        "[u'bar', u'pool', u'venue', u'music', u'food', u'thai', u'julie', u'dogs', u'catering']\n",
        "Top 5 M\u00e1s similar al conjunto entero... \n",
        "[(u'restaurants', 0.5827383995056152), (u'restaurant', 0.5540299415588379), (u'caf', 0.5326231718063354), (u'pubs', 0.5232066512107849), (u'chefs', 0.5205202102661133)]"
       ]
      },
      {
       "output_type": "stream",
       "stream": "stdout",
       "text": [
        "\n",
        "\n",
        "Conjunto:\n",
        "[u'edinburgh', u'bike', u'gm', u'discounted', u'pizza', u'fixing', u'centre', u'lil', u'brien', u'gathered']\n",
        "Top 5 M\u00e1s similar al conjunto entero... \n",
        "[(u'deansgate', 0.47191324830055237), (u'aberfoyle', 0.4039430320262909), (u'frequented', 0.3850937783718109), (u'poudre', 0.3825716972351074), (u'colney', 0.3753753900527954)]\n",
        "\n",
        "Conjunto:\n",
        "[u'union', u'ed', u'views', u'lance', u'arthur', u'princes', u'army', u'starbuck']\n",
        "Top 5 M\u00e1s similar al conjunto entero... \n",
        "[(u'brigadier', 0.45470041036605835), (u'commanding', 0.45363691449165344), (u'colonel', 0.4284600615501404), (u'erskine', 0.42690056562423706), (u'chester', 0.4261080026626587)]\n",
        "\n",
        "Conjunto:\n",
        "[u'sports', u'coney', u'diesel', u'tatum', u'tvs', u'jennifer', u'ink', u'pizza', u'food']\n",
        "Top 5 M\u00e1s similar al conjunto entero... \n",
        "[(u'snacks', 0.5183218717575073), (u'doughnuts', 0.509514570236206), (u'hamburgers', 0.5071655511856079), (u'sausage', 0.4982389211654663), (u'gourmet', 0.49638083577156067)]"
       ]
      },
      {
       "output_type": "stream",
       "stream": "stdout",
       "text": [
        "\n",
        "\n",
        "Conjunto:\n",
        "[u'jeep', u'golf', u'pot', u'nous', u'vein', u'crunch', u'minor', u'lightning']\n",
        "Top 5 M\u00e1s similar al conjunto entero... \n",
        "[(u'teardrop', 0.41034960746765137), (u'hoops', 0.40479525923728943), (u'doo', 0.3900851309299469), (u'louse', 0.3890213668346405), (u'tuyere', 0.38679730892181396)]\n",
        "\n",
        "Conjunto:\n",
        "[u'car', u'insurance', u'john', u'gas', u'spur', u'dr', u'cake', u'repairs', u'tires', u'automotive']\n",
        "Top 5 M\u00e1s similar al conjunto entero... \n",
        "[(u'outboard', 0.5497504472732544), (u'bombardier', 0.5271365642547607), (u'automobile', 0.5196677446365356), (u'truck', 0.5168068408966064), (u'porsche', 0.5130640268325806)]\n",
        "\n",
        "Conjunto:\n",
        "[u'pharmacy', u'burger', u'burgers', u'cvs', u'prescription', u'fish', u'bun', u'store', u'pet', u'jeans']\n",
        "Top 5 M\u00e1s similar al conjunto entero... \n",
        "[(u'snacks', 0.5595273375511169), (u'canned', 0.553417444229126), (u'pickles', 0.5476640462875366), (u'hamburgers', 0.5455136299133301), (u'biscuits', 0.5454962849617004)]"
       ]
      },
      {
       "output_type": "stream",
       "stream": "stdout",
       "text": [
        "\n",
        "\n",
        "Conjunto:\n",
        "[u'car', u'he', u'company', u'professional', u'truck', u'rental', u'shops', u'store']\n",
        "Top 5 M\u00e1s similar al conjunto entero... \n",
        "[(u'shop', 0.6232245564460754), (u'grocers', 0.5382112264633179), (u'cars', 0.5285050272941589), (u'factory', 0.5231226682662964), (u'retailers', 0.5207399129867554)]\n",
        "\n",
        "Conjunto:\n",
        "[u'animals', u'ribs', u'metropolis', u'marcus', u'vet', u'vets', u'accessories', u'stems', u'humbled']\n",
        "Top 5 M\u00e1s similar al conjunto entero... \n",
        "[(u'oxen', 0.490394651889801), (u'teeth', 0.4549095034599304), (u'aardvarks', 0.44588151574134827), (u'legs', 0.4419878125190735), (u'ox', 0.4290275573730469)]\n",
        "\n",
        "Conjunto:\n",
        "[u'stills', u'bangs', u'village', u'postal', u'court', u'cracking', u'fields', u'sears']\n",
        "Top 5 M\u00e1s similar al conjunto entero... \n",
        "[(u'fairfield', 0.40721702575683594), (u'purley', 0.38790184259414673), (u'waldorf', 0.3732506036758423), (u'nightclub', 0.3690067529678345), (u'upmarket', 0.36843013763427734)]"
       ]
      },
      {
       "output_type": "stream",
       "stream": "stdout",
       "text": [
        "\n",
        "\n",
        "Conjunto:\n",
        "[u'learning', u'melissa', u'mash', u'jammed', u'bullet', u'renditions', u'scottish', u'lamps']\n",
        "Top 5 M\u00e1s similar al conjunto entero... \n",
        "[(u'rag', 0.4664030075073242), (u'drip', 0.45202505588531494), (u'gaskets', 0.44676345586776733), (u'bandage', 0.4463154375553131), (u'soaked', 0.4422423243522644)]\n",
        "\n",
        "Conjunto:\n",
        "[u'pizza', u'airport', u'dr', u'crust', u'treatment', u'pizzas', u'cloud', u'p', u'en']\n",
        "Top 5 M\u00e1s similar al conjunto entero... \n",
        "[(u'tripe', 0.49436071515083313), (u'cozze', 0.4768955409526825), (u'saut', 0.4228575825691223), (u'pancakes', 0.41566407680511475), (u'jacobsen', 0.41381770372390747)]\n",
        "\n",
        "Conjunto:\n",
        "[u'geeks', u'carpets', u'scheduled', u'gallery', u'ruck', u'cleaning', u'slab', u'electronics']\n",
        "Top 5 M\u00e1s similar al conjunto entero... \n",
        "[(u'appliances', 0.5497756004333496), (u'locker', 0.49201956391334534), (u'woolen', 0.46868544816970825), (u'ceramics', 0.45708397030830383), (u'equipment', 0.4520968794822693)]"
       ]
      },
      {
       "output_type": "stream",
       "stream": "stdout",
       "text": [
        "\n",
        "\n",
        "Conjunto:\n",
        "[u'et', u'le', u'de', u'est', u'une', u'la', u'un', u'les']\n",
        "Top 5 M\u00e1s similar al conjunto entero... \n",
        "[(u'personne', 0.7808445692062378), (u'dans', 0.7503580451011658), (u'avec', 0.7162243723869324), (u'essai', 0.7138124704360962), (u'couverte', 0.706818699836731)]\n",
        "\n",
        "Conjunto:\n",
        "[u'breakfast', u'produce', u'groceries', u'eggs', u'grocery', u'gear', u'market', u'university']\n",
        "Top 5 M\u00e1s similar al conjunto entero... \n",
        "[(u'retailers', 0.5696864724159241), (u'stores', 0.5433770418167114), (u'supermarkets', 0.5285646915435791), (u'shops', 0.5178706645965576), (u'grocers', 0.5017123818397522)]\n",
        "\n",
        "Conjunto:\n",
        "[u'pie', u'links', u'gel', u'marie', u'crisp', u'nails', u'ryan', u'brookline', u'mein']\n",
        "Top 5 M\u00e1s similar al conjunto entero... \n",
        "[(u'pancakes', 0.49454712867736816), (u'hamer', 0.4681544601917267), (u'mousse', 0.46639829874038696), (u'crispy', 0.45930057764053345), (u'cellophane', 0.4591100811958313)]"
       ]
      },
      {
       "output_type": "stream",
       "stream": "stdout",
       "text": [
        "\n",
        "\n",
        "Conjunto:\n",
        "[u'happiness', u'atm', u'harper', u'infused']\n",
        "Top 5 M\u00e1s similar al conjunto entero... \n",
        "[(u'longing', 0.41595888137817383), (u'sensual', 0.4063808023929596), (u'hedonistic', 0.3928099274635315), (u'loneliness', 0.38904106616973877), (u'machismo', 0.38488030433654785)]\n",
        "\n",
        "Conjunto:\n",
        "[u'patriot', u'terrace', u'cake', u'jerry', u'wheel', u'tee', u'baskin', u'robbins']\n",
        "Top 5 M\u00e1s similar al conjunto entero... \n",
        "[(u'otis', 0.49008071422576904), (u'drury', 0.48556196689605713), (u'burnett', 0.4801335036754608), (u'parlor', 0.4703187346458435), (u'charley', 0.4639074206352234)]\n",
        "\n",
        "Conjunto:\n",
        "[u'bob', u'sandals', u'garage', u'australian', u'empanadas', u'louie', u'boots', u'cruz', u'incoming']\n",
        "Top 5 M\u00e1s similar al conjunto entero... \n",
        "[(u'omb', 0.510667622089386), (u'pants', 0.49261605739593506), (u'poodle', 0.48981553316116333), (u'boa', 0.4834524393081665), (u'paws', 0.4822379946708679)]"
       ]
      },
      {
       "output_type": "stream",
       "stream": "stdout",
       "text": [
        "\n",
        "\n",
        "Conjunto:\n",
        "[u'food', u'we', u'chinese', u'restaurant', u'bar', u'pizza', u'sauce', u'menu', u'ordered', u'our']\n",
        "Top 5 M\u00e1s similar al conjunto entero... \n",
        "[(u'injera', 0.6354975700378418), (u'stew', 0.6189743876457214), (u'grilled', 0.6120354533195496), (u'stews', 0.6043164730072021), (u'restaurants', 0.588114857673645)]\n",
        "\n",
        "Conjunto:\n",
        "[u'pearl', u'fraser', u'band', u'performing', u'gus', u'songs', u'orchestra', u'williams', u'purveyor']\n",
        "Top 5 M\u00e1s similar al conjunto entero... \n",
        "[(u'vocalists', 0.6003119349479675), (u'supertramp', 0.593237042427063), (u'vocalist', 0.5783705711364746), (u'honky', 0.5759068727493286), (u'angie', 0.5621861219406128)]\n",
        "\n",
        "Conjunto:\n",
        "[u'pizza', u'kitty', u'hair', u'taco', u'bell', u'barber', u'sonata', u'stewart', u'grimaldi', u'cut']\n",
        "Top 5 M\u00e1s similar al conjunto entero... \n",
        "[(u'horton', 0.48113489151000977), (u'peppers', 0.4749489426612854), (u'brownies', 0.4724154770374298), (u'doughnuts', 0.467679500579834), (u'manon', 0.4676157236099243)]"
       ]
      },
      {
       "output_type": "stream",
       "stream": "stdout",
       "text": [
        "\n",
        "\n",
        "Conjunto:\n",
        "[u'iga', u'survival', u'ob', u'tex', u'mex', u'palms', u'fruits', u'prairie', u'dore']\n",
        "Top 5 M\u00e1s similar al conjunto entero... \n",
        "[(u'sunflower', 0.5526300072669983), (u'siu', 0.5393044352531433), (u'tripe', 0.5264348983764648), (u'latifolia', 0.5178198218345642), (u'tamarind', 0.516126811504364)]\n",
        "\n",
        "Conjunto:\n",
        "[u'ike', u'brian', u'mecca', u'receipts', u'horns', u'diner', u'spewing']\n",
        "Top 5 M\u00e1s similar al conjunto entero... \n",
        "[(u'bongos', 0.4351736903190613), (u'butts', 0.40315908193588257), (u'strapped', 0.3919394910335541), (u'idol', 0.390272319316864), (u'goose', 0.38692548871040344)]\n",
        "\n",
        "Conjunto:\n",
        "[u'exam', u'cod', u'teacher', u'howie', u'dr', u'magnet', u'marsh', u'gynecologists']\n",
        "Top 5 M\u00e1s similar al conjunto entero... \n",
        "[(u'nurse', 0.5385252237319946), (u'whipple', 0.5212939977645874), (u'childs', 0.5070904493331909), (u'obstetrics', 0.47458770871162415), (u'dentistry', 0.45916542410850525)]"
       ]
      },
      {
       "output_type": "stream",
       "stream": "stdout",
       "text": [
        "\n",
        "\n",
        "Conjunto:\n",
        "[u'shoe', u'repair', u'pv', u'shoes', u'produce', u'jun', u'leather', u'pair', u'aye']\n",
        "Top 5 M\u00e1s similar al conjunto entero... \n",
        "[(u'boots', 0.5273228287696838), (u'tack', 0.5246617794036865), (u'fillers', 0.5063073039054871), (u'straps', 0.5041792392730713), (u'skirt', 0.503874659538269)]\n",
        "\n",
        "Conjunto:\n",
        "[u'kennedy', u'patricia', u'park', u'losses', u'eggplant', u'clearance', u'indian', u'instruments', u'learning']\n",
        "Top 5 M\u00e1s similar al conjunto entero... \n",
        "[(u'merritt', 0.42071521282196045), (u'creek', 0.4009155035018921), (u'chinook', 0.3793076276779175), (u'whittier', 0.37223726511001587), (u'welch', 0.372035950422287)]\n",
        "\n",
        "Conjunto:\n",
        "[u'rags', u'lawsuit', u'cord', u'hi', u'odor', u'laptop', u'invoice', u'bel', u'wi']\n",
        "Top 5 M\u00e1s similar al conjunto entero... \n",
        "[(u'bib', 0.4398237466812134), (u'suh', 0.4392421841621399), (u'matsushita', 0.4321819245815277), (u'tivo', 0.4319189786911011), (u'usb', 0.43175262212753296)]"
       ]
      },
      {
       "output_type": "stream",
       "stream": "stdout",
       "text": [
        "\n",
        "\n",
        "Conjunto:\n",
        "[u'science', u'bally', u'kyle', u'berries', u'branch', u'pumps', u'police', u'exhibit']\n",
        "Top 5 M\u00e1s similar al conjunto entero... \n",
        "[(u'horticulture', 0.41000404953956604), (u'willow', 0.39217686653137207), (u'chervil', 0.38945189118385315), (u'lamiaceae', 0.38756072521209717), (u'dendrite', 0.38110533356666565)]\n",
        "\n",
        "Conjunto:\n",
        "[u'coffee', u'latte', u'starbucks', u'cave', u'usher', u'creek', u'line', u'froth', u'hall', u'eagle']\n",
        "Top 5 M\u00e1s similar al conjunto entero... \n",
        "[(u'cherry', 0.5101252794265747), (u'dumpling', 0.5007799863815308), (u'walnut', 0.49856358766555786), (u'bellied', 0.49228209257125854), (u'lawn', 0.4880242943763733)]\n",
        "\n",
        "Conjunto:\n",
        "[u'lankan', u'sri', u'sol', u'boba', u'hobbies', u'wakes']\n",
        "Top 5 M\u00e1s similar al conjunto entero... \n",
        "[(u'kandy', 0.5130260586738586), (u'aurobindo', 0.4489561915397644), (u'lanka', 0.4364588260650635), (u'puri', 0.4321049451828003), (u'rizal', 0.42541033029556274)]"
       ]
      },
      {
       "output_type": "stream",
       "stream": "stdout",
       "text": [
        "\n",
        "\n",
        "Conjunto:\n",
        "[u'brewing', u'rossini', u'eddie', u'moe', u'hydraulic', u'systems']\n",
        "Top 5 M\u00e1s similar al conjunto entero... \n",
        "[(u'gretsch', 0.4208570718765259), (u'railcar', 0.4053901433944702), (u'shergold', 0.40211695432662964), (u'harmonium', 0.3990383744239807), (u'pianos', 0.39760684967041016)]\n",
        "\n",
        "Conjunto:\n",
        "[u'coffee', u'el', u'cafe', u'hello', u'starbucks', u'grand', u'beans']\n",
        "Top 5 M\u00e1s similar al conjunto entero... \n",
        "[(u'caff', 0.5607785582542419), (u'caf', 0.5239183306694031), (u'cinnamon', 0.5129448175430298), (u'pies', 0.5125163793563843), (u'sandwiches', 0.5122884511947632)]\n",
        "\n",
        "Conjunto:\n",
        "[u'leggings', u'tattoo', u'tattoos', u'edition', u'flights', u'oxidized', u'angered']\n",
        "Top 5 M\u00e1s similar al conjunto entero... \n",
        "[(u'jacket', 0.44280505180358887), (u'sewn', 0.4415817856788635), (u'necklaces', 0.4306331276893616), (u'nipples', 0.4299960732460022), (u'wore', 0.42834553122520447)]"
       ]
      },
      {
       "output_type": "stream",
       "stream": "stdout",
       "text": [
        "\n",
        "\n",
        "Conjunto:\n",
        "[u'costa', u'del', u'mcdonald', u'camping', u'steak', u'anxiety', u'adoption']\n",
        "Top 5 M\u00e1s similar al conjunto entero... \n",
        "[(u'tacos', 0.517982006072998), (u'pollo', 0.48270905017852783), (u'yerba', 0.45953822135925293), (u'salsa', 0.4531288146972656), (u'jjigae', 0.4497948884963989)]\n",
        "\n",
        "Conjunto:\n",
        "[u'luxor', u'carolyn', u'z', u'rental', u'rented', u'jp', u'printers', u'performers', u'pizza']\n",
        "Top 5 M\u00e1s similar al conjunto entero... \n",
        "[(u'upscale', 0.4617452025413513), (u'restaurant', 0.452211856842041), (u'hotels', 0.44231411814689636), (u'nightclub', 0.4303571581840515), (u'dining', 0.4273686707019806)]\n",
        "\n",
        "Conjunto:\n",
        "[u'stuffing', u'concert', u'burro', u'rv', u'tower', u'scripts', u'warp']\n",
        "Top 5 M\u00e1s similar al conjunto entero... \n",
        "[(u'sampler', 0.4272523522377014), (u'soundtrack', 0.3872946798801422), (u'premiered', 0.37971729040145874), (u'aida', 0.37679946422576904), (u'piano', 0.3762800693511963)]"
       ]
      },
      {
       "output_type": "stream",
       "stream": "stdout",
       "text": [
        "\n",
        "\n",
        "Conjunto:\n",
        "[u'chinatown', u'biker', u'tejas', u'outlet', u'vinny', u'comb', u'cvs', u'transactions']\n",
        "Top 5 M\u00e1s similar al conjunto entero... \n",
        "[(u'gargoyle', 0.3707696199417114), (u'maule', 0.3688647150993347), (u'subsp', 0.3604942560195923), (u'mart', 0.357755184173584), (u'blondie', 0.356416255235672)]\n",
        "\n",
        "Conjunto:\n",
        "[u'tong', u'dumplings', u'compromised', u'complex', u'lease', u'seats', u'crackers', u'theatre']\n",
        "Top 5 M\u00e1s similar al conjunto entero... \n",
        "[(u'grilled', 0.42265477776527405), (u'glutinous', 0.39855149388313293), (u'marinated', 0.3934098482131958), (u'kwun', 0.3897944688796997), (u'soy', 0.37767237424850464)]\n",
        "\n",
        "Conjunto:\n",
        "[u'debra', u'puppy', u'wax', u'cortez', u'stick', u'animal', u'qt', u'lemonade', u'tricked']\n",
        "Top 5 M\u00e1s similar al conjunto entero... \n",
        "[(u'nailing', 0.5502177476882935), (u'melon', 0.5273478627204895), (u'fluffy', 0.516710102558136), (u'watermelon', 0.5146310329437256), (u'buttered', 0.504407525062561)]"
       ]
      },
      {
       "output_type": "stream",
       "stream": "stdout",
       "text": [
        "\n",
        "\n",
        "Conjunto:\n",
        "[u'bonnie', u'lam', u'eyebrow', u'lia', u'hills', u'seven', u'mario', u'south', u'hundred']\n",
        "Top 5 M\u00e1s similar al conjunto entero... \n",
        "[(u'five', 0.5325087904930115), (u'six', 0.5229433178901672), (u'one', 0.511074423789978), (u'three', 0.5015102624893188), (u'four', 0.5009807348251343)]\n",
        "\n",
        "Conjunto:\n",
        "[u'blades', u'homebrew', u'chestnuts', u'thursdays', u'careers', u'programs']\n",
        "Top 5 M\u00e1s similar al conjunto entero... \n",
        "[(u'packages', 0.4526146650314331), (u'ins', 0.4502960443496704), (u'emulators', 0.4402347207069397), (u'hobbyist', 0.44000041484832764), (u'vendors', 0.43119901418685913)]\n",
        "\n",
        "Conjunto:\n",
        "[u'burrito', u'bikes', u'slowest', u'julio', u'sewing', u'philly', u'museum', u'tan']\n",
        "Top 5 M\u00e1s similar al conjunto entero... \n",
        "[(u'racer', 0.5025341510772705), (u'womack', 0.4459310472011566), (u'frisbee', 0.44481581449508667), (u'maserati', 0.43969953060150146), (u'dino', 0.4330045282840729)]"
       ]
      },
      {
       "output_type": "stream",
       "stream": "stdout",
       "text": [
        "\n",
        "\n",
        "Conjunto:\n",
        "[u'madison', u'coffee', u'cloths', u'officers', u'shelter', u'subway', u'saloon', u'shelters', u'adopt', u'sub']\n",
        "Top 5 M\u00e1s similar al conjunto entero... \n",
        "[(u'taverns', 0.47525566816329956), (u'depot', 0.45532774925231934), (u'mews', 0.45310741662979126), (u'lodging', 0.44198447465896606), (u'dining', 0.4342435598373413)]\n",
        "\n",
        "Conjunto:\n",
        "[u'apple', u'toy', u'breakfasts', u'batter', u'calibre', u'accessories', u'babcock']\n",
        "Top 5 M\u00e1s similar al conjunto entero... \n",
        "[(u'kits', 0.5208716988563538), (u'bags', 0.4816802740097046), (u'toys', 0.47154760360717773), (u'vending', 0.4710206985473633), (u'saws', 0.4495643377304077)]\n"
       ]
      }
     ],
     "prompt_number": 32
    },
    {
     "cell_type": "code",
     "collapsed": false,
     "input": [
      "for palabras in palabrasTopic:\n",
      "    print \"\\nConjunto:\"\n",
      "    print palabras[0:3]\n",
      "    print \"Top 3 M\u00e1s similar al conjunto entero... \"\n",
      "    print model.most_similar(positive = palabras[0:3], topn=5)"
     ],
     "language": "python",
     "metadata": {},
     "outputs": [
      {
       "output_type": "stream",
       "stream": "stdout",
       "text": [
        "\n",
        "Conjunto:\n",
        "[u'machines', u'vous', u'turkey']\n",
        "Top 3 M\u00e1s similar al conjunto entero... \n",
        "[(u'lui', 0.47333842515945435), (u'rkiye', 0.4359258711338043), (u'yeni', 0.42169252038002014), (u'tidak', 0.4125435948371887), (u'kvar', 0.40425485372543335)]\n",
        "\n",
        "Conjunto:\n",
        "[u'show', u'connolly', u'mcclintock']\n",
        "Top 3 M\u00e1s similar al conjunto entero... \n",
        "[(u'selleck', 0.5036264657974243), (u'farley', 0.4924617111682892), (u'carlin', 0.48047780990600586), (u'hudd', 0.47760599851608276), (u'winfrey', 0.4767233729362488)]\n",
        "\n",
        "Conjunto:\n",
        "[u'banks', u'rv', u'bank']\n",
        "Top 3 M\u00e1s similar al conjunto entero... \n",
        "[(u'banking', 0.5073708295822144), (u'banco', 0.49284493923187256), (u'loans', 0.4814477264881134), (u'banca', 0.4673842787742615), (u'citigroup', 0.46399420499801636)]"
       ]
      },
      {
       "output_type": "stream",
       "stream": "stdout",
       "text": [
        "\n",
        "\n",
        "Conjunto:\n",
        "[u'knots', u'festival', u'italian']\n",
        "Top 3 M\u00e1s similar al conjunto entero... \n",
        "[(u'taranto', 0.47400355339050293), (u'festivals', 0.46555304527282715), (u'ancona', 0.4546387791633606), (u'filippo', 0.45177656412124634), (u'ferri', 0.45056429505348206)]\n",
        "\n",
        "Conjunto:\n",
        "[u'payments', u'gamer', u'heritage']\n",
        "Top 3 M\u00e1s similar al conjunto entero... \n",
        "[(u'profits', 0.4382697343826294), (u'boardgamegeek', 0.4107571542263031), (u'subscription', 0.40163570642471313), (u'ibos', 0.39067643880844116), (u'dividends', 0.3867112100124359)]\n",
        "\n",
        "Conjunto:\n",
        "[u'bar', u'pool', u'venue']\n",
        "Top 3 M\u00e1s similar al conjunto entero... \n",
        "[(u'venues', 0.5441238880157471), (u'bars', 0.5277774930000305), (u'dining', 0.49480026960372925), (u'clubs', 0.48689430952072144), (u'seating', 0.4792433977127075)]"
       ]
      },
      {
       "output_type": "stream",
       "stream": "stdout",
       "text": [
        "\n",
        "\n",
        "Conjunto:\n",
        "[u'edinburgh', u'bike', u'gm']\n",
        "Top 3 M\u00e1s similar al conjunto entero... \n",
        "[(u'speedway', 0.5006864666938782), (u'motorcycle', 0.46107083559036255), (u'sidecar', 0.45221301913261414), (u'bicyclists', 0.4512982964515686), (u'bikes', 0.44615936279296875)]\n",
        "\n",
        "Conjunto:\n",
        "[u'union', u'ed', u'views']\n",
        "Top 3 M\u00e1s similar al conjunto entero... \n",
        "[(u'leanings', 0.46221956610679626), (u'pluralism', 0.45211362838745117), (u'politics', 0.446521520614624), (u'ideology', 0.44557198882102966), (u'criticises', 0.4400414824485779)]\n",
        "\n",
        "Conjunto:\n",
        "[u'sports', u'coney', u'diesel']\n",
        "Top 3 M\u00e1s similar al conjunto entero... \n",
        "[(u'racing', 0.4973749816417694), (u'stadiums', 0.4761210083961487), (u'bikes', 0.4737780690193176), (u'snowboarding', 0.4723355770111084), (u'speedway', 0.46796715259552)]"
       ]
      },
      {
       "output_type": "stream",
       "stream": "stdout",
       "text": [
        "\n",
        "\n",
        "Conjunto:\n",
        "[u'jeep', u'golf', u'pot']\n",
        "Top 3 M\u00e1s similar al conjunto entero... \n",
        "[(u'badminton', 0.4183235466480255), (u'caddying', 0.4161939024925232), (u'grill', 0.4054882526397705), (u'putt', 0.3975353240966797), (u'frisbee', 0.3960477113723755)]\n",
        "\n",
        "Conjunto:\n",
        "[u'car', u'insurance', u'john']\n",
        "Top 3 M\u00e1s similar al conjunto entero... \n",
        "[(u'automobile', 0.4996107816696167), (u'driver', 0.470918744802475), (u'racer', 0.46185925602912903), (u'bombardier', 0.4500378370285034), (u'nascar', 0.44413986802101135)]\n",
        "\n",
        "Conjunto:\n",
        "[u'pharmacy', u'burger', u'burgers']\n",
        "Top 3 M\u00e1s similar al conjunto entero... \n",
        "[(u'sandwiches', 0.525437593460083), (u'gourmet', 0.4989234209060669), (u'pickles', 0.4955987334251404), (u'restaurant', 0.4885505437850952), (u'sauerkraut', 0.4830991327762604)]"
       ]
      },
      {
       "output_type": "stream",
       "stream": "stdout",
       "text": [
        "\n",
        "\n",
        "Conjunto:\n",
        "[u'car', u'he', u'company']\n",
        "Top 3 M\u00e1s similar al conjunto entero... \n",
        "[(u'volkswagen', 0.4900635778903961), (u'daimler', 0.48838135600090027), (u'firm', 0.48284655809402466), (u'earnhardt', 0.4820787012577057), (u'bugatti', 0.47605371475219727)]\n",
        "\n",
        "Conjunto:\n",
        "[u'animals', u'ribs', u'metropolis']\n",
        "Top 3 M\u00e1s similar al conjunto entero... \n",
        "[(u'humans', 0.4607090950012207), (u'scrotum', 0.46059444546699524), (u'limbs', 0.45838290452957153), (u'spine', 0.45812833309173584), (u'eyelid', 0.45457005500793457)]\n",
        "\n",
        "Conjunto:\n",
        "[u'stills', u'bangs', u'village']\n",
        "Top 3 M\u00e1s similar al conjunto entero... \n",
        "[(u'vicki', 0.43642762303352356), (u'horton', 0.4319228231906891), (u'parkwyn', 0.4208645224571228), (u'carousel', 0.41176924109458923), (u'thornton', 0.40623846650123596)]"
       ]
      },
      {
       "output_type": "stream",
       "stream": "stdout",
       "text": [
        "\n",
        "\n",
        "Conjunto:\n",
        "[u'learning', u'melissa', u'mash']\n",
        "Top 3 M\u00e1s similar al conjunto entero... \n",
        "[(u'lautering', 0.46039101481437683), (u'decoction', 0.42567211389541626), (u'starches', 0.4016520082950592), (u'extract', 0.3951205611228943), (u'espagnole', 0.38855114579200745)]\n",
        "\n",
        "Conjunto:\n",
        "[u'pizza', u'airport', u'dr']\n",
        "Top 3 M\u00e1s similar al conjunto entero... \n",
        "[(u'hartsfield', 0.4633203446865082), (u'narita', 0.45836853981018066), (u'restaurant', 0.45395615696907043), (u'canc', 0.4447817802429199), (u'marriott', 0.43943026661872864)]\n",
        "\n",
        "Conjunto:\n",
        "[u'geeks', u'carpets', u'scheduled']\n",
        "Top 3 M\u00e1s similar al conjunto entero... \n",
        "[(u'entertainment', 0.43065059185028076), (u'appliances', 0.42831873893737793), (u'upscale', 0.4269752502441406), (u'cafes', 0.4013370871543884), (u'weekends', 0.3901251256465912)]"
       ]
      },
      {
       "output_type": "stream",
       "stream": "stdout",
       "text": [
        "\n",
        "\n",
        "Conjunto:\n",
        "[u'et', u'le', u'de']\n",
        "Top 3 M\u00e1s similar al conjunto entero... \n",
        "[(u'personne', 0.7141028642654419), (u'dans', 0.6897764205932617), (u'histoire', 0.6818870306015015), (u'que', 0.6554017066955566), (u'ditions', 0.6517789363861084)]\n",
        "\n",
        "Conjunto:\n",
        "[u'breakfast', u'produce', u'groceries']\n",
        "Top 3 M\u00e1s similar al conjunto entero... \n",
        "[(u'buy', 0.4962623119354248), (u'canned', 0.4761056900024414), (u'cheap', 0.4755922853946686), (u'retailers', 0.46587005257606506), (u'sell', 0.46477165818214417)]\n",
        "\n",
        "Conjunto:\n",
        "[u'pie', u'links', u'gel']\n",
        "Top 3 M\u00e1s similar al conjunto entero... \n",
        "[(u'mousse', 0.47404617071151733), (u'pancakes', 0.41957807540893555), (u'omelette', 0.4105657935142517), (u'foldoc', 0.4023329019546509), (u'biscuits', 0.3947617709636688)]"
       ]
      },
      {
       "output_type": "stream",
       "stream": "stdout",
       "text": [
        "\n",
        "\n",
        "Conjunto:\n",
        "[u'happiness', u'atm', u'harper']\n",
        "Top 3 M\u00e1s similar al conjunto entero... \n",
        "[(u'conscience', 0.3794017434120178), (u'individualism', 0.37871110439300537), (u'weidenfeld', 0.37782150506973267), (u'macmillan', 0.3667626976966858), (u'despair', 0.3666011691093445)]\n",
        "\n",
        "Conjunto:\n",
        "[u'patriot', u'terrace', u'cake']\n",
        "Top 3 M\u00e1s similar al conjunto entero... \n",
        "[(u'dumpling', 0.4602423310279846), (u'oysters', 0.45147228240966797), (u'crepe', 0.4495943784713745), (u'garnished', 0.43608659505844116), (u'rustic', 0.4343132972717285)]\n",
        "\n",
        "Conjunto:\n",
        "[u'bob', u'sandals', u'garage']\n",
        "Top 3 M\u00e1s similar al conjunto entero... \n",
        "[(u'wally', 0.497114896774292), (u'pants', 0.4826570153236389), (u'gloves', 0.47004157304763794), (u'parlor', 0.46622979640960693), (u'hat', 0.4479321241378784)]"
       ]
      },
      {
       "output_type": "stream",
       "stream": "stdout",
       "text": [
        "\n",
        "\n",
        "Conjunto:\n",
        "[u'food', u'we', u'chinese']\n",
        "Top 3 M\u00e1s similar al conjunto entero... \n",
        "[(u'kosher', 0.4510006606578827), (u'foods', 0.4509628415107727), (u'utensils', 0.42803657054901123), (u'pickled', 0.4231126308441162), (u'stews', 0.4143185019493103)]\n",
        "\n",
        "Conjunto:\n",
        "[u'pearl', u'fraser', u'band']\n",
        "Top 3 M\u00e1s similar al conjunto entero... \n",
        "[(u'supertramp', 0.507038414478302), (u'drummer', 0.49801817536354065), (u'bassist', 0.47083237767219543), (u'osbourne', 0.4595233201980591), (u'richie', 0.45219606161117554)]\n",
        "\n",
        "Conjunto:\n",
        "[u'pizza', u'kitty', u'hair']\n",
        "Top 3 M\u00e1s similar al conjunto entero... \n",
        "[(u'haired', 0.5682773590087891), (u'blond', 0.5571537017822266), (u'curly', 0.5355919599533081), (u'dresses', 0.5172721743583679), (u'fluffy', 0.5166218280792236)]"
       ]
      },
      {
       "output_type": "stream",
       "stream": "stdout",
       "text": [
        "\n",
        "\n",
        "Conjunto:\n",
        "[u'iga', u'survival', u'ob']\n",
        "Top 3 M\u00e1s similar al conjunto entero... \n",
        "[(u'cytochrome', 0.5379114747047424), (u'tetrameric', 0.5322656035423279), (u'immunoglobulins', 0.5011170506477356), (u'kd', 0.49026256799697876), (u'igm', 0.4898372292518616)]\n",
        "\n",
        "Conjunto:\n",
        "[u'ike', u'brian', u'mecca']\n",
        "Top 3 M\u00e1s similar al conjunto entero... \n",
        "[(u'pat', 0.47400951385498047), (u'michaels', 0.44790899753570557), (u'carolyn', 0.4453588128089905), (u'tina', 0.4387210011482239), (u'barnett', 0.4375656247138977)]\n",
        "\n",
        "Conjunto:\n",
        "[u'exam', u'cod', u'teacher']\n",
        "Top 3 M\u00e1s similar al conjunto entero... \n",
        "[(u'exams', 0.636263370513916), (u'diploma', 0.5362904667854309), (u'school', 0.5294173955917358), (u'matriculation', 0.4964446425437927), (u'student', 0.48672449588775635)]"
       ]
      },
      {
       "output_type": "stream",
       "stream": "stdout",
       "text": [
        "\n",
        "\n",
        "Conjunto:\n",
        "[u'shoe', u'repair', u'pv']\n",
        "Top 3 M\u00e1s similar al conjunto entero... \n",
        "[(u'hose', 0.43710246682167053), (u'polyethylene', 0.4360758364200592), (u'pump', 0.4087544083595276), (u'factory', 0.4081813097000122), (u'adidas', 0.40131115913391113)]\n",
        "\n",
        "Conjunto:\n",
        "[u'kennedy', u'patricia', u'park']\n",
        "Top 3 M\u00e1s similar al conjunto entero... \n",
        "[(u'bryant', 0.4959537386894226), (u'gail', 0.4941992163658142), (u'tracy', 0.4837622046470642), (u'jr', 0.48098281025886536), (u'barnett', 0.47753480076789856)]\n",
        "\n",
        "Conjunto:\n",
        "[u'rags', u'lawsuit', u'cord']\n",
        "Top 3 M\u00e1s similar al conjunto entero... \n",
        "[(u'lawsuits', 0.4305337071418762), (u'straps', 0.3848249316215515), (u'pectoral', 0.38412976264953613), (u'torso', 0.382414847612381), (u'sued', 0.36829036474227905)]"
       ]
      },
      {
       "output_type": "stream",
       "stream": "stdout",
       "text": [
        "\n",
        "\n",
        "Conjunto:\n",
        "[u'science', u'bally', u'kyle']\n",
        "Top 3 M\u00e1s similar al conjunto entero... \n",
        "[(u'dr', 0.4314700961112976), (u'gann', 0.4290051758289337), (u'wildstorm', 0.4235541820526123), (u'maclachlan', 0.4101027846336365), (u'spoofed', 0.4089483618736267)]\n",
        "\n",
        "Conjunto:\n",
        "[u'coffee', u'latte', u'starbucks']\n",
        "Top 3 M\u00e1s similar al conjunto entero... \n",
        "[(u'caff', 0.5838974118232727), (u'robusta', 0.5376156568527222), (u'bananas', 0.5338641405105591), (u'vanilla', 0.5233617424964905), (u'cinnamon', 0.516684353351593)]\n",
        "\n",
        "Conjunto:\n",
        "[u'lankan', u'sri', u'sol']\n",
        "Top 3 M\u00e1s similar al conjunto entero... \n",
        "[(u'lanka', 0.6064302921295166), (u'aurobindo', 0.5450332760810852), (u'kandy', 0.5184490084648132), (u'ceylon', 0.4957513213157654), (u'narayan', 0.4616275727748871)]"
       ]
      },
      {
       "output_type": "stream",
       "stream": "stdout",
       "text": [
        "\n",
        "\n",
        "Conjunto:\n",
        "[u'brewing', u'rossini', u'eddie']\n",
        "Top 3 M\u00e1s similar al conjunto entero... \n",
        "[(u'opera', 0.5037335157394409), (u'gluck', 0.502072274684906), (u'schubert', 0.49762189388275146), (u'donizetti', 0.48040032386779785), (u'martini', 0.4694855809211731)]\n",
        "\n",
        "Conjunto:\n",
        "[u'coffee', u'el', u'cafe']\n",
        "Top 3 M\u00e1s similar al conjunto entero... \n",
        "[(u'caf', 0.5611860156059265), (u'souk', 0.5031682848930359), (u'recife', 0.486447811126709), (u'meknes', 0.4860503673553467), (u'chueca', 0.4821721613407135)]\n",
        "\n",
        "Conjunto:\n",
        "[u'leggings', u'tattoo', u'tattoos']\n",
        "Top 3 M\u00e1s similar al conjunto entero... \n",
        "[(u'dresses', 0.6293696165084839), (u'necklaces', 0.6194063425064087), (u'wears', 0.5932405591011047), (u'wig', 0.5674853324890137), (u'skirts', 0.563786506652832)]"
       ]
      },
      {
       "output_type": "stream",
       "stream": "stdout",
       "text": [
        "\n",
        "\n",
        "Conjunto:\n",
        "[u'costa', u'del', u'mcdonald']\n",
        "Top 3 M\u00e1s similar al conjunto entero... \n",
        "[(u'serra', 0.5170042514801025), (u'sala', 0.5159235596656799), (u'toro', 0.5073896646499634), (u'buen', 0.49819451570510864), (u'colegio', 0.49555379152297974)]\n",
        "\n",
        "Conjunto:\n",
        "[u'luxor', u'carolyn', u'z']\n",
        "Top 3 M\u00e1s similar al conjunto entero... \n",
        "[(u'gremese', 0.5120828151702881), (u'youssef', 0.5108153820037842), (u'dih', 0.4384172558784485), (u'akhawayn', 0.43776851892471313), (u'ramzi', 0.4335898756980896)]\n",
        "\n",
        "Conjunto:\n",
        "[u'stuffing', u'concert', u'burro']\n",
        "Top 3 M\u00e1s similar al conjunto entero... \n",
        "[(u'piano', 0.4198046922683716), (u'concerts', 0.41639602184295654), (u'quartet', 0.3889462947845459), (u'headlined', 0.3813219964504242), (u'pixies', 0.37764573097229004)]"
       ]
      },
      {
       "output_type": "stream",
       "stream": "stdout",
       "text": [
        "\n",
        "\n",
        "Conjunto:\n",
        "[u'chinatown', u'biker', u'tejas']\n",
        "Top 3 M\u00e1s similar al conjunto entero... \n",
        "[(u'megalon', 0.44319790601730347), (u'gang', 0.42762649059295654), (u'chasers', 0.4204898774623871), (u'robo', 0.41994813084602356), (u'gambit', 0.4122878909111023)]\n",
        "\n",
        "Conjunto:\n",
        "[u'tong', u'dumplings', u'compromised']\n",
        "Top 3 M\u00e1s similar al conjunto entero... \n",
        "[(u'soy', 0.5143381357192993), (u'wonton', 0.5141876935958862), (u'kwun', 0.5039246678352356), (u'barbecued', 0.5017058849334717), (u'marinated', 0.4975357949733734)]\n",
        "\n",
        "Conjunto:\n",
        "[u'debra', u'puppy', u'wax']\n",
        "Top 3 M\u00e1s similar al conjunto entero... \n",
        "[(u'fluffy', 0.5010882616043091), (u'candy', 0.495352178812027), (u'lovely', 0.4844245910644531), (u'biscuits', 0.4842168688774109), (u'skinny', 0.48230499029159546)]"
       ]
      },
      {
       "output_type": "stream",
       "stream": "stdout",
       "text": [
        "\n",
        "\n",
        "Conjunto:\n",
        "[u'bonnie', u'lam', u'eyebrow']\n",
        "Top 3 M\u00e1s similar al conjunto entero... \n",
        "[(u'mckernan', 0.47139832377433777), (u'talkin', 0.45509660243988037), (u'macgregor', 0.44297194480895996), (u'rodger', 0.43451422452926636), (u'kenny', 0.425116628408432)]\n",
        "\n",
        "Conjunto:\n",
        "[u'blades', u'homebrew', u'chestnuts']\n",
        "Top 3 M\u00e1s similar al conjunto entero... \n",
        "[(u'paste', 0.5367304086685181), (u'dough', 0.4848393201828003), (u'udon', 0.4654082655906677), (u'cutters', 0.4625399708747864), (u'sliced', 0.45747262239456177)]\n",
        "\n",
        "Conjunto:\n",
        "[u'burrito', u'bikes', u'slowest']\n",
        "Top 3 M\u00e1s similar al conjunto entero... \n",
        "[(u'racer', 0.5113354921340942), (u'motorcycles', 0.5096168518066406), (u'drivetrain', 0.5061121582984924), (u'miata', 0.4997653663158417), (u'bike', 0.49497297406196594)]"
       ]
      },
      {
       "output_type": "stream",
       "stream": "stdout",
       "text": [
        "\n",
        "\n",
        "Conjunto:\n",
        "[u'madison', u'coffee', u'cloths']\n",
        "Top 3 M\u00e1s similar al conjunto entero... \n",
        "[(u'tea', 0.5270847082138062), (u'hemp', 0.4839046597480774), (u'cotton', 0.4797513484954834), (u'plantains', 0.47196537256240845), (u'candied', 0.46272504329681396)]\n",
        "\n",
        "Conjunto:\n",
        "[u'apple', u'toy', u'breakfasts']\n",
        "Top 3 M\u00e1s similar al conjunto entero... \n",
        "[(u'macintosh', 0.472504198551178), (u'confectionery', 0.46300190687179565), (u'toys', 0.45781126618385315), (u'corel', 0.4447331428527832), (u'vending', 0.43989020586013794)]\n"
       ]
      }
     ],
     "prompt_number": 33
    },
    {
     "cell_type": "heading",
     "level": 4,
     "metadata": {},
     "source": [
      "\u00bfQu\u00e9 documentos encajan con un topic?"
     ]
    },
    {
     "cell_type": "markdown",
     "metadata": {},
     "source": [
      "Tarda muuuuucho y lo peta"
     ]
    },
    {
     "cell_type": "code",
     "collapsed": false,
     "input": [
      "def getProbability(item):\n",
      "    return item[1]"
     ],
     "language": "python",
     "metadata": {},
     "outputs": []
    },
    {
     "cell_type": "code",
     "collapsed": false,
     "input": [
      "for doc in corpus_lda: # both bow->tfidf and tfidf->lsi transformations are actually executed here, on the fly\n",
      "    # doc = topics\n",
      "    # [(4, 0.023996362445639009), (13, 0.012698455864348347), ... \n",
      "    # quiero ordenar por probabilidad\n",
      "    listaOrdenada = sorted(doc, key=getProbability, reverse=True)   # sort by probability\n",
      "    for elemento in listaOrdenada:\n",
      "        indLDA = elemento[0]\n",
      "        print \"Topic:\" + str(indLDA)\n",
      "        print \"Probabilidad:\" + str(elemento[1])\n",
      "        print topics_lda[indLDA]"
     ],
     "language": "python",
     "metadata": {},
     "outputs": []
    },
    {
     "cell_type": "heading",
     "level": 4,
     "metadata": {},
     "source": [
      "\u00bfA qu\u00e9 topics est\u00e1 m\u00e1s asociado....?"
     ]
    },
    {
     "cell_type": "code",
     "collapsed": false,
     "input": [
      "query = \"here you can eat sushi, sashimi, teriyaki and other shrimp food\"\n",
      "queryvector = dictionary.doc2bow(query.lower().split())\n",
      "print(queryvector) "
     ],
     "language": "python",
     "metadata": {},
     "outputs": [
      {
       "output_type": "stream",
       "stream": "stdout",
       "text": [
        "[(2938, 1), (10429, 1), (17048, 1), (19854, 1), (21259, 1), (24532, 1), (25753, 1), (28863, 1), (33400, 1)]\n"
       ]
      }
     ],
     "prompt_number": 34
    },
    {
     "cell_type": "markdown",
     "metadata": {},
     "source": [
      "Gensim defaults to only showing the top ones that meet a certain threshold (>= 0.01). "
     ]
    },
    {
     "cell_type": "code",
     "collapsed": false,
     "input": [
      "lda[queryvector]"
     ],
     "language": "python",
     "metadata": {},
     "outputs": [
      {
       "metadata": {},
       "output_type": "pyout",
       "prompt_number": 35,
       "text": [
        "[(9, 0.10206597663952381), (24, 0.80193402336047714)]"
       ]
      }
     ],
     "prompt_number": 35
    },
    {
     "cell_type": "markdown",
     "metadata": {},
     "source": [
      "From this list, we have each topic and the **likelihood** that the query relates to that topic. So, if we sort this a little more meaningfully:"
     ]
    },
    {
     "cell_type": "code",
     "collapsed": false,
     "input": [
      "a = list(sorted(lda[queryvector], key=lambda x: x[1]))\n",
      "print \"The least:\"\n",
      "print(a[0]) # el topic menos parecido\n",
      "print \"The most:\"\n",
      "print(a[-1]) # el topic m\u00e1s parecido"
     ],
     "language": "python",
     "metadata": {},
     "outputs": [
      {
       "output_type": "stream",
       "stream": "stdout",
       "text": [
        "The least:\n",
        "(9, 0.10206689835850814)\n",
        "The most:\n",
        "(24, 0.8019331016414929)\n"
       ]
      }
     ],
     "prompt_number": 36
    },
    {
     "cell_type": "markdown",
     "metadata": {},
     "source": [
      "Vemos qu\u00e9 tiene el topic **menos parecido**"
     ]
    },
    {
     "cell_type": "code",
     "collapsed": false,
     "input": [
      "lda.print_topic(a[0][0])"
     ],
     "language": "python",
     "metadata": {},
     "outputs": [
      {
       "metadata": {},
       "output_type": "pyout",
       "prompt_number": 37,
       "text": [
        "u'0.005*jeep + 0.004*teriyaki + 0.003*golf + 0.003*wigwam + 0.002*pot + 0.002*nous + 0.002*vein + 0.002*crunch + 0.001*minor + 0.001*lightning'"
       ]
      }
     ],
     "prompt_number": 37
    },
    {
     "cell_type": "markdown",
     "metadata": {},
     "source": [
      "Vemos qu\u00e9 tiene el topic **m\u00e1s parecido**"
     ]
    },
    {
     "cell_type": "code",
     "collapsed": false,
     "input": [
      "print topics_lda[a[-1][0]]"
     ],
     "language": "python",
     "metadata": {},
     "outputs": [
      {
       "output_type": "stream",
       "stream": "stdout",
       "text": [
        "0.005*food + 0.003*we + 0.003*chinese + 0.003*restaurant + 0.003*bar + 0.003*pizza + 0.002*sauce + 0.002*menu + 0.002*ordered + 0.002*our\n"
       ]
      }
     ],
     "prompt_number": 38
    },
    {
     "cell_type": "heading",
     "level": 3,
     "metadata": {},
     "source": [
      "NOTAS"
     ]
    },
    {
     "cell_type": "markdown",
     "metadata": {},
     "source": [
      "Not the best results, so this model's **number of topics** probably needs to be a bit higher, or **alpha values** played with until results pan out (to work out or turn out all right)."
     ]
    },
    {
     "cell_type": "heading",
     "level": 3,
     "metadata": {},
     "source": [
      "Clustering"
     ]
    },
    {
     "cell_type": "markdown",
     "metadata": {},
     "source": [
      "I sense some conceptual mismatch -- LDA and HDP are meant to produce a different (topical) representation for a document. You can then take this representation and use it as input for clustering (for example, using k-means). So these techniques are not meant for the same purpose and are not interchangeable."
     ]
    },
    {
     "cell_type": "code",
     "collapsed": false,
     "input": [],
     "language": "python",
     "metadata": {},
     "outputs": []
    }
   ],
   "metadata": {}
  }
 ]
}