{
 "metadata": {
  "name": ""
 },
 "nbformat": 3,
 "nbformat_minor": 0,
 "worksheets": [
  {
   "cells": [
    {
     "cell_type": "code",
     "collapsed": false,
     "input": [
      "import graphlab"
     ],
     "language": "python",
     "metadata": {},
     "outputs": [],
     "prompt_number": 1
    },
    {
     "cell_type": "markdown",
     "metadata": {},
     "source": [
      "## Generate dataset (ETL)"
     ]
    },
    {
     "cell_type": "code",
     "collapsed": false,
     "input": [
      "fileReviews = '/home/nievesabalos/Escritorio/nlp/datasets/yelp/data_original/yelp_academic_dataset_review.json'\n",
      "fileBusiness = '/home/nievesabalos/Escritorio/nlp/datasets/yelp/data_original/yelp_academic_dataset_business.json'"
     ],
     "language": "python",
     "metadata": {},
     "outputs": [],
     "prompt_number": 2
    },
    {
     "cell_type": "code",
     "collapsed": false,
     "input": [
      "sf_reviews = graphlab.SFrame.read_csv(fileReviews, delimiter='\\n', column_type_hints=dict, header=None)\n",
      "sf_reviews = sf_reviews.unpack('X1', column_name_prefix='')\n",
      "sf_business = graphlab.SFrame.read_csv(fileBusiness, delimiter='\\n', column_type_hints=dict, header=None)\n",
      "sf_business = sf_business.unpack('X1', column_name_prefix='')\n",
      "#\n",
      "sf = sf_reviews.join(sf_business, on=['business_id'])\n",
      "print \"%s reviews\" %len(sf)\n",
      "sf.head(1)\n",
      "#\n",
      "sf_filter = sf[sf[\"city\"]!=\"Karlsruhe\"]\n",
      "\n",
      "sf_reviews2 = sf_filter.groupby([\"business_id\", \"categories\"], {\"texts\":graphlab.aggregate.CONCAT(\"text\")})\n",
      "sf_reviews2['texts'] = sf_reviews2['texts'].apply(lambda x: \" \".join(x))\n",
      "print \"%s business\" %len(sf_reviews2)\n",
      "\n",
      "sf_business = sf_reviews2[0:2220]\n",
      "\n",
      "sf_train, sf_test = sf_business.random_split(.9, seed=5)\n",
      "sf_train.show()"
     ],
     "language": "python",
     "metadata": {},
     "outputs": [
      {
       "html": [
        "<pre>PROGRESS: Read 58441 lines. Lines per second: 5139.5</pre>"
       ],
       "metadata": {},
       "output_type": "display_data",
       "text": [
        "PROGRESS: Read 58441 lines. Lines per second: 5139.5"
       ]
      },
      {
       "html": [
        "<pre>PROGRESS: Read 120244 lines. Lines per second: 6986.65</pre>"
       ],
       "metadata": {},
       "output_type": "display_data",
       "text": [
        "PROGRESS: Read 120244 lines. Lines per second: 6986.65"
       ]
      },
      {
       "html": [
        "<pre>PROGRESS: Read 180691 lines. Lines per second: 7660.83</pre>"
       ],
       "metadata": {},
       "output_type": "display_data",
       "text": [
        "PROGRESS: Read 180691 lines. Lines per second: 7660.83"
       ]
      },
      {
       "html": [
        "<pre>PROGRESS: Read 240939 lines. Lines per second: 8199.69</pre>"
       ],
       "metadata": {},
       "output_type": "display_data",
       "text": [
        "PROGRESS: Read 240939 lines. Lines per second: 8199.69"
       ]
      },
      {
       "html": [
        "<pre>PROGRESS: Read 299710 lines. Lines per second: 8484.85</pre>"
       ],
       "metadata": {},
       "output_type": "display_data",
       "text": [
        "PROGRESS: Read 299710 lines. Lines per second: 8484.85"
       ]
      },
      {
       "html": [
        "<pre>PROGRESS: Read 356624 lines. Lines per second: 8488.57</pre>"
       ],
       "metadata": {},
       "output_type": "display_data",
       "text": [
        "PROGRESS: Read 356624 lines. Lines per second: 8488.57"
       ]
      },
      {
       "html": [
        "<pre>PROGRESS: Read 406991 lines. Lines per second: 8494.71</pre>"
       ],
       "metadata": {},
       "output_type": "display_data",
       "text": [
        "PROGRESS: Read 406991 lines. Lines per second: 8494.71"
       ]
      },
      {
       "html": [
        "<pre>PROGRESS: Read 461634 lines. Lines per second: 8507.78</pre>"
       ],
       "metadata": {},
       "output_type": "display_data",
       "text": [
        "PROGRESS: Read 461634 lines. Lines per second: 8507.78"
       ]
      },
      {
       "html": [
        "<pre>PROGRESS: Read 517595 lines. Lines per second: 8604.89</pre>"
       ],
       "metadata": {},
       "output_type": "display_data",
       "text": [
        "PROGRESS: Read 517595 lines. Lines per second: 8604.89"
       ]
      },
      {
       "html": [
        "<pre>PROGRESS: Read 575654 lines. Lines per second: 8660.36</pre>"
       ],
       "metadata": {},
       "output_type": "display_data",
       "text": [
        "PROGRESS: Read 575654 lines. Lines per second: 8660.36"
       ]
      },
      {
       "html": [
        "<pre>PROGRESS: Read 635262 lines. Lines per second: 8698.81</pre>"
       ],
       "metadata": {},
       "output_type": "display_data",
       "text": [
        "PROGRESS: Read 635262 lines. Lines per second: 8698.81"
       ]
      },
      {
       "html": [
        "<pre>PROGRESS: Read 693245 lines. Lines per second: 8812.59</pre>"
       ],
       "metadata": {},
       "output_type": "display_data",
       "text": [
        "PROGRESS: Read 693245 lines. Lines per second: 8812.59"
       ]
      },
      {
       "html": [
        "<pre>PROGRESS: Read 749861 lines. Lines per second: 8735.08</pre>"
       ],
       "metadata": {},
       "output_type": "display_data",
       "text": [
        "PROGRESS: Read 749861 lines. Lines per second: 8735.08"
       ]
      },
      {
       "html": [
        "<pre>PROGRESS: Read 806927 lines. Lines per second: 8740.78</pre>"
       ],
       "metadata": {},
       "output_type": "display_data",
       "text": [
        "PROGRESS: Read 806927 lines. Lines per second: 8740.78"
       ]
      },
      {
       "html": [
        "<pre>PROGRESS: Read 862866 lines. Lines per second: 8757.32</pre>"
       ],
       "metadata": {},
       "output_type": "display_data",
       "text": [
        "PROGRESS: Read 862866 lines. Lines per second: 8757.32"
       ]
      },
      {
       "html": [
        "<pre>PROGRESS: Read 918965 lines. Lines per second: 8719.68</pre>"
       ],
       "metadata": {},
       "output_type": "display_data",
       "text": [
        "PROGRESS: Read 918965 lines. Lines per second: 8719.68"
       ]
      },
      {
       "html": [
        "<pre>PROGRESS: Read 976078 lines. Lines per second: 8681.99</pre>"
       ],
       "metadata": {},
       "output_type": "display_data",
       "text": [
        "PROGRESS: Read 976078 lines. Lines per second: 8681.99"
       ]
      },
      {
       "html": [
        "<pre>PROGRESS: Read 1034609 lines. Lines per second: 8737.74</pre>"
       ],
       "metadata": {},
       "output_type": "display_data",
       "text": [
        "PROGRESS: Read 1034609 lines. Lines per second: 8737.74"
       ]
      },
      {
       "html": [
        "<pre>PROGRESS: Read 1091022 lines. Lines per second: 8747.5</pre>"
       ],
       "metadata": {},
       "output_type": "display_data",
       "text": [
        "PROGRESS: Read 1091022 lines. Lines per second: 8747.5"
       ]
      },
      {
       "html": [
        "<pre>PROGRESS: Read 1148134 lines. Lines per second: 8728.61</pre>"
       ],
       "metadata": {},
       "output_type": "display_data",
       "text": [
        "PROGRESS: Read 1148134 lines. Lines per second: 8728.61"
       ]
      },
      {
       "html": [
        "<pre>PROGRESS: Read 1204195 lines. Lines per second: 8736.71</pre>"
       ],
       "metadata": {},
       "output_type": "display_data",
       "text": [
        "PROGRESS: Read 1204195 lines. Lines per second: 8736.71"
       ]
      },
      {
       "html": [
        "<pre>PROGRESS: Read 1262924 lines. Lines per second: 8778.27</pre>"
       ],
       "metadata": {},
       "output_type": "display_data",
       "text": [
        "PROGRESS: Read 1262924 lines. Lines per second: 8778.27"
       ]
      },
      {
       "html": [
        "<pre>PROGRESS: Read 1320903 lines. Lines per second: 8810.01</pre>"
       ],
       "metadata": {},
       "output_type": "display_data",
       "text": [
        "PROGRESS: Read 1320903 lines. Lines per second: 8810.01"
       ]
      },
      {
       "html": [
        "<pre>PROGRESS: Read 1379300 lines. Lines per second: 8805.45</pre>"
       ],
       "metadata": {},
       "output_type": "display_data",
       "text": [
        "PROGRESS: Read 1379300 lines. Lines per second: 8805.45"
       ]
      },
      {
       "html": [
        "<pre>PROGRESS: Read 1437145 lines. Lines per second: 8822.75</pre>"
       ],
       "metadata": {},
       "output_type": "display_data",
       "text": [
        "PROGRESS: Read 1437145 lines. Lines per second: 8822.75"
       ]
      },
      {
       "html": [
        "<pre>PROGRESS: Read 1497690 lines. Lines per second: 8835.76</pre>"
       ],
       "metadata": {},
       "output_type": "display_data",
       "text": [
        "PROGRESS: Read 1497690 lines. Lines per second: 8835.76"
       ]
      },
      {
       "html": [
        "<pre>PROGRESS: Finished parsing file /home/nievesabalos/Escritorio/nlp/datasets/yelp/data_original/yelp_academic_dataset_review.json</pre>"
       ],
       "metadata": {},
       "output_type": "display_data",
       "text": [
        "PROGRESS: Finished parsing file /home/nievesabalos/Escritorio/nlp/datasets/yelp/data_original/yelp_academic_dataset_review.json"
       ]
      },
      {
       "html": [
        "<pre>PROGRESS: Parsing completed. Parsed 1569264 lines in 171.065 secs.</pre>"
       ],
       "metadata": {},
       "output_type": "display_data",
       "text": [
        "PROGRESS: Parsing completed. Parsed 1569264 lines in 171.065 secs."
       ]
      },
      {
       "html": [
        "<pre>PROGRESS: Read 58198 lines. Lines per second: 10040</pre>"
       ],
       "metadata": {},
       "output_type": "display_data",
       "text": [
        "PROGRESS: Read 58198 lines. Lines per second: 10040"
       ]
      },
      {
       "html": [
        "<pre>PROGRESS: Finished parsing file /home/nievesabalos/Escritorio/nlp/datasets/yelp/data_original/yelp_academic_dataset_business.json</pre>"
       ],
       "metadata": {},
       "output_type": "display_data",
       "text": [
        "PROGRESS: Finished parsing file /home/nievesabalos/Escritorio/nlp/datasets/yelp/data_original/yelp_academic_dataset_business.json"
       ]
      },
      {
       "html": [
        "<pre>PROGRESS: Parsing completed. Parsed 61184 lines in 5.83139 secs.</pre>"
       ],
       "metadata": {},
       "output_type": "display_data",
       "text": [
        "PROGRESS: Parsing completed. Parsed 61184 lines in 5.83139 secs."
       ]
      },
      {
       "output_type": "stream",
       "stream": "stdout",
       "text": [
        "1569264 reviews\n",
        "60134 business"
       ]
      },
      {
       "output_type": "stream",
       "stream": "stdout",
       "text": [
        "\n"
       ]
      },
      {
       "ename": "RuntimeError",
       "evalue": "Runtime Exception. Runtime Exception: 113. Fail executing the lambda function. The lambda worker may have run out of memory or crashed because it captured objects that cannot be properly serialized.",
       "output_type": "pyerr",
       "traceback": [
        "\u001b[1;31m---------------------------------------------------------------------------\u001b[0m\n\u001b[1;31mRuntimeError\u001b[0m                              Traceback (most recent call last)",
        "\u001b[1;32m<ipython-input-31-abc2067f1654>\u001b[0m in \u001b[0;36m<module>\u001b[1;34m()\u001b[0m\n\u001b[0;32m     14\u001b[0m \u001b[1;32mprint\u001b[0m \u001b[1;34m\"%s business\"\u001b[0m \u001b[1;33m%\u001b[0m\u001b[0mlen\u001b[0m\u001b[1;33m(\u001b[0m\u001b[0msf_reviews2\u001b[0m\u001b[1;33m)\u001b[0m\u001b[1;33m\u001b[0m\u001b[0m\n\u001b[0;32m     15\u001b[0m \u001b[1;33m\u001b[0m\u001b[0m\n\u001b[1;32m---> 16\u001b[1;33m \u001b[0msf_business\u001b[0m \u001b[1;33m=\u001b[0m \u001b[0msf_reviews2\u001b[0m\u001b[1;33m[\u001b[0m\u001b[1;36m0\u001b[0m\u001b[1;33m:\u001b[0m\u001b[1;36m2220\u001b[0m\u001b[1;33m]\u001b[0m\u001b[1;33m\u001b[0m\u001b[0m\n\u001b[0m\u001b[0;32m     17\u001b[0m \u001b[1;33m\u001b[0m\u001b[0m\n\u001b[0;32m     18\u001b[0m \u001b[0msf_train\u001b[0m\u001b[1;33m,\u001b[0m \u001b[0msf_test\u001b[0m \u001b[1;33m=\u001b[0m \u001b[0msf_business\u001b[0m\u001b[1;33m.\u001b[0m\u001b[0mrandom_split\u001b[0m\u001b[1;33m(\u001b[0m\u001b[1;36m.9\u001b[0m\u001b[1;33m,\u001b[0m \u001b[0mseed\u001b[0m\u001b[1;33m=\u001b[0m\u001b[1;36m5\u001b[0m\u001b[1;33m)\u001b[0m\u001b[1;33m\u001b[0m\u001b[0m\n",
        "\u001b[1;32m/home/nievesabalos/graphlab/local/lib/python2.7/site-packages/graphlab/data_structures/sframe.pyc\u001b[0m in \u001b[0;36m__getitem__\u001b[1;34m(self, key)\u001b[0m\n\u001b[0;32m   2644\u001b[0m             \u001b[1;32mif\u001b[0m \u001b[0mstop\u001b[0m \u001b[1;33m<\u001b[0m \u001b[1;36m0\u001b[0m\u001b[1;33m:\u001b[0m\u001b[1;33m\u001b[0m\u001b[0m\n\u001b[0;32m   2645\u001b[0m                 \u001b[0mstop\u001b[0m \u001b[1;33m=\u001b[0m \u001b[0mlen\u001b[0m\u001b[1;33m(\u001b[0m\u001b[0mself\u001b[0m\u001b[1;33m)\u001b[0m \u001b[1;33m+\u001b[0m \u001b[0mstop\u001b[0m\u001b[1;33m\u001b[0m\u001b[0m\n\u001b[1;32m-> 2646\u001b[1;33m             \u001b[1;32mreturn\u001b[0m \u001b[0mSFrame\u001b[0m\u001b[1;33m(\u001b[0m\u001b[0m_proxy\u001b[0m \u001b[1;33m=\u001b[0m \u001b[0mself\u001b[0m\u001b[1;33m.\u001b[0m\u001b[0m__proxy__\u001b[0m\u001b[1;33m.\u001b[0m\u001b[0mcopy_range\u001b[0m\u001b[1;33m(\u001b[0m\u001b[0mstart\u001b[0m\u001b[1;33m,\u001b[0m \u001b[0mstep\u001b[0m\u001b[1;33m,\u001b[0m \u001b[0mstop\u001b[0m\u001b[1;33m)\u001b[0m\u001b[1;33m)\u001b[0m\u001b[1;33m\u001b[0m\u001b[0m\n\u001b[0m\u001b[0;32m   2647\u001b[0m         \u001b[1;32melse\u001b[0m\u001b[1;33m:\u001b[0m\u001b[1;33m\u001b[0m\u001b[0m\n\u001b[0;32m   2648\u001b[0m             \u001b[1;32mraise\u001b[0m \u001b[0mTypeError\u001b[0m\u001b[1;33m(\u001b[0m\u001b[1;34m\"Invalid index type: must be SArray, list, or str\"\u001b[0m\u001b[1;33m)\u001b[0m\u001b[1;33m\u001b[0m\u001b[0m\n",
        "\u001b[1;32m/home/nievesabalos/graphlab/local/lib/python2.7/site-packages/graphlab/cython/cy_sframe.so\u001b[0m in \u001b[0;36mgraphlab.cython.cy_sframe.UnitySFrameProxy.copy_range\u001b[1;34m()\u001b[0m\n",
        "\u001b[1;32m/home/nievesabalos/graphlab/local/lib/python2.7/site-packages/graphlab/cython/cy_sframe.so\u001b[0m in \u001b[0;36mgraphlab.cython.cy_sframe.UnitySFrameProxy.copy_range\u001b[1;34m()\u001b[0m\n",
        "\u001b[1;31mRuntimeError\u001b[0m: Runtime Exception. Runtime Exception: 113. Fail executing the lambda function. The lambda worker may have run out of memory or crashed because it captured objects that cannot be properly serialized."
       ]
      }
     ],
     "prompt_number": 31
    },
    {
     "cell_type": "code",
     "collapsed": false,
     "input": [
      "sf_business = sf_reviews2[0:1200]\n",
      "\n",
      "sf_train, sf_test = sf_business.random_split(.9, seed=5)\n",
      "sf_train.show()"
     ],
     "language": "python",
     "metadata": {},
     "outputs": [],
     "prompt_number": 47
    },
    {
     "cell_type": "markdown",
     "metadata": {},
     "source": [
      "## Text Analytics (training set)"
     ]
    },
    {
     "cell_type": "code",
     "collapsed": false,
     "input": [
      "bow = graphlab.text_analytics.count_words(sf_train['texts'])\n",
      "#bow = bow.dict_trim_by_keys(graphlab.text_analytics.stopwords(), exclude=True)\n",
      "#bow = bow.dict_trim_by_values(2)\n",
      "tf_idf = graphlab.text_analytics.tf_idf(bow)\n",
      "#\n",
      "model50 = graphlab.topic_model.create(tf_idf,50)\n",
      "model50.summary()\n",
      "sf_train['topic50'] = model50.predict(tf_idf)\n",
      "#\n",
      "model100 = graphlab.topic_model.create(tf_idf,100)\n",
      "model100.summary()\n",
      "sf_train['topic100'] = model100.predict(tf_idf)\n",
      "#\n",
      "model500 = graphlab.topic_model.create(tf_idf,500)\n",
      "model500.summary()\n",
      "sf_train['topic500'] = model500.predict(tf_idf)"
     ],
     "language": "python",
     "metadata": {},
     "outputs": [
      {
       "html": [
        "<pre>PROGRESS: Learning a topic model</pre>"
       ],
       "metadata": {},
       "output_type": "display_data",
       "text": [
        "PROGRESS: Learning a topic model"
       ]
      },
      {
       "html": [
        "<pre>PROGRESS:        Number of documents      1080</pre>"
       ],
       "metadata": {},
       "output_type": "display_data",
       "text": [
        "PROGRESS:        Number of documents      1080"
       ]
      },
      {
       "html": [
        "<pre>PROGRESS:            Vocabulary size     46194</pre>"
       ],
       "metadata": {},
       "output_type": "display_data",
       "text": [
        "PROGRESS:            Vocabulary size     46194"
       ]
      },
      {
       "html": [
        "<pre>PROGRESS:    Running collapsed Gibbs sampling</pre>"
       ],
       "metadata": {},
       "output_type": "display_data",
       "text": [
        "PROGRESS:    Running collapsed Gibbs sampling"
       ]
      },
      {
       "html": [
        "<pre>PROGRESS: +-----------+---------------+----------------+-----------------+</pre>"
       ],
       "metadata": {},
       "output_type": "display_data",
       "text": [
        "PROGRESS: +-----------+---------------+----------------+-----------------+"
       ]
      },
      {
       "html": [
        "<pre>PROGRESS: | Iteration | Elapsed Time  | Tokens/Second  | Est. Perplexity |</pre>"
       ],
       "metadata": {},
       "output_type": "display_data",
       "text": [
        "PROGRESS: | Iteration | Elapsed Time  | Tokens/Second  | Est. Perplexity |"
       ]
      },
      {
       "html": [
        "<pre>PROGRESS: +-----------+---------------+----------------+-----------------+</pre>"
       ],
       "metadata": {},
       "output_type": "display_data",
       "text": [
        "PROGRESS: +-----------+---------------+----------------+-----------------+"
       ]
      },
      {
       "html": [
        "<pre>PROGRESS: | 10        | 3.54s         | 2.18685e+06    | 0               |</pre>"
       ],
       "metadata": {},
       "output_type": "display_data",
       "text": [
        "PROGRESS: | 10        | 3.54s         | 2.18685e+06    | 0               |"
       ]
      },
      {
       "html": [
        "<pre>PROGRESS: +-----------+---------------+----------------+-----------------+</pre>"
       ],
       "metadata": {},
       "output_type": "display_data",
       "text": [
        "PROGRESS: +-----------+---------------+----------------+-----------------+"
       ]
      },
      {
       "html": [
        "<pre>PROGRESS: Learning a topic model</pre>"
       ],
       "metadata": {},
       "output_type": "display_data",
       "text": [
        "PROGRESS: Learning a topic model"
       ]
      },
      {
       "html": [
        "<pre>PROGRESS:        Number of documents      1080</pre>"
       ],
       "metadata": {},
       "output_type": "display_data",
       "text": [
        "PROGRESS:        Number of documents      1080"
       ]
      },
      {
       "html": [
        "<pre>PROGRESS:            Vocabulary size     46194</pre>"
       ],
       "metadata": {},
       "output_type": "display_data",
       "text": [
        "PROGRESS:            Vocabulary size     46194"
       ]
      },
      {
       "html": [
        "<pre>PROGRESS:    Running collapsed Gibbs sampling</pre>"
       ],
       "metadata": {},
       "output_type": "display_data",
       "text": [
        "PROGRESS:    Running collapsed Gibbs sampling"
       ]
      },
      {
       "html": [
        "<pre>PROGRESS: +-----------+---------------+----------------+-----------------+</pre>"
       ],
       "metadata": {},
       "output_type": "display_data",
       "text": [
        "PROGRESS: +-----------+---------------+----------------+-----------------+"
       ]
      },
      {
       "html": [
        "<pre>PROGRESS: | Iteration | Elapsed Time  | Tokens/Second  | Est. Perplexity |</pre>"
       ],
       "metadata": {},
       "output_type": "display_data",
       "text": [
        "PROGRESS: | Iteration | Elapsed Time  | Tokens/Second  | Est. Perplexity |"
       ]
      },
      {
       "html": [
        "<pre>PROGRESS: +-----------+---------------+----------------+-----------------+</pre>"
       ],
       "metadata": {},
       "output_type": "display_data",
       "text": [
        "PROGRESS: +-----------+---------------+----------------+-----------------+"
       ]
      },
      {
       "html": [
        "<pre>PROGRESS: | 10        | 6.38s         | 1.19517e+06    | 0               |</pre>"
       ],
       "metadata": {},
       "output_type": "display_data",
       "text": [
        "PROGRESS: | 10        | 6.38s         | 1.19517e+06    | 0               |"
       ]
      },
      {
       "html": [
        "<pre>PROGRESS: +-----------+---------------+----------------+-----------------+</pre>"
       ],
       "metadata": {},
       "output_type": "display_data",
       "text": [
        "PROGRESS: +-----------+---------------+----------------+-----------------+"
       ]
      },
      {
       "output_type": "stream",
       "stream": "stdout",
       "text": [
        "Topic Model\n",
        "  Data:\n",
        "      Vocabulary size:     46194\n",
        "  Settings:\n",
        "      Number of topics:    50\n",
        "      alpha:               1.0\n",
        "      beta:                0.1\n",
        "      Iterations:          10\n",
        "      Verbose:             False\n",
        "  Accessible fields:\n",
        "      m['topics']          An SFrame containing the topics.\n",
        "      m['vocabulary']      An SArray containing the topics.\n",
        "  Useful methods:\n",
        "      m.get_topics()       Get the most probable words per topic.\n",
        "      m.predict(new_docs)  Make predictions for new documents.\n",
        "\n",
        "Topic Model\n",
        "  Data:\n",
        "      Vocabulary size:     46194\n",
        "  Settings:\n",
        "      Number of topics:    100\n",
        "      alpha:               0.5\n",
        "      beta:                0.1\n",
        "      Iterations:          10\n",
        "      Verbose:             False\n",
        "  Accessible fields:\n",
        "      m['topics']          An SFrame containing the topics.\n",
        "      m['vocabulary']      An SArray containing the topics.\n",
        "  Useful methods:\n",
        "      m.get_topics()       Get the most probable words per topic.\n",
        "      m.predict(new_docs)  Make predictions for new documents.\n"
       ]
      },
      {
       "html": [
        "<pre>PROGRESS: Learning a topic model</pre>"
       ],
       "metadata": {},
       "output_type": "display_data",
       "text": [
        "PROGRESS: Learning a topic model"
       ]
      },
      {
       "html": [
        "<pre>PROGRESS:        Number of documents      1080</pre>"
       ],
       "metadata": {},
       "output_type": "display_data",
       "text": [
        "PROGRESS:        Number of documents      1080"
       ]
      },
      {
       "html": [
        "<pre>PROGRESS:            Vocabulary size     46194</pre>"
       ],
       "metadata": {},
       "output_type": "display_data",
       "text": [
        "PROGRESS:            Vocabulary size     46194"
       ]
      },
      {
       "html": [
        "<pre>PROGRESS:    Running collapsed Gibbs sampling</pre>"
       ],
       "metadata": {},
       "output_type": "display_data",
       "text": [
        "PROGRESS:    Running collapsed Gibbs sampling"
       ]
      },
      {
       "html": [
        "<pre>PROGRESS: +-----------+---------------+----------------+-----------------+</pre>"
       ],
       "metadata": {},
       "output_type": "display_data",
       "text": [
        "PROGRESS: +-----------+---------------+----------------+-----------------+"
       ]
      },
      {
       "html": [
        "<pre>PROGRESS: | Iteration | Elapsed Time  | Tokens/Second  | Est. Perplexity |</pre>"
       ],
       "metadata": {},
       "output_type": "display_data",
       "text": [
        "PROGRESS: | Iteration | Elapsed Time  | Tokens/Second  | Est. Perplexity |"
       ]
      },
      {
       "html": [
        "<pre>PROGRESS: +-----------+---------------+----------------+-----------------+</pre>"
       ],
       "metadata": {},
       "output_type": "display_data",
       "text": [
        "PROGRESS: +-----------+---------------+----------------+-----------------+"
       ]
      },
      {
       "html": [
        "<pre>PROGRESS: | 10        | 46.91s        | 170119         | 0               |</pre>"
       ],
       "metadata": {},
       "output_type": "display_data",
       "text": [
        "PROGRESS: | 10        | 46.91s        | 170119         | 0               |"
       ]
      },
      {
       "html": [
        "<pre>PROGRESS: +-----------+---------------+----------------+-----------------+</pre>"
       ],
       "metadata": {},
       "output_type": "display_data",
       "text": [
        "PROGRESS: +-----------+---------------+----------------+-----------------+"
       ]
      },
      {
       "output_type": "stream",
       "stream": "stdout",
       "text": [
        "\n",
        "Topic Model\n",
        "  Data:\n",
        "      Vocabulary size:     46194\n",
        "  Settings:\n",
        "      Number of topics:    500\n",
        "      alpha:               0.1\n",
        "      beta:                0.1\n",
        "      Iterations:          10\n",
        "      Verbose:             False\n",
        "  Accessible fields:\n",
        "      m['topics']          An SFrame containing the topics.\n",
        "      m['vocabulary']      An SArray containing the topics.\n",
        "  Useful methods:\n",
        "      m.get_topics()       Get the most probable words per topic.\n",
        "      m.predict(new_docs)  Make predictions for new documents.\n"
       ]
      },
      {
       "output_type": "stream",
       "stream": "stdout",
       "text": [
        "\n"
       ]
      }
     ],
     "prompt_number": 48
    },
    {
     "cell_type": "code",
     "collapsed": false,
     "input": [
      "model50.get_topics().show()"
     ],
     "language": "python",
     "metadata": {},
     "outputs": [],
     "prompt_number": 39
    },
    {
     "cell_type": "code",
     "collapsed": false,
     "input": [
      "model50.get_topics()"
     ],
     "language": "python",
     "metadata": {},
     "outputs": [
      {
       "html": [
        "<div style=\"max-height:1000px;max-width:1500px;overflow:auto;\"><table frame=\"box\" rules=\"cols\">\n",
        "    <tr>\n",
        "        <th style=\"padding-left: 1em; padding-right: 1em; text-align: center\">topic</th>\n",
        "        <th style=\"padding-left: 1em; padding-right: 1em; text-align: center\">word</th>\n",
        "        <th style=\"padding-left: 1em; padding-right: 1em; text-align: center\">score</th>\n",
        "    </tr>\n",
        "    <tr>\n",
        "        <td style=\"padding-left: 1em; padding-right: 1em; text-align: center; vertical-align: top\">0</td>\n",
        "        <td style=\"padding-left: 1em; padding-right: 1em; text-align: center; vertical-align: top\">dr</td>\n",
        "        <td style=\"padding-left: 1em; padding-right: 1em; text-align: center; vertical-align: top\">0.0123189344738</td>\n",
        "    </tr>\n",
        "    <tr>\n",
        "        <td style=\"padding-left: 1em; padding-right: 1em; text-align: center; vertical-align: top\">0</td>\n",
        "        <td style=\"padding-left: 1em; padding-right: 1em; text-align: center; vertical-align: top\">doctor</td>\n",
        "        <td style=\"padding-left: 1em; padding-right: 1em; text-align: center; vertical-align: top\">0.00568469422264</td>\n",
        "    </tr>\n",
        "    <tr>\n",
        "        <td style=\"padding-left: 1em; padding-right: 1em; text-align: center; vertical-align: top\">0</td>\n",
        "        <td style=\"padding-left: 1em; padding-right: 1em; text-align: center; vertical-align: top\">company</td>\n",
        "        <td style=\"padding-left: 1em; padding-right: 1em; text-align: center; vertical-align: top\">0.00561787357199</td>\n",
        "    </tr>\n",
        "    <tr>\n",
        "        <td style=\"padding-left: 1em; padding-right: 1em; text-align: center; vertical-align: top\">0</td>\n",
        "        <td style=\"padding-left: 1em; padding-right: 1em; text-align: center; vertical-align: top\">phone</td>\n",
        "        <td style=\"padding-left: 1em; padding-right: 1em; text-align: center; vertical-align: top\">0.00497045074616</td>\n",
        "    </tr>\n",
        "    <tr>\n",
        "        <td style=\"padding-left: 1em; padding-right: 1em; text-align: center; vertical-align: top\">0</td>\n",
        "        <td style=\"padding-left: 1em; padding-right: 1em; text-align: center; vertical-align: top\">elevators</td>\n",
        "        <td style=\"padding-left: 1em; padding-right: 1em; text-align: center; vertical-align: top\">0.00481043875331</td>\n",
        "    </tr>\n",
        "    <tr>\n",
        "        <td style=\"padding-left: 1em; padding-right: 1em; text-align: center; vertical-align: top\">1</td>\n",
        "        <td style=\"padding-left: 1em; padding-right: 1em; text-align: center; vertical-align: top\">beer</td>\n",
        "        <td style=\"padding-left: 1em; padding-right: 1em; text-align: center; vertical-align: top\">0.0449815849111</td>\n",
        "    </tr>\n",
        "    <tr>\n",
        "        <td style=\"padding-left: 1em; padding-right: 1em; text-align: center; vertical-align: top\">1</td>\n",
        "        <td style=\"padding-left: 1em; padding-right: 1em; text-align: center; vertical-align: top\">bar</td>\n",
        "        <td style=\"padding-left: 1em; padding-right: 1em; text-align: center; vertical-align: top\">0.0413311089942</td>\n",
        "    </tr>\n",
        "    <tr>\n",
        "        <td style=\"padding-left: 1em; padding-right: 1em; text-align: center; vertical-align: top\">1</td>\n",
        "        <td style=\"padding-left: 1em; padding-right: 1em; text-align: center; vertical-align: top\">pub</td>\n",
        "        <td style=\"padding-left: 1em; padding-right: 1em; text-align: center; vertical-align: top\">0.0182399637708</td>\n",
        "    </tr>\n",
        "    <tr>\n",
        "        <td style=\"padding-left: 1em; padding-right: 1em; text-align: center; vertical-align: top\">1</td>\n",
        "        <td style=\"padding-left: 1em; padding-right: 1em; text-align: center; vertical-align: top\">sports</td>\n",
        "        <td style=\"padding-left: 1em; padding-right: 1em; text-align: center; vertical-align: top\">0.0122457904724</td>\n",
        "    </tr>\n",
        "    <tr>\n",
        "        <td style=\"padding-left: 1em; padding-right: 1em; text-align: center; vertical-align: top\">1</td>\n",
        "        <td style=\"padding-left: 1em; padding-right: 1em; text-align: center; vertical-align: top\">madison</td>\n",
        "        <td style=\"padding-left: 1em; padding-right: 1em; text-align: center; vertical-align: top\">0.0103397646869</td>\n",
        "    </tr>\n",
        "    <tr>\n",
        "        <td style=\"padding-left: 1em; padding-right: 1em; text-align: center; vertical-align: top\">...</td>\n",
        "        <td style=\"padding-left: 1em; padding-right: 1em; text-align: center; vertical-align: top\">...</td>\n",
        "        <td style=\"padding-left: 1em; padding-right: 1em; text-align: center; vertical-align: top\">...</td>\n",
        "    </tr>\n",
        "</table>\n",
        "[250 rows x 3 columns]<br/>Note: Only the head of the SFrame is printed.<br/>You can use print_rows(num_rows=m, num_columns=n) to print more rows and columns.\n",
        "</div>"
       ],
       "metadata": {},
       "output_type": "pyout",
       "prompt_number": 10,
       "text": [
        "Columns:\n",
        "\ttopic\tint\n",
        "\tword\tstr\n",
        "\tscore\tfloat\n",
        "\n",
        "Rows: 250\n",
        "\n",
        "Data:\n",
        "+-------+-----------+------------------+\n",
        "| topic |    word   |      score       |\n",
        "+-------+-----------+------------------+\n",
        "|   0   |     dr    | 0.0123189344738  |\n",
        "|   0   |   doctor  | 0.00568469422264 |\n",
        "|   0   |  company  | 0.00561787357199 |\n",
        "|   0   |   phone   | 0.00497045074616 |\n",
        "|   0   | elevators | 0.00481043875331 |\n",
        "|   1   |    beer   | 0.0449815849111  |\n",
        "|   1   |    bar    | 0.0413311089942  |\n",
        "|   1   |    pub    | 0.0182399637708  |\n",
        "|   1   |   sports  | 0.0122457904724  |\n",
        "|   1   |  madison  | 0.0103397646869  |\n",
        "|  ...  |    ...    |       ...        |\n",
        "+-------+-----------+------------------+\n",
        "[250 rows x 3 columns]\n",
        "Note: Only the head of the SFrame is printed.\n",
        "You can use print_rows(num_rows=m, num_columns=n) to print more rows and columns."
       ]
      }
     ],
     "prompt_number": 10
    },
    {
     "cell_type": "code",
     "collapsed": false,
     "input": [
      "topics = model50.get_topics(output_type='topic_words')\n",
      "topics.show()"
     ],
     "language": "python",
     "metadata": {},
     "outputs": [],
     "prompt_number": 14
    },
    {
     "cell_type": "code",
     "collapsed": false,
     "input": [
      "model100.get_topics().show()"
     ],
     "language": "python",
     "metadata": {},
     "outputs": [],
     "prompt_number": 16
    },
    {
     "cell_type": "code",
     "collapsed": false,
     "input": [
      "sf_train['topic100']"
     ],
     "language": "python",
     "metadata": {},
     "outputs": [
      {
       "metadata": {},
       "output_type": "pyout",
       "prompt_number": 18,
       "text": [
        "dtype: int\n",
        "Rows: 54067\n",
        "[39, 69, 86, 31, 92, 49, 35, 51, 72, 32, 80, 72, 0, 81, 62, 91, 3, 0, 67, 95, 95, 60, 92, 43, 7, 62, 60, 1, 2, 55, 48, 32, 60, 72, 69, 48, 70, 45, 48, 80, 96, 62, 17, 80, 8, 68, 60, 11, 48, 17, 12, 69, 60, 46, 92, 74, 26, 92, 16, 36, 57, 92, 48, 49, 53, 74, 4, 90, 34, 99, 70, 23, 68, 8, 87, 64, 32, 62, 82, 26, 69, 62, 68, 66, 99, 92, 93, 34, 74, 8, 32, 94, 68, 33, 32, 17, 7, 67, 80, 92, ... ]"
       ]
      }
     ],
     "prompt_number": 18
    },
    {
     "cell_type": "code",
     "collapsed": false,
     "input": [
      "model100.get_topics([39])"
     ],
     "language": "python",
     "metadata": {},
     "outputs": [
      {
       "html": [
        "<div style=\"max-height:1000px;max-width:1500px;overflow:auto;\"><table frame=\"box\" rules=\"cols\">\n",
        "    <tr>\n",
        "        <th style=\"padding-left: 1em; padding-right: 1em; text-align: center\">topic</th>\n",
        "        <th style=\"padding-left: 1em; padding-right: 1em; text-align: center\">word</th>\n",
        "        <th style=\"padding-left: 1em; padding-right: 1em; text-align: center\">score</th>\n",
        "    </tr>\n",
        "    <tr>\n",
        "        <td style=\"padding-left: 1em; padding-right: 1em; text-align: center; vertical-align: top\">39</td>\n",
        "        <td style=\"padding-left: 1em; padding-right: 1em; text-align: center; vertical-align: top\">crawfish</td>\n",
        "        <td style=\"padding-left: 1em; padding-right: 1em; text-align: center; vertical-align: top\">0.0201659271178</td>\n",
        "    </tr>\n",
        "    <tr>\n",
        "        <td style=\"padding-left: 1em; padding-right: 1em; text-align: center; vertical-align: top\">39</td>\n",
        "        <td style=\"padding-left: 1em; padding-right: 1em; text-align: center; vertical-align: top\">excalibur</td>\n",
        "        <td style=\"padding-left: 1em; padding-right: 1em; text-align: center; vertical-align: top\">0.0167730876425</td>\n",
        "    </tr>\n",
        "    <tr>\n",
        "        <td style=\"padding-left: 1em; padding-right: 1em; text-align: center; vertical-align: top\">39</td>\n",
        "        <td style=\"padding-left: 1em; padding-right: 1em; text-align: center; vertical-align: top\">das</td>\n",
        "        <td style=\"padding-left: 1em; padding-right: 1em; text-align: center; vertical-align: top\">0.0161710569791</td>\n",
        "    </tr>\n",
        "    <tr>\n",
        "        <td style=\"padding-left: 1em; padding-right: 1em; text-align: center; vertical-align: top\">39</td>\n",
        "        <td style=\"padding-left: 1em; padding-right: 1em; text-align: center; vertical-align: top\">ist</td>\n",
        "        <td style=\"padding-left: 1em; padding-right: 1em; text-align: center; vertical-align: top\">0.0140826172746</td>\n",
        "    </tr>\n",
        "    <tr>\n",
        "        <td style=\"padding-left: 1em; padding-right: 1em; text-align: center; vertical-align: top\">39</td>\n",
        "        <td style=\"padding-left: 1em; padding-right: 1em; text-align: center; vertical-align: top\">mon</td>\n",
        "        <td style=\"padding-left: 1em; padding-right: 1em; text-align: center; vertical-align: top\">0.0140802838224</td>\n",
        "    </tr>\n",
        "</table>\n",
        "[5 rows x 3 columns]<br/>\n",
        "</div>"
       ],
       "metadata": {},
       "output_type": "pyout",
       "prompt_number": 20,
       "text": [
        "Columns:\n",
        "\ttopic\tint\n",
        "\tword\tstr\n",
        "\tscore\tfloat\n",
        "\n",
        "Rows: 5\n",
        "\n",
        "Data:\n",
        "+-------+-----------+-----------------+\n",
        "| topic |    word   |      score      |\n",
        "+-------+-----------+-----------------+\n",
        "|   39  |  crawfish | 0.0201659271178 |\n",
        "|   39  | excalibur | 0.0167730876425 |\n",
        "|   39  |    das    | 0.0161710569791 |\n",
        "|   39  |    ist    | 0.0140826172746 |\n",
        "|   39  |    mon    | 0.0140802838224 |\n",
        "+-------+-----------+-----------------+\n",
        "[5 rows x 3 columns]"
       ]
      }
     ],
     "prompt_number": 20
    },
    {
     "cell_type": "code",
     "collapsed": false,
     "input": [
      "tf_idf[0]"
     ],
     "language": "python",
     "metadata": {},
     "outputs": [
      {
       "metadata": {},
       "output_type": "pyout",
       "prompt_number": 22,
       "text": [
        "{'0': 2.5649493574615367,\n",
        " '10': 0.6931471805599453,\n",
        " '100': 1.6094379124341003,\n",
        " '11': 1.791759469228055,\n",
        " '12': 1.3862943611198906,\n",
        " '19': 2.9444389791664403,\n",
        " '2': 0.0,\n",
        " '20': 1.0986122886681098,\n",
        " '2008': 3.912023005428146,\n",
        " '2010': 3.4657359027997265,\n",
        " '3': 0.0,\n",
        " '5': 0.0,\n",
        " '8': 1.0986122886681098,\n",
        " 'abends': 7.530479995245536,\n",
        " 'aber': 44.51616325858155,\n",
        " 'abwechslung': 9.799348512794982,\n",
        " 'abwechslungsreiche': 9.799348512794982,\n",
        " 'akzeptables': 10.897979297204449,\n",
        " 'alleinstellungsmerkmal': 10.897979297204449,\n",
        " 'allem': 6.966024187106113,\n",
        " 'alles': 18.280709310135407,\n",
        " 'altes': 10.204813620903147,\n",
        " 'ambiente': 26.317004848040405,\n",
        " 'anderen': 7.026426808699636,\n",
        " 'anderes': 17.401361469700323,\n",
        " 'angebot': 8.00736706798333,\n",
        " 'anstrengungenhat': 10.897979297204449,\n",
        " 'auch': 65.30901252626151,\n",
        " 'auf': 22.318919303944888,\n",
        " 'aufgrund': 8.500047032581268,\n",
        " 'aus': 5.948034989180646,\n",
        " 'ausgew': 10.204813620903147,\n",
        " 'ausprobieren': 8.818482267274236,\n",
        " 'ausser': 10.204813620903147,\n",
        " 'aussicht': 8.700680734850161,\n",
        " 'auswahl': 6.803505257608338,\n",
        " 'bedienung': 13.64003272934826,\n",
        " 'bedienungen': 7.853216388156072,\n",
        " 'bedienungungen': 10.897979297204449,\n",
        " 'bedurfte': 10.897979297204449,\n",
        " 'befremdlich': 10.204813620903147,\n",
        " 'befunden': 10.897979297204449,\n",
        " 'bei': 11.810723696109141,\n",
        " 'beide': 8.412943170042439,\n",
        " 'beiden': 8.412943170042439,\n",
        " 'beim': 21.339426326121263,\n",
        " 'bekannten': 8.412943170042439,\n",
        " 'bekommt': 7.113142108707088,\n",
        " 'belastbar': 10.897979297204449,\n",
        " 'ber': 7.601901959875166,\n",
        " 'beste': 7.853216388156072,\n",
        " 'bestellen': 8.189799618728228,\n",
        " 'bestimmungen': 10.897979297204449,\n",
        " 'besuch': 6.872128101338986,\n",
        " 'besucht': 15.906636693120863,\n",
        " 'bier': 47.282228696415736,\n",
        " 'biere': 7.762170607138205,\n",
        " 'biergarten': 7.463936604468925,\n",
        " 'bierzutaten': 10.897979297204449,\n",
        " 'bin': 8.63497622707262,\n",
        " 'bis': 6.396929655216146,\n",
        " 'bleiben': 9.799348512794982,\n",
        " 'block': 2.6390573296152584,\n",
        " 'br': 4.31748811353631,\n",
        " 'brauch': 10.897979297204449,\n",
        " 'brauhaus': 16.25067017342858,\n",
        " 'brauhausatmosph': 10.897979297204449,\n",
        " 'brunch': 2.9444389791664403,\n",
        " 'buffet': 2.70805020110221,\n",
        " 'bzw': 7.806696372521179,\n",
        " 'ca': 2.8903717578961645,\n",
        " 'cola': 4.290459441148391,\n",
        " 'currywurst': 8.258681496264236,\n",
        " 'da': 3.7376696182833684,\n",
        " 'daher': 7.6787889981991535,\n",
        " 'danach': 8.33302993974291,\n",
        " 'dann': 12.339221464982913,\n",
        " 'das': 55.26268572930904,\n",
        " 'dass': 6.169610732491456,\n",
        " 'dem': 5.497168225293202,\n",
        " 'den': 23.317195470560335,\n",
        " 'denn': 7.026426808699636,\n",
        " 'dennoch': 7.902117546276448,\n",
        " 'der': 45.21492468761649,\n",
        " 'des': 3.258096538021482,\n",
        " 'die': 33.27106466687737,\n",
        " 'dies': 5.231108616854587,\n",
        " 'dort': 19.293993245800436,\n",
        " 'durch': 6.872128101338986,\n",
        " 'durlach': 21.795958594408898,\n",
        " 'eben': 8.33302993974291,\n",
        " 'edit': 3.784189633918261,\n",
        " 'ehemaligen': 9.511629447834181,\n",
        " 'eher': 7.047517221357296,\n",
        " 'eigentlich': 7.401231264413015,\n",
        " 'ein': 43.39960013985122,\n",
        " 'eine': 22.66570675244973,\n",
        " 'einen': 5.8664680569332965,\n",
        " 'einer': 6.4425401664681985,\n",
        " 'eines': 7.371489295214277,\n",
        " 'eingekehrt': 9.511629447834181,\n",
        " 'eingerichtet': 8.189799618728228,\n",
        " 'einzuplanen': 10.897979297204449,\n",
        " 'empfehlenswert': 14.627773663266924,\n",
        " 'empfehlung': 8.064636475774222,\n",
        " 'entspannt': 9.799348512794982,\n",
        " 'entsprechend': 8.951958168569265,\n",
        " 'entsprechender': 10.204813620903147,\n",
        " 'entspricht': 8.595264726836392,\n",
        " 'entt': 24.193909427322666,\n",
        " 'erfolgt': 10.897979297204449,\n",
        " 'erfrischung': 10.204813620903147,\n",
        " 'erinnern': 9.511629447834181,\n",
        " 'erstellen': 10.897979297204449,\n",
        " 'erwarten': 8.700680734850161,\n",
        " 'es': 59.06283216951005,\n",
        " 'essen': 58.52202479774475,\n",
        " 'ettlingen': 23.706352638829344,\n",
        " 'ettlinger': 9.511629447834181,\n",
        " 'etwas': 31.612826199636423,\n",
        " 'eur': 16.25067017342858,\n",
        " 'extra': 1.0986122886681098,\n",
        " 'fall': 4.394449154672439,\n",
        " 'falls': 3.367295829986474,\n",
        " 'fands': 10.897979297204449,\n",
        " 'fanta': 6.386879319362645,\n",
        " 'fehlt': 18.212402664470076,\n",
        " 'felxibel': 10.897979297204449,\n",
        " 'finde': 7.639642287858013,\n",
        " 'flair': 3.8066624897703196,\n",
        " 'flasche': 9.106201332235038,\n",
        " 'freundlich': 6.386879319362645,\n",
        " 'fu': 4.7535901911063645,\n",
        " 'garnicht': 10.204813620903147,\n",
        " 'geb': 7.853216388156072,\n",
        " 'geeignet': 8.951958168569265,\n",
        " 'gef': 7.136483208590247,\n",
        " 'gefallen': 8.500047032581268,\n",
        " 'gegen': 7.719573989259581,\n",
        " 'gehe': 8.595264726836392,\n",
        " 'geheimnis': 10.897979297204449,\n",
        " 'geht': 7.136483208590247,\n",
        " 'geklappt': 9.799348512794982,\n",
        " 'gelungenes': 10.897979297204449,\n",
        " 'gemacht': 7.371489295214277,\n",
        " 'genommen': 8.700680734850161,\n",
        " 'gern': 8.33302993974291,\n",
        " 'gesetzlichen': 10.897979297204449,\n",
        " 'getr': 14.367741430124905,\n",
        " 'getrunken': 9.288504392945537,\n",
        " 'gewechselt': 18.577008785891074,\n",
        " 'gibt': 30.14139260115349,\n",
        " 'gibts': 15.906636693120863,\n",
        " 'gilt': 14.993304876336566,\n",
        " 'gr': 5.545177444479562,\n",
        " 'gro': 12.122913837856034,\n",
        " 'gruppen': 8.951958168569265,\n",
        " 'gut': 27.38416103799702,\n",
        " 'gute': 21.27272946623995,\n",
        " 'gutem': 8.700680734850161,\n",
        " 'gutes': 21.27272946623995,\n",
        " 'haben': 6.18826412308259,\n",
        " 'halt': 5.934894195619588,\n",
        " 'hat': 6.931471805599453,\n",
        " 'haupts': 8.951958168569265,\n",
        " 'hausbrauerei': 10.897979297204449,\n",
        " 'hausgebraute': 10.897979297204449,\n",
        " 'heut': 9.288504392945537,\n",
        " 'heute': 7.762170607138205,\n",
        " 'hier': 16.327253131565378,\n",
        " 'hin': 14.138046853156519,\n",
        " 'hingehen': 8.412943170042439,\n",
        " 'hm': 5.476463551931511,\n",
        " 'hof': 7.601901959875166,\n",
        " 'ich': 60.008532268934715,\n",
        " 'im': 17.577796618689757,\n",
        " 'immer': 38.18850454111146,\n",
        " 'inneren': 9.799348512794982,\n",
        " 'ins': 3.367295829986474,\n",
        " 'irritiert': 10.204813620903147,\n",
        " 'ist': 45.78836701709145,\n",
        " 'jazz': 3.7612001156935624,\n",
        " 'jedem': 7.902117546276448,\n",
        " 'jeden': 14.417200675920398,\n",
        " 'jeder': 7.953318346560431,\n",
        " 'kam': 6.593044534142437,\n",
        " 'kann': 34.920497582114166,\n",
        " 'kantinenflair': 10.897979297204449,\n",
        " 'karlsruhe': 17.000094065162536,\n",
        " 'karte': 14.011578038507006,\n",
        " 'kein': 6.890609120147166,\n",
        " 'keine': 6.946013991099227,\n",
        " 'kino': 19.023258895668363,\n",
        " 'kinoathmosph': 10.897979297204449,\n",
        " 'kleiderordnung': 10.897979297204449,\n",
        " 'kleinigkeit': 10.204813620903147,\n",
        " 'klemmts': 10.897979297204449,\n",
        " 'kollegen': 8.818482267274236,\n",
        " 'konnte': 14.92787320893785,\n",
        " 'kostet': 8.064636475774222,\n",
        " 'kunden': 8.951958168569265,\n",
        " 'laden': 4.219507705176107,\n",
        " 'lange': 14.627773663266924,\n",
        " 'langsam': 8.951958168569265,\n",
        " 'latte': 3.4657359027997265,\n",
        " 'laut': 16.25067017342858,\n",
        " 'lauter': 9.511629447834181,\n",
        " 'lecker': 13.082059998379806,\n",
        " 'leckere': 7.762170607138205,\n",
        " 'leckeren': 8.189799618728228,\n",
        " 'leider': 51.35995942517714,\n",
        " 'leistungsverh': 8.258681496264236,\n",
        " 'lieber': 8.595264726836392,\n",
        " 'liebes': 10.897979297204449,\n",
        " 'liter': 5.030437921392435,\n",
        " 'location': 1.3862943611198906,\n",
        " 'lokal': 7.259819610363186,\n",
        " 'lokalit': 10.204813620903147,\n",
        " 'loswerden': 10.204813620903147,\n",
        " 'mal': 18.57756359656549,\n",
        " 'man': 4.1588830833596715,\n",
        " 'manchmal': 8.189799618728228,\n",
        " 'mehr': 6.251903883165888,\n",
        " 'mein': 3.871201010907891,\n",
        " 'mich': 18.643824295266576,\n",
        " 'min': 2.0794415416798357,\n",
        " 'mir': 32.70514999594952,\n",
        " 'mischer': 10.897979297204449,\n",
        " 'mischt': 10.897979297204449,\n",
        " 'mit': 42.66175034612295,\n",
        " 'mittagszeit': 9.511629447834181,\n",
        " 'modernisiert': 10.204813620903147,\n",
        " 'musik': 7.6787889981991535,\n",
        " 'muss': 5.8289456176102075,\n",
        " 'nach': 11.896069978361291,\n",
        " 'nat': 6.045005314036012,\n",
        " 'nerven': 10.897979297204449,\n",
        " 'nervig': 10.204813620903147,\n",
        " 'nett': 6.985641817639208,\n",
        " 'nicht': 64.83212858246735,\n",
        " 'nie': 7.4318919168078,\n",
        " 'niedergelassen': 10.897979297204449,\n",
        " 'nimmer': 10.897979297204449,\n",
        " 'noch': 30.260445844622087,\n",
        " 'nur': 5.926926025970411,\n",
        " 'obatzda': 10.204813620903147,\n",
        " 'oberlecker': 10.897979297204449,\n",
        " 'obwohl': 15.906636693120863,\n",
        " 'oder': 11.159459651972444,\n",
        " 'ohne': 7.047517221357296,\n",
        " 'ordern': 10.204813620903147,\n",
        " 'ordnung': 7.719573989259581,\n",
        " 'palladio': 9.511629447834181,\n",
        " 'pils': 7.496652438168283,\n",
        " 'portionen': 7.401231264413015,\n",
        " 'preis': 6.663132695990803,\n",
        " 'preise': 6.70808408385307,\n",
        " 'preisleistung': 10.204813620903147,\n",
        " 'probiert': 7.902117546276448,\n",
        " 'punkte': 8.595264726836392,\n",
        " 'qualitativ': 19.598697025589964,\n",
        " 'raffinesse': 10.897979297204449,\n",
        " 'rechnung': 8.818482267274236,\n",
        " 'recht': 6.927557906278317,\n",
        " 'relativ': 15.613392745042358,\n",
        " 'reservierung': 8.33302993974291,\n",
        " 'reservierungen': 9.799348512794982,\n",
        " 'resthunger': 10.897979297204449,\n",
        " 'rustikal': 8.951958168569265,\n",
        " 'saisonal': 10.897979297204449,\n",
        " 'sch': 12.104178337848834,\n",
        " 'schmecken': 18.577008785891074,\n",
        " 'schmeckt': 8.064636475774222,\n",
        " 'schnell': 6.90875477931522,\n",
        " 'schnitzel': 5.8916442118257715,\n",
        " 'schon': 18.56479236924777,\n",
        " 'schwaben': 10.897979297204449,\n",
        " 'sehr': 43.43476503163553,\n",
        " 'sein': 26.83233633541228,\n",
        " 'separate': 2.302585092994046,\n",
        " 'service': 0.0,\n",
        " 'servicepersonal': 10.204813620903147,\n",
        " 'sich': 11.616284979960888,\n",
        " 'sie': 6.648984550024776,\n",
        " 'sind': 17.030261406804847,\n",
        " 'sogar': 7.853216388156072,\n",
        " 'solide': 7.639642287858013,\n",
        " 'solidem': 10.897979297204449,\n",
        " 'solides': 8.951958168569265,\n",
        " 'sollte': 6.854354502255021,\n",
        " 'sommer': 15.130550563797863,\n",
        " 'sonntags': 9.288504392945537,\n",
        " 'sosse': 9.106201332235038,\n",
        " 'speisekarte': 7.762170607138205,\n",
        " 'st': 2.3978952727983707,\n",
        " 'standardprogramm': 10.204813620903147,\n",
        " 'steigerung': 10.204813620903147,\n",
        " 'sterne': 13.932048374212226,\n",
        " 'sternerestaurant': 10.897979297204449,\n",
        " 'tag': 2.9444389791664403,\n",
        " 'tags': 4.2626798770413155,\n",
        " 'tats': 5.983936280687191,\n",
        " 'team': 2.0794415416798357,\n",
        " 'tisch': 7.313886831633462,\n",
        " 'trinken': 8.189799618728228,\n",
        " 'typische': 8.818482267274236,\n",
        " 'u00dcbertragung': 10.897979297204449,\n",
        " 'u00dfballevents': 10.897979297204449,\n",
        " 'u00dferer': 10.204813620903147,\n",
        " 'u00dfes': 16.517362992528472,\n",
        " 'u00e4chlich': 16.517362992528472,\n",
        " 'u00e4hlt': 8.500047032581268,\n",
        " 'u00e4hrend': 8.189799618728228,\n",
        " 'u00e4llt': 7.806696372521179,\n",
        " 'u00e4ltnis': 7.953318346560431,\n",
        " 'u00e4nke': 7.5652752818989315,\n",
        " 'u00e4nkebestellung': 10.897979297204449,\n",
        " 'u00e4re': 14.095034442714592,\n",
        " 'u00e4rzen': 9.106201332235038,\n",
        " 'u00e4ten': 8.258681496264236,\n",
        " 'u00e4u': 22.695825845696795,\n",
        " 'u00e4uchte': 10.897979297204449,\n",
        " 'u00e4udestrukturbedingt': 10.897979297204449,\n",
        " 'u00e4ufig': 8.33302993974291,\n",
        " 'u00e4uschend': 9.106201332235038,\n",
        " 'u00e4uscht': 16.129272951548444,\n",
        " 'u00f6': 13.81750955863044,\n",
        " 'u00f6fter': 8.818482267274236,\n",
        " 'u00f6ne': 15.357577996398307,\n",
        " 'u00f6rend': 9.106201332235038,\n",
        " 'u00fcber': 11.486006375618965,\n",
        " 'u00fcberwiegend': 9.799348512794982,\n",
        " 'u00fcberzeugend': 10.204813620903147,\n",
        " 'u00fccksichtigen': 9.799348512794982,\n",
        " 'u00fcgig': 7.953318346560431,\n",
        " 'u00fcr': 76.67048972704116,\n",
        " 'u00fcrlich': 6.946013991099227,\n",
        " 'u00fcrs': 8.595264726836392,\n",
        " 'u00fcrzlich': 9.511629447834181,\n",
        " 'um': 5.8888779583328805,\n",
        " 'umgebautes': 10.897979297204449,\n",
        " 'und': 99.39626599152001,\n",
        " 'ungewohnter': 10.897979297204449,\n",
        " 'unschlagbar': 10.204813620903147,\n",
        " 'unterschied': 10.204813620903147,\n",
        " 'update': 1.9459101490553132,\n",
        " 'vergleich': 8.33302993974291,\n",
        " 'versucht': 9.288504392945537,\n",
        " 'vielen': 7.601901959875166,\n",
        " 'vogel': 36.42480532894015,\n",
        " 'vogelbr': 30.614440862709444,\n",
        " 'voll': 29.255547326533847,\n",
        " 'vom': 6.282266746896006,\n",
        " 'von': 10.073905204827259,\n",
        " 'vor': 12.862662163866958,\n",
        " 'vorbringen': 10.897979297204449,\n",
        " 'vorgekommen': 10.897979297204449,\n",
        " 'war': 20.63567192522546,\n",
        " 'waren': 6.052089168924417,\n",
        " 'weil': 14.367741430124905,\n",
        " 'weiter': 8.064636475774222,\n",
        " 'welches': 7.806696372521179,\n",
        " 'wenig': 6.946013991099227,\n",
        " 'wenn': 6.118097198041348,\n",
        " 'wenns': 9.511629447834181,\n",
        " 'werde': 7.902117546276448,\n",
        " 'werden': 12.708740081594701,\n",
        " 'wert': 7.719573989259581,\n",
        " 'wie': 18.041145468128406,\n",
        " 'wieder': 6.29156913955832,\n",
        " 'wiederholt': 10.204813620903147,\n",
        " 'willen': 9.799348512794982,\n",
        " 'wintergarten': 10.897979297204449,\n",
        " 'wir': 11.616284979960888,\n",
        " 'wird': 12.271129782163477,\n",
        " 'wirklich': 6.343880434126331,\n",
        " 'wochenkarte': 21.795958594408898,\n",
        " 'worden': 8.700680734850161,\n",
        " 'zack': 6.375024819828097,\n",
        " 'zu': 26.806460828547127,\n",
        " 'zumindest': 8.595264726836392,\n",
        " 'zur': 13.445259589710897,\n",
        " 'zwar': 14.052853617399272,\n",
        " 'zwei': 7.0909098220799835}"
       ]
      }
     ],
     "prompt_number": 22
    },
    {
     "cell_type": "code",
     "collapsed": false,
     "input": [
      "sf_train[]"
     ],
     "language": "python",
     "metadata": {},
     "outputs": [
      {
       "metadata": {},
       "output_type": "pyout",
       "prompt_number": 24,
       "text": [
        "{'business_id': 'L-EkWc4HZiDVoxB7C3Z3Vg',\n",
        " 'categories': '[\"Nightlife\",\"Beer Gardens\"]',\n",
        " 'texts': 'Im ehemaligen Ettlinger Kino hat sich die Hausbrauerei Vogel niedergelassen. War schon lange nicht dort, kann mich aber noch sehr gut an den Sonntags-Brunch mit (lauter) Jazz-Musik erinnern. Falls es das noch gibt -- Hingehen. Das leckere Vogelbr\\\\u00e4u-Bier gibt\\'s ausser in Ettlingen auch noch im Vogel Karlsruhe.\\n\\n\\n Edit 2008: Auch w\\\\u00e4hrend der Mittagszeit ist der Vogel voll. Dennoch bekommt man sein Essen recht z\\\\u00fcgig. Lecker und solides Essen in ungewohnter Kinoathmosph\\\\u00e4re. Mal was Anderes. Das Essen kann von der Karte oder am buffet ausgew\\\\u00e4hlt werden. F\\\\u00fcr jeden Tag gibt es ein anderes Essen und Saisonal wird auch die Karte gewechselt. Lecker Bier gibt es auf jeden Fall f\\\\u00fcr die SChwaben gibts sogar extra Sosse beim Schnitzel;) Die Bedienungen sind sehr felxibel und nett und auch tats\\\\u00e4chlich belastbar. Leider sind Getr\\\\u00e4nke wie Cola oder Fanta nicht aus der Flasche und schmecken nicht immer weil der Mischer nicht immer 100% mischt. Ist bei mir schon leider etwas \\\\u00f6fter vorgekommen, daher lieber beim Bier bleiben;) Sehr empfehlenswert nur etwas st\\\\u00f6rend kann es sein weil es sehr laut und voll sein kann. Update 19.11.2010\\nWir waren k\\\\u00fcrzlich mit Kollegen dort, ich kann leider keine Steigerung vorbringen f\\\\u00fcr das Vogelbr\\\\u00e4u.\\nNach wie vor gilt hier f\\\\u00fcr mich: Was trinken gern, aber essen geht garnicht. Es schmeckt mir nicht, ist qualitativ nicht \\\\u00fcberzeugend und f\\\\u00fcr die Preise nicht empfehlenswert. 2 Punkte nach wie vor haupts\\\\u00e4chlich f\\\\u00fcr Location und Flair.\\n\\n\\n -------------------------------------------\\n\\n\\n Also ich war heut mit einer Bekannten da und relativ entt\\\\u00e4uscht.\\n\\n\\n Das Ambiente gef\\\\u00e4llt mir zwar, aber die Bedienung war, hm, relativ entspannt bis langsam (obwohl es nicht voll war), das Essen kam mit ca. 20 min Unterschied (sie Obatzda, ich Currywurst ^^) und ich fands qualitativ entt\\\\u00e4uschend.\\nIrritiert war ich auch durch das Kantinenflair, dass man nicht alles am Tisch bestellen konnte, obwohl es auch eine separate Wochenkarte gibt. Aber halt eben nicht f\\\\u00fcr alles?! F\\\\u00fcr mich eher befremdlich und hat mir nicht gefallen.\\nWir sind dann danach ins Palladio gegen\\\\u00fcber gewechselt und haben dort noch was getrunken und eine Kleinigkeit f\\\\u00fcr den Resthunger genommen.\\n\\n\\n Ich werde zwar im Sommer auch mal das Vogelbr\\\\u00e4u in Durlach ausprobieren, aber Ettlingen, n\\\\u00f6, brauch ich nimmer hin.\\n\\n\\n Sterne gibts f\\\\u00fcrs sch\\\\u00f6ne Ambiente, die gute Aussicht im Wintergarten und den leckeren Latte. Mit gutem Willen. Mein Laden! Zumindest tags\\\\u00fcber. Gutes Bier, akzeptables Essen, wenn es denn mal sein muss. Der Service ist \\\\u00fcberwiegend gut. Abends leider immer sehr voll: dann klemmts auch manchmal beim Service. Nervig: die vielen Reservierungen Ich bin heute auf die Empfehlung eines Kunden eingekehrt. Typische Brauhausatmosph\\\\u00e4re: rustikal eingerichtet, gut besucht. Zwei hausgebraute Biere (M\\\\u00e4rzen und Pils) zur Auswahl, beide probiert und f\\\\u00fcr gut befunden! Die Getr\\\\u00e4nkebestellung konnte ich schnell loswerden, um etwas zu essen zu ordern bedurfte es gr\\\\u00f6\\\\u00dferer Anstrengungenhat aber auch geklappt. Ein gro\\\\u00dfes Bier (0,5 Liter) 3,10 EUR finde ich sehr in Ordnung, Essen von der Wochenkarte vom Preis-Leistungsverh\\\\u00e4ltnis her auch okay. Nat\\\\u00fcrlich ist es kein Sternerestaurant, aber f\\\\u00fcr 8  12 EUR kann man gute Portionen erwarten, die schmecken. Gelungenes Ambiente f\\\\u00fcr ein Brauhaus!\\nIm inneren ein umgebautes altes Kino.\\nGeb\\\\u00e4udestrukturbedingt leider etwas laut.\\nDer \"Biergarten\" im Hof ist im Sommer eine gute Location zur Erfrischung.\\nBei Fu\\\\u00dfballevents erfolgt h\\\\u00e4ufig eine \\\\u00dcbertragung. Dies gilt es zu ber\\\\u00fccksichtigen und entsprechend einzuplanen.\\n\\nDas Bier ist gut! Die Speisekarte solide, leider ohne Raffinesse.\\nStandardprogramm welches sich leider immer wiederholt...\\n\\nF\\\\u00fcr Gruppen (jeder Kleiderordnung), mit entsprechender Reservierung, gut geeignet. \\n\\nAlles in allem ein gutes Brauhaus mit solidem Angebot.\\nF\\\\u00fcr mehr Sterne fehlt mir etwas Abwechslung bzw. ein Alleinstellungsmerkmal... \\n\\nIm Vergleich zu den beiden anderen Lokalit\\\\u00e4ten (Karlsruhe, Durlach) ist Ettlingen, aufgrund des Ambiente, das Beste! Eigentlich immer gut  besucht br\\\\u00e4uchte das wirklich sch\\\\u00f6ne und abwechslungsreiche Lokal sehr gutes Servicepersonal was hier leider fehlt, auch wird um die Bierzutaten ein gro\\\\u00dfes Geheimnis gemacht was nicht den gesetzlichen Bestimmungen entspricht. Einen Besuch ist es aber in jedem Fall Wert, auch wenns mal ein wenig nerven kostet mit der Bedienung die versucht auf dem Block die Rechnung zu erstellen, hier sollte modernisiert werden ! Ich gehe schon sehr lange immer wieder hin, bin noch nie entt\\\\u00e4uscht worden...Essen preisleistung unschlagbar, Bier oberlecker und die Bedienungungen auf Zack und freundlich.Weiter so liebes Vogel Team!!',\n",
        " 'topic100': 39,\n",
        " 'topic50': 13,\n",
        " 'topic500': 478}"
       ]
      }
     ],
     "prompt_number": 24
    },
    {
     "cell_type": "code",
     "collapsed": false,
     "input": [
      "sf_train[sf_train[\"business_id\"]==\"b78EI3qqbIvknE0NXcMcpA\"]"
     ],
     "language": "python",
     "metadata": {},
     "outputs": [
      {
       "html": [
        "<div style=\"max-height:1000px;max-width:1500px;overflow:auto;\"><table frame=\"box\" rules=\"cols\">\n",
        "    <tr>\n",
        "        <th style=\"padding-left: 1em; padding-right: 1em; text-align: center\">business_id</th>\n",
        "        <th style=\"padding-left: 1em; padding-right: 1em; text-align: center\">categories</th>\n",
        "        <th style=\"padding-left: 1em; padding-right: 1em; text-align: center\">texts</th>\n",
        "        <th style=\"padding-left: 1em; padding-right: 1em; text-align: center\">topic50</th>\n",
        "        <th style=\"padding-left: 1em; padding-right: 1em; text-align: center\">topic100</th>\n",
        "        <th style=\"padding-left: 1em; padding-right: 1em; text-align: center\">topic500</th>\n",
        "    </tr>\n",
        "    <tr>\n",
        "        <td style=\"padding-left: 1em; padding-right: 1em; text-align: center; vertical-align: top\">b78EI3qqbIvknE0NXcMcpA</td>\n",
        "        <td style=\"padding-left: 1em; padding-right: 1em; text-align: center; vertical-align: top\">[\"Doctors\",\"Medical<br>Centers\",\"Health &amp; ...</td>\n",
        "        <td style=\"padding-left: 1em; padding-right: 1em; text-align: center; vertical-align: top\">In person, the staff can<br>seem friendly or help ...</td>\n",
        "        <td style=\"padding-left: 1em; padding-right: 1em; text-align: center; vertical-align: top\">48</td>\n",
        "        <td style=\"padding-left: 1em; padding-right: 1em; text-align: center; vertical-align: top\">57</td>\n",
        "        <td style=\"padding-left: 1em; padding-right: 1em; text-align: center; vertical-align: top\">175</td>\n",
        "    </tr>\n",
        "</table>\n",
        "[? rows x 6 columns]<br/>Note: Only the head of the SFrame is printed. This SFrame is lazily evaluated.<br/>You can use len(sf) to force materialization.\n",
        "</div>"
       ],
       "metadata": {},
       "output_type": "pyout",
       "prompt_number": 45,
       "text": [
        "Columns:\n",
        "\tbusiness_id\tstr\n",
        "\tcategories\tstr\n",
        "\ttexts\tstr\n",
        "\ttopic50\tint\n",
        "\ttopic100\tint\n",
        "\ttopic500\tint\n",
        "\n",
        "Rows: Unknown\n",
        "\n",
        "Data:\n",
        "+------------------------+--------------------------------+\n",
        "|      business_id       |           categories           |\n",
        "+------------------------+--------------------------------+\n",
        "| b78EI3qqbIvknE0NXcMcpA | [\"Doctors\",\"Medical Center ... |\n",
        "+------------------------+--------------------------------+\n",
        "+--------------------------------+---------+----------+----------+\n",
        "|             texts              | topic50 | topic100 | topic500 |\n",
        "+--------------------------------+---------+----------+----------+\n",
        "| In person, the staff can s ... |    48   |    57    |   175    |\n",
        "+--------------------------------+---------+----------+----------+\n",
        "[? rows x 6 columns]\n",
        "Note: Only the head of the SFrame is printed. This SFrame is lazily evaluated.\n",
        "You can use len(sf) to force materialization."
       ]
      }
     ],
     "prompt_number": 45
    },
    {
     "cell_type": "code",
     "collapsed": false,
     "input": [
      "sf_train[sf_train[\"business_id\"]==\"b78EI3qqbIvknE0NXcMcpA\"]"
     ],
     "language": "python",
     "metadata": {},
     "outputs": [
      {
       "html": [
        "<div style=\"max-height:1000px;max-width:1500px;overflow:auto;\"><table frame=\"box\" rules=\"cols\">\n",
        "    <tr>\n",
        "        <th style=\"padding-left: 1em; padding-right: 1em; text-align: center\">business_id</th>\n",
        "        <th style=\"padding-left: 1em; padding-right: 1em; text-align: center\">categories</th>\n",
        "        <th style=\"padding-left: 1em; padding-right: 1em; text-align: center\">texts</th>\n",
        "        <th style=\"padding-left: 1em; padding-right: 1em; text-align: center\">topic50</th>\n",
        "        <th style=\"padding-left: 1em; padding-right: 1em; text-align: center\">topic100</th>\n",
        "        <th style=\"padding-left: 1em; padding-right: 1em; text-align: center\">topic500</th>\n",
        "    </tr>\n",
        "    <tr>\n",
        "        <td style=\"padding-left: 1em; padding-right: 1em; text-align: center; vertical-align: top\">b78EI3qqbIvknE0NXcMcpA</td>\n",
        "        <td style=\"padding-left: 1em; padding-right: 1em; text-align: center; vertical-align: top\">[\"Doctors\",\"Medical<br>Centers\",\"Health &amp; ...</td>\n",
        "        <td style=\"padding-left: 1em; padding-right: 1em; text-align: center; vertical-align: top\">In person, the staff can<br>seem friendly or help ...</td>\n",
        "        <td style=\"padding-left: 1em; padding-right: 1em; text-align: center; vertical-align: top\">24</td>\n",
        "        <td style=\"padding-left: 1em; padding-right: 1em; text-align: center; vertical-align: top\">85</td>\n",
        "        <td style=\"padding-left: 1em; padding-right: 1em; text-align: center; vertical-align: top\">29</td>\n",
        "    </tr>\n",
        "</table>\n",
        "[? rows x 6 columns]<br/>Note: Only the head of the SFrame is printed. This SFrame is lazily evaluated.<br/>You can use len(sf) to force materialization.\n",
        "</div>"
       ],
       "metadata": {},
       "output_type": "pyout",
       "prompt_number": 49,
       "text": [
        "Columns:\n",
        "\tbusiness_id\tstr\n",
        "\tcategories\tstr\n",
        "\ttexts\tstr\n",
        "\ttopic50\tint\n",
        "\ttopic100\tint\n",
        "\ttopic500\tint\n",
        "\n",
        "Rows: Unknown\n",
        "\n",
        "Data:\n",
        "+------------------------+--------------------------------+\n",
        "|      business_id       |           categories           |\n",
        "+------------------------+--------------------------------+\n",
        "| b78EI3qqbIvknE0NXcMcpA | [\"Doctors\",\"Medical Center ... |\n",
        "+------------------------+--------------------------------+\n",
        "+--------------------------------+---------+----------+----------+\n",
        "|             texts              | topic50 | topic100 | topic500 |\n",
        "+--------------------------------+---------+----------+----------+\n",
        "| In person, the staff can s ... |    24   |    85    |    29    |\n",
        "+--------------------------------+---------+----------+----------+\n",
        "[? rows x 6 columns]\n",
        "Note: Only the head of the SFrame is printed. This SFrame is lazily evaluated.\n",
        "You can use len(sf) to force materialization."
       ]
      }
     ],
     "prompt_number": 49
    },
    {
     "cell_type": "code",
     "collapsed": false,
     "input": [
      "print model50.get_topics([48])\n",
      "print model100.get_topics([57])\n",
      "print model500.get_topics([175])"
     ],
     "language": "python",
     "metadata": {},
     "outputs": [
      {
       "output_type": "stream",
       "stream": "stdout",
       "text": [
        "+-------+--------+------------------+\n",
        "| topic |  word  |      score       |\n",
        "+-------+--------+------------------+\n",
        "|   48  |  car   | 0.0206645515241  |\n",
        "|   48  | vegas  | 0.0118002321907  |\n",
        "|   48  | rental | 0.0107943519826  |\n",
        "|   48  |   dr   | 0.0103333235539  |\n",
        "|   48  |  stay  | 0.00882450324187 |\n",
        "+-------+--------+------------------+\n",
        "[5 rows x 3 columns]\n",
        "\n",
        "+-------+---------+-----------------+\n",
        "| topic |   word  |      score      |\n",
        "+-------+---------+-----------------+\n",
        "|   57  |    dr   | 0.0227000699738 |\n",
        "|   57  |  start  |  0.012342098479 |\n",
        "|   57  |  photos | 0.0117896733326 |\n",
        "|   57  |   desk  | 0.0114674253305 |\n",
        "|   57  | dentist | 0.0110991418996 |\n",
        "+-------+---------+-----------------+\n",
        "[5 rows x 3 columns]\n",
        "\n",
        "+-------+-----------+------------------+\n",
        "| topic |    word   |      score       |\n",
        "+-------+-----------+------------------+\n",
        "|  175  |  referral | 0.0188627800912  |\n",
        "|  175  |    drs    | 0.00919591512988 |\n",
        "|  175  |    dick   | 0.00845231013286 |\n",
        "|  175  |   ortho   | 0.0039906801507  |\n",
        "|  175  | enchilada | 0.00324707515368 |\n",
        "+-------+-----------+------------------+\n",
        "[5 rows x 3 columns]\n",
        "\n"
       ]
      }
     ],
     "prompt_number": 46
    },
    {
     "cell_type": "code",
     "collapsed": false,
     "input": [
      "print model50.get_topics([24])\n",
      "print model100.get_topics([85])\n",
      "print model500.get_topics([29])"
     ],
     "language": "python",
     "metadata": {},
     "outputs": [
      {
       "output_type": "stream",
       "stream": "stdout",
       "text": [
        "+-------+---------+-----------------+\n",
        "| topic |   word  |      score      |\n",
        "+-------+---------+-----------------+\n",
        "|   24  |   wax   | 0.0399660882336 |\n",
        "|   24  |  office | 0.0160135394933 |\n",
        "|   24  |  dental | 0.0121054920673 |\n",
        "|   24  | tiffany | 0.0114121288143 |\n",
        "|   24  |  waxed  | 0.0109708976533 |\n",
        "+-------+---------+-----------------+\n",
        "[5 rows x 3 columns]\n",
        "\n",
        "+-------+------------+-----------------+\n",
        "| topic |    word    |      score      |\n",
        "+-------+------------+-----------------+\n",
        "|   85  | yountville | 0.0411348910269 |\n",
        "|   85  |   tattoo   | 0.0373112734713 |\n",
        "|   85  |   bakery   |  0.028320605165 |\n",
        "|   85  |    dave    | 0.0188649022911 |\n",
        "|   85  |   ginza    | 0.0118893837775 |\n",
        "+-------+------------+-----------------+\n",
        "[5 rows x 3 columns]\n",
        "\n",
        "+-------+---------+------------------+\n",
        "| topic |   word  |      score       |\n",
        "+-------+---------+------------------+\n",
        "|   29  |   rent  | 0.0111103956385  |\n",
        "|   29  |  office | 0.00778344789839 |\n",
        "|   29  | company | 0.00748831543757 |\n",
        "|   29  |  lease  | 0.00697854118707 |\n",
        "|   29  |   cars  | 0.00681755984481 |\n",
        "+-------+---------+------------------+\n",
        "[5 rows x 3 columns]\n"
       ]
      },
      {
       "output_type": "stream",
       "stream": "stdout",
       "text": [
        "\n"
       ]
      }
     ],
     "prompt_number": 50
    },
    {
     "cell_type": "code",
     "collapsed": false,
     "input": [
      "sf_filter.show()"
     ],
     "language": "python",
     "metadata": {},
     "outputs": [],
     "prompt_number": 25
    },
    {
     "cell_type": "markdown",
     "metadata": {},
     "source": [
      "## Train the classifier"
     ]
    },
    {
     "cell_type": "code",
     "collapsed": false,
     "input": [
      "model = graphlab.boosted_trees_classifier.create(sf_train, 'categories', features=['topic50','topic100','topic500'], verbose=True, max_iterations=17)"
     ],
     "language": "python",
     "metadata": {},
     "outputs": [
      {
       "html": [
        "<pre>PROGRESS: Boosted trees classifier:</pre>"
       ],
       "metadata": {},
       "output_type": "display_data",
       "text": [
        "PROGRESS: Boosted trees classifier:"
       ]
      },
      {
       "html": [
        "<pre>PROGRESS: --------------------------------------------------------</pre>"
       ],
       "metadata": {},
       "output_type": "display_data",
       "text": [
        "PROGRESS: --------------------------------------------------------"
       ]
      },
      {
       "html": [
        "<pre>PROGRESS: Number of examples          : 10396</pre>"
       ],
       "metadata": {},
       "output_type": "display_data",
       "text": [
        "PROGRESS: Number of examples          : 10396"
       ]
      },
      {
       "html": [
        "<pre>PROGRESS: Number of classes           : 1954</pre>"
       ],
       "metadata": {},
       "output_type": "display_data",
       "text": [
        "PROGRESS: Number of classes           : 1954"
       ]
      },
      {
       "html": [
        "<pre>PROGRESS: Number of feature columns   : 3</pre>"
       ],
       "metadata": {},
       "output_type": "display_data",
       "text": [
        "PROGRESS: Number of feature columns   : 3"
       ]
      },
      {
       "html": [
        "<pre>PROGRESS: Number of unpacked features : 3</pre>"
       ],
       "metadata": {},
       "output_type": "display_data",
       "text": [
        "PROGRESS: Number of unpacked features : 3"
       ]
      },
      {
       "html": [
        "<pre>PROGRESS: Starting Boosted Trees</pre>"
       ],
       "metadata": {},
       "output_type": "display_data",
       "text": [
        "PROGRESS: Starting Boosted Trees"
       ]
      },
      {
       "html": [
        "<pre>PROGRESS: --------------------------------------------------------</pre>"
       ],
       "metadata": {},
       "output_type": "display_data",
       "text": [
        "PROGRESS: --------------------------------------------------------"
       ]
      },
      {
       "html": [
        "<pre>PROGRESS:   Iter    Accuracy Elapsed time</pre>"
       ],
       "metadata": {},
       "output_type": "display_data",
       "text": [
        "PROGRESS:   Iter    Accuracy Elapsed time"
       ]
      },
      {
       "html": [
        "<pre>PROGRESS:      0   1.983e-01       18.16s</pre>"
       ],
       "metadata": {},
       "output_type": "display_data",
       "text": [
        "PROGRESS:      0   1.983e-01       18.16s"
       ]
      },
      {
       "html": [
        "<pre>PROGRESS:      1   1.619e-01       35.59s</pre>"
       ],
       "metadata": {},
       "output_type": "display_data",
       "text": [
        "PROGRESS:      1   1.619e-01       35.59s"
       ]
      },
      {
       "html": [
        "<pre>PROGRESS:      2   1.813e-01       52.62s</pre>"
       ],
       "metadata": {},
       "output_type": "display_data",
       "text": [
        "PROGRESS:      2   1.813e-01       52.62s"
       ]
      },
      {
       "html": [
        "<pre>PROGRESS:      3   2.165e-01       70.03s</pre>"
       ],
       "metadata": {},
       "output_type": "display_data",
       "text": [
        "PROGRESS:      3   2.165e-01       70.03s"
       ]
      },
      {
       "html": [
        "<pre>PROGRESS:      4   2.373e-01       87.82s</pre>"
       ],
       "metadata": {},
       "output_type": "display_data",
       "text": [
        "PROGRESS:      4   2.373e-01       87.82s"
       ]
      },
      {
       "html": [
        "<pre>PROGRESS:      5   2.840e-01      104.81s</pre>"
       ],
       "metadata": {},
       "output_type": "display_data",
       "text": [
        "PROGRESS:      5   2.840e-01      104.81s"
       ]
      },
      {
       "html": [
        "<pre>PROGRESS:      6   3.048e-01      121.54s</pre>"
       ],
       "metadata": {},
       "output_type": "display_data",
       "text": [
        "PROGRESS:      6   3.048e-01      121.54s"
       ]
      },
      {
       "html": [
        "<pre>PROGRESS:      7   3.341e-01      138.11s</pre>"
       ],
       "metadata": {},
       "output_type": "display_data",
       "text": [
        "PROGRESS:      7   3.341e-01      138.11s"
       ]
      },
      {
       "html": [
        "<pre>PROGRESS:      8   3.446e-01      154.89s</pre>"
       ],
       "metadata": {},
       "output_type": "display_data",
       "text": [
        "PROGRESS:      8   3.446e-01      154.89s"
       ]
      },
      {
       "html": [
        "<pre>PROGRESS:      9   3.922e-01      171.52s</pre>"
       ],
       "metadata": {},
       "output_type": "display_data",
       "text": [
        "PROGRESS:      9   3.922e-01      171.52s"
       ]
      },
      {
       "html": [
        "<pre>PROGRESS:     10   4.172e-01      188.27s</pre>"
       ],
       "metadata": {},
       "output_type": "display_data",
       "text": [
        "PROGRESS:     10   4.172e-01      188.27s"
       ]
      },
      {
       "html": [
        "<pre>PROGRESS:     11   4.296e-01      205.24s</pre>"
       ],
       "metadata": {},
       "output_type": "display_data",
       "text": [
        "PROGRESS:     11   4.296e-01      205.24s"
       ]
      },
      {
       "html": [
        "<pre>PROGRESS:     12   4.633e-01      221.89s</pre>"
       ],
       "metadata": {},
       "output_type": "display_data",
       "text": [
        "PROGRESS:     12   4.633e-01      221.89s"
       ]
      },
      {
       "html": [
        "<pre>PROGRESS:     13   4.867e-01      239.61s</pre>"
       ],
       "metadata": {},
       "output_type": "display_data",
       "text": [
        "PROGRESS:     13   4.867e-01      239.61s"
       ]
      },
      {
       "html": [
        "<pre>PROGRESS:     14   5.064e-01      257.37s</pre>"
       ],
       "metadata": {},
       "output_type": "display_data",
       "text": [
        "PROGRESS:     14   5.064e-01      257.37s"
       ]
      },
      {
       "html": [
        "<pre>PROGRESS:     15   5.282e-01      274.86s</pre>"
       ],
       "metadata": {},
       "output_type": "display_data",
       "text": [
        "PROGRESS:     15   5.282e-01      274.86s"
       ]
      },
      {
       "html": [
        "<pre>PROGRESS:     16   5.465e-01      291.48s</pre>"
       ],
       "metadata": {},
       "output_type": "display_data",
       "text": [
        "PROGRESS:     16   5.465e-01      291.48s"
       ]
      }
     ],
     "prompt_number": 5
    },
    {
     "cell_type": "markdown",
     "metadata": {},
     "source": [
      "## Evaluate the classifier\n",
      "Predict full category (1954 unique categories, 5% the most common: [\"Mexican\",\"Restau ...]): \n",
      "\n",
      "* 15 iterations -> Accuracy = 30%\n",
      "* 17 iterations -> Accuracy = 31 to 32%\n",
      "* 20 iterations -> Accuracy = 30%\n",
      "\n",
      "Predict main hierarchy (262 unique, 12% the most common: \"Food\"):\n",
      "\n",
      "* 17 iterations -> Accuracy = 41 to 44% \n"
     ]
    },
    {
     "cell_type": "code",
     "collapsed": false,
     "input": [
      "bow = graphlab.text_analytics.count_words(sf_test['texts'])\n",
      "bow = bow.dict_trim_by_keys(graphlab.text_analytics.stopwords(), exclude=True)\n",
      "#bow = bow.dict_trim_by_values(2)\n",
      "tf_idf = graphlab.text_analytics.tf_idf(bow)\n",
      "#\n",
      "sf_test['topic50'] = model50.predict(tf_idf)\n",
      "sf_test['topic100'] = model100.predict(tf_idf)\n",
      "sf_test['topic500'] = model500.predict(tf_idf)\n",
      "#\n",
      "model.evaluate(sf_test)"
     ],
     "language": "python",
     "metadata": {},
     "outputs": [
      {
       "html": [
        "<pre>PROGRESS: WARNING: The true labels used for evaluation contains class labels that were not present in the training data. Model accuracy can be improved by adding examples with these unseen labels to the training data.</pre>"
       ],
       "metadata": {},
       "output_type": "display_data",
       "text": [
        "PROGRESS: WARNING: The true labels used for evaluation contains class labels that were not present in the training data. Model accuracy can be improved by adding examples with these unseen labels to the training data."
       ]
      },
      {
       "metadata": {},
       "output_type": "pyout",
       "prompt_number": 6,
       "text": [
        "{'accuracy': 0.3128834355828221,\n",
        " 'confusion_matrix': Columns:\n",
        "\ttarget_label\tstr\n",
        "\tpredicted_label\tstr\n",
        "\tcount\tint\n",
        "\n",
        "Rows: 806\n",
        "\n",
        "Data:\n",
        "+--------------------------------+--------------------------------+-------+\n",
        "|          target_label          |        predicted_label         | count |\n",
        "+--------------------------------+--------------------------------+-------+\n",
        "| [\"Active Life\",\"American ( ... | [\"Bars\",\"American (Traditi ... |   1   |\n",
        "| [\"Active Life\",\"Amusement  ... |   [\"Active Life\",\"Bowling\"]    |   1   |\n",
        "| [\"Active Life\",\"Amusement  ... |   [\"Mexican\",\"Restaurants\"]    |   1   |\n",
        "| [\"Active Life\",\"Boating\",\" ... |    [\"Active Life\",\"Lakes\"]     |   1   |\n",
        "| [\"Active Life\",\"Boating\",\" ... |          [\"Shopping\"]          |   1   |\n",
        "|   [\"Active Life\",\"Boating\"]    | [\"Italian\",\"Pizza\",\"Restau ... |   1   |\n",
        "| [\"Active Life\",\"Dance Stud ... | [\"Active Life\",\"Martial Ar ... |   1   |\n",
        "| [\"Active Life\",\"Dog Parks\" ... | [\"Active Life\",\"Dog Parks\" ... |   1   |\n",
        "| [\"Active Life\",\"Dog Parks\" ... | [\"Pet Services\",\"Pet Board ... |   1   |\n",
        "| [\"Active Life\",\"Fitness &  ... | [\"Active Life\",\"Yoga\",\"Fit ... |   1   |\n",
        "|              ...               |              ...               |  ...  |\n",
        "+--------------------------------+--------------------------------+-------+\n",
        "[806 rows x 3 columns]\n",
        "Note: Only the head of the SFrame is printed.\n",
        "You can use print_rows(num_rows=m, num_columns=n) to print more rows and columns.}"
       ]
      }
     ],
     "prompt_number": 6
    },
    {
     "cell_type": "code",
     "collapsed": false,
     "input": [
      "sf_test['predicted_label'] = model.predict(sf_test)\n",
      "sf_test['main_categories'] = sf_test['categories'].apply(lambda x: '' if not eval(x) else eval(x)[0])\n",
      "sf_test['main_predicted'] = sf_test['predicted_label'].apply(lambda x: '' if not eval(x) else eval(x)[0])\n",
      "accuracy = len(sf_test[(sf_test['main_categories'] ==sf_test['main_predicted'])])/(len(sf_test)*1.0)\n",
      "print \"Accuracy (main hierarchy) = %.3f%%\" %(accuracy)"
     ],
     "language": "python",
     "metadata": {},
     "outputs": [
      {
       "output_type": "stream",
       "stream": "stdout",
       "text": [
        "Accuracy (main hierarchy) = 0.439%\n"
       ]
      }
     ],
     "prompt_number": 7
    },
    {
     "cell_type": "code",
     "collapsed": false,
     "input": [
      "sf_test.show()"
     ],
     "language": "python",
     "metadata": {},
     "outputs": [],
     "prompt_number": 8
    }
   ],
   "metadata": {}
  }
 ]
}