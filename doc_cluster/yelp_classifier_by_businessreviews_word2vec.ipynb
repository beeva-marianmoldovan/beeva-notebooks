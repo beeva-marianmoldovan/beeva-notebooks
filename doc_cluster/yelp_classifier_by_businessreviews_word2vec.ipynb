{
 "metadata": {
  "name": ""
 },
 "nbformat": 3,
 "nbformat_minor": 0,
 "worksheets": [
  {
   "cells": [
    {
     "cell_type": "code",
     "collapsed": false,
     "input": [
      "import graphlab"
     ],
     "language": "python",
     "metadata": {},
     "outputs": [
      {
       "output_type": "stream",
       "stream": "stderr",
       "text": [
        "/home/enrique/herramientas/anaconda/lib/python2.7/site-packages/pytz/__init__.py:29: UserWarning: Module docutils was already imported from /home/enrique/herramientas/anaconda/lib/python2.7/site-packages/docutils/__init__.pyc, but /home/enrique/herramientas/virtualenvs/theano/lib/python2.7/site-packages is being added to sys.path\n",
        "  from pkg_resources import resource_stream\n",
        "/home/enrique/herramientas/anaconda/lib/python2.7/site-packages/pytz/__init__.py:29: UserWarning: Module numpy was already imported from /home/enrique/herramientas/anaconda/lib/python2.7/site-packages/numpy/__init__.pyc, but /home/enrique/herramientas/virtualenvs/theano/lib/python2.7/site-packages is being added to sys.path\n",
        "  from pkg_resources import resource_stream\n"
       ]
      }
     ],
     "prompt_number": 1
    },
    {
     "cell_type": "markdown",
     "metadata": {},
     "source": [
      "## Generate dataset (ETL)"
     ]
    },
    {
     "cell_type": "code",
     "collapsed": false,
     "input": [
      "sf_reviews = graphlab.SFrame.read_csv('./data/yelp/yelp_training_set/yelp_training_set_review.json', delimiter='\\n', column_type_hints=dict, header=None)\n",
      "sf_reviews = sf_reviews.unpack('X1', column_name_prefix='')\n",
      "sf_business = graphlab.SFrame.read_csv('./data/yelp/yelp_training_set/yelp_training_set_business.json', delimiter='\\n', column_type_hints=dict, header=None)\n",
      "sf_business = sf_business.unpack('X1', column_name_prefix='')\n",
      "#\n",
      "sf = sf_reviews.join(sf_business, on=['business_id'])\n",
      "print \"%s reviews\" %len(sf)\n",
      "sf.head(1)\n",
      "#\n",
      "sf_reviews2 = sf.groupby([\"business_id\", \"categories\"], {\"texts\":graphlab.aggregate.CONCAT(\"text\")})\n",
      "sf_reviews2['texts'] = sf_reviews2['texts'].apply(lambda x: \" \".join(x))\n",
      "print \"%s business\" %len(sf_reviews2)\n",
      "\n",
      "sf_business = sf_reviews2\n",
      "\n",
      "sf_train, sf_test = sf_business.random_split(.9, seed=5)\n",
      "#sf_train.show()"
     ],
     "language": "python",
     "metadata": {},
     "outputs": [
      {
       "output_type": "stream",
       "stream": "stderr",
       "text": [
        "[INFO] Start server at: ipc:///tmp/graphlab_server-4530 - Server binary: /home/enrique/herramientas/virtualenvs/theano/lib/python2.7/site-packages/graphlab/unity_server - Server log: /tmp/graphlab_server_1422019004.log\n"
       ]
      },
      {
       "output_type": "stream",
       "stream": "stderr",
       "text": [
        "[INFO] GraphLab Server Version: 1.2.1\n"
       ]
      },
      {
       "html": [
        "<pre>PROGRESS: Read 55824 lines. Lines per second: 5090.63</pre>"
       ],
       "metadata": {},
       "output_type": "display_data",
       "text": [
        "PROGRESS: Read 55824 lines. Lines per second: 5090.63"
       ]
      },
      {
       "html": [
        "<pre>PROGRESS: Read 111545 lines. Lines per second: 6809.88</pre>"
       ],
       "metadata": {},
       "output_type": "display_data",
       "text": [
        "PROGRESS: Read 111545 lines. Lines per second: 6809.88"
       ]
      },
      {
       "html": [
        "<pre>PROGRESS: Read 167130 lines. Lines per second: 7668.99</pre>"
       ],
       "metadata": {},
       "output_type": "display_data",
       "text": [
        "PROGRESS: Read 167130 lines. Lines per second: 7668.99"
       ]
      },
      {
       "html": [
        "<pre>PROGRESS: Finished parsing file /home/enrique/github/beeva-notebooks/doc_cluster/data/yelp/yelp_training_set/yelp_training_set_review.json</pre>"
       ],
       "metadata": {},
       "output_type": "display_data",
       "text": [
        "PROGRESS: Finished parsing file /home/enrique/github/beeva-notebooks/doc_cluster/data/yelp/yelp_training_set/yelp_training_set_review.json"
       ]
      },
      {
       "html": [
        "<pre>PROGRESS: Parsing completed. Parsed 229907 lines in 22.6875 secs.</pre>"
       ],
       "metadata": {},
       "output_type": "display_data",
       "text": [
        "PROGRESS: Parsing completed. Parsed 229907 lines in 22.6875 secs."
       ]
      },
      {
       "html": [
        "<pre>PROGRESS: Finished parsing file /home/enrique/github/beeva-notebooks/doc_cluster/data/yelp/yelp_training_set/yelp_training_set_business.json</pre>"
       ],
       "metadata": {},
       "output_type": "display_data",
       "text": [
        "PROGRESS: Finished parsing file /home/enrique/github/beeva-notebooks/doc_cluster/data/yelp/yelp_training_set/yelp_training_set_business.json"
       ]
      },
      {
       "html": [
        "<pre>PROGRESS: Parsing completed. Parsed 11537 lines in 0.380134 secs.</pre>"
       ],
       "metadata": {},
       "output_type": "display_data",
       "text": [
        "PROGRESS: Parsing completed. Parsed 11537 lines in 0.380134 secs."
       ]
      },
      {
       "output_type": "stream",
       "stream": "stdout",
       "text": [
        "229907 reviews"
       ]
      },
      {
       "output_type": "stream",
       "stream": "stdout",
       "text": [
        "\n",
        "11537 business"
       ]
      },
      {
       "output_type": "stream",
       "stream": "stdout",
       "text": [
        "\n"
       ]
      }
     ],
     "prompt_number": 2
    },
    {
     "cell_type": "markdown",
     "metadata": {},
     "source": [
      "## Classifier based on word2vec distances"
     ]
    },
    {
     "cell_type": "code",
     "collapsed": false,
     "input": [
      "#sf = sf_train\n",
      "sf = sf_test"
     ],
     "language": "python",
     "metadata": {},
     "outputs": [],
     "prompt_number": 3
    },
    {
     "cell_type": "code",
     "collapsed": false,
     "input": [
      "bow = graphlab.text_analytics.count_words(sf['texts'])\n",
      "bow = bow.dict_trim_by_keys(graphlab.text_analytics.stopwords(), exclude=True)\n",
      "#bow = bow.dict_trim_by_values(2)\n",
      "tf_idf = graphlab.text_analytics.tf_idf(bow)"
     ],
     "language": "python",
     "metadata": {},
     "outputs": [],
     "prompt_number": 4
    },
    {
     "cell_type": "code",
     "collapsed": false,
     "input": [
      "import numpy as np\n",
      "import numpy.linalg\n",
      "#myfilename = \"/home/enrique/proyectos/deeplearning/word2vec/vectors.6B.100d.txt\"\n",
      "myfilename = \"/home/enrique/proyectos/deeplearning/word2vec/myvectors.txt\"\n",
      "wordvecs = np.loadtxt(myfilename, usecols=range(1,101))\n",
      "words = np.loadtxt(myfilename,dtype=str,usecols=(0,))"
     ],
     "language": "python",
     "metadata": {},
     "outputs": [],
     "prompt_number": 5
    },
    {
     "cell_type": "code",
     "collapsed": false,
     "input": [
      "def top(d, k):\n",
      "    mysorted = sorted(d.items(), key=lambda x: x[1], reverse=True)[0:k]\n",
      "    mywords = map(lambda x: x[0], mysorted)\n",
      "    return mywords\n",
      "#mykeywords = top(d = tf_idf[0], k=10)\n",
      "#print mykeywords\n",
      "\n",
      "def wordsimilarity(word1,word2):\n",
      "    v = wordvecs[words == word1]\n",
      "    u = wordvecs[words == word2]\n",
      "    sim = np.dot(u,v.transpose())/(np.linalg.norm(u)*np.linalg.norm(v))\n",
      "    return sim\n",
      "    \n",
      "def clean(x):\n",
      "    return x.lower().replace('& ','').replace('(','').replace(')','').replace('\\'s','')"
     ],
     "language": "python",
     "metadata": {},
     "outputs": [],
     "prompt_number": 6
    },
    {
     "cell_type": "code",
     "collapsed": false,
     "input": [
      "# Set of categories should be extracted from trainset. Not from testset. But...\n",
      "sf['main_categories'] = sf['categories'].apply(lambda x: '' if not eval(x) else eval(x)[0])\n",
      "sf['maintargets'] =  sf['main_categories'].apply(lambda x: clean(x).split(' '))\n",
      "\n",
      "def getmaincategory(x):\n",
      "    return sf[sf['maintargets'] == x]['main_categories'][0]\n",
      "    \n",
      "print getmaincategory(['burgers'])"
     ],
     "language": "python",
     "metadata": {},
     "outputs": [
      {
       "output_type": "stream",
       "stream": "stdout",
       "text": [
        "Burgers\n"
       ]
      }
     ],
     "prompt_number": 13
    },
    {
     "cell_type": "code",
     "collapsed": false,
     "input": [
      "sf['targets'] = sf['categories'].apply(lambda x: clean(' '.join(eval(x))).split())\n",
      "\n",
      "def getcategory(x):\n",
      "    return sf[sf['targets'] == x]['categories'][0]\n",
      "    \n",
      "print getcategory([\"thrift\",\"stores\",\"shopping\"])"
     ],
     "language": "python",
     "metadata": {},
     "outputs": [
      {
       "output_type": "stream",
       "stream": "stdout",
       "text": [
        "[\"Thrift Stores\",\"Shopping\"]\n"
       ]
      }
     ],
     "prompt_number": 14
    },
    {
     "cell_type": "code",
     "collapsed": false,
     "input": [
      "mytargets = sf['targets']\n",
      "#mytargets = sf['maintargets']\n",
      "#\n",
      "def guess_cat_by_tfidf(x):\n",
      "    mykeywords = top(d = x, k=10)\n",
      "    mydict = {}\n",
      "    for mycategories in mytargets.unique():\n",
      "        if (len(mycategories)>0):\n",
      "            acc = 0.0\n",
      "            for mycategory in mycategories:\n",
      "                for myword in mykeywords:\n",
      "                    cosine = wordsimilarity(mycategory, myword) \n",
      "                    if cosine:\n",
      "                        acc = acc + cosine[0][0]\n",
      "            strcategory = ' '.join(mycategories)\n",
      "            mydict[strcategory] = acc/len(mycategories)\n",
      "    myresult = top(mydict,1)\n",
      "    res = myresult[0]    \n",
      "    return res\n",
      "\n",
      "def guess_maincategory(x): \n",
      "    res = guess_cat_by_tfidf(x)\n",
      "    return getmaincategory(res.split())\n",
      "\n",
      "def guess_category(x):\n",
      "    res = guess_cat_by_tfidf(x)\n",
      "    #print res\n",
      "    return getcategory(res.split())\n"
     ],
     "language": "python",
     "metadata": {},
     "outputs": [],
     "prompt_number": 16
    },
    {
     "cell_type": "code",
     "collapsed": false,
     "input": [
      "#myresult = map(guess_maincategory, tf_idf[0:1])\n",
      "#print myresult\n",
      "#\n",
      "myresult = map(guess_category, tf_idf[0:10])\n",
      "print myresult"
     ],
     "language": "python",
     "metadata": {},
     "outputs": [
      {
       "output_type": "stream",
       "stream": "stdout",
       "text": [
        "['[\"Shopping\",\"Nurseries & Gardening\",\"Home & Garden\"]', '[\"Shopping\",\"Jewelry\"]', '[\"Food\",\"Desserts\"]', '[\"Food\",\"Desserts\",\"Ice Cream & Frozen Yogurt\"]', '[\"Beauty & Spas\",\"Nail Salons\"]', '[\"Shopping\",\"Wholesale Stores\"]', '[\"Home Services\"]', '[\"Public Services & Government\"]', '[\"Breakfast & Brunch\",\"Sandwiches\",\"Restaurants\"]', '[\"Burgers\",\"Restaurants\"]']\n"
       ]
      }
     ],
     "prompt_number": 19
    },
    {
     "cell_type": "code",
     "collapsed": false,
     "input": [
      "sf.head()"
     ],
     "language": "python",
     "metadata": {},
     "outputs": [
      {
       "html": [
        "<div style=\"max-height:1000px;max-width:1500px;overflow:auto;\"><table frame=\"box\" rules=\"cols\">\n",
        "    <tr>\n",
        "        <th style=\"padding-left: 1em; padding-right: 1em; text-align: center\">business_id</th>\n",
        "        <th style=\"padding-left: 1em; padding-right: 1em; text-align: center\">categories</th>\n",
        "        <th style=\"padding-left: 1em; padding-right: 1em; text-align: center\">texts</th>\n",
        "        <th style=\"padding-left: 1em; padding-right: 1em; text-align: center\">main_categories</th>\n",
        "    </tr>\n",
        "    <tr>\n",
        "        <td style=\"padding-left: 1em; padding-right: 1em; text-align: center; vertical-align: top\">rlrSUtmUnM84AVb616Qy6Q</td>\n",
        "        <td style=\"padding-left: 1em; padding-right: 1em; text-align: center; vertical-align: top\">[\"Shopping\",\"Nurseries &amp;<br>Gardening\",\"Home &amp; ...</td>\n",
        "        <td style=\"padding-left: 1em; padding-right: 1em; text-align: center; vertical-align: top\">Great selection and<br>helpful staff.  The ...</td>\n",
        "        <td style=\"padding-left: 1em; padding-right: 1em; text-align: center; vertical-align: top\">Shopping</td>\n",
        "    </tr>\n",
        "    <tr>\n",
        "        <td style=\"padding-left: 1em; padding-right: 1em; text-align: center; vertical-align: top\">BN5gV0OfIZQbQ7PXv4tG0w</td>\n",
        "        <td style=\"padding-left: 1em; padding-right: 1em; text-align: center; vertical-align: top\">[\"Thrift<br>Stores\",\"Shopping\"]</td>\n",
        "        <td style=\"padding-left: 1em; padding-right: 1em; text-align: center; vertical-align: top\">Stopped in on a whim. The<br>whole plaza gives me  ...</td>\n",
        "        <td style=\"padding-left: 1em; padding-right: 1em; text-align: center; vertical-align: top\">Thrift Stores</td>\n",
        "    </tr>\n",
        "    <tr>\n",
        "        <td style=\"padding-left: 1em; padding-right: 1em; text-align: center; vertical-align: top\">MUsqPXthMdHoPEow9M3MfA</td>\n",
        "        <td style=\"padding-left: 1em; padding-right: 1em; text-align: center; vertical-align: top\">[\"Bakeries\",\"Food\",\"Crepe<br>ries\",\"French\",\"Resta ...</td>\n",
        "        <td style=\"padding-left: 1em; padding-right: 1em; text-align: center; vertical-align: top\">This place is not there<br>anymore. The one in t ...</td>\n",
        "        <td style=\"padding-left: 1em; padding-right: 1em; text-align: center; vertical-align: top\">Bakeries</td>\n",
        "    </tr>\n",
        "    <tr>\n",
        "        <td style=\"padding-left: 1em; padding-right: 1em; text-align: center; vertical-align: top\">1q3_gaDp_rIASuCFK_NVGg</td>\n",
        "        <td style=\"padding-left: 1em; padding-right: 1em; text-align: center; vertical-align: top\">[\"Sandwiches\",\"Restaurant<br>s\"]</td>\n",
        "        <td style=\"padding-left: 1em; padding-right: 1em; text-align: center; vertical-align: top\">How had I never heard of<br>this place?  Oh yea - ...</td>\n",
        "        <td style=\"padding-left: 1em; padding-right: 1em; text-align: center; vertical-align: top\">Sandwiches</td>\n",
        "    </tr>\n",
        "    <tr>\n",
        "        <td style=\"padding-left: 1em; padding-right: 1em; text-align: center; vertical-align: top\">17SERT_RRNDqPrf418OQvQ</td>\n",
        "        <td style=\"padding-left: 1em; padding-right: 1em; text-align: center; vertical-align: top\">[\"Beauty &amp; Spas\",\"Nail<br>Salons\"]</td>\n",
        "        <td style=\"padding-left: 1em; padding-right: 1em; text-align: center; vertical-align: top\">Last Saturday afternoon I<br>took some Gabi time.. ...</td>\n",
        "        <td style=\"padding-left: 1em; padding-right: 1em; text-align: center; vertical-align: top\">Beauty &amp; Spas</td>\n",
        "    </tr>\n",
        "    <tr>\n",
        "        <td style=\"padding-left: 1em; padding-right: 1em; text-align: center; vertical-align: top\">YkFQ1mj86QYPr3CWXRIsDQ</td>\n",
        "        <td style=\"padding-left: 1em; padding-right: 1em; text-align: center; vertical-align: top\">[\"Department Stores\",\"Gro<br>cery\",\"Fashion\",\"Shop ...</td>\n",
        "        <td style=\"padding-left: 1em; padding-right: 1em; text-align: center; vertical-align: top\">When I lived in the<br>central-city, the nea ...</td>\n",
        "        <td style=\"padding-left: 1em; padding-right: 1em; text-align: center; vertical-align: top\">Department Stores</td>\n",
        "    </tr>\n",
        "    <tr>\n",
        "        <td style=\"padding-left: 1em; padding-right: 1em; text-align: center; vertical-align: top\">QmfK9HUjpB2E2b4euDuh7A</td>\n",
        "        <td style=\"padding-left: 1em; padding-right: 1em; text-align: center; vertical-align: top\">[\"Home Services\",\"Pool<br>Cleaners\"]</td>\n",
        "        <td style=\"padding-left: 1em; padding-right: 1em; text-align: center; vertical-align: top\">Amazing service and<br>extremely friendly!   ...</td>\n",
        "        <td style=\"padding-left: 1em; padding-right: 1em; text-align: center; vertical-align: top\">Home Services</td>\n",
        "    </tr>\n",
        "    <tr>\n",
        "        <td style=\"padding-left: 1em; padding-right: 1em; text-align: center; vertical-align: top\">pOurc7UleAr_LxLhrx7iSw</td>\n",
        "        <td style=\"padding-left: 1em; padding-right: 1em; text-align: center; vertical-align: top\">[\"Shopping\",\"Home &amp;<br>Garden\",\"Furniture ...</td>\n",
        "        <td style=\"padding-left: 1em; padding-right: 1em; text-align: center; vertical-align: top\">Long ago, Salvation Army<br>used to be the place  ...</td>\n",
        "        <td style=\"padding-left: 1em; padding-right: 1em; text-align: center; vertical-align: top\">Shopping</td>\n",
        "    </tr>\n",
        "    <tr>\n",
        "        <td style=\"padding-left: 1em; padding-right: 1em; text-align: center; vertical-align: top\">0DvsBDG0CEwIK8uQxUGiOQ</td>\n",
        "        <td style=\"padding-left: 1em; padding-right: 1em; text-align: center; vertical-align: top\">[\"Burgers\",\"Restaurants\"]</td>\n",
        "        <td style=\"padding-left: 1em; padding-right: 1em; text-align: center; vertical-align: top\">We started going to the<br>\"BIRD\" as we call it ...</td>\n",
        "        <td style=\"padding-left: 1em; padding-right: 1em; text-align: center; vertical-align: top\">Burgers</td>\n",
        "    </tr>\n",
        "    <tr>\n",
        "        <td style=\"padding-left: 1em; padding-right: 1em; text-align: center; vertical-align: top\">r4cRbcxqjvx7rDTsw0iAfQ</td>\n",
        "        <td style=\"padding-left: 1em; padding-right: 1em; text-align: center; vertical-align: top\">[\"Sandwiches\",\"Restaurant<br>s\"]</td>\n",
        "        <td style=\"padding-left: 1em; padding-right: 1em; text-align: center; vertical-align: top\">I haven't had their<br>sandwiches but had to ...</td>\n",
        "        <td style=\"padding-left: 1em; padding-right: 1em; text-align: center; vertical-align: top\">Sandwiches</td>\n",
        "    </tr>\n",
        "</table>\n",
        "<table frame=\"box\" rules=\"cols\">\n",
        "    <tr>\n",
        "        <th style=\"padding-left: 1em; padding-right: 1em; text-align: center\">maintargets</th>\n",
        "        <th style=\"padding-left: 1em; padding-right: 1em; text-align: center\">targets</th>\n",
        "    </tr>\n",
        "    <tr>\n",
        "        <td style=\"padding-left: 1em; padding-right: 1em; text-align: center; vertical-align: top\">['shopping']</td>\n",
        "        <td style=\"padding-left: 1em; padding-right: 1em; text-align: center; vertical-align: top\">['shopping', 'nurseries',<br>'gardening', 'home', ...</td>\n",
        "    </tr>\n",
        "    <tr>\n",
        "        <td style=\"padding-left: 1em; padding-right: 1em; text-align: center; vertical-align: top\">['thrift', 'stores']</td>\n",
        "        <td style=\"padding-left: 1em; padding-right: 1em; text-align: center; vertical-align: top\">['thrift', 'stores',<br>'shopping']</td>\n",
        "    </tr>\n",
        "    <tr>\n",
        "        <td style=\"padding-left: 1em; padding-right: 1em; text-align: center; vertical-align: top\">['bakeries']</td>\n",
        "        <td style=\"padding-left: 1em; padding-right: 1em; text-align: center; vertical-align: top\">['bakeries', 'food',<br>'creperies', 'french' ...</td>\n",
        "    </tr>\n",
        "    <tr>\n",
        "        <td style=\"padding-left: 1em; padding-right: 1em; text-align: center; vertical-align: top\">['sandwiches']</td>\n",
        "        <td style=\"padding-left: 1em; padding-right: 1em; text-align: center; vertical-align: top\">['sandwiches',<br>'restaurants']</td>\n",
        "    </tr>\n",
        "    <tr>\n",
        "        <td style=\"padding-left: 1em; padding-right: 1em; text-align: center; vertical-align: top\">['beauty', 'spas']</td>\n",
        "        <td style=\"padding-left: 1em; padding-right: 1em; text-align: center; vertical-align: top\">['beauty', 'spas',<br>'nail', 'salons']</td>\n",
        "    </tr>\n",
        "    <tr>\n",
        "        <td style=\"padding-left: 1em; padding-right: 1em; text-align: center; vertical-align: top\">['department', 'stores']</td>\n",
        "        <td style=\"padding-left: 1em; padding-right: 1em; text-align: center; vertical-align: top\">['department', 'stores',<br>'grocery', 'fashion', ...</td>\n",
        "    </tr>\n",
        "    <tr>\n",
        "        <td style=\"padding-left: 1em; padding-right: 1em; text-align: center; vertical-align: top\">['home', 'services']</td>\n",
        "        <td style=\"padding-left: 1em; padding-right: 1em; text-align: center; vertical-align: top\">['home', 'services',<br>'pool', 'cleaners']</td>\n",
        "    </tr>\n",
        "    <tr>\n",
        "        <td style=\"padding-left: 1em; padding-right: 1em; text-align: center; vertical-align: top\">['shopping']</td>\n",
        "        <td style=\"padding-left: 1em; padding-right: 1em; text-align: center; vertical-align: top\">['shopping', 'home',<br>'garden', 'furniture' ...</td>\n",
        "    </tr>\n",
        "    <tr>\n",
        "        <td style=\"padding-left: 1em; padding-right: 1em; text-align: center; vertical-align: top\">['burgers']</td>\n",
        "        <td style=\"padding-left: 1em; padding-right: 1em; text-align: center; vertical-align: top\">['burgers',<br>'restaurants']</td>\n",
        "    </tr>\n",
        "    <tr>\n",
        "        <td style=\"padding-left: 1em; padding-right: 1em; text-align: center; vertical-align: top\">['sandwiches']</td>\n",
        "        <td style=\"padding-left: 1em; padding-right: 1em; text-align: center; vertical-align: top\">['sandwiches',<br>'restaurants']</td>\n",
        "    </tr>\n",
        "</table>\n",
        "[10 rows x 6 columns]<br/>\n",
        "</div>"
       ],
       "metadata": {},
       "output_type": "pyout",
       "prompt_number": 20,
       "text": [
        "Columns:\n",
        "\tbusiness_id\tstr\n",
        "\tcategories\tstr\n",
        "\ttexts\tstr\n",
        "\tmain_categories\tstr\n",
        "\tmaintargets\tlist\n",
        "\ttargets\tlist\n",
        "\n",
        "Rows: 10\n",
        "\n",
        "Data:\n",
        "+------------------------+--------------------------------+\n",
        "|      business_id       |           categories           |\n",
        "+------------------------+--------------------------------+\n",
        "| rlrSUtmUnM84AVb616Qy6Q | [\"Shopping\",\"Nurseries & G ... |\n",
        "| BN5gV0OfIZQbQ7PXv4tG0w |  [\"Thrift Stores\",\"Shopping\"]  |\n",
        "| MUsqPXthMdHoPEow9M3MfA | [\"Bakeries\",\"Food\",\"Creper ... |\n",
        "| 1q3_gaDp_rIASuCFK_NVGg |  [\"Sandwiches\",\"Restaurants\"]  |\n",
        "| 17SERT_RRNDqPrf418OQvQ | [\"Beauty & Spas\",\"Nail Sal ... |\n",
        "| YkFQ1mj86QYPr3CWXRIsDQ | [\"Department Stores\",\"Groc ... |\n",
        "| QmfK9HUjpB2E2b4euDuh7A | [\"Home Services\",\"Pool Cle ... |\n",
        "| pOurc7UleAr_LxLhrx7iSw | [\"Shopping\",\"Home & Garden ... |\n",
        "| 0DvsBDG0CEwIK8uQxUGiOQ |   [\"Burgers\",\"Restaurants\"]    |\n",
        "| r4cRbcxqjvx7rDTsw0iAfQ |  [\"Sandwiches\",\"Restaurants\"]  |\n",
        "+------------------------+--------------------------------+\n",
        "+--------------------------------+-------------------+--------------------------+\n",
        "|             texts              |  main_categories  |       maintargets        |\n",
        "+--------------------------------+-------------------+--------------------------+\n",
        "| Great selection and helpfu ... |      Shopping     |       ['shopping']       |\n",
        "| Stopped in on a whim. The  ... |   Thrift Stores   |   ['thrift', 'stores']   |\n",
        "| This place is not there an ... |      Bakeries     |       ['bakeries']       |\n",
        "| How had I never heard of t ... |     Sandwiches    |      ['sandwiches']      |\n",
        "| Last Saturday afternoon I  ... |   Beauty & Spas   |    ['beauty', 'spas']    |\n",
        "| When I lived in the centra ... | Department Stores | ['department', 'stores'] |\n",
        "| Amazing service and extrem ... |   Home Services   |   ['home', 'services']   |\n",
        "| Long ago, Salvation Army u ... |      Shopping     |       ['shopping']       |\n",
        "| We started going to the \"B ... |      Burgers      |       ['burgers']        |\n",
        "| I haven't had their sandwi ... |     Sandwiches    |      ['sandwiches']      |\n",
        "+--------------------------------+-------------------+--------------------------+\n",
        "+--------------------------------+\n",
        "|            targets             |\n",
        "+--------------------------------+\n",
        "| ['shopping', 'nurseries',  ... |\n",
        "| ['thrift', 'stores', 'shop ... |\n",
        "| ['bakeries', 'food', 'crep ... |\n",
        "| ['sandwiches', 'restaurants']  |\n",
        "| ['beauty', 'spas', 'nail', ... |\n",
        "| ['department', 'stores', ' ... |\n",
        "| ['home', 'services', 'pool ... |\n",
        "| ['shopping', 'home', 'gard ... |\n",
        "|   ['burgers', 'restaurants']   |\n",
        "| ['sandwiches', 'restaurants']  |\n",
        "+--------------------------------+\n",
        "[10 rows x 6 columns]\n"
       ]
      }
     ],
     "prompt_number": 20
    },
    {
     "cell_type": "code",
     "collapsed": false,
     "input": [],
     "language": "python",
     "metadata": {},
     "outputs": []
    }
   ],
   "metadata": {}
  }
 ]
}