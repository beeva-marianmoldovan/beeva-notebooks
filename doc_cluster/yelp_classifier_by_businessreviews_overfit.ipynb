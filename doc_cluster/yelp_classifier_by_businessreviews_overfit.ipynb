{
 "metadata": {
  "name": ""
 },
 "nbformat": 3,
 "nbformat_minor": 0,
 "worksheets": [
  {
   "cells": [
    {
     "cell_type": "code",
     "collapsed": false,
     "input": [
      "import graphlab"
     ],
     "language": "python",
     "metadata": {},
     "outputs": [
      {
       "output_type": "stream",
       "stream": "stderr",
       "text": [
        "/home/enrique/herramientas/anaconda/lib/python2.7/site-packages/pytz/__init__.py:29: UserWarning: Module docutils was already imported from /home/enrique/herramientas/anaconda/lib/python2.7/site-packages/docutils/__init__.pyc, but /home/enrique/herramientas/virtualenvs/theano/lib/python2.7/site-packages is being added to sys.path\n",
        "  from pkg_resources import resource_stream\n",
        "/home/enrique/herramientas/anaconda/lib/python2.7/site-packages/pytz/__init__.py:29: UserWarning: Module numpy was already imported from /home/enrique/herramientas/anaconda/lib/python2.7/site-packages/numpy/__init__.pyc, but /home/enrique/herramientas/virtualenvs/theano/lib/python2.7/site-packages is being added to sys.path\n",
        "  from pkg_resources import resource_stream\n"
       ]
      }
     ],
     "prompt_number": 1
    },
    {
     "cell_type": "markdown",
     "metadata": {},
     "source": [
      "## Load data"
     ]
    },
    {
     "cell_type": "code",
     "collapsed": false,
     "input": [
      "sf_reviews = graphlab.SFrame.read_csv('./data/yelp/yelp_training_set/yelp_training_set_review.json', delimiter='\\n', column_type_hints=dict, header=None)\n",
      "sf_reviews = sf_reviews.unpack('X1', column_name_prefix='')\n",
      "sf_business = graphlab.SFrame.read_csv('./data/yelp/yelp_training_set/yelp_training_set_business.json', delimiter='\\n', column_type_hints=dict, header=None)\n",
      "sf_business = sf_business.unpack('X1', column_name_prefix='')"
     ],
     "language": "python",
     "metadata": {},
     "outputs": [
      {
       "output_type": "stream",
       "stream": "stderr",
       "text": [
        "[INFO] Start server at: ipc:///tmp/graphlab_server-6280 - Server binary: /home/enrique/herramientas/virtualenvs/theano/lib/python2.7/site-packages/graphlab/unity_server - Server log: /tmp/graphlab_server_1421336444.log\n"
       ]
      },
      {
       "output_type": "stream",
       "stream": "stderr",
       "text": [
        "[INFO] GraphLab Server Version: 1.2.1\n"
       ]
      },
      {
       "html": [
        "<pre>PROGRESS: Read 55824 lines. Lines per second: 5256.49</pre>"
       ],
       "metadata": {},
       "output_type": "display_data",
       "text": [
        "PROGRESS: Read 55824 lines. Lines per second: 5256.49"
       ]
      },
      {
       "html": [
        "<pre>PROGRESS: Read 111545 lines. Lines per second: 7003.15</pre>"
       ],
       "metadata": {},
       "output_type": "display_data",
       "text": [
        "PROGRESS: Read 111545 lines. Lines per second: 7003.15"
       ]
      },
      {
       "html": [
        "<pre>PROGRESS: Read 167130 lines. Lines per second: 7899.35</pre>"
       ],
       "metadata": {},
       "output_type": "display_data",
       "text": [
        "PROGRESS: Read 167130 lines. Lines per second: 7899.35"
       ]
      },
      {
       "html": [
        "<pre>PROGRESS: Finished parsing file /home/enrique/github/beeva-notebooks/doc_cluster/data/yelp/yelp_training_set/yelp_training_set_review.json</pre>"
       ],
       "metadata": {},
       "output_type": "display_data",
       "text": [
        "PROGRESS: Finished parsing file /home/enrique/github/beeva-notebooks/doc_cluster/data/yelp/yelp_training_set/yelp_training_set_review.json"
       ]
      },
      {
       "html": [
        "<pre>PROGRESS: Parsing completed. Parsed 229907 lines in 21.9622 secs.</pre>"
       ],
       "metadata": {},
       "output_type": "display_data",
       "text": [
        "PROGRESS: Parsing completed. Parsed 229907 lines in 21.9622 secs."
       ]
      },
      {
       "html": [
        "<pre>PROGRESS: Finished parsing file /home/enrique/github/beeva-notebooks/doc_cluster/data/yelp/yelp_training_set/yelp_training_set_business.json</pre>"
       ],
       "metadata": {},
       "output_type": "display_data",
       "text": [
        "PROGRESS: Finished parsing file /home/enrique/github/beeva-notebooks/doc_cluster/data/yelp/yelp_training_set/yelp_training_set_business.json"
       ]
      },
      {
       "html": [
        "<pre>PROGRESS: Parsing completed. Parsed 11537 lines in 0.383993 secs.</pre>"
       ],
       "metadata": {},
       "output_type": "display_data",
       "text": [
        "PROGRESS: Parsing completed. Parsed 11537 lines in 0.383993 secs."
       ]
      }
     ],
     "prompt_number": 2
    },
    {
     "cell_type": "code",
     "collapsed": false,
     "input": [
      "sf = sf_reviews.join(sf_business, on=['business_id'])\n",
      "print \"%s reviews\" %len(sf)\n",
      "sf.head(1)"
     ],
     "language": "python",
     "metadata": {},
     "outputs": [
      {
       "output_type": "stream",
       "stream": "stdout",
       "text": [
        "229907 reviews\n"
       ]
      },
      {
       "html": [
        "<div style=\"max-height:1000px;max-width:1500px;overflow:auto;\"><table frame=\"box\" rules=\"cols\">\n",
        "    <tr>\n",
        "        <th style=\"padding-left: 1em; padding-right: 1em; text-align: center\">business_id</th>\n",
        "        <th style=\"padding-left: 1em; padding-right: 1em; text-align: center\">date</th>\n",
        "        <th style=\"padding-left: 1em; padding-right: 1em; text-align: center\">review_id</th>\n",
        "        <th style=\"padding-left: 1em; padding-right: 1em; text-align: center\">stars</th>\n",
        "        <th style=\"padding-left: 1em; padding-right: 1em; text-align: center\">text</th>\n",
        "        <th style=\"padding-left: 1em; padding-right: 1em; text-align: center\">type</th>\n",
        "    </tr>\n",
        "    <tr>\n",
        "        <td style=\"padding-left: 1em; padding-right: 1em; text-align: center; vertical-align: top\">9yKzy9PApeiPPOUJEtnvkg</td>\n",
        "        <td style=\"padding-left: 1em; padding-right: 1em; text-align: center; vertical-align: top\">2011-01-26</td>\n",
        "        <td style=\"padding-left: 1em; padding-right: 1em; text-align: center; vertical-align: top\">fWKvX83p0-ka4JS3dc6E5A</td>\n",
        "        <td style=\"padding-left: 1em; padding-right: 1em; text-align: center; vertical-align: top\">5</td>\n",
        "        <td style=\"padding-left: 1em; padding-right: 1em; text-align: center; vertical-align: top\">My wife took me here on<br>my birthday for break ...</td>\n",
        "        <td style=\"padding-left: 1em; padding-right: 1em; text-align: center; vertical-align: top\">review</td>\n",
        "    </tr>\n",
        "</table>\n",
        "<table frame=\"box\" rules=\"cols\">\n",
        "    <tr>\n",
        "        <th style=\"padding-left: 1em; padding-right: 1em; text-align: center\">user_id</th>\n",
        "        <th style=\"padding-left: 1em; padding-right: 1em; text-align: center\">votes</th>\n",
        "        <th style=\"padding-left: 1em; padding-right: 1em; text-align: center\">categories</th>\n",
        "        <th style=\"padding-left: 1em; padding-right: 1em; text-align: center\">city</th>\n",
        "        <th style=\"padding-left: 1em; padding-right: 1em; text-align: center\">full_address</th>\n",
        "    </tr>\n",
        "    <tr>\n",
        "        <td style=\"padding-left: 1em; padding-right: 1em; text-align: center; vertical-align: top\">rLtl8ZkDX5vH5nAx9C3q5Q</td>\n",
        "        <td style=\"padding-left: 1em; padding-right: 1em; text-align: center; vertical-align: top\">{'funny': 0, 'useful': 5,<br>'cool': 2}</td>\n",
        "        <td style=\"padding-left: 1em; padding-right: 1em; text-align: center; vertical-align: top\">[\"Breakfast &amp;<br>Brunch\",\"Restaurants\"]</td>\n",
        "        <td style=\"padding-left: 1em; padding-right: 1em; text-align: center; vertical-align: top\">Phoenix</td>\n",
        "        <td style=\"padding-left: 1em; padding-right: 1em; text-align: center; vertical-align: top\">6106 S 32nd St\\nPhoenix,<br>AZ 85042</td>\n",
        "    </tr>\n",
        "</table>\n",
        "<table frame=\"box\" rules=\"cols\">\n",
        "    <tr>\n",
        "        <th style=\"padding-left: 1em; padding-right: 1em; text-align: center\">latitude</th>\n",
        "        <th style=\"padding-left: 1em; padding-right: 1em; text-align: center\">longitude</th>\n",
        "        <th style=\"padding-left: 1em; padding-right: 1em; text-align: center\">name</th>\n",
        "        <th style=\"padding-left: 1em; padding-right: 1em; text-align: center\">neighborhoods</th>\n",
        "        <th style=\"padding-left: 1em; padding-right: 1em; text-align: center\">open</th>\n",
        "        <th style=\"padding-left: 1em; padding-right: 1em; text-align: center\">review_count</th>\n",
        "        <th style=\"padding-left: 1em; padding-right: 1em; text-align: center\">stars.1</th>\n",
        "        <th style=\"padding-left: 1em; padding-right: 1em; text-align: center\">state</th>\n",
        "        <th style=\"padding-left: 1em; padding-right: 1em; text-align: center\">type.1</th>\n",
        "    </tr>\n",
        "    <tr>\n",
        "        <td style=\"padding-left: 1em; padding-right: 1em; text-align: center; vertical-align: top\">33.390792</td>\n",
        "        <td style=\"padding-left: 1em; padding-right: 1em; text-align: center; vertical-align: top\">-112.012504</td>\n",
        "        <td style=\"padding-left: 1em; padding-right: 1em; text-align: center; vertical-align: top\">Morning Glory Cafe</td>\n",
        "        <td style=\"padding-left: 1em; padding-right: 1em; text-align: center; vertical-align: top\">array('d')</td>\n",
        "        <td style=\"padding-left: 1em; padding-right: 1em; text-align: center; vertical-align: top\">true</td>\n",
        "        <td style=\"padding-left: 1em; padding-right: 1em; text-align: center; vertical-align: top\">116</td>\n",
        "        <td style=\"padding-left: 1em; padding-right: 1em; text-align: center; vertical-align: top\">4.0</td>\n",
        "        <td style=\"padding-left: 1em; padding-right: 1em; text-align: center; vertical-align: top\">AZ</td>\n",
        "        <td style=\"padding-left: 1em; padding-right: 1em; text-align: center; vertical-align: top\">business</td>\n",
        "    </tr>\n",
        "</table>\n",
        "[1 rows x 20 columns]<br/>\n",
        "</div>"
       ],
       "metadata": {},
       "output_type": "pyout",
       "prompt_number": 3,
       "text": [
        "Columns:\n",
        "\tbusiness_id\tstr\n",
        "\tdate\tstr\n",
        "\treview_id\tstr\n",
        "\tstars\tint\n",
        "\ttext\tstr\n",
        "\ttype\tstr\n",
        "\tuser_id\tstr\n",
        "\tvotes\tdict\n",
        "\tcategories\tstr\n",
        "\tcity\tstr\n",
        "\tfull_address\tstr\n",
        "\tlatitude\tfloat\n",
        "\tlongitude\tfloat\n",
        "\tname\tstr\n",
        "\tneighborhoods\tarray\n",
        "\topen\tstr\n",
        "\treview_count\tint\n",
        "\tstars.1\tfloat\n",
        "\tstate\tstr\n",
        "\ttype.1\tstr\n",
        "\n",
        "Rows: 1\n",
        "\n",
        "Data:\n",
        "+------------------------+------------+------------------------+-------+\n",
        "|      business_id       |    date    |       review_id        | stars |\n",
        "+------------------------+------------+------------------------+-------+\n",
        "| 9yKzy9PApeiPPOUJEtnvkg | 2011-01-26 | fWKvX83p0-ka4JS3dc6E5A |   5   |\n",
        "+------------------------+------------+------------------------+-------+\n",
        "+--------------------------------+--------+------------------------+\n",
        "|              text              |  type  |        user_id         |\n",
        "+--------------------------------+--------+------------------------+\n",
        "| My wife took me here on my ... | review | rLtl8ZkDX5vH5nAx9C3q5Q |\n",
        "+--------------------------------+--------+------------------------+\n",
        "+--------------------------------+--------------------------------+---------+\n",
        "|             votes              |           categories           |   city  |\n",
        "+--------------------------------+--------------------------------+---------+\n",
        "| {'funny': 0, 'useful': 5,  ... | [\"Breakfast & Brunch\",\"Res ... | Phoenix |\n",
        "+--------------------------------+--------------------------------+---------+\n",
        "+--------------------------------+-----------+-------------+--------------------+\n",
        "|          full_address          |  latitude |  longitude  |        name        |\n",
        "+--------------------------------+-----------+-------------+--------------------+\n",
        "| 6106 S 32nd St\\nPhoenix, A ... | 33.390792 | -112.012504 | Morning Glory Cafe |\n",
        "+--------------------------------+-----------+-------------+--------------------+\n",
        "+---------------+------+--------------+---------+-------+----------+\n",
        "| neighborhoods | open | review_count | stars.1 | state |  type.1  |\n",
        "+---------------+------+--------------+---------+-------+----------+\n",
        "|   array('d')  | true |     116      |   4.0   |   AZ  | business |\n",
        "+---------------+------+--------------+---------+-------+----------+\n",
        "[1 rows x 20 columns]\n"
       ]
      }
     ],
     "prompt_number": 3
    },
    {
     "cell_type": "code",
     "collapsed": false,
     "input": [
      "sf_reviews2 = sf.groupby([\"business_id\", \"categories\"], {\"texts\":graphlab.aggregate.CONCAT(\"text\")})\n",
      "sf_reviews2['texts'] = sf_business2['texts'].apply(lambda x: \" \".join(x))\n",
      "print \"%s business\" %len(sf_business)\n",
      "sf_reviews2.head(1)"
     ],
     "language": "python",
     "metadata": {},
     "outputs": [
      {
       "output_type": "stream",
       "stream": "stdout",
       "text": [
        "11537 business\n"
       ]
      },
      {
       "html": [
        "<div style=\"max-height:1000px;max-width:1500px;overflow:auto;\"><table frame=\"box\" rules=\"cols\">\n",
        "    <tr>\n",
        "        <th style=\"padding-left: 1em; padding-right: 1em; text-align: center\">business_id</th>\n",
        "        <th style=\"padding-left: 1em; padding-right: 1em; text-align: center\">categories</th>\n",
        "        <th style=\"padding-left: 1em; padding-right: 1em; text-align: center\">texts</th>\n",
        "    </tr>\n",
        "    <tr>\n",
        "        <td style=\"padding-left: 1em; padding-right: 1em; text-align: center; vertical-align: top\">VtHKaOSOPhZqDGf85X1oiw</td>\n",
        "        <td style=\"padding-left: 1em; padding-right: 1em; text-align: center; vertical-align: top\">[\"Food\",\"Specialty Food\",<br>\"Restaurants\",\"Italian\"]</td>\n",
        "        <td style=\"padding-left: 1em; padding-right: 1em; text-align: center; vertical-align: top\">I came across this place<br>because I would pass  ...</td>\n",
        "    </tr>\n",
        "</table>\n",
        "[1 rows x 3 columns]<br/>\n",
        "</div>"
       ],
       "metadata": {},
       "output_type": "pyout",
       "prompt_number": 8,
       "text": [
        "Columns:\n",
        "\tbusiness_id\tstr\n",
        "\tcategories\tstr\n",
        "\ttexts\tstr\n",
        "\n",
        "Rows: 1\n",
        "\n",
        "Data:\n",
        "+------------------------+--------------------------------+\n",
        "|      business_id       |           categories           |\n",
        "+------------------------+--------------------------------+\n",
        "| VtHKaOSOPhZqDGf85X1oiw | [\"Food\",\"Specialty Food\",\" ... |\n",
        "+------------------------+--------------------------------+\n",
        "+--------------------------------+\n",
        "|             texts              |\n",
        "+--------------------------------+\n",
        "| I came across this place b ... |\n",
        "+--------------------------------+\n",
        "[1 rows x 3 columns]\n"
       ]
      }
     ],
     "prompt_number": 8
    },
    {
     "cell_type": "markdown",
     "metadata": {},
     "source": [
      "## Text Analytics"
     ]
    },
    {
     "cell_type": "code",
     "collapsed": false,
     "input": [
      "bow = graphlab.text_analytics.count_words(sf_business['texts'])\n",
      "bow = bow.dict_trim_by_keys(graphlab.text_analytics.stopwords(), exclude=True)\n",
      "bow = bow.dict_trim_by_values(3)\n",
      "tf_idf = graphlab.text_analytics.tf_idf(bow)"
     ],
     "language": "python",
     "metadata": {},
     "outputs": [],
     "prompt_number": 9
    },
    {
     "cell_type": "code",
     "collapsed": false,
     "input": [
      "print bow[0]\n",
      "print tf_idf[0]"
     ],
     "language": "python",
     "metadata": {},
     "outputs": [
      {
       "output_type": "stream",
       "stream": "stdout",
       "text": [
        "{'owner': 5, 'home': 5, 'open': 4, 'sauces': 7, 'italy': 3, 'butternut': 3, 'truffle': 3, 'sauce': 15, 'ravioli': 5, 'tomato': 4, 'sugo': 5, 'good': 6, 'food': 3, 'stop': 3, 'hours': 3, 'lunch': 8, 'pasta': 25, 'super': 4, 'day': 3, 'butter': 4, 'great': 5, 'meat': 3, 'didn': 3, 'place': 8, 'fresh': 3, 'biscuits': 3, 'side': 3}\n",
        "{'owner': 12.424533248940001, 'home': 8.047189562170502, 'open': 8.317766166719343, 'sauces': 25.995004466930155, 'italy': 15.677240021139605, 'butternut': 16.26160499781686, 'truffle': 15.011838917836378, 'sauce': 26.876392038420825, 'ravioli': 23.17364494114818, 'tomato': 11.777755916665761, 'sugo': 46.766572704636445, 'good': 0.0, 'food': 2.0794415416798357, 'stop': 6.907755278982138, 'hours': 7.4547199493640015, 'lunch': 12.875503299472802, 'pasta': 82.39592165010822, 'super': 7.783640596221253, 'day': 4.1588830833596715, 'butter': 12.541976863716599, 'great': 3.4657359027997265, 'meat': 5.8377304471659395, 'didn': 3.295836866004329, 'place': 0.0, 'fresh': 4.828313737302301, 'biscuits': 14.286521804393269, 'side': 5.375278407684165}"
       ]
      },
      {
       "output_type": "stream",
       "stream": "stdout",
       "text": [
        "\n"
       ]
      }
     ],
     "prompt_number": 10
    },
    {
     "cell_type": "code",
     "collapsed": false,
     "input": [
      "model50 = graphlab.topic_model.create(tf_idf,50)\n",
      "model50.summary()\n",
      "sf_reviews2['topic50'] = model50.predict(tf_idf)\n",
      "model50.get_topics().show()"
     ],
     "language": "python",
     "metadata": {},
     "outputs": [
      {
       "html": [
        "<pre>PROGRESS: Learning a topic model</pre>"
       ],
       "metadata": {},
       "output_type": "display_data",
       "text": [
        "PROGRESS: Learning a topic model"
       ]
      },
      {
       "html": [
        "<pre>PROGRESS:        Number of documents     11537</pre>"
       ],
       "metadata": {},
       "output_type": "display_data",
       "text": [
        "PROGRESS:        Number of documents     11537"
       ]
      },
      {
       "html": [
        "<pre>PROGRESS:            Vocabulary size     21369</pre>"
       ],
       "metadata": {},
       "output_type": "display_data",
       "text": [
        "PROGRESS:            Vocabulary size     21369"
       ]
      },
      {
       "html": [
        "<pre>PROGRESS:    Running collapsed Gibbs sampling</pre>"
       ],
       "metadata": {},
       "output_type": "display_data",
       "text": [
        "PROGRESS:    Running collapsed Gibbs sampling"
       ]
      },
      {
       "html": [
        "<pre>PROGRESS: +-----------+---------------+----------------+-----------------+</pre>"
       ],
       "metadata": {},
       "output_type": "display_data",
       "text": [
        "PROGRESS: +-----------+---------------+----------------+-----------------+"
       ]
      },
      {
       "html": [
        "<pre>PROGRESS: | Iteration | Elapsed Time  | Tokens/Second  | Est. Perplexity |</pre>"
       ],
       "metadata": {},
       "output_type": "display_data",
       "text": [
        "PROGRESS: | Iteration | Elapsed Time  | Tokens/Second  | Est. Perplexity |"
       ]
      },
      {
       "html": [
        "<pre>PROGRESS: +-----------+---------------+----------------+-----------------+</pre>"
       ],
       "metadata": {},
       "output_type": "display_data",
       "text": [
        "PROGRESS: +-----------+---------------+----------------+-----------------+"
       ]
      },
      {
       "html": [
        "<pre>PROGRESS: | 10        | 4.51s         | 2.28365e+06    | 0               |</pre>"
       ],
       "metadata": {},
       "output_type": "display_data",
       "text": [
        "PROGRESS: | 10        | 4.51s         | 2.28365e+06    | 0               |"
       ]
      },
      {
       "html": [
        "<pre>PROGRESS: +-----------+---------------+----------------+-----------------+</pre>"
       ],
       "metadata": {},
       "output_type": "display_data",
       "text": [
        "PROGRESS: +-----------+---------------+----------------+-----------------+"
       ]
      },
      {
       "output_type": "stream",
       "stream": "stdout",
       "text": [
        "Topic Model\n",
        "  Data:\n",
        "      Vocabulary size:     21369\n",
        "  Settings:\n",
        "      Number of topics:    50\n",
        "      alpha:               1.0\n",
        "      beta:                0.1\n",
        "      Iterations:          10\n",
        "      Verbose:             False\n",
        "  Accessible fields:\n",
        "      m['topics']          An SFrame containing the topics.\n",
        "      m['vocabulary']      An SArray containing the topics.\n",
        "  Useful methods:\n",
        "      m.get_topics()       Get the most probable words per topic.\n",
        "      m.predict(new_docs)  Make predictions for new documents.\n"
       ]
      },
      {
       "output_type": "stream",
       "stream": "stdout",
       "text": [
        "\n"
       ]
      }
     ],
     "prompt_number": 11
    },
    {
     "cell_type": "code",
     "collapsed": false,
     "input": [
      "model100 = graphlab.topic_model.create(tf_idf,100)\n",
      "model100.summary()\n",
      "sf_reviews2['topic100'] = model100.predict(tf_idf)\n",
      "#model100.get_topics().show()"
     ],
     "language": "python",
     "metadata": {},
     "outputs": [
      {
       "html": [
        "<pre>PROGRESS: Learning a topic model</pre>"
       ],
       "metadata": {},
       "output_type": "display_data",
       "text": [
        "PROGRESS: Learning a topic model"
       ]
      },
      {
       "html": [
        "<pre>PROGRESS:        Number of documents     11537</pre>"
       ],
       "metadata": {},
       "output_type": "display_data",
       "text": [
        "PROGRESS:        Number of documents     11537"
       ]
      },
      {
       "html": [
        "<pre>PROGRESS:            Vocabulary size     21369</pre>"
       ],
       "metadata": {},
       "output_type": "display_data",
       "text": [
        "PROGRESS:            Vocabulary size     21369"
       ]
      },
      {
       "html": [
        "<pre>PROGRESS:    Running collapsed Gibbs sampling</pre>"
       ],
       "metadata": {},
       "output_type": "display_data",
       "text": [
        "PROGRESS:    Running collapsed Gibbs sampling"
       ]
      },
      {
       "html": [
        "<pre>PROGRESS: +-----------+---------------+----------------+-----------------+</pre>"
       ],
       "metadata": {},
       "output_type": "display_data",
       "text": [
        "PROGRESS: +-----------+---------------+----------------+-----------------+"
       ]
      },
      {
       "html": [
        "<pre>PROGRESS: | Iteration | Elapsed Time  | Tokens/Second  | Est. Perplexity |</pre>"
       ],
       "metadata": {},
       "output_type": "display_data",
       "text": [
        "PROGRESS: | Iteration | Elapsed Time  | Tokens/Second  | Est. Perplexity |"
       ]
      },
      {
       "html": [
        "<pre>PROGRESS: +-----------+---------------+----------------+-----------------+</pre>"
       ],
       "metadata": {},
       "output_type": "display_data",
       "text": [
        "PROGRESS: +-----------+---------------+----------------+-----------------+"
       ]
      },
      {
       "html": [
        "<pre>PROGRESS: | 10        | 9.17s         | 1.18436e+06    | 0               |</pre>"
       ],
       "metadata": {},
       "output_type": "display_data",
       "text": [
        "PROGRESS: | 10        | 9.17s         | 1.18436e+06    | 0               |"
       ]
      },
      {
       "html": [
        "<pre>PROGRESS: +-----------+---------------+----------------+-----------------+</pre>"
       ],
       "metadata": {},
       "output_type": "display_data",
       "text": [
        "PROGRESS: +-----------+---------------+----------------+-----------------+"
       ]
      },
      {
       "output_type": "stream",
       "stream": "stdout",
       "text": [
        "Topic Model\n",
        "  Data:\n",
        "      Vocabulary size:     21369\n",
        "  Settings:\n",
        "      Number of topics:    100\n",
        "      alpha:               0.5\n",
        "      beta:                0.1\n",
        "      Iterations:          10\n",
        "      Verbose:             False\n",
        "  Accessible fields:\n",
        "      m['topics']          An SFrame containing the topics.\n",
        "      m['vocabulary']      An SArray containing the topics.\n",
        "  Useful methods:\n",
        "      m.get_topics()       Get the most probable words per topic.\n",
        "      m.predict(new_docs)  Make predictions for new documents.\n"
       ]
      },
      {
       "output_type": "stream",
       "stream": "stdout",
       "text": [
        "\n"
       ]
      }
     ],
     "prompt_number": 12
    },
    {
     "cell_type": "code",
     "collapsed": false,
     "input": [
      "model500 = graphlab.topic_model.create(tf_idf,500)\n",
      "model500.summary()\n",
      "sf_reviews2['topic500'] = model500.predict(tf_idf)\n",
      "#model500.get_topics().show()"
     ],
     "language": "python",
     "metadata": {},
     "outputs": [
      {
       "output_type": "stream",
       "stream": "stdout",
       "text": [
        "\n"
       ]
      },
      {
       "html": [
        "<pre>PROGRESS: Learning a topic model</pre>"
       ],
       "metadata": {},
       "output_type": "display_data",
       "text": [
        "PROGRESS: Learning a topic model"
       ]
      },
      {
       "html": [
        "<pre>PROGRESS:        Number of documents     11537</pre>"
       ],
       "metadata": {},
       "output_type": "display_data",
       "text": [
        "PROGRESS:        Number of documents     11537"
       ]
      },
      {
       "html": [
        "<pre>PROGRESS:            Vocabulary size     21369</pre>"
       ],
       "metadata": {},
       "output_type": "display_data",
       "text": [
        "PROGRESS:            Vocabulary size     21369"
       ]
      },
      {
       "html": [
        "<pre>PROGRESS:    Running collapsed Gibbs sampling</pre>"
       ],
       "metadata": {},
       "output_type": "display_data",
       "text": [
        "PROGRESS:    Running collapsed Gibbs sampling"
       ]
      },
      {
       "html": [
        "<pre>PROGRESS: +-----------+---------------+----------------+-----------------+</pre>"
       ],
       "metadata": {},
       "output_type": "display_data",
       "text": [
        "PROGRESS: +-----------+---------------+----------------+-----------------+"
       ]
      },
      {
       "html": [
        "<pre>PROGRESS: | Iteration | Elapsed Time  | Tokens/Second  | Est. Perplexity |</pre>"
       ],
       "metadata": {},
       "output_type": "display_data",
       "text": [
        "PROGRESS: | Iteration | Elapsed Time  | Tokens/Second  | Est. Perplexity |"
       ]
      },
      {
       "html": [
        "<pre>PROGRESS: +-----------+---------------+----------------+-----------------+</pre>"
       ],
       "metadata": {},
       "output_type": "display_data",
       "text": [
        "PROGRESS: +-----------+---------------+----------------+-----------------+"
       ]
      },
      {
       "html": [
        "<pre>PROGRESS: | 10        | 1m 13s        | 132966         | 0               |</pre>"
       ],
       "metadata": {},
       "output_type": "display_data",
       "text": [
        "PROGRESS: | 10        | 1m 13s        | 132966         | 0               |"
       ]
      },
      {
       "html": [
        "<pre>PROGRESS: +-----------+---------------+----------------+-----------------+</pre>"
       ],
       "metadata": {},
       "output_type": "display_data",
       "text": [
        "PROGRESS: +-----------+---------------+----------------+-----------------+"
       ]
      },
      {
       "output_type": "stream",
       "stream": "stdout",
       "text": [
        "Topic Model\n",
        "  Data:\n",
        "      Vocabulary size:     21369\n",
        "  Settings:\n",
        "      Number of topics:    500\n",
        "      alpha:               0.1\n",
        "      beta:                0.1\n",
        "      Iterations:          10\n",
        "      Verbose:             False\n",
        "  Accessible fields:\n",
        "      m['topics']          An SFrame containing the topics.\n",
        "      m['vocabulary']      An SArray containing the topics.\n",
        "  Useful methods:\n",
        "      m.get_topics()       Get the most probable words per topic.\n",
        "      m.predict(new_docs)  Make predictions for new documents.\n"
       ]
      },
      {
       "output_type": "stream",
       "stream": "stdout",
       "text": [
        "\n"
       ]
      }
     ],
     "prompt_number": 14
    },
    {
     "cell_type": "markdown",
     "metadata": {},
     "source": [
      "## Split dataset for test"
     ]
    },
    {
     "cell_type": "code",
     "collapsed": false,
     "input": [
      "sf_train, sf_test = sf_reviews2.random_split(.9, seed=5)\n",
      "sf_train.head(1)"
     ],
     "language": "python",
     "metadata": {},
     "outputs": [
      {
       "html": [
        "<div style=\"max-height:1000px;max-width:1500px;overflow:auto;\"><table frame=\"box\" rules=\"cols\">\n",
        "    <tr>\n",
        "        <th style=\"padding-left: 1em; padding-right: 1em; text-align: center\">business_id</th>\n",
        "        <th style=\"padding-left: 1em; padding-right: 1em; text-align: center\">categories</th>\n",
        "        <th style=\"padding-left: 1em; padding-right: 1em; text-align: center\">texts</th>\n",
        "        <th style=\"padding-left: 1em; padding-right: 1em; text-align: center\">topic50</th>\n",
        "        <th style=\"padding-left: 1em; padding-right: 1em; text-align: center\">topic100</th>\n",
        "        <th style=\"padding-left: 1em; padding-right: 1em; text-align: center\">topic500</th>\n",
        "    </tr>\n",
        "    <tr>\n",
        "        <td style=\"padding-left: 1em; padding-right: 1em; text-align: center; vertical-align: top\">VtHKaOSOPhZqDGf85X1oiw</td>\n",
        "        <td style=\"padding-left: 1em; padding-right: 1em; text-align: center; vertical-align: top\">[\"Food\",\"Specialty Food\",<br>\"Restaurants\",\"Italian\"]</td>\n",
        "        <td style=\"padding-left: 1em; padding-right: 1em; text-align: center; vertical-align: top\">I came across this place<br>because I would pass  ...</td>\n",
        "        <td style=\"padding-left: 1em; padding-right: 1em; text-align: center; vertical-align: top\">10</td>\n",
        "        <td style=\"padding-left: 1em; padding-right: 1em; text-align: center; vertical-align: top\">22</td>\n",
        "        <td style=\"padding-left: 1em; padding-right: 1em; text-align: center; vertical-align: top\">382</td>\n",
        "    </tr>\n",
        "</table>\n",
        "[1 rows x 6 columns]<br/>\n",
        "</div>"
       ],
       "metadata": {},
       "output_type": "pyout",
       "prompt_number": 15,
       "text": [
        "Columns:\n",
        "\tbusiness_id\tstr\n",
        "\tcategories\tstr\n",
        "\ttexts\tstr\n",
        "\ttopic50\tint\n",
        "\ttopic100\tint\n",
        "\ttopic500\tint\n",
        "\n",
        "Rows: 1\n",
        "\n",
        "Data:\n",
        "+------------------------+--------------------------------+\n",
        "|      business_id       |           categories           |\n",
        "+------------------------+--------------------------------+\n",
        "| VtHKaOSOPhZqDGf85X1oiw | [\"Food\",\"Specialty Food\",\" ... |\n",
        "+------------------------+--------------------------------+\n",
        "+--------------------------------+---------+----------+----------+\n",
        "|             texts              | topic50 | topic100 | topic500 |\n",
        "+--------------------------------+---------+----------+----------+\n",
        "| I came across this place b ... |    10   |    22    |   382    |\n",
        "+--------------------------------+---------+----------+----------+\n",
        "[1 rows x 6 columns]\n"
       ]
      }
     ],
     "prompt_number": 15
    },
    {
     "cell_type": "markdown",
     "metadata": {},
     "source": [
      "## Train and evaluate the classifier"
     ]
    },
    {
     "cell_type": "code",
     "collapsed": false,
     "input": [
      "model = graphlab.classifier.create(sf_train, 'categories', features=['topic50','topic100','topic500'], verbose=True)"
     ],
     "language": "python",
     "metadata": {},
     "outputs": [
      {
       "html": [
        "<pre>PROGRESS: Boosted trees classifier:</pre>"
       ],
       "metadata": {},
       "output_type": "display_data",
       "text": [
        "PROGRESS: Boosted trees classifier:"
       ]
      },
      {
       "html": [
        "<pre>PROGRESS: --------------------------------------------------------</pre>"
       ],
       "metadata": {},
       "output_type": "display_data",
       "text": [
        "PROGRESS: --------------------------------------------------------"
       ]
      },
      {
       "html": [
        "<pre>PROGRESS: Number of examples          : 10396</pre>"
       ],
       "metadata": {},
       "output_type": "display_data",
       "text": [
        "PROGRESS: Number of examples          : 10396"
       ]
      },
      {
       "html": [
        "<pre>PROGRESS: Number of classes           : 1954</pre>"
       ],
       "metadata": {},
       "output_type": "display_data",
       "text": [
        "PROGRESS: Number of classes           : 1954"
       ]
      },
      {
       "html": [
        "<pre>PROGRESS: Number of feature columns   : 3</pre>"
       ],
       "metadata": {},
       "output_type": "display_data",
       "text": [
        "PROGRESS: Number of feature columns   : 3"
       ]
      },
      {
       "html": [
        "<pre>PROGRESS: Number of unpacked features : 3</pre>"
       ],
       "metadata": {},
       "output_type": "display_data",
       "text": [
        "PROGRESS: Number of unpacked features : 3"
       ]
      },
      {
       "html": [
        "<pre>PROGRESS: Starting Boosted Trees</pre>"
       ],
       "metadata": {},
       "output_type": "display_data",
       "text": [
        "PROGRESS: Starting Boosted Trees"
       ]
      },
      {
       "html": [
        "<pre>PROGRESS: --------------------------------------------------------</pre>"
       ],
       "metadata": {},
       "output_type": "display_data",
       "text": [
        "PROGRESS: --------------------------------------------------------"
       ]
      },
      {
       "html": [
        "<pre>PROGRESS:   Iter    Accuracy Elapsed time</pre>"
       ],
       "metadata": {},
       "output_type": "display_data",
       "text": [
        "PROGRESS:   Iter    Accuracy Elapsed time"
       ]
      },
      {
       "html": [
        "<pre>PROGRESS:      0   1.810e-01       22.32s</pre>"
       ],
       "metadata": {},
       "output_type": "display_data",
       "text": [
        "PROGRESS:      0   1.810e-01       22.32s"
       ]
      },
      {
       "html": [
        "<pre>PROGRESS:      1   1.354e-01       39.22s</pre>"
       ],
       "metadata": {},
       "output_type": "display_data",
       "text": [
        "PROGRESS:      1   1.354e-01       39.22s"
       ]
      },
      {
       "html": [
        "<pre>PROGRESS:      2   1.535e-01       56.02s</pre>"
       ],
       "metadata": {},
       "output_type": "display_data",
       "text": [
        "PROGRESS:      2   1.535e-01       56.02s"
       ]
      },
      {
       "html": [
        "<pre>PROGRESS:      3   1.912e-01       73.07s</pre>"
       ],
       "metadata": {},
       "output_type": "display_data",
       "text": [
        "PROGRESS:      3   1.912e-01       73.07s"
       ]
      },
      {
       "html": [
        "<pre>PROGRESS:      4   2.124e-01       90.08s</pre>"
       ],
       "metadata": {},
       "output_type": "display_data",
       "text": [
        "PROGRESS:      4   2.124e-01       90.08s"
       ]
      },
      {
       "html": [
        "<pre>PROGRESS:      5   2.412e-01      109.94s</pre>"
       ],
       "metadata": {},
       "output_type": "display_data",
       "text": [
        "PROGRESS:      5   2.412e-01      109.94s"
       ]
      },
      {
       "html": [
        "<pre>PROGRESS:      6   2.841e-01      126.96s</pre>"
       ],
       "metadata": {},
       "output_type": "display_data",
       "text": [
        "PROGRESS:      6   2.841e-01      126.96s"
       ]
      },
      {
       "html": [
        "<pre>PROGRESS:      7   3.402e-01      145.09s</pre>"
       ],
       "metadata": {},
       "output_type": "display_data",
       "text": [
        "PROGRESS:      7   3.402e-01      145.09s"
       ]
      },
      {
       "html": [
        "<pre>PROGRESS:      8   3.598e-01      162.46s</pre>"
       ],
       "metadata": {},
       "output_type": "display_data",
       "text": [
        "PROGRESS:      8   3.598e-01      162.46s"
       ]
      },
      {
       "html": [
        "<pre>PROGRESS:      9   3.805e-01      180.18s</pre>"
       ],
       "metadata": {},
       "output_type": "display_data",
       "text": [
        "PROGRESS:      9   3.805e-01      180.18s"
       ]
      }
     ],
     "prompt_number": 16
    },
    {
     "cell_type": "code",
     "collapsed": false,
     "input": [
      "model.evaluate(sf_test)"
     ],
     "language": "python",
     "metadata": {},
     "outputs": [
      {
       "html": [
        "<pre>PROGRESS: WARNING: The true labels used for evaluation contains class labels that were not present in the training data. Model accuracy can be improved by adding examples with these unseen labels to the training data.</pre>"
       ],
       "metadata": {},
       "output_type": "display_data",
       "text": [
        "PROGRESS: WARNING: The true labels used for evaluation contains class labels that were not present in the training data. Model accuracy can be improved by adding examples with these unseen labels to the training data."
       ]
      },
      {
       "metadata": {},
       "output_type": "pyout",
       "prompt_number": 17,
       "text": [
        "{'accuracy': 0.26292725679228746,\n",
        " 'confusion_matrix': Columns:\n",
        "\ttarget_label\tstr\n",
        "\tpredicted_label\tstr\n",
        "\tcount\tint\n",
        "\n",
        "Rows: 813\n",
        "\n",
        "Data:\n",
        "+--------------------------------+--------------------------------+-------+\n",
        "|          target_label          |        predicted_label         | count |\n",
        "+--------------------------------+--------------------------------+-------+\n",
        "| [\"Active Life\",\"American ( ... | [\"American (Traditional)\", ... |   1   |\n",
        "| [\"Active Life\",\"Amusement  ... |  [\"Auto Repair\",\"Automotive\"]  |   1   |\n",
        "| [\"Active Life\",\"Amusement  ... |   [\"Car Wash\",\"Automotive\"]    |   1   |\n",
        "| [\"Active Life\",\"Boating\",\" ... | [\"Home Services\",\"Real Est ... |   1   |\n",
        "| [\"Active Life\",\"Boating\",\" ... |  [\"Vietnamese\",\"Restaurants\"]  |   1   |\n",
        "|   [\"Active Life\",\"Boating\"]    |   [\"Hawaiian\",\"Restaurants\"]   |   1   |\n",
        "| [\"Active Life\",\"Dance Stud ... | [\"Italian\",\"Pizza\",\"Restau ... |   1   |\n",
        "| [\"Active Life\",\"Dog Parks\" ... | [\"Active Life\",\"Dog Parks\" ... |   2   |\n",
        "| [\"Active Life\",\"Fitness &  ... | [\"Active Life\",\"Yoga\",\"Fit ... |   1   |\n",
        "| [\"Active Life\",\"Fitness &  ... | [\"Local Services\",\"Shoe Re ... |   1   |\n",
        "|              ...               |              ...               |  ...  |\n",
        "+--------------------------------+--------------------------------+-------+\n",
        "[813 rows x 3 columns]\n",
        "Note: Only the head of the SFrame is printed.\n",
        "You can use print_rows(num_rows=m, num_columns=n) to print more rows and columns.}"
       ]
      }
     ],
     "prompt_number": 17
    },
    {
     "cell_type": "markdown",
     "metadata": {},
     "source": [
      "## Note:\n",
      "*Accuracy = 26% (overfitting/leakage from test set??)*"
     ]
    }
   ],
   "metadata": {}
  }
 ]
}