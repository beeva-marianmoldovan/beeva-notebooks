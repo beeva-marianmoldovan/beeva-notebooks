{
 "metadata": {
  "name": ""
 },
 "nbformat": 3,
 "nbformat_minor": 0,
 "worksheets": [
  {
   "cells": [
    {
     "cell_type": "code",
     "collapsed": false,
     "input": [
      "import graphlab"
     ],
     "language": "python",
     "metadata": {},
     "outputs": [
      {
       "output_type": "stream",
       "stream": "stderr",
       "text": [
        "/home/enrique/herramientas/anaconda/lib/python2.7/site-packages/pytz/__init__.py:29: UserWarning: Module docutils was already imported from /home/enrique/herramientas/anaconda/lib/python2.7/site-packages/docutils/__init__.pyc, but /home/enrique/herramientas/virtualenvs/theano/lib/python2.7/site-packages is being added to sys.path\n",
        "  from pkg_resources import resource_stream\n",
        "/home/enrique/herramientas/anaconda/lib/python2.7/site-packages/pytz/__init__.py:29: UserWarning: Module numpy was already imported from /home/enrique/herramientas/anaconda/lib/python2.7/site-packages/numpy/__init__.pyc, but /home/enrique/herramientas/virtualenvs/theano/lib/python2.7/site-packages is being added to sys.path\n",
        "  from pkg_resources import resource_stream\n"
       ]
      }
     ],
     "prompt_number": 1
    },
    {
     "cell_type": "markdown",
     "metadata": {},
     "source": [
      "## Load data"
     ]
    },
    {
     "cell_type": "code",
     "collapsed": false,
     "input": [
      "sf_reviews = graphlab.SFrame.read_csv('./data/yelp/yelp_training_set/yelp_training_set_review.json', delimiter='\\n', column_type_hints=dict, header=None)\n",
      "sf_reviews = sf_reviews.unpack('X1', column_name_prefix='')\n",
      "sf_business = graphlab.SFrame.read_csv('./data/yelp/yelp_training_set/yelp_training_set_business.json', delimiter='\\n', column_type_hints=dict, header=None)\n",
      "sf_business = sf_business.unpack('X1', column_name_prefix='')"
     ],
     "language": "python",
     "metadata": {},
     "outputs": [
      {
       "output_type": "stream",
       "stream": "stderr",
       "text": [
        "[INFO] Start server at: ipc:///tmp/graphlab_server-3682 - Server binary: /home/enrique/herramientas/virtualenvs/theano/lib/python2.7/site-packages/graphlab/unity_server - Server log: /tmp/graphlab_server_1421392961.log\n"
       ]
      },
      {
       "output_type": "stream",
       "stream": "stderr",
       "text": [
        "[INFO] GraphLab Server Version: 1.2.1\n"
       ]
      },
      {
       "html": [
        "<pre>PROGRESS: Read 55824 lines. Lines per second: 5405.74</pre>"
       ],
       "metadata": {},
       "output_type": "display_data",
       "text": [
        "PROGRESS: Read 55824 lines. Lines per second: 5405.74"
       ]
      },
      {
       "html": [
        "<pre>PROGRESS: Read 111545 lines. Lines per second: 7200.32</pre>"
       ],
       "metadata": {},
       "output_type": "display_data",
       "text": [
        "PROGRESS: Read 111545 lines. Lines per second: 7200.32"
       ]
      },
      {
       "html": [
        "<pre>PROGRESS: Read 167130 lines. Lines per second: 8066.87</pre>"
       ],
       "metadata": {},
       "output_type": "display_data",
       "text": [
        "PROGRESS: Read 167130 lines. Lines per second: 8066.87"
       ]
      },
      {
       "html": [
        "<pre>PROGRESS: Finished parsing file /home/enrique/github/beeva-notebooks/doc_cluster/data/yelp/yelp_training_set/yelp_training_set_review.json</pre>"
       ],
       "metadata": {},
       "output_type": "display_data",
       "text": [
        "PROGRESS: Finished parsing file /home/enrique/github/beeva-notebooks/doc_cluster/data/yelp/yelp_training_set/yelp_training_set_review.json"
       ]
      },
      {
       "html": [
        "<pre>PROGRESS: Parsing completed. Parsed 229907 lines in 21.5057 secs.</pre>"
       ],
       "metadata": {},
       "output_type": "display_data",
       "text": [
        "PROGRESS: Parsing completed. Parsed 229907 lines in 21.5057 secs."
       ]
      },
      {
       "html": [
        "<pre>PROGRESS: Finished parsing file /home/enrique/github/beeva-notebooks/doc_cluster/data/yelp/yelp_training_set/yelp_training_set_business.json</pre>"
       ],
       "metadata": {},
       "output_type": "display_data",
       "text": [
        "PROGRESS: Finished parsing file /home/enrique/github/beeva-notebooks/doc_cluster/data/yelp/yelp_training_set/yelp_training_set_business.json"
       ]
      },
      {
       "html": [
        "<pre>PROGRESS: Parsing completed. Parsed 11537 lines in 0.372344 secs.</pre>"
       ],
       "metadata": {},
       "output_type": "display_data",
       "text": [
        "PROGRESS: Parsing completed. Parsed 11537 lines in 0.372344 secs."
       ]
      }
     ],
     "prompt_number": 2
    },
    {
     "cell_type": "code",
     "collapsed": false,
     "input": [
      "sf = sf_reviews.join(sf_business, on=['business_id'])\n",
      "print \"%s reviews\" %len(sf)\n",
      "sf.head(1)"
     ],
     "language": "python",
     "metadata": {},
     "outputs": [
      {
       "output_type": "stream",
       "stream": "stdout",
       "text": [
        "229907 reviews\n"
       ]
      },
      {
       "html": [
        "<div style=\"max-height:1000px;max-width:1500px;overflow:auto;\"><table frame=\"box\" rules=\"cols\">\n",
        "    <tr>\n",
        "        <th style=\"padding-left: 1em; padding-right: 1em; text-align: center\">business_id</th>\n",
        "        <th style=\"padding-left: 1em; padding-right: 1em; text-align: center\">date</th>\n",
        "        <th style=\"padding-left: 1em; padding-right: 1em; text-align: center\">review_id</th>\n",
        "        <th style=\"padding-left: 1em; padding-right: 1em; text-align: center\">stars</th>\n",
        "        <th style=\"padding-left: 1em; padding-right: 1em; text-align: center\">text</th>\n",
        "        <th style=\"padding-left: 1em; padding-right: 1em; text-align: center\">type</th>\n",
        "    </tr>\n",
        "    <tr>\n",
        "        <td style=\"padding-left: 1em; padding-right: 1em; text-align: center; vertical-align: top\">9yKzy9PApeiPPOUJEtnvkg</td>\n",
        "        <td style=\"padding-left: 1em; padding-right: 1em; text-align: center; vertical-align: top\">2011-01-26</td>\n",
        "        <td style=\"padding-left: 1em; padding-right: 1em; text-align: center; vertical-align: top\">fWKvX83p0-ka4JS3dc6E5A</td>\n",
        "        <td style=\"padding-left: 1em; padding-right: 1em; text-align: center; vertical-align: top\">5</td>\n",
        "        <td style=\"padding-left: 1em; padding-right: 1em; text-align: center; vertical-align: top\">My wife took me here on<br>my birthday for break ...</td>\n",
        "        <td style=\"padding-left: 1em; padding-right: 1em; text-align: center; vertical-align: top\">review</td>\n",
        "    </tr>\n",
        "</table>\n",
        "<table frame=\"box\" rules=\"cols\">\n",
        "    <tr>\n",
        "        <th style=\"padding-left: 1em; padding-right: 1em; text-align: center\">user_id</th>\n",
        "        <th style=\"padding-left: 1em; padding-right: 1em; text-align: center\">votes</th>\n",
        "        <th style=\"padding-left: 1em; padding-right: 1em; text-align: center\">categories</th>\n",
        "        <th style=\"padding-left: 1em; padding-right: 1em; text-align: center\">city</th>\n",
        "        <th style=\"padding-left: 1em; padding-right: 1em; text-align: center\">full_address</th>\n",
        "    </tr>\n",
        "    <tr>\n",
        "        <td style=\"padding-left: 1em; padding-right: 1em; text-align: center; vertical-align: top\">rLtl8ZkDX5vH5nAx9C3q5Q</td>\n",
        "        <td style=\"padding-left: 1em; padding-right: 1em; text-align: center; vertical-align: top\">{'funny': 0, 'useful': 5,<br>'cool': 2}</td>\n",
        "        <td style=\"padding-left: 1em; padding-right: 1em; text-align: center; vertical-align: top\">[\"Breakfast &amp;<br>Brunch\",\"Restaurants\"]</td>\n",
        "        <td style=\"padding-left: 1em; padding-right: 1em; text-align: center; vertical-align: top\">Phoenix</td>\n",
        "        <td style=\"padding-left: 1em; padding-right: 1em; text-align: center; vertical-align: top\">6106 S 32nd St\\nPhoenix,<br>AZ 85042</td>\n",
        "    </tr>\n",
        "</table>\n",
        "<table frame=\"box\" rules=\"cols\">\n",
        "    <tr>\n",
        "        <th style=\"padding-left: 1em; padding-right: 1em; text-align: center\">latitude</th>\n",
        "        <th style=\"padding-left: 1em; padding-right: 1em; text-align: center\">longitude</th>\n",
        "        <th style=\"padding-left: 1em; padding-right: 1em; text-align: center\">name</th>\n",
        "        <th style=\"padding-left: 1em; padding-right: 1em; text-align: center\">neighborhoods</th>\n",
        "        <th style=\"padding-left: 1em; padding-right: 1em; text-align: center\">open</th>\n",
        "        <th style=\"padding-left: 1em; padding-right: 1em; text-align: center\">review_count</th>\n",
        "        <th style=\"padding-left: 1em; padding-right: 1em; text-align: center\">stars.1</th>\n",
        "        <th style=\"padding-left: 1em; padding-right: 1em; text-align: center\">state</th>\n",
        "        <th style=\"padding-left: 1em; padding-right: 1em; text-align: center\">type.1</th>\n",
        "    </tr>\n",
        "    <tr>\n",
        "        <td style=\"padding-left: 1em; padding-right: 1em; text-align: center; vertical-align: top\">33.390792</td>\n",
        "        <td style=\"padding-left: 1em; padding-right: 1em; text-align: center; vertical-align: top\">-112.012504</td>\n",
        "        <td style=\"padding-left: 1em; padding-right: 1em; text-align: center; vertical-align: top\">Morning Glory Cafe</td>\n",
        "        <td style=\"padding-left: 1em; padding-right: 1em; text-align: center; vertical-align: top\">array('d')</td>\n",
        "        <td style=\"padding-left: 1em; padding-right: 1em; text-align: center; vertical-align: top\">true</td>\n",
        "        <td style=\"padding-left: 1em; padding-right: 1em; text-align: center; vertical-align: top\">116</td>\n",
        "        <td style=\"padding-left: 1em; padding-right: 1em; text-align: center; vertical-align: top\">4.0</td>\n",
        "        <td style=\"padding-left: 1em; padding-right: 1em; text-align: center; vertical-align: top\">AZ</td>\n",
        "        <td style=\"padding-left: 1em; padding-right: 1em; text-align: center; vertical-align: top\">business</td>\n",
        "    </tr>\n",
        "</table>\n",
        "[1 rows x 20 columns]<br/>\n",
        "</div>"
       ],
       "metadata": {},
       "output_type": "pyout",
       "prompt_number": 3,
       "text": [
        "Columns:\n",
        "\tbusiness_id\tstr\n",
        "\tdate\tstr\n",
        "\treview_id\tstr\n",
        "\tstars\tint\n",
        "\ttext\tstr\n",
        "\ttype\tstr\n",
        "\tuser_id\tstr\n",
        "\tvotes\tdict\n",
        "\tcategories\tstr\n",
        "\tcity\tstr\n",
        "\tfull_address\tstr\n",
        "\tlatitude\tfloat\n",
        "\tlongitude\tfloat\n",
        "\tname\tstr\n",
        "\tneighborhoods\tarray\n",
        "\topen\tstr\n",
        "\treview_count\tint\n",
        "\tstars.1\tfloat\n",
        "\tstate\tstr\n",
        "\ttype.1\tstr\n",
        "\n",
        "Rows: 1\n",
        "\n",
        "Data:\n",
        "+------------------------+------------+------------------------+-------+\n",
        "|      business_id       |    date    |       review_id        | stars |\n",
        "+------------------------+------------+------------------------+-------+\n",
        "| 9yKzy9PApeiPPOUJEtnvkg | 2011-01-26 | fWKvX83p0-ka4JS3dc6E5A |   5   |\n",
        "+------------------------+------------+------------------------+-------+\n",
        "+--------------------------------+--------+------------------------+\n",
        "|              text              |  type  |        user_id         |\n",
        "+--------------------------------+--------+------------------------+\n",
        "| My wife took me here on my ... | review | rLtl8ZkDX5vH5nAx9C3q5Q |\n",
        "+--------------------------------+--------+------------------------+\n",
        "+--------------------------------+--------------------------------+---------+\n",
        "|             votes              |           categories           |   city  |\n",
        "+--------------------------------+--------------------------------+---------+\n",
        "| {'funny': 0, 'useful': 5,  ... | [\"Breakfast & Brunch\",\"Res ... | Phoenix |\n",
        "+--------------------------------+--------------------------------+---------+\n",
        "+--------------------------------+-----------+-------------+--------------------+\n",
        "|          full_address          |  latitude |  longitude  |        name        |\n",
        "+--------------------------------+-----------+-------------+--------------------+\n",
        "| 6106 S 32nd St\\nPhoenix, A ... | 33.390792 | -112.012504 | Morning Glory Cafe |\n",
        "+--------------------------------+-----------+-------------+--------------------+\n",
        "+---------------+------+--------------+---------+-------+----------+\n",
        "| neighborhoods | open | review_count | stars.1 | state |  type.1  |\n",
        "+---------------+------+--------------+---------+-------+----------+\n",
        "|   array('d')  | true |     116      |   4.0   |   AZ  | business |\n",
        "+---------------+------+--------------+---------+-------+----------+\n",
        "[1 rows x 20 columns]\n"
       ]
      }
     ],
     "prompt_number": 3
    },
    {
     "cell_type": "code",
     "collapsed": false,
     "input": [
      "sf_reviews2 = sf.groupby([\"business_id\", \"categories\"], {\"texts\":graphlab.aggregate.CONCAT(\"text\")})\n",
      "sf_reviews2['texts'] = sf_reviews2['texts'].apply(lambda x: \" \".join(x))\n",
      "print \"%s business\" %len(sf_reviews2)\n",
      "sf_reviews2.head(1)"
     ],
     "language": "python",
     "metadata": {},
     "outputs": [
      {
       "output_type": "stream",
       "stream": "stdout",
       "text": [
        "11537 business\n"
       ]
      },
      {
       "html": [
        "<div style=\"max-height:1000px;max-width:1500px;overflow:auto;\"><table frame=\"box\" rules=\"cols\">\n",
        "    <tr>\n",
        "        <th style=\"padding-left: 1em; padding-right: 1em; text-align: center\">business_id</th>\n",
        "        <th style=\"padding-left: 1em; padding-right: 1em; text-align: center\">categories</th>\n",
        "        <th style=\"padding-left: 1em; padding-right: 1em; text-align: center\">texts</th>\n",
        "    </tr>\n",
        "    <tr>\n",
        "        <td style=\"padding-left: 1em; padding-right: 1em; text-align: center; vertical-align: top\">VtHKaOSOPhZqDGf85X1oiw</td>\n",
        "        <td style=\"padding-left: 1em; padding-right: 1em; text-align: center; vertical-align: top\">[\"Food\",\"Specialty Food\",<br>\"Restaurants\",\"Italian\"]</td>\n",
        "        <td style=\"padding-left: 1em; padding-right: 1em; text-align: center; vertical-align: top\">I came across this place<br>because I would pass  ...</td>\n",
        "    </tr>\n",
        "</table>\n",
        "[1 rows x 3 columns]<br/>\n",
        "</div>"
       ],
       "metadata": {},
       "output_type": "pyout",
       "prompt_number": 5,
       "text": [
        "Columns:\n",
        "\tbusiness_id\tstr\n",
        "\tcategories\tstr\n",
        "\ttexts\tstr\n",
        "\n",
        "Rows: 1\n",
        "\n",
        "Data:\n",
        "+------------------------+--------------------------------+\n",
        "|      business_id       |           categories           |\n",
        "+------------------------+--------------------------------+\n",
        "| VtHKaOSOPhZqDGf85X1oiw | [\"Food\",\"Specialty Food\",\" ... |\n",
        "+------------------------+--------------------------------+\n",
        "+--------------------------------+\n",
        "|             texts              |\n",
        "+--------------------------------+\n",
        "| I came across this place b ... |\n",
        "+--------------------------------+\n",
        "[1 rows x 3 columns]\n"
       ]
      }
     ],
     "prompt_number": 5
    },
    {
     "cell_type": "markdown",
     "metadata": {},
     "source": [
      "## Text Analytics"
     ]
    },
    {
     "cell_type": "code",
     "collapsed": false,
     "input": [
      "bow = graphlab.text_analytics.count_words(sf_reviews2['texts'])\n",
      "bow = bow.dict_trim_by_keys(graphlab.text_analytics.stopwords(), exclude=True)\n",
      "bow = bow.dict_trim_by_values(3)\n",
      "tf_idf = graphlab.text_analytics.tf_idf(bow)"
     ],
     "language": "python",
     "metadata": {},
     "outputs": [],
     "prompt_number": 6
    },
    {
     "cell_type": "code",
     "collapsed": false,
     "input": [
      "print bow[0]\n",
      "print tf_idf[0]"
     ],
     "language": "python",
     "metadata": {},
     "outputs": [
      {
       "output_type": "stream",
       "stream": "stdout",
       "text": [
        "{'owner': 5, 'home': 5, 'open': 4, 'sauces': 7, 'italy': 3, 'butternut': 3, 'truffle': 3, 'sauce': 15, 'ravioli': 5, 'butter': 4, 'sugo': 5, 'good': 6, 'food': 3, 'stop': 3, 'hours': 3, 'lunch': 8, 'pasta': 25, 'super': 4, 'day': 3, 'tomato': 4, 'great': 5, 'meat': 3, 'didn': 3, 'place': 8, 'fresh': 3, 'biscuits': 3, 'side': 3}\n",
        "{'owner': 12.424533248940001, 'home': 8.047189562170502, 'open': 8.317766166719343, 'sauces': 25.995004466930155, 'italy': 15.677240021139605, 'butternut': 16.26160499781686, 'truffle': 15.011838917836378, 'sauce': 26.876392038420825, 'ravioli': 23.17364494114818, 'tomato': 11.777755916665761, 'sugo': 46.766572704636445, 'good': 0.0, 'food': 2.0794415416798357, 'stop': 6.907755278982138, 'hours': 7.4547199493640015, 'lunch': 12.875503299472802, 'pasta': 82.39592165010822, 'super': 7.783640596221253, 'day': 4.1588830833596715, 'butter': 12.541976863716599, 'great': 3.4657359027997265, 'meat': 5.8377304471659395, 'didn': 3.295836866004329, 'place': 0.0, 'fresh': 4.828313737302301, 'biscuits': 14.286521804393269, 'side': 5.375278407684165}"
       ]
      },
      {
       "output_type": "stream",
       "stream": "stdout",
       "text": [
        "\n"
       ]
      }
     ],
     "prompt_number": 7
    },
    {
     "cell_type": "code",
     "collapsed": false,
     "input": [
      "model50 = graphlab.topic_model.create(tf_idf,50)\n",
      "model50.summary()\n",
      "sf_reviews2['topic50'] = model50.predict(tf_idf)\n",
      "model50.get_topics().show()"
     ],
     "language": "python",
     "metadata": {},
     "outputs": [
      {
       "html": [
        "<pre>PROGRESS: Learning a topic model</pre>"
       ],
       "metadata": {},
       "output_type": "display_data",
       "text": [
        "PROGRESS: Learning a topic model"
       ]
      },
      {
       "html": [
        "<pre>PROGRESS:        Number of documents     11537</pre>"
       ],
       "metadata": {},
       "output_type": "display_data",
       "text": [
        "PROGRESS:        Number of documents     11537"
       ]
      },
      {
       "html": [
        "<pre>PROGRESS:            Vocabulary size     21369</pre>"
       ],
       "metadata": {},
       "output_type": "display_data",
       "text": [
        "PROGRESS:            Vocabulary size     21369"
       ]
      },
      {
       "html": [
        "<pre>PROGRESS:    Running collapsed Gibbs sampling</pre>"
       ],
       "metadata": {},
       "output_type": "display_data",
       "text": [
        "PROGRESS:    Running collapsed Gibbs sampling"
       ]
      },
      {
       "html": [
        "<pre>PROGRESS: +-----------+---------------+----------------+-----------------+</pre>"
       ],
       "metadata": {},
       "output_type": "display_data",
       "text": [
        "PROGRESS: +-----------+---------------+----------------+-----------------+"
       ]
      },
      {
       "html": [
        "<pre>PROGRESS: | Iteration | Elapsed Time  | Tokens/Second  | Est. Perplexity |</pre>"
       ],
       "metadata": {},
       "output_type": "display_data",
       "text": [
        "PROGRESS: | Iteration | Elapsed Time  | Tokens/Second  | Est. Perplexity |"
       ]
      },
      {
       "html": [
        "<pre>PROGRESS: +-----------+---------------+----------------+-----------------+</pre>"
       ],
       "metadata": {},
       "output_type": "display_data",
       "text": [
        "PROGRESS: +-----------+---------------+----------------+-----------------+"
       ]
      },
      {
       "html": [
        "<pre>PROGRESS: | 10        | 4.15s         | 2.43535e+06    | 0               |</pre>"
       ],
       "metadata": {},
       "output_type": "display_data",
       "text": [
        "PROGRESS: | 10        | 4.15s         | 2.43535e+06    | 0               |"
       ]
      },
      {
       "html": [
        "<pre>PROGRESS: +-----------+---------------+----------------+-----------------+</pre>"
       ],
       "metadata": {},
       "output_type": "display_data",
       "text": [
        "PROGRESS: +-----------+---------------+----------------+-----------------+"
       ]
      },
      {
       "output_type": "stream",
       "stream": "stdout",
       "text": [
        "Topic Model\n",
        "  Data:\n",
        "      Vocabulary size:     21369\n",
        "  Settings:\n",
        "      Number of topics:    50\n",
        "      alpha:               1.0\n",
        "      beta:                0.1\n",
        "      Iterations:          10\n",
        "      Verbose:             False\n",
        "  Accessible fields:\n",
        "      m['topics']          An SFrame containing the topics.\n",
        "      m['vocabulary']      An SArray containing the topics.\n",
        "  Useful methods:\n",
        "      m.get_topics()       Get the most probable words per topic.\n",
        "      m.predict(new_docs)  Make predictions for new documents.\n"
       ]
      },
      {
       "output_type": "stream",
       "stream": "stdout",
       "text": [
        "\n"
       ]
      }
     ],
     "prompt_number": 8
    },
    {
     "cell_type": "code",
     "collapsed": false,
     "input": [
      "model100 = graphlab.topic_model.create(tf_idf,100)\n",
      "model100.summary()\n",
      "sf_reviews2['topic100'] = model100.predict(tf_idf)\n",
      "#model100.get_topics().show()"
     ],
     "language": "python",
     "metadata": {},
     "outputs": [
      {
       "html": [
        "<pre>PROGRESS: Learning a topic model</pre>"
       ],
       "metadata": {},
       "output_type": "display_data",
       "text": [
        "PROGRESS: Learning a topic model"
       ]
      },
      {
       "html": [
        "<pre>PROGRESS:        Number of documents     11537</pre>"
       ],
       "metadata": {},
       "output_type": "display_data",
       "text": [
        "PROGRESS:        Number of documents     11537"
       ]
      },
      {
       "html": [
        "<pre>PROGRESS:            Vocabulary size     21369</pre>"
       ],
       "metadata": {},
       "output_type": "display_data",
       "text": [
        "PROGRESS:            Vocabulary size     21369"
       ]
      },
      {
       "html": [
        "<pre>PROGRESS:    Running collapsed Gibbs sampling</pre>"
       ],
       "metadata": {},
       "output_type": "display_data",
       "text": [
        "PROGRESS:    Running collapsed Gibbs sampling"
       ]
      },
      {
       "html": [
        "<pre>PROGRESS: +-----------+---------------+----------------+-----------------+</pre>"
       ],
       "metadata": {},
       "output_type": "display_data",
       "text": [
        "PROGRESS: +-----------+---------------+----------------+-----------------+"
       ]
      },
      {
       "html": [
        "<pre>PROGRESS: | Iteration | Elapsed Time  | Tokens/Second  | Est. Perplexity |</pre>"
       ],
       "metadata": {},
       "output_type": "display_data",
       "text": [
        "PROGRESS: | Iteration | Elapsed Time  | Tokens/Second  | Est. Perplexity |"
       ]
      },
      {
       "html": [
        "<pre>PROGRESS: +-----------+---------------+----------------+-----------------+</pre>"
       ],
       "metadata": {},
       "output_type": "display_data",
       "text": [
        "PROGRESS: +-----------+---------------+----------------+-----------------+"
       ]
      },
      {
       "html": [
        "<pre>PROGRESS: | 10        | 8.12s         | 1.26969e+06    | 0               |</pre>"
       ],
       "metadata": {},
       "output_type": "display_data",
       "text": [
        "PROGRESS: | 10        | 8.12s         | 1.26969e+06    | 0               |"
       ]
      },
      {
       "html": [
        "<pre>PROGRESS: +-----------+---------------+----------------+-----------------+</pre>"
       ],
       "metadata": {},
       "output_type": "display_data",
       "text": [
        "PROGRESS: +-----------+---------------+----------------+-----------------+"
       ]
      },
      {
       "output_type": "stream",
       "stream": "stdout",
       "text": [
        "Topic Model\n",
        "  Data:\n",
        "      Vocabulary size:     21369\n",
        "  Settings:\n",
        "      Number of topics:    100\n",
        "      alpha:               0.5\n",
        "      beta:                0.1\n",
        "      Iterations:          10\n",
        "      Verbose:             False\n",
        "  Accessible fields:\n",
        "      m['topics']          An SFrame containing the topics.\n",
        "      m['vocabulary']      An SArray containing the topics.\n",
        "  Useful methods:\n",
        "      m.get_topics()       Get the most probable words per topic.\n",
        "      m.predict(new_docs)  Make predictions for new documents.\n"
       ]
      },
      {
       "output_type": "stream",
       "stream": "stdout",
       "text": [
        "\n"
       ]
      }
     ],
     "prompt_number": 9
    },
    {
     "cell_type": "code",
     "collapsed": false,
     "input": [
      "model500 = graphlab.topic_model.create(tf_idf,500)\n",
      "model500.summary()\n",
      "sf_reviews2['topic500'] = model500.predict(tf_idf)\n",
      "#model500.get_topics().show()"
     ],
     "language": "python",
     "metadata": {},
     "outputs": [
      {
       "html": [
        "<pre>PROGRESS: Learning a topic model</pre>"
       ],
       "metadata": {},
       "output_type": "display_data",
       "text": [
        "PROGRESS: Learning a topic model"
       ]
      },
      {
       "html": [
        "<pre>PROGRESS:        Number of documents     11537</pre>"
       ],
       "metadata": {},
       "output_type": "display_data",
       "text": [
        "PROGRESS:        Number of documents     11537"
       ]
      },
      {
       "html": [
        "<pre>PROGRESS:            Vocabulary size     21369</pre>"
       ],
       "metadata": {},
       "output_type": "display_data",
       "text": [
        "PROGRESS:            Vocabulary size     21369"
       ]
      },
      {
       "html": [
        "<pre>PROGRESS:    Running collapsed Gibbs sampling</pre>"
       ],
       "metadata": {},
       "output_type": "display_data",
       "text": [
        "PROGRESS:    Running collapsed Gibbs sampling"
       ]
      },
      {
       "html": [
        "<pre>PROGRESS: +-----------+---------------+----------------+-----------------+</pre>"
       ],
       "metadata": {},
       "output_type": "display_data",
       "text": [
        "PROGRESS: +-----------+---------------+----------------+-----------------+"
       ]
      },
      {
       "html": [
        "<pre>PROGRESS: | Iteration | Elapsed Time  | Tokens/Second  | Est. Perplexity |</pre>"
       ],
       "metadata": {},
       "output_type": "display_data",
       "text": [
        "PROGRESS: | Iteration | Elapsed Time  | Tokens/Second  | Est. Perplexity |"
       ]
      },
      {
       "html": [
        "<pre>PROGRESS: +-----------+---------------+----------------+-----------------+</pre>"
       ],
       "metadata": {},
       "output_type": "display_data",
       "text": [
        "PROGRESS: +-----------+---------------+----------------+-----------------+"
       ]
      },
      {
       "html": [
        "<pre>PROGRESS: | 10        | 1m 14s        | 133767         | 0               |</pre>"
       ],
       "metadata": {},
       "output_type": "display_data",
       "text": [
        "PROGRESS: | 10        | 1m 14s        | 133767         | 0               |"
       ]
      },
      {
       "html": [
        "<pre>PROGRESS: +-----------+---------------+----------------+-----------------+</pre>"
       ],
       "metadata": {},
       "output_type": "display_data",
       "text": [
        "PROGRESS: +-----------+---------------+----------------+-----------------+"
       ]
      },
      {
       "output_type": "stream",
       "stream": "stdout",
       "text": [
        "Topic Model\n",
        "  Data:\n",
        "      Vocabulary size:     21369\n",
        "  Settings:\n",
        "      Number of topics:    500\n",
        "      alpha:               0.1\n",
        "      beta:                0.1\n",
        "      Iterations:          10\n",
        "      Verbose:             False\n",
        "  Accessible fields:\n",
        "      m['topics']          An SFrame containing the topics.\n",
        "      m['vocabulary']      An SArray containing the topics.\n",
        "  Useful methods:\n",
        "      m.get_topics()       Get the most probable words per topic.\n",
        "      m.predict(new_docs)  Make predictions for new documents.\n"
       ]
      },
      {
       "output_type": "stream",
       "stream": "stdout",
       "text": [
        "\n"
       ]
      }
     ],
     "prompt_number": 10
    },
    {
     "cell_type": "markdown",
     "metadata": {},
     "source": [
      "## Split dataset for test"
     ]
    },
    {
     "cell_type": "code",
     "collapsed": false,
     "input": [
      "sf_train, sf_test = sf_reviews2.random_split(.9, seed=5)\n",
      "sf_train.head(1)"
     ],
     "language": "python",
     "metadata": {},
     "outputs": [
      {
       "html": [
        "<div style=\"max-height:1000px;max-width:1500px;overflow:auto;\"><table frame=\"box\" rules=\"cols\">\n",
        "    <tr>\n",
        "        <th style=\"padding-left: 1em; padding-right: 1em; text-align: center\">business_id</th>\n",
        "        <th style=\"padding-left: 1em; padding-right: 1em; text-align: center\">categories</th>\n",
        "        <th style=\"padding-left: 1em; padding-right: 1em; text-align: center\">texts</th>\n",
        "        <th style=\"padding-left: 1em; padding-right: 1em; text-align: center\">topic50</th>\n",
        "        <th style=\"padding-left: 1em; padding-right: 1em; text-align: center\">topic100</th>\n",
        "        <th style=\"padding-left: 1em; padding-right: 1em; text-align: center\">topic500</th>\n",
        "    </tr>\n",
        "    <tr>\n",
        "        <td style=\"padding-left: 1em; padding-right: 1em; text-align: center; vertical-align: top\">VtHKaOSOPhZqDGf85X1oiw</td>\n",
        "        <td style=\"padding-left: 1em; padding-right: 1em; text-align: center; vertical-align: top\">[\"Food\",\"Specialty Food\",<br>\"Restaurants\",\"Italian\"]</td>\n",
        "        <td style=\"padding-left: 1em; padding-right: 1em; text-align: center; vertical-align: top\">I came across this place<br>because I would pass  ...</td>\n",
        "        <td style=\"padding-left: 1em; padding-right: 1em; text-align: center; vertical-align: top\">16</td>\n",
        "        <td style=\"padding-left: 1em; padding-right: 1em; text-align: center; vertical-align: top\">62</td>\n",
        "        <td style=\"padding-left: 1em; padding-right: 1em; text-align: center; vertical-align: top\">371</td>\n",
        "    </tr>\n",
        "</table>\n",
        "[1 rows x 6 columns]<br/>\n",
        "</div>"
       ],
       "metadata": {},
       "output_type": "pyout",
       "prompt_number": 11,
       "text": [
        "Columns:\n",
        "\tbusiness_id\tstr\n",
        "\tcategories\tstr\n",
        "\ttexts\tstr\n",
        "\ttopic50\tint\n",
        "\ttopic100\tint\n",
        "\ttopic500\tint\n",
        "\n",
        "Rows: 1\n",
        "\n",
        "Data:\n",
        "+------------------------+--------------------------------+\n",
        "|      business_id       |           categories           |\n",
        "+------------------------+--------------------------------+\n",
        "| VtHKaOSOPhZqDGf85X1oiw | [\"Food\",\"Specialty Food\",\" ... |\n",
        "+------------------------+--------------------------------+\n",
        "+--------------------------------+---------+----------+----------+\n",
        "|             texts              | topic50 | topic100 | topic500 |\n",
        "+--------------------------------+---------+----------+----------+\n",
        "| I came across this place b ... |    16   |    62    |   371    |\n",
        "+--------------------------------+---------+----------+----------+\n",
        "[1 rows x 6 columns]\n"
       ]
      }
     ],
     "prompt_number": 11
    },
    {
     "cell_type": "markdown",
     "metadata": {},
     "source": [
      "## Train and evaluate the classifier"
     ]
    },
    {
     "cell_type": "code",
     "collapsed": false,
     "input": [
      "model = graphlab.classifier.create(sf_train, 'categories', features=['topic50','topic100','topic500'], verbose=True)"
     ],
     "language": "python",
     "metadata": {},
     "outputs": [
      {
       "html": [
        "<pre>PROGRESS: Boosted trees classifier:</pre>"
       ],
       "metadata": {},
       "output_type": "display_data",
       "text": [
        "PROGRESS: Boosted trees classifier:"
       ]
      },
      {
       "html": [
        "<pre>PROGRESS: --------------------------------------------------------</pre>"
       ],
       "metadata": {},
       "output_type": "display_data",
       "text": [
        "PROGRESS: --------------------------------------------------------"
       ]
      },
      {
       "html": [
        "<pre>PROGRESS: Number of examples          : 10396</pre>"
       ],
       "metadata": {},
       "output_type": "display_data",
       "text": [
        "PROGRESS: Number of examples          : 10396"
       ]
      },
      {
       "html": [
        "<pre>PROGRESS: Number of classes           : 1954</pre>"
       ],
       "metadata": {},
       "output_type": "display_data",
       "text": [
        "PROGRESS: Number of classes           : 1954"
       ]
      },
      {
       "html": [
        "<pre>PROGRESS: Number of feature columns   : 3</pre>"
       ],
       "metadata": {},
       "output_type": "display_data",
       "text": [
        "PROGRESS: Number of feature columns   : 3"
       ]
      },
      {
       "html": [
        "<pre>PROGRESS: Number of unpacked features : 3</pre>"
       ],
       "metadata": {},
       "output_type": "display_data",
       "text": [
        "PROGRESS: Number of unpacked features : 3"
       ]
      },
      {
       "html": [
        "<pre>PROGRESS: Starting Boosted Trees</pre>"
       ],
       "metadata": {},
       "output_type": "display_data",
       "text": [
        "PROGRESS: Starting Boosted Trees"
       ]
      },
      {
       "html": [
        "<pre>PROGRESS: --------------------------------------------------------</pre>"
       ],
       "metadata": {},
       "output_type": "display_data",
       "text": [
        "PROGRESS: --------------------------------------------------------"
       ]
      },
      {
       "html": [
        "<pre>PROGRESS:   Iter    Accuracy Elapsed time</pre>"
       ],
       "metadata": {},
       "output_type": "display_data",
       "text": [
        "PROGRESS:   Iter    Accuracy Elapsed time"
       ]
      },
      {
       "html": [
        "<pre>PROGRESS:      0   1.651e-01       16.76s</pre>"
       ],
       "metadata": {},
       "output_type": "display_data",
       "text": [
        "PROGRESS:      0   1.651e-01       16.76s"
       ]
      },
      {
       "html": [
        "<pre>PROGRESS:      1   1.202e-01       33.31s</pre>"
       ],
       "metadata": {},
       "output_type": "display_data",
       "text": [
        "PROGRESS:      1   1.202e-01       33.31s"
       ]
      },
      {
       "html": [
        "<pre>PROGRESS:      2   1.814e-01       49.78s</pre>"
       ],
       "metadata": {},
       "output_type": "display_data",
       "text": [
        "PROGRESS:      2   1.814e-01       49.78s"
       ]
      },
      {
       "html": [
        "<pre>PROGRESS:      3   2.061e-01       66.61s</pre>"
       ],
       "metadata": {},
       "output_type": "display_data",
       "text": [
        "PROGRESS:      3   2.061e-01       66.61s"
       ]
      },
      {
       "html": [
        "<pre>PROGRESS:      4   2.471e-01       83.14s</pre>"
       ],
       "metadata": {},
       "output_type": "display_data",
       "text": [
        "PROGRESS:      4   2.471e-01       83.14s"
       ]
      },
      {
       "html": [
        "<pre>PROGRESS:      5   2.563e-01       99.74s</pre>"
       ],
       "metadata": {},
       "output_type": "display_data",
       "text": [
        "PROGRESS:      5   2.563e-01       99.74s"
       ]
      },
      {
       "html": [
        "<pre>PROGRESS:      6   2.935e-01      116.52s</pre>"
       ],
       "metadata": {},
       "output_type": "display_data",
       "text": [
        "PROGRESS:      6   2.935e-01      116.52s"
       ]
      },
      {
       "html": [
        "<pre>PROGRESS:      7   3.166e-01      133.18s</pre>"
       ],
       "metadata": {},
       "output_type": "display_data",
       "text": [
        "PROGRESS:      7   3.166e-01      133.18s"
       ]
      },
      {
       "html": [
        "<pre>PROGRESS:      8   3.493e-01      149.77s</pre>"
       ],
       "metadata": {},
       "output_type": "display_data",
       "text": [
        "PROGRESS:      8   3.493e-01      149.77s"
       ]
      },
      {
       "html": [
        "<pre>PROGRESS:      9   3.838e-01      166.49s</pre>"
       ],
       "metadata": {},
       "output_type": "display_data",
       "text": [
        "PROGRESS:      9   3.838e-01      166.49s"
       ]
      }
     ],
     "prompt_number": 12
    },
    {
     "cell_type": "code",
     "collapsed": false,
     "input": [
      "model.evaluate(sf_test)"
     ],
     "language": "python",
     "metadata": {},
     "outputs": [
      {
       "html": [
        "<pre>PROGRESS: WARNING: The true labels used for evaluation contains class labels that were not present in the training data. Model accuracy can be improved by adding examples with these unseen labels to the training data.</pre>"
       ],
       "metadata": {},
       "output_type": "display_data",
       "text": [
        "PROGRESS: WARNING: The true labels used for evaluation contains class labels that were not present in the training data. Model accuracy can be improved by adding examples with these unseen labels to the training data."
       ]
      },
      {
       "metadata": {},
       "output_type": "pyout",
       "prompt_number": 13,
       "text": [
        "{'accuracy': 0.26029798422436456,\n",
        " 'confusion_matrix': Columns:\n",
        "\ttarget_label\tstr\n",
        "\tpredicted_label\tstr\n",
        "\tcount\tint\n",
        "\n",
        "Rows: 844\n",
        "\n",
        "Data:\n",
        "+--------------------------------+--------------------------------+-------+\n",
        "|          target_label          |        predicted_label         | count |\n",
        "+--------------------------------+--------------------------------+-------+\n",
        "| [\"Active Life\",\"American ( ... | [\"Bars\",\"Restaurants\",\"Ame ... |   1   |\n",
        "| [\"Active Life\",\"Amusement  ... |  [\"Sandwiches\",\"Restaurants\"]  |   1   |\n",
        "| [\"Active Life\",\"Amusement  ... |   [\"Mexican\",\"Restaurants\"]    |   1   |\n",
        "| [\"Active Life\",\"Boating\",\" ... |   [\"Barbeque\",\"Restaurants\"]   |   2   |\n",
        "|   [\"Active Life\",\"Boating\"]    |   [\"Restaurants\",\"Italian\"]    |   1   |\n",
        "| [\"Active Life\",\"Dance Stud ... |  [\"Sandwiches\",\"Restaurants\"]  |   1   |\n",
        "| [\"Active Life\",\"Dog Parks\" ... | [\"Hotels & Travel\",\"Event  ... |   1   |\n",
        "| [\"Active Life\",\"Dog Parks\" ... | [\"Pet Services\",\"Pet Board ... |   1   |\n",
        "| [\"Active Life\",\"Fitness &  ... | [\"Active Life\",\"Yoga\",\"Fit ... |   1   |\n",
        "| [\"Active Life\",\"Fitness &  ... | [\"Fashion\",\"Shopping\",\"Sho ... |   1   |\n",
        "|              ...               |              ...               |  ...  |\n",
        "+--------------------------------+--------------------------------+-------+\n",
        "[844 rows x 3 columns]\n",
        "Note: Only the head of the SFrame is printed.\n",
        "You can use print_rows(num_rows=m, num_columns=n) to print more rows and columns.}"
       ]
      }
     ],
     "prompt_number": 13
    },
    {
     "cell_type": "markdown",
     "metadata": {},
     "source": [
      "## Note:\n",
      "*Accuracy = 26% (overfitting/leakage from test set??)*"
     ]
    }
   ],
   "metadata": {}
  }
 ]
}